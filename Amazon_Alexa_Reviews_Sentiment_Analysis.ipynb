{
  "nbformat": 4,
  "nbformat_minor": 0,
  "metadata": {
    "colab": {
      "provenance": [],
      "authorship_tag": "ABX9TyOZGJLVpIcKih1DNQvm8dOE",
      "include_colab_link": true
    },
    "kernelspec": {
      "name": "python3",
      "display_name": "Python 3"
    },
    "language_info": {
      "name": "python"
    }
  },
  "cells": [
    {
      "cell_type": "markdown",
      "metadata": {
        "id": "view-in-github",
        "colab_type": "text"
      },
      "source": [
        "<a href=\"https://colab.research.google.com/github/mukulre/Projects/blob/main/Amazon_Alexa_Reviews_Sentiment_Analysis.ipynb\" target=\"_parent\"><img src=\"https://colab.research.google.com/assets/colab-badge.svg\" alt=\"Open In Colab\"/></a>"
      ]
    },
    {
      "cell_type": "code",
      "execution_count": 4,
      "metadata": {
        "colab": {
          "base_uri": "https://localhost:8080/"
        },
        "id": "L1KyIVrQNWca",
        "outputId": "faab7ede-ea34-410e-c149-2f6941936ec2"
      },
      "outputs": [
        {
          "output_type": "stream",
          "name": "stdout",
          "text": [
            "   rating       date         variation  \\\n",
            "0       5  31-Jul-18  Charcoal Fabric    \n",
            "1       5  31-Jul-18  Charcoal Fabric    \n",
            "2       4  31-Jul-18    Walnut Finish    \n",
            "3       5  31-Jul-18  Charcoal Fabric    \n",
            "4       5  31-Jul-18  Charcoal Fabric    \n",
            "\n",
            "                                    verified_reviews  feedback  \n",
            "0                                      Love my Echo!         1  \n",
            "1                                          Loved it!         1  \n",
            "2  Sometimes while playing a game, you can answer...         1  \n",
            "3  I have had a lot of fun with this thing. My 4 ...         1  \n",
            "4                                              Music         1  \n"
          ]
        },
        {
          "output_type": "stream",
          "name": "stderr",
          "text": [
            "[nltk_data] Downloading package vader_lexicon to /root/nltk_data...\n",
            "[nltk_data]   Package vader_lexicon is already up-to-date!\n"
          ]
        }
      ],
      "source": [
        "import nltk\n",
        "\n",
        "nltk.download('vader_lexicon')\n",
        "\n",
        "import pandas as pd\n",
        "import seaborn as sns\n",
        "import matplotlib.pyplot as plt\n",
        "from nltk.sentiment.vader import SentimentIntensityAnalyzer\n",
        "\n",
        "# Now you can initialize the SentimentIntensityAnalyzer\n",
        "sentiments = SentimentIntensityAnalyzer()\n",
        "\n",
        "data = pd.read_csv(\"/content/amazon_alexa.tsv\", delimiter='\\t')\n",
        "print(data.head())"
      ]
    },
    {
      "cell_type": "code",
      "source": [
        "print(data.describe())\n",
        "print(data.isnull().sum())\n",
        "print(data.columns)"
      ],
      "metadata": {
        "colab": {
          "base_uri": "https://localhost:8080/"
        },
        "id": "5jkQT6WIPHJg",
        "outputId": "af13b219-58e1-4d97-b326-41d0fc30cfb2"
      },
      "execution_count": 5,
      "outputs": [
        {
          "output_type": "stream",
          "name": "stdout",
          "text": [
            "            rating     feedback\n",
            "count  3150.000000  3150.000000\n",
            "mean      4.463175     0.918413\n",
            "std       1.068506     0.273778\n",
            "min       1.000000     0.000000\n",
            "25%       4.000000     1.000000\n",
            "50%       5.000000     1.000000\n",
            "75%       5.000000     1.000000\n",
            "max       5.000000     1.000000\n",
            "rating              0\n",
            "date                0\n",
            "variation           0\n",
            "verified_reviews    1\n",
            "feedback            0\n",
            "dtype: int64\n",
            "Index(['rating', 'date', 'variation', 'verified_reviews', 'feedback'], dtype='object')\n"
          ]
        }
      ]
    },
    {
      "cell_type": "code",
      "source": [
        "ratings = data[\"rating\"].value_counts()\n",
        "numbers = ratings.index\n",
        "quantity = ratings.values\n",
        "\n",
        "custom_colors = [\"skyblue\", \"yellowgreen\", 'tomato', \"blue\", \"red\"]\n",
        "plt.figure(figsize=(5, 5))\n",
        "plt.pie(quantity, labels=numbers, colors=custom_colors)\n",
        "central_circle = plt.Circle((0, 0), 0.5, color='white')\n",
        "fig = plt.gcf()\n",
        "fig.gca().add_artist(central_circle)\n",
        "plt.rc('font', size=12)\n",
        "plt.title(\"Amazon Alexa Reviews\", fontsize=20)\n",
        "plt.show()"
      ],
      "metadata": {
        "colab": {
          "base_uri": "https://localhost:8080/",
          "height": 452
        },
        "id": "Snyr0C0EPHL1",
        "outputId": "d3517559-85db-4bcc-ea30-2946e26a4f76"
      },
      "execution_count": 6,
      "outputs": [
        {
          "output_type": "display_data",
          "data": {
            "text/plain": [
              "<Figure size 500x500 with 1 Axes>"
            ],
            "image/png": "[encoded data removed]"
          },
          "metadata": {}
        }
      ]
    },
    {
      "cell_type": "code",
      "source": [
        "sentiments = SentimentIntensityAnalyzer()\n",
        "data[\"Positive\"] = [sentiments.polarity_scores(str(i))[\"pos\"] for i in data[\"verified_reviews\"]]\n",
        "data[\"Negative\"] = [sentiments.polarity_scores(str(i))[\"neg\"] for i in data[\"verified_reviews\"]]\n",
        "data[\"Neutral\"] = [sentiments.polarity_scores(str(i))[\"neu\"] for i in data[\"verified_reviews\"]]\n",
        "print(data.head())"
      ],
      "metadata": {
        "colab": {
          "base_uri": "https://localhost:8080/"
        },
        "id": "-_vVu1KFPHOo",
        "outputId": "ef496cd8-9a4b-49fe-e6db-38978decf75a"
      },
      "execution_count": 8,
      "outputs": [
        {
          "output_type": "stream",
          "name": "stdout",
          "text": [
            "   rating       date         variation  \\\n",
            "0       5  31-Jul-18  Charcoal Fabric    \n",
            "1       5  31-Jul-18  Charcoal Fabric    \n",
            "2       4  31-Jul-18    Walnut Finish    \n",
            "3       5  31-Jul-18  Charcoal Fabric    \n",
            "4       5  31-Jul-18  Charcoal Fabric    \n",
            "\n",
            "                                    verified_reviews  feedback  Positive  \\\n",
            "0                                      Love my Echo!         1     0.692   \n",
            "1                                          Loved it!         1     0.807   \n",
            "2  Sometimes while playing a game, you can answer...         1     0.114   \n",
            "3  I have had a lot of fun with this thing. My 4 ...         1     0.383   \n",
            "4                                              Music         1     0.000   \n",
            "\n",
            "   Negative  Neutral  \n",
            "0     0.000    0.308  \n",
            "1     0.000    0.193  \n",
            "2     0.102    0.784  \n",
            "3     0.000    0.617  \n",
            "4     0.000    1.000  \n"
          ]
        }
      ]
    },
    {
      "cell_type": "code",
      "source": [
        "x = sum(data[\"Positive\"])\n",
        "y = sum(data[\"Negative\"])\n",
        "z = sum(data[\"Neutral\"])\n",
        "\n",
        "def sentiment_score(a, b, c):\n",
        "    if (a>b) and (a>c):\n",
        "        print(\"Positive 😊 \")\n",
        "    elif (b>a) and (b>c):\n",
        "        print(\"Negative 😠 \")\n",
        "    else:\n",
        "        print(\"Neutral 🙂 \")\n",
        "sentiment_score(x, y, z)"
      ],
      "metadata": {
        "colab": {
          "base_uri": "https://localhost:8080/"
        },
        "id": "UyWkF-dfPHQ-",
        "outputId": "af456031-1b3c-47f8-9d48-65af0a89021e"
      },
      "execution_count": 9,
      "outputs": [
        {
          "output_type": "stream",
          "name": "stdout",
          "text": [
            "Neutral 🙂 \n"
          ]
        }
      ]
    },
    {
      "cell_type": "code",
      "source": [
        "print(\"Positive: \", x)\n",
        "print(\"Negative: \", y)\n",
        "print(\"Neutral: \", z)"
      ],
      "metadata": {
        "colab": {
          "base_uri": "https://localhost:8080/"
        },
        "id": "vOvzpsB2PHTO",
        "outputId": "d51bb4e5-b35c-4e29-c7f4-72cca308a138"
      },
      "execution_count": 10,
      "outputs": [
        {
          "output_type": "stream",
          "name": "stdout",
          "text": [
            "Positive:  1035.4579999999983\n",
            "Negative:  96.79999999999995\n",
            "Neutral:  1936.740999999996\n"
          ]
        }
      ]
    },
    {
      "cell_type": "code",
      "source": [],
      "metadata": {
        "id": "3ddQz1qtPHWv"
      },
      "execution_count": null,
      "outputs": []
    }
  ]
}