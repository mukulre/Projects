{
  "nbformat": 4,
  "nbformat_minor": 0,
  "metadata": {
    "colab": {
      "provenance": [],
      "authorship_tag": "ABX9TyMt5+NaTC4TnzjxNsEV+Dug",
      "include_colab_link": true
    },
    "kernelspec": {
      "name": "python3",
      "display_name": "Python 3"
    },
    "language_info": {
      "name": "python"
    }
  },
  "cells": [
    {
      "cell_type": "markdown",
      "metadata": {
        "id": "view-in-github",
        "colab_type": "text"
      },
      "source": [
        "<a href=\"https://colab.research.google.com/github/mukulre/Projects/blob/main/Feature_Engineering_Practical_Concepts_.ipynb\" target=\"_parent\"><img src=\"https://colab.research.google.com/assets/colab-badge.svg\" alt=\"Open In Colab\"/></a>"
      ]
    },
    {
      "cell_type": "code",
      "execution_count": null,
      "metadata": {
        "id": "QLpl3_bgQZ9w",
        "colab": {
          "base_uri": "https://localhost:8080/"
        },
        "outputId": "54e70a05-dc0f-4827-e2ec-df4229487964"
      },
      "outputs": [
        {
          "output_type": "stream",
          "name": "stdout",
          "text": [
            "  Region  Region_Label  Region_East  Region_North  Region_South  Region_West\n",
            "0  North             1          0.0           1.0           0.0          0.0\n",
            "1  South             2          0.0           0.0           1.0          0.0\n",
            "2   East             0          1.0           0.0           0.0          0.0\n",
            "3   West             3          0.0           0.0           0.0          1.0\n",
            "4  North             1          0.0           1.0           0.0          0.0\n"
          ]
        }
      ],
      "source": [
        "import pandas as pd\n",
        "from sklearn.preprocessing import OneHotEncoder, LabelEncoder\n",
        "\n",
        "# sample data\n",
        "data = {'Region': ['North', 'South', 'East', 'West', 'North']}\n",
        "df = pd.DataFrame(data)\n",
        "\n",
        "# label encoding\n",
        "label_encoder = LabelEncoder()\n",
        "df['Region_Label'] = label_encoder.fit_transform(df['Region'])\n",
        "\n",
        "# one-hot encoding\n",
        "one_hot_encoder = OneHotEncoder(sparse_output=False)\n",
        "encoded = one_hot_encoder.fit_transform(df[['Region']])\n",
        "encoded_df = pd.DataFrame(encoded, columns=one_hot_encoder.get_feature_names_out(['Region']))\n",
        "\n",
        "# combine original data with one-hot encoded columns\n",
        "df = pd.concat([df, encoded_df], axis=1)\n",
        "print(df)"
      ]
    },
    {
      "cell_type": "code",
      "source": [
        "from sklearn.linear_model import LinearRegression\n",
        "import numpy as np\n",
        "\n",
        "# sample data\n",
        "data = {'Age': [25, 30, 35, 40, 45], 'Salary': [50000, 60000, None, 80000, None]}\n",
        "df = pd.DataFrame(data)\n",
        "\n",
        "# separate rows with and without missing values\n",
        "df_with_missing = df[df['Salary'].isnull()]\n",
        "df_without_missing = df[df['Salary'].notnull()]\n",
        "\n",
        "# train a regression model to predict missing values\n",
        "model = LinearRegression()\n",
        "model.fit(df_without_missing[['Age']], df_without_missing['Salary'])\n",
        "predicted_salaries = model.predict(df_with_missing[['Age']])\n",
        "\n",
        "# fill missing values\n",
        "df.loc[df['Salary'].isnull(), 'Salary'] = predicted_salaries\n",
        "print(df)"
      ],
      "metadata": {
        "colab": {
          "base_uri": "https://localhost:8080/"
        },
        "id": "yvmN0GR8-T-n",
        "outputId": "9344bd76-bbe1-4682-c3fd-b50d51cec296"
      },
      "execution_count": null,
      "outputs": [
        {
          "output_type": "stream",
          "name": "stdout",
          "text": [
            "   Age   Salary\n",
            "0   25  50000.0\n",
            "1   30  60000.0\n",
            "2   35  70000.0\n",
            "3   40  80000.0\n",
            "4   45  90000.0\n"
          ]
        }
      ]
    },
    {
      "cell_type": "code",
      "source": [
        "from sklearn.preprocessing import StandardScaler\n",
        "\n",
        "# sample data\n",
        "data = {'Age': [18, 25, 30, 45, 60],\n",
        "        'Income': [20000, 50000, 100000, 200000, 500000]}\n",
        "df = pd.DataFrame(data)\n",
        "\n",
        "# standardize features\n",
        "scaler = StandardScaler()\n",
        "scaled_features = scaler.fit_transform(df)\n",
        "\n",
        "scaled_df = pd.DataFrame(scaled_features, columns=df.columns)\n",
        "print(scaled_df)"
      ],
      "metadata": {
        "colab": {
          "base_uri": "https://localhost:8080/"
        },
        "id": "wR89Z0Ef-UA_",
        "outputId": "562cb958-dca5-4642-c525-c568eaf06743"
      },
      "execution_count": null,
      "outputs": [
        {
          "output_type": "stream",
          "name": "stdout",
          "text": [
            "        Age    Income\n",
            "0 -1.167023 -0.884648\n",
            "1 -0.702866 -0.712314\n",
            "2 -0.371325 -0.425091\n",
            "3  0.623296  0.149356\n",
            "4  1.617918  1.872697\n"
          ]
        }
      ]
    },
    {
      "cell_type": "code",
      "source": [
        "from sklearn.preprocessing import PolynomialFeatures\n",
        "\n",
        "# sample data\n",
        "data = {'Size': [1000, 1500, 2000], 'Rooms': [3, 4, 5]}\n",
        "df = pd.DataFrame(data)\n",
        "\n",
        "# generate polynomial features\n",
        "poly = PolynomialFeatures(degree=2, interaction_only=True, include_bias=False)\n",
        "interaction_features = poly.fit_transform(df)\n",
        "\n",
        "interaction_df = pd.DataFrame(interaction_features,\n",
        "                              columns=poly.get_feature_names_out(['Size', 'Rooms']))\n",
        "print(interaction_df)"
      ],
      "metadata": {
        "colab": {
          "base_uri": "https://localhost:8080/"
        },
        "id": "6VmmqdUm-dt2",
        "outputId": "e11faec6-2b05-4680-ecd5-544fd7d57f80"
      },
      "execution_count": null,
      "outputs": [
        {
          "output_type": "stream",
          "name": "stdout",
          "text": [
            "     Size  Rooms  Size Rooms\n",
            "0  1000.0    3.0      3000.0\n",
            "1  1500.0    4.0      6000.0\n",
            "2  2000.0    5.0     10000.0\n"
          ]
        }
      ]
    },
    {
      "cell_type": "code",
      "source": [
        "from sklearn.feature_selection import RFE\n",
        "from sklearn.ensemble import RandomForestClassifier\n",
        "\n",
        "# simulated data\n",
        "np.random.seed(42)\n",
        "X = np.random.rand(100, 50)  # 50 features\n",
        "y = np.random.choice([0, 1], size=100)  # binary target\n",
        "\n",
        "# feature selection with RFE\n",
        "model = RandomForestClassifier()\n",
        "rfe = RFE(estimator=model, n_features_to_select=10)\n",
        "X_selected = rfe.fit_transform(X, y)\n",
        "\n",
        "print(\"Selected Features (Indices):\", rfe.get_support(indices=True))"
      ],
      "metadata": {
        "colab": {
          "base_uri": "https://localhost:8080/"
        },
        "id": "m2G9zhlQ-dw-",
        "outputId": "79c085cf-db2e-49b2-a26a-f29a352a5556"
      },
      "execution_count": null,
      "outputs": [
        {
          "output_type": "stream",
          "name": "stdout",
          "text": [
            "Selected Features (Indices): [ 1 10 14 16 19 29 34 37 38 42]\n"
          ]
        }
      ]
    },
    {
      "cell_type": "code",
      "source": [],
      "metadata": {
        "id": "UZ1S7UJF-d0c"
      },
      "execution_count": null,
      "outputs": []
    },
    {
      "cell_type": "code",
      "source": [],
      "metadata": {
        "id": "EjC4iQEd-UEh"
      },
      "execution_count": null,
      "outputs": []
    }
  ]
}