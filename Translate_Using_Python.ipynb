{
  "nbformat": 4,
  "nbformat_minor": 0,
  "metadata": {
    "colab": {
      "provenance": [],
      "authorship_tag": "ABX9TyNtVKqXx2aDLez0ymRdLJR2",
      "include_colab_link": true
    },
    "kernelspec": {
      "name": "python3",
      "display_name": "Python 3"
    },
    "language_info": {
      "name": "python"
    }
  },
  "cells": [
    {
      "cell_type": "markdown",
      "metadata": {
        "id": "view-in-github",
        "colab_type": "text"
      },
      "source": [
        "<a href=\"https://colab.research.google.com/github/mukulre/Projects/blob/main/Translate_Using_Python.ipynb\" target=\"_parent\"><img src=\"https://colab.research.google.com/assets/colab-badge.svg\" alt=\"Open In Colab\"/></a>"
      ]
    },
    {
      "cell_type": "code",
      "execution_count": 1,
      "metadata": {
        "colab": {
          "base_uri": "https://localhost:8080/"
        },
        "id": "L1mRMeOvvAWR",
        "outputId": "0c8f4879-7542-4afe-931a-aa997c43f522"
      },
      "outputs": [
        {
          "output_type": "stream",
          "name": "stdout",
          "text": [
            "Collecting googletrans\n",
            "  Downloading googletrans-4.0.2-py3-none-any.whl.metadata (10 kB)\n",
            "Requirement already satisfied: httpx>=0.27.2 in /usr/local/lib/python3.11/dist-packages (from httpx[http2]>=0.27.2->googletrans) (0.28.1)\n",
            "Requirement already satisfied: anyio in /usr/local/lib/python3.11/dist-packages (from httpx>=0.27.2->httpx[http2]>=0.27.2->googletrans) (3.7.1)\n",
            "Requirement already satisfied: certifi in /usr/local/lib/python3.11/dist-packages (from httpx>=0.27.2->httpx[http2]>=0.27.2->googletrans) (2024.12.14)\n",
            "Requirement already satisfied: httpcore==1.* in /usr/local/lib/python3.11/dist-packages (from httpx>=0.27.2->httpx[http2]>=0.27.2->googletrans) (1.0.7)\n",
            "Requirement already satisfied: idna in /usr/local/lib/python3.11/dist-packages (from httpx>=0.27.2->httpx[http2]>=0.27.2->googletrans) (3.10)\n",
            "Requirement already satisfied: h11<0.15,>=0.13 in /usr/local/lib/python3.11/dist-packages (from httpcore==1.*->httpx>=0.27.2->httpx[http2]>=0.27.2->googletrans) (0.14.0)\n",
            "Collecting h2<5,>=3 (from httpx[http2]>=0.27.2->googletrans)\n",
            "  Downloading h2-4.1.0-py3-none-any.whl.metadata (3.6 kB)\n",
            "Collecting hyperframe<7,>=6.0 (from h2<5,>=3->httpx[http2]>=0.27.2->googletrans)\n",
            "  Downloading hyperframe-6.1.0-py3-none-any.whl.metadata (4.3 kB)\n",
            "Collecting hpack<5,>=4.0 (from h2<5,>=3->httpx[http2]>=0.27.2->googletrans)\n",
            "  Downloading hpack-4.1.0-py3-none-any.whl.metadata (4.6 kB)\n",
            "Requirement already satisfied: sniffio>=1.1 in /usr/local/lib/python3.11/dist-packages (from anyio->httpx>=0.27.2->httpx[http2]>=0.27.2->googletrans) (1.3.1)\n",
            "Downloading googletrans-4.0.2-py3-none-any.whl (18 kB)\n",
            "Downloading h2-4.1.0-py3-none-any.whl (57 kB)\n",
            "\u001b[2K   \u001b[90m━━━━━━━━━━━━━━━━━━━━━━━━━━━━━━━━━━━━━━━━\u001b[0m \u001b[32m57.5/57.5 kB\u001b[0m \u001b[31m4.3 MB/s\u001b[0m eta \u001b[36m0:00:00\u001b[0m\n",
            "\u001b[?25hDownloading hpack-4.1.0-py3-none-any.whl (34 kB)\n",
            "Downloading hyperframe-6.1.0-py3-none-any.whl (13 kB)\n",
            "Installing collected packages: hyperframe, hpack, h2, googletrans\n",
            "Successfully installed googletrans-4.0.2 h2-4.1.0 hpack-4.1.0 hyperframe-6.1.0\n"
          ]
        }
      ],
      "source": [
        "!pip install googletrans"
      ]
    },
    {
      "cell_type": "code",
      "source": [
        "import pandas as pd\n",
        "from googletrans import Translator"
      ],
      "metadata": {
        "id": "oj6ArdczvU5g"
      },
      "execution_count": 2,
      "outputs": []
    },
    {
      "cell_type": "code",
      "source": [
        "data = pd.read_csv(\"hindi.csv\")\n",
        "print(data)"
      ],
      "metadata": {
        "colab": {
          "base_uri": "https://localhost:8080/"
        },
        "id": "TB2yJQmUvU7x",
        "outputId": "acc08a98-6118-4e7b-aff5-a2c4f4a09d0a"
      },
      "execution_count": 3,
      "outputs": [
        {
          "output_type": "stream",
          "name": "stdout",
          "text": [
            "  Vegetable Names\n",
            "0           गाजर \n",
            "1     शिमला मिर्च\n",
            "2         भिन्डी \n",
            "3          मक्का \n",
            "4       लाल मिर्च\n",
            "5           खीरा \n",
            "6       कढ़ी पत्ता\n",
            "7           बैगन \n",
            "8          लहसुन \n",
            "9           अदरक \n"
          ]
        }
      ]
    },
    {
      "cell_type": "code",
      "source": [
        "    !pip install nest_asyncio\n",
        "    import nest_asyncio\n",
        "    nest_asyncio.apply()"
      ],
      "metadata": {
        "colab": {
          "base_uri": "https://localhost:8080/"
        },
        "id": "CxyjpUo1w02F",
        "outputId": "5958182d-8c64-46a9-f377-402e034110bd"
      },
      "execution_count": 7,
      "outputs": [
        {
          "output_type": "stream",
          "name": "stdout",
          "text": [
            "Requirement already satisfied: nest_asyncio in /usr/local/lib/python3.11/dist-packages (1.6.0)\n"
          ]
        }
      ]
    },
    {
      "cell_type": "code",
      "source": [
        "import pandas as pd\n",
        "from googletrans import Translator\n",
        "import asyncio\n",
        "\n",
        "# Wrap the translation logic in an async function\n",
        "async def translate_text(element):\n",
        "    translator = Translator()  # Create a translator instance within the function\n",
        "    translated = await translator.translate(element)\n",
        "    return translated.text\n",
        "\n",
        "async def main():\n",
        "    data = pd.read_csv(\"hindi.csv\")\n",
        "    print(data)\n",
        "\n",
        "    translations = {}\n",
        "    for column in data.columns:\n",
        "        unique = data[column].unique()\n",
        "        for element in unique:\n",
        "            # Await the result of the translation coroutine\n",
        "            translations[element] = await translate_text(element)\n",
        "\n",
        "    for i in translations.items():\n",
        "        print(i)\n",
        "\n",
        "    data.replace(translations, inplace=True)\n",
        "    print(data)\n",
        "\n",
        "# Run the async main function using asyncio.run\n",
        "if __name__ == \"__main__\":\n",
        "    asyncio.run(main())"
      ],
      "metadata": {
        "colab": {
          "base_uri": "https://localhost:8080/"
        },
        "id": "ZxQVe3BavU-B",
        "outputId": "1a788b09-7aa2-4cf2-d82b-46f1f42ea7a2"
      },
      "execution_count": 8,
      "outputs": [
        {
          "output_type": "stream",
          "name": "stdout",
          "text": [
            "  Vegetable Names\n",
            "0           गाजर \n",
            "1     शिमला मिर्च\n",
            "2         भिन्डी \n",
            "3          मक्का \n",
            "4       लाल मिर्च\n",
            "5           खीरा \n",
            "6       कढ़ी पत्ता\n",
            "7           बैगन \n",
            "8          लहसुन \n",
            "9           अदरक \n",
            "('गाजर ', 'carrot')\n",
            "('शिमला मिर्च', 'Capsicum')\n",
            "('भिन्डी ', 'Bindi')\n",
            "('मक्का ', 'Maize')\n",
            "('लाल मिर्च', 'red chilli')\n",
            "('खीरा ', 'Cucumber')\n",
            "('कढ़ी पत्ता', 'curry leaves')\n",
            "('बैगन ', 'brinjal')\n",
            "('लहसुन ', 'Garlic')\n",
            "('अदरक ', 'Ginger')\n",
            "  Vegetable Names\n",
            "0          carrot\n",
            "1        Capsicum\n",
            "2           Bindi\n",
            "3           Maize\n",
            "4      red chilli\n",
            "5        Cucumber\n",
            "6    curry leaves\n",
            "7         brinjal\n",
            "8          Garlic\n",
            "9          Ginger\n"
          ]
        }
      ]
    },
    {
      "cell_type": "code",
      "source": [
        "data.replace(translations, inplace=True)\n",
        "print(data)"
      ],
      "metadata": {
        "colab": {
          "base_uri": "https://localhost:8080/"
        },
        "id": "UlpWMpLOvVAp",
        "outputId": "4653fc23-55d3-4602-d1d8-1ed3155ba5dd"
      },
      "execution_count": 5,
      "outputs": [
        {
          "output_type": "stream",
          "name": "stdout",
          "text": [
            "  Vegetable Names\n",
            "0           गाजर \n",
            "1     शिमला मिर्च\n",
            "2         भिन्डी \n",
            "3          मक्का \n",
            "4       लाल मिर्च\n",
            "5           खीरा \n",
            "6       कढ़ी पत्ता\n",
            "7           बैगन \n",
            "8          लहसुन \n",
            "9           अदरक \n"
          ]
        }
      ]
    },
    {
      "cell_type": "code",
      "source": [],
      "metadata": {
        "id": "BzUS5WaUvVCs"
      },
      "execution_count": null,
      "outputs": []
    }
  ]
}