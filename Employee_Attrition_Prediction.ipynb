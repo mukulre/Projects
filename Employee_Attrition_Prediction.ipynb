{
  "nbformat": 4,
  "nbformat_minor": 0,
  "metadata": {
    "colab": {
      "provenance": [],
      "mount_file_id": "1wdih8x6Pq7Xc-sOEXQMBFaCnbPMLBAa6",
      "authorship_tag": "ABX9TyNH6FeW5+VDNu9a0J9dmso6",
      "include_colab_link": true
    },
    "kernelspec": {
      "name": "python3",
      "display_name": "Python 3"
    },
    "language_info": {
      "name": "python"
    }
  },
  "cells": [
    {
      "cell_type": "markdown",
      "metadata": {
        "id": "view-in-github",
        "colab_type": "text"
      },
      "source": [
        "<a href=\"https://colab.research.google.com/github/mukulre/Projects/blob/main/Employee_Attrition_Prediction.ipynb\" target=\"_parent\"><img src=\"https://colab.research.google.com/assets/colab-badge.svg\" alt=\"Open In Colab\"/></a>"
      ]
    },
    {
      "cell_type": "code",
      "execution_count": 10,
      "metadata": {
        "colab": {
          "base_uri": "https://localhost:8080/",
          "height": 17
        },
        "id": "FzxQ4AWiSMdB",
        "outputId": "f7718841-8589-4301-f1a5-b5456d3540ca"
      },
      "outputs": [
        {
          "output_type": "display_data",
          "data": {
            "text/html": [
              "        <script type=\"text/javascript\">\n",
              "        window.PlotlyConfig = {MathJaxConfig: 'local'};\n",
              "        if (window.MathJax && window.MathJax.Hub && window.MathJax.Hub.Config) {window.MathJax.Hub.Config({SVG: {font: \"STIX-Web\"}});}\n",
              "        if (typeof require !== 'undefined') {\n",
              "        require.undef(\"plotly\");\n",
              "        requirejs.config({\n",
              "            paths: {\n",
              "                'plotly': ['https://cdn.plot.ly/plotly-2.35.2.min']\n",
              "            }\n",
              "        });\n",
              "        require(['plotly'], function(Plotly) {\n",
              "            window._Plotly = Plotly;\n",
              "        });\n",
              "        }\n",
              "        </script>\n",
              "        "
            ]
          },
          "metadata": {}
        }
      ],
      "source": [
        "import numpy as np # linear algebra\n",
        "import pandas as pd # data processing\n",
        "import seaborn as sns\n",
        "import matplotlib.pyplot as plt\n",
        "%matplotlib inline\n",
        "\n",
        "# Import statements required for Plotly\n",
        "import plotly.offline as py\n",
        "py.init_notebook_mode(connected=True)\n",
        "import plotly.graph_objs as go\n",
        "import plotly.tools as tls\n",
        "\n",
        "\n",
        "from sklearn.ensemble import RandomForestClassifier, GradientBoostingClassifier\n",
        "from sklearn.linear_model import LogisticRegression\n",
        "from sklearn.metrics import (accuracy_score, log_loss, classification_report)\n",
        "from imblearn.over_sampling import SMOTE\n",
        "import xgboost"
      ]
    },
    {
      "cell_type": "code",
      "source": [
        "attrition = pd.read_csv('Employee-Attrition.csv')"
      ],
      "metadata": {
        "id": "cvbkJGnsS2JX"
      },
      "execution_count": 11,
      "outputs": []
    },
    {
      "cell_type": "code",
      "source": [
        "import matplotlib.pyplot as plt\n",
        "import seaborn as sns\n",
        "import numpy as np\n",
        "import pandas as pd\n",
        "\n",
        "# Placeholder: Load your attrition dataset (replace with your actual data source)\n",
        "# Example: attrition = pd.read_csv('path_to_your_attrition_data.csv')\n",
        "# For demonstration, I'll create a dummy dataset\n",
        "attrition = pd.DataFrame({\n",
        "    'Age': np.random.randint(18, 65, 1000),\n",
        "    'TotalWorkingYears': np.random.randint(0, 40, 1000),\n",
        "    'DailyRate': np.random.randint(100, 1500, 1000),\n",
        "    'YearsInCurrentRole': np.random.randint(0, 20, 1000),\n",
        "    'DistanceFromHome': np.random.randint(1, 50, 1000),\n",
        "    'JobSatisfaction': np.random.randint(1, 5, 1000),\n",
        "    'YearsAtCompany': np.random.randint(0, 40, 1000),\n",
        "    'RelationshipSatisfaction': np.random.randint(1, 5, 1000),\n",
        "    'YearsWithCurrManager': np.random.randint(0, 20, 1000),\n",
        "    'WorkLifeBalance': np.random.randint(1, 5, 1000)\n",
        "})\n",
        "\n",
        "# Create the subplot grid\n",
        "f, axes = plt.subplots(3, 3, figsize=(10, 8), sharex=False, sharey=False)\n",
        "\n",
        "# Define colormap scheme\n",
        "s = np.linspace(0, 3, 10)\n",
        "cmap = sns.cubehelix_palette(start=0.0, light=1, as_cmap=True)\n",
        "\n",
        "# Plot 1: Age vs TotalWorkingYears\n",
        "x = attrition['Age'].values\n",
        "y = attrition['TotalWorkingYears'].values\n",
        "sns.kdeplot(x=x, y=y, cmap=cmap, fill=True, cut=5, ax=axes[0,0])\n",
        "axes[0,0].set(title='Age against Total Working Years')\n",
        "\n",
        "# Plot 2: Age vs DailyRate\n",
        "cmap = sns.cubehelix_palette(start=0.333333333333, light=1, as_cmap=True)\n",
        "x = attrition['Age'].values\n",
        "y = attrition['DailyRate'].values\n",
        "sns.kdeplot(x=x, y=y, cmap=cmap, fill=True, ax=axes[0,1])\n",
        "axes[0,1].set(title='Age against Daily Rate')\n",
        "\n",
        "# Plot 3: YearsInCurrentRole vs Age\n",
        "cmap = sns.cubehelix_palette(start=0.666666666667, light=1, as_cmap=True)\n",
        "x = attrition['YearsInCurrentRole'].values\n",
        "y = attrition['Age'].values\n",
        "sns.kdeplot(x=x, y=y, cmap=cmap, fill=True, ax=axes[0,2])\n",
        "axes[0,2].set(title='Years in Role against Age')\n",
        "\n",
        "# Plot 4: DailyRate vs DistanceFromHome\n",
        "cmap = sns.cubehelix_palette(start=1.0, light=1, as_cmap=True)\n",
        "x = attrition['DailyRate'].values\n",
        "y = attrition['DistanceFromHome'].values\n",
        "sns.kdeplot(x=x, y=y, cmap=cmap, fill=True, ax=axes[1,0])\n",
        "axes[1,0].set(title='Daily Rate against Distance from Home')\n",
        "\n",
        "# Plot 5: DailyRate vs JobSatisfaction\n",
        "cmap = sns.cubehelix_palette(start=1.333333333333, light=1, as_cmap=True)\n",
        "x = attrition['DailyRate'].values\n",
        "y = attrition['JobSatisfaction'].values\n",
        "sns.kdeplot(x=x, y=y, cmap=cmap, fill=True, ax=axes[1,1])\n",
        "axes[1,1].set(title='Daily Rate against Job Satisfaction')\n",
        "\n",
        "# Plot 6: YearsAtCompany vs JobSatisfaction\n",
        "cmap = sns.cubehelix_palette(start=1.666666666667, light=1, as_cmap=True)\n",
        "x = attrition['YearsAtCompany'].values\n",
        "y = attrition['JobSatisfaction'].values\n",
        "sns.kdeplot(x=x, y=y, cmap=cmap, fill=True, ax=axes[1,2])\n",
        "axes[1,2].set(title='Years at Company against Job Satisfaction')  # Fixed title typo\n",
        "\n",
        "# Plot 7: YearsAtCompany vs DailyRate\n",
        "cmap = sns.cubehelix_palette(start=2.0, light=1, as_cmap=True)\n",
        "x = attrition['YearsAtCompany'].values\n",
        "y = attrition['DailyRate'].values\n",
        "sns.kdeplot(x=x, y=y, cmap=cmap, fill=True, ax=axes[2,0])\n",
        "axes[2,0].set(title='Years at Company against Daily Rate')\n",
        "\n",
        "# Plot 8: RelationshipSatisfaction vs YearsWithCurrManager\n",
        "cmap = sns.cubehelix_palette(start=2.333333333333, light=1, as_cmap=True)\n",
        "x = attrition['RelationshipSatisfaction'].values\n",
        "y = attrition['YearsWithCurrManager'].values\n",
        "sns.kdeplot(x=x, y=y, cmap=cmap, fill=True, ax=axes[2,1])\n",
        "axes[2,1].set(title='Relationship Satisfaction vs Years with Manager')\n",
        "\n",
        "# Plot 9: WorkLifeBalance vs JobSatisfaction\n",
        "cmap = sns.cubehelix_palette(start=2.666666666667, light=1, as_cmap=True)\n",
        "x = attrition['WorkLifeBalance'].values\n",
        "y = attrition['JobSatisfaction'].values\n",
        "sns.kdeplot(x=x, y=y, cmap=cmap, fill=True, ax=axes[2,2])\n",
        "axes[2,2].set(title='Work-Life Balance against Job Satisfaction')\n",
        "\n",
        "# Adjust layout\n",
        "f.tight_layout()\n",
        "\n",
        "# Display the plot\n",
        "plt.show()"
      ],
      "metadata": {
        "colab": {
          "base_uri": "https://localhost:8080/",
          "height": 807
        },
        "id": "L59wi28jS2Lh",
        "outputId": "caf9dfd3-a0fc-4c9d-de11-33b96cc76ae5"
      },
      "execution_count": 12,
      "outputs": [
        {
          "output_type": "display_data",
          "data": {
            "text/plain": [
              "<Figure size 1000x800 with 9 Axes>"
            ],
            "image/png": "[encoded data removed]"
          },
          "metadata": {}
        }
      ]
    },
    {
      "cell_type": "code",
      "source": [
        "!pip install plotly\n",
        "\n",
        "import pandas as pd\n",
        "import numpy as np\n",
        "import plotly.graph_objects as go\n",
        "import plotly.offline as pyo\n",
        "\n",
        "pyo.init_notebook_mode(connected=True)\n",
        "\n",
        "# Placeholder: Load or define your attrition dataset\n",
        "# Replace with your actual data source, e.g., attrition = pd.read_csv('path_to_data.csv')\n",
        "# For demonstration, creating a dummy dataset\n",
        "attrition = pd.DataFrame({\n",
        "    'Attrition': np.random.choice(['Yes', 'No'], 1000),\n",
        "    'Age': np.random.randint(18, 65, 1000),\n",
        "    'DailyRate': np.random.randint(100, 1500, 1000),\n",
        "    'DistanceFromHome': np.random.randint(1, 50, 1000),\n",
        "    'Education': np.random.randint(1, 5, 1000),\n",
        "    'EmployeeNumber': np.arange(1000),\n",
        "    'EnvironmentSatisfaction': np.random.randint(1, 5, 1000),\n",
        "    'HourlyRate': np.random.randint(30, 100, 1000),\n",
        "    'JobInvolvement': np.random.randint(1, 5, 1000),\n",
        "    'JobLevel': np.random.randint(1, 6, 1000),\n",
        "    'JobSatisfaction': np.random.randint(1, 5, 1000),\n",
        "    'MonthlyIncome': np.random.randint(1000, 20000, 1000),\n",
        "    'MonthlyRate': np.random.randint(2000, 30000, 1000),\n",
        "    'NumCompaniesWorked': np.random.randint(0, 10, 1000),\n",
        "    'PercentSalaryHike': np.random.randint(10, 25, 1000),\n",
        "    'PerformanceRating': np.random.randint(1, 5, 1000),\n",
        "    'RelationshipSatisfaction': np.random.randint(1, 5, 1000),\n",
        "    'StockOptionLevel': np.random.randint(0, 4, 1000),\n",
        "    'TotalWorkingYears': np.random.randint(0, 40, 1000),\n",
        "    'TrainingTimesLastYear': np.random.randint(0, 6, 1000),\n",
        "    'WorkLifeBalance': np.random.randint(1, 5, 1000),\n",
        "    'YearsAtCompany': np.random.randint(0, 40, 1000),\n",
        "    'YearsInCurrentRole': np.random.randint(0, 20, 1000),\n",
        "    'YearsSinceLastPromotion': np.random.randint(0, 15, 1000),\n",
        "    'YearsWithCurrManager': np.random.randint(0, 20, 1000)\n",
        "})\n",
        "\n",
        "# Define a dictionary for the target mapping\n",
        "target_map = {'Yes': 1, 'No': 0}\n",
        "# Numerically encode the 'Attrition' target variable\n",
        "attrition[\"Attrition_numerical\"] = attrition[\"Attrition\"].apply(lambda x: target_map[x])\n",
        "\n",
        "# List of numerical columns (removed unnecessary 'u' prefixes)\n",
        "numerical = [\n",
        "    'Age', 'DailyRate', 'DistanceFromHome',\n",
        "    'Education', 'EmployeeNumber', 'EnvironmentSatisfaction',\n",
        "    'HourlyRate', 'JobInvolvement', 'JobLevel', 'JobSatisfaction',\n",
        "    'MonthlyIncome', 'MonthlyRate', 'NumCompaniesWorked',\n",
        "    'PercentSalaryHike', 'PerformanceRating', 'RelationshipSatisfaction',\n",
        "    'StockOptionLevel', 'TotalWorkingYears',\n",
        "    'TrainingTimesLastYear', 'WorkLifeBalance', 'YearsAtCompany',\n",
        "    'YearsInCurrentRole', 'YearsSinceLastPromotion', 'YearsWithCurrManager'\n",
        "]\n",
        "\n",
        "# Create the heatmap data\n",
        "data = [\n",
        "    go.Heatmap(\n",
        "        z=attrition[numerical].astype(float).corr().values,  # Pearson correlation\n",
        "        x=attrition[numerical].columns.values,\n",
        "        y=attrition[numerical].columns.values,\n",
        "        colorscale='Viridis',\n",
        "        reversescale=False,\n",
        "        opacity=1.0\n",
        "    )\n",
        "]\n",
        "\n",
        "# Define the layout\n",
        "layout = go.Layout(\n",
        "    title='Pearson Correlation of Numerical Features',\n",
        "    xaxis=dict(ticks='', nticks=36),\n",
        "    yaxis=dict(ticks=''),\n",
        "    width=900,\n",
        "    height=700\n",
        ")\n",
        "# Create and display the figure\n",
        "fig = go.Figure(data=data, layout=layout)\n",
        "fig.show()"
      ],
      "metadata": {
        "colab": {
          "base_uri": "https://localhost:8080/",
          "height": 769
        },
        "id": "oU_Itg-fS2Nt",
        "outputId": "37419973-f7d5-4714-d98c-06b8ce3cd210"
      },
      "execution_count": 19,
      "outputs": [
        {
          "output_type": "stream",
          "name": "stdout",
          "text": [
            "Requirement already satisfied: plotly in /usr/local/lib/python3.11/dist-packages (5.24.1)\n",
            "Requirement already satisfied: tenacity>=6.2.0 in /usr/local/lib/python3.11/dist-packages (from plotly) (9.0.0)\n",
            "Requirement already satisfied: packaging in /usr/local/lib/python3.11/dist-packages (from plotly) (24.2)\n"
          ]
        },
        {
          "output_type": "display_data",
          "data": {
            "text/html": [
              "        <script type=\"text/javascript\">\n",
              "        window.PlotlyConfig = {MathJaxConfig: 'local'};\n",
              "        if (window.MathJax && window.MathJax.Hub && window.MathJax.Hub.Config) {window.MathJax.Hub.Config({SVG: {font: \"STIX-Web\"}});}\n",
              "        if (typeof require !== 'undefined') {\n",
              "        require.undef(\"plotly\");\n",
              "        requirejs.config({\n",
              "            paths: {\n",
              "                'plotly': ['https://cdn.plot.ly/plotly-2.35.2.min']\n",
              "            }\n",
              "        });\n",
              "        require(['plotly'], function(Plotly) {\n",
              "            window._Plotly = Plotly;\n",
              "        });\n",
              "        }\n",
              "        </script>\n",
              "        "
            ]
          },
          "metadata": {}
        },
        {
          "output_type": "display_data",
          "data": {
            "application/vnd.plotly.v1+json": {
              "data": [
                {
                  "colorscale": [
                    [
                      0,
                      "#440154"
                    ],
                    [
                      0.1111111111111111,
                      "#482878"
                    ],
                    [
                      0.2222222222222222,
                      "#3e4989"
                    ],
                    [
                      0.3333333333333333,
                      "#31688e"
                    ],
                    [
                      0.4444444444444444,
                      "#26828e"
                    ],
                    [
                      0.5555555555555556,
                      "#1f9e89"
                    ],
                    [
                      0.6666666666666666,
                      "#35b779"
                    ],
                    [
                      0.7777777777777778,
                      "#6ece58"
                    ],
                    [
                      0.8888888888888888,
                      "#b5de2b"
                    ],
                    [
                      1,
                      "#fde725"
                    ]
                  ],
                  "opacity": 1,
                  "reversescale": false,
                  "x": [
                    "Age",
                    "DailyRate",
                    "DistanceFromHome",
                    "Education",
                    "EmployeeNumber",
                    "EnvironmentSatisfaction",
                    "HourlyRate",
                    "JobInvolvement",
                    "JobLevel",
                    "JobSatisfaction",
                    "MonthlyIncome",
                    "MonthlyRate",
                    "NumCompaniesWorked",
                    "PercentSalaryHike",
                    "PerformanceRating",
                    "RelationshipSatisfaction",
                    "StockOptionLevel",
                    "TotalWorkingYears",
                    "TrainingTimesLastYear",
                    "WorkLifeBalance",
                    "YearsAtCompany",
                    "YearsInCurrentRole",
                    "YearsSinceLastPromotion",
                    "YearsWithCurrManager"
                  ],
                  "y": [
                    "Age",
                    "DailyRate",
                    "DistanceFromHome",
                    "Education",
                    "EmployeeNumber",
                    "EnvironmentSatisfaction",
                    "HourlyRate",
                    "JobInvolvement",
                    "JobLevel",
                    "JobSatisfaction",
                    "MonthlyIncome",
                    "MonthlyRate",
                    "NumCompaniesWorked",
                    "PercentSalaryHike",
                    "PerformanceRating",
                    "RelationshipSatisfaction",
                    "StockOptionLevel",
                    "TotalWorkingYears",
                    "TrainingTimesLastYear",
                    "WorkLifeBalance",
                    "YearsAtCompany",
                    "YearsInCurrentRole",
                    "YearsSinceLastPromotion",
                    "YearsWithCurrManager"
                  ],
                  "z": [
                    [
                      1,
                      -0.018690239860413495,
                      -0.018410982901274107,
                      -0.042824382741872294,
                      0.016277510601056547,
                      0.09501003888023556,
                      0.03744740186992415,
                      0.005804654922935847,
                      0.010895576113931549,
                      -0.0050277390422598335,
                      -0.011137128934904532,
                      -0.005685251415070037,
                      0.01847470819342184,
                      0.06552038284227844,
                      -0.001992562278820686,
                      -0.013007143351151844,
                      0.02643919696601443,
                      -0.020924908885575983,
                      -0.016193667503583063,
                      -0.005672623468403229,
                      -0.03820278519200852,
                      -0.02119742469228339,
                      -0.014676699559004585,
                      0.0007508035098304896
                    ],
                    [
                      -0.018690239860413495,
                      1,
                      -0.028385273884331985,
                      0.04751942610938536,
                      -0.04727198317343811,
                      0.0139650047701159,
                      0.010147060653635869,
                      -0.010103271715699977,
                      0.04183572779408232,
                      0.0159062251051328,
                      -0.011820785234080679,
                      -0.017062363856548395,
                      0.006971864216078292,
                      -0.0010913810971014063,
                      -0.008790950595186225,
                      0.030160984643578585,
                      -0.01211284413893132,
                      0.006880108790872513,
                      -0.02204128283021985,
                      0.018096240907501487,
                      0.017374902830724574,
                      0.0012824837467430544,
                      0.002922381274840574,
                      0.012404933860171951
                    ],
                    [
                      -0.018410982901274107,
                      -0.028385273884331985,
                      1,
                      0.01391998041558486,
                      0.041081453599949705,
                      -0.0358179354042694,
                      0.06012841505298222,
                      0.005555859913181102,
                      0.004790516675745702,
                      0.01261135128799486,
                      0.036568794585071875,
                      -0.018773229376149322,
                      0.0029487115960945567,
                      -0.017686597109557733,
                      -0.016931408087565415,
                      -0.02614844926316582,
                      0.035316214802590055,
                      -0.01943858477976786,
                      0.039222307041647565,
                      -0.013901997668791568,
                      0.0016233496841439796,
                      -0.01033830844919636,
                      -0.009317231225070527,
                      -0.02783400874703625
                    ],
                    [
                      -0.042824382741872294,
                      0.04751942610938536,
                      0.01391998041558486,
                      1,
                      0.0157988940252287,
                      0.012609254065577214,
                      -0.014377086504083304,
                      0.06440669849875084,
                      -0.019009140267409998,
                      0.06232493837190614,
                      0.002459093646962524,
                      0.043853899356970164,
                      -0.011747147143217382,
                      0.00003229441407669399,
                      0.028449151233428102,
                      -0.007300434086385918,
                      -0.010406123444455368,
                      -0.00479473568880843,
                      0.027097199631070653,
                      0.043876002480045855,
                      0.008603057659375636,
                      0.020966016850361674,
                      -0.04077344474106985,
                      -0.04828946977696331
                    ],
                    [
                      0.016277510601056547,
                      -0.04727198317343811,
                      0.041081453599949705,
                      0.0157988940252287,
                      1,
                      0.01747278513851782,
                      0.0011837598539676827,
                      0.030156665801768692,
                      0.01026441503556109,
                      0.04308665652041093,
                      0.028769008767491326,
                      0.000264138986743313,
                      0.04735768877753255,
                      0.02202436919384336,
                      -0.008603833453124954,
                      0.04722042296369856,
                      -0.004140852971432673,
                      -0.025103300619397816,
                      -0.007858557992585197,
                      -0.016659601798466067,
                      0.00844018353704242,
                      0.007492687634993392,
                      -0.008265930509522504,
                      -0.003539943844788173
                    ],
                    [
                      0.09501003888023556,
                      0.0139650047701159,
                      -0.0358179354042694,
                      0.012609254065577214,
                      0.01747278513851782,
                      1,
                      0.04664008997557316,
                      -0.049553801712932166,
                      0.04330613023420528,
                      0.019239877467798233,
                      -0.0413370213741368,
                      -0.03673447588677197,
                      -0.012162880551174256,
                      -0.018477323071011457,
                      0.04829048934417942,
                      -0.03822422346729754,
                      -0.0072860983669350635,
                      -0.04276535921764348,
                      0.03321289491538418,
                      -0.050420251085457536,
                      -0.041753484509105133,
                      -0.0059245154516332525,
                      0.032004426752344314,
                      -0.06527292002010932
                    ],
                    [
                      0.03744740186992415,
                      0.010147060653635869,
                      0.06012841505298222,
                      -0.014377086504083304,
                      0.0011837598539676827,
                      0.04664008997557316,
                      1,
                      0.013278046138367333,
                      0.018086244525676212,
                      0.07716640754222806,
                      -0.037366098664382424,
                      -0.05732174624348399,
                      -0.00444000474393869,
                      -0.007085817381104272,
                      0.0007042219525417427,
                      -0.04788509096974188,
                      0.03401985947702868,
                      -0.045401646620866216,
                      -0.0571930283139209,
                      -0.003909889099579696,
                      -0.017761237057785224,
                      -0.013732513221737542,
                      0.03489886839208872,
                      -0.014306221312435502
                    ],
                    [
                      0.005804654922935847,
                      -0.010103271715699977,
                      0.005555859913181102,
                      0.06440669849875084,
                      0.030156665801768692,
                      -0.049553801712932166,
                      0.013278046138367333,
                      1,
                      0.0025789511028715384,
                      0.0007690824590121181,
                      -0.04844710000991253,
                      0.020971604315039957,
                      0.04038295680116496,
                      -0.048483450969518165,
                      0.002627365967069146,
                      -0.023876168154567914,
                      0.04081755575472197,
                      -0.011097508678110223,
                      0.0034285201084169243,
                      -0.026252490830211275,
                      -0.009913577824431911,
                      0.020161866722006136,
                      -0.016049397822866986,
                      0.04698952723256996
                    ],
                    [
                      0.010895576113931549,
                      0.04183572779408232,
                      0.004790516675745702,
                      -0.019009140267409998,
                      0.01026441503556109,
                      0.04330613023420528,
                      0.018086244525676212,
                      0.0025789511028715384,
                      1,
                      0.04319260305970951,
                      0.03713857702266011,
                      -0.045496782550583474,
                      0.02087802040102024,
                      -0.017941864566528628,
                      0.00478678937524916,
                      -0.03116099603713415,
                      0.0450961165179204,
                      0.008081866800159196,
                      -0.023792211540492592,
                      -0.045191203219071635,
                      -0.04084100862121262,
                      -0.04045078268951359,
                      -0.007905479447472491,
                      0.03137952714728496
                    ],
                    [
                      -0.0050277390422598335,
                      0.0159062251051328,
                      0.01261135128799486,
                      0.06232493837190614,
                      0.04308665652041093,
                      0.019239877467798233,
                      0.07716640754222806,
                      0.0007690824590121181,
                      0.04319260305970951,
                      1,
                      0.006490452396540389,
                      -0.04071887333839888,
                      0.04714525795814506,
                      0.002216933284668906,
                      0.01629531672313559,
                      -0.006534522986999073,
                      0.06600290274085047,
                      -0.028222032243161565,
                      0.03787522435807828,
                      0.029754029212713144,
                      0.008131704346930788,
                      -0.043782285927024225,
                      -0.008138553056023325,
                      -0.010964444241725277
                    ],
                    [
                      -0.011137128934904532,
                      -0.011820785234080679,
                      0.036568794585071875,
                      0.002459093646962524,
                      0.028769008767491326,
                      -0.0413370213741368,
                      -0.037366098664382424,
                      -0.04844710000991253,
                      0.03713857702266011,
                      0.006490452396540389,
                      1,
                      -0.03545994881793541,
                      0.02233087360493293,
                      0.006496716300512842,
                      -0.014442253104494906,
                      -0.015350336489801941,
                      -0.023854044037025915,
                      0.04541970830227269,
                      0.029691702517147384,
                      -0.005536213372393011,
                      -0.01304685452091593,
                      -0.017763772656577012,
                      0.03296633346122579,
                      0.01647712552898424
                    ],
                    [
                      -0.005685251415070037,
                      -0.017062363856548395,
                      -0.018773229376149322,
                      0.043853899356970164,
                      0.000264138986743313,
                      -0.03673447588677197,
                      -0.05732174624348399,
                      0.020971604315039957,
                      -0.045496782550583474,
                      -0.04071887333839888,
                      -0.03545994881793541,
                      1,
                      0.0016354088283674151,
                      -0.034335569060257205,
                      -0.024407778057040006,
                      0.021716578468543902,
                      -0.02539349854895532,
                      -0.004403874729930533,
                      -0.03120032392303682,
                      0.04433382511136824,
                      0.01502282749689997,
                      -0.02342196415886918,
                      0.04090903867361797,
                      -0.053136406592793575
                    ],
                    [
                      0.01847470819342184,
                      0.006971864216078292,
                      0.0029487115960945567,
                      -0.011747147143217382,
                      0.04735768877753255,
                      -0.012162880551174256,
                      -0.00444000474393869,
                      0.04038295680116496,
                      0.02087802040102024,
                      0.04714525795814506,
                      0.02233087360493293,
                      0.0016354088283674151,
                      1,
                      -0.043544072189766664,
                      -0.018925260746777788,
                      -0.012087594782873003,
                      0.011901721404883714,
                      0.018402393644204273,
                      -0.01661040327805158,
                      -0.011373989017161657,
                      0.012986529359759533,
                      0.004171005877224712,
                      -0.025394041900215596,
                      0.027743336703271868
                    ],
                    [
                      0.06552038284227844,
                      -0.0010913810971014063,
                      -0.017686597109557733,
                      0.00003229441407669399,
                      0.02202436919384336,
                      -0.018477323071011457,
                      -0.007085817381104272,
                      -0.048483450969518165,
                      -0.017941864566528628,
                      0.002216933284668906,
                      0.006496716300512842,
                      -0.034335569060257205,
                      -0.043544072189766664,
                      1,
                      0.03033417279023662,
                      -0.0133083263332979,
                      -0.012755059452638141,
                      -0.03745173306572882,
                      0.023099607553456716,
                      -0.019974124468666338,
                      0.018053594575674608,
                      -0.02243943519120334,
                      0.017967947283848228,
                      -0.09780336792633826
                    ],
                    [
                      -0.001992562278820686,
                      -0.008790950595186225,
                      -0.016931408087565415,
                      0.028449151233428102,
                      -0.008603833453124954,
                      0.04829048934417942,
                      0.0007042219525417427,
                      0.002627365967069146,
                      0.00478678937524916,
                      0.01629531672313559,
                      -0.014442253104494906,
                      -0.024407778057040006,
                      -0.018925260746777788,
                      0.03033417279023662,
                      1,
                      0.011394363732852882,
                      0.04169836321534232,
                      -0.04448499715784359,
                      -0.005495268224467432,
                      0.06358923491641297,
                      0.007678672293365427,
                      0.02398200875026179,
                      -0.04037745339295841,
                      -0.01908604633514974
                    ],
                    [
                      -0.013007143351151844,
                      0.030160984643578585,
                      -0.02614844926316582,
                      -0.007300434086385918,
                      0.04722042296369856,
                      -0.03822422346729754,
                      -0.04788509096974188,
                      -0.023876168154567914,
                      -0.03116099603713415,
                      -0.006534522986999073,
                      -0.015350336489801941,
                      0.021716578468543902,
                      -0.012087594782873003,
                      -0.0133083263332979,
                      0.011394363732852882,
                      1,
                      0.041912759088210155,
                      -0.01783881203173472,
                      0.03165076244676935,
                      -0.03643561025618945,
                      0.030208022120249797,
                      -0.006585166842028791,
                      -0.013679148202502971,
                      -0.014622733239946084
                    ],
                    [
                      0.02643919696601443,
                      -0.01211284413893132,
                      0.035316214802590055,
                      -0.010406123444455368,
                      -0.004140852971432673,
                      -0.0072860983669350635,
                      0.03401985947702868,
                      0.04081755575472197,
                      0.0450961165179204,
                      0.06600290274085047,
                      -0.023854044037025915,
                      -0.02539349854895532,
                      0.011901721404883714,
                      -0.012755059452638141,
                      0.04169836321534232,
                      0.041912759088210155,
                      1,
                      -0.001704997497752733,
                      0.004825185433501169,
                      0.030888216141283068,
                      0.009421644547371466,
                      0.024886920697782793,
                      0.03789147275821592,
                      0.004790092825503479
                    ],
                    [
                      -0.020924908885575983,
                      0.006880108790872513,
                      -0.01943858477976786,
                      -0.00479473568880843,
                      -0.025103300619397816,
                      -0.04276535921764348,
                      -0.045401646620866216,
                      -0.011097508678110223,
                      0.008081866800159196,
                      -0.028222032243161565,
                      0.04541970830227269,
                      -0.004403874729930533,
                      0.018402393644204273,
                      -0.03745173306572882,
                      -0.04448499715784359,
                      -0.01783881203173472,
                      -0.001704997497752733,
                      1,
                      -0.019422573901802923,
                      0.005963531999948247,
                      0.026350652782485818,
                      -0.04907420732931389,
                      -0.01016611307162311,
                      0.015866127523730067
                    ],
                    [
                      -0.016193667503583063,
                      -0.02204128283021985,
                      0.039222307041647565,
                      0.027097199631070653,
                      -0.007858557992585197,
                      0.03321289491538418,
                      -0.0571930283139209,
                      0.0034285201084169243,
                      -0.023792211540492592,
                      0.03787522435807828,
                      0.029691702517147384,
                      -0.03120032392303682,
                      -0.01661040327805158,
                      0.023099607553456716,
                      -0.005495268224467432,
                      0.03165076244676935,
                      0.004825185433501169,
                      -0.019422573901802923,
                      1,
                      0.03512862889624672,
                      0.0543588279185353,
                      0.021238094320344663,
                      0.024026355775750508,
                      -0.0306102407295274
                    ],
                    [
                      -0.005672623468403229,
                      0.018096240907501487,
                      -0.013901997668791568,
                      0.043876002480045855,
                      -0.016659601798466067,
                      -0.050420251085457536,
                      -0.003909889099579696,
                      -0.026252490830211275,
                      -0.045191203219071635,
                      0.029754029212713144,
                      -0.005536213372393011,
                      0.04433382511136824,
                      -0.011373989017161657,
                      -0.019974124468666338,
                      0.06358923491641297,
                      -0.03643561025618945,
                      0.030888216141283068,
                      0.005963531999948247,
                      0.03512862889624672,
                      1,
                      -0.0327242012777741,
                      -0.06901757824161155,
                      0.0013065188063678258,
                      -0.07209445455009475
                    ],
                    [
                      -0.03820278519200852,
                      0.017374902830724574,
                      0.0016233496841439796,
                      0.008603057659375636,
                      0.00844018353704242,
                      -0.041753484509105133,
                      -0.017761237057785224,
                      -0.009913577824431911,
                      -0.04084100862121262,
                      0.008131704346930788,
                      -0.01304685452091593,
                      0.01502282749689997,
                      0.012986529359759533,
                      0.018053594575674608,
                      0.007678672293365427,
                      0.030208022120249797,
                      0.009421644547371466,
                      0.026350652782485818,
                      0.0543588279185353,
                      -0.0327242012777741,
                      1,
                      0.03551059715635318,
                      -0.0034452674896169213,
                      -0.04579796063357913
                    ],
                    [
                      -0.02119742469228339,
                      0.0012824837467430544,
                      -0.01033830844919636,
                      0.020966016850361674,
                      0.007492687634993392,
                      -0.0059245154516332525,
                      -0.013732513221737542,
                      0.020161866722006136,
                      -0.04045078268951359,
                      -0.043782285927024225,
                      -0.017763772656577012,
                      -0.02342196415886918,
                      0.004171005877224712,
                      -0.02243943519120334,
                      0.02398200875026179,
                      -0.006585166842028791,
                      0.024886920697782793,
                      -0.04907420732931389,
                      0.021238094320344663,
                      -0.06901757824161155,
                      0.03551059715635318,
                      1,
                      0.01290995958715613,
                      0.018272530384000406
                    ],
                    [
                      -0.014676699559004585,
                      0.002922381274840574,
                      -0.009317231225070527,
                      -0.04077344474106985,
                      -0.008265930509522504,
                      0.032004426752344314,
                      0.03489886839208872,
                      -0.016049397822866986,
                      -0.007905479447472491,
                      -0.008138553056023325,
                      0.03296633346122579,
                      0.04090903867361797,
                      -0.025394041900215596,
                      0.017967947283848228,
                      -0.04037745339295841,
                      -0.013679148202502971,
                      0.03789147275821592,
                      -0.01016611307162311,
                      0.024026355775750508,
                      0.0013065188063678258,
                      -0.0034452674896169213,
                      0.01290995958715613,
                      1,
                      -0.04845670600296772
                    ],
                    [
                      0.0007508035098304896,
                      0.012404933860171951,
                      -0.02783400874703625,
                      -0.04828946977696331,
                      -0.003539943844788173,
                      -0.06527292002010932,
                      -0.014306221312435502,
                      0.04698952723256996,
                      0.03137952714728496,
                      -0.010964444241725277,
                      0.01647712552898424,
                      -0.053136406592793575,
                      0.027743336703271868,
                      -0.09780336792633826,
                      -0.01908604633514974,
                      -0.014622733239946084,
                      0.004790092825503479,
                      0.015866127523730067,
                      -0.0306102407295274,
                      -0.07209445455009475,
                      -0.04579796063357913,
                      0.018272530384000406,
                      -0.04845670600296772,
                      1
                    ]
                  ],
                  "type": "heatmap"
                }
              ],
              "layout": {
                "height": 700,
                "title": {
                  "text": "Pearson Correlation of Numerical Features"
                },
                "width": 900,
                "xaxis": {
                  "nticks": 36,
                  "ticks": ""
                },
                "yaxis": {
                  "ticks": ""
                },
                "template": {
                  "data": {
                    "histogram2dcontour": [
                      {
                        "type": "histogram2dcontour",
                        "colorbar": {
                          "outlinewidth": 0,
                          "ticks": ""
                        },
                        "colorscale": [
                          [
                            0,
                            "#0d0887"
                          ],
                          [
                            0.1111111111111111,
                            "#46039f"
                          ],
                          [
                            0.2222222222222222,
                            "#7201a8"
                          ],
                          [
                            0.3333333333333333,
                            "#9c179e"
                          ],
                          [
                            0.4444444444444444,
                            "#bd3786"
                          ],
                          [
                            0.5555555555555556,
                            "#d8576b"
                          ],
                          [
                            0.6666666666666666,
                            "#ed7953"
                          ],
                          [
                            0.7777777777777778,
                            "#fb9f3a"
                          ],
                          [
                            0.8888888888888888,
                            "#fdca26"
                          ],
                          [
                            1,
                            "#f0f921"
                          ]
                        ]
                      }
                    ],
                    "choropleth": [
                      {
                        "type": "choropleth",
                        "colorbar": {
                          "outlinewidth": 0,
                          "ticks": ""
                        }
                      }
                    ],
                    "histogram2d": [
                      {
                        "type": "histogram2d",
                        "colorbar": {
                          "outlinewidth": 0,
                          "ticks": ""
                        },
                        "colorscale": [
                          [
                            0,
                            "#0d0887"
                          ],
                          [
                            0.1111111111111111,
                            "#46039f"
                          ],
                          [
                            0.2222222222222222,
                            "#7201a8"
                          ],
                          [
                            0.3333333333333333,
                            "#9c179e"
                          ],
                          [
                            0.4444444444444444,
                            "#bd3786"
                          ],
                          [
                            0.5555555555555556,
                            "#d8576b"
                          ],
                          [
                            0.6666666666666666,
                            "#ed7953"
                          ],
                          [
                            0.7777777777777778,
                            "#fb9f3a"
                          ],
                          [
                            0.8888888888888888,
                            "#fdca26"
                          ],
                          [
                            1,
                            "#f0f921"
                          ]
                        ]
                      }
                    ],
                    "heatmap": [
                      {
                        "type": "heatmap",
                        "colorbar": {
                          "outlinewidth": 0,
                          "ticks": ""
                        },
                        "colorscale": [
                          [
                            0,
                            "#0d0887"
                          ],
                          [
                            0.1111111111111111,
                            "#46039f"
                          ],
                          [
                            0.2222222222222222,
                            "#7201a8"
                          ],
                          [
                            0.3333333333333333,
                            "#9c179e"
                          ],
                          [
                            0.4444444444444444,
                            "#bd3786"
                          ],
                          [
                            0.5555555555555556,
                            "#d8576b"
                          ],
                          [
                            0.6666666666666666,
                            "#ed7953"
                          ],
                          [
                            0.7777777777777778,
                            "#fb9f3a"
                          ],
                          [
                            0.8888888888888888,
                            "#fdca26"
                          ],
                          [
                            1,
                            "#f0f921"
                          ]
                        ]
                      }
                    ],
                    "heatmapgl": [
                      {
                        "type": "heatmapgl",
                        "colorbar": {
                          "outlinewidth": 0,
                          "ticks": ""
                        },
                        "colorscale": [
                          [
                            0,
                            "#0d0887"
                          ],
                          [
                            0.1111111111111111,
                            "#46039f"
                          ],
                          [
                            0.2222222222222222,
                            "#7201a8"
                          ],
                          [
                            0.3333333333333333,
                            "#9c179e"
                          ],
                          [
                            0.4444444444444444,
                            "#bd3786"
                          ],
                          [
                            0.5555555555555556,
                            "#d8576b"
                          ],
                          [
                            0.6666666666666666,
                            "#ed7953"
                          ],
                          [
                            0.7777777777777778,
                            "#fb9f3a"
                          ],
                          [
                            0.8888888888888888,
                            "#fdca26"
                          ],
                          [
                            1,
                            "#f0f921"
                          ]
                        ]
                      }
                    ],
                    "contourcarpet": [
                      {
                        "type": "contourcarpet",
                        "colorbar": {
                          "outlinewidth": 0,
                          "ticks": ""
                        }
                      }
                    ],
                    "contour": [
                      {
                        "type": "contour",
                        "colorbar": {
                          "outlinewidth": 0,
                          "ticks": ""
                        },
                        "colorscale": [
                          [
                            0,
                            "#0d0887"
                          ],
                          [
                            0.1111111111111111,
                            "#46039f"
                          ],
                          [
                            0.2222222222222222,
                            "#7201a8"
                          ],
                          [
                            0.3333333333333333,
                            "#9c179e"
                          ],
                          [
                            0.4444444444444444,
                            "#bd3786"
                          ],
                          [
                            0.5555555555555556,
                            "#d8576b"
                          ],
                          [
                            0.6666666666666666,
                            "#ed7953"
                          ],
                          [
                            0.7777777777777778,
                            "#fb9f3a"
                          ],
                          [
                            0.8888888888888888,
                            "#fdca26"
                          ],
                          [
                            1,
                            "#f0f921"
                          ]
                        ]
                      }
                    ],
                    "surface": [
                      {
                        "type": "surface",
                        "colorbar": {
                          "outlinewidth": 0,
                          "ticks": ""
                        },
                        "colorscale": [
                          [
                            0,
                            "#0d0887"
                          ],
                          [
                            0.1111111111111111,
                            "#46039f"
                          ],
                          [
                            0.2222222222222222,
                            "#7201a8"
                          ],
                          [
                            0.3333333333333333,
                            "#9c179e"
                          ],
                          [
                            0.4444444444444444,
                            "#bd3786"
                          ],
                          [
                            0.5555555555555556,
                            "#d8576b"
                          ],
                          [
                            0.6666666666666666,
                            "#ed7953"
                          ],
                          [
                            0.7777777777777778,
                            "#fb9f3a"
                          ],
                          [
                            0.8888888888888888,
                            "#fdca26"
                          ],
                          [
                            1,
                            "#f0f921"
                          ]
                        ]
                      }
                    ],
                    "mesh3d": [
                      {
                        "type": "mesh3d",
                        "colorbar": {
                          "outlinewidth": 0,
                          "ticks": ""
                        }
                      }
                    ],
                    "scatter": [
                      {
                        "fillpattern": {
                          "fillmode": "overlay",
                          "size": 10,
                          "solidity": 0.2
                        },
                        "type": "scatter"
                      }
                    ],
                    "parcoords": [
                      {
                        "type": "parcoords",
                        "line": {
                          "colorbar": {
                            "outlinewidth": 0,
                            "ticks": ""
                          }
                        }
                      }
                    ],
                    "scatterpolargl": [
                      {
                        "type": "scatterpolargl",
                        "marker": {
                          "colorbar": {
                            "outlinewidth": 0,
                            "ticks": ""
                          }
                        }
                      }
                    ],
                    "bar": [
                      {
                        "error_x": {
                          "color": "#2a3f5f"
                        },
                        "error_y": {
                          "color": "#2a3f5f"
                        },
                        "marker": {
                          "line": {
                            "color": "#E5ECF6",
                            "width": 0.5
                          },
                          "pattern": {
                            "fillmode": "overlay",
                            "size": 10,
                            "solidity": 0.2
                          }
                        },
                        "type": "bar"
                      }
                    ],
                    "scattergeo": [
                      {
                        "type": "scattergeo",
                        "marker": {
                          "colorbar": {
                            "outlinewidth": 0,
                            "ticks": ""
                          }
                        }
                      }
                    ],
                    "scatterpolar": [
                      {
                        "type": "scatterpolar",
                        "marker": {
                          "colorbar": {
                            "outlinewidth": 0,
                            "ticks": ""
                          }
                        }
                      }
                    ],
                    "histogram": [
                      {
                        "marker": {
                          "pattern": {
                            "fillmode": "overlay",
                            "size": 10,
                            "solidity": 0.2
                          }
                        },
                        "type": "histogram"
                      }
                    ],
                    "scattergl": [
                      {
                        "type": "scattergl",
                        "marker": {
                          "colorbar": {
                            "outlinewidth": 0,
                            "ticks": ""
                          }
                        }
                      }
                    ],
                    "scatter3d": [
                      {
                        "type": "scatter3d",
                        "line": {
                          "colorbar": {
                            "outlinewidth": 0,
                            "ticks": ""
                          }
                        },
                        "marker": {
                          "colorbar": {
                            "outlinewidth": 0,
                            "ticks": ""
                          }
                        }
                      }
                    ],
                    "scattermapbox": [
                      {
                        "type": "scattermapbox",
                        "marker": {
                          "colorbar": {
                            "outlinewidth": 0,
                            "ticks": ""
                          }
                        }
                      }
                    ],
                    "scatterternary": [
                      {
                        "type": "scatterternary",
                        "marker": {
                          "colorbar": {
                            "outlinewidth": 0,
                            "ticks": ""
                          }
                        }
                      }
                    ],
                    "scattercarpet": [
                      {
                        "type": "scattercarpet",
                        "marker": {
                          "colorbar": {
                            "outlinewidth": 0,
                            "ticks": ""
                          }
                        }
                      }
                    ],
                    "carpet": [
                      {
                        "aaxis": {
                          "endlinecolor": "#2a3f5f",
                          "gridcolor": "white",
                          "linecolor": "white",
                          "minorgridcolor": "white",
                          "startlinecolor": "#2a3f5f"
                        },
                        "baxis": {
                          "endlinecolor": "#2a3f5f",
                          "gridcolor": "white",
                          "linecolor": "white",
                          "minorgridcolor": "white",
                          "startlinecolor": "#2a3f5f"
                        },
                        "type": "carpet"
                      }
                    ],
                    "table": [
                      {
                        "cells": {
                          "fill": {
                            "color": "#EBF0F8"
                          },
                          "line": {
                            "color": "white"
                          }
                        },
                        "header": {
                          "fill": {
                            "color": "#C8D4E3"
                          },
                          "line": {
                            "color": "white"
                          }
                        },
                        "type": "table"
                      }
                    ],
                    "barpolar": [
                      {
                        "marker": {
                          "line": {
                            "color": "#E5ECF6",
                            "width": 0.5
                          },
                          "pattern": {
                            "fillmode": "overlay",
                            "size": 10,
                            "solidity": 0.2
                          }
                        },
                        "type": "barpolar"
                      }
                    ],
                    "pie": [
                      {
                        "automargin": true,
                        "type": "pie"
                      }
                    ]
                  },
                  "layout": {
                    "autotypenumbers": "strict",
                    "colorway": [
                      "#636efa",
                      "#EF553B",
                      "#00cc96",
                      "#ab63fa",
                      "#FFA15A",
                      "#19d3f3",
                      "#FF6692",
                      "#B6E880",
                      "#FF97FF",
                      "#FECB52"
                    ],
                    "font": {
                      "color": "#2a3f5f"
                    },
                    "hovermode": "closest",
                    "hoverlabel": {
                      "align": "left"
                    },
                    "paper_bgcolor": "white",
                    "plot_bgcolor": "#E5ECF6",
                    "polar": {
                      "bgcolor": "#E5ECF6",
                      "angularaxis": {
                        "gridcolor": "white",
                        "linecolor": "white",
                        "ticks": ""
                      },
                      "radialaxis": {
                        "gridcolor": "white",
                        "linecolor": "white",
                        "ticks": ""
                      }
                    },
                    "ternary": {
                      "bgcolor": "#E5ECF6",
                      "aaxis": {
                        "gridcolor": "white",
                        "linecolor": "white",
                        "ticks": ""
                      },
                      "baxis": {
                        "gridcolor": "white",
                        "linecolor": "white",
                        "ticks": ""
                      },
                      "caxis": {
                        "gridcolor": "white",
                        "linecolor": "white",
                        "ticks": ""
                      }
                    },
                    "coloraxis": {
                      "colorbar": {
                        "outlinewidth": 0,
                        "ticks": ""
                      }
                    },
                    "colorscale": {
                      "sequential": [
                        [
                          0,
                          "#0d0887"
                        ],
                        [
                          0.1111111111111111,
                          "#46039f"
                        ],
                        [
                          0.2222222222222222,
                          "#7201a8"
                        ],
                        [
                          0.3333333333333333,
                          "#9c179e"
                        ],
                        [
                          0.4444444444444444,
                          "#bd3786"
                        ],
                        [
                          0.5555555555555556,
                          "#d8576b"
                        ],
                        [
                          0.6666666666666666,
                          "#ed7953"
                        ],
                        [
                          0.7777777777777778,
                          "#fb9f3a"
                        ],
                        [
                          0.8888888888888888,
                          "#fdca26"
                        ],
                        [
                          1,
                          "#f0f921"
                        ]
                      ],
                      "sequentialminus": [
                        [
                          0,
                          "#0d0887"
                        ],
                        [
                          0.1111111111111111,
                          "#46039f"
                        ],
                        [
                          0.2222222222222222,
                          "#7201a8"
                        ],
                        [
                          0.3333333333333333,
                          "#9c179e"
                        ],
                        [
                          0.4444444444444444,
                          "#bd3786"
                        ],
                        [
                          0.5555555555555556,
                          "#d8576b"
                        ],
                        [
                          0.6666666666666666,
                          "#ed7953"
                        ],
                        [
                          0.7777777777777778,
                          "#fb9f3a"
                        ],
                        [
                          0.8888888888888888,
                          "#fdca26"
                        ],
                        [
                          1,
                          "#f0f921"
                        ]
                      ],
                      "diverging": [
                        [
                          0,
                          "#8e0152"
                        ],
                        [
                          0.1,
                          "#c51b7d"
                        ],
                        [
                          0.2,
                          "#de77ae"
                        ],
                        [
                          0.3,
                          "#f1b6da"
                        ],
                        [
                          0.4,
                          "#fde0ef"
                        ],
                        [
                          0.5,
                          "#f7f7f7"
                        ],
                        [
                          0.6,
                          "#e6f5d0"
                        ],
                        [
                          0.7,
                          "#b8e186"
                        ],
                        [
                          0.8,
                          "#7fbc41"
                        ],
                        [
                          0.9,
                          "#4d9221"
                        ],
                        [
                          1,
                          "#276419"
                        ]
                      ]
                    },
                    "xaxis": {
                      "gridcolor": "white",
                      "linecolor": "white",
                      "ticks": "",
                      "title": {
                        "standoff": 15
                      },
                      "zerolinecolor": "white",
                      "automargin": true,
                      "zerolinewidth": 2
                    },
                    "yaxis": {
                      "gridcolor": "white",
                      "linecolor": "white",
                      "ticks": "",
                      "title": {
                        "standoff": 15
                      },
                      "zerolinecolor": "white",
                      "automargin": true,
                      "zerolinewidth": 2
                    },
                    "scene": {
                      "xaxis": {
                        "backgroundcolor": "#E5ECF6",
                        "gridcolor": "white",
                        "linecolor": "white",
                        "showbackground": true,
                        "ticks": "",
                        "zerolinecolor": "white",
                        "gridwidth": 2
                      },
                      "yaxis": {
                        "backgroundcolor": "#E5ECF6",
                        "gridcolor": "white",
                        "linecolor": "white",
                        "showbackground": true,
                        "ticks": "",
                        "zerolinecolor": "white",
                        "gridwidth": 2
                      },
                      "zaxis": {
                        "backgroundcolor": "#E5ECF6",
                        "gridcolor": "white",
                        "linecolor": "white",
                        "showbackground": true,
                        "ticks": "",
                        "zerolinecolor": "white",
                        "gridwidth": 2
                      }
                    },
                    "shapedefaults": {
                      "line": {
                        "color": "#2a3f5f"
                      }
                    },
                    "annotationdefaults": {
                      "arrowcolor": "#2a3f5f",
                      "arrowhead": 0,
                      "arrowwidth": 1
                    },
                    "geo": {
                      "bgcolor": "white",
                      "landcolor": "#E5ECF6",
                      "subunitcolor": "white",
                      "showland": true,
                      "showlakes": true,
                      "lakecolor": "white"
                    },
                    "title": {
                      "x": 0.05
                    },
                    "mapbox": {
                      "style": "light"
                    }
                  }
                }
              },
              "config": {
                "plotlyServerURL": "https://plot.ly"
              }
            },
            "text/html": [
              "<div>                            <div id=\"175db1c5-10a5-4d0a-8163-3d28371279df\" class=\"plotly-graph-div\" style=\"height:700px; width:900px;\"></div>            <script type=\"text/javascript\">                require([\"plotly\"], function(Plotly) {                    window.PLOTLYENV=window.PLOTLYENV || {};                                    if (document.getElementById(\"175db1c5-10a5-4d0a-8163-3d28371279df\")) {                    Plotly.newPlot(                        \"175db1c5-10a5-4d0a-8163-3d28371279df\",                        [{\"colorscale\":[[0.0,\"#440154\"],[0.1111111111111111,\"#482878\"],[0.2222222222222222,\"#3e4989\"],[0.3333333333333333,\"#31688e\"],[0.4444444444444444,\"#26828e\"],[0.5555555555555556,\"#1f9e89\"],[0.6666666666666666,\"#35b779\"],[0.7777777777777778,\"#6ece58\"],[0.8888888888888888,\"#b5de2b\"],[1.0,\"#fde725\"]],\"opacity\":1.0,\"reversescale\":false,\"x\":[\"Age\",\"DailyRate\",\"DistanceFromHome\",\"Education\",\"EmployeeNumber\",\"EnvironmentSatisfaction\",\"HourlyRate\",\"JobInvolvement\",\"JobLevel\",\"JobSatisfaction\",\"MonthlyIncome\",\"MonthlyRate\",\"NumCompaniesWorked\",\"PercentSalaryHike\",\"PerformanceRating\",\"RelationshipSatisfaction\",\"StockOptionLevel\",\"TotalWorkingYears\",\"TrainingTimesLastYear\",\"WorkLifeBalance\",\"YearsAtCompany\",\"YearsInCurrentRole\",\"YearsSinceLastPromotion\",\"YearsWithCurrManager\"],\"y\":[\"Age\",\"DailyRate\",\"DistanceFromHome\",\"Education\",\"EmployeeNumber\",\"EnvironmentSatisfaction\",\"HourlyRate\",\"JobInvolvement\",\"JobLevel\",\"JobSatisfaction\",\"MonthlyIncome\",\"MonthlyRate\",\"NumCompaniesWorked\",\"PercentSalaryHike\",\"PerformanceRating\",\"RelationshipSatisfaction\",\"StockOptionLevel\",\"TotalWorkingYears\",\"TrainingTimesLastYear\",\"WorkLifeBalance\",\"YearsAtCompany\",\"YearsInCurrentRole\",\"YearsSinceLastPromotion\",\"YearsWithCurrManager\"],\"z\":[[1.0,-0.018690239860413495,-0.018410982901274107,-0.042824382741872294,0.016277510601056547,0.09501003888023556,0.03744740186992415,0.005804654922935847,0.010895576113931549,-0.0050277390422598335,-0.011137128934904532,-0.005685251415070037,0.01847470819342184,0.06552038284227844,-0.001992562278820686,-0.013007143351151844,0.02643919696601443,-0.020924908885575983,-0.016193667503583063,-0.005672623468403229,-0.03820278519200852,-0.02119742469228339,-0.014676699559004585,0.0007508035098304896],[-0.018690239860413495,1.0,-0.028385273884331985,0.04751942610938536,-0.04727198317343811,0.0139650047701159,0.010147060653635869,-0.010103271715699977,0.04183572779408232,0.0159062251051328,-0.011820785234080679,-0.017062363856548395,0.006971864216078292,-0.0010913810971014063,-0.008790950595186225,0.030160984643578585,-0.01211284413893132,0.006880108790872513,-0.02204128283021985,0.018096240907501487,0.017374902830724574,0.0012824837467430544,0.002922381274840574,0.012404933860171951],[-0.018410982901274107,-0.028385273884331985,1.0,0.01391998041558486,0.041081453599949705,-0.0358179354042694,0.06012841505298222,0.005555859913181102,0.004790516675745702,0.01261135128799486,0.036568794585071875,-0.018773229376149322,0.0029487115960945567,-0.017686597109557733,-0.016931408087565415,-0.02614844926316582,0.035316214802590055,-0.01943858477976786,0.039222307041647565,-0.013901997668791568,0.0016233496841439796,-0.01033830844919636,-0.009317231225070527,-0.02783400874703625],[-0.042824382741872294,0.04751942610938536,0.01391998041558486,1.0,0.0157988940252287,0.012609254065577214,-0.014377086504083304,0.06440669849875084,-0.019009140267409998,0.06232493837190614,0.002459093646962524,0.043853899356970164,-0.011747147143217382,0.00003229441407669399,0.028449151233428102,-0.007300434086385918,-0.010406123444455368,-0.00479473568880843,0.027097199631070653,0.043876002480045855,0.008603057659375636,0.020966016850361674,-0.04077344474106985,-0.04828946977696331],[0.016277510601056547,-0.04727198317343811,0.041081453599949705,0.0157988940252287,1.0,0.01747278513851782,0.0011837598539676827,0.030156665801768692,0.01026441503556109,0.04308665652041093,0.028769008767491326,0.000264138986743313,0.04735768877753255,0.02202436919384336,-0.008603833453124954,0.04722042296369856,-0.004140852971432673,-0.025103300619397816,-0.007858557992585197,-0.016659601798466067,0.00844018353704242,0.007492687634993392,-0.008265930509522504,-0.003539943844788173],[0.09501003888023556,0.0139650047701159,-0.0358179354042694,0.012609254065577214,0.01747278513851782,1.0,0.04664008997557316,-0.049553801712932166,0.04330613023420528,0.019239877467798233,-0.0413370213741368,-0.03673447588677197,-0.012162880551174256,-0.018477323071011457,0.04829048934417942,-0.03822422346729754,-0.0072860983669350635,-0.04276535921764348,0.03321289491538418,-0.050420251085457536,-0.041753484509105133,-0.0059245154516332525,0.032004426752344314,-0.06527292002010932],[0.03744740186992415,0.010147060653635869,0.06012841505298222,-0.014377086504083304,0.0011837598539676827,0.04664008997557316,1.0,0.013278046138367333,0.018086244525676212,0.07716640754222806,-0.037366098664382424,-0.05732174624348399,-0.00444000474393869,-0.007085817381104272,0.0007042219525417427,-0.04788509096974188,0.03401985947702868,-0.045401646620866216,-0.0571930283139209,-0.003909889099579696,-0.017761237057785224,-0.013732513221737542,0.03489886839208872,-0.014306221312435502],[0.005804654922935847,-0.010103271715699977,0.005555859913181102,0.06440669849875084,0.030156665801768692,-0.049553801712932166,0.013278046138367333,1.0,0.0025789511028715384,0.0007690824590121181,-0.04844710000991253,0.020971604315039957,0.04038295680116496,-0.048483450969518165,0.002627365967069146,-0.023876168154567914,0.04081755575472197,-0.011097508678110223,0.0034285201084169243,-0.026252490830211275,-0.009913577824431911,0.020161866722006136,-0.016049397822866986,0.04698952723256996],[0.010895576113931549,0.04183572779408232,0.004790516675745702,-0.019009140267409998,0.01026441503556109,0.04330613023420528,0.018086244525676212,0.0025789511028715384,1.0,0.04319260305970951,0.03713857702266011,-0.045496782550583474,0.02087802040102024,-0.017941864566528628,0.00478678937524916,-0.03116099603713415,0.0450961165179204,0.008081866800159196,-0.023792211540492592,-0.045191203219071635,-0.04084100862121262,-0.04045078268951359,-0.007905479447472491,0.03137952714728496],[-0.0050277390422598335,0.0159062251051328,0.01261135128799486,0.06232493837190614,0.04308665652041093,0.019239877467798233,0.07716640754222806,0.0007690824590121181,0.04319260305970951,1.0,0.006490452396540389,-0.04071887333839888,0.04714525795814506,0.002216933284668906,0.01629531672313559,-0.006534522986999073,0.06600290274085047,-0.028222032243161565,0.03787522435807828,0.029754029212713144,0.008131704346930788,-0.043782285927024225,-0.008138553056023325,-0.010964444241725277],[-0.011137128934904532,-0.011820785234080679,0.036568794585071875,0.002459093646962524,0.028769008767491326,-0.0413370213741368,-0.037366098664382424,-0.04844710000991253,0.03713857702266011,0.006490452396540389,1.0,-0.03545994881793541,0.02233087360493293,0.006496716300512842,-0.014442253104494906,-0.015350336489801941,-0.023854044037025915,0.04541970830227269,0.029691702517147384,-0.005536213372393011,-0.01304685452091593,-0.017763772656577012,0.03296633346122579,0.01647712552898424],[-0.005685251415070037,-0.017062363856548395,-0.018773229376149322,0.043853899356970164,0.000264138986743313,-0.03673447588677197,-0.05732174624348399,0.020971604315039957,-0.045496782550583474,-0.04071887333839888,-0.03545994881793541,1.0,0.0016354088283674151,-0.034335569060257205,-0.024407778057040006,0.021716578468543902,-0.02539349854895532,-0.004403874729930533,-0.03120032392303682,0.04433382511136824,0.01502282749689997,-0.02342196415886918,0.04090903867361797,-0.053136406592793575],[0.01847470819342184,0.006971864216078292,0.0029487115960945567,-0.011747147143217382,0.04735768877753255,-0.012162880551174256,-0.00444000474393869,0.04038295680116496,0.02087802040102024,0.04714525795814506,0.02233087360493293,0.0016354088283674151,1.0,-0.043544072189766664,-0.018925260746777788,-0.012087594782873003,0.011901721404883714,0.018402393644204273,-0.01661040327805158,-0.011373989017161657,0.012986529359759533,0.004171005877224712,-0.025394041900215596,0.027743336703271868],[0.06552038284227844,-0.0010913810971014063,-0.017686597109557733,0.00003229441407669399,0.02202436919384336,-0.018477323071011457,-0.007085817381104272,-0.048483450969518165,-0.017941864566528628,0.002216933284668906,0.006496716300512842,-0.034335569060257205,-0.043544072189766664,1.0,0.03033417279023662,-0.0133083263332979,-0.012755059452638141,-0.03745173306572882,0.023099607553456716,-0.019974124468666338,0.018053594575674608,-0.02243943519120334,0.017967947283848228,-0.09780336792633826],[-0.001992562278820686,-0.008790950595186225,-0.016931408087565415,0.028449151233428102,-0.008603833453124954,0.04829048934417942,0.0007042219525417427,0.002627365967069146,0.00478678937524916,0.01629531672313559,-0.014442253104494906,-0.024407778057040006,-0.018925260746777788,0.03033417279023662,1.0,0.011394363732852882,0.04169836321534232,-0.04448499715784359,-0.005495268224467432,0.06358923491641297,0.007678672293365427,0.02398200875026179,-0.04037745339295841,-0.01908604633514974],[-0.013007143351151844,0.030160984643578585,-0.02614844926316582,-0.007300434086385918,0.04722042296369856,-0.03822422346729754,-0.04788509096974188,-0.023876168154567914,-0.03116099603713415,-0.006534522986999073,-0.015350336489801941,0.021716578468543902,-0.012087594782873003,-0.0133083263332979,0.011394363732852882,1.0,0.041912759088210155,-0.01783881203173472,0.03165076244676935,-0.03643561025618945,0.030208022120249797,-0.006585166842028791,-0.013679148202502971,-0.014622733239946084],[0.02643919696601443,-0.01211284413893132,0.035316214802590055,-0.010406123444455368,-0.004140852971432673,-0.0072860983669350635,0.03401985947702868,0.04081755575472197,0.0450961165179204,0.06600290274085047,-0.023854044037025915,-0.02539349854895532,0.011901721404883714,-0.012755059452638141,0.04169836321534232,0.041912759088210155,1.0,-0.001704997497752733,0.004825185433501169,0.030888216141283068,0.009421644547371466,0.024886920697782793,0.03789147275821592,0.004790092825503479],[-0.020924908885575983,0.006880108790872513,-0.01943858477976786,-0.00479473568880843,-0.025103300619397816,-0.04276535921764348,-0.045401646620866216,-0.011097508678110223,0.008081866800159196,-0.028222032243161565,0.04541970830227269,-0.004403874729930533,0.018402393644204273,-0.03745173306572882,-0.04448499715784359,-0.01783881203173472,-0.001704997497752733,1.0,-0.019422573901802923,0.005963531999948247,0.026350652782485818,-0.04907420732931389,-0.01016611307162311,0.015866127523730067],[-0.016193667503583063,-0.02204128283021985,0.039222307041647565,0.027097199631070653,-0.007858557992585197,0.03321289491538418,-0.0571930283139209,0.0034285201084169243,-0.023792211540492592,0.03787522435807828,0.029691702517147384,-0.03120032392303682,-0.01661040327805158,0.023099607553456716,-0.005495268224467432,0.03165076244676935,0.004825185433501169,-0.019422573901802923,1.0,0.03512862889624672,0.0543588279185353,0.021238094320344663,0.024026355775750508,-0.0306102407295274],[-0.005672623468403229,0.018096240907501487,-0.013901997668791568,0.043876002480045855,-0.016659601798466067,-0.050420251085457536,-0.003909889099579696,-0.026252490830211275,-0.045191203219071635,0.029754029212713144,-0.005536213372393011,0.04433382511136824,-0.011373989017161657,-0.019974124468666338,0.06358923491641297,-0.03643561025618945,0.030888216141283068,0.005963531999948247,0.03512862889624672,1.0,-0.0327242012777741,-0.06901757824161155,0.0013065188063678258,-0.07209445455009475],[-0.03820278519200852,0.017374902830724574,0.0016233496841439796,0.008603057659375636,0.00844018353704242,-0.041753484509105133,-0.017761237057785224,-0.009913577824431911,-0.04084100862121262,0.008131704346930788,-0.01304685452091593,0.01502282749689997,0.012986529359759533,0.018053594575674608,0.007678672293365427,0.030208022120249797,0.009421644547371466,0.026350652782485818,0.0543588279185353,-0.0327242012777741,1.0,0.03551059715635318,-0.0034452674896169213,-0.04579796063357913],[-0.02119742469228339,0.0012824837467430544,-0.01033830844919636,0.020966016850361674,0.007492687634993392,-0.0059245154516332525,-0.013732513221737542,0.020161866722006136,-0.04045078268951359,-0.043782285927024225,-0.017763772656577012,-0.02342196415886918,0.004171005877224712,-0.02243943519120334,0.02398200875026179,-0.006585166842028791,0.024886920697782793,-0.04907420732931389,0.021238094320344663,-0.06901757824161155,0.03551059715635318,1.0,0.01290995958715613,0.018272530384000406],[-0.014676699559004585,0.002922381274840574,-0.009317231225070527,-0.04077344474106985,-0.008265930509522504,0.032004426752344314,0.03489886839208872,-0.016049397822866986,-0.007905479447472491,-0.008138553056023325,0.03296633346122579,0.04090903867361797,-0.025394041900215596,0.017967947283848228,-0.04037745339295841,-0.013679148202502971,0.03789147275821592,-0.01016611307162311,0.024026355775750508,0.0013065188063678258,-0.0034452674896169213,0.01290995958715613,1.0,-0.04845670600296772],[0.0007508035098304896,0.012404933860171951,-0.02783400874703625,-0.04828946977696331,-0.003539943844788173,-0.06527292002010932,-0.014306221312435502,0.04698952723256996,0.03137952714728496,-0.010964444241725277,0.01647712552898424,-0.053136406592793575,0.027743336703271868,-0.09780336792633826,-0.01908604633514974,-0.014622733239946084,0.004790092825503479,0.015866127523730067,-0.0306102407295274,-0.07209445455009475,-0.04579796063357913,0.018272530384000406,-0.04845670600296772,1.0]],\"type\":\"heatmap\"}],                        {\"height\":700,\"title\":{\"text\":\"Pearson Correlation of Numerical Features\"},\"width\":900,\"xaxis\":{\"nticks\":36,\"ticks\":\"\"},\"yaxis\":{\"ticks\":\"\"},\"template\":{\"data\":{\"histogram2dcontour\":[{\"type\":\"histogram2dcontour\",\"colorbar\":{\"outlinewidth\":0,\"ticks\":\"\"},\"colorscale\":[[0.0,\"#0d0887\"],[0.1111111111111111,\"#46039f\"],[0.2222222222222222,\"#7201a8\"],[0.3333333333333333,\"#9c179e\"],[0.4444444444444444,\"#bd3786\"],[0.5555555555555556,\"#d8576b\"],[0.6666666666666666,\"#ed7953\"],[0.7777777777777778,\"#fb9f3a\"],[0.8888888888888888,\"#fdca26\"],[1.0,\"#f0f921\"]]}],\"choropleth\":[{\"type\":\"choropleth\",\"colorbar\":{\"outlinewidth\":0,\"ticks\":\"\"}}],\"histogram2d\":[{\"type\":\"histogram2d\",\"colorbar\":{\"outlinewidth\":0,\"ticks\":\"\"},\"colorscale\":[[0.0,\"#0d0887\"],[0.1111111111111111,\"#46039f\"],[0.2222222222222222,\"#7201a8\"],[0.3333333333333333,\"#9c179e\"],[0.4444444444444444,\"#bd3786\"],[0.5555555555555556,\"#d8576b\"],[0.6666666666666666,\"#ed7953\"],[0.7777777777777778,\"#fb9f3a\"],[0.8888888888888888,\"#fdca26\"],[1.0,\"#f0f921\"]]}],\"heatmap\":[{\"type\":\"heatmap\",\"colorbar\":{\"outlinewidth\":0,\"ticks\":\"\"},\"colorscale\":[[0.0,\"#0d0887\"],[0.1111111111111111,\"#46039f\"],[0.2222222222222222,\"#7201a8\"],[0.3333333333333333,\"#9c179e\"],[0.4444444444444444,\"#bd3786\"],[0.5555555555555556,\"#d8576b\"],[0.6666666666666666,\"#ed7953\"],[0.7777777777777778,\"#fb9f3a\"],[0.8888888888888888,\"#fdca26\"],[1.0,\"#f0f921\"]]}],\"heatmapgl\":[{\"type\":\"heatmapgl\",\"colorbar\":{\"outlinewidth\":0,\"ticks\":\"\"},\"colorscale\":[[0.0,\"#0d0887\"],[0.1111111111111111,\"#46039f\"],[0.2222222222222222,\"#7201a8\"],[0.3333333333333333,\"#9c179e\"],[0.4444444444444444,\"#bd3786\"],[0.5555555555555556,\"#d8576b\"],[0.6666666666666666,\"#ed7953\"],[0.7777777777777778,\"#fb9f3a\"],[0.8888888888888888,\"#fdca26\"],[1.0,\"#f0f921\"]]}],\"contourcarpet\":[{\"type\":\"contourcarpet\",\"colorbar\":{\"outlinewidth\":0,\"ticks\":\"\"}}],\"contour\":[{\"type\":\"contour\",\"colorbar\":{\"outlinewidth\":0,\"ticks\":\"\"},\"colorscale\":[[0.0,\"#0d0887\"],[0.1111111111111111,\"#46039f\"],[0.2222222222222222,\"#7201a8\"],[0.3333333333333333,\"#9c179e\"],[0.4444444444444444,\"#bd3786\"],[0.5555555555555556,\"#d8576b\"],[0.6666666666666666,\"#ed7953\"],[0.7777777777777778,\"#fb9f3a\"],[0.8888888888888888,\"#fdca26\"],[1.0,\"#f0f921\"]]}],\"surface\":[{\"type\":\"surface\",\"colorbar\":{\"outlinewidth\":0,\"ticks\":\"\"},\"colorscale\":[[0.0,\"#0d0887\"],[0.1111111111111111,\"#46039f\"],[0.2222222222222222,\"#7201a8\"],[0.3333333333333333,\"#9c179e\"],[0.4444444444444444,\"#bd3786\"],[0.5555555555555556,\"#d8576b\"],[0.6666666666666666,\"#ed7953\"],[0.7777777777777778,\"#fb9f3a\"],[0.8888888888888888,\"#fdca26\"],[1.0,\"#f0f921\"]]}],\"mesh3d\":[{\"type\":\"mesh3d\",\"colorbar\":{\"outlinewidth\":0,\"ticks\":\"\"}}],\"scatter\":[{\"fillpattern\":{\"fillmode\":\"overlay\",\"size\":10,\"solidity\":0.2},\"type\":\"scatter\"}],\"parcoords\":[{\"type\":\"parcoords\",\"line\":{\"colorbar\":{\"outlinewidth\":0,\"ticks\":\"\"}}}],\"scatterpolargl\":[{\"type\":\"scatterpolargl\",\"marker\":{\"colorbar\":{\"outlinewidth\":0,\"ticks\":\"\"}}}],\"bar\":[{\"error_x\":{\"color\":\"#2a3f5f\"},\"error_y\":{\"color\":\"#2a3f5f\"},\"marker\":{\"line\":{\"color\":\"#E5ECF6\",\"width\":0.5},\"pattern\":{\"fillmode\":\"overlay\",\"size\":10,\"solidity\":0.2}},\"type\":\"bar\"}],\"scattergeo\":[{\"type\":\"scattergeo\",\"marker\":{\"colorbar\":{\"outlinewidth\":0,\"ticks\":\"\"}}}],\"scatterpolar\":[{\"type\":\"scatterpolar\",\"marker\":{\"colorbar\":{\"outlinewidth\":0,\"ticks\":\"\"}}}],\"histogram\":[{\"marker\":{\"pattern\":{\"fillmode\":\"overlay\",\"size\":10,\"solidity\":0.2}},\"type\":\"histogram\"}],\"scattergl\":[{\"type\":\"scattergl\",\"marker\":{\"colorbar\":{\"outlinewidth\":0,\"ticks\":\"\"}}}],\"scatter3d\":[{\"type\":\"scatter3d\",\"line\":{\"colorbar\":{\"outlinewidth\":0,\"ticks\":\"\"}},\"marker\":{\"colorbar\":{\"outlinewidth\":0,\"ticks\":\"\"}}}],\"scattermapbox\":[{\"type\":\"scattermapbox\",\"marker\":{\"colorbar\":{\"outlinewidth\":0,\"ticks\":\"\"}}}],\"scatterternary\":[{\"type\":\"scatterternary\",\"marker\":{\"colorbar\":{\"outlinewidth\":0,\"ticks\":\"\"}}}],\"scattercarpet\":[{\"type\":\"scattercarpet\",\"marker\":{\"colorbar\":{\"outlinewidth\":0,\"ticks\":\"\"}}}],\"carpet\":[{\"aaxis\":{\"endlinecolor\":\"#2a3f5f\",\"gridcolor\":\"white\",\"linecolor\":\"white\",\"minorgridcolor\":\"white\",\"startlinecolor\":\"#2a3f5f\"},\"baxis\":{\"endlinecolor\":\"#2a3f5f\",\"gridcolor\":\"white\",\"linecolor\":\"white\",\"minorgridcolor\":\"white\",\"startlinecolor\":\"#2a3f5f\"},\"type\":\"carpet\"}],\"table\":[{\"cells\":{\"fill\":{\"color\":\"#EBF0F8\"},\"line\":{\"color\":\"white\"}},\"header\":{\"fill\":{\"color\":\"#C8D4E3\"},\"line\":{\"color\":\"white\"}},\"type\":\"table\"}],\"barpolar\":[{\"marker\":{\"line\":{\"color\":\"#E5ECF6\",\"width\":0.5},\"pattern\":{\"fillmode\":\"overlay\",\"size\":10,\"solidity\":0.2}},\"type\":\"barpolar\"}],\"pie\":[{\"automargin\":true,\"type\":\"pie\"}]},\"layout\":{\"autotypenumbers\":\"strict\",\"colorway\":[\"#636efa\",\"#EF553B\",\"#00cc96\",\"#ab63fa\",\"#FFA15A\",\"#19d3f3\",\"#FF6692\",\"#B6E880\",\"#FF97FF\",\"#FECB52\"],\"font\":{\"color\":\"#2a3f5f\"},\"hovermode\":\"closest\",\"hoverlabel\":{\"align\":\"left\"},\"paper_bgcolor\":\"white\",\"plot_bgcolor\":\"#E5ECF6\",\"polar\":{\"bgcolor\":\"#E5ECF6\",\"angularaxis\":{\"gridcolor\":\"white\",\"linecolor\":\"white\",\"ticks\":\"\"},\"radialaxis\":{\"gridcolor\":\"white\",\"linecolor\":\"white\",\"ticks\":\"\"}},\"ternary\":{\"bgcolor\":\"#E5ECF6\",\"aaxis\":{\"gridcolor\":\"white\",\"linecolor\":\"white\",\"ticks\":\"\"},\"baxis\":{\"gridcolor\":\"white\",\"linecolor\":\"white\",\"ticks\":\"\"},\"caxis\":{\"gridcolor\":\"white\",\"linecolor\":\"white\",\"ticks\":\"\"}},\"coloraxis\":{\"colorbar\":{\"outlinewidth\":0,\"ticks\":\"\"}},\"colorscale\":{\"sequential\":[[0.0,\"#0d0887\"],[0.1111111111111111,\"#46039f\"],[0.2222222222222222,\"#7201a8\"],[0.3333333333333333,\"#9c179e\"],[0.4444444444444444,\"#bd3786\"],[0.5555555555555556,\"#d8576b\"],[0.6666666666666666,\"#ed7953\"],[0.7777777777777778,\"#fb9f3a\"],[0.8888888888888888,\"#fdca26\"],[1.0,\"#f0f921\"]],\"sequentialminus\":[[0.0,\"#0d0887\"],[0.1111111111111111,\"#46039f\"],[0.2222222222222222,\"#7201a8\"],[0.3333333333333333,\"#9c179e\"],[0.4444444444444444,\"#bd3786\"],[0.5555555555555556,\"#d8576b\"],[0.6666666666666666,\"#ed7953\"],[0.7777777777777778,\"#fb9f3a\"],[0.8888888888888888,\"#fdca26\"],[1.0,\"#f0f921\"]],\"diverging\":[[0,\"#8e0152\"],[0.1,\"#c51b7d\"],[0.2,\"#de77ae\"],[0.3,\"#f1b6da\"],[0.4,\"#fde0ef\"],[0.5,\"#f7f7f7\"],[0.6,\"#e6f5d0\"],[0.7,\"#b8e186\"],[0.8,\"#7fbc41\"],[0.9,\"#4d9221\"],[1,\"#276419\"]]},\"xaxis\":{\"gridcolor\":\"white\",\"linecolor\":\"white\",\"ticks\":\"\",\"title\":{\"standoff\":15},\"zerolinecolor\":\"white\",\"automargin\":true,\"zerolinewidth\":2},\"yaxis\":{\"gridcolor\":\"white\",\"linecolor\":\"white\",\"ticks\":\"\",\"title\":{\"standoff\":15},\"zerolinecolor\":\"white\",\"automargin\":true,\"zerolinewidth\":2},\"scene\":{\"xaxis\":{\"backgroundcolor\":\"#E5ECF6\",\"gridcolor\":\"white\",\"linecolor\":\"white\",\"showbackground\":true,\"ticks\":\"\",\"zerolinecolor\":\"white\",\"gridwidth\":2},\"yaxis\":{\"backgroundcolor\":\"#E5ECF6\",\"gridcolor\":\"white\",\"linecolor\":\"white\",\"showbackground\":true,\"ticks\":\"\",\"zerolinecolor\":\"white\",\"gridwidth\":2},\"zaxis\":{\"backgroundcolor\":\"#E5ECF6\",\"gridcolor\":\"white\",\"linecolor\":\"white\",\"showbackground\":true,\"ticks\":\"\",\"zerolinecolor\":\"white\",\"gridwidth\":2}},\"shapedefaults\":{\"line\":{\"color\":\"#2a3f5f\"}},\"annotationdefaults\":{\"arrowcolor\":\"#2a3f5f\",\"arrowhead\":0,\"arrowwidth\":1},\"geo\":{\"bgcolor\":\"white\",\"landcolor\":\"#E5ECF6\",\"subunitcolor\":\"white\",\"showland\":true,\"showlakes\":true,\"lakecolor\":\"white\"},\"title\":{\"x\":0.05},\"mapbox\":{\"style\":\"light\"}}}},                        {\"responsive\": true}                    ).then(function(){\n",
              "                            \n",
              "var gd = document.getElementById('175db1c5-10a5-4d0a-8163-3d28371279df');\n",
              "var x = new MutationObserver(function (mutations, observer) {{\n",
              "        var display = window.getComputedStyle(gd).display;\n",
              "        if (!display || display === 'none') {{\n",
              "            console.log([gd, 'removed!']);\n",
              "            Plotly.purge(gd);\n",
              "            observer.disconnect();\n",
              "        }}\n",
              "}});\n",
              "\n",
              "// Listen for the removal of the full notebook cells\n",
              "var notebookContainer = gd.closest('#notebook-container');\n",
              "if (notebookContainer) {{\n",
              "    x.observe(notebookContainer, {childList: true});\n",
              "}}\n",
              "\n",
              "// Listen for the clearing of the current output cell\n",
              "var outputEl = gd.closest('.output');\n",
              "if (outputEl) {{\n",
              "    x.observe(outputEl, {childList: true});\n",
              "}}\n",
              "\n",
              "                        })                };                });            </script>        </div>"
            ]
          },
          "metadata": {}
        }
      ]
    },
    {
      "cell_type": "code",
      "source": [
        "import pandas as pd\n",
        "import numpy as np\n",
        "\n",
        "# Placeholder: Define the attrition DataFrame (replace with your actual data)\n",
        "# For demonstration, creating a dummy dataset\n",
        "attrition = pd.DataFrame({\n",
        "    'Attrition': np.random.choice(['Yes', 'No'], 1000),\n",
        "    'Age': np.random.randint(18, 65, 1000),\n",
        "    'DailyRate': np.random.randint(100, 1500, 1000),\n",
        "    'DistanceFromHome': np.random.randint(1, 50, 1000),\n",
        "    'Education': np.random.randint(1, 5, 1000),\n",
        "    'Gender': np.random.choice(['Male', 'Female'], 1000),\n",
        "    'JobRole': np.random.choice(['Sales', 'Research', 'HR'], 1000),\n",
        "    'MaritalStatus': np.random.choice(['Single', 'Married', 'Divorced'], 1000),\n",
        "    'MonthlyIncome': np.random.randint(1000, 20000, 1000),\n",
        "    # Adding Attrition_numerical to avoid KeyError\n",
        "    'Attrition_numerical': np.random.choice([0, 1], 1000)\n",
        "})\n",
        "\n",
        "# Drop the 'Attrition_numerical' column if it exists\n",
        "if 'Attrition_numerical' in attrition.columns:\n",
        "    attrition = attrition.drop(['Attrition_numerical'], axis=1)\n",
        "\n",
        "# Empty list to store columns with categorical data\n",
        "categorical = []\n",
        "for col, value in attrition.items():  # Replaced iteritems() with items()\n",
        "    if value.dtype == 'object':\n",
        "        categorical.append(col)\n",
        "\n",
        "# Store the numerical columns in a list\n",
        "numerical = attrition.columns.difference(categorical)\n",
        "\n",
        "# Print results to verify\n",
        "print(\"Categorical columns:\", categorical)\n",
        "print(\"Numerical columns:\", list(numerical))"
      ],
      "metadata": {
        "id": "yFsu7mDwS2P1",
        "colab": {
          "base_uri": "https://localhost:8080/"
        },
        "outputId": "17fea96c-76e7-4d49-dee8-a9edff6fa459"
      },
      "execution_count": 17,
      "outputs": [
        {
          "output_type": "stream",
          "name": "stdout",
          "text": [
            "Categorical columns: ['Attrition', 'Gender', 'JobRole', 'MaritalStatus']\n",
            "Numerical columns: ['Age', 'DailyRate', 'DistanceFromHome', 'Education', 'MonthlyIncome']\n"
          ]
        }
      ]
    },
    {
      "cell_type": "code",
      "source": [
        "import pandas as pd\n",
        "import numpy as np\n",
        "\n",
        "# Define the attrition DataFrame (replace with your actual data)\n",
        "attrition = pd.DataFrame({\n",
        "    'Attrition': np.random.choice(['Yes', 'No'], 1000),\n",
        "    'Age': np.random.randint(18, 65, 1000),\n",
        "    'DailyRate': np.random.randint(100, 1500, 1000),\n",
        "    'DistanceFromHome': np.random.randint(1, 50, 1000),\n",
        "    'Education': np.random.randint(1, 5, 1000),\n",
        "    'Gender': np.random.choice(['Male', 'Female'], 1000),\n",
        "    'JobRole': np.random.choice(['Sales', 'Research', 'HR'], 1000),\n",
        "    'MaritalStatus': np.random.choice(['Single', 'Married', 'Divorced'], 1000),\n",
        "    'MonthlyIncome': np.random.randint(1000, 20000, 1000)\n",
        "})\n",
        "\n",
        "# Identify categorical and numerical columns (from previous step)\n",
        "categorical = []\n",
        "for col, value in attrition.items():\n",
        "    if value.dtype == 'object':\n",
        "        categorical.append(col)\n",
        "\n",
        "numerical = attrition.columns.difference(categorical)\n",
        "\n",
        "# Process categorical data\n",
        "attrition_cat = attrition[categorical]\n",
        "if 'Attrition' in attrition_cat.columns:\n",
        "    attrition_cat = attrition_cat.drop(['Attrition'], axis=1)  # Dropping the target column safely\n",
        "attrition_cat = pd.get_dummies(attrition_cat)  # One-hot encoding\n",
        "\n",
        "# Display first 3 rows of categorical data\n",
        "print(\"Categorical data (one-hot encoded):\")\n",
        "print(attrition_cat.head(3))\n",
        "\n",
        "# Process numerical data\n",
        "attrition_num = attrition[numerical]\n",
        "\n",
        "# Concatenate numerical and categorical data\n",
        "attrition_final = pd.concat([attrition_num, attrition_cat], axis=1)\n",
        "\n",
        "# Display first 3 rows of final DataFrame\n",
        "print(\"\\nFinal DataFrame:\")\n",
        "print(attrition_final.head(3))"
      ],
      "metadata": {
        "id": "pD93aYlXS2SK",
        "colab": {
          "base_uri": "https://localhost:8080/"
        },
        "outputId": "a042cf72-f428-456b-c5c5-cf674ec81a8e"
      },
      "execution_count": 21,
      "outputs": [
        {
          "output_type": "stream",
          "name": "stdout",
          "text": [
            "Categorical data (one-hot encoded):\n",
            "   Gender_Female  Gender_Male  JobRole_HR  JobRole_Research  JobRole_Sales  \\\n",
            "0          False         True        True             False          False   \n",
            "1           True        False       False             False           True   \n",
            "2          False         True       False             False           True   \n",
            "\n",
            "   MaritalStatus_Divorced  MaritalStatus_Married  MaritalStatus_Single  \n",
            "0                    True                  False                 False  \n",
            "1                   False                   True                 False  \n",
            "2                   False                   True                 False  \n",
            "\n",
            "Final DataFrame:\n",
            "   Age  DailyRate  DistanceFromHome  Education  MonthlyIncome  Gender_Female  \\\n",
            "0   51        711                30          4          17822          False   \n",
            "1   19        948                11          1          18564           True   \n",
            "2   49        680                 4          4           4374          False   \n",
            "\n",
            "   Gender_Male  JobRole_HR  JobRole_Research  JobRole_Sales  \\\n",
            "0         True        True             False          False   \n",
            "1        False       False             False           True   \n",
            "2         True       False             False           True   \n",
            "\n",
            "   MaritalStatus_Divorced  MaritalStatus_Married  MaritalStatus_Single  \n",
            "0                    True                  False                 False  \n",
            "1                   False                   True                 False  \n",
            "2                   False                   True                 False  \n"
          ]
        }
      ]
    },
    {
      "cell_type": "code",
      "source": [
        "target_map = {'Yes':1, 'No':0}\n",
        "# Use the pandas apply method to numerically encode our attrition target variable\n",
        "target = attrition[\"Attrition\"].apply(lambda x: target_map[x])"
      ],
      "metadata": {
        "id": "AXHfdxkbS2Uz"
      },
      "execution_count": 22,
      "outputs": []
    },
    {
      "cell_type": "code",
      "source": [
        "# Install scikit-learn if needed (uncomment in Colab)\n",
        "# !pip install scikit-learn\n",
        "\n",
        "import pandas as pd\n",
        "import numpy as np\n",
        "from sklearn.model_selection import train_test_split  # Updated import\n",
        "\n",
        "# Define the attrition DataFrame and preprocess it (from previous steps)\n",
        "attrition = pd.DataFrame({\n",
        "    'Attrition': np.random.choice(['Yes', 'No'], 1000),\n",
        "    'Age': np.random.randint(18, 65, 1000),\n",
        "    'DailyRate': np.random.randint(100, 1500, 1000),\n",
        "    'DistanceFromHome': np.random.randint(1, 50, 1000),\n",
        "    'Education': np.random.randint(1, 5, 1000),\n",
        "    'Gender': np.random.choice(['Male', 'Female'], 1000),\n",
        "    'JobRole': np.random.choice(['Sales', 'Research', 'HR'], 1000),\n",
        "    'MaritalStatus': np.random.choice(['Single', 'Married', 'Divorced'], 1000),\n",
        "    'MonthlyIncome': np.random.randint(1000, 20000, 1000)\n",
        "})\n",
        "\n",
        "# Identify categorical and numerical columns\n",
        "categorical = [col for col, value in attrition.items() if value.dtype == 'object']\n",
        "numerical = attrition.columns.difference(categorical)\n",
        "\n",
        "# Process categorical data\n",
        "attrition_cat = attrition[categorical]\n",
        "if 'Attrition' in attrition_cat.columns:\n",
        "    attrition_cat = attrition_cat.drop(['Attrition'], axis=1)\n",
        "attrition_cat = pd.get_dummies(attrition_cat)\n",
        "\n",
        "# Process numerical data and concatenate\n",
        "attrition_num = attrition[numerical]\n",
        "attrition_final = pd.concat([attrition_num, attrition_cat], axis=1)\n",
        "\n",
        "# Define the target variable\n",
        "target = attrition['Attrition']  # Assuming 'Attrition' is the target\n",
        "\n",
        "# Split data into train and test sets\n",
        "train, test, target_train, target_val = train_test_split(\n",
        "    attrition_final,\n",
        "    target,\n",
        "    train_size=0.80,  # 80% train, 20% test\n",
        "    random_state=0    # For reproducibility\n",
        ")\n",
        "\n",
        "# Verify the split\n",
        "print(\"Train shape:\", train.shape)\n",
        "print(\"Test shape:\", test.shape)\n",
        "print(\"Target train shape:\", target_train.shape)\n",
        "print(\"Target val shape:\", target_val.shape)"
      ],
      "metadata": {
        "id": "WoAOUaz7S2XD",
        "colab": {
          "base_uri": "https://localhost:8080/"
        },
        "outputId": "22c27c89-6d5c-4849-97f0-a45af81ee231"
      },
      "execution_count": 24,
      "outputs": [
        {
          "output_type": "stream",
          "name": "stdout",
          "text": [
            "Train shape: (800, 13)\n",
            "Test shape: (200, 13)\n",
            "Target train shape: (800,)\n",
            "Target val shape: (200,)\n"
          ]
        }
      ]
    },
    {
      "cell_type": "code",
      "source": [
        "# Install required libraries if needed (uncomment in Colab)\n",
        "# !pip install scikit-learn\n",
        "# !pip install imbalanced-learn\n",
        "\n",
        "import pandas as pd\n",
        "import numpy as np\n",
        "from sklearn.model_selection import train_test_split\n",
        "from imblearn.over_sampling import SMOTE\n",
        "from sklearn.ensemble import RandomForestClassifier\n",
        "from sklearn.metrics import accuracy_score, classification_report\n",
        "\n",
        "# Define and preprocess the attrition DataFrame (from previous steps)\n",
        "attrition = pd.DataFrame({\n",
        "    'Attrition': np.random.choice(['Yes', 'No'], 1000),\n",
        "    'Age': np.random.randint(18, 65, 1000),\n",
        "    'DailyRate': np.random.randint(100, 1500, 1000),\n",
        "    'DistanceFromHome': np.random.randint(1, 50, 1000),\n",
        "    'Education': np.random.randint(1, 5, 1000),\n",
        "    'Gender': np.random.choice(['Male', 'Female'], 1000),\n",
        "    'JobRole': np.random.choice(['Sales', 'Research', 'HR'], 1000),\n",
        "    'MaritalStatus': np.random.choice(['Single', 'Married', 'Divorced'], 1000),\n",
        "    'MonthlyIncome': np.random.randint(1000, 20000, 1000)\n",
        "})\n",
        "\n",
        "# Identify categorical and numerical columns\n",
        "categorical = [col for col, value in attrition.items() if value.dtype == 'object']\n",
        "numerical = attrition.columns.difference(categorical)\n",
        "\n",
        "# Process categorical data\n",
        "attrition_cat = attrition[categorical]\n",
        "if 'Attrition' in attrition_cat.columns:\n",
        "    attrition_cat = attrition_cat.drop(['Attrition'], axis=1)\n",
        "attrition_cat = pd.get_dummies(attrition_cat)\n",
        "\n",
        "# Process numerical data and concatenate\n",
        "attrition_num = attrition[numerical]\n",
        "attrition_final = pd.concat([attrition_num, attrition_cat], axis=1)\n",
        "\n",
        "# Define the target variable\n",
        "target = attrition['Attrition']\n",
        "\n",
        "# Split data into train and test sets\n",
        "train, test, target_train, target_val = train_test_split(\n",
        "    attrition_final,\n",
        "    target,\n",
        "    train_size=0.80,\n",
        "    random_state=0\n",
        ")\n",
        "\n",
        "# Apply SMOTE to oversample the minority class\n",
        "oversampler = SMOTE(random_state=0)\n",
        "smote_train, smote_target = oversampler.fit_resample(train, target_train)\n",
        "\n",
        "# Random Forest parameters\n",
        "seed = 0\n",
        "rf_params = {\n",
        "    'n_jobs': -1,\n",
        "    'n_estimators': 1000,\n",
        "    'max_depth': 4,\n",
        "    'min_samples_leaf': 2,\n",
        "    'max_features': 'sqrt',  # Removed duplicate max_features\n",
        "    'random_state': seed,\n",
        "    'verbose': 0\n",
        "}\n",
        "\n",
        "# Train the Random Forest classifier\n",
        "rf = RandomForestClassifier(**rf_params)\n",
        "rf.fit(smote_train, smote_target)\n",
        "\n",
        "# Make predictions and evaluate\n",
        "rf_predictions = rf.predict(test)\n",
        "print(\"Accuracy score: {}\".format(accuracy_score(target_val, rf_predictions)))\n",
        "print(\"=\"*80)\n",
        "print(classification_report(target_val, rf_predictions))"
      ],
      "metadata": {
        "id": "TXnmM7MfS2ZS",
        "colab": {
          "base_uri": "https://localhost:8080/"
        },
        "outputId": "73b52b64-e190-4a93-b049-b8419e8faa18"
      },
      "execution_count": 26,
      "outputs": [
        {
          "output_type": "stream",
          "name": "stdout",
          "text": [
            "Accuracy score: 0.45\n",
            "================================================================================\n",
            "              precision    recall  f1-score   support\n",
            "\n",
            "          No       0.45      0.49      0.47       100\n",
            "         Yes       0.45      0.41      0.43       100\n",
            "\n",
            "    accuracy                           0.45       200\n",
            "   macro avg       0.45      0.45      0.45       200\n",
            "weighted avg       0.45      0.45      0.45       200\n",
            "\n"
          ]
        }
      ]
    },
    {
      "cell_type": "code",
      "source": [
        "import pandas as pd\n",
        "import numpy as np\n",
        "from sklearn.model_selection import train_test_split\n",
        "from imblearn.over_sampling import SMOTE\n",
        "from sklearn.ensemble import RandomForestClassifier\n",
        "import plotly.graph_objects as go\n",
        "\n",
        "# Define and preprocess the attrition DataFrame\n",
        "attrition = pd.DataFrame({\n",
        "    'Attrition': np.random.choice(['Yes', 'No'], 1000),\n",
        "    'Age': np.random.randint(18, 65, 1000),\n",
        "    'DailyRate': np.random.randint(100, 1500, 1000),\n",
        "    'DistanceFromHome': np.random.randint(1, 50, 1000),\n",
        "    'Education': np.random.randint(1, 5, 1000),\n",
        "    'Gender': np.random.choice(['Male', 'Female'], 1000),\n",
        "    'JobRole': np.random.choice(['Sales', 'Research', 'HR'], 1000),\n",
        "    'MaritalStatus': np.random.choice(['Single', 'Married', 'Divorced'], 1000),\n",
        "    'MonthlyIncome': np.random.randint(1000, 20000, 1000)\n",
        "})\n",
        "\n",
        "# Identify categorical and numerical columns\n",
        "categorical = [col for col, value in attrition.items() if value.dtype == 'object']\n",
        "numerical = attrition.columns.difference(categorical)\n",
        "\n",
        "# Process categorical data\n",
        "attrition_cat = attrition[categorical]\n",
        "if 'Attrition' in attrition_cat.columns:\n",
        "    attrition_cat = attrition_cat.drop(['Attrition'], axis=1)\n",
        "attrition_cat = pd.get_dummies(attrition_cat)\n",
        "\n",
        "# Process numerical data and concatenate\n",
        "attrition_num = attrition[numerical]\n",
        "attrition_final = pd.concat([attrition_num, attrition_cat], axis=1)\n",
        "\n",
        "# Define the target variable\n",
        "target = attrition['Attrition']\n",
        "\n",
        "# Split data into train and test sets\n",
        "train, test, target_train, target_val = train_test_split(\n",
        "    attrition_final,\n",
        "    target,\n",
        "    train_size=0.80,\n",
        "    random_state=0\n",
        ")\n",
        "\n",
        "# Apply SMOTE\n",
        "oversampler = SMOTE(random_state=0)\n",
        "smote_train, smote_target = oversampler.fit_resample(train, target_train)\n",
        "\n",
        "# Train Random Forest\n",
        "rf_params = {\n",
        "    'n_jobs': -1,\n",
        "    'n_estimators': 1000,\n",
        "    'max_depth': 4,\n",
        "    'min_samples_leaf': 2,\n",
        "    'max_features': 'sqrt',\n",
        "    'random_state': 0,\n",
        "    'verbose': 0\n",
        "}\n",
        "rf = RandomForestClassifier(**rf_params)\n",
        "rf.fit(smote_train, smote_target)\n",
        "\n",
        "# Create scatter plot for feature importances\n",
        "trace = go.Scatter(\n",
        "    y=rf.feature_importances_,\n",
        "    x=attrition_final.columns.values,\n",
        "    mode='markers',\n",
        "    marker=dict(\n",
        "        sizemode='diameter',\n",
        "        sizeref=1,\n",
        "        size=13,\n",
        "        color=rf.feature_importances_,\n",
        "        colorscale='Portland',\n",
        "        showscale=True\n",
        "    ),\n",
        "    text=attrition_final.columns.values\n",
        ")\n",
        "data = [trace]\n",
        "\n",
        "layout = go.Layout(\n",
        "    autosize=True,\n",
        "    title='Random Forest Feature Importance',\n",
        "    hovermode='closest',\n",
        "    xaxis=dict(\n",
        "        ticklen=5,\n",
        "        showgrid=False,\n",
        "        zeroline=False,\n",
        "        showline=False\n",
        "    ),\n",
        "    yaxis=dict(\n",
        "        title='Feature Importance',\n",
        "        showgrid=False,\n",
        "        zeroline=False,\n",
        "        ticklen=5,\n",
        "        gridwidth=2\n",
        "    ),\n",
        "    showlegend=False\n",
        ")\n",
        "\n",
        "fig = go.Figure(data=data, layout=layout)\n",
        "fig.show()  # Use show() instead of py.iplot"
      ],
      "metadata": {
        "id": "qAxQBk5MS2bp",
        "colab": {
          "base_uri": "https://localhost:8080/",
          "height": 542
        },
        "outputId": "e910e8a0-55df-48f1-ef1c-001ed32b7f70"
      },
      "execution_count": 29,
      "outputs": [
        {
          "output_type": "display_data",
          "data": {
            "application/vnd.plotly.v1+json": {
              "data": [
                {
                  "marker": {
                    "color": [
                      0.15721469613087533,
                      0.23507904469699595,
                      0.15908458899333552,
                      0.06879147849298746,
                      0.20740052759217573,
                      0.015032071241860408,
                      0.018578292919800996,
                      0.021819790550785905,
                      0.019088402564807885,
                      0.017992843136891146,
                      0.03244328081296997,
                      0.027617378018630432,
                      0.01985760484788309
                    ],
                    "colorscale": [
                      [
                        0,
                        "rgb(12,51,131)"
                      ],
                      [
                        0.25,
                        "rgb(10,136,186)"
                      ],
                      [
                        0.5,
                        "rgb(242,211,56)"
                      ],
                      [
                        0.75,
                        "rgb(242,143,56)"
                      ],
                      [
                        1,
                        "rgb(217,30,30)"
                      ]
                    ],
                    "showscale": true,
                    "size": 13,
                    "sizemode": "diameter",
                    "sizeref": 1
                  },
                  "mode": "markers",
                  "text": [
                    "Age",
                    "DailyRate",
                    "DistanceFromHome",
                    "Education",
                    "MonthlyIncome",
                    "Gender_Female",
                    "Gender_Male",
                    "JobRole_HR",
                    "JobRole_Research",
                    "JobRole_Sales",
                    "MaritalStatus_Divorced",
                    "MaritalStatus_Married",
                    "MaritalStatus_Single"
                  ],
                  "x": [
                    "Age",
                    "DailyRate",
                    "DistanceFromHome",
                    "Education",
                    "MonthlyIncome",
                    "Gender_Female",
                    "Gender_Male",
                    "JobRole_HR",
                    "JobRole_Research",
                    "JobRole_Sales",
                    "MaritalStatus_Divorced",
                    "MaritalStatus_Married",
                    "MaritalStatus_Single"
                  ],
                  "y": [
                    0.15721469613087533,
                    0.23507904469699595,
                    0.15908458899333552,
                    0.06879147849298746,
                    0.20740052759217573,
                    0.015032071241860408,
                    0.018578292919800996,
                    0.021819790550785905,
                    0.019088402564807885,
                    0.017992843136891146,
                    0.03244328081296997,
                    0.027617378018630432,
                    0.01985760484788309
                  ],
                  "type": "scatter"
                }
              ],
              "layout": {
                "autosize": true,
                "hovermode": "closest",
                "showlegend": false,
                "title": {
                  "text": "Random Forest Feature Importance"
                },
                "xaxis": {
                  "showgrid": false,
                  "showline": false,
                  "ticklen": 5,
                  "zeroline": false
                },
                "yaxis": {
                  "gridwidth": 2,
                  "showgrid": false,
                  "ticklen": 5,
                  "title": {
                    "text": "Feature Importance"
                  },
                  "zeroline": false
                },
                "template": {
                  "data": {
                    "histogram2dcontour": [
                      {
                        "type": "histogram2dcontour",
                        "colorbar": {
                          "outlinewidth": 0,
                          "ticks": ""
                        },
                        "colorscale": [
                          [
                            0,
                            "#0d0887"
                          ],
                          [
                            0.1111111111111111,
                            "#46039f"
                          ],
                          [
                            0.2222222222222222,
                            "#7201a8"
                          ],
                          [
                            0.3333333333333333,
                            "#9c179e"
                          ],
                          [
                            0.4444444444444444,
                            "#bd3786"
                          ],
                          [
                            0.5555555555555556,
                            "#d8576b"
                          ],
                          [
                            0.6666666666666666,
                            "#ed7953"
                          ],
                          [
                            0.7777777777777778,
                            "#fb9f3a"
                          ],
                          [
                            0.8888888888888888,
                            "#fdca26"
                          ],
                          [
                            1,
                            "#f0f921"
                          ]
                        ]
                      }
                    ],
                    "choropleth": [
                      {
                        "type": "choropleth",
                        "colorbar": {
                          "outlinewidth": 0,
                          "ticks": ""
                        }
                      }
                    ],
                    "histogram2d": [
                      {
                        "type": "histogram2d",
                        "colorbar": {
                          "outlinewidth": 0,
                          "ticks": ""
                        },
                        "colorscale": [
                          [
                            0,
                            "#0d0887"
                          ],
                          [
                            0.1111111111111111,
                            "#46039f"
                          ],
                          [
                            0.2222222222222222,
                            "#7201a8"
                          ],
                          [
                            0.3333333333333333,
                            "#9c179e"
                          ],
                          [
                            0.4444444444444444,
                            "#bd3786"
                          ],
                          [
                            0.5555555555555556,
                            "#d8576b"
                          ],
                          [
                            0.6666666666666666,
                            "#ed7953"
                          ],
                          [
                            0.7777777777777778,
                            "#fb9f3a"
                          ],
                          [
                            0.8888888888888888,
                            "#fdca26"
                          ],
                          [
                            1,
                            "#f0f921"
                          ]
                        ]
                      }
                    ],
                    "heatmap": [
                      {
                        "type": "heatmap",
                        "colorbar": {
                          "outlinewidth": 0,
                          "ticks": ""
                        },
                        "colorscale": [
                          [
                            0,
                            "#0d0887"
                          ],
                          [
                            0.1111111111111111,
                            "#46039f"
                          ],
                          [
                            0.2222222222222222,
                            "#7201a8"
                          ],
                          [
                            0.3333333333333333,
                            "#9c179e"
                          ],
                          [
                            0.4444444444444444,
                            "#bd3786"
                          ],
                          [
                            0.5555555555555556,
                            "#d8576b"
                          ],
                          [
                            0.6666666666666666,
                            "#ed7953"
                          ],
                          [
                            0.7777777777777778,
                            "#fb9f3a"
                          ],
                          [
                            0.8888888888888888,
                            "#fdca26"
                          ],
                          [
                            1,
                            "#f0f921"
                          ]
                        ]
                      }
                    ],
                    "heatmapgl": [
                      {
                        "type": "heatmapgl",
                        "colorbar": {
                          "outlinewidth": 0,
                          "ticks": ""
                        },
                        "colorscale": [
                          [
                            0,
                            "#0d0887"
                          ],
                          [
                            0.1111111111111111,
                            "#46039f"
                          ],
                          [
                            0.2222222222222222,
                            "#7201a8"
                          ],
                          [
                            0.3333333333333333,
                            "#9c179e"
                          ],
                          [
                            0.4444444444444444,
                            "#bd3786"
                          ],
                          [
                            0.5555555555555556,
                            "#d8576b"
                          ],
                          [
                            0.6666666666666666,
                            "#ed7953"
                          ],
                          [
                            0.7777777777777778,
                            "#fb9f3a"
                          ],
                          [
                            0.8888888888888888,
                            "#fdca26"
                          ],
                          [
                            1,
                            "#f0f921"
                          ]
                        ]
                      }
                    ],
                    "contourcarpet": [
                      {
                        "type": "contourcarpet",
                        "colorbar": {
                          "outlinewidth": 0,
                          "ticks": ""
                        }
                      }
                    ],
                    "contour": [
                      {
                        "type": "contour",
                        "colorbar": {
                          "outlinewidth": 0,
                          "ticks": ""
                        },
                        "colorscale": [
                          [
                            0,
                            "#0d0887"
                          ],
                          [
                            0.1111111111111111,
                            "#46039f"
                          ],
                          [
                            0.2222222222222222,
                            "#7201a8"
                          ],
                          [
                            0.3333333333333333,
                            "#9c179e"
                          ],
                          [
                            0.4444444444444444,
                            "#bd3786"
                          ],
                          [
                            0.5555555555555556,
                            "#d8576b"
                          ],
                          [
                            0.6666666666666666,
                            "#ed7953"
                          ],
                          [
                            0.7777777777777778,
                            "#fb9f3a"
                          ],
                          [
                            0.8888888888888888,
                            "#fdca26"
                          ],
                          [
                            1,
                            "#f0f921"
                          ]
                        ]
                      }
                    ],
                    "surface": [
                      {
                        "type": "surface",
                        "colorbar": {
                          "outlinewidth": 0,
                          "ticks": ""
                        },
                        "colorscale": [
                          [
                            0,
                            "#0d0887"
                          ],
                          [
                            0.1111111111111111,
                            "#46039f"
                          ],
                          [
                            0.2222222222222222,
                            "#7201a8"
                          ],
                          [
                            0.3333333333333333,
                            "#9c179e"
                          ],
                          [
                            0.4444444444444444,
                            "#bd3786"
                          ],
                          [
                            0.5555555555555556,
                            "#d8576b"
                          ],
                          [
                            0.6666666666666666,
                            "#ed7953"
                          ],
                          [
                            0.7777777777777778,
                            "#fb9f3a"
                          ],
                          [
                            0.8888888888888888,
                            "#fdca26"
                          ],
                          [
                            1,
                            "#f0f921"
                          ]
                        ]
                      }
                    ],
                    "mesh3d": [
                      {
                        "type": "mesh3d",
                        "colorbar": {
                          "outlinewidth": 0,
                          "ticks": ""
                        }
                      }
                    ],
                    "scatter": [
                      {
                        "fillpattern": {
                          "fillmode": "overlay",
                          "size": 10,
                          "solidity": 0.2
                        },
                        "type": "scatter"
                      }
                    ],
                    "parcoords": [
                      {
                        "type": "parcoords",
                        "line": {
                          "colorbar": {
                            "outlinewidth": 0,
                            "ticks": ""
                          }
                        }
                      }
                    ],
                    "scatterpolargl": [
                      {
                        "type": "scatterpolargl",
                        "marker": {
                          "colorbar": {
                            "outlinewidth": 0,
                            "ticks": ""
                          }
                        }
                      }
                    ],
                    "bar": [
                      {
                        "error_x": {
                          "color": "#2a3f5f"
                        },
                        "error_y": {
                          "color": "#2a3f5f"
                        },
                        "marker": {
                          "line": {
                            "color": "#E5ECF6",
                            "width": 0.5
                          },
                          "pattern": {
                            "fillmode": "overlay",
                            "size": 10,
                            "solidity": 0.2
                          }
                        },
                        "type": "bar"
                      }
                    ],
                    "scattergeo": [
                      {
                        "type": "scattergeo",
                        "marker": {
                          "colorbar": {
                            "outlinewidth": 0,
                            "ticks": ""
                          }
                        }
                      }
                    ],
                    "scatterpolar": [
                      {
                        "type": "scatterpolar",
                        "marker": {
                          "colorbar": {
                            "outlinewidth": 0,
                            "ticks": ""
                          }
                        }
                      }
                    ],
                    "histogram": [
                      {
                        "marker": {
                          "pattern": {
                            "fillmode": "overlay",
                            "size": 10,
                            "solidity": 0.2
                          }
                        },
                        "type": "histogram"
                      }
                    ],
                    "scattergl": [
                      {
                        "type": "scattergl",
                        "marker": {
                          "colorbar": {
                            "outlinewidth": 0,
                            "ticks": ""
                          }
                        }
                      }
                    ],
                    "scatter3d": [
                      {
                        "type": "scatter3d",
                        "line": {
                          "colorbar": {
                            "outlinewidth": 0,
                            "ticks": ""
                          }
                        },
                        "marker": {
                          "colorbar": {
                            "outlinewidth": 0,
                            "ticks": ""
                          }
                        }
                      }
                    ],
                    "scattermapbox": [
                      {
                        "type": "scattermapbox",
                        "marker": {
                          "colorbar": {
                            "outlinewidth": 0,
                            "ticks": ""
                          }
                        }
                      }
                    ],
                    "scatterternary": [
                      {
                        "type": "scatterternary",
                        "marker": {
                          "colorbar": {
                            "outlinewidth": 0,
                            "ticks": ""
                          }
                        }
                      }
                    ],
                    "scattercarpet": [
                      {
                        "type": "scattercarpet",
                        "marker": {
                          "colorbar": {
                            "outlinewidth": 0,
                            "ticks": ""
                          }
                        }
                      }
                    ],
                    "carpet": [
                      {
                        "aaxis": {
                          "endlinecolor": "#2a3f5f",
                          "gridcolor": "white",
                          "linecolor": "white",
                          "minorgridcolor": "white",
                          "startlinecolor": "#2a3f5f"
                        },
                        "baxis": {
                          "endlinecolor": "#2a3f5f",
                          "gridcolor": "white",
                          "linecolor": "white",
                          "minorgridcolor": "white",
                          "startlinecolor": "#2a3f5f"
                        },
                        "type": "carpet"
                      }
                    ],
                    "table": [
                      {
                        "cells": {
                          "fill": {
                            "color": "#EBF0F8"
                          },
                          "line": {
                            "color": "white"
                          }
                        },
                        "header": {
                          "fill": {
                            "color": "#C8D4E3"
                          },
                          "line": {
                            "color": "white"
                          }
                        },
                        "type": "table"
                      }
                    ],
                    "barpolar": [
                      {
                        "marker": {
                          "line": {
                            "color": "#E5ECF6",
                            "width": 0.5
                          },
                          "pattern": {
                            "fillmode": "overlay",
                            "size": 10,
                            "solidity": 0.2
                          }
                        },
                        "type": "barpolar"
                      }
                    ],
                    "pie": [
                      {
                        "automargin": true,
                        "type": "pie"
                      }
                    ]
                  },
                  "layout": {
                    "autotypenumbers": "strict",
                    "colorway": [
                      "#636efa",
                      "#EF553B",
                      "#00cc96",
                      "#ab63fa",
                      "#FFA15A",
                      "#19d3f3",
                      "#FF6692",
                      "#B6E880",
                      "#FF97FF",
                      "#FECB52"
                    ],
                    "font": {
                      "color": "#2a3f5f"
                    },
                    "hovermode": "closest",
                    "hoverlabel": {
                      "align": "left"
                    },
                    "paper_bgcolor": "white",
                    "plot_bgcolor": "#E5ECF6",
                    "polar": {
                      "bgcolor": "#E5ECF6",
                      "angularaxis": {
                        "gridcolor": "white",
                        "linecolor": "white",
                        "ticks": ""
                      },
                      "radialaxis": {
                        "gridcolor": "white",
                        "linecolor": "white",
                        "ticks": ""
                      }
                    },
                    "ternary": {
                      "bgcolor": "#E5ECF6",
                      "aaxis": {
                        "gridcolor": "white",
                        "linecolor": "white",
                        "ticks": ""
                      },
                      "baxis": {
                        "gridcolor": "white",
                        "linecolor": "white",
                        "ticks": ""
                      },
                      "caxis": {
                        "gridcolor": "white",
                        "linecolor": "white",
                        "ticks": ""
                      }
                    },
                    "coloraxis": {
                      "colorbar": {
                        "outlinewidth": 0,
                        "ticks": ""
                      }
                    },
                    "colorscale": {
                      "sequential": [
                        [
                          0,
                          "#0d0887"
                        ],
                        [
                          0.1111111111111111,
                          "#46039f"
                        ],
                        [
                          0.2222222222222222,
                          "#7201a8"
                        ],
                        [
                          0.3333333333333333,
                          "#9c179e"
                        ],
                        [
                          0.4444444444444444,
                          "#bd3786"
                        ],
                        [
                          0.5555555555555556,
                          "#d8576b"
                        ],
                        [
                          0.6666666666666666,
                          "#ed7953"
                        ],
                        [
                          0.7777777777777778,
                          "#fb9f3a"
                        ],
                        [
                          0.8888888888888888,
                          "#fdca26"
                        ],
                        [
                          1,
                          "#f0f921"
                        ]
                      ],
                      "sequentialminus": [
                        [
                          0,
                          "#0d0887"
                        ],
                        [
                          0.1111111111111111,
                          "#46039f"
                        ],
                        [
                          0.2222222222222222,
                          "#7201a8"
                        ],
                        [
                          0.3333333333333333,
                          "#9c179e"
                        ],
                        [
                          0.4444444444444444,
                          "#bd3786"
                        ],
                        [
                          0.5555555555555556,
                          "#d8576b"
                        ],
                        [
                          0.6666666666666666,
                          "#ed7953"
                        ],
                        [
                          0.7777777777777778,
                          "#fb9f3a"
                        ],
                        [
                          0.8888888888888888,
                          "#fdca26"
                        ],
                        [
                          1,
                          "#f0f921"
                        ]
                      ],
                      "diverging": [
                        [
                          0,
                          "#8e0152"
                        ],
                        [
                          0.1,
                          "#c51b7d"
                        ],
                        [
                          0.2,
                          "#de77ae"
                        ],
                        [
                          0.3,
                          "#f1b6da"
                        ],
                        [
                          0.4,
                          "#fde0ef"
                        ],
                        [
                          0.5,
                          "#f7f7f7"
                        ],
                        [
                          0.6,
                          "#e6f5d0"
                        ],
                        [
                          0.7,
                          "#b8e186"
                        ],
                        [
                          0.8,
                          "#7fbc41"
                        ],
                        [
                          0.9,
                          "#4d9221"
                        ],
                        [
                          1,
                          "#276419"
                        ]
                      ]
                    },
                    "xaxis": {
                      "gridcolor": "white",
                      "linecolor": "white",
                      "ticks": "",
                      "title": {
                        "standoff": 15
                      },
                      "zerolinecolor": "white",
                      "automargin": true,
                      "zerolinewidth": 2
                    },
                    "yaxis": {
                      "gridcolor": "white",
                      "linecolor": "white",
                      "ticks": "",
                      "title": {
                        "standoff": 15
                      },
                      "zerolinecolor": "white",
                      "automargin": true,
                      "zerolinewidth": 2
                    },
                    "scene": {
                      "xaxis": {
                        "backgroundcolor": "#E5ECF6",
                        "gridcolor": "white",
                        "linecolor": "white",
                        "showbackground": true,
                        "ticks": "",
                        "zerolinecolor": "white",
                        "gridwidth": 2
                      },
                      "yaxis": {
                        "backgroundcolor": "#E5ECF6",
                        "gridcolor": "white",
                        "linecolor": "white",
                        "showbackground": true,
                        "ticks": "",
                        "zerolinecolor": "white",
                        "gridwidth": 2
                      },
                      "zaxis": {
                        "backgroundcolor": "#E5ECF6",
                        "gridcolor": "white",
                        "linecolor": "white",
                        "showbackground": true,
                        "ticks": "",
                        "zerolinecolor": "white",
                        "gridwidth": 2
                      }
                    },
                    "shapedefaults": {
                      "line": {
                        "color": "#2a3f5f"
                      }
                    },
                    "annotationdefaults": {
                      "arrowcolor": "#2a3f5f",
                      "arrowhead": 0,
                      "arrowwidth": 1
                    },
                    "geo": {
                      "bgcolor": "white",
                      "landcolor": "#E5ECF6",
                      "subunitcolor": "white",
                      "showland": true,
                      "showlakes": true,
                      "lakecolor": "white"
                    },
                    "title": {
                      "x": 0.05
                    },
                    "mapbox": {
                      "style": "light"
                    }
                  }
                }
              },
              "config": {
                "plotlyServerURL": "https://plot.ly"
              }
            },
            "text/html": [
              "<div>                            <div id=\"ff898efb-25db-4953-954f-98656ad161e7\" class=\"plotly-graph-div\" style=\"height:525px; width:100%;\"></div>            <script type=\"text/javascript\">                require([\"plotly\"], function(Plotly) {                    window.PLOTLYENV=window.PLOTLYENV || {};                                    if (document.getElementById(\"ff898efb-25db-4953-954f-98656ad161e7\")) {                    Plotly.newPlot(                        \"ff898efb-25db-4953-954f-98656ad161e7\",                        [{\"marker\":{\"color\":[0.15721469613087533,0.23507904469699595,0.15908458899333552,0.06879147849298746,0.20740052759217573,0.015032071241860408,0.018578292919800996,0.021819790550785905,0.019088402564807885,0.017992843136891146,0.03244328081296997,0.027617378018630432,0.01985760484788309],\"colorscale\":[[0.0,\"rgb(12,51,131)\"],[0.25,\"rgb(10,136,186)\"],[0.5,\"rgb(242,211,56)\"],[0.75,\"rgb(242,143,56)\"],[1.0,\"rgb(217,30,30)\"]],\"showscale\":true,\"size\":13,\"sizemode\":\"diameter\",\"sizeref\":1},\"mode\":\"markers\",\"text\":[\"Age\",\"DailyRate\",\"DistanceFromHome\",\"Education\",\"MonthlyIncome\",\"Gender_Female\",\"Gender_Male\",\"JobRole_HR\",\"JobRole_Research\",\"JobRole_Sales\",\"MaritalStatus_Divorced\",\"MaritalStatus_Married\",\"MaritalStatus_Single\"],\"x\":[\"Age\",\"DailyRate\",\"DistanceFromHome\",\"Education\",\"MonthlyIncome\",\"Gender_Female\",\"Gender_Male\",\"JobRole_HR\",\"JobRole_Research\",\"JobRole_Sales\",\"MaritalStatus_Divorced\",\"MaritalStatus_Married\",\"MaritalStatus_Single\"],\"y\":[0.15721469613087533,0.23507904469699595,0.15908458899333552,0.06879147849298746,0.20740052759217573,0.015032071241860408,0.018578292919800996,0.021819790550785905,0.019088402564807885,0.017992843136891146,0.03244328081296997,0.027617378018630432,0.01985760484788309],\"type\":\"scatter\"}],                        {\"autosize\":true,\"hovermode\":\"closest\",\"showlegend\":false,\"title\":{\"text\":\"Random Forest Feature Importance\"},\"xaxis\":{\"showgrid\":false,\"showline\":false,\"ticklen\":5,\"zeroline\":false},\"yaxis\":{\"gridwidth\":2,\"showgrid\":false,\"ticklen\":5,\"title\":{\"text\":\"Feature Importance\"},\"zeroline\":false},\"template\":{\"data\":{\"histogram2dcontour\":[{\"type\":\"histogram2dcontour\",\"colorbar\":{\"outlinewidth\":0,\"ticks\":\"\"},\"colorscale\":[[0.0,\"#0d0887\"],[0.1111111111111111,\"#46039f\"],[0.2222222222222222,\"#7201a8\"],[0.3333333333333333,\"#9c179e\"],[0.4444444444444444,\"#bd3786\"],[0.5555555555555556,\"#d8576b\"],[0.6666666666666666,\"#ed7953\"],[0.7777777777777778,\"#fb9f3a\"],[0.8888888888888888,\"#fdca26\"],[1.0,\"#f0f921\"]]}],\"choropleth\":[{\"type\":\"choropleth\",\"colorbar\":{\"outlinewidth\":0,\"ticks\":\"\"}}],\"histogram2d\":[{\"type\":\"histogram2d\",\"colorbar\":{\"outlinewidth\":0,\"ticks\":\"\"},\"colorscale\":[[0.0,\"#0d0887\"],[0.1111111111111111,\"#46039f\"],[0.2222222222222222,\"#7201a8\"],[0.3333333333333333,\"#9c179e\"],[0.4444444444444444,\"#bd3786\"],[0.5555555555555556,\"#d8576b\"],[0.6666666666666666,\"#ed7953\"],[0.7777777777777778,\"#fb9f3a\"],[0.8888888888888888,\"#fdca26\"],[1.0,\"#f0f921\"]]}],\"heatmap\":[{\"type\":\"heatmap\",\"colorbar\":{\"outlinewidth\":0,\"ticks\":\"\"},\"colorscale\":[[0.0,\"#0d0887\"],[0.1111111111111111,\"#46039f\"],[0.2222222222222222,\"#7201a8\"],[0.3333333333333333,\"#9c179e\"],[0.4444444444444444,\"#bd3786\"],[0.5555555555555556,\"#d8576b\"],[0.6666666666666666,\"#ed7953\"],[0.7777777777777778,\"#fb9f3a\"],[0.8888888888888888,\"#fdca26\"],[1.0,\"#f0f921\"]]}],\"heatmapgl\":[{\"type\":\"heatmapgl\",\"colorbar\":{\"outlinewidth\":0,\"ticks\":\"\"},\"colorscale\":[[0.0,\"#0d0887\"],[0.1111111111111111,\"#46039f\"],[0.2222222222222222,\"#7201a8\"],[0.3333333333333333,\"#9c179e\"],[0.4444444444444444,\"#bd3786\"],[0.5555555555555556,\"#d8576b\"],[0.6666666666666666,\"#ed7953\"],[0.7777777777777778,\"#fb9f3a\"],[0.8888888888888888,\"#fdca26\"],[1.0,\"#f0f921\"]]}],\"contourcarpet\":[{\"type\":\"contourcarpet\",\"colorbar\":{\"outlinewidth\":0,\"ticks\":\"\"}}],\"contour\":[{\"type\":\"contour\",\"colorbar\":{\"outlinewidth\":0,\"ticks\":\"\"},\"colorscale\":[[0.0,\"#0d0887\"],[0.1111111111111111,\"#46039f\"],[0.2222222222222222,\"#7201a8\"],[0.3333333333333333,\"#9c179e\"],[0.4444444444444444,\"#bd3786\"],[0.5555555555555556,\"#d8576b\"],[0.6666666666666666,\"#ed7953\"],[0.7777777777777778,\"#fb9f3a\"],[0.8888888888888888,\"#fdca26\"],[1.0,\"#f0f921\"]]}],\"surface\":[{\"type\":\"surface\",\"colorbar\":{\"outlinewidth\":0,\"ticks\":\"\"},\"colorscale\":[[0.0,\"#0d0887\"],[0.1111111111111111,\"#46039f\"],[0.2222222222222222,\"#7201a8\"],[0.3333333333333333,\"#9c179e\"],[0.4444444444444444,\"#bd3786\"],[0.5555555555555556,\"#d8576b\"],[0.6666666666666666,\"#ed7953\"],[0.7777777777777778,\"#fb9f3a\"],[0.8888888888888888,\"#fdca26\"],[1.0,\"#f0f921\"]]}],\"mesh3d\":[{\"type\":\"mesh3d\",\"colorbar\":{\"outlinewidth\":0,\"ticks\":\"\"}}],\"scatter\":[{\"fillpattern\":{\"fillmode\":\"overlay\",\"size\":10,\"solidity\":0.2},\"type\":\"scatter\"}],\"parcoords\":[{\"type\":\"parcoords\",\"line\":{\"colorbar\":{\"outlinewidth\":0,\"ticks\":\"\"}}}],\"scatterpolargl\":[{\"type\":\"scatterpolargl\",\"marker\":{\"colorbar\":{\"outlinewidth\":0,\"ticks\":\"\"}}}],\"bar\":[{\"error_x\":{\"color\":\"#2a3f5f\"},\"error_y\":{\"color\":\"#2a3f5f\"},\"marker\":{\"line\":{\"color\":\"#E5ECF6\",\"width\":0.5},\"pattern\":{\"fillmode\":\"overlay\",\"size\":10,\"solidity\":0.2}},\"type\":\"bar\"}],\"scattergeo\":[{\"type\":\"scattergeo\",\"marker\":{\"colorbar\":{\"outlinewidth\":0,\"ticks\":\"\"}}}],\"scatterpolar\":[{\"type\":\"scatterpolar\",\"marker\":{\"colorbar\":{\"outlinewidth\":0,\"ticks\":\"\"}}}],\"histogram\":[{\"marker\":{\"pattern\":{\"fillmode\":\"overlay\",\"size\":10,\"solidity\":0.2}},\"type\":\"histogram\"}],\"scattergl\":[{\"type\":\"scattergl\",\"marker\":{\"colorbar\":{\"outlinewidth\":0,\"ticks\":\"\"}}}],\"scatter3d\":[{\"type\":\"scatter3d\",\"line\":{\"colorbar\":{\"outlinewidth\":0,\"ticks\":\"\"}},\"marker\":{\"colorbar\":{\"outlinewidth\":0,\"ticks\":\"\"}}}],\"scattermapbox\":[{\"type\":\"scattermapbox\",\"marker\":{\"colorbar\":{\"outlinewidth\":0,\"ticks\":\"\"}}}],\"scatterternary\":[{\"type\":\"scatterternary\",\"marker\":{\"colorbar\":{\"outlinewidth\":0,\"ticks\":\"\"}}}],\"scattercarpet\":[{\"type\":\"scattercarpet\",\"marker\":{\"colorbar\":{\"outlinewidth\":0,\"ticks\":\"\"}}}],\"carpet\":[{\"aaxis\":{\"endlinecolor\":\"#2a3f5f\",\"gridcolor\":\"white\",\"linecolor\":\"white\",\"minorgridcolor\":\"white\",\"startlinecolor\":\"#2a3f5f\"},\"baxis\":{\"endlinecolor\":\"#2a3f5f\",\"gridcolor\":\"white\",\"linecolor\":\"white\",\"minorgridcolor\":\"white\",\"startlinecolor\":\"#2a3f5f\"},\"type\":\"carpet\"}],\"table\":[{\"cells\":{\"fill\":{\"color\":\"#EBF0F8\"},\"line\":{\"color\":\"white\"}},\"header\":{\"fill\":{\"color\":\"#C8D4E3\"},\"line\":{\"color\":\"white\"}},\"type\":\"table\"}],\"barpolar\":[{\"marker\":{\"line\":{\"color\":\"#E5ECF6\",\"width\":0.5},\"pattern\":{\"fillmode\":\"overlay\",\"size\":10,\"solidity\":0.2}},\"type\":\"barpolar\"}],\"pie\":[{\"automargin\":true,\"type\":\"pie\"}]},\"layout\":{\"autotypenumbers\":\"strict\",\"colorway\":[\"#636efa\",\"#EF553B\",\"#00cc96\",\"#ab63fa\",\"#FFA15A\",\"#19d3f3\",\"#FF6692\",\"#B6E880\",\"#FF97FF\",\"#FECB52\"],\"font\":{\"color\":\"#2a3f5f\"},\"hovermode\":\"closest\",\"hoverlabel\":{\"align\":\"left\"},\"paper_bgcolor\":\"white\",\"plot_bgcolor\":\"#E5ECF6\",\"polar\":{\"bgcolor\":\"#E5ECF6\",\"angularaxis\":{\"gridcolor\":\"white\",\"linecolor\":\"white\",\"ticks\":\"\"},\"radialaxis\":{\"gridcolor\":\"white\",\"linecolor\":\"white\",\"ticks\":\"\"}},\"ternary\":{\"bgcolor\":\"#E5ECF6\",\"aaxis\":{\"gridcolor\":\"white\",\"linecolor\":\"white\",\"ticks\":\"\"},\"baxis\":{\"gridcolor\":\"white\",\"linecolor\":\"white\",\"ticks\":\"\"},\"caxis\":{\"gridcolor\":\"white\",\"linecolor\":\"white\",\"ticks\":\"\"}},\"coloraxis\":{\"colorbar\":{\"outlinewidth\":0,\"ticks\":\"\"}},\"colorscale\":{\"sequential\":[[0.0,\"#0d0887\"],[0.1111111111111111,\"#46039f\"],[0.2222222222222222,\"#7201a8\"],[0.3333333333333333,\"#9c179e\"],[0.4444444444444444,\"#bd3786\"],[0.5555555555555556,\"#d8576b\"],[0.6666666666666666,\"#ed7953\"],[0.7777777777777778,\"#fb9f3a\"],[0.8888888888888888,\"#fdca26\"],[1.0,\"#f0f921\"]],\"sequentialminus\":[[0.0,\"#0d0887\"],[0.1111111111111111,\"#46039f\"],[0.2222222222222222,\"#7201a8\"],[0.3333333333333333,\"#9c179e\"],[0.4444444444444444,\"#bd3786\"],[0.5555555555555556,\"#d8576b\"],[0.6666666666666666,\"#ed7953\"],[0.7777777777777778,\"#fb9f3a\"],[0.8888888888888888,\"#fdca26\"],[1.0,\"#f0f921\"]],\"diverging\":[[0,\"#8e0152\"],[0.1,\"#c51b7d\"],[0.2,\"#de77ae\"],[0.3,\"#f1b6da\"],[0.4,\"#fde0ef\"],[0.5,\"#f7f7f7\"],[0.6,\"#e6f5d0\"],[0.7,\"#b8e186\"],[0.8,\"#7fbc41\"],[0.9,\"#4d9221\"],[1,\"#276419\"]]},\"xaxis\":{\"gridcolor\":\"white\",\"linecolor\":\"white\",\"ticks\":\"\",\"title\":{\"standoff\":15},\"zerolinecolor\":\"white\",\"automargin\":true,\"zerolinewidth\":2},\"yaxis\":{\"gridcolor\":\"white\",\"linecolor\":\"white\",\"ticks\":\"\",\"title\":{\"standoff\":15},\"zerolinecolor\":\"white\",\"automargin\":true,\"zerolinewidth\":2},\"scene\":{\"xaxis\":{\"backgroundcolor\":\"#E5ECF6\",\"gridcolor\":\"white\",\"linecolor\":\"white\",\"showbackground\":true,\"ticks\":\"\",\"zerolinecolor\":\"white\",\"gridwidth\":2},\"yaxis\":{\"backgroundcolor\":\"#E5ECF6\",\"gridcolor\":\"white\",\"linecolor\":\"white\",\"showbackground\":true,\"ticks\":\"\",\"zerolinecolor\":\"white\",\"gridwidth\":2},\"zaxis\":{\"backgroundcolor\":\"#E5ECF6\",\"gridcolor\":\"white\",\"linecolor\":\"white\",\"showbackground\":true,\"ticks\":\"\",\"zerolinecolor\":\"white\",\"gridwidth\":2}},\"shapedefaults\":{\"line\":{\"color\":\"#2a3f5f\"}},\"annotationdefaults\":{\"arrowcolor\":\"#2a3f5f\",\"arrowhead\":0,\"arrowwidth\":1},\"geo\":{\"bgcolor\":\"white\",\"landcolor\":\"#E5ECF6\",\"subunitcolor\":\"white\",\"showland\":true,\"showlakes\":true,\"lakecolor\":\"white\"},\"title\":{\"x\":0.05},\"mapbox\":{\"style\":\"light\"}}}},                        {\"responsive\": true}                    ).then(function(){\n",
              "                            \n",
              "var gd = document.getElementById('ff898efb-25db-4953-954f-98656ad161e7');\n",
              "var x = new MutationObserver(function (mutations, observer) {{\n",
              "        var display = window.getComputedStyle(gd).display;\n",
              "        if (!display || display === 'none') {{\n",
              "            console.log([gd, 'removed!']);\n",
              "            Plotly.purge(gd);\n",
              "            observer.disconnect();\n",
              "        }}\n",
              "}});\n",
              "\n",
              "// Listen for the removal of the full notebook cells\n",
              "var notebookContainer = gd.closest('#notebook-container');\n",
              "if (notebookContainer) {{\n",
              "    x.observe(notebookContainer, {childList: true});\n",
              "}}\n",
              "\n",
              "// Listen for the clearing of the current output cell\n",
              "var outputEl = gd.closest('.output');\n",
              "if (outputEl) {{\n",
              "    x.observe(outputEl, {childList: true});\n",
              "}}\n",
              "\n",
              "                        })                };                });            </script>        </div>"
            ]
          },
          "metadata": {}
        }
      ]
    },
    {
      "cell_type": "code",
      "source": [],
      "metadata": {
        "id": "5coeymVzUeFW"
      },
      "execution_count": null,
      "outputs": []
    },
    {
      "cell_type": "code",
      "source": [],
      "metadata": {
        "id": "8nAbhAzwUeCN"
      },
      "execution_count": null,
      "outputs": []
    },
    {
      "cell_type": "code",
      "source": [],
      "metadata": {
        "id": "_4GANODGUd_q"
      },
      "execution_count": null,
      "outputs": []
    },
    {
      "cell_type": "code",
      "source": [],
      "metadata": {
        "id": "b8I5KDGVUd9P"
      },
      "execution_count": null,
      "outputs": []
    }
  ]
}