{
  "nbformat": 4,
  "nbformat_minor": 0,
  "metadata": {
    "colab": {
      "provenance": [],
      "authorship_tag": "ABX9TyP9Dw4AEpKby3dcp5riNE2n",
      "include_colab_link": true
    },
    "kernelspec": {
      "name": "python3",
      "display_name": "Python 3"
    },
    "language_info": {
      "name": "python"
    }
  },
  "cells": [
    {
      "cell_type": "markdown",
      "metadata": {
        "id": "view-in-github",
        "colab_type": "text"
      },
      "source": [
        "<a href=\"https://colab.research.google.com/github/mukulre/Projects/blob/main/API_DS.ipynb\" target=\"_parent\"><img src=\"https://colab.research.google.com/assets/colab-badge.svg\" alt=\"Open In Colab\"/></a>"
      ]
    },
    {
      "cell_type": "code",
      "execution_count": 1,
      "metadata": {
        "colab": {
          "base_uri": "https://localhost:8080/"
        },
        "id": "D1hvGJ0sHDiN",
        "outputId": "7037344f-bb1b-4a47-ad65-ea489546a515"
      },
      "outputs": [
        {
          "output_type": "stream",
          "name": "stdout",
          "text": [
            "107123\n"
          ]
        }
      ],
      "source": [
        "import requests\n",
        "url=\"https://api.coingecko.com/api/v3/simple/price?ids=bitcoin&vs_currencies=usd\"\n",
        "response=requests.get(url)\n",
        "data=response.json()\n",
        "print(data['bitcoin']['usd'])"
      ]
    },
    {
      "cell_type": "code",
      "source": [
        "!pip install pycoingecko"
      ],
      "metadata": {
        "colab": {
          "base_uri": "https://localhost:8080/"
        },
        "id": "R1h0zEttHEbt",
        "outputId": "b52702fb-c09a-49e2-979a-b2bb761b57d0"
      },
      "execution_count": 2,
      "outputs": [
        {
          "output_type": "stream",
          "name": "stdout",
          "text": [
            "Collecting pycoingecko\n",
            "  Downloading pycoingecko-3.2.0-py3-none-any.whl.metadata (16 kB)\n",
            "Requirement already satisfied: requests in /usr/local/lib/python3.11/dist-packages (from pycoingecko) (2.32.3)\n",
            "Requirement already satisfied: charset-normalizer<4,>=2 in /usr/local/lib/python3.11/dist-packages (from requests->pycoingecko) (3.4.2)\n",
            "Requirement already satisfied: idna<4,>=2.5 in /usr/local/lib/python3.11/dist-packages (from requests->pycoingecko) (3.10)\n",
            "Requirement already satisfied: urllib3<3,>=1.21.1 in /usr/local/lib/python3.11/dist-packages (from requests->pycoingecko) (2.4.0)\n",
            "Requirement already satisfied: certifi>=2017.4.17 in /usr/local/lib/python3.11/dist-packages (from requests->pycoingecko) (2025.6.15)\n",
            "Downloading pycoingecko-3.2.0-py3-none-any.whl (10 kB)\n",
            "Installing collected packages: pycoingecko\n",
            "Successfully installed pycoingecko-3.2.0\n"
          ]
        }
      ]
    },
    {
      "cell_type": "code",
      "source": [
        "from pycoingecko import CoinGeckoAPI\n",
        "cg=CoinGeckoAPI()\n",
        "btc_data=cg.get_coin_market_chart_by_id(id='bitcoin',vs_currency='usd',days=30)\n",
        "for timestamp, price in btc_data['prices'][:5]:\n",
        "  print(f\"Timestamp:{timestamp}, Price: {price}\")"
      ],
      "metadata": {
        "colab": {
          "base_uri": "https://localhost:8080/"
        },
        "id": "FkWDamhfHEds",
        "outputId": "0a1c5094-3480-4a3c-abe1-1eb129aba455"
      },
      "execution_count": 4,
      "outputs": [
        {
          "output_type": "stream",
          "name": "stdout",
          "text": [
            "Timestamp:1748851414402, Price: 105368.68890560322\n",
            "Timestamp:1748855018670, Price: 105435.16251218649\n",
            "Timestamp:1748858625008, Price: 104625.38503451426\n",
            "Timestamp:1748862236075, Price: 104408.43975478904\n",
            "Timestamp:1748865821533, Price: 104111.85699254976\n"
          ]
        }
      ]
    },
    {
      "cell_type": "code",
      "source": [],
      "metadata": {
        "id": "BqmfCP3UKw3n"
      },
      "execution_count": null,
      "outputs": []
    },
    {
      "cell_type": "code",
      "source": [],
      "metadata": {
        "id": "_BcO1AjuKxB0"
      },
      "execution_count": null,
      "outputs": []
    },
    {
      "cell_type": "code",
      "source": [],
      "metadata": {
        "id": "ShH4yCOVKxFN"
      },
      "execution_count": null,
      "outputs": []
    },
    {
      "cell_type": "code",
      "source": [],
      "metadata": {
        "id": "FH0zXkkkKxPM"
      },
      "execution_count": null,
      "outputs": []
    },
    {
      "cell_type": "code",
      "source": [],
      "metadata": {
        "id": "Otsiy-JvKxc0"
      },
      "execution_count": null,
      "outputs": []
    },
    {
      "cell_type": "code",
      "source": [],
      "metadata": {
        "id": "wqQtU4nUKxgR"
      },
      "execution_count": null,
      "outputs": []
    }
  ]
}