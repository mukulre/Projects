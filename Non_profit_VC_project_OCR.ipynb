{
  "nbformat": 4,
  "nbformat_minor": 0,
  "metadata": {
    "colab": {
      "provenance": [],
      "include_colab_link": true
    },
    "kernelspec": {
      "name": "python3",
      "display_name": "Python 3"
    },
    "language_info": {
      "name": "python"
    }
  },
  "cells": [
    {
      "cell_type": "markdown",
      "metadata": {
        "id": "view-in-github",
        "colab_type": "text"
      },
      "source": [
        "<a href=\"https://colab.research.google.com/github/mukulre/Projects/blob/main/Non_profit_VC_project_OCR.ipynb\" target=\"_parent\"><img src=\"https://colab.research.google.com/assets/colab-badge.svg\" alt=\"Open In Colab\"/></a>"
      ]
    },
    {
      "cell_type": "code",
      "execution_count": null,
      "metadata": {
        "colab": {
          "base_uri": "https://localhost:8080/"
        },
        "id": "ObLjzJyIlL22",
        "outputId": "6f7810ae-675c-4e40-e7b3-095ee181d55c"
      },
      "outputs": [
        {
          "output_type": "stream",
          "name": "stdout",
          "text": [
            "Requirement already satisfied: pytesseract in /usr/local/lib/python3.11/dist-packages (0.3.13)\n",
            "Requirement already satisfied: packaging>=21.3 in /usr/local/lib/python3.11/dist-packages (from pytesseract) (24.2)\n",
            "Requirement already satisfied: Pillow>=8.0.0 in /usr/local/lib/python3.11/dist-packages (from pytesseract) (11.1.0)\n",
            "Requirement already satisfied: pdf2image in /usr/local/lib/python3.11/dist-packages (1.17.0)\n",
            "Requirement already satisfied: pillow in /usr/local/lib/python3.11/dist-packages (from pdf2image) (11.1.0)\n",
            "Requirement already satisfied: gTTS in /usr/local/lib/python3.11/dist-packages (2.5.4)\n",
            "Requirement already satisfied: requests<3,>=2.27 in /usr/local/lib/python3.11/dist-packages (from gTTS) (2.32.3)\n",
            "Requirement already satisfied: click<8.2,>=7.1 in /usr/local/lib/python3.11/dist-packages (from gTTS) (8.1.8)\n",
            "Requirement already satisfied: charset-normalizer<4,>=2 in /usr/local/lib/python3.11/dist-packages (from requests<3,>=2.27->gTTS) (3.4.1)\n",
            "Requirement already satisfied: idna<4,>=2.5 in /usr/local/lib/python3.11/dist-packages (from requests<3,>=2.27->gTTS) (2.10)\n",
            "Requirement already satisfied: urllib3<3,>=1.21.1 in /usr/local/lib/python3.11/dist-packages (from requests<3,>=2.27->gTTS) (2.3.0)\n",
            "Requirement already satisfied: certifi>=2017.4.17 in /usr/local/lib/python3.11/dist-packages (from requests<3,>=2.27->gTTS) (2024.12.14)\n",
            "Requirement already satisfied: googletrans in /usr/local/lib/python3.11/dist-packages (4.0.0rc1)\n",
            "Requirement already satisfied: httpx==0.13.3 in /usr/local/lib/python3.11/dist-packages (from googletrans) (0.13.3)\n",
            "Requirement already satisfied: certifi in /usr/local/lib/python3.11/dist-packages (from httpx==0.13.3->googletrans) (2024.12.14)\n",
            "Requirement already satisfied: hstspreload in /usr/local/lib/python3.11/dist-packages (from httpx==0.13.3->googletrans) (2025.1.1)\n",
            "Requirement already satisfied: sniffio in /usr/local/lib/python3.11/dist-packages (from httpx==0.13.3->googletrans) (1.3.1)\n",
            "Requirement already satisfied: chardet==3.* in /usr/local/lib/python3.11/dist-packages (from httpx==0.13.3->googletrans) (3.0.4)\n",
            "Requirement already satisfied: idna==2.* in /usr/local/lib/python3.11/dist-packages (from httpx==0.13.3->googletrans) (2.10)\n",
            "Requirement already satisfied: rfc3986<2,>=1.3 in /usr/local/lib/python3.11/dist-packages (from httpx==0.13.3->googletrans) (1.5.0)\n",
            "Requirement already satisfied: httpcore==0.9.* in /usr/local/lib/python3.11/dist-packages (from httpx==0.13.3->googletrans) (0.9.1)\n",
            "Requirement already satisfied: h11<0.10,>=0.8 in /usr/local/lib/python3.11/dist-packages (from httpcore==0.9.*->httpx==0.13.3->googletrans) (0.9.0)\n",
            "Requirement already satisfied: h2==3.* in /usr/local/lib/python3.11/dist-packages (from httpcore==0.9.*->httpx==0.13.3->googletrans) (3.2.0)\n",
            "Requirement already satisfied: hyperframe<6,>=5.2.0 in /usr/local/lib/python3.11/dist-packages (from h2==3.*->httpcore==0.9.*->httpx==0.13.3->googletrans) (5.2.0)\n",
            "Requirement already satisfied: hpack<4,>=3.0 in /usr/local/lib/python3.11/dist-packages (from h2==3.*->httpcore==0.9.*->httpx==0.13.3->googletrans) (3.0.0)\n",
            "Reading package lists... Done\n",
            "Building dependency tree... Done\n",
            "Reading state information... Done\n",
            "poppler-utils is already the newest version (22.02.0-2ubuntu0.6).\n",
            "0 upgraded, 0 newly installed, 0 to remove and 49 not upgraded.\n",
            "Reading package lists... Done\n",
            "Building dependency tree... Done\n",
            "Reading state information... Done\n",
            "tesseract-ocr is already the newest version (4.1.1-2.1build1).\n",
            "0 upgraded, 0 newly installed, 0 to remove and 49 not upgraded.\n"
          ]
        }
      ],
      "source": [
        "!pip install pytesseract\n",
        "!pip install pdf2image\n",
        "!pip install gTTS\n",
        "!pip install googletrans\n",
        "!apt-get install -y poppler-utils\n",
        "!apt-get install -y tesseract-ocr"
      ]
    },
    {
      "cell_type": "code",
      "source": [
        "from pdf2image import convert_from_path\n",
        "import pytesseract\n",
        "from gtts import gTTS\n",
        "import os\n",
        "from PIL import Image\n",
        "from googletrans import Translator"
      ],
      "metadata": {
        "id": "AH_P1Ftblkfv"
      },
      "execution_count": null,
      "outputs": []
    },
    {
      "cell_type": "code",
      "source": [
        "pytesseract.pytesseract.tesseract_cmd = \"/usr/bin/tesseract\""
      ],
      "metadata": {
        "id": "8UgfWUronvfX"
      },
      "execution_count": null,
      "outputs": []
    },
    {
      "cell_type": "code",
      "source": [
        "pdf_path = \"sandhiya.pdf\"\n",
        "output_folder = \"chapters_audio\"\n",
        "os.makedirs(output_folder, exist_ok=True)"
      ],
      "metadata": {
        "id": "Sop88M3rn6Zf"
      },
      "execution_count": null,
      "outputs": []
    },
    {
      "cell_type": "code",
      "source": [
        "chapter_ranges = [\n",
        "    (6, 13),\n",
        "    (14, 23),\n",
        "    (24, 27),\n",
        "    (28, 30),\n",
        "    (31, 36),\n",
        "    (37, 40),\n",
        "    (41, 45),\n",
        "    (46, 49),\n",
        "    (50, 53),\n",
        "    (54, 57),\n",
        "    (58, 62),\n",
        "    (63, 69),\n",
        "    (70, 75),\n",
        "    (76, 79),\n",
        "    (80, 84)\n",
        "]\n"
      ],
      "metadata": {
        "id": "d8BJGQvUoNwO"
      },
      "execution_count": null,
      "outputs": []
    },
    {
      "cell_type": "code",
      "source": [
        "pages = convert_from_path(pdf_path)"
      ],
      "metadata": {
        "id": "609slD-fqXeW"
      },
      "execution_count": null,
      "outputs": []
    },
    {
      "cell_type": "code",
      "source": [
        "# os.makedirs(\"temp_images\", exist_ok=True)\n",
        "# for i, page in enumerate(pages):\n",
        "#     image_path = f\"temp_images/page_{i + 1}.png\"\n",
        "#     page.save(image_path, \"PNG\")  # Save page as PNG\n",
        "#     text = pytesseract.image_to_string(image_path, lang='eng')\n",
        "#     print(f\"Text from page {i + 1}:\")\n",
        "#     print(text)"
      ],
      "metadata": {
        "id": "nPA3v0-br-G7"
      },
      "execution_count": null,
      "outputs": []
    },
    {
      "cell_type": "code",
      "source": [
        "# !tesseract temp_images/page_1.png output_file -l eng\n",
        "# !cat output_file.txt"
      ],
      "metadata": {
        "id": "Vk0jg_1Qsho4"
      },
      "execution_count": null,
      "outputs": []
    },
    {
      "cell_type": "code",
      "source": [
        "# img = \"/content/temp_images/page_1.png\"\n",
        "# print(pytesseract.image_to_string(Image.open(img)))"
      ],
      "metadata": {
        "id": "3SXUNkdvsMPL"
      },
      "execution_count": null,
      "outputs": []
    },
    {
      "cell_type": "code",
      "source": [
        "def extract_text_from_pages(page_range):\n",
        "    text = \"\"\n",
        "    for page_num in range(page_range[0] - 1, page_range[1]):\n",
        "        text += pytesseract.image_to_string(pages[page_num]) + \"\\n\"\n",
        "    return text\n"
      ],
      "metadata": {
        "id": "1IVbQroQqa5V"
      },
      "execution_count": null,
      "outputs": []
    },
    {
      "cell_type": "code",
      "source": [
        "i = 1  # Set the chapter number to 1\n",
        "page_range = chapter_ranges[0]  # Get the first page range\n",
        "\n",
        "print(f\"Processing Chapter {i} (Pages {page_range[0]}-{page_range[1]})...\")\n",
        "chapter_text = extract_text_from_pages(page_range)\n",
        "chapter_text"
      ],
      "metadata": {
        "colab": {
          "base_uri": "https://localhost:8080/",
          "height": 157
        },
        "id": "9dERQcOQrZZt",
        "outputId": "21763004-581b-44ca-c04e-f81b63b6cc3e"
      },
      "execution_count": null,
      "outputs": [
        {
          "output_type": "stream",
          "name": "stdout",
          "text": [
            "Processing Chapter 1 (Pages 6-13)...\n"
          ]
        },
        {
          "output_type": "execute_result",
          "data": {
            "text/plain": [
              "\"PROLOGUE\\n\\x0c\\n«\\n\\netsuya.”\\nThe boy looked at the stranger, startled.\\n\\n“No one in this city has ever seen Tetsuya holding a\\nbow,” he replied. “Everyone here knows him as a car-\\npenter.”\\n\\n“Maybe he gave up, maybe he lost his courage, that\\ndoesn’t matter to me,” insisted the stranger. “But he\\ncannot be considered to be the best archer in the coun-\\ntry if he has abandoned his art. That’s why I’ve been\\ntraveling all these days, in order to challenge him and\\nput an end to a reputation he no longer deserves.”\\n\\nThe boy saw there was no point in arguing; it was\\nbest to take the man to the carpenter’s shop so that he\\ncould see with his own eyes that he was mistaken.\\n\\nTetsuya was in the workshop at the back of his house.\\nHe turned to see who had come in, but his smile froze\\nwhen his eyes fell on the long bag that the stranger was\\ncarrying.\\n\\n“It’s exactly what you think it is,” said the new arrival.\\n\\n« .\\nI did not come here to humiliate or to provoke the\\n\\x0c\\nae\\n\\nMONT NETH\\n\\nae\\n\\naire Z i\\nos? anatase\\n\\nDFU\\n\\ney\\n\\nLae\\nsenses 51 gear\\n\\n \\n\\nig Scalers marge\\n\\nSUSIE ee eee\\n\\nsnowsieomconans®\\n\\nman who has become a legend. | would\\n\\nSI .\\nhat, after all MPL kg\\nprove that, after all my years of Practice “to\\n\\nTh\\nos >t hay\\naged to reach perfection. «Ma\\n\\nTetsuya made as if to resume his work: h\\n. . e@ Was ‘\\nputting the legs on a table.\\n\\n“A man who served as an example for a wh\\nOle gen,\\n\\ncration cannot just disappear as you did,” the stra\\nNger\\n\\nI tried to respect\\nthe way of the bow, and I deserve to have you watch me\\n\\nshoot. If you do this, I will go away and I wil\\n\\nwent on. “I followed your teachings,\\n\\n[ never tell\\nanyone where to find the greatest of all masters,”\\n\\nThe stranger drew from his bag a long bow made\\nfrom varnished bamboo, with the grip slightly below\\ncenter. He bowed to Tetsuya, went out into the garden,\\nand bowed again toward a particular place. Then he\\ntook out an arrow fletched with eagle feathers, stood\\nwith his legs firmly planted on the ground, so as to have\\na solid base for shooting, and with one hand brought\\nthe bow in front of his face, while with the other he\\npositioned the arrow.\\n\\nThe boy watched with a mixture of glee and _\\nment. Tetsuya had now stopped working and was 0\\nserving the stranger with some curiosity.\\n\\nWith the arrow fixed to the bowstring;\\nh the m!\\n\\nthe strange\\n\\nddle o\\n\\nraised the bow so that it was level wit\\n\\n-_ |\\n\\x0c\\nhis chest. He lifted it above his head and, as he slowly\\nlowered his hands again, began to draw the string back.\\n\\nBy the time the arrow was level with his face, the\\nbow was fully drawn. For a moment that seemed to\\nlast an eternity, archer and bow remained utterly still.\\nThe boy was looking at the place where the arrow was\\npointing, but could see nothing.\\n\\nSuddenly, the hand on the string opened, the hand\\nwas pushed backward, the bow in the other hand\\ndescribed a graceful arc, and the arrow disappeared\\nfrom view only to reappear in the distance.\\n\\n“Go and fetch it,” said Tetsuya.\\n\\nThe boy returned with the arrow: it had pierced a\\ncherry, which he found on the ground, forty meters\\naway.\\n\\nTetsuya bowed to the archer, went to a corner of his\\nworkshop, and picked up what looked like a slender\\npiece of wood, delicately curved, wrapped in a long\\nstrip of leather. He slowly unwound the leather and\\nrevealed a bow similar to the stranger's, except that it\\nappeared to have seen far more use.\\n\\n“I have no arrows, so I’ll need to use one of yours. I\\nwill do as you ask, but you will have to keep the prom-\\nise you made, never to reveal the name of the village\\n\\nwhere I live. If anyone asks you about me, say that you\\n\\x0c\\n \\n\\nwent to the ends of the earth trying to find me ani\\neventually learned that I had been bitten by a snake and\\nhad died two days later.”\\n\\nThe stranger nodded and offered him one of his\\narrows.\\n\\nResting one end of the long bamboo bow against the\\nwall and pressing down hard, Tetsuya strung the bow,\\nThen, without a word, he set off toward the mountains,\\n\\nThe stranger and the boy went with him. They walked\\nfor an hour, until they reached a large crevice between\\ntwo rocks through which flowed a rushing river, which\\ncould be crossed only by means of a fraying rope bridge\\nalmost on the point of collapse.\\n\\nQuite calmly, Tetsuya walked to the middle of the\\nbridge, which swayed ominously; he bowed to some-\\nthing on the other side, loaded the bow just as the\\nstranger had done, lifted it up, brought it back level\\nwith his chest, and fired.\\n\\nThe boy and the stranger saw that a ripe peach,\\ne arrow.\\n\\nabout\\n\\ntwenty meters away, had been pierced by th\\n\\n“You pierced a cherry, I pierced a peach,” said Tet\\nsuya, returning to the safety of the bank. “The cherty\\nis smaller. You hit your target from a distance of forty\\n\\n. be\\nmeters, mine was half that. You should, therefore,\\n\\n \\n\\x0c\\nable to repeat what I have just done. Stand there in the\\nmiddle of the bridge and do as I did.”\\n\\nTerrified, the stranger made his way to the middle\\nof the dilapidated bridge, transfixed by the sheer drop\\nbelow his feet. He performed the same ritual gestures\\nand shot at the peach tree, but the arrow sailed past.\\n\\nWhen he returned to the bank, he was deathly pale.\\n\\n“You have skill, dignity, and posture,” said Tetsuya.\\n“You have a good grasp of technique and you have mas-\\ntered the bow, but you have not mastered your mind.\\nYou know how to shoot when all the circumstances are\\nfavorable, but if you are on dangerous ground, you can-\\nnot hit the target. The archer cannot always choose the\\nbattlefield, so start your training again and be prepared\\nfor unfavorable situations. Continue in the way of the\\nbow, for it is a whole life’s journey, but remember that\\na good, accurate shot is very different from one made\\nwith peace in your soul.”\\n\\nThe stranger made another deep bow, replaced his\\nbow and his arrows in the long bag he carried over his\\nshoulder, and left.\\n\\nOn the way back, the boy was exultant.\\n\\n“You showed him, Tetsuya! You really are the best!”\\n\\x0c\\nW; should never judge people without first lear.\\ning to hear and to respect them. The stranger\\nwas a good man; he did not humiliate me or try to\\nve he was better than J am, even though he may\\nn that impression. He wa\\nrecognized, even though it may have\\nllenging me. Besides, having\\nart of the way of the\\n\\npro\\nhave give\\nart and to have it\\nappeared that he was cha\\n\\nfront unexpected trials is p\\nly what the str\\n\\nnted to show off his\\n\\nto con\\nbow, and that was precise\\nme to do today.”\\n\\n“He said that you were th\\nu were a master archer. So wh\\n\\nanger allowed\\n\\ne best, and I didn’t even\\n\\nknow yo y do you work as\\n\\na carpenter?”\\n\\n“Because the way of the\\nand my dream was to work wit\\narcher who follows the way does not 9\\narrow or a target.”\\n\\n“Nothing interesting ever hap\\nand now suddenly here I am, face-to-fa\\n\\nter of an art that no one even cares about\\n\\nbow serves for everythings\\n\\nh wood. Besid\\n\\need a bow an\\n\\nes, an\\n\\npens in chi\\nce with th\\nanymore\\n\\n10\\n\\neg\\n\\n \\n\\x0c\\nsaid the boy, his eyes shining. “What is the way of the\\nbow? Can you teach me?”\\n\\n“Teaching it isn’t hard. I could do that in less than an\\nhour, while we’re walking back to the village. The dif\\nficult thing is to practice it every day, until you achieve\\nthe necessary precision.”\\n\\nThe boy’s eyes seemed to be begging him to say yes.\\nTetsuya walked in silence for nearly fifteen minutes,\\nand when he spoke again, his voice sounded younger:\\n\\n“Today I am contented. I did honor to the man who,\\nmany years ago, saved my life, and, because of that,\\nI will teach you all the necessary rules, but I can do\\nno more than that. If you understand what I tell you,\\nyou can use those teachings as you wish. Now, a few\\nminutes ago, you called me master. What is a master?\\nI would say that he is not someone who teaches some-\\nthing, but someone who inspires the student to do his\\nbest to discover a knowledge he already has in his soul.”\\n\\nAnd as they came down the mountain, Tetsuya ex-\\nplained the way of the bow.\\n\\nll\\n\\n \\n\\x0c\\n\""
            ],
            "application/vnd.google.colaboratory.intrinsic+json": {
              "type": "string"
            }
          },
          "metadata": {},
          "execution_count": 8
        }
      ]
    },
    {
      "cell_type": "markdown",
      "source": [
        "# Translate"
      ],
      "metadata": {
        "id": "s0SMoTL7wnIL"
      }
    },
    {
      "cell_type": "code",
      "source": [
        "translator = Translator()"
      ],
      "metadata": {
        "id": "4EZdV22-uYhM"
      },
      "execution_count": null,
      "outputs": []
    },
    {
      "cell_type": "code",
      "source": [
        "import re\n",
        "import string\n",
        "import nltk\n",
        "from nltk.tokenize import word_tokenize"
      ],
      "metadata": {
        "id": "-dM81iD8wpTk"
      },
      "execution_count": null,
      "outputs": []
    },
    {
      "cell_type": "code",
      "source": [
        "nltk.download('punkt')\n",
        "nltk.download('wordnet')\n",
        "nltk.download('omw-1.4')\n",
        "nltk.download('punkt_tab')\n",
        "\n",
        "def clean_text_with_nltk(text):\n",
        "    text = re.sub(r'\\\\[x0-9a-fA-F]{2}', '', text)  # Removes hex escape sequences like \\x0c\n",
        "    text = re.sub(r'[^\\x00-\\x7F]+', ' ', text)  # Remove non-ASCII characters\n",
        "\n",
        "    words = word_tokenize(text)\n",
        "\n",
        "    # Remove punctuation (you can customize which punctuation to keep)\n",
        "    words = [word for word in words if word not in string.punctuation]\n",
        "\n",
        "    # Rebuild the sentence\n",
        "    cleaned_text = ' '.join(words)\n",
        "\n",
        "    return cleaned_text.strip()"
      ],
      "metadata": {
        "colab": {
          "base_uri": "https://localhost:8080/"
        },
        "id": "bqGJsIV3wqKs",
        "outputId": "755bc759-ca90-41e6-8a77-fed757eb1ee8"
      },
      "execution_count": null,
      "outputs": [
        {
          "output_type": "stream",
          "name": "stderr",
          "text": [
            "[nltk_data] Downloading package punkt to /root/nltk_data...\n",
            "[nltk_data]   Package punkt is already up-to-date!\n",
            "[nltk_data] Downloading package wordnet to /root/nltk_data...\n",
            "[nltk_data]   Package wordnet is already up-to-date!\n",
            "[nltk_data] Downloading package omw-1.4 to /root/nltk_data...\n",
            "[nltk_data]   Package omw-1.4 is already up-to-date!\n",
            "[nltk_data] Downloading package punkt_tab to /root/nltk_data...\n",
            "[nltk_data]   Unzipping tokenizers/punkt_tab.zip.\n"
          ]
        }
      ]
    },
    {
      "cell_type": "code",
      "source": [
        "def translate_and_generate_audio(text, lang=\"ta\", output_audio=\"output_audio.mp3\"):\n",
        "    try:\n",
        "        # Translate text\n",
        "        print(\"Translating text to Tamil...\")\n",
        "        translated = translator.translate(text, dest=lang).text\n",
        "        print(\"Translation complete.\")\n",
        "        print(\"Translated text:\")\n",
        "        print(translated)\n",
        "        # Generate audio\n",
        "    #     print(\"Generating audio...\")\n",
        "    #     tts = gTTS(translated, lang=lang)\n",
        "    #     tts.save(output_audio)\n",
        "    #     print(f\"Audio saved at {output_audio}\")\n",
        "    except Exception as e:\n",
        "        print(f\"Error: {e}\")\n"
      ],
      "metadata": {
        "id": "RktrJC_itE4A"
      },
      "execution_count": null,
      "outputs": []
    },
    {
      "cell_type": "code",
      "source": [
        "# print(chapter_text)\n",
        "# print(type(chapter_text))"
      ],
      "metadata": {
        "id": "ieacANoguwRt"
      },
      "execution_count": null,
      "outputs": []
    },
    {
      "cell_type": "code",
      "source": [
        "clean_text = clean_text_with_nltk(chapter_text)\n",
        "print(clean_text)\n",
        "# translate_and_generate_audio(clean_text, output_audio =\"/content/chapters_audio/chapter_1.mp3\")\n"
      ],
      "metadata": {
        "colab": {
          "base_uri": "https://localhost:8080/"
        },
        "id": "MuSmqwoBujCP",
        "outputId": "586cde70-c089-4b9b-b909-534073573944"
      },
      "execution_count": null,
      "outputs": [
        {
          "output_type": "stream",
          "name": "stdout",
          "text": [
            "PROLOGUE etsuya The boy looked at the stranger startled No one in this city has ever seen Tetsuya holding a bow he replied Everyone here knows him as a car- penter Maybe he gave up maybe he lost his courage that doesn t matter to me insisted the stranger But he can not be considered to be the best archer in the coun- try if he has abandoned his art That s why I ve been traveling all these days in order to challenge him and put an end to a reputation he no longer deserves The boy saw there was no point in arguing it was best to take the man to the carpenter s shop so that he could see with his own eyes that he was mistaken Tetsuya was in the workshop at the back of his house He turned to see who had come in but his smile froze when his eyes fell on the long bag that the stranger was carrying It s exactly what you think it is said the new arrival I did not come here to humiliate or to provoke the ae MONT NETH ae aire Z i os anatase DFU ey Lae senses 51 gear ig Scalers marge SUSIE ee eee snowsieomconans man who has become a legend would SI hat after all MPL kg prove that after all my years of Practice to Th os t hay aged to reach perfection Ma Tetsuya made as if to resume his work h e Was putting the legs on a table A man who served as an example for a wh Ole gen cration can not just disappear as you did the stra Nger I tried to respect the way of the bow and I deserve to have you watch me shoot If you do this I will go away and I wil went on I followed your teachings never tell anyone where to find the greatest of all masters The stranger drew from his bag a long bow made from varnished bamboo with the grip slightly below center He bowed to Tetsuya went out into the garden and bowed again toward a particular place Then he took out an arrow fletched with eagle feathers stood with his legs firmly planted on the ground so as to have a solid base for shooting and with one hand brought the bow in front of his face while with the other he positioned the arrow The boy watched with a mixture of glee and ment Tetsuya had now stopped working and was 0 serving the stranger with some curiosity With the arrow fixed to the bowstring h the m the strange ddle o raised the bow so that it was level wit -_ his chest He lifted it above his head and as he slowly lowered his hands again began to draw the string back By the time the arrow was level with his face the bow was fully drawn For a moment that seemed to last an eternity archer and bow remained utterly still The boy was looking at the place where the arrow was pointing but could see nothing Suddenly the hand on the string opened the hand was pushed backward the bow in the other hand described a graceful arc and the arrow disappeared from view only to reappear in the distance Go and fetch it said Tetsuya The boy returned with the arrow it had pierced a cherry which he found on the ground forty meters away Tetsuya bowed to the archer went to a corner of his workshop and picked up what looked like a slender piece of wood delicately curved wrapped in a long strip of leather He slowly unwound the leather and revealed a bow similar to the stranger 's except that it appeared to have seen far more use I have no arrows so I ll need to use one of yours I will do as you ask but you will have to keep the prom- ise you made never to reveal the name of the village where I live If anyone asks you about me say that you went to the ends of the earth trying to find me ani eventually learned that I had been bitten by a snake and had died two days later The stranger nodded and offered him one of his arrows Resting one end of the long bamboo bow against the wall and pressing down hard Tetsuya strung the bow Then without a word he set off toward the mountains The stranger and the boy went with him They walked for an hour until they reached a large crevice between two rocks through which flowed a rushing river which could be crossed only by means of a fraying rope bridge almost on the point of collapse Quite calmly Tetsuya walked to the middle of the bridge which swayed ominously he bowed to some- thing on the other side loaded the bow just as the stranger had done lifted it up brought it back level with his chest and fired The boy and the stranger saw that a ripe peach e arrow about twenty meters away had been pierced by th You pierced a cherry I pierced a peach said Tet suya returning to the safety of the bank The cherty is smaller You hit your target from a distance of forty be meters mine was half that You should therefore able to repeat what I have just done Stand there in the middle of the bridge and do as I did Terrified the stranger made his way to the middle of the dilapidated bridge transfixed by the sheer drop below his feet He performed the same ritual gestures and shot at the peach tree but the arrow sailed past When he returned to the bank he was deathly pale You have skill dignity and posture said Tetsuya You have a good grasp of technique and you have mas- tered the bow but you have not mastered your mind You know how to shoot when all the circumstances are favorable but if you are on dangerous ground you can- not hit the target The archer can not always choose the battlefield so start your training again and be prepared for unfavorable situations Continue in the way of the bow for it is a whole life s journey but remember that a good accurate shot is very different from one made with peace in your soul The stranger made another deep bow replaced his bow and his arrows in the long bag he carried over his shoulder and left On the way back the boy was exultant You showed him Tetsuya You really are the best W should never judge people without first lear ing to hear and to respect them The stranger was a good man he did not humiliate me or try to ve he was better than J am even though he may n that impression He wa recognized even though it may have llenging me Besides having art of the way of the pro have give art and to have it appeared that he was cha front unexpected trials is p ly what the str nted to show off his to con bow and that was precise me to do today He said that you were th u were a master archer So wh anger allowed e best and I didn t even know yo y do you work as a carpenter Because the way of the and my dream was to work wit archer who follows the way does not 9 arrow or a target Nothing interesting ever hap and now suddenly here I am face-to-fa ter of an art that no one even cares about bow serves for everythings h wood Besid eed a bow an es an pens in chi ce with th anymore 10 eg said the boy his eyes shining What is the way of the bow Can you teach me Teaching it isn t hard I could do that in less than an hour while we re walking back to the village The dif ficult thing is to practice it every day until you achieve the necessary precision The boy s eyes seemed to be begging him to say yes Tetsuya walked in silence for nearly fifteen minutes and when he spoke again his voice sounded younger Today I am contented I did honor to the man who many years ago saved my life and because of that I will teach you all the necessary rules but I can do no more than that If you understand what I tell you you can use those teachings as you wish Now a few minutes ago you called me master What is a master I would say that he is not someone who teaches some- thing but someone who inspires the student to do his best to discover a knowledge he already has in his soul And as they came down the mountain Tetsuya ex- plained the way of the bow ll\n",
            "Translating text to Tamil...\n",
            "Error: the JSON object must be str, bytes or bytearray, not NoneType\n"
          ]
        }
      ]
    },
    {
      "cell_type": "code",
      "source": [
        "# for i, page_range in enumerate(chapter_ranges, start=1):\n",
        "#     print(f\"Processing Chapter {i} (Pages {page_range[0]}-{page_range[1]})...\")\n",
        "#     chapter_text = extract_text_from_pages(page_range)\n"
      ],
      "metadata": {
        "id": "9K_xOFnJqcih"
      },
      "execution_count": null,
      "outputs": []
    }
  ]
}