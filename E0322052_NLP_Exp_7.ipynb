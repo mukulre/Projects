{
  "nbformat": 4,
  "nbformat_minor": 0,
  "metadata": {
    "colab": {
      "provenance": [],
      "authorship_tag": "ABX9TyNogQdswjf9MO+hvUYS7WoO",
      "include_colab_link": true
    },
    "kernelspec": {
      "name": "python3",
      "display_name": "Python 3"
    },
    "language_info": {
      "name": "python"
    }
  },
  "cells": [
    {
      "cell_type": "markdown",
      "metadata": {
        "id": "view-in-github",
        "colab_type": "text"
      },
      "source": [
        "<a href=\"https://colab.research.google.com/github/mukulre/Projects/blob/main/E0322052_NLP_Exp_7.ipynb\" target=\"_parent\"><img src=\"https://colab.research.google.com/assets/colab-badge.svg\" alt=\"Open In Colab\"/></a>"
      ]
    },
    {
      "cell_type": "code",
      "execution_count": 1,
      "metadata": {
        "colab": {
          "base_uri": "https://localhost:8080/"
        },
        "id": "8WKXEEDsZoyr",
        "outputId": "e4677b7a-419c-4a00-e58d-57130c85d204"
      },
      "outputs": [
        {
          "output_type": "stream",
          "name": "stdout",
          "text": [
            "Requirement already satisfied: numpy==1.26.0 in /usr/local/lib/python3.11/dist-packages (1.26.0)\n",
            "Requirement already satisfied: scipy==1.11.4 in /usr/local/lib/python3.11/dist-packages (1.11.4)\n",
            "Requirement already satisfied: gensim in /usr/local/lib/python3.11/dist-packages (4.3.3)\n",
            "Requirement already satisfied: numpy<2.0,>=1.18.5 in /usr/local/lib/python3.11/dist-packages (from gensim) (1.26.0)\n",
            "Requirement already satisfied: scipy<1.14.0,>=1.7.0 in /usr/local/lib/python3.11/dist-packages (from gensim) (1.11.4)\n",
            "Requirement already satisfied: smart-open>=1.8.1 in /usr/local/lib/python3.11/dist-packages (from gensim) (7.3.0)\n",
            "Requirement already satisfied: wrapt in /usr/local/lib/python3.11/dist-packages (from smart-open>=1.8.1->gensim) (1.17.2)\n"
          ]
        },
        {
          "output_type": "stream",
          "name": "stderr",
          "text": [
            "[nltk_data] Downloading package punkt_tab to /root/nltk_data...\n",
            "[nltk_data]   Unzipping tokenizers/punkt_tab.zip.\n",
            "[nltk_data] Downloading package stopwords to /root/nltk_data...\n"
          ]
        },
        {
          "output_type": "stream",
          "name": "stdout",
          "text": [
            "\n",
            "🔍 Topics discovered:\n",
            "Topic 1: 0.141*\"language\" + 0.080*\"natural\" + 0.080*\"processing\" + 0.080*\"human\" + 0.080*\"computers\"\n",
            "Topic 2: 0.155*\"learning\" + 0.108*\"machine\" + 0.061*\"neural\" + 0.061*\"type\" + 0.061*\"uses\"\n",
            "Topic 3: 0.147*\"data\" + 0.059*\"analyze\" + 0.059*\"use\" + 0.059*\"statistics\" + 0.059*\"scientists\"\n"
          ]
        },
        {
          "output_type": "stream",
          "name": "stderr",
          "text": [
            "[nltk_data]   Unzipping corpora/stopwords.zip.\n"
          ]
        }
      ],
      "source": [
        "!pip install numpy==1.26.0 scipy==1.11.4\n",
        "!pip install gensim\n",
        "import nltk\n",
        "from nltk.corpus import stopwords\n",
        "from nltk.tokenize import word_tokenize\n",
        "from gensim import corpora, models\n",
        "import pprint\n",
        "nltk.download('punkt_tab')\n",
        "nltk.download('stopwords')\n",
        "documents = [\n",
        "\"Natural language processing enables computers to understand human language.\",\n",
        "\"Machine learning is a subset of artificial intelligence.\",\n",
        "\"Deep learning is a type of machine learning that uses neural networks.\",\n",
        "\"Python is a popular programming language for data science.\",\n",
        "              \"Data scientists use statistics and machine learning to analyze data.\"\n",
        "]\n",
        "# Preprocessing: tokenization and stopword removal\n",
        "stop_words = set(stopwords.words('english'))\n",
        "texts = [\n",
        "[word.lower() for word in word_tokenize(doc) if word.isalpha() and word.lower() not in stop_words]\n",
        "for doc in documents\n",
        "]\n",
        "# Create dictionary and corpus\n",
        "dictionary = corpora.Dictionary(texts)\n",
        "corpus = [dictionary.doc2bow(text) for text in texts]\n",
        "# Train LDA model\n",
        "lda_model = models.LdaModel(corpus, num_topics=3, id2word=dictionary, passes=15, random_state=42)\n",
        "# Display topics\n",
        "print(\"\\n🔍 Topics discovered:\")\n",
        "for idx, topic in lda_model.print_topics(num_words=5):\n",
        "    print(f\"Topic {idx + 1}: {topic}\")"
      ]
    },
    {
      "cell_type": "code",
      "source": [],
      "metadata": {
        "id": "5epsKDhKZpwC"
      },
      "execution_count": 1,
      "outputs": []
    },
    {
      "cell_type": "code",
      "source": [],
      "metadata": {
        "id": "x1ET1BnqZpyJ"
      },
      "execution_count": 1,
      "outputs": []
    },
    {
      "cell_type": "code",
      "source": [],
      "metadata": {
        "id": "g7RsHQeWZp1s"
      },
      "execution_count": 1,
      "outputs": []
    }
  ]
}