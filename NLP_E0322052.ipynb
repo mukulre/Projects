{
  "nbformat": 4,
  "nbformat_minor": 0,
  "metadata": {
    "colab": {
      "provenance": [],
      "authorship_tag": "ABX9TyM4HGHnOuQ2PrZ8TguuDGmg",
      "include_colab_link": true
    },
    "kernelspec": {
      "name": "python3",
      "display_name": "Python 3"
    },
    "language_info": {
      "name": "python"
    }
  },
  "cells": [
    {
      "cell_type": "markdown",
      "metadata": {
        "id": "view-in-github",
        "colab_type": "text"
      },
      "source": [
        "<a href=\"https://colab.research.google.com/github/mukulre/Projects/blob/main/NLP_E0322052.ipynb\" target=\"_parent\"><img src=\"https://colab.research.google.com/assets/colab-badge.svg\" alt=\"Open In Colab\"/></a>"
      ]
    },
    {
      "cell_type": "code",
      "execution_count": 2,
      "metadata": {
        "colab": {
          "base_uri": "https://localhost:8080/"
        },
        "id": "aIkByZ0zoMJu",
        "outputId": "ab13e2b1-d736-4e08-b82e-4c099127b5cd"
      },
      "outputs": [
        {
          "output_type": "stream",
          "name": "stdout",
          "text": [
            "Downloading data from https://storage.googleapis.com/tensorflow/tf-keras-datasets/imdb.npz\n",
            "\u001b[1m17464789/17464789\u001b[0m \u001b[32m━━━━━━━━━━━━━━━━━━━━\u001b[0m\u001b[37m\u001b[0m \u001b[1m0s\u001b[0m 0us/step\n",
            "Epoch 1/2\n"
          ]
        },
        {
          "output_type": "stream",
          "name": "stderr",
          "text": [
            "/usr/local/lib/python3.11/dist-packages/keras/src/layers/core/embedding.py:90: UserWarning: Argument `input_length` is deprecated. Just remove it.\n",
            "  warnings.warn(\n"
          ]
        },
        {
          "output_type": "stream",
          "name": "stdout",
          "text": [
            "\u001b[1m782/782\u001b[0m \u001b[32m━━━━━━━━━━━━━━━━━━━━\u001b[0m\u001b[37m\u001b[0m \u001b[1m27s\u001b[0m 32ms/step - accuracy: 0.7089 - loss: 0.5252 - val_accuracy: 0.8511 - val_loss: 0.3365\n",
            "Epoch 2/2\n",
            "\u001b[1m782/782\u001b[0m \u001b[32m━━━━━━━━━━━━━━━━━━━━\u001b[0m\u001b[37m\u001b[0m \u001b[1m25s\u001b[0m 32ms/step - accuracy: 0.9031 - loss: 0.2422 - val_accuracy: 0.8590 - val_loss: 0.3276\n",
            "\u001b[1m782/782\u001b[0m \u001b[32m━━━━━━━━━━━━━━━━━━━━\u001b[0m\u001b[37m\u001b[0m \u001b[1m5s\u001b[0m 7ms/step\n",
            "Actual labels: [0 1 1 ... 0 0 0]\n",
            "Predicted labels: [0 1 1 ... 0 0 0]\n"
          ]
        }
      ],
      "source": [
        "#import necessary libraries\n",
        "import numpy as np\n",
        "from keras.models import Sequential\n",
        "from keras.layers import Embedding, Conv1D, GlobalMaxPooling1D, Dense\n",
        "from keras.preprocessing.sequence import pad_sequences\n",
        "from keras.datasets import imdb\n",
        "from sklearn.metrics import accuracy_score, precision_score, recall_score, f1_score\n",
        "# Setting up the parameters\n",
        "maximum_features = 5000\n",
        "maximum_length = 100\n",
        "word_embedding_dims = 50\n",
        "no_of_filters = 250\n",
        "kernel_size = 3\n",
        "hidden_dims = 250\n",
        "batch_size = 32\n",
        "epochs = 2\n",
        "threshold = 0.5\n",
        "# Loading the IMDB dataset\n",
        "(x_train, y_train), (x_test, y_test) = imdb.load_data(num_words=maximum_features)\n",
        "x_train = pad_sequences(x_train, maxlen=maximum_length)\n",
        "x_test = pad_sequences(x_test, maxlen=maximum_length)\n",
        "# Building the model\n",
        "model = Sequential()\n",
        "model.add(Embedding(maximum_features, word_embedding_dims, input_length=maximum_length))\n",
        "model.add(Conv1D(no_of_filters, kernel_size, padding='valid', activation='relu', strides=1))\n",
        "model.add(GlobalMaxPooling1D())\n",
        "model.add(Dense(hidden_dims, activation='relu'))\n",
        "model.add(Dense(1, activation='sigmoid'))\n",
        "# Compiling the model\n",
        "model.compile(loss='binary_crossentropy', optimizer='adam', metrics=['accuracy'])\n",
        "# Training the model\n",
        "model.fit(x_train, y_train, batch_size=batch_size, epochs=epochs, validation_data=(x_test,y_test))\n",
        "# Make predictions on the test set\n",
        "predictions = model.predict(x_test)\n",
        "# Convert predictions to binary labels (0 or 1) based on the threshold\n",
        "predicted_labels = (predictions > threshold).astype(int)\n",
        "# Print actual and predicted labels\n",
        "print(\"Actual labels:\", y_test)\n",
        "print(\"Predicted labels:\", predicted_labels.flatten())"
      ]
    }
  ]
}