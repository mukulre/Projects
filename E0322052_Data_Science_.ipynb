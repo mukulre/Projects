{
  "nbformat": 4,
  "nbformat_minor": 0,
  "metadata": {
    "colab": {
      "provenance": [],
      "authorship_tag": "ABX9TyOIx8uQD9iyb8CkvMTuLm9F",
      "include_colab_link": true
    },
    "kernelspec": {
      "name": "python3",
      "display_name": "Python 3"
    },
    "language_info": {
      "name": "python"
    }
  },
  "cells": [
    {
      "cell_type": "markdown",
      "metadata": {
        "id": "view-in-github",
        "colab_type": "text"
      },
      "source": [
        "<a href=\"https://colab.research.google.com/github/mukulre/Projects/blob/main/E0322052_Data_Science_.ipynb\" target=\"_parent\"><img src=\"https://colab.research.google.com/assets/colab-badge.svg\" alt=\"Open In Colab\"/></a>"
      ]
    },
    {
      "cell_type": "code",
      "execution_count": null,
      "metadata": {
        "colab": {
          "base_uri": "https://localhost:8080/"
        },
        "id": "WnYbEaGxALeh",
        "outputId": "0bdecb45-e40e-487b-ad1c-9dd31139e802"
      },
      "outputs": [
        {
          "output_type": "stream",
          "name": "stdout",
          "text": [
            "Original Dataframe:\n",
            "   Name  Age    Country  Salary\n",
            "0  John   25        USA   50000\n",
            "1  Emma   30     Canada   60000\n",
            "2   Sam   28  Australia   55000\n",
            "3  Lisa   22         UK   52000\n",
            "4   Tom   35    Germany   65000\n"
          ]
        }
      ],
      "source": [
        "import pandas as pd\n",
        "data={\n",
        "    'Name':['John','Emma','Sam','Lisa','Tom'],\n",
        "    'Age':[25,30,28,22,35],\n",
        "    'Country':['USA','Canada','Australia','UK','Germany'],\n",
        "    'Salary':[50000,60000,55000,52000,65000]\n",
        "}\n",
        "df=pd.DataFrame(data)\n",
        "print(\"Original Dataframe:\")\n",
        "print(df)"
      ]
    },
    {
      "cell_type": "code",
      "source": [
        "name_age=df[['Name','Age']]\n",
        "print(\"\\nSelecting columns(Name and Age columns):\")\n",
        "print(name_age)"
      ],
      "metadata": {
        "colab": {
          "base_uri": "https://localhost:8080/"
        },
        "id": "de24COngANSD",
        "outputId": "554eae1a-a4d7-4c4e-c12a-a62340a7ff0c"
      },
      "execution_count": null,
      "outputs": [
        {
          "output_type": "stream",
          "name": "stdout",
          "text": [
            "\n",
            "Selecting columns(Name and Age columns):\n",
            "   Name  Age\n",
            "0  John   25\n",
            "1  Emma   30\n",
            "2   Sam   28\n",
            "3  Lisa   22\n",
            "4   Tom   35\n"
          ]
        }
      ]
    },
    {
      "cell_type": "code",
      "source": [
        "filtered_df=df[df['Country']=='USA']\n",
        "print(\"\\nFiltered Dataframe(Country='USA'):\")\n",
        "print(filtered_df)"
      ],
      "metadata": {
        "colab": {
          "base_uri": "https://localhost:8080/"
        },
        "id": "ZNyWb3D-ANUQ",
        "outputId": "04b657b0-0b35-482e-cbed-087a6a945713"
      },
      "execution_count": null,
      "outputs": [
        {
          "output_type": "stream",
          "name": "stdout",
          "text": [
            "\n",
            "Filtered Dataframe(Country='USA'):\n",
            "   Name  Age Country  Salary\n",
            "0  John   25     USA   50000\n"
          ]
        }
      ]
    },
    {
      "cell_type": "code",
      "source": [
        "sorted_df=df.sort_values(by='Salary',ascending=False)\n",
        "print(\"\\nSorted Dataframe(Salary in descending order):\")\n",
        "print(sorted_df)"
      ],
      "metadata": {
        "colab": {
          "base_uri": "https://localhost:8080/"
        },
        "id": "58Ow2PMOANWn",
        "outputId": "bc321719-1404-4bad-a22d-fe06079dcb7b"
      },
      "execution_count": null,
      "outputs": [
        {
          "output_type": "stream",
          "name": "stdout",
          "text": [
            "\n",
            "Sorted Dataframe(Salary in descending order):\n",
            "   Name  Age    Country  Salary\n",
            "4   Tom   35    Germany   65000\n",
            "1  Emma   30     Canada   60000\n",
            "2   Sam   28  Australia   55000\n",
            "3  Lisa   22         UK   52000\n",
            "0  John   25        USA   50000\n"
          ]
        }
      ]
    },
    {
      "cell_type": "code",
      "source": [
        "print(\"\\nAggregating data (Salary):\")\n",
        "average_salary=df['Salary'].mean()\n",
        "print(\"\\nAverage Salary:\",average_salary)"
      ],
      "metadata": {
        "colab": {
          "base_uri": "https://localhost:8080/"
        },
        "id": "DGFr320HAUQZ",
        "outputId": "1f31c672-9b07-42d3-81b6-9af5b2bfd93b"
      },
      "execution_count": null,
      "outputs": [
        {
          "output_type": "stream",
          "name": "stdout",
          "text": [
            "\n",
            "Aggregating data (Salary):\n",
            "\n",
            "Average Salary: 56400.0\n"
          ]
        }
      ]
    },
    {
      "cell_type": "code",
      "source": [
        "Experience=df['Experience']=[3,6,4,8,5]\n",
        "print(\"\\nDataframe with aded Experience column:\")\n",
        "print(df)"
      ],
      "metadata": {
        "colab": {
          "base_uri": "https://localhost:8080/"
        },
        "id": "13bmBUTuANYs",
        "outputId": "dfb3aba0-d995-4f1f-d2d3-0e2d729844c8"
      },
      "execution_count": null,
      "outputs": [
        {
          "output_type": "stream",
          "name": "stdout",
          "text": [
            "\n",
            "Dataframe with aded Experience column:\n",
            "   Name  Age    Country  Salary  Experience\n",
            "0  John   25        USA   50000           3\n",
            "1  Emma   30     Canada   60000           6\n",
            "2   Sam   28  Australia   55000           4\n",
            "3  Lisa   22         UK   52000           8\n",
            "4   Tom   35    Germany   65000           5\n"
          ]
        }
      ]
    },
    {
      "cell_type": "code",
      "source": [
        "df.loc[df['Name']=='Emma','Salary']=65000\n",
        "print(\"\\nDataframe after updating Emma's Salary:\")\n",
        "print(df)"
      ],
      "metadata": {
        "colab": {
          "base_uri": "https://localhost:8080/"
        },
        "id": "48f73MYaDGLd",
        "outputId": "87873f99-1a42-41c4-fa63-67d3b4f54902"
      },
      "execution_count": null,
      "outputs": [
        {
          "output_type": "stream",
          "name": "stdout",
          "text": [
            "\n",
            "Dataframe after updating Emma's Salary:\n",
            "   Name  Age    Country  Salary  Experience\n",
            "0  John   25        USA   50000           3\n",
            "1  Emma   30     Canada   65000           6\n",
            "2   Sam   28  Australia   55000           4\n",
            "3  Lisa   22         UK   52000           8\n",
            "4   Tom   35    Germany   65000           5\n"
          ]
        }
      ]
    },
    {
      "cell_type": "code",
      "source": [
        "df=df.drop('Experience',axis=1)\n",
        "print(\"\\nDataframe after dropping the Experience column:\")\n",
        "print(df)"
      ],
      "metadata": {
        "colab": {
          "base_uri": "https://localhost:8080/"
        },
        "id": "o-aognReDGJO",
        "outputId": "bd9782bd-f9fd-438b-85f3-3d6691251c19"
      },
      "execution_count": null,
      "outputs": [
        {
          "output_type": "stream",
          "name": "stdout",
          "text": [
            "\n",
            "Dataframe after dropping the Experience column:\n",
            "   Name  Age    Country  Salary\n",
            "0  John   25        USA   50000\n",
            "1  Emma   30     Canada   65000\n",
            "2   Sam   28  Australia   55000\n",
            "3  Lisa   22         UK   52000\n",
            "4   Tom   35    Germany   65000\n"
          ]
        }
      ]
    },
    {
      "cell_type": "code",
      "source": [
        "import numpy as np\n",
        "import matplotlib.pyplot as plt\n",
        "import pandas as pd"
      ],
      "metadata": {
        "id": "agOE01TfK78U"
      },
      "execution_count": null,
      "outputs": []
    },
    {
      "cell_type": "code",
      "source": [
        "dataset=pd.read_csv('/content/Data (3).csv')\n",
        "print(dataset)"
      ],
      "metadata": {
        "colab": {
          "base_uri": "https://localhost:8080/"
        },
        "id": "VCDY3wwkLBTk",
        "outputId": "6160eb09-f66f-4aa3-943c-422961134ba9"
      },
      "execution_count": null,
      "outputs": [
        {
          "output_type": "stream",
          "name": "stdout",
          "text": [
            "   Country   Age   Salary Purchased\n",
            "0   France  44.0  72000.0        No\n",
            "1    Spain  27.0  48000.0       Yes\n",
            "2  Germany  30.0  54000.0        No\n",
            "3    Spain  38.0  61000.0        No\n",
            "4  Germany  40.0      NaN       Yes\n",
            "5   France  35.0  58000.0       Yes\n",
            "6    Spain   NaN  52000.0        No\n",
            "7   France  48.0  79000.0       Yes\n",
            "8  Germany  50.0  83000.0        No\n",
            "9   France  37.0  67000.0       Yes\n"
          ]
        }
      ]
    },
    {
      "cell_type": "code",
      "source": [
        "x=dataset.iloc[:,:-1].values\n",
        "y=dataset.iloc[:,-1].values"
      ],
      "metadata": {
        "id": "nuqLZBGWLieY"
      },
      "execution_count": null,
      "outputs": []
    },
    {
      "cell_type": "code",
      "source": [
        "print(x)"
      ],
      "metadata": {
        "colab": {
          "base_uri": "https://localhost:8080/"
        },
        "id": "CDoLsNwvLibJ",
        "outputId": "c006dd2a-b566-413a-bf6f-717403e38369"
      },
      "execution_count": null,
      "outputs": [
        {
          "output_type": "stream",
          "name": "stdout",
          "text": [
            "[['France' 44.0 72000.0]\n",
            " ['Spain' 27.0 48000.0]\n",
            " ['Germany' 30.0 54000.0]\n",
            " ['Spain' 38.0 61000.0]\n",
            " ['Germany' 40.0 nan]\n",
            " ['France' 35.0 58000.0]\n",
            " ['Spain' nan 52000.0]\n",
            " ['France' 48.0 79000.0]\n",
            " ['Germany' 50.0 83000.0]\n",
            " ['France' 37.0 67000.0]]\n"
          ]
        }
      ]
    },
    {
      "cell_type": "code",
      "source": [
        "print(y)"
      ],
      "metadata": {
        "colab": {
          "base_uri": "https://localhost:8080/"
        },
        "id": "drX3HgliLiVp",
        "outputId": "3b2fe5b9-8458-4930-9469-4d828219d01e"
      },
      "execution_count": null,
      "outputs": [
        {
          "output_type": "stream",
          "name": "stdout",
          "text": [
            "['No' 'Yes' 'No' 'No' 'Yes' 'Yes' 'No' 'Yes' 'No' 'Yes']\n"
          ]
        }
      ]
    },
    {
      "cell_type": "code",
      "source": [
        "from sklearn.compose import ColumnTransformer\n",
        "from sklearn.preprocessing import OneHotEncoder\n",
        "ct=ColumnTransformer(transformers=[('encoder',OneHotEncoder(),[0])],remainder='passthrough')\n",
        "x=np.array(ct.fit_transform(x))"
      ],
      "metadata": {
        "id": "ZK2M6rfiDGG8"
      },
      "execution_count": null,
      "outputs": []
    },
    {
      "cell_type": "code",
      "source": [
        "print(x)"
      ],
      "metadata": {
        "id": "Japa7jhrDGFB",
        "colab": {
          "base_uri": "https://localhost:8080/"
        },
        "outputId": "aee91845-8ae5-4847-df57-7d07914d7acb"
      },
      "execution_count": null,
      "outputs": [
        {
          "output_type": "stream",
          "name": "stdout",
          "text": [
            "[[1.0 0.0 0.0 44.0 72000.0]\n",
            " [0.0 0.0 1.0 27.0 48000.0]\n",
            " [0.0 1.0 0.0 30.0 54000.0]\n",
            " [0.0 0.0 1.0 38.0 61000.0]\n",
            " [0.0 1.0 0.0 40.0 nan]\n",
            " [1.0 0.0 0.0 35.0 58000.0]\n",
            " [0.0 0.0 1.0 nan 52000.0]\n",
            " [1.0 0.0 0.0 48.0 79000.0]\n",
            " [0.0 1.0 0.0 50.0 83000.0]\n",
            " [1.0 0.0 0.0 37.0 67000.0]]\n"
          ]
        }
      ]
    },
    {
      "cell_type": "code",
      "source": [
        "from sklearn.preprocessing import LabelEncoder\n",
        "le=LabelEncoder()\n",
        "y=le.fit_transform(y)"
      ],
      "metadata": {
        "id": "ZjdYFm6GANbS"
      },
      "execution_count": null,
      "outputs": []
    },
    {
      "cell_type": "code",
      "source": [
        "print(y)"
      ],
      "metadata": {
        "id": "13aQez5LANeq",
        "colab": {
          "base_uri": "https://localhost:8080/"
        },
        "outputId": "48584f6d-9a86-423c-ddf4-ffdaa0d7ece8"
      },
      "execution_count": null,
      "outputs": [
        {
          "output_type": "stream",
          "name": "stdout",
          "text": [
            "[0 1 0 0 1 1 0 1 0 1]\n"
          ]
        }
      ]
    },
    {
      "cell_type": "code",
      "source": [
        "from sklearn.model_selection import train_test_split\n",
        "x_train,x_test,y_train,y_test=train_test_split(x,y,test_size=0.2,random_state=1)"
      ],
      "metadata": {
        "id": "2CFxYzGkNsTH"
      },
      "execution_count": null,
      "outputs": []
    },
    {
      "cell_type": "code",
      "source": [
        "print(x_train)"
      ],
      "metadata": {
        "colab": {
          "base_uri": "https://localhost:8080/"
        },
        "id": "qNSd22QzNsQz",
        "outputId": "6c0182cc-14fd-4f8d-9209-0493f128d769"
      },
      "execution_count": null,
      "outputs": [
        {
          "output_type": "stream",
          "name": "stdout",
          "text": [
            "[[0.0 0.0 1.0 nan 52000.0]\n",
            " [0.0 1.0 0.0 40.0 nan]\n",
            " [1.0 0.0 0.0 44.0 72000.0]\n",
            " [0.0 0.0 1.0 38.0 61000.0]\n",
            " [0.0 0.0 1.0 27.0 48000.0]\n",
            " [1.0 0.0 0.0 48.0 79000.0]\n",
            " [0.0 1.0 0.0 50.0 83000.0]\n",
            " [1.0 0.0 0.0 35.0 58000.0]]\n"
          ]
        }
      ]
    },
    {
      "cell_type": "code",
      "source": [
        "print(x_test)"
      ],
      "metadata": {
        "colab": {
          "base_uri": "https://localhost:8080/"
        },
        "id": "I2BbmtGYNsOj",
        "outputId": "02d2f924-aa84-4a0f-8e4a-b43846b5594c"
      },
      "execution_count": null,
      "outputs": [
        {
          "output_type": "stream",
          "name": "stdout",
          "text": [
            "[[0.0 1.0 0.0 30.0 54000.0]\n",
            " [1.0 0.0 0.0 37.0 67000.0]]\n"
          ]
        }
      ]
    },
    {
      "cell_type": "code",
      "source": [
        "print(y_train)"
      ],
      "metadata": {
        "colab": {
          "base_uri": "https://localhost:8080/"
        },
        "id": "h66wFKn3NsMR",
        "outputId": "92e0e09f-401b-41d3-dd94-8795f36924d3"
      },
      "execution_count": null,
      "outputs": [
        {
          "output_type": "stream",
          "name": "stdout",
          "text": [
            "[0 1 0 0 1 1 0 1]\n"
          ]
        }
      ]
    },
    {
      "cell_type": "code",
      "source": [
        "print(y_test)"
      ],
      "metadata": {
        "colab": {
          "base_uri": "https://localhost:8080/"
        },
        "id": "vdIl7RtfNsKJ",
        "outputId": "d5ed9e4b-42f1-4102-ce36-433cad684830"
      },
      "execution_count": null,
      "outputs": [
        {
          "output_type": "stream",
          "name": "stdout",
          "text": [
            "[0 1]\n"
          ]
        }
      ]
    },
    {
      "cell_type": "code",
      "source": [
        "from sklearn.preprocessing import StandardScaler\n",
        "sc=StandardScaler()\n",
        "x_train[:,3:]=sc.fit_transform(x_train[:,3:])\n",
        "x_test[:,3:]=sc.transform(x_test[:,3:])"
      ],
      "metadata": {
        "id": "TATehLQBQmer"
      },
      "execution_count": null,
      "outputs": []
    },
    {
      "cell_type": "code",
      "source": [
        "print(x_train)"
      ],
      "metadata": {
        "colab": {
          "base_uri": "https://localhost:8080/"
        },
        "id": "2HvnehGzSPml",
        "outputId": "2564ccae-5e37-4795-d47f-bcfd394b4c6c"
      },
      "execution_count": null,
      "outputs": [
        {
          "output_type": "stream",
          "name": "stdout",
          "text": [
            "[[0.0 0.0 1.0 nan -1.0182239953527132]\n",
            " [0.0 1.0 0.0 -0.038910211282047996 nan]\n",
            " [1.0 0.0 0.0 0.5058327466666259 0.583476671494251]\n",
            " [0.0 0.0 1.0 -0.3112816902563849 -0.2974586952715793]\n",
            " [0.0 0.0 1.0 -1.809324824615238 -1.3385641287221062]\n",
            " [1.0 0.0 0.0 1.0505757046152997 1.1440719048906884]\n",
            " [0.0 1.0 0.0 1.3229471835896367 1.4644120382600814]\n",
            " [1.0 0.0 0.0 -0.7198389087178904 -0.537713795298624]]\n"
          ]
        }
      ]
    },
    {
      "cell_type": "code",
      "source": [
        "print(x_test)"
      ],
      "metadata": {
        "colab": {
          "base_uri": "https://localhost:8080/"
        },
        "id": "fYt9tkvYQmgz",
        "outputId": "cc1e0722-d587-4828-f286-411229a6c872"
      },
      "execution_count": null,
      "outputs": [
        {
          "output_type": "stream",
          "name": "stdout",
          "text": [
            "[[0.0 1.0 0.0 -1.4007676061537326 -0.8580539286680168]\n",
            " [1.0 0.0 0.0 -0.4474674297435534 0.18305150478250995]]\n"
          ]
        }
      ]
    },
    {
      "cell_type": "code",
      "source": [
        "print(y_train)"
      ],
      "metadata": {
        "colab": {
          "base_uri": "https://localhost:8080/"
        },
        "id": "eACszLTvQmi_",
        "outputId": "0752b831-8499-44ff-8ac2-2596ce48da44"
      },
      "execution_count": null,
      "outputs": [
        {
          "output_type": "stream",
          "name": "stdout",
          "text": [
            "[0 1 0 0 1 1 0 1]\n"
          ]
        }
      ]
    },
    {
      "cell_type": "code",
      "source": [],
      "metadata": {
        "id": "13htJhz2QmmW"
      },
      "execution_count": null,
      "outputs": []
    }
  ]
}