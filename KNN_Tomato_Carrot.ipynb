{
  "nbformat": 4,
  "nbformat_minor": 0,
  "metadata": {
    "colab": {
      "provenance": [],
      "include_colab_link": true
    },
    "kernelspec": {
      "name": "python3",
      "display_name": "Python 3"
    },
    "language_info": {
      "name": "python"
    }
  },
  "cells": [
    {
      "cell_type": "markdown",
      "metadata": {
        "id": "view-in-github",
        "colab_type": "text"
      },
      "source": [
        "<a href=\"https://colab.research.google.com/github/mukulre/Projects/blob/main/KNN_Tomato_Carrot.ipynb\" target=\"_parent\"><img src=\"https://colab.research.google.com/assets/colab-badge.svg\" alt=\"Open In Colab\"/></a>"
      ]
    },
    {
      "cell_type": "code",
      "execution_count": null,
      "metadata": {
        "colab": {
          "base_uri": "https://localhost:8080/"
        },
        "id": "akSLcUCJMhR1",
        "outputId": "1b95eb71-39c2-4d10-c215-4b4943583b27"
      },
      "outputs": [
        {
          "output_type": "stream",
          "name": "stdout",
          "text": [
            "Predicted category of tomato: protein\n",
            "Predicted category of carrot: vegetable\n"
          ]
        }
      ],
      "source": [
        "from sklearn.neighbors import KNeighborsClassifier\n",
        "X = [[10, 9], [1, 4], [10, 1], [7, 10], [3, 10], [1, 1]]\n",
        "# sweetness and crunchiness\n",
        "#apple, bacon, banana, carrot, celery, cheese\n",
        "y = ['fruit', 'protein', 'fruit', 'vegetable', 'vegetable', 'protein']\n",
        "# Create KNN classifier with k=3\n",
        "classifier = KNeighborsClassifier(n_neighbors=3)\n",
        "# Fit the classifier to the data\n",
        "classifier.fit(X, y)\n",
        "# Predict the category of a tomato (sweetness=6, crunchiness=4)\n",
        "tomato = [[6, 4]]\n",
        "predicted_tomato_category= classifier.predict(tomato)\n",
        "print(f\"Predicted category of tomato: {predicted_tomato_category[0]}\")\n",
        "# Predict the category of a carrot (sweetness=4, crunchiness=9)\n",
        "carrot = [[4,9]]\n",
        "predicted_carrot_category = classifier.predict(carrot)\n",
        "print(f\"Predicted category of carrot: {predicted_carrot_category [0]}\")"
      ]
    }
  ]
}