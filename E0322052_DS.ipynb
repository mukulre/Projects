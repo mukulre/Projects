{
  "cells": [
    {
      "cell_type": "markdown",
      "metadata": {
        "id": "view-in-github",
        "colab_type": "text"
      },
      "source": [
        "<a href=\"https://colab.research.google.com/github/mukulre/Projects/blob/main/E0322052_DS.ipynb\" target=\"_parent\"><img src=\"https://colab.research.google.com/assets/colab-badge.svg\" alt=\"Open In Colab\"/></a>"
      ]
    },
    {
      "cell_type": "code",
      "execution_count": null,
      "metadata": {
        "colab": {
          "background_save": true,
          "base_uri": "https://localhost:8080/"
        },
        "id": "M91uTTYqkAkK",
        "outputId": "0fde9b2e-74e7-45d7-9a60-48801fcd7908"
      },
      "outputs": [
        {
          "name": "stdout",
          "output_type": "stream",
          "text": [
            "Invalid input. Please enter a number or 0 to stop.\n",
            "Invalid input. Please enter a number or 0 to stop.\n"
          ]
        }
      ],
      "source": [
        "numbers = []\n",
        "while True:\n",
        "    num_str = input(\"Enter a number: \")\n",
        "    if not num_str:  # Check if the input is empty\n",
        "        print(\"Invalid input. Please enter a number or 0 to stop.\")\n",
        "        continue\n",
        "    try:\n",
        "        num = int(num_str)\n",
        "    except ValueError:\n",
        "        print(\"Invalid input. Please enter a valid integer or 0 to stop.\")\n",
        "        continue\n",
        "\n",
        "    if num == 0:\n",
        "        break\n",
        "    numbers.append(num)\n",
        "\n",
        "numbers.sort()\n",
        "print(\"Sorted sequence of numbers:\", numbers)\n",
        "\n",
        "numbers.reverse()\n",
        "print(\"Reversed sequence of numbers:\", numbers)"
      ]
    },
    {
      "cell_type": "code",
      "execution_count": null,
      "metadata": {
        "id": "8S7dZxJIkLNT"
      },
      "outputs": [],
      "source": [
        "def print_even_integers(start, end):\n",
        "    for num in range(start, end + 1):\n",
        "        if num % 2 == 0:\n",
        "            print(num)\n",
        "\n",
        "start_integer = 1\n",
        "end_integer = 10\n",
        "print_even_integers(start_integer, end_integer)"
      ]
    },
    {
      "cell_type": "code",
      "execution_count": null,
      "metadata": {
        "id": "bBTt-vlDkLdQ",
        "colab": {
          "base_uri": "https://localhost:8080/"
        },
        "outputId": "dddec6cb-1105-4e2a-928f-8b4e2360d2bd"
      },
      "outputs": [
        {
          "output_type": "stream",
          "name": "stdout",
          "text": [
            "The first color is:green\n",
            "\n",
            "The available colors are:\n",
            "-red\n",
            "-green\n",
            "-blue\n"
          ]
        }
      ],
      "source": [
        "colors=('red','green','blue')\n",
        "print(\"The first color is:\"+colors[1])\n",
        "\n",
        "print(\"\\nThe available colors are:\")\n",
        "for color in colors:\n",
        "    print(\"-\"+color)"
      ]
    },
    {
      "cell_type": "code",
      "source": [
        "def char_frequency(string):\n",
        "    frequency = {}\n",
        "    for char in string:\n",
        "        if char in frequency:\n",
        "            frequency[char] += 1\n",
        "        else:\n",
        "            frequency[char] = 1\n",
        "    return frequency\n",
        "\n",
        "# Example usage\n",
        "input_string = \"hello world\"\n",
        "result = char_frequency(input_string)\n",
        "print(result)"
      ],
      "metadata": {
        "colab": {
          "base_uri": "https://localhost:8080/"
        },
        "id": "VFR9LMm_DwnK",
        "outputId": "5c9ce22d-9499-4677-86f6-2c36200631e6"
      },
      "execution_count": null,
      "outputs": [
        {
          "output_type": "stream",
          "name": "stdout",
          "text": [
            "{'h': 1, 'e': 1, 'l': 3, 'o': 2, ' ': 1, 'w': 1, 'r': 1, 'd': 1}\n"
          ]
        }
      ]
    },
    {
      "cell_type": "code",
      "source": [
        "# Total Cost Calculation\n",
        "\n",
        "purchased_items = (\n",
        "    (\"apple\", 0.5, 4),\n",
        "    (\"banana\", 0.3, 6),\n",
        "    (\"milk\", 1.2, 2),\n",
        "    (\"bread\", 1.0, 1),\n",
        "    (\"egg\", 0.2, 12)\n",
        ")\n",
        "\n",
        "total_cost = sum(item[1] * item[2] for item in purchased_items)\n",
        "print(\"Total cost for the items purchased:\", total_cost)"
      ],
      "metadata": {
        "colab": {
          "base_uri": "https://localhost:8080/"
        },
        "id": "kQe0Tf46Dwp6",
        "outputId": "a38b0f3d-54be-4a4a-fb9a-a365fcea0a47"
      },
      "execution_count": null,
      "outputs": [
        {
          "output_type": "stream",
          "name": "stdout",
          "text": [
            "Total cost for the items purchased: 9.6\n"
          ]
        }
      ]
    },
    {
      "cell_type": "code",
      "source": [
        "# r a w x\n",
        "f=open(\"/content/demo.txt.txt\",\"r\")\n",
        "print(f.read())"
      ],
      "metadata": {
        "id": "1LUHh5MWDws9",
        "colab": {
          "base_uri": "https://localhost:8080/"
        },
        "outputId": "28d59c41-06db-440e-e77d-bfa33ef8ae93"
      },
      "execution_count": null,
      "outputs": [
        {
          "output_type": "stream",
          "name": "stdout",
          "text": [
            "hello hi\n",
            "im okay \n",
            "who are you\n",
            "im done\n"
          ]
        }
      ]
    },
    {
      "cell_type": "code",
      "source": [
        "f=open(\"/content/demo.txt.txt\",\"r\")\n",
        "print(f.readline())\n",
        "print(f.readline())"
      ],
      "metadata": {
        "id": "ieXOdhOXDwvm",
        "colab": {
          "base_uri": "https://localhost:8080/"
        },
        "outputId": "f0fba0df-710a-43cd-d7f6-e86c1066fc35"
      },
      "execution_count": null,
      "outputs": [
        {
          "output_type": "stream",
          "name": "stdout",
          "text": [
            "hello hi\n",
            "\n",
            "im okay \n",
            "\n"
          ]
        }
      ]
    },
    {
      "cell_type": "code",
      "source": [
        "f=open(\"/content/demo.txt.txt\",\"r\")\n",
        "for x in f:\n",
        "  print(x)\n"
      ],
      "metadata": {
        "id": "p7NWpme3Dwyb",
        "colab": {
          "base_uri": "https://localhost:8080/"
        },
        "outputId": "22d8afa9-155e-4c8f-92ce-518dad2da68c"
      },
      "execution_count": null,
      "outputs": [
        {
          "output_type": "stream",
          "name": "stdout",
          "text": [
            "hello hi\n",
            "\n",
            "im okay \n",
            "\n",
            "who are you\n",
            "\n",
            "im done\n"
          ]
        }
      ]
    },
    {
      "cell_type": "code",
      "source": [
        "f=open(\"/content/demo.txt.txt\",\"w\")\n",
        "f.write(\"hellllllo-Now the file has more content!\")\n",
        "f.close()\n",
        "\n",
        "f=open(\"/content/demo.txt.txt\",\"r\")\n",
        "print(f.read())"
      ],
      "metadata": {
        "id": "klwPo5I2Dw08",
        "colab": {
          "base_uri": "https://localhost:8080/"
        },
        "outputId": "8405e41d-287d-4df0-a6b0-b98f5af14926"
      },
      "execution_count": null,
      "outputs": [
        {
          "output_type": "stream",
          "name": "stdout",
          "text": [
            "hellllllo-Now the file has more content!\n"
          ]
        }
      ]
    },
    {
      "cell_type": "code",
      "source": [
        "import os\n",
        "os.remove(\"/content/demo.txt.txt\")"
      ],
      "metadata": {
        "id": "JV4t_N2WzJmq"
      },
      "execution_count": null,
      "outputs": []
    },
    {
      "cell_type": "code",
      "source": [
        "import os\n",
        "if os.path.exists(\"demo1.txt\"):\n",
        "  os.remove(\"demo1.txt\")\n",
        "else:\n",
        "  print(\"The file does not exist\")"
      ],
      "metadata": {
        "colab": {
          "base_uri": "https://localhost:8080/"
        },
        "id": "D4iB3p-TzJpO",
        "outputId": "12a060a1-7886-4411-a378-df3e52b300be"
      },
      "execution_count": null,
      "outputs": [
        {
          "output_type": "stream",
          "name": "stdout",
          "text": [
            "The file does not exist\n"
          ]
        }
      ]
    },
    {
      "cell_type": "code",
      "source": [
        "with open(\"demo.txt\", \"r\") as file:\n",
        "    data=file.readlines()\n",
        "    for line in data:\n",
        "        word=line.split()\n",
        "        print(word)"
      ],
      "metadata": {
        "colab": {
          "base_uri": "https://localhost:8080/"
        },
        "id": "u0gVTrhhzJr3",
        "outputId": "b3ef9bf5-3ce4-4942-ac92-e95f281a8a15"
      },
      "execution_count": null,
      "outputs": [
        {
          "output_type": "stream",
          "name": "stdout",
          "text": [
            "['hello', 'hi']\n",
            "['im', 'okay']\n",
            "['who', 'are', 'you']\n",
            "['im', 'done']\n"
          ]
        }
      ]
    },
    {
      "cell_type": "code",
      "source": [
        "with open(\"file.txt\",\"w\") as f:\n",
        "    f.write(\"Hello World!!How are you!\")"
      ],
      "metadata": {
        "id": "DBfLuqGzzJwS"
      },
      "execution_count": null,
      "outputs": []
    },
    {
      "cell_type": "code",
      "source": [
        "import json\n",
        "data={'name':'raja','age':30}\n",
        "with open(\"data.json\",\"w\") as f:\n",
        "    json.dump(data,f)\n",
        "\n",
        "with open('data.json','r')as f:\n",
        "  data=json.load(f)\n",
        "  print(data)"
      ],
      "metadata": {
        "id": "Qg2UIf_hDw4X",
        "colab": {
          "base_uri": "https://localhost:8080/"
        },
        "outputId": "5f939bc0-f059-4eb6-95d0-8cfe7080ea6d"
      },
      "execution_count": null,
      "outputs": [
        {
          "output_type": "stream",
          "name": "stdout",
          "text": [
            "{'name': 'raja', 'age': 30}\n"
          ]
        }
      ]
    },
    {
      "cell_type": "code",
      "source": [
        "a=input(\"Enter a Word:\")\n",
        "with open(\"demo.txt\",\"r\")as f:\n",
        "  content=f.read()\n",
        "  if a in content:\n",
        "    print(\"Found\")\n",
        "  else:\n",
        "    print(\"Not Found\")"
      ],
      "metadata": {
        "id": "IshTc2IU3VOU",
        "colab": {
          "base_uri": "https://localhost:8080/"
        },
        "outputId": "88d2ea22-0270-4766-b091-44f86ee257b4"
      },
      "execution_count": 30,
      "outputs": [
        {
          "output_type": "stream",
          "name": "stdout",
          "text": [
            "Enter a Word:hi\n",
            "Found\n"
          ]
        }
      ]
    },
    {
      "cell_type": "code",
      "source": [],
      "metadata": {
        "id": "mcdxe-BI3VQR"
      },
      "execution_count": null,
      "outputs": []
    },
    {
      "cell_type": "code",
      "source": [],
      "metadata": {
        "id": "wWrRS23x3VSY"
      },
      "execution_count": null,
      "outputs": []
    },
    {
      "cell_type": "code",
      "source": [],
      "metadata": {
        "id": "_ip8y5OY3VVU"
      },
      "execution_count": null,
      "outputs": []
    }
  ],
  "metadata": {
    "colab": {
      "provenance": [],
      "authorship_tag": "ABX9TyM7b6lLr7UaqblxZH83xIDq",
      "include_colab_link": true
    },
    "kernelspec": {
      "display_name": "Python 3",
      "name": "python3"
    },
    "language_info": {
      "name": "python"
    }
  },
  "nbformat": 4,
  "nbformat_minor": 0
}