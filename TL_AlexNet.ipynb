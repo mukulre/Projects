{
  "nbformat": 4,
  "nbformat_minor": 0,
  "metadata": {
    "colab": {
      "provenance": [],
      "gpuType": "T4",
      "authorship_tag": "ABX9TyOwfWA5aRQJHBfvEhFhVwWf",
      "include_colab_link": true
    },
    "kernelspec": {
      "name": "python3",
      "display_name": "Python 3"
    },
    "language_info": {
      "name": "python"
    },
    "accelerator": "GPU"
  },
  "cells": [
    {
      "cell_type": "markdown",
      "metadata": {
        "id": "view-in-github",
        "colab_type": "text"
      },
      "source": [
        "<a href=\"https://colab.research.google.com/github/mukulre/Projects/blob/main/TL_AlexNet.ipynb\" target=\"_parent\"><img src=\"https://colab.research.google.com/assets/colab-badge.svg\" alt=\"Open In Colab\"/></a>"
      ]
    },
    {
      "cell_type": "code",
      "execution_count": 1,
      "metadata": {
        "id": "DQonpO67Pcrd"
      },
      "outputs": [],
      "source": [
        "import tensorflow as tf\n",
        "from tensorflow.keras import layers, models"
      ]
    },
    {
      "cell_type": "code",
      "source": [
        "#define alexNet architecture\n",
        "def alexnet(input_shape):\n",
        "  model=models.Sequential([layers.Conv2D(filters=96, kernel_size=(11,11),strides=(4,4),activation='relu',input_shape=input_shape),\n",
        "                           layers.MaxPooling2D(pool_size=(3,3),strides=(2,2)),\n",
        "                           layers.Conv2D(filters=256, kernel_size=(5,5),strides=(1,1),activation='relu',padding='same'),\n",
        "                           layers.MaxPooling2D(pool_size=(3,3),strides=(2,2)),\n",
        "                           layers.Conv2D(filters=384, kernel_size=(3,3),strides=(1,1),activation='relu',padding='same'),\n",
        "                           layers.Conv2D(filters=384, kernel_size=(3,3),strides=(1,1),activation='relu',padding='same'),\n",
        "                           layers.Conv2D(filters=256, kernel_size=(3,3),strides=(1,1),activation='relu',padding='same'),\n",
        "                           layers.MaxPooling2D(pool_size=(3,3),strides=(2,2)),\n",
        "                           layers.Flatten(),\n",
        "                           layers.Dense(4096,activation='relu'),\n",
        "                           layers.Dropout(0.5),\n",
        "                           layers.Dense(4096,activation='relu'),\n",
        "                           layers.Dropout(0.5),\n",
        "                           layers.Dense(10,activation='softmax')])\n",
        "  return model\n",
        "  input_shape=(227,227,3)\n",
        "  model=alexnet(input_shape)\n",
        "  model.compile(optimizer='adam',loss='categorical_crossentropy',metrics=['accuracy'])\n",
        "  model.summary()"
      ],
      "metadata": {
        "id": "8cER2XfzQxZN"
      },
      "execution_count": 2,
      "outputs": []
    },
    {
      "cell_type": "code",
      "source": [],
      "metadata": {
        "id": "7Qz92h4wQxba"
      },
      "execution_count": 2,
      "outputs": []
    },
    {
      "cell_type": "code",
      "source": [],
      "metadata": {
        "id": "dgYv_EHWQxde"
      },
      "execution_count": 2,
      "outputs": []
    },
    {
      "cell_type": "code",
      "source": [],
      "metadata": {
        "id": "frO2eQbGQxf3"
      },
      "execution_count": 2,
      "outputs": []
    },
    {
      "cell_type": "code",
      "source": [],
      "metadata": {
        "id": "3q8fTizrQxie"
      },
      "execution_count": 2,
      "outputs": []
    },
    {
      "cell_type": "code",
      "source": [],
      "metadata": {
        "id": "W0zGCd8iQxlx"
      },
      "execution_count": 2,
      "outputs": []
    }
  ]
}