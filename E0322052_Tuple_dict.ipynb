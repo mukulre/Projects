{
  "nbformat": 4,
  "nbformat_minor": 0,
  "metadata": {
    "colab": {
      "provenance": [],
      "include_colab_link": true
    },
    "kernelspec": {
      "name": "python3",
      "display_name": "Python 3"
    },
    "language_info": {
      "name": "python"
    }
  },
  "cells": [
    {
      "cell_type": "markdown",
      "metadata": {
        "id": "view-in-github",
        "colab_type": "text"
      },
      "source": [
        "<a href=\"https://colab.research.google.com/github/mukulre/Projects/blob/main/E0322052_Tuple_dict.ipynb\" target=\"_parent\"><img src=\"https://colab.research.google.com/assets/colab-badge.svg\" alt=\"Open In Colab\"/></a>"
      ]
    },
    {
      "cell_type": "code",
      "execution_count": null,
      "metadata": {
        "colab": {
          "base_uri": "https://localhost:8080/"
        },
        "id": "0_jops_qj_-8",
        "outputId": "8a3a3dd0-db4c-4872-8e7c-17037b2ddf17"
      },
      "outputs": [
        {
          "name": "stdout",
          "output_type": "stream",
          "text": [
            "Enter a Number:5\n"
          ]
        }
      ],
      "source": [
        "n = int(input(\"Enter a Number:\"))"
      ]
    },
    {
      "cell_type": "code",
      "metadata": {
        "colab": {
          "base_uri": "https://localhost:8080/"
        },
        "id": "49f4e5a0",
        "outputId": "7efd5a25-bedf-4657-b02f-4773925b7929"
      },
      "source": [
        "numbers = []\n",
        "while True:\n",
        "    num = int(input(\"Enter a number (enter 0 to stop): \"))\n",
        "    if num == 0:\n",
        "        break\n",
        "    numbers.append(num)\n",
        "\n",
        "numbers.sort()\n",
        "print(\"Sorted numbers:\", numbers)\n",
        "numbers.reverse()\n",
        "print(numbers)"
      ],
      "execution_count": null,
      "outputs": [
        {
          "output_type": "stream",
          "name": "stdout",
          "text": [
            "Enter a number (enter 0 to stop): 1\n",
            "Enter a number (enter 0 to stop): 5\n",
            "Enter a number (enter 0 to stop): 9\n",
            "Enter a number (enter 0 to stop): 0\n",
            "Sorted numbers: [1, 5, 9]\n",
            "[9, 5, 1]\n"
          ]
        }
      ]
    },
    {
      "cell_type": "code",
      "source": [
        "n1 = int(input(\"Enter a Number:\"))\n",
        "n2 = int(input(\"Enter a Number:\"))\n",
        "for num in range(n1, n2 + 1):\n",
        "    if num % 2 == 0:\n",
        "        print(num)"
      ],
      "metadata": {
        "colab": {
          "base_uri": "https://localhost:8080/"
        },
        "id": "eNky1moTnm37",
        "outputId": "dd724aa3-0756-44c3-c4f1-ee99eda187a3"
      },
      "execution_count": null,
      "outputs": [
        {
          "output_type": "stream",
          "name": "stdout",
          "text": [
            "Enter a Number:2\n",
            "Enter a Number:5\n",
            "2\n",
            "4\n"
          ]
        }
      ]
    },
    {
      "cell_type": "code",
      "source": [
        "n1 = int(input(\"Enter a Number:\"))\n",
        "n2 = int(input(\"Enter a Number:\"))\n",
        "if n1 > n2:\n",
        "    n1, n2 = n2, n1\n",
        "for num in range(n1, n2 + 1):\n",
        "    if num % 2 == 0:\n",
        "        print(num)"
      ],
      "metadata": {
        "colab": {
          "base_uri": "https://localhost:8080/"
        },
        "id": "wT6eetkfsEc1",
        "outputId": "1ccd13b9-59ca-4d18-d933-e80123edf028"
      },
      "execution_count": null,
      "outputs": [
        {
          "output_type": "stream",
          "name": "stdout",
          "text": [
            "Enter a Number:5\n",
            "Enter a Number:6\n",
            "6\n"
          ]
        }
      ]
    },
    {
      "cell_type": "code",
      "source": [
        "n1 = int(input(\"Enter a Number:\"))\n",
        "n2 = int(input(\"Enter a Number:\"))\n",
        "if n1 < n2:\n",
        "    n1, n2 = n2, n1\n",
        "for num in range(n1, n2 - 1, -1):\n",
        "    if num % 2 == 0:\n",
        "        print(num)"
      ],
      "metadata": {
        "colab": {
          "base_uri": "https://localhost:8080/"
        },
        "id": "7hwGns2HpiQn",
        "outputId": "50f3e572-954b-41d9-fde8-a06559f3fc30"
      },
      "execution_count": null,
      "outputs": [
        {
          "output_type": "stream",
          "name": "stdout",
          "text": [
            "Enter a Number:58\n",
            "Enter a Number:606\n",
            "606\n",
            "604\n",
            "602\n",
            "600\n",
            "598\n",
            "596\n",
            "594\n",
            "592\n",
            "590\n",
            "588\n",
            "586\n",
            "584\n",
            "582\n",
            "580\n",
            "578\n",
            "576\n",
            "574\n",
            "572\n",
            "570\n",
            "568\n",
            "566\n",
            "564\n",
            "562\n",
            "560\n",
            "558\n",
            "556\n",
            "554\n",
            "552\n",
            "550\n",
            "548\n",
            "546\n",
            "544\n",
            "542\n",
            "540\n",
            "538\n",
            "536\n",
            "534\n",
            "532\n",
            "530\n",
            "528\n",
            "526\n",
            "524\n",
            "522\n",
            "520\n",
            "518\n",
            "516\n",
            "514\n",
            "512\n",
            "510\n",
            "508\n",
            "506\n",
            "504\n",
            "502\n",
            "500\n",
            "498\n",
            "496\n",
            "494\n",
            "492\n",
            "490\n",
            "488\n",
            "486\n",
            "484\n",
            "482\n",
            "480\n",
            "478\n",
            "476\n",
            "474\n",
            "472\n",
            "470\n",
            "468\n",
            "466\n",
            "464\n",
            "462\n",
            "460\n",
            "458\n",
            "456\n",
            "454\n",
            "452\n",
            "450\n",
            "448\n",
            "446\n",
            "444\n",
            "442\n",
            "440\n",
            "438\n",
            "436\n",
            "434\n",
            "432\n",
            "430\n",
            "428\n",
            "426\n",
            "424\n",
            "422\n",
            "420\n",
            "418\n",
            "416\n",
            "414\n",
            "412\n",
            "410\n",
            "408\n",
            "406\n",
            "404\n",
            "402\n",
            "400\n",
            "398\n",
            "396\n",
            "394\n",
            "392\n",
            "390\n",
            "388\n",
            "386\n",
            "384\n",
            "382\n",
            "380\n",
            "378\n",
            "376\n",
            "374\n",
            "372\n",
            "370\n",
            "368\n",
            "366\n",
            "364\n",
            "362\n",
            "360\n",
            "358\n",
            "356\n",
            "354\n",
            "352\n",
            "350\n",
            "348\n",
            "346\n",
            "344\n",
            "342\n",
            "340\n",
            "338\n",
            "336\n",
            "334\n",
            "332\n",
            "330\n",
            "328\n",
            "326\n",
            "324\n",
            "322\n",
            "320\n",
            "318\n",
            "316\n",
            "314\n",
            "312\n",
            "310\n",
            "308\n",
            "306\n",
            "304\n",
            "302\n",
            "300\n",
            "298\n",
            "296\n",
            "294\n",
            "292\n",
            "290\n",
            "288\n",
            "286\n",
            "284\n",
            "282\n",
            "280\n",
            "278\n",
            "276\n",
            "274\n",
            "272\n",
            "270\n",
            "268\n",
            "266\n",
            "264\n",
            "262\n",
            "260\n",
            "258\n",
            "256\n",
            "254\n",
            "252\n",
            "250\n",
            "248\n",
            "246\n",
            "244\n",
            "242\n",
            "240\n",
            "238\n",
            "236\n",
            "234\n",
            "232\n",
            "230\n",
            "228\n",
            "226\n",
            "224\n",
            "222\n",
            "220\n",
            "218\n",
            "216\n",
            "214\n",
            "212\n",
            "210\n",
            "208\n",
            "206\n",
            "204\n",
            "202\n",
            "200\n",
            "198\n",
            "196\n",
            "194\n",
            "192\n",
            "190\n",
            "188\n",
            "186\n",
            "184\n",
            "182\n",
            "180\n",
            "178\n",
            "176\n",
            "174\n",
            "172\n",
            "170\n",
            "168\n",
            "166\n",
            "164\n",
            "162\n",
            "160\n",
            "158\n",
            "156\n",
            "154\n",
            "152\n",
            "150\n",
            "148\n",
            "146\n",
            "144\n",
            "142\n",
            "140\n",
            "138\n",
            "136\n",
            "134\n",
            "132\n",
            "130\n",
            "128\n",
            "126\n",
            "124\n",
            "122\n",
            "120\n",
            "118\n",
            "116\n",
            "114\n",
            "112\n",
            "110\n",
            "108\n",
            "106\n",
            "104\n",
            "102\n",
            "100\n",
            "98\n",
            "96\n",
            "94\n",
            "92\n",
            "90\n",
            "88\n",
            "86\n",
            "84\n",
            "82\n",
            "80\n",
            "78\n",
            "76\n",
            "74\n",
            "72\n",
            "70\n",
            "68\n",
            "66\n",
            "64\n",
            "62\n",
            "60\n",
            "58\n"
          ]
        }
      ]
    },
    {
      "cell_type": "markdown",
      "source": [
        "**Defining Tuple, and accessing elements**"
      ],
      "metadata": {
        "id": "k1S9eK9rCGDB"
      }
    },
    {
      "cell_type": "code",
      "source": [
        "colors = ('red', 'green', 'blue')\n",
        "print(\"The first color is:\" +colors[0])\n",
        "print(\"\\nThe available colors are:\")\n",
        "for color in colors:\n",
        "  print(\"- \"+color)"
      ],
      "metadata": {
        "id": "0W76jS1xprTj",
        "colab": {
          "base_uri": "https://localhost:8080/"
        },
        "outputId": "eca8c702-46cb-4386-fad6-65f48d9310d9"
      },
      "execution_count": null,
      "outputs": [
        {
          "output_type": "stream",
          "name": "stdout",
          "text": [
            "The first color is:red\n",
            "\n",
            "The available colors are:\n",
            "- red\n",
            "- green\n",
            "- blue\n"
          ]
        }
      ]
    },
    {
      "cell_type": "code",
      "source": [
        "# Dictonary: count the freq of char using string\n",
        "from collections import Counter\n",
        "text = input(\"Enter a string:\")\n",
        "char_frequency = Counter(text)\n",
        "print(dict(char_frequency))"
      ],
      "metadata": {
        "colab": {
          "base_uri": "https://localhost:8080/"
        },
        "id": "zLzHM20lDiYB",
        "outputId": "ed0a63eb-c2e6-4af9-e181-1aa3ad720a65"
      },
      "execution_count": null,
      "outputs": [
        {
          "output_type": "stream",
          "name": "stdout",
          "text": [
            "Enter a string:ajay\n",
            "{'a': 2, 'j': 1, 'y': 1}\n"
          ]
        }
      ]
    },
    {
      "cell_type": "code",
      "source": [
        "input_string =\"Name\"\n",
        "freq={}\n",
        "for char in input_string:\n",
        "  freq[char]=freq.get(char, 0)+1\n",
        "print(freq)"
      ],
      "metadata": {
        "colab": {
          "base_uri": "https://localhost:8080/"
        },
        "id": "cPf7PIK7ReVu",
        "outputId": "d0e190b6-2b96-498a-ae21-961d54a671fc"
      },
      "execution_count": null,
      "outputs": [
        {
          "output_type": "stream",
          "name": "stdout",
          "text": [
            "{'N': 1, 'a': 1, 'm': 1, 'e': 1}\n"
          ]
        }
      ]
    },
    {
      "cell_type": "code",
      "source": [
        "# Raju went to a supermarket to buy some product, he as purchased the product and about to pay the bill, where the item he\n",
        "#purchased is been stored in a nested tuple in the following order ((item name, item cost, no of item)), Consider Raju has purchased five items.\n",
        "#Calculate the total cost of the item he purchased.\n",
        "\n",
        "items = (\n",
        "    (\"Apples\", 2.5, 3),\n",
        "    (\"Bananas\", 1.2, 5),\n",
        "    (\"Milk\", 3.0, 2),\n",
        "    (\"Bread\", 1.5, 4),\n",
        "    (\"Eggs\", 0.2, 12)\n",
        ")\n",
        "total_cost = sum(item[1] * item[2] for item in items)\n",
        "print(f\"Total cost of items purchased: ₹{total_cost:.2f}\")\n"
      ],
      "metadata": {
        "colab": {
          "base_uri": "https://localhost:8080/"
        },
        "id": "7R60A5gqEJjV",
        "outputId": "db881e08-b7b5-46bc-95e1-0fb01395ce23"
      },
      "execution_count": null,
      "outputs": [
        {
          "output_type": "stream",
          "name": "stdout",
          "text": [
            "Total cost of items purchased: ₹27.90\n"
          ]
        }
      ]
    },
    {
      "cell_type": "code",
      "metadata": {
        "colab": {
          "base_uri": "https://localhost:8080/"
        },
        "id": "de1ab9c0",
        "outputId": "1223a0eb-1863-460f-c547-f0074e12e4d7"
      },
      "source": [
        "text = input(\"Enter a string:\")\n",
        "char_frequency = {}\n",
        "\n",
        "for char in text:\n",
        "    if char in char_frequency:\n",
        "        char_frequency[char] += 1\n",
        "    else:\n",
        "        char_frequency[char] = 1\n",
        "\n",
        "print(\"Character frequency:\", char_frequency)"
      ],
      "execution_count": null,
      "outputs": [
        {
          "output_type": "stream",
          "name": "stdout",
          "text": [
            "Enter a string:Hello\n",
            "Character frequency: {'H': 1, 'e': 1, 'l': 2, 'o': 1}\n"
          ]
        }
      ]
    },
    {
      "cell_type": "code",
      "source": [
        "from collections import Counter\n",
        "text = input(\"Enter a string:\")\n",
        "char_frequency = Counter(text)\n",
        "print(dict(char_frequency))"
      ],
      "metadata": {
        "colab": {
          "base_uri": "https://localhost:8080/"
        },
        "id": "O5kmVRuZGDsr",
        "outputId": "8f974e9f-31f5-436b-a2fd-5966ca07551c"
      },
      "execution_count": null,
      "outputs": [
        {
          "output_type": "stream",
          "name": "stdout",
          "text": [
            "Enter a string:Welcome to course\n",
            "{'W': 1, 'e': 3, 'l': 1, 'c': 2, 'o': 3, 'm': 1, ' ': 2, 't': 1, 'u': 1, 'r': 1, 's': 1}\n"
          ]
        }
      ]
    },
    {
      "cell_type": "code",
      "source": [
        " f = open(\"data.txt\",\"r\")\n",
        " print(f.read())"
      ],
      "metadata": {
        "id": "yLvqnoKiWSpc",
        "colab": {
          "base_uri": "https://localhost:8080/"
        },
        "outputId": "3c155a2c-9e24-4654-f0c9-3d2d7ef3792c"
      },
      "execution_count": null,
      "outputs": [
        {
          "output_type": "stream",
          "name": "stdout",
          "text": [
            "Hello World!!!\n"
          ]
        }
      ]
    },
    {
      "cell_type": "code",
      "source": [
        "f = open(\"data.txt\",\"r\")\n",
        "print(f.readline())\n",
        "print(f.readline())"
      ],
      "metadata": {
        "colab": {
          "base_uri": "https://localhost:8080/"
        },
        "id": "3DizPdp1yOup",
        "outputId": "03c52eeb-35f0-49ca-ebe9-2d65cb119073"
      },
      "execution_count": null,
      "outputs": [
        {
          "output_type": "stream",
          "name": "stdout",
          "text": [
            "Hello World!!!\n",
            "\n"
          ]
        }
      ]
    },
    {
      "cell_type": "code",
      "source": [
        "f = open(\"data.txt\",\"r\")\n",
        "for x in f:\n",
        "  print(x)"
      ],
      "metadata": {
        "id": "wD5GCDK7Wmj3",
        "colab": {
          "base_uri": "https://localhost:8080/"
        },
        "outputId": "79329f7e-63f7-48c5-b594-65b902b5ff70"
      },
      "execution_count": null,
      "outputs": [
        {
          "output_type": "stream",
          "name": "stdout",
          "text": [
            "Hello World!!!\n"
          ]
        }
      ]
    },
    {
      "cell_type": "code",
      "source": [
        "f = open(\"data.txt\",\"r\")\n",
        "print(f.read(5))"
      ],
      "metadata": {
        "colab": {
          "base_uri": "https://localhost:8080/"
        },
        "id": "yB8swVifydUn",
        "outputId": "3789f394-f7e0-49da-cd9d-aee62b42d749"
      },
      "execution_count": null,
      "outputs": [
        {
          "output_type": "stream",
          "name": "stdout",
          "text": [
            "Hello\n"
          ]
        }
      ]
    },
    {
      "cell_type": "code",
      "source": [
        "f = open(\"data.txt\", \"w\")\n",
        "f.write(\"New Content added in the File\")\n",
        "f.close()\n",
        "\n",
        "#open and read the file after the appending:\n",
        "f = open(\"data.txt\", \"r\")\n",
        "print(f.read())"
      ],
      "metadata": {
        "colab": {
          "base_uri": "https://localhost:8080/"
        },
        "id": "o4GiemkFykcZ",
        "outputId": "622c8dc3-232d-443f-927d-7a0c5762f859"
      },
      "execution_count": null,
      "outputs": [
        {
          "output_type": "stream",
          "name": "stdout",
          "text": [
            "New Content added in the File\n"
          ]
        }
      ]
    },
    {
      "cell_type": "code",
      "source": [
        "# delete the file\n",
        "import os\n",
        "os.remove(\"data.txt\")\n",
        "print(\"File Removed Successfully\")"
      ],
      "metadata": {
        "colab": {
          "base_uri": "https://localhost:8080/"
        },
        "id": "xaFVvAT9zaaC",
        "outputId": "c13b5a73-e071-46f2-e83b-d3b877051b42"
      },
      "execution_count": null,
      "outputs": [
        {
          "output_type": "stream",
          "name": "stdout",
          "text": [
            "File Removed Successfully\n"
          ]
        }
      ]
    },
    {
      "cell_type": "code",
      "source": [
        "import os\n",
        "if os.path.exists(\"data.txt\"):\n",
        "  os.remove(\"data.txt\")\n",
        "  print(\"File Removed Successfully\")\n",
        "else:\n",
        "  print(\"File does not exist\")"
      ],
      "metadata": {
        "colab": {
          "base_uri": "https://localhost:8080/"
        },
        "id": "EDyf6QKEzyBj",
        "outputId": "e2916a02-dc21-475d-eddf-420b7f070c01"
      },
      "execution_count": null,
      "outputs": [
        {
          "output_type": "stream",
          "name": "stdout",
          "text": [
            "File does not exist\n"
          ]
        }
      ]
    },
    {
      "cell_type": "code",
      "source": [
        "# Python code to illustrate split() function\n",
        "with open(\"data1.txt\", \"r\") as file:\n",
        "    data = file.read()\n",
        "    lines = line.split(\"\\n\")\n",
        "    for line in lines:\n",
        "      print(line)"
      ],
      "metadata": {
        "colab": {
          "base_uri": "https://localhost:8080/"
        },
        "id": "dUj0I3jo1VgQ",
        "outputId": "23410e9c-9353-49c8-ce6b-500e27afe7ce"
      },
      "execution_count": null,
      "outputs": [
        {
          "output_type": "stream",
          "name": "stdout",
          "text": [
            "Luck\n"
          ]
        }
      ]
    },
    {
      "cell_type": "code",
      "source": [
        "# Python code to illustrate split() function\n",
        "with open(\"data1.txt\", \"r\") as file:\n",
        "    data = file.readlines()\n",
        "    for line in data:\n",
        "      lines = line.split()\n",
        "      print(lines)"
      ],
      "metadata": {
        "colab": {
          "base_uri": "https://localhost:8080/"
        },
        "id": "mRqLpW4n0CWY",
        "outputId": "762981b1-f0ec-4986-864f-6cbbdeb40e3e"
      },
      "execution_count": null,
      "outputs": [
        {
          "output_type": "stream",
          "name": "stdout",
          "text": [
            "['New', 'Content', 'added', 'in', 'the', 'File']\n"
          ]
        }
      ]
    },
    {
      "cell_type": "code",
      "source": [
        "# Python code to illustrate with() alongwith write()\n",
        "\n",
        "with open(\"data1.txt\", \"w\") as f:\n",
        "  f.write(\"Hello World!!!\")\n",
        "  print(\"File Created Successfully!\")"
      ],
      "metadata": {
        "colab": {
          "base_uri": "https://localhost:8080/"
        },
        "id": "XpT78ds2112l",
        "outputId": "591dd266-eab5-4f2f-8267-e253b5ef39fa"
      },
      "execution_count": null,
      "outputs": [
        {
          "output_type": "stream",
          "name": "stdout",
          "text": [
            "File Created Successfully!\n"
          ]
        }
      ]
    },
    {
      "cell_type": "code",
      "source": [
        "f = open(\"data2.txt\", \"w\")\n",
        "f.write(\"New Content added in the File\")\n",
        "f.close()\n",
        "\n",
        "#open and read the file after the appending:\n",
        "f = open(\"data2.txt\", \"r\")\n",
        "print(f.read())"
      ],
      "metadata": {
        "colab": {
          "base_uri": "https://localhost:8080/"
        },
        "id": "Av0Nd_-J2snW",
        "outputId": "54767784-2f84-4051-d973-efd266a1c473"
      },
      "execution_count": null,
      "outputs": [
        {
          "output_type": "stream",
          "name": "stdout",
          "text": [
            "New Content added in the File\n"
          ]
        }
      ]
    },
    {
      "cell_type": "code",
      "source": [
        "# read and write Json file\n",
        "import json\n",
        "data = {\n",
        "    \"name\": \"John\",\n",
        "    \"age\": 30,\n",
        "    \"city\": \"New York\"\n",
        "}\n",
        "with open(\"data.json\", \"w\") as f:\n",
        "    json.dump(data, f)\n",
        "\n",
        "# reading JSON data\n",
        "with open('data.json', 'r') as f:\n",
        "  data=json.load(f)\n",
        "  print(data)"
      ],
      "metadata": {
        "colab": {
          "base_uri": "https://localhost:8080/"
        },
        "id": "6Kd3pPTZ3VQ5",
        "outputId": "b528cca6-d60b-42d9-901e-aa4769548993"
      },
      "execution_count": null,
      "outputs": [
        {
          "output_type": "stream",
          "name": "stdout",
          "text": [
            "{'name': 'John', 'age': 30, 'city': 'New York'}\n"
          ]
        }
      ]
    },
    {
      "cell_type": "code",
      "source": [
        "# word search\n",
        "a = input(\"Enter the word to search: \")\n",
        "with open(\"data1.txt\", \"r\") as f:\n",
        "    data = f.read()\n",
        "    if data.upper() or data.lower() == a.upper():\n",
        "        print(\"Word found\")\n",
        "    else:\n",
        "        print(\"Word not found\")"
      ],
      "metadata": {
        "colab": {
          "base_uri": "https://localhost:8080/"
        },
        "id": "GxgAV4TD6ypo",
        "outputId": "cbdff234-d992-44e0-94fc-ceba77cb0c03"
      },
      "execution_count": null,
      "outputs": [
        {
          "output_type": "stream",
          "name": "stdout",
          "text": [
            "Enter the word to search: new\n",
            "Word found\n"
          ]
        }
      ]
    },
    {
      "cell_type": "code",
      "source": [
        "# word search\n",
        "a = input(\"Enter the word to search: \")\n",
        "with open(\"data1.txt\", \"r\") as f:\n",
        "    data = f.read()\n",
        "    if a in data:\n",
        "        print(\"Word found\")\n",
        "    else:\n",
        "        print(\"Word not found\")"
      ],
      "metadata": {
        "colab": {
          "base_uri": "https://localhost:8080/"
        },
        "id": "Mn1AcBhU3vfX",
        "outputId": "0a1ddc13-5b2c-459d-8adc-e7a7c94ee791"
      },
      "execution_count": null,
      "outputs": [
        {
          "output_type": "stream",
          "name": "stdout",
          "text": [
            "Enter the word to search: new\n",
            "Word not found\n"
          ]
        }
      ]
    },
    {
      "cell_type": "code",
      "source": [
        "file1 = open('AI.txt','w')\n",
        "file1.write(\"Artificial Intelligence is method of learing\")\n",
        "file1.close()\n",
        "print(\"File Created Successfully\")"
      ],
      "metadata": {
        "colab": {
          "base_uri": "https://localhost:8080/"
        },
        "id": "DCp7nKQl4UMJ",
        "outputId": "a0331d37-0b82-4209-e524-b4710f9d0b9b"
      },
      "execution_count": null,
      "outputs": [
        {
          "output_type": "stream",
          "name": "stdout",
          "text": [
            "File Created Successfully\n"
          ]
        }
      ]
    }
  ]
}