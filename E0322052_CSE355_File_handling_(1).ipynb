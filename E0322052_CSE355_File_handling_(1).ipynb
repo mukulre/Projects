{
  "cells": [
    {
      "cell_type": "markdown",
      "metadata": {
        "id": "view-in-github",
        "colab_type": "text"
      },
      "source": [
        "<a href=\"https://colab.research.google.com/github/mukulre/Projects/blob/main/E0322052_CSE355_File_handling_(1).ipynb\" target=\"_parent\"><img src=\"https://colab.research.google.com/assets/colab-badge.svg\" alt=\"Open In Colab\"/></a>"
      ]
    },
    {
      "cell_type": "code",
      "execution_count": null,
      "metadata": {
        "id": "ohwdL5D00Ezj"
      },
      "outputs": [],
      "source": []
    },
    {
      "cell_type": "markdown",
      "metadata": {
        "id": "UOSICHgT1PPR"
      },
      "source": [
        "File Handling:\n",
        "1. \"r\" - Read - Default value. Opens a file for reading, error if the file does not exist\n",
        "\n",
        "2. \"a\" - Append - Opens a file for appending, creates the file if it does not exist\n",
        "\n",
        "3. \"w\" - Write - Opens a file for writing, creates the file if it does not exist\n",
        "\n",
        "4. \"x\" - Create - Creates the specified file, returns an error if the file exists"
      ]
    },
    {
      "cell_type": "code",
      "execution_count": null,
      "metadata": {
        "id": "84-XCID61RWU"
      },
      "outputs": [],
      "source": [
        "f = open(\"demo.txt\", \"r\")\n",
        "print(f.read())\n"
      ]
    },
    {
      "cell_type": "code",
      "execution_count": null,
      "metadata": {
        "id": "sHCyQdsP1mtX"
      },
      "outputs": [],
      "source": [
        "f = open(\"demo.txt\", \"r\")\n",
        "print(f.readline())\n",
        "print(f.readline())"
      ]
    },
    {
      "cell_type": "code",
      "execution_count": null,
      "metadata": {
        "id": "HIkyeO8_1skf"
      },
      "outputs": [],
      "source": [
        "f = open(\"demo.txt\", \"r\")\n",
        "for x in f:\n",
        "  print(x)"
      ]
    },
    {
      "cell_type": "code",
      "execution_count": null,
      "metadata": {
        "id": "4aYR-vPG1yy7",
        "colab": {
          "base_uri": "https://localhost:8080/"
        },
        "outputId": "2bed4428-6d69-4f44-c846-d0e4915930ed"
      },
      "outputs": [
        {
          "output_type": "stream",
          "name": "stdout",
          "text": [
            "new-Now the file has more content!\n"
          ]
        }
      ],
      "source": [
        "f = open(\"demofile.txt\", \"w\")\n",
        "f.write(\"new-Now the file has more content!\")\n",
        "f.close()\n",
        "\n",
        "#open and read the file after the appending:\n",
        "f = open(\"demofile.txt\", \"r\")\n",
        "print(f.read())"
      ]
    },
    {
      "cell_type": "code",
      "execution_count": null,
      "metadata": {
        "id": "Gqng3i_u195o"
      },
      "outputs": [],
      "source": [
        "# delete the file\n",
        "import os\n",
        "os.remove(\"demo.txt\")"
      ]
    },
    {
      "cell_type": "code",
      "execution_count": null,
      "metadata": {
        "id": "GdnwdoVT2G28",
        "colab": {
          "base_uri": "https://localhost:8080/"
        },
        "outputId": "9d014ca5-d1f1-4f20-ecb2-9943a1403a52"
      },
      "outputs": [
        {
          "output_type": "stream",
          "name": "stdout",
          "text": [
            "The file does not exist\n"
          ]
        }
      ],
      "source": [
        "import os\n",
        "if os.path.exists(\"demofile.txt\"):\n",
        "  os.remove(\"demofile.txt\")\n",
        "else:\n",
        "  print(\"The file does not exist\")"
      ]
    },
    {
      "cell_type": "code",
      "execution_count": null,
      "metadata": {
        "id": "AtWf7mxD2TYC"
      },
      "outputs": [],
      "source": [
        "# Python code to illustrate split() function\n",
        "with open(\"demo.txt\", \"r\") as file:\n",
        "\tdata = file.readlines()\n",
        "\tfor line in data:\n",
        "\t\tword = line.split()\n",
        "\t\tprint (word)\n"
      ]
    },
    {
      "cell_type": "code",
      "execution_count": null,
      "metadata": {
        "id": "RjPZ6j1I2qYt"
      },
      "outputs": [],
      "source": [
        "# Python code to illustrate with() alongwith write()\n",
        "with open(\"file.txt\", \"w\") as f:\n",
        "\tf.write(\"Hello World!!!\")"
      ]
    },
    {
      "cell_type": "code",
      "execution_count": null,
      "metadata": {
        "id": "o1LR6M_d3LPy"
      },
      "outputs": [],
      "source": [
        "# read and write Json File\n",
        "import json\n",
        "data={'name':'mala','age':30}\n",
        "with open('data.json','w') as file:\n",
        "  json.dump(data,file)\n",
        "\n",
        "#reading JSON data\n",
        "with open('data.json','r') as file:\n",
        "  data=json.load(file)\n",
        "  print(data)"
      ]
    },
    {
      "cell_type": "code",
      "execution_count": null,
      "metadata": {
        "colab": {
          "base_uri": "https://localhost:8080/"
        },
        "id": "JLxGa2gc3ffG",
        "outputId": "554b6374-0bb6-4e9b-d25e-ba2ad70d4fad"
      },
      "outputs": [
        {
          "output_type": "stream",
          "name": "stdout",
          "text": [
            "enter the word to searchHello\n",
            "string exist\n"
          ]
        }
      ],
      "source": [
        "# word search\n",
        "a=input(\"enter the word to search\")\n",
        "with open('demofile2.txt', 'r') as file:\n",
        "\t\tcontent = file.read()\n",
        "\t\tif a in content:\n",
        "\t\t\tprint('string exist')\n",
        "\t\telse:\n",
        "\t\t\tprint('string does not exist')"
      ]
    },
    {
      "cell_type": "code",
      "execution_count": null,
      "metadata": {
        "id": "wETSHvqM6Kc5"
      },
      "outputs": [],
      "source": [
        "file1=open(\"AI.txt\", \"w\")\n",
        "file1.write(\"Artificial Intelligence is a method of learning new data.\\n Artificial Intelligence covers three types of tasks:\\n 1. Mundane Tasks\\t 2. Formal Tasks\\t 3. Expert Tasks\")"
      ]
    },
    {
      "cell_type": "code",
      "execution_count": null,
      "metadata": {
        "colab": {
          "base_uri": "https://localhost:8080/"
        },
        "id": "SnZgBB3S7jX7",
        "outputId": "f6f1f194-7678-4aca-f476-113129c17b42"
      },
      "outputs": [
        {
          "output_type": "stream",
          "name": "stdout",
          "text": [
            "enterAI.txt\n",
            "How many Tabs are present in these file?  2\n",
            "How many Spaces are present in these file?  24\n",
            "How many Newlines are present in these file?  2\n"
          ]
        }
      ],
      "source": [
        "filename=input(\"enter\")\n",
        "with open(filename) as file:\n",
        "  text=file.read()\n",
        "  count_tab=0\n",
        "  count_space=0\n",
        "  count_new=0\n",
        "  for char in text:\n",
        "    if char=='\\t':\n",
        "      count_tab+=1\n",
        "    if char==' ':\n",
        "      count_space+=1\n",
        "    if char == '\\n':\n",
        "      count_new+=1\n",
        "print(\"How many Tabs are present in these file? \", count_tab)\n",
        "print(\"How many Spaces are present in these file? \", count_space)\n",
        "print(\"How many Newlines are present in these file? \", count_new)"
      ]
    },
    {
      "cell_type": "code",
      "execution_count": null,
      "metadata": {
        "id": "MpaqX6Bk2Ozt"
      },
      "outputs": [],
      "source": [
        "# delete the folder:\n",
        "import os\n",
        "os.rmdir(\"myfolder\")"
      ]
    },
    {
      "cell_type": "code",
      "execution_count": null,
      "metadata": {
        "id": "lM42iZp78hbf"
      },
      "outputs": [],
      "source": []
    }
  ],
  "metadata": {
    "colab": {
      "provenance": [],
      "include_colab_link": true
    },
    "kernelspec": {
      "display_name": "Python 3",
      "name": "python3"
    },
    "language_info": {
      "name": "python"
    }
  },
  "nbformat": 4,
  "nbformat_minor": 0
}