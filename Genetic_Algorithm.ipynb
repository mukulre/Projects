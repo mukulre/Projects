{
  "nbformat": 4,
  "nbformat_minor": 0,
  "metadata": {
    "colab": {
      "provenance": [],
      "authorship_tag": "ABX9TyN0Vj2hLM7PCvtMotMGN7pv",
      "include_colab_link": true
    },
    "kernelspec": {
      "name": "python3",
      "display_name": "Python 3"
    },
    "language_info": {
      "name": "python"
    }
  },
  "cells": [
    {
      "cell_type": "markdown",
      "metadata": {
        "id": "view-in-github",
        "colab_type": "text"
      },
      "source": [
        "<a href=\"https://colab.research.google.com/github/mukulre/Projects/blob/main/Genetic_Algorithm.ipynb\" target=\"_parent\"><img src=\"https://colab.research.google.com/assets/colab-badge.svg\" alt=\"Open In Colab\"/></a>"
      ]
    },
    {
      "cell_type": "code",
      "execution_count": 1,
      "metadata": {
        "id": "P8JntnuwMw6S"
      },
      "outputs": [],
      "source": [
        "import numpy as np\n",
        "import random\n",
        "def generateParents(size):\n",
        "    parents = np.array(random.randint(0, 2**size - 1))\n",
        "    for i in range(1, population):\n",
        "        parents = np.append(parents, random.randint(0, 2**size - 1))\n",
        "    return parents"
      ]
    },
    {
      "cell_type": "code",
      "source": [
        "def totalSize(data, size):\n",
        "    s = 0\n",
        "    for i in range(0, size-1):\n",
        "        if(data & (1 << i) > 0):\n",
        "            s += mp3s[i]\n",
        "    return s"
      ],
      "metadata": {
        "id": "AI6pJ5s1NH9X"
      },
      "execution_count": 2,
      "outputs": []
    },
    {
      "cell_type": "code",
      "source": [
        "def reduceSize(rec, size):\n",
        "    while totalSize(rec, size) > 700:\n",
        "        index = random.randint(0, size - 1)\n",
        "        if(rec & (1 << index) > 0):\n",
        "            rec = rec ^ (1 << index)\n",
        "    return rec"
      ],
      "metadata": {
        "id": "3OLRlSZqNH_3"
      },
      "execution_count": 3,
      "outputs": []
    },
    {
      "cell_type": "code",
      "source": [
        "def mutate(rec, size):\n",
        "    index = random.randint(0, size - 1)\n",
        "    rec = rec ^ (1 << index)\n",
        "    return rec"
      ],
      "metadata": {
        "id": "MdDB6X5QNICO"
      },
      "execution_count": 4,
      "outputs": []
    },
    {
      "cell_type": "code",
      "source": [
        "def fixChromosomes(data, size, population):\n",
        "    datasize = data.shape[0]\n",
        "    fitness = np.zeros((datasize,1), dtype=int)\n",
        "    for i in range(0, datasize):\n",
        "        rec = data[i]\n",
        "        if(totalSize(rec, size) > 700):\n",
        "            rec = reduceSize(rec, size)\n",
        "            data[i] = rec\n",
        "        fitness[i] = -1* totalSize(data[i], size)\n",
        "    data = np.transpose(np.array([data]))\n",
        "    generation = np.concatenate((data, fitness), axis=1)\n",
        "    generation = generation[generation[:population, 1].argsort()]\n",
        "    return generation"
      ],
      "metadata": {
        "id": "6T77iCF6NIEv"
      },
      "execution_count": 5,
      "outputs": []
    },
    {
      "cell_type": "code",
      "source": [
        "def crossover(mom, dad, size):\n",
        "    index = random.randint(1, size - 1)\n",
        "    mom1 = mom & (2**index -1)\n",
        "    mom2 = mom & ((2**(size-index) -1) << index)\n",
        "    dad1 = dad & (2**index -1)\n",
        "    dad2 = dad & ((2**(size-index) -1) << index)\n",
        "    return mutate(mom1|dad2, size), mutate(dad1|mom2, size)"
      ],
      "metadata": {
        "id": "_8cRpZXdNIHL"
      },
      "execution_count": 6,
      "outputs": []
    },
    {
      "cell_type": "code",
      "source": [
        "def newGeneration(generation, size):\n",
        "    top4 = generation[:4, 0]\n",
        "    newGen = generation[:2,0]\n",
        "    for i in range(0, 4):\n",
        "        for j in range(0, 4):\n",
        "            if(i != j):\n",
        "                c1, c2 = crossover(top4[i], top4[j], size)\n",
        "                newGen = np.append(newGen, c1)\n",
        "                newGen = np.append(newGen, c2)\n",
        "                #print(newGen)\n",
        "    return newGen"
      ],
      "metadata": {
        "id": "Whj5w5W3NIJf"
      },
      "execution_count": 7,
      "outputs": []
    },
    {
      "cell_type": "code",
      "source": [
        "def train(mp3Cnt, mp3s, population, generationsPerCD):\n",
        "    curCD = 1\n",
        "    combinedSizes = totalSize(2**mp3Cnt-1, mp3Cnt)\n",
        "    doneSizes = 0.0\n",
        "    while(True):\n",
        "        if(mp3Cnt == 0):\n",
        "            break\n",
        "        parents = generateParents(mp3Cnt)\n",
        "        generation = fixChromosomes(parents, mp3Cnt, population)\n",
        "        ng = generation\n",
        "        for i in range(generationsPerCD):\n",
        "            ng = newGeneration(ng, mp3Cnt)\n",
        "            ng = fixChromosomes(ng, mp3Cnt, population)\n",
        "        allFileSize = totalSize(2**mp3Cnt-1, mp3Cnt)\n",
        "        cdContents = ng[0,0]\n",
        "        if(allFileSize < 700):\n",
        "            cdContents = 2**mp3Cnt -1\n",
        "        currentBestCDSize = totalSize(cdContents, mp3Cnt)\n",
        "        if(currentBestCDSize >= 699 or allFileSize < 700):\n",
        "            indexesToRemove = []\n",
        "            for i in range(0, mp3Cnt):\n",
        "                if(cdContents & (1 << i) > 0):\n",
        "                    indexesToRemove.append(i)\n",
        "            indexesToRemove = list(reversed(indexesToRemove))\n",
        "            doneSizes += currentBestCDSize\n",
        "            print(\"CD\"+ str(curCD) + \": MP3 Count:\" + str(len(indexesToRemove)) + \" Size: \" + str(currentBestCDSize))\n",
        "            mp3Cnt = mp3Cnt - len(indexesToRemove)\n",
        "            for i in range(len(indexesToRemove)):\n",
        "                mp3s = np.delete(mp3s, indexesToRemove[i])\n",
        "            curCD = curCD + 1\n",
        "        else:\n",
        "            continue"
      ],
      "metadata": {
        "id": "hPn6Vz0gNIMa"
      },
      "execution_count": 8,
      "outputs": []
    },
    {
      "cell_type": "code",
      "source": [
        "population = 10\n",
        "mp3Cnt = 100\n",
        "generationsPerCD = 3\n",
        "maxFileSize = 100\n",
        "mp3s = maxFileSize*np.random.rand(mp3Cnt, 1)\n",
        "\n",
        "train(mp3Cnt, mp3s, population, generationsPerCD)"
      ],
      "metadata": {
        "colab": {
          "base_uri": "https://localhost:8080/"
        },
        "id": "Ufwx8WlZNIO7",
        "outputId": "643e8e49-330c-408c-ceb2-57552ba799a1"
      },
      "execution_count": 9,
      "outputs": [
        {
          "output_type": "stream",
          "name": "stdout",
          "text": [
            "CD1: MP3 Count:13 Size: [699.28232658]\n",
            "CD2: MP3 Count:9 Size: [699.59438348]\n",
            "CD3: MP3 Count:12 Size: [699.34902287]\n",
            "CD4: MP3 Count:12 Size: [699.23736221]\n",
            "CD5: MP3 Count:16 Size: [699.49032425]\n",
            "CD6: MP3 Count:12 Size: [699.02489834]\n",
            "CD7: MP3 Count:12 Size: [699.76063889]\n",
            "CD8: MP3 Count:14 Size: [671.83182384]\n"
          ]
        }
      ]
    },
    {
      "cell_type": "code",
      "source": [],
      "metadata": {
        "id": "wmmh5G6RNIRy"
      },
      "execution_count": 9,
      "outputs": []
    },
    {
      "cell_type": "code",
      "source": [],
      "metadata": {
        "id": "_3vTTZ8bNIUJ"
      },
      "execution_count": 9,
      "outputs": []
    },
    {
      "cell_type": "code",
      "source": [],
      "metadata": {
        "id": "04xu76aPNIW0"
      },
      "execution_count": 9,
      "outputs": []
    },
    {
      "cell_type": "code",
      "source": [],
      "metadata": {
        "id": "LgZs3N7wNIZe"
      },
      "execution_count": 9,
      "outputs": []
    },
    {
      "cell_type": "code",
      "source": [],
      "metadata": {
        "id": "M4H3HBcuNIcG"
      },
      "execution_count": 9,
      "outputs": []
    },
    {
      "cell_type": "code",
      "source": [],
      "metadata": {
        "id": "GOJhyaJ6NIfp"
      },
      "execution_count": 9,
      "outputs": []
    }
  ]
}