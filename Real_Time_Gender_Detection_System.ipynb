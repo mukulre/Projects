{
  "nbformat": 4,
  "nbformat_minor": 0,
  "metadata": {
    "colab": {
      "provenance": [],
      "authorship_tag": "ABX9TyNgvPyqusieDIzpcOvfuMFP",
      "include_colab_link": true
    },
    "kernelspec": {
      "name": "python3",
      "display_name": "Python 3"
    },
    "language_info": {
      "name": "python"
    }
  },
  "cells": [
    {
      "cell_type": "markdown",
      "metadata": {
        "id": "view-in-github",
        "colab_type": "text"
      },
      "source": [
        "<a href=\"https://colab.research.google.com/github/mukulre/Projects/blob/main/Real_Time_Gender_Detection_System.ipynb\" target=\"_parent\"><img src=\"https://colab.research.google.com/assets/colab-badge.svg\" alt=\"Open In Colab\"/></a>"
      ]
    },
    {
      "cell_type": "code",
      "execution_count": 1,
      "metadata": {
        "colab": {
          "base_uri": "https://localhost:8080/"
        },
        "id": "GnSPXM8zGqkr",
        "outputId": "3c973d63-8d19-4c82-b095-59813e4c64ec"
      },
      "outputs": [
        {
          "output_type": "stream",
          "name": "stdout",
          "text": [
            "Requirement already satisfied: opencv-python in /usr/local/lib/python3.11/dist-packages (4.11.0.86)\n",
            "Requirement already satisfied: numpy>=1.21.2 in /usr/local/lib/python3.11/dist-packages (from opencv-python) (1.26.4)\n",
            "Collecting cvlib\n",
            "  Downloading cvlib-0.2.7.tar.gz (13.1 MB)\n",
            "\u001b[2K     \u001b[90m━━━━━━━━━━━━━━━━━━━━━━━━━━━━━━━━━━━━━━━━\u001b[0m \u001b[32m13.1/13.1 MB\u001b[0m \u001b[31m61.1 MB/s\u001b[0m eta \u001b[36m0:00:00\u001b[0m\n",
            "\u001b[?25h  Preparing metadata (setup.py) ... \u001b[?25l\u001b[?25hdone\n",
            "Requirement already satisfied: numpy in /usr/local/lib/python3.11/dist-packages (from cvlib) (1.26.4)\n",
            "Collecting progressbar (from cvlib)\n",
            "  Downloading progressbar-2.5.tar.gz (10 kB)\n",
            "  Preparing metadata (setup.py) ... \u001b[?25l\u001b[?25hdone\n",
            "Requirement already satisfied: requests in /usr/local/lib/python3.11/dist-packages (from cvlib) (2.32.3)\n",
            "Requirement already satisfied: pillow in /usr/local/lib/python3.11/dist-packages (from cvlib) (11.1.0)\n",
            "Requirement already satisfied: imageio in /usr/local/lib/python3.11/dist-packages (from cvlib) (2.37.0)\n",
            "Requirement already satisfied: imutils in /usr/local/lib/python3.11/dist-packages (from cvlib) (0.5.4)\n",
            "Requirement already satisfied: charset-normalizer<4,>=2 in /usr/local/lib/python3.11/dist-packages (from requests->cvlib) (3.4.1)\n",
            "Requirement already satisfied: idna<4,>=2.5 in /usr/local/lib/python3.11/dist-packages (from requests->cvlib) (3.10)\n",
            "Requirement already satisfied: urllib3<3,>=1.21.1 in /usr/local/lib/python3.11/dist-packages (from requests->cvlib) (2.3.0)\n",
            "Requirement already satisfied: certifi>=2017.4.17 in /usr/local/lib/python3.11/dist-packages (from requests->cvlib) (2025.1.31)\n",
            "Building wheels for collected packages: cvlib, progressbar\n",
            "  Building wheel for cvlib (setup.py) ... \u001b[?25l\u001b[?25hdone\n",
            "  Created wheel for cvlib: filename=cvlib-0.2.7-py3-none-any.whl size=10046369 sha256=9ae4917e8b5a6d0f2ea3861c9c28edcbd47506ceea927ee5aeb1f5697774072c\n",
            "  Stored in directory: /root/.cache/pip/wheels/47/ea/1c/d618f916b503769662fc15debfdefbf7bc43f014465c3bb7c7\n",
            "  Building wheel for progressbar (setup.py) ... \u001b[?25l\u001b[?25hdone\n",
            "  Created wheel for progressbar: filename=progressbar-2.5-py3-none-any.whl size=12066 sha256=0394abc3d1c7636d0d765dabe990793f0959cadd0590175aafb410645387c847\n",
            "  Stored in directory: /root/.cache/pip/wheels/8d/bb/b2/5353b966ac6f3c5e1000629a9a5f6aed41794487f551e32efc\n",
            "Successfully built cvlib progressbar\n",
            "Installing collected packages: progressbar, cvlib\n",
            "Successfully installed cvlib-0.2.7 progressbar-2.5\n"
          ]
        }
      ],
      "source": [
        "!pip install opencv-python\n",
        "!pip install cvlib"
      ]
    },
    {
      "cell_type": "code",
      "source": [
        "import cvlib as cv\n",
        "import cv2\n",
        "import numpy as np\n",
        "\n",
        "webcam = cv2.VideoCapture(0)\n",
        "\n",
        "padding = 20\n",
        "while webcam.isOpened():\n",
        "    status, frame = webcam.read()\n",
        "    face, confidence = cv.detect_face(frame)\n",
        "    for idx, f in enumerate(face):\n",
        "        (startX,startY) = max(0, f[0]-padding), max(0, f[1]-padding)\n",
        "        (endX,endY) = min(frame.shape[1]-1, f[2]+padding), min(frame.shape[0]-1, f[3]+padding)\n",
        "        cv2.rectangle(frame, (startX,startY), (endX,endY), (0,255,0), 2)\n",
        "        face_crop = np.copy(frame[startY:endY, startX:endX])\n",
        "        (label, confidence) = cv.detect_gender(face_crop)\n",
        "        idx = np.argmax(confidence)\n",
        "        label = label[idx]\n",
        "        label = \"{}: {:.2f}%\".format(label, confidence[idx] * 100)\n",
        "        Y = startY - 10 if startY - 10 > 10 else startY + 10\n",
        "        cv2.putText(frame, label, (startX,Y), cv2.FONT_HERSHEY_SIMPLEX, 0.7,\n",
        "                    (0,255,0), 2)\n",
        "    cv2.imshow(\"Real-time gender detection\", frame)\n",
        "    # press \"s\" to stop\n",
        "    if cv2.waitKey(1) & 0xFF == ord('s'):\n",
        "        break\n",
        "webcam.release()\n",
        "cv2.destroyAllWindows()"
      ],
      "metadata": {
        "id": "QP8hlfvUGyba"
      },
      "execution_count": 2,
      "outputs": []
    },
    {
      "cell_type": "code",
      "source": [],
      "metadata": {
        "id": "RSmX63r2Gye0"
      },
      "execution_count": null,
      "outputs": []
    },
    {
      "cell_type": "code",
      "source": [],
      "metadata": {
        "id": "Ngd9tzGQGyoa"
      },
      "execution_count": null,
      "outputs": []
    },
    {
      "cell_type": "code",
      "source": [],
      "metadata": {
        "id": "D4y7JXgEGysB"
      },
      "execution_count": null,
      "outputs": []
    }
  ]
}