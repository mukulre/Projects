{
  "nbformat": 4,
  "nbformat_minor": 0,
  "metadata": {
    "colab": {
      "provenance": [],
      "include_colab_link": true
    },
    "kernelspec": {
      "name": "python3",
      "display_name": "Python 3"
    },
    "language_info": {
      "name": "python"
    }
  },
  "cells": [
    {
      "cell_type": "markdown",
      "metadata": {
        "id": "view-in-github",
        "colab_type": "text"
      },
      "source": [
        "<a href=\"https://colab.research.google.com/github/mukulre/Projects/blob/main/e0322052_exercises_python.ipynb\" target=\"_parent\"><img src=\"https://colab.research.google.com/assets/colab-badge.svg\" alt=\"Open In Colab\"/></a>"
      ]
    },
    {
      "cell_type": "code",
      "execution_count": null,
      "metadata": {
        "colab": {
          "base_uri": "https://localhost:8080/"
        },
        "id": "anPorKCOOYbo",
        "outputId": "7af28418-df3b-496d-af8e-3bbe9d4ea0d6"
      },
      "outputs": [
        {
          "output_type": "stream",
          "name": "stdout",
          "text": [
            "[1, 3, 4, 5, 6, 7, 10, 11, 12, 13, 18, 19, 21]\n"
          ]
        }
      ],
      "source": [
        "#merging two sorted list\n",
        "a = [3, 4, 6, 10, 11, 18]\n",
        "b = [1, 5, 7, 12, 13, 19, 21]\n",
        "c = []\n",
        "\n",
        "while a and b:\n",
        "    if a[0] < b[0]:\n",
        "        c.append(a.pop(0))\n",
        "    else:\n",
        "        c.append(b.pop(0))\n",
        "\n",
        "# either a or b could still be non-empty\n",
        "print(c + a + b)"
      ]
    },
    {
      "cell_type": "code",
      "source": [
        "# Payroll processing\n",
        "# Initial list of dictionaries representing the payroll\n",
        "payroll = [\n",
        "    {'name': 'Alice', 'salary': 50000, 'department': 'Engineering', 'hours_worked': 40},\n",
        "    {'name': 'Bob', 'salary': 45000, 'department': 'Marketing', 'hours_worked': 35},\n",
        "    {'name': 'Charlie', 'salary': 60000, 'department': 'Engineering', 'hours_worked': 45},\n",
        "    {'name': 'David', 'salary': 55000, 'department': 'Sales', 'hours_worked': 50}\n",
        "]\n",
        "#The f before the opening quotation mark indicates that the string is an f-string.\n",
        "# This allows for expressions inside the string to be evaluated at runtime.\n",
        "def add_employee(payroll, n, s, d, hr):\n",
        "    new_employee = {'name': n, 'salary': s, 'department': d,\n",
        "                    'hours_worked': hr}\n",
        "    payroll.append(new_employee)\n",
        "    print(f\"Added employee: {name} with salary {salary}, dept is {department}\")\n",
        "# calling function\n",
        "add_employee(payroll, 'Eve', 48000, 'Engineering', 38)\n",
        "add_employee(payroll,\"xyz\",50000,\"cse\",8)\n",
        "\n",
        "\n",
        "\n",
        "def update_hours_worked(payroll, name, new_hours):\n",
        "    for employee in payroll:\n",
        "        if employee['name'] == name:\n",
        "            employee['hours_worked'] = new_hours\n",
        "            print(f\"Updated hours worked for {name} to {new_hours}\")\n",
        "            return\n",
        "    print(f\"Employee named {name} not found in the payroll.\")\n",
        "update_hours_worked(payroll, 'Charlie', 50)\n",
        "\n",
        "def get_employees_by_department(payroll, department):\n",
        "    employees_in_department = [employee for employee in payroll if employee['department']== department]\n",
        "    return employees_in_department\n",
        "\n",
        "engineering_employees = get_employees_by_department(payroll, 'Engineering')\n",
        "print(\"Engineering employees:\", engineering_employees)\n",
        "\n",
        "def get_total_payroll_cost(payroll):\n",
        "    total_cost = sum(employee['salary'] for employee in payroll)\n",
        "    return total_cost\n",
        "\n",
        "total_payroll_cost = get_total_payroll_cost(payroll)\n",
        "print(\"Total payroll cost:\", total_payroll_cost)\n"
      ],
      "metadata": {
        "id": "UKcBjwtheP9S"
      },
      "execution_count": null,
      "outputs": []
    },
    {
      "cell_type": "code",
      "source": [
        "# Gold prices for the last 5 days\n",
        "prices = [6510, 6501, 7499, 7501, 7501]\n",
        "\n",
        "# Calculate the daily changes in gold prices\n",
        "daily_changes = [prices[i] - prices[i - 1] for i in range(1, len(prices))]\n",
        "print(daily_changes)\n",
        "\n",
        "# Convert the list of daily changes to a set to get unique values\n",
        "unique_changes = set(daily_changes)\n",
        "\n",
        "# Print the unique price movements\n",
        "print(unique_changes)"
      ],
      "metadata": {
        "colab": {
          "base_uri": "https://localhost:8080/"
        },
        "id": "b4yoMHl2e2Z9",
        "outputId": "6b81d6dd-808f-4fd7-f3b6-6585e39930af"
      },
      "execution_count": null,
      "outputs": [
        {
          "output_type": "stream",
          "name": "stdout",
          "text": [
            "[-9, 998, 2, 0]\n",
            "{0, 2, 998, -9}\n"
          ]
        }
      ]
    },
    {
      "cell_type": "code",
      "source": [
        "# Nested tuple containing student data\n",
        "grades_data = (\n",
        "    (1, \"CSE\", \"A\"), (2, \"ECE\", \"B+\"), (3, \"CSE\", \"S\"), (4, \"MECH\", \"A+\"),\n",
        "    (5, \"ECE\", \"A\"), (6, \"CSE\", \"B\"), (7, \"CSE\", \"C\"), (8, \"MECH\", \"B\"),\n",
        "    (9, \"CSE\", \"F\"), (10, \"ECE\", \"A+\"), (11, \"MECH\", \"S\"), (12, \"MECH\", \"A\")\n",
        ")\n",
        "\n",
        "# Grade to grade point mapping\n",
        "grade_points = {\"S\": 10, \"A+\": 9, \"A\": 8, \"B+\": 7, \"B\": 6, \"C\": 5, \"F\": 0, \"FA\": 0}\n",
        "\n",
        "# Initialize dictionaries to hold total points and counts for each department\n",
        "dept_points = {}\n",
        "dept_counts = {}\n",
        "\n",
        "# Iterate through the grades data to calculate total points and counts\n",
        "for _, department, grade in grades_data:\n",
        "    if department not in dept_points:\n",
        "        dept_points[department] = 0\n",
        "        dept_counts[department] = 0\n",
        "    dept_points[department] += grade_points[grade]\n",
        "    dept_counts[department] += 1\n",
        "\n",
        "# Calculate average grade point for each department\n",
        "average_points = {dept: dept_points[dept] / dept_counts[dept] for dept in dept_points}\n",
        "print(average_points)\n",
        "\n",
        "# Find the department with the highest average grade point\n",
        "best_department = max(average_points, key=average_points.get)\n",
        "average=average_points[best_department]\n",
        "\n",
        "# Print the average points for each department and the best department\n",
        "print(\"Average Grade Points for Each Department:\")\n",
        "for dept, avg in average_points.items():\n",
        "    print(f\"{dept}: {avg:.2f}\")\n",
        "\n",
        "print(f\"\\nDepartment with the highest average grade point: {best_department} with :{average}\")\n"
      ],
      "metadata": {
        "id": "Kid_NLqee4BN",
        "colab": {
          "base_uri": "https://localhost:8080/"
        },
        "outputId": "b0432471-52e2-46a0-f500-713b5818edaf"
      },
      "execution_count": null,
      "outputs": [
        {
          "output_type": "stream",
          "name": "stdout",
          "text": [
            "{'CSE': 5.8, 'ECE': 8.0, 'MECH': 8.25}\n",
            "Average Grade Points for Each Department:\n",
            "CSE: 5.80\n",
            "ECE: 8.00\n",
            "MECH: 8.25\n",
            "\n",
            "Department with the highest average grade point: MECH with :8.25\n"
          ]
        }
      ]
    },
    {
      "cell_type": "markdown",
      "source": [
        "A sports club is considering a new color for their team jersey. The decision is to be made through a vote involving various stakeholders. The stakeholders include players, coaches, sponsors, fans, and club staff. Each group of stakeholders has a different influence on the final decision, represented by weights. For example, players might have a higher influence than fans.\n",
        "\n",
        "You are a data analyst at the sports club. Your task is to assign weights to the 5 stakeholder groups and use a Python dictionary to count the choices of the jersey color, considering both the frequency of votes and the assigned weights. Determine the color with the highest weighted vote total."
      ],
      "metadata": {
        "id": "XpnC0LSPZAE_"
      }
    },
    {
      "cell_type": "code",
      "source": [
        "# Define the stakeholder groups and their weights\n",
        "weights = {\n",
        "    'Players': 2.5,\n",
        "    'Coaches': 2.0,\n",
        "    'Sponsors': 3.0,\n",
        "    'Fans': 1.0,\n",
        "    'Club Staff': 1.5\n",
        "}\n",
        "\n",
        "# Simulated votes (each stakeholder group votes for a color)\n",
        "votes = {\n",
        "    'Players': 'Red',\n",
        "    'Coaches': 'Blue',\n",
        "    'Sponsors': 'Red',\n",
        "    'Fans': 'Green',\n",
        "    'Club Staff': 'Blue'\n",
        "}\n",
        "\n",
        "# Initialize a dictionary to count the weighted votes\n",
        "weighted_votes = {}\n",
        "\n",
        "# Calculate the weighted votes\n",
        "for group, color in votes.items():\n",
        "    weight = weights[group]\n",
        "    if color in weighted_votes:\n",
        "        weighted_votes[color] += weight\n",
        "    else:\n",
        "        weighted_votes[color] = weight\n",
        "\n",
        "# Print the weighted votes\n",
        "print(\"Weighted votes:\", weighted_votes)\n",
        "\n",
        "# Determine the winning color\n",
        "winning_color = max(weighted_votes, key=weighted_votes.get)\n",
        "print(\"The selected color for the team jersey is:\", winning_color)\n"
      ],
      "metadata": {
        "id": "pKpCvqdKkYge",
        "colab": {
          "base_uri": "https://localhost:8080/"
        },
        "outputId": "ffeb9984-13da-4928-cc63-986508c35b57"
      },
      "execution_count": null,
      "outputs": [
        {
          "output_type": "stream",
          "name": "stdout",
          "text": [
            "Weighted votes: {'Red': 5.5, 'Blue': 3.5, 'Green': 1.0}\n",
            "The selected color for the team jersey is: Red\n"
          ]
        }
      ]
    },
    {
      "cell_type": "code",
      "source": [
        "# Lists storing the number of items sold and produced each day\n",
        "items_sold = [100, 150, 80, 60, 200, 250, 300, 400, 50, 30]\n",
        "items_produced = [200, 200, 200, 200, 200, 200, 200, 200, 200, 200]\n",
        "\n",
        "# Initial inventory\n",
        "inventory = 1000\n",
        "\n",
        "# Analyze the data and decide the number of items to be produced the next day\n",
        "for day in range(len(items_sold)):\n",
        "    # Calculate the inventory at the end of the day\n",
        "    inventory = inventory + items_produced[day] - items_sold[day]\n",
        "\n",
        "    # Apply the conditions\n",
        "    if inventory < 50:\n",
        "        next_production = items_produced[day] * 2\n",
        "    elif inventory < 500:\n",
        "        next_production = items_produced[day] * 1.1\n",
        "    elif day >= 2 and items_sold[day - 1] + items_sold[day - 2] < 0.5 * (items_produced[day - 1] + items_produced[day - 2]):\n",
        "        next_production = 0\n",
        "    elif items_sold[day] < 200:\n",
        "        next_production = items_produced[day] * 0.5\n",
        "    else:\n",
        "        next_production = items_produced[day]\n",
        "\n",
        "    print(f\"Day {day + 1}: Produced = {items_produced[day]}, Sold = {items_sold[day]}, Inventory = {inventory}, Next Production = {next_production}\")\n"
      ],
      "metadata": {
        "id": "XbIOyqp8kiLl",
        "colab": {
          "base_uri": "https://localhost:8080/"
        },
        "outputId": "84bcb740-c342-4f05-a3f7-aac19735c377"
      },
      "execution_count": null,
      "outputs": [
        {
          "output_type": "stream",
          "name": "stdout",
          "text": [
            "Day 1: Produced = 200, Sold = 100, Inventory = 1100, Next Production = 100.0\n",
            "Day 2: Produced = 200, Sold = 150, Inventory = 1150, Next Production = 100.0\n",
            "Day 3: Produced = 200, Sold = 80, Inventory = 1270, Next Production = 100.0\n",
            "Day 4: Produced = 200, Sold = 60, Inventory = 1410, Next Production = 100.0\n",
            "Day 5: Produced = 200, Sold = 200, Inventory = 1410, Next Production = 0\n",
            "Day 6: Produced = 200, Sold = 250, Inventory = 1360, Next Production = 200\n",
            "Day 7: Produced = 200, Sold = 300, Inventory = 1260, Next Production = 200\n",
            "Day 8: Produced = 200, Sold = 400, Inventory = 1060, Next Production = 200\n",
            "Day 9: Produced = 200, Sold = 50, Inventory = 1210, Next Production = 100.0\n",
            "Day 10: Produced = 200, Sold = 30, Inventory = 1380, Next Production = 100.0\n"
          ]
        }
      ]
    },
    {
      "cell_type": "code",
      "source": [
        "#Round Robin\n",
        "#['ABC', 'D', 'EF'] => [A, D, E, B, F, C]:\n",
        "\n",
        "a = ['ABC','D','EF']\n",
        "\n",
        "# construct a dictionary - { string: current length }\n",
        "# {'ABC': 3, 'D': 1, 'EF': 2}\n",
        "da = { x:len(x) for x in a }\n",
        "print(da)\n",
        "\n",
        "# get max length of the strings\n",
        "print(da[max(da, key=da.get)])\n",
        "mx = max(da.values())\n",
        "\n",
        "ans = []\n",
        "\n",
        "# loop with max length\n",
        "for i in range(mx):\n",
        "  # loop the dictionary\n",
        "  for k,v in da.items():\n",
        "    if v > 0:\n",
        "      # append a char starting from the first one\n",
        "      ans.append(k[-v])\n",
        "      v -= 1\n",
        "      da[k] = v\n",
        "\n",
        "print(ans)"
      ],
      "metadata": {
        "colab": {
          "base_uri": "https://localhost:8080/"
        },
        "id": "M9Laapmaa_5U",
        "outputId": "dd4bc7ea-f5f2-4901-f27d-7e45be81a90c"
      },
      "execution_count": null,
      "outputs": [
        {
          "output_type": "stream",
          "name": "stdout",
          "text": [
            "{'ABC': 3, 'D': 1, 'EF': 2}\n",
            "3\n",
            "['A', 'D', 'E', 'B', 'F', 'C']\n"
          ]
        }
      ]
    },
    {
      "cell_type": "code",
      "source": [
        "#merge list\n",
        "a = [3, 4, 6, 10, 11, 18]\n",
        "b = [1, 5, 7, 12, 13, 19, 21]\n",
        "\n",
        "a.extend(b)\n",
        "c = sorted(a)\n",
        "print(c)"
      ],
      "metadata": {
        "colab": {
          "base_uri": "https://localhost:8080/"
        },
        "id": "tiz5wE9DOnmY",
        "outputId": "2f5dca45-06de-429b-977b-ac1bb221477d"
      },
      "execution_count": null,
      "outputs": [
        {
          "output_type": "stream",
          "name": "stdout",
          "text": [
            "[1, 3, 4, 5, 6, 7, 10, 11, 12, 13, 18, 19, 21]\n"
          ]
        }
      ]
    },
    {
      "cell_type": "code",
      "source": [
        "#Get word frequency - initializing dictionary\n",
        "\n",
        "ss = \"\"\"Nory was a Catholic because her mother was a Catholic,\n",
        "and Nory's mother was a Catholic because her father was a Catholic,\n",
        "and her father was a Catholic because his mother was a Catholic,\n",
        "or had been.\"\"\"\n",
        "\n",
        "words = ss.split()\n",
        "d = {}.fromkeys(words,0)\n",
        "\n",
        "# or we can use this to initialize a dict\n",
        "d = {x:0 for x in words}\n",
        "\n",
        "for w in words:\n",
        "    d[w] += 1\n",
        "print(d)\n",
        "\n",
        "print(d.items())\n",
        "\n",
        "ds = sorted(d.items(), key=lambda x:x[1], reverse=True)\n",
        "print(ds)\n",
        "\n",
        "# or we can use this for the key\n",
        "import operator\n",
        "ds2 = sorted(d.items(), key=operator.itemgetter(1), reverse=True)\n",
        "print(ds2)"
      ],
      "metadata": {
        "colab": {
          "base_uri": "https://localhost:8080/"
        },
        "id": "-NNXdgrHO_fu",
        "outputId": "a47e418a-e72d-4c8a-f201-6be56c54b0ac"
      },
      "execution_count": null,
      "outputs": [
        {
          "output_type": "stream",
          "name": "stdout",
          "text": [
            "{'Nory': 1, 'was': 6, 'a': 6, 'Catholic': 3, 'because': 3, 'her': 3, 'mother': 3, 'Catholic,': 3, 'and': 2, \"Nory's\": 1, 'father': 2, 'his': 1, 'or': 1, 'had': 1, 'been.': 1}\n",
            "dict_items([('Nory', 1), ('was', 6), ('a', 6), ('Catholic', 3), ('because', 3), ('her', 3), ('mother', 3), ('Catholic,', 3), ('and', 2), (\"Nory's\", 1), ('father', 2), ('his', 1), ('or', 1), ('had', 1), ('been.', 1)])\n",
            "[('was', 6), ('a', 6), ('Catholic', 3), ('because', 3), ('her', 3), ('mother', 3), ('Catholic,', 3), ('and', 2), ('father', 2), ('Nory', 1), (\"Nory's\", 1), ('his', 1), ('or', 1), ('had', 1), ('been.', 1)]\n",
            "[('was', 6), ('a', 6), ('Catholic', 3), ('because', 3), ('her', 3), ('mother', 3), ('Catholic,', 3), ('and', 2), ('father', 2), ('Nory', 1), (\"Nory's\", 1), ('his', 1), ('or', 1), ('had', 1), ('been.', 1)]\n"
          ]
        }
      ]
    },
    {
      "cell_type": "markdown",
      "source": [],
      "metadata": {
        "id": "dvs46smQV_vs"
      }
    },
    {
      "cell_type": "markdown",
      "source": [],
      "metadata": {
        "id": "nuBGg5q1V_ss"
      }
    },
    {
      "cell_type": "markdown",
      "source": [
        "You are tasked with organizing a list of cities into their respective countries for a travel agency's database. Given the following dictionary of cities and their corresponding countries:\n",
        "\n",
        "cities = {'San Francisco': 'US', 'London': 'UK',\n",
        "          'Manchester': 'UK', 'Paris': 'France',\n",
        "          'Los Angeles': 'US', 'Seoul': 'Korea'}\n",
        "Your goal is to create a new dictionary where the keys are the country codes and the values are lists of cities belonging to each country. For example, the expected output should look like this:\n",
        "\n",
        "{'US': ['San Francisco', 'Los Angeles'],\n",
        " 'UK': ['London', 'Manchester'],\n",
        " 'France': ['Paris'],\n",
        " 'Korea': ['Seoul']}"
      ],
      "metadata": {
        "id": "ObTkBqdLV74z"
      }
    },
    {
      "cell_type": "code",
      "source": [
        "cities = {'San Francisco': 'US', 'London':'UK',\n",
        "        'Manchester':'UK', 'Paris':'France',\n",
        "        'Los Angeles':'US', 'Seoul':'Korea'}\n",
        "\n",
        "# => {'US':['San Francisco', 'Los Angeles'], 'UK':[,], ...}\n",
        "\n",
        "a = [v for k,v in cities.items()]\n",
        "print(a)\n",
        "\n",
        "ds = {x:[] for x in set(a)}\n",
        "print(ds)\n",
        "\n",
        "for k,v in cities.items():\n",
        "\tds[v].append(k)\n",
        "\n",
        "print(ds)"
      ],
      "metadata": {
        "id": "VLlYU0eIWD-v"
      },
      "execution_count": null,
      "outputs": []
    },
    {
      "cell_type": "code",
      "source": [
        "#compress('ABCDEF', [1,0,1,0,1,1]) => ACEF\n",
        "\n",
        "def compress(data, selector):\n",
        "  return (d for d,s in zip(data, selector) if s)\n",
        "\n",
        "a = 'ABCDEF'\n",
        "bit = [1,0,1,0,1,1]\n",
        "\n",
        "for x in compress(a,bit):\n",
        "  print(x, end='')    # ACEF"
      ],
      "metadata": {
        "id": "F_GwLp7xdRpZ"
      },
      "execution_count": null,
      "outputs": []
    },
    {
      "cell_type": "code",
      "source": [],
      "metadata": {
        "id": "9yOfyJxhda4u"
      },
      "execution_count": null,
      "outputs": []
    },
    {
      "cell_type": "code",
      "source": [
        "#Question 1: Find the length of a tuple.\n",
        "\n",
        "# Solution 1:\n",
        "def tuple_length(tup):\n",
        "    return len(tup)\n",
        "\n",
        "# Solution 2:\n",
        "tup = (1, 2, 3, 4, 5)\n",
        "length = len(tup)\n",
        "print(length)  # Output: 5"
      ],
      "metadata": {
        "id": "66cCW3YXWqBs"
      },
      "execution_count": null,
      "outputs": []
    },
    {
      "cell_type": "code",
      "source": [
        "#Question 2: Concatenate two tuples.\n",
        "\n",
        "# Solution 1:\n",
        "def concatenate_tuples(tup1, tup2):\n",
        "    return tup1 + tup2\n",
        "\n",
        "# Solution 2:\n",
        "tup1 = (1, 2, 3)\n",
        "tup2 = (4, 5, 6)\n",
        "result = tup1 + tup2\n",
        "print(result)  # Output: (1, 2, 3, 4, 5, 6)"
      ],
      "metadata": {
        "id": "i0YNqAKmWt30"
      },
      "execution_count": null,
      "outputs": []
    },
    {
      "cell_type": "code",
      "source": [
        "#Question 3: Access an element in a tuple.\n",
        "\n",
        "# Solution 1:\n",
        "def access_element(tup, index):\n",
        "    return tup[index]\n",
        "\n",
        "# Solution 2:\n",
        "tup = (10, 20, 30, 40, 50)\n",
        "element = tup[2]\n",
        "print(element)  # Output: 30"
      ],
      "metadata": {
        "id": "KI0rTT27WvAa"
      },
      "execution_count": null,
      "outputs": []
    },
    {
      "cell_type": "code",
      "source": [
        "#Question 4: Count the occurrences of an element in a tuple.\n",
        "\n",
        "# Solution 1:\n",
        "def count_element(tup, value):\n",
        "    return tup.count(value)\n",
        "\n",
        "# Solution 2:\n",
        "tup = (1, 2, 2, 3, 2, 4, 2)\n",
        "count = tup.count(2)\n",
        "print(count)  # Output: 4"
      ],
      "metadata": {
        "id": "-ooAFLkGWyUN"
      },
      "execution_count": null,
      "outputs": []
    },
    {
      "cell_type": "code",
      "source": [
        "#Question 5: Check if an element exists in a tuple.\n",
        "\n",
        "# Solution 1:\n",
        "def element_exists(tup, value):\n",
        "    return value in tup\n",
        "\n",
        "# Solution 2:\n",
        "tup = (10, 20, 30, 40, 50)\n",
        "exists = 30 in tup\n",
        "print(exists)  # Output: True"
      ],
      "metadata": {
        "id": "PSlulwjwW38Y"
      },
      "execution_count": null,
      "outputs": []
    },
    {
      "cell_type": "code",
      "source": [
        "#Question 6: Convert a tuple to a string.\n",
        "\n",
        "# Solution 1:\n",
        "def tuple_to_string(tup):\n",
        "    return str(tup)\n",
        "\n",
        "# Solution 2:\n",
        "tup = (1, 2, 3)\n",
        "string = str(tup)\n",
        "print(string)  # Output: \"(1, 2, 3)\""
      ],
      "metadata": {
        "id": "w2yOrlNrW6ow"
      },
      "execution_count": null,
      "outputs": []
    },
    {
      "cell_type": "code",
      "source": [
        "#Question 7: Find the index of an element in a tuple.\n",
        "# Solution 1:\n",
        "def find_index(tup, value):\n",
        "    return tup.index(value)\n",
        "\n",
        "# Solution 2:\n",
        "tup = (10, 20, 30, 40, 50)\n",
        "index = tup.index(30)\n",
        "print(index)  # Output: 2"
      ],
      "metadata": {
        "id": "pi-rY86fW-Ir"
      },
      "execution_count": null,
      "outputs": []
    },
    {
      "cell_type": "code",
      "source": [
        "#Question 8: Convert a list to a tuple.\n",
        "# Solution 1:\n",
        "def list_to_tuple(lst):\n",
        "    return tuple(lst)\n",
        "\n",
        "# Solution 2:\n",
        "lst = [1, 2, 3, 4, 5]\n",
        "tup = tuple(lst)\n",
        "print(tup)  # Output: (1, 2, 3, 4, 5)"
      ],
      "metadata": {
        "id": "z8wtVFnaXfLr"
      },
      "execution_count": null,
      "outputs": []
    },
    {
      "cell_type": "code",
      "source": [
        "#Question 9: Iterate through a tuple using a loop.\n",
        "# Solution:\n",
        "tup = (10, 20, 30, 40, 50)\n",
        "for element in tup:\n",
        "    print(element)"
      ],
      "metadata": {
        "id": "mHleYM69XhHc"
      },
      "execution_count": null,
      "outputs": []
    },
    {
      "cell_type": "code",
      "source": [
        "#Question 10: Find the maximum and minimum elements in a tuple.\n",
        "# Solution:\n",
        "def max_min_elements(tup):\n",
        "    return max(tup), min(tup)\n",
        "\n",
        "tup = (5, 8, 2, 10, 3)\n",
        "max_element, min_element = max_min_elements(tup)\n",
        "print(\"Max:\", max_element)  # Output: Max: 10\n",
        "print(\"Min:\", min_element)  # Output: Min: 2"
      ],
      "metadata": {
        "id": "nYfaI9-3XlPE"
      },
      "execution_count": null,
      "outputs": []
    },
    {
      "cell_type": "code",
      "source": [
        "#Question 11: Convert a tuple of strings to a single string.\n",
        "# Solution:\n",
        "def tuple_to_single_string(tup):\n",
        "    return ''.join(tup)\n",
        "\n",
        "tup = ('H', 'e', 'l', 'l', 'o')\n",
        "result = tuple_to_single_string(tup)\n",
        "print(result)  # Output: \"Hello\""
      ],
      "metadata": {
        "id": "fs-gY6CqXsu0"
      },
      "execution_count": null,
      "outputs": []
    },
    {
      "cell_type": "code",
      "source": [
        "#Question 12: Remove an element from a tuple.\n",
        "# Solution:\n",
        "def remove_element(tup, value):\n",
        "    return tuple(x for x in tup if x != value)\n",
        "\n",
        "tup = (1, 2, 3, 4, 3, 5)\n",
        "new_tup = remove_element(tup, 3)\n",
        "print(new_tup)  # Output: (1, 2, 4, 5)"
      ],
      "metadata": {
        "id": "wMzRHQwUXu53"
      },
      "execution_count": null,
      "outputs": []
    },
    {
      "cell_type": "code",
      "source": [
        "#Question 13: Find the common elements between two tuples.\n",
        "# Solution:\n",
        "def common_elements(tup1, tup2):\n",
        "    return tuple(x for x in tup1 if x in tup2)\n",
        "\n",
        "tup1 = (1, 2, 3, 4)\n",
        "tup2 = (3, 4, 5, 6)\n",
        "common = common_elements(tup1, tup2)\n",
        "print(common)  # Output: (3, 4)"
      ],
      "metadata": {
        "id": "n0Xf_y8CXzk7"
      },
      "execution_count": null,
      "outputs": []
    },
    {
      "cell_type": "code",
      "source": [
        "#Question 14: Sort a tuple of integers.\n",
        "# Solution:\n",
        "def sort_tuple(tup):\n",
        "    return tuple(sorted(tup))\n",
        "\n",
        "tup = (5, 3, 8, 1, 2)\n",
        "sorted_tup = sort_tuple(tup)\n",
        "print(sorted_tup)  # Output: (1, 2, 3, 5, 8)"
      ],
      "metadata": {
        "id": "rs1MhQGpYmKs"
      },
      "execution_count": null,
      "outputs": []
    },
    {
      "cell_type": "code",
      "source": [
        "#** Merge two tuples and remove duplicates.\n",
        "# Solution:\n",
        "def merge_and_remove_duplicates(tup1, tup2):\n",
        "    return tuple(set(tup1).union(tup2))\n",
        "\n",
        "tup1 = (1, 2, 3)\n",
        "tup2 = (3, 4, 5)\n",
        "result = merge_and_remove_duplicates(tup1, tup2)\n",
        "print(result)  # Output: (1, 2, 3, 4, 5)"
      ],
      "metadata": {
        "id": "_KqI3YOOYt9h"
      },
      "execution_count": null,
      "outputs": []
    },
    {
      "cell_type": "code",
      "source": [
        "#Find the first and last elements of a tuple.\n",
        "# Solution:\n",
        "def first_last_elements(tup):\n",
        "    return tup[0], tup[-1]\n",
        "\n",
        "tup = (10, 20, 30, 40, 50)\n",
        "first, last = first_last_elements(tup)\n",
        "print(\"First:\", first)  # Output: First: 10\n",
        "print(\"Last:\", last)    # Output: Last: 50"
      ],
      "metadata": {
        "id": "pqRsaQMtYzUo"
      },
      "execution_count": null,
      "outputs": []
    },
    {
      "cell_type": "code",
      "source": [
        "#Count the number of even and odd numbers in a tuple.\n",
        "# Solution:\n",
        "def count_even_odd(tup):\n",
        "    even_count = sum(1 for x in tup if x % 2 == 0)\n",
        "    odd_count = len(tup) - even_count\n",
        "    return even_count, odd_count\n",
        "\n",
        "tup = (1, 2, 3, 4, 5, 6, 7, 8, 9)\n",
        "even, odd = count_even_odd(tup)\n",
        "print(\"Even:\", even)  # Output: Even: 4\n",
        "print(\"Odd:\", odd)    # Output: Odd: 5"
      ],
      "metadata": {
        "id": "B1MyZ7YbZbP5"
      },
      "execution_count": null,
      "outputs": []
    },
    {
      "cell_type": "code",
      "source": [
        " #Find the frequency of each element in a tuple.\n",
        "# Solution:\n",
        "def element_frequency(tup):\n",
        "    freq_dict = {}\n",
        "    for element in tup:\n",
        "        freq_dict[element] = freq_dict.get(element, 0) + 1\n",
        "    return freq_dict\n",
        "\n",
        "tup = (1, 2, 2, 3, 2, 4, 2)\n",
        "frequency = element_frequency(tup)\n",
        "print(frequency)  # Output: {1: 1, 2: 4, 3: 1, 4: 1}"
      ],
      "metadata": {
        "id": "oqEqlp4sZguF"
      },
      "execution_count": null,
      "outputs": []
    },
    {
      "cell_type": "code",
      "source": [],
      "metadata": {
        "id": "ku83IO2bZpFB"
      },
      "execution_count": null,
      "outputs": []
    }
  ]
}