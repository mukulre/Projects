{
  "nbformat": 4,
  "nbformat_minor": 0,
  "metadata": {
    "colab": {
      "provenance": [],
      "authorship_tag": "ABX9TyNiNMueENOjAigP+6/2uwjX",
      "include_colab_link": true
    },
    "kernelspec": {
      "name": "python3",
      "display_name": "Python 3"
    },
    "language_info": {
      "name": "python"
    }
  },
  "cells": [
    {
      "cell_type": "markdown",
      "metadata": {
        "id": "view-in-github",
        "colab_type": "text"
      },
      "source": [
        "<a href=\"https://colab.research.google.com/github/mukulre/Projects/blob/main/Feature_engineering_using_python.ipynb\" target=\"_parent\"><img src=\"https://colab.research.google.com/assets/colab-badge.svg\" alt=\"Open In Colab\"/></a>"
      ]
    },
    {
      "cell_type": "code",
      "execution_count": null,
      "metadata": {
        "colab": {
          "base_uri": "https://localhost:8080/"
        },
        "id": "eFDEml1vRm7c",
        "outputId": "c37bfd27-a676-4bd7-9ece-5c7ec1b60817"
      },
      "outputs": [
        {
          "output_type": "stream",
          "name": "stdout",
          "text": [
            "   Number_of_Riders  Number_of_Drivers Location_Category  \\\n",
            "0                90                 45             Urban   \n",
            "1                58                 39          Suburban   \n",
            "2                42                 31             Rural   \n",
            "3                89                 28             Rural   \n",
            "4                78                 22             Rural   \n",
            "\n",
            "  Customer_Loyalty_Status  Number_of_Past_Rides  Average_Ratings  \\\n",
            "0                  Silver                    13             4.47   \n",
            "1                  Silver                    72             4.06   \n",
            "2                  Silver                     0             3.99   \n",
            "3                 Regular                    67             4.31   \n",
            "4                 Regular                    74             3.77   \n",
            "\n",
            "  Time_of_Booking Vehicle_Type  Expected_Ride_Duration  \\\n",
            "0           Night      Premium                      90   \n",
            "1         Evening      Economy                      43   \n",
            "2       Afternoon      Premium                      76   \n",
            "3       Afternoon      Premium                     134   \n",
            "4       Afternoon      Economy                     149   \n",
            "\n",
            "   Historical_Cost_of_Ride  \n",
            "0               284.257273  \n",
            "1               173.874753  \n",
            "2               329.795469  \n",
            "3               470.201232  \n",
            "4               579.681422  \n"
          ]
        }
      ],
      "source": [
        "import pandas as pd\n",
        "data = pd.read_csv(\"dynamic_pricing.csv\")\n",
        "\n",
        "print(data.head())"
      ]
    },
    {
      "cell_type": "code",
      "source": [
        "# Calculate correlation matrix, only include numeric features\n",
        "correlation_matrix = data.select_dtypes(include=['number']).corr()\n",
        "\n",
        "# Set a correlation threshold (Example 0.7)\n",
        "threshold = 0.7\n",
        "\n",
        "# Identify highly correlated feature pairs\n",
        "correlated_features = set()\n",
        "for i in range(len(correlation_matrix.columns)):\n",
        "    for j in range(i):\n",
        "        if abs(correlation_matrix.iloc[i, j]) > threshold:\n",
        "            colname = correlation_matrix.columns[i]\n",
        "            correlated_features.add(colname)\n",
        "\n",
        "# Drop highly correlated features\n",
        "correlated_data = data.drop(correlated_features, axis=1)\n",
        "\n",
        "print(correlated_data.head())"
      ],
      "metadata": {
        "colab": {
          "base_uri": "https://localhost:8080/"
        },
        "id": "urP1SkCVRvte",
        "outputId": "49facc8d-85a4-4808-b4b5-946fb4f93942"
      },
      "execution_count": null,
      "outputs": [
        {
          "output_type": "stream",
          "name": "stdout",
          "text": [
            "   Number_of_Riders  Number_of_Drivers Location_Category  \\\n",
            "0                90                 45             Urban   \n",
            "1                58                 39          Suburban   \n",
            "2                42                 31             Rural   \n",
            "3                89                 28             Rural   \n",
            "4                78                 22             Rural   \n",
            "\n",
            "  Customer_Loyalty_Status  Number_of_Past_Rides  Average_Ratings  \\\n",
            "0                  Silver                    13             4.47   \n",
            "1                  Silver                    72             4.06   \n",
            "2                  Silver                     0             3.99   \n",
            "3                 Regular                    67             4.31   \n",
            "4                 Regular                    74             3.77   \n",
            "\n",
            "  Time_of_Booking Vehicle_Type  Expected_Ride_Duration  \n",
            "0           Night      Premium                      90  \n",
            "1         Evening      Economy                      43  \n",
            "2       Afternoon      Premium                      76  \n",
            "3       Afternoon      Premium                     134  \n",
            "4       Afternoon      Economy                     149  \n"
          ]
        }
      ]
    },
    {
      "cell_type": "code",
      "source": [
        "# Choose relevant columns based on domain knowledge\n",
        "selected_features = ['Number_of_Riders', 'Number_of_Drivers',\n",
        "                     'Location_Category', 'Number_of_Past_Rides',\n",
        "                     'Average_Ratings', 'Vehicle_Type',\n",
        "                     'Expected_Ride_Duration', 'Historical_Cost_of_Ride']\n",
        "\n",
        "# Create a new DataFrame with selected features\n",
        "domain_based_features = data[selected_features]\n",
        "\n",
        "print(domain_based_features.head())"
      ],
      "metadata": {
        "colab": {
          "base_uri": "https://localhost:8080/"
        },
        "id": "PnuMHEcYRvyO",
        "outputId": "e42586b3-66a3-4f1c-9297-4094ddcc2519"
      },
      "execution_count": null,
      "outputs": [
        {
          "output_type": "stream",
          "name": "stdout",
          "text": [
            "   Number_of_Riders  Number_of_Drivers Location_Category  \\\n",
            "0                90                 45             Urban   \n",
            "1                58                 39          Suburban   \n",
            "2                42                 31             Rural   \n",
            "3                89                 28             Rural   \n",
            "4                78                 22             Rural   \n",
            "\n",
            "   Number_of_Past_Rides  Average_Ratings Vehicle_Type  Expected_Ride_Duration  \\\n",
            "0                    13             4.47      Premium                      90   \n",
            "1                    72             4.06      Economy                      43   \n",
            "2                     0             3.99      Premium                      76   \n",
            "3                    67             4.31      Premium                     134   \n",
            "4                    74             3.77      Economy                     149   \n",
            "\n",
            "   Historical_Cost_of_Ride  \n",
            "0               284.257273  \n",
            "1               173.874753  \n",
            "2               329.795469  \n",
            "3               470.201232  \n",
            "4               579.681422  \n"
          ]
        }
      ]
    },
    {
      "cell_type": "code",
      "source": [
        "data = domain_based_features.copy()\n",
        "\n",
        "# Create a feature for the ratio of riders to drivers\n",
        "data['Riders_to_Drivers_Ratio'] = data['Number_of_Riders'] / data['Number_of_Drivers']\n",
        "\n",
        "# Create a feature for the cost per past ride\n",
        "data['Cost_Per_Past_Ride'] = data['Historical_Cost_of_Ride'] / data['Number_of_Past_Rides']"
      ],
      "metadata": {
        "id": "-yFAMt4lRv00"
      },
      "execution_count": null,
      "outputs": []
    },
    {
      "cell_type": "code",
      "source": [
        "# Perform one-hot encoding for categorical columns\n",
        "data = pd.get_dummies(data, columns=['Location_Category', 'Vehicle_Type'])"
      ],
      "metadata": {
        "id": "w_fFRFDyRv4M"
      },
      "execution_count": null,
      "outputs": []
    },
    {
      "cell_type": "code",
      "source": [],
      "metadata": {
        "id": "BnMoucUvRv9M"
      },
      "execution_count": null,
      "outputs": []
    },
    {
      "cell_type": "code",
      "source": [],
      "metadata": {
        "id": "ELheX-KQRwAA"
      },
      "execution_count": null,
      "outputs": []
    },
    {
      "cell_type": "code",
      "source": [],
      "metadata": {
        "id": "cr-g4gq0RwDc"
      },
      "execution_count": null,
      "outputs": []
    }
  ]
}