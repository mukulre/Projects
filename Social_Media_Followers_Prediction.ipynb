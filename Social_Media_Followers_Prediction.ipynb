{
  "nbformat": 4,
  "nbformat_minor": 0,
  "metadata": {
    "colab": {
      "provenance": [],
      "authorship_tag": "ABX9TyNpaIZ70W1QpQpTqlYIQHxS",
      "include_colab_link": true
    },
    "kernelspec": {
      "name": "python3",
      "display_name": "Python 3"
    },
    "language_info": {
      "name": "python"
    }
  },
  "cells": [
    {
      "cell_type": "markdown",
      "metadata": {
        "id": "view-in-github",
        "colab_type": "text"
      },
      "source": [
        "<a href=\"https://colab.research.google.com/github/mukulre/Projects/blob/main/Social_Media_Followers_Prediction.ipynb\" target=\"_parent\"><img src=\"https://colab.research.google.com/assets/colab-badge.svg\" alt=\"Open In Colab\"/></a>"
      ]
    },
    {
      "cell_type": "code",
      "execution_count": 1,
      "metadata": {
        "id": "ULewyNKS08bz",
        "colab": {
          "base_uri": "https://localhost:8080/",
          "height": 226
        },
        "outputId": "ebb9d3fc-418b-47ab-b03b-54c252ed3954"
      },
      "outputs": [
        {
          "output_type": "execute_result",
          "data": {
            "text/plain": [
              "  period_start period_end  followers_gained  followers_lost  followers_net  \\\n",
              "0     5/1/2020  5/31/2020                 1               0              1   \n",
              "1     6/1/2020  6/30/2020                 8               0              8   \n",
              "2     7/1/2020  7/31/2020               103               0            103   \n",
              "3     8/1/2020  8/31/2020                46               0             46   \n",
              "4     9/1/2020  9/30/2020                35               1             34   \n",
              "\n",
              "   followers_total  subscribers_gained  subscribers_lost  subscribers_net  \\\n",
              "0                1                   0                 0                0   \n",
              "1                9                   0                 0                0   \n",
              "2              112                   0                 0                0   \n",
              "3              158                   0                 0                0   \n",
              "4              192                   0                 0                0   \n",
              "\n",
              "   subscribers_total    views  \n",
              "0                  0    128.0  \n",
              "1                  0  16130.0  \n",
              "2                  0  14616.0  \n",
              "3                  0   4053.0  \n",
              "4                  0   5153.0  "
            ],
            "text/html": [
              "\n",
              "  <div id=\"df-f8996380-e907-420a-917b-8360605bd22c\" class=\"colab-df-container\">\n",
              "    <div>\n",
              "<style scoped>\n",
              "    .dataframe tbody tr th:only-of-type {\n",
              "        vertical-align: middle;\n",
              "    }\n",
              "\n",
              "    .dataframe tbody tr th {\n",
              "        vertical-align: top;\n",
              "    }\n",
              "\n",
              "    .dataframe thead th {\n",
              "        text-align: right;\n",
              "    }\n",
              "</style>\n",
              "<table border=\"1\" class=\"dataframe\">\n",
              "  <thead>\n",
              "    <tr style=\"text-align: right;\">\n",
              "      <th></th>\n",
              "      <th>period_start</th>\n",
              "      <th>period_end</th>\n",
              "      <th>followers_gained</th>\n",
              "      <th>followers_lost</th>\n",
              "      <th>followers_net</th>\n",
              "      <th>followers_total</th>\n",
              "      <th>subscribers_gained</th>\n",
              "      <th>subscribers_lost</th>\n",
              "      <th>subscribers_net</th>\n",
              "      <th>subscribers_total</th>\n",
              "      <th>views</th>\n",
              "    </tr>\n",
              "  </thead>\n",
              "  <tbody>\n",
              "    <tr>\n",
              "      <th>0</th>\n",
              "      <td>5/1/2020</td>\n",
              "      <td>5/31/2020</td>\n",
              "      <td>1</td>\n",
              "      <td>0</td>\n",
              "      <td>1</td>\n",
              "      <td>1</td>\n",
              "      <td>0</td>\n",
              "      <td>0</td>\n",
              "      <td>0</td>\n",
              "      <td>0</td>\n",
              "      <td>128.0</td>\n",
              "    </tr>\n",
              "    <tr>\n",
              "      <th>1</th>\n",
              "      <td>6/1/2020</td>\n",
              "      <td>6/30/2020</td>\n",
              "      <td>8</td>\n",
              "      <td>0</td>\n",
              "      <td>8</td>\n",
              "      <td>9</td>\n",
              "      <td>0</td>\n",
              "      <td>0</td>\n",
              "      <td>0</td>\n",
              "      <td>0</td>\n",
              "      <td>16130.0</td>\n",
              "    </tr>\n",
              "    <tr>\n",
              "      <th>2</th>\n",
              "      <td>7/1/2020</td>\n",
              "      <td>7/31/2020</td>\n",
              "      <td>103</td>\n",
              "      <td>0</td>\n",
              "      <td>103</td>\n",
              "      <td>112</td>\n",
              "      <td>0</td>\n",
              "      <td>0</td>\n",
              "      <td>0</td>\n",
              "      <td>0</td>\n",
              "      <td>14616.0</td>\n",
              "    </tr>\n",
              "    <tr>\n",
              "      <th>3</th>\n",
              "      <td>8/1/2020</td>\n",
              "      <td>8/31/2020</td>\n",
              "      <td>46</td>\n",
              "      <td>0</td>\n",
              "      <td>46</td>\n",
              "      <td>158</td>\n",
              "      <td>0</td>\n",
              "      <td>0</td>\n",
              "      <td>0</td>\n",
              "      <td>0</td>\n",
              "      <td>4053.0</td>\n",
              "    </tr>\n",
              "    <tr>\n",
              "      <th>4</th>\n",
              "      <td>9/1/2020</td>\n",
              "      <td>9/30/2020</td>\n",
              "      <td>35</td>\n",
              "      <td>1</td>\n",
              "      <td>34</td>\n",
              "      <td>192</td>\n",
              "      <td>0</td>\n",
              "      <td>0</td>\n",
              "      <td>0</td>\n",
              "      <td>0</td>\n",
              "      <td>5153.0</td>\n",
              "    </tr>\n",
              "  </tbody>\n",
              "</table>\n",
              "</div>\n",
              "    <div class=\"colab-df-buttons\">\n",
              "\n",
              "  <div class=\"colab-df-container\">\n",
              "    <button class=\"colab-df-convert\" onclick=\"convertToInteractive('df-f8996380-e907-420a-917b-8360605bd22c')\"\n",
              "            title=\"Convert this dataframe to an interactive table.\"\n",
              "            style=\"display:none;\">\n",
              "\n",
              "  <svg xmlns=\"http://www.w3.org/2000/svg\" height=\"24px\" viewBox=\"0 -960 960 960\">\n",
              "    <path d=\"M120-120v-720h720v720H120Zm60-500h600v-160H180v160Zm220 220h160v-160H400v160Zm0 220h160v-160H400v160ZM180-400h160v-160H180v160Zm440 0h160v-160H620v160ZM180-180h160v-160H180v160Zm440 0h160v-160H620v160Z\"/>\n",
              "  </svg>\n",
              "    </button>\n",
              "\n",
              "  <style>\n",
              "    .colab-df-container {\n",
              "      display:flex;\n",
              "      gap: 12px;\n",
              "    }\n",
              "\n",
              "    .colab-df-convert {\n",
              "      background-color: #E8F0FE;\n",
              "      border: none;\n",
              "      border-radius: 50%;\n",
              "      cursor: pointer;\n",
              "      display: none;\n",
              "      fill: #1967D2;\n",
              "      height: 32px;\n",
              "      padding: 0 0 0 0;\n",
              "      width: 32px;\n",
              "    }\n",
              "\n",
              "    .colab-df-convert:hover {\n",
              "      background-color: #E2EBFA;\n",
              "      box-shadow: 0px 1px 2px rgba(60, 64, 67, 0.3), 0px 1px 3px 1px rgba(60, 64, 67, 0.15);\n",
              "      fill: #174EA6;\n",
              "    }\n",
              "\n",
              "    .colab-df-buttons div {\n",
              "      margin-bottom: 4px;\n",
              "    }\n",
              "\n",
              "    [theme=dark] .colab-df-convert {\n",
              "      background-color: #3B4455;\n",
              "      fill: #D2E3FC;\n",
              "    }\n",
              "\n",
              "    [theme=dark] .colab-df-convert:hover {\n",
              "      background-color: #434B5C;\n",
              "      box-shadow: 0px 1px 3px 1px rgba(0, 0, 0, 0.15);\n",
              "      filter: drop-shadow(0px 1px 2px rgba(0, 0, 0, 0.3));\n",
              "      fill: #FFFFFF;\n",
              "    }\n",
              "  </style>\n",
              "\n",
              "    <script>\n",
              "      const buttonEl =\n",
              "        document.querySelector('#df-f8996380-e907-420a-917b-8360605bd22c button.colab-df-convert');\n",
              "      buttonEl.style.display =\n",
              "        google.colab.kernel.accessAllowed ? 'block' : 'none';\n",
              "\n",
              "      async function convertToInteractive(key) {\n",
              "        const element = document.querySelector('#df-f8996380-e907-420a-917b-8360605bd22c');\n",
              "        const dataTable =\n",
              "          await google.colab.kernel.invokeFunction('convertToInteractive',\n",
              "                                                    [key], {});\n",
              "        if (!dataTable) return;\n",
              "\n",
              "        const docLinkHtml = 'Like what you see? Visit the ' +\n",
              "          '<a target=\"_blank\" href=https://colab.research.google.com/notebooks/data_table.ipynb>data table notebook</a>'\n",
              "          + ' to learn more about interactive tables.';\n",
              "        element.innerHTML = '';\n",
              "        dataTable['output_type'] = 'display_data';\n",
              "        await google.colab.output.renderOutput(dataTable, element);\n",
              "        const docLink = document.createElement('div');\n",
              "        docLink.innerHTML = docLinkHtml;\n",
              "        element.appendChild(docLink);\n",
              "      }\n",
              "    </script>\n",
              "  </div>\n",
              "\n",
              "\n",
              "<div id=\"df-40d14149-d0cb-429d-961e-2ac5ab941590\">\n",
              "  <button class=\"colab-df-quickchart\" onclick=\"quickchart('df-40d14149-d0cb-429d-961e-2ac5ab941590')\"\n",
              "            title=\"Suggest charts\"\n",
              "            style=\"display:none;\">\n",
              "\n",
              "<svg xmlns=\"http://www.w3.org/2000/svg\" height=\"24px\"viewBox=\"0 0 24 24\"\n",
              "     width=\"24px\">\n",
              "    <g>\n",
              "        <path d=\"M19 3H5c-1.1 0-2 .9-2 2v14c0 1.1.9 2 2 2h14c1.1 0 2-.9 2-2V5c0-1.1-.9-2-2-2zM9 17H7v-7h2v7zm4 0h-2V7h2v10zm4 0h-2v-4h2v4z\"/>\n",
              "    </g>\n",
              "</svg>\n",
              "  </button>\n",
              "\n",
              "<style>\n",
              "  .colab-df-quickchart {\n",
              "      --bg-color: #E8F0FE;\n",
              "      --fill-color: #1967D2;\n",
              "      --hover-bg-color: #E2EBFA;\n",
              "      --hover-fill-color: #174EA6;\n",
              "      --disabled-fill-color: #AAA;\n",
              "      --disabled-bg-color: #DDD;\n",
              "  }\n",
              "\n",
              "  [theme=dark] .colab-df-quickchart {\n",
              "      --bg-color: #3B4455;\n",
              "      --fill-color: #D2E3FC;\n",
              "      --hover-bg-color: #434B5C;\n",
              "      --hover-fill-color: #FFFFFF;\n",
              "      --disabled-bg-color: #3B4455;\n",
              "      --disabled-fill-color: #666;\n",
              "  }\n",
              "\n",
              "  .colab-df-quickchart {\n",
              "    background-color: var(--bg-color);\n",
              "    border: none;\n",
              "    border-radius: 50%;\n",
              "    cursor: pointer;\n",
              "    display: none;\n",
              "    fill: var(--fill-color);\n",
              "    height: 32px;\n",
              "    padding: 0;\n",
              "    width: 32px;\n",
              "  }\n",
              "\n",
              "  .colab-df-quickchart:hover {\n",
              "    background-color: var(--hover-bg-color);\n",
              "    box-shadow: 0 1px 2px rgba(60, 64, 67, 0.3), 0 1px 3px 1px rgba(60, 64, 67, 0.15);\n",
              "    fill: var(--button-hover-fill-color);\n",
              "  }\n",
              "\n",
              "  .colab-df-quickchart-complete:disabled,\n",
              "  .colab-df-quickchart-complete:disabled:hover {\n",
              "    background-color: var(--disabled-bg-color);\n",
              "    fill: var(--disabled-fill-color);\n",
              "    box-shadow: none;\n",
              "  }\n",
              "\n",
              "  .colab-df-spinner {\n",
              "    border: 2px solid var(--fill-color);\n",
              "    border-color: transparent;\n",
              "    border-bottom-color: var(--fill-color);\n",
              "    animation:\n",
              "      spin 1s steps(1) infinite;\n",
              "  }\n",
              "\n",
              "  @keyframes spin {\n",
              "    0% {\n",
              "      border-color: transparent;\n",
              "      border-bottom-color: var(--fill-color);\n",
              "      border-left-color: var(--fill-color);\n",
              "    }\n",
              "    20% {\n",
              "      border-color: transparent;\n",
              "      border-left-color: var(--fill-color);\n",
              "      border-top-color: var(--fill-color);\n",
              "    }\n",
              "    30% {\n",
              "      border-color: transparent;\n",
              "      border-left-color: var(--fill-color);\n",
              "      border-top-color: var(--fill-color);\n",
              "      border-right-color: var(--fill-color);\n",
              "    }\n",
              "    40% {\n",
              "      border-color: transparent;\n",
              "      border-right-color: var(--fill-color);\n",
              "      border-top-color: var(--fill-color);\n",
              "    }\n",
              "    60% {\n",
              "      border-color: transparent;\n",
              "      border-right-color: var(--fill-color);\n",
              "    }\n",
              "    80% {\n",
              "      border-color: transparent;\n",
              "      border-right-color: var(--fill-color);\n",
              "      border-bottom-color: var(--fill-color);\n",
              "    }\n",
              "    90% {\n",
              "      border-color: transparent;\n",
              "      border-bottom-color: var(--fill-color);\n",
              "    }\n",
              "  }\n",
              "</style>\n",
              "\n",
              "  <script>\n",
              "    async function quickchart(key) {\n",
              "      const quickchartButtonEl =\n",
              "        document.querySelector('#' + key + ' button');\n",
              "      quickchartButtonEl.disabled = true;  // To prevent multiple clicks.\n",
              "      quickchartButtonEl.classList.add('colab-df-spinner');\n",
              "      try {\n",
              "        const charts = await google.colab.kernel.invokeFunction(\n",
              "            'suggestCharts', [key], {});\n",
              "      } catch (error) {\n",
              "        console.error('Error during call to suggestCharts:', error);\n",
              "      }\n",
              "      quickchartButtonEl.classList.remove('colab-df-spinner');\n",
              "      quickchartButtonEl.classList.add('colab-df-quickchart-complete');\n",
              "    }\n",
              "    (() => {\n",
              "      let quickchartButtonEl =\n",
              "        document.querySelector('#df-40d14149-d0cb-429d-961e-2ac5ab941590 button');\n",
              "      quickchartButtonEl.style.display =\n",
              "        google.colab.kernel.accessAllowed ? 'block' : 'none';\n",
              "    })();\n",
              "  </script>\n",
              "</div>\n",
              "\n",
              "    </div>\n",
              "  </div>\n"
            ],
            "application/vnd.google.colaboratory.intrinsic+json": {
              "type": "dataframe",
              "variable_name": "data",
              "summary": "{\n  \"name\": \"data\",\n  \"rows\": 15,\n  \"fields\": [\n    {\n      \"column\": \"period_start\",\n      \"properties\": {\n        \"dtype\": \"object\",\n        \"num_unique_values\": 15,\n        \"samples\": [\n          \"2/1/2021\",\n          \"4/1/2021\",\n          \"5/1/2020\"\n        ],\n        \"semantic_type\": \"\",\n        \"description\": \"\"\n      }\n    },\n    {\n      \"column\": \"period_end\",\n      \"properties\": {\n        \"dtype\": \"object\",\n        \"num_unique_values\": 15,\n        \"samples\": [\n          \"2/28/2021\",\n          \"4/30/2021\",\n          \"5/31/2020\"\n        ],\n        \"semantic_type\": \"\",\n        \"description\": \"\"\n      }\n    },\n    {\n      \"column\": \"followers_gained\",\n      \"properties\": {\n        \"dtype\": \"number\",\n        \"std\": 255,\n        \"min\": 1,\n        \"max\": 826,\n        \"num_unique_values\": 15,\n        \"samples\": [\n          394,\n          454,\n          1\n        ],\n        \"semantic_type\": \"\",\n        \"description\": \"\"\n      }\n    },\n    {\n      \"column\": \"followers_lost\",\n      \"properties\": {\n        \"dtype\": \"number\",\n        \"std\": 2,\n        \"min\": 0,\n        \"max\": 7,\n        \"num_unique_values\": 6,\n        \"samples\": [\n          0,\n          1,\n          5\n        ],\n        \"semantic_type\": \"\",\n        \"description\": \"\"\n      }\n    },\n    {\n      \"column\": \"followers_net\",\n      \"properties\": {\n        \"dtype\": \"number\",\n        \"std\": 254,\n        \"min\": 1,\n        \"max\": 825,\n        \"num_unique_values\": 15,\n        \"samples\": [\n          393,\n          452,\n          1\n        ],\n        \"semantic_type\": \"\",\n        \"description\": \"\"\n      }\n    },\n    {\n      \"column\": \"followers_total\",\n      \"properties\": {\n        \"dtype\": \"number\",\n        \"std\": 1528,\n        \"min\": 1,\n        \"max\": 4390,\n        \"num_unique_values\": 15,\n        \"samples\": [\n          1967,\n          2807,\n          1\n        ],\n        \"semantic_type\": \"\",\n        \"description\": \"\"\n      }\n    },\n    {\n      \"column\": \"subscribers_gained\",\n      \"properties\": {\n        \"dtype\": \"number\",\n        \"std\": 5,\n        \"min\": 0,\n        \"max\": 20,\n        \"num_unique_values\": 9,\n        \"samples\": [\n          5,\n          3,\n          8\n        ],\n        \"semantic_type\": \"\",\n        \"description\": \"\"\n      }\n    },\n    {\n      \"column\": \"subscribers_lost\",\n      \"properties\": {\n        \"dtype\": \"number\",\n        \"std\": 1,\n        \"min\": 0,\n        \"max\": 6,\n        \"num_unique_values\": 4,\n        \"samples\": [\n          1,\n          6,\n          0\n        ],\n        \"semantic_type\": \"\",\n        \"description\": \"\"\n      }\n    },\n    {\n      \"column\": \"subscribers_net\",\n      \"properties\": {\n        \"dtype\": \"number\",\n        \"std\": 4,\n        \"min\": 0,\n        \"max\": 14,\n        \"num_unique_values\": 9,\n        \"samples\": [\n          6,\n          3,\n          5\n        ],\n        \"semantic_type\": \"\",\n        \"description\": \"\"\n      }\n    },\n    {\n      \"column\": \"subscribers_total\",\n      \"properties\": {\n        \"dtype\": \"number\",\n        \"std\": 24,\n        \"min\": 0,\n        \"max\": 70,\n        \"num_unique_values\": 10,\n        \"samples\": [\n          56,\n          3,\n          37\n        ],\n        \"semantic_type\": \"\",\n        \"description\": \"\"\n      }\n    },\n    {\n      \"column\": \"views\",\n      \"properties\": {\n        \"dtype\": \"number\",\n        \"std\": 61012.405946269486,\n        \"min\": 128.0,\n        \"max\": 167608.0,\n        \"num_unique_values\": 15,\n        \"samples\": [\n          100650.0,\n          134765.0,\n          128.0\n        ],\n        \"semantic_type\": \"\",\n        \"description\": \"\"\n      }\n    }\n  ]\n}"
            }
          },
          "metadata": {},
          "execution_count": 1
        }
      ],
      "source": [
        "import pandas as pd\n",
        "import matplotlib.pyplot as plt\n",
        "import seaborn as sns\n",
        "import numpy as np\n",
        "\n",
        "data = pd.read_csv(\"stats.csv\")\n",
        "data.drop(data.tail(1).index, inplace=True)\n",
        "data.head()"
      ]
    },
    {
      "cell_type": "code",
      "source": [
        "plt.figure(figsize=(15, 10))\n",
        "sns.set_theme(style=\"whitegrid\")\n",
        "plt.title(\"Number of Followers I Gained Every Month\")\n",
        "sns.barplot(x=\"followers_gained\", y=\"period_end\", data=data)\n",
        "plt.show()"
      ],
      "metadata": {
        "id": "id1r6QD01aYT",
        "colab": {
          "base_uri": "https://localhost:8080/",
          "height": 531
        },
        "outputId": "5a600a14-b5e3-4905-aac6-6868a62f740d"
      },
      "execution_count": 2,
      "outputs": [
        {
          "output_type": "display_data",
          "data": {
            "text/plain": [
              "<Figure size 1500x1000 with 1 Axes>"
            ],
            "image/png": "[encoded data removed]"
          },
          "metadata": {}
        }
      ]
    },
    {
      "cell_type": "code",
      "source": [
        "plt.figure(figsize=(15, 10))\n",
        "sns.set_theme(style=\"whitegrid\")\n",
        "plt.title(\"Total Followers At The End of Every Month\")\n",
        "sns.barplot(x=\"followers_total\", y=\"period_end\", data=data)\n",
        "plt.show()"
      ],
      "metadata": {
        "id": "iRmxjPMA1aaN",
        "colab": {
          "base_uri": "https://localhost:8080/",
          "height": 531
        },
        "outputId": "2f57b16e-609f-4484-b9c4-c0b67006bcf8"
      },
      "execution_count": 3,
      "outputs": [
        {
          "output_type": "display_data",
          "data": {
            "text/plain": [
              "<Figure size 1500x1000 with 1 Axes>"
            ],
            "image/png": "[encoded data removed]"
          },
          "metadata": {}
        }
      ]
    },
    {
      "cell_type": "code",
      "source": [
        "plt.figure(figsize=(15, 10))\n",
        "sns.set_theme(style=\"whitegrid\")\n",
        "plt.title(\"Total Views Every Month\")\n",
        "sns.barplot(x=\"views\", y=\"period_end\", data=data)\n",
        "plt.show()"
      ],
      "metadata": {
        "id": "qcsRgjKW1acq",
        "colab": {
          "base_uri": "https://localhost:8080/",
          "height": 531
        },
        "outputId": "5fb32451-80b2-4f88-c3ec-1579726fe11e"
      },
      "execution_count": 4,
      "outputs": [
        {
          "output_type": "display_data",
          "data": {
            "text/plain": [
              "<Figure size 1500x1000 with 1 Axes>"
            ],
            "image/png": "[encoded data removed]"
          },
          "metadata": {}
        }
      ]
    },
    {
      "cell_type": "code",
      "source": [
        "!pip install autots"
      ],
      "metadata": {
        "id": "8Jr_roVt1ae2",
        "colab": {
          "base_uri": "https://localhost:8080/"
        },
        "outputId": "9ba11bec-ed48-4948-d04a-8687dd816301"
      },
      "execution_count": 5,
      "outputs": [
        {
          "output_type": "stream",
          "name": "stdout",
          "text": [
            "Collecting autots\n",
            "  Downloading autots-0.6.17-py3-none-any.whl.metadata (11 kB)\n",
            "Requirement already satisfied: numpy>=1.14.6 in /usr/local/lib/python3.11/dist-packages (from autots) (1.26.4)\n",
            "Requirement already satisfied: pandas>=0.25.0 in /usr/local/lib/python3.11/dist-packages (from autots) (2.2.2)\n",
            "Requirement already satisfied: statsmodels>=0.10.0 in /usr/local/lib/python3.11/dist-packages (from autots) (0.14.4)\n",
            "Requirement already satisfied: scikit-learn>=0.20.0 in /usr/local/lib/python3.11/dist-packages (from autots) (1.6.1)\n",
            "Requirement already satisfied: python-dateutil>=2.8.2 in /usr/local/lib/python3.11/dist-packages (from pandas>=0.25.0->autots) (2.8.2)\n",
            "Requirement already satisfied: pytz>=2020.1 in /usr/local/lib/python3.11/dist-packages (from pandas>=0.25.0->autots) (2024.2)\n",
            "Requirement already satisfied: tzdata>=2022.7 in /usr/local/lib/python3.11/dist-packages (from pandas>=0.25.0->autots) (2025.1)\n",
            "Requirement already satisfied: scipy>=1.6.0 in /usr/local/lib/python3.11/dist-packages (from scikit-learn>=0.20.0->autots) (1.13.1)\n",
            "Requirement already satisfied: joblib>=1.2.0 in /usr/local/lib/python3.11/dist-packages (from scikit-learn>=0.20.0->autots) (1.4.2)\n",
            "Requirement already satisfied: threadpoolctl>=3.1.0 in /usr/local/lib/python3.11/dist-packages (from scikit-learn>=0.20.0->autots) (3.5.0)\n",
            "Requirement already satisfied: patsy>=0.5.6 in /usr/local/lib/python3.11/dist-packages (from statsmodels>=0.10.0->autots) (1.0.1)\n",
            "Requirement already satisfied: packaging>=21.3 in /usr/local/lib/python3.11/dist-packages (from statsmodels>=0.10.0->autots) (24.2)\n",
            "Requirement already satisfied: six>=1.5 in /usr/local/lib/python3.11/dist-packages (from python-dateutil>=2.8.2->pandas>=0.25.0->autots) (1.17.0)\n",
            "Downloading autots-0.6.17-py3-none-any.whl (953 kB)\n",
            "\u001b[2K   \u001b[90m━━━━━━━━━━━━━━━━━━━━━━━━━━━━━━━━━━━━━━━━\u001b[0m \u001b[32m953.7/953.7 kB\u001b[0m \u001b[31m11.7 MB/s\u001b[0m eta \u001b[36m0:00:00\u001b[0m\n",
            "\u001b[?25hInstalling collected packages: autots\n",
            "Successfully installed autots-0.6.17\n"
          ]
        }
      ]
    },
    {
      "cell_type": "code",
      "source": [
        "from autots import AutoTS # Import the AutoTS class\n",
        "model = AutoTS(forecast_length=4, frequency='infer', ensemble='simple', min_allowed_train_percent=0.5) # Reduced min_allowed_train_percent\n",
        "model = model.fit(data, date_col='period_end', value_col='followers_gained', id_col=None)\n",
        "prediction = model.predict()\n",
        "forecast = prediction.forecast\n",
        "print(forecast)"
      ],
      "metadata": {
        "id": "WN7fCd4H1ahO",
        "colab": {
          "base_uri": "https://localhost:8080/"
        },
        "outputId": "9eb77d98-2f48-4088-9218-38e77c1a1862"
      },
      "execution_count": null,
      "outputs": [
        {
          "output_type": "stream",
          "name": "stdout",
          "text": [
            "Using 1 cpus for n_jobs.\n",
            "Data frequency is: ME, used frequency is: ME\n",
            "Model Number: 1 with model AverageValueNaive in generation 0 of 25\n",
            "Model Number: 2 with model AverageValueNaive in generation 0 of 25\n",
            "Model Number: 3 with model AverageValueNaive in generation 0 of 25\n",
            "Model Number: 4 with model DatepartRegression in generation 0 of 25\n",
            "Model Number: 5 with model DatepartRegression in generation 0 of 25\n",
            "Model Number: 6 with model DatepartRegression in generation 0 of 25\n"
          ]
        },
        {
          "output_type": "stream",
          "name": "stderr",
          "text": [
            "/usr/local/lib/python3.11/dist-packages/sklearn/svm/_base.py:1249: ConvergenceWarning: Liblinear failed to converge, increase the number of iterations.\n",
            "  warnings.warn(\n"
          ]
        },
        {
          "output_type": "stream",
          "name": "stdout",
          "text": [
            "Model Number: 7 with model DatepartRegression in generation 0 of 25\n"
          ]
        },
        {
          "output_type": "stream",
          "name": "stderr",
          "text": [
            "/usr/local/lib/python3.11/dist-packages/keras/src/layers/rnn/rnn.py:200: UserWarning: Do not pass an `input_shape`/`input_dim` argument to a layer. When using Sequential models, prefer using an `Input(shape)` object as the first layer in the model instead.\n",
            "  super().__init__(**kwargs)\n"
          ]
        },
        {
          "output_type": "stream",
          "name": "stdout",
          "text": [
            "Epoch 1/50\n",
            "\u001b[1m1/1\u001b[0m \u001b[32m━━━━━━━━━━━━━━━━━━━━\u001b[0m\u001b[37m\u001b[0m \u001b[1m13s\u001b[0m 13s/step - loss: 0.3792\n",
            "Epoch 2/50\n",
            "\u001b[1m1/1\u001b[0m \u001b[32m━━━━━━━━━━━━━━━━━━━━\u001b[0m\u001b[37m\u001b[0m \u001b[1m0s\u001b[0m 146ms/step - loss: 0.3741\n",
            "Epoch 3/50\n",
            "\u001b[1m1/1\u001b[0m \u001b[32m━━━━━━━━━━━━━━━━━━━━\u001b[0m\u001b[37m\u001b[0m \u001b[1m0s\u001b[0m 86ms/step - loss: 0.3515\n",
            "Epoch 4/50\n",
            "\u001b[1m1/1\u001b[0m \u001b[32m━━━━━━━━━━━━━━━━━━━━\u001b[0m\u001b[37m\u001b[0m \u001b[1m0s\u001b[0m 129ms/step - loss: 0.3518\n",
            "Epoch 5/50\n",
            "\u001b[1m1/1\u001b[0m \u001b[32m━━━━━━━━━━━━━━━━━━━━\u001b[0m\u001b[37m\u001b[0m \u001b[1m0s\u001b[0m 76ms/step - loss: 0.3543\n",
            "Epoch 6/50\n",
            "\u001b[1m1/1\u001b[0m \u001b[32m━━━━━━━━━━━━━━━━━━━━\u001b[0m\u001b[37m\u001b[0m \u001b[1m0s\u001b[0m 141ms/step - loss: 0.3532\n",
            "Epoch 7/50\n",
            "\u001b[1m1/1\u001b[0m \u001b[32m━━━━━━━━━━━━━━━━━━━━\u001b[0m\u001b[37m\u001b[0m \u001b[1m0s\u001b[0m 76ms/step - loss: 0.3694\n",
            "Epoch 8/50\n",
            "\u001b[1m1/1\u001b[0m \u001b[32m━━━━━━━━━━━━━━━━━━━━\u001b[0m\u001b[37m\u001b[0m \u001b[1m0s\u001b[0m 95ms/step - loss: 0.3495\n",
            "Epoch 9/50\n",
            "\u001b[1m1/1\u001b[0m \u001b[32m━━━━━━━━━━━━━━━━━━━━\u001b[0m\u001b[37m\u001b[0m \u001b[1m0s\u001b[0m 77ms/step - loss: 0.3561\n",
            "Epoch 10/50\n",
            "\u001b[1m1/1\u001b[0m \u001b[32m━━━━━━━━━━━━━━━━━━━━\u001b[0m\u001b[37m\u001b[0m \u001b[1m0s\u001b[0m 99ms/step - loss: 0.3390\n",
            "Epoch 11/50\n",
            "\u001b[1m1/1\u001b[0m \u001b[32m━━━━━━━━━━━━━━━━━━━━\u001b[0m\u001b[37m\u001b[0m \u001b[1m0s\u001b[0m 125ms/step - loss: 0.3459\n",
            "Epoch 12/50\n",
            "\u001b[1m1/1\u001b[0m \u001b[32m━━━━━━━━━━━━━━━━━━━━\u001b[0m\u001b[37m\u001b[0m \u001b[1m0s\u001b[0m 154ms/step - loss: 0.3563\n",
            "Epoch 13/50\n",
            "\u001b[1m1/1\u001b[0m \u001b[32m━━━━━━━━━━━━━━━━━━━━\u001b[0m\u001b[37m\u001b[0m \u001b[1m0s\u001b[0m 175ms/step - loss: 0.3515\n",
            "Epoch 14/50\n",
            "\u001b[1m1/1\u001b[0m \u001b[32m━━━━━━━━━━━━━━━━━━━━\u001b[0m\u001b[37m\u001b[0m \u001b[1m0s\u001b[0m 255ms/step - loss: 0.3497\n",
            "Epoch 15/50\n",
            "\u001b[1m1/1\u001b[0m \u001b[32m━━━━━━━━━━━━━━━━━━━━\u001b[0m\u001b[37m\u001b[0m \u001b[1m0s\u001b[0m 87ms/step - loss: 0.3609\n",
            "Epoch 16/50\n",
            "\u001b[1m1/1\u001b[0m \u001b[32m━━━━━━━━━━━━━━━━━━━━\u001b[0m\u001b[37m\u001b[0m \u001b[1m0s\u001b[0m 137ms/step - loss: 0.3433\n",
            "Epoch 17/50\n",
            "\u001b[1m1/1\u001b[0m \u001b[32m━━━━━━━━━━━━━━━━━━━━\u001b[0m\u001b[37m\u001b[0m \u001b[1m0s\u001b[0m 282ms/step - loss: 0.3549\n",
            "Epoch 18/50\n",
            "\u001b[1m1/1\u001b[0m \u001b[32m━━━━━━━━━━━━━━━━━━━━\u001b[0m\u001b[37m\u001b[0m \u001b[1m0s\u001b[0m 79ms/step - loss: 0.3488\n",
            "Epoch 19/50\n",
            "\u001b[1m1/1\u001b[0m \u001b[32m━━━━━━━━━━━━━━━━━━━━\u001b[0m\u001b[37m\u001b[0m \u001b[1m0s\u001b[0m 80ms/step - loss: 0.3387\n",
            "Epoch 20/50\n",
            "\u001b[1m1/1\u001b[0m \u001b[32m━━━━━━━━━━━━━━━━━━━━\u001b[0m\u001b[37m\u001b[0m \u001b[1m0s\u001b[0m 94ms/step - loss: 0.3373\n",
            "Epoch 21/50\n",
            "\u001b[1m1/1\u001b[0m \u001b[32m━━━━━━━━━━━━━━━━━━━━\u001b[0m\u001b[37m\u001b[0m \u001b[1m0s\u001b[0m 79ms/step - loss: 0.3495\n",
            "Epoch 22/50\n",
            "\u001b[1m1/1\u001b[0m \u001b[32m━━━━━━━━━━━━━━━━━━━━\u001b[0m\u001b[37m\u001b[0m \u001b[1m0s\u001b[0m 80ms/step - loss: 0.3325\n",
            "Epoch 23/50\n",
            "\u001b[1m1/1\u001b[0m \u001b[32m━━━━━━━━━━━━━━━━━━━━\u001b[0m\u001b[37m\u001b[0m \u001b[1m0s\u001b[0m 87ms/step - loss: 0.3337\n",
            "Epoch 24/50\n",
            "\u001b[1m1/1\u001b[0m \u001b[32m━━━━━━━━━━━━━━━━━━━━\u001b[0m\u001b[37m\u001b[0m \u001b[1m0s\u001b[0m 161ms/step - loss: 0.3333\n",
            "Epoch 25/50\n",
            "\u001b[1m1/1\u001b[0m \u001b[32m━━━━━━━━━━━━━━━━━━━━\u001b[0m\u001b[37m\u001b[0m \u001b[1m0s\u001b[0m 102ms/step - loss: 0.3472\n",
            "Epoch 26/50\n",
            "\u001b[1m1/1\u001b[0m \u001b[32m━━━━━━━━━━━━━━━━━━━━\u001b[0m\u001b[37m\u001b[0m \u001b[1m0s\u001b[0m 86ms/step - loss: 0.3307\n",
            "Epoch 27/50\n",
            "\u001b[1m1/1\u001b[0m \u001b[32m━━━━━━━━━━━━━━━━━━━━\u001b[0m\u001b[37m\u001b[0m \u001b[1m0s\u001b[0m 143ms/step - loss: 0.3446\n",
            "Epoch 28/50\n",
            "\u001b[1m1/1\u001b[0m \u001b[32m━━━━━━━━━━━━━━━━━━━━\u001b[0m\u001b[37m\u001b[0m \u001b[1m0s\u001b[0m 88ms/step - loss: 0.3484\n",
            "Epoch 29/50\n",
            "\u001b[1m1/1\u001b[0m \u001b[32m━━━━━━━━━━━━━━━━━━━━\u001b[0m\u001b[37m\u001b[0m \u001b[1m0s\u001b[0m 190ms/step - loss: 0.3493\n",
            "Epoch 30/50\n",
            "\u001b[1m1/1\u001b[0m \u001b[32m━━━━━━━━━━━━━━━━━━━━\u001b[0m\u001b[37m\u001b[0m \u001b[1m0s\u001b[0m 77ms/step - loss: 0.3362\n",
            "Epoch 31/50\n",
            "\u001b[1m1/1\u001b[0m \u001b[32m━━━━━━━━━━━━━━━━━━━━\u001b[0m\u001b[37m\u001b[0m \u001b[1m0s\u001b[0m 77ms/step - loss: 0.3247\n",
            "Epoch 32/50\n",
            "\u001b[1m1/1\u001b[0m \u001b[32m━━━━━━━━━━━━━━━━━━━━\u001b[0m\u001b[37m\u001b[0m \u001b[1m0s\u001b[0m 72ms/step - loss: 0.3227\n",
            "Epoch 33/50\n",
            "\u001b[1m1/1\u001b[0m \u001b[32m━━━━━━━━━━━━━━━━━━━━\u001b[0m\u001b[37m\u001b[0m \u001b[1m0s\u001b[0m 94ms/step - loss: 0.3270\n",
            "Epoch 34/50\n",
            "\u001b[1m1/1\u001b[0m \u001b[32m━━━━━━━━━━━━━━━━━━━━\u001b[0m\u001b[37m\u001b[0m \u001b[1m0s\u001b[0m 85ms/step - loss: 0.3323\n",
            "Epoch 35/50\n",
            "\u001b[1m1/1\u001b[0m \u001b[32m━━━━━━━━━━━━━━━━━━━━\u001b[0m\u001b[37m\u001b[0m \u001b[1m0s\u001b[0m 111ms/step - loss: 0.3216\n",
            "Epoch 36/50\n",
            "\u001b[1m1/1\u001b[0m \u001b[32m━━━━━━━━━━━━━━━━━━━━\u001b[0m\u001b[37m\u001b[0m \u001b[1m0s\u001b[0m 107ms/step - loss: 0.3180\n",
            "Epoch 37/50\n",
            "\u001b[1m1/1\u001b[0m \u001b[32m━━━━━━━━━━━━━━━━━━━━\u001b[0m\u001b[37m\u001b[0m \u001b[1m0s\u001b[0m 151ms/step - loss: 0.3130\n",
            "Epoch 38/50\n",
            "\u001b[1m1/1\u001b[0m \u001b[32m━━━━━━━━━━━━━━━━━━━━\u001b[0m\u001b[37m\u001b[0m \u001b[1m0s\u001b[0m 152ms/step - loss: 0.3223\n",
            "Epoch 39/50\n",
            "\u001b[1m1/1\u001b[0m \u001b[32m━━━━━━━━━━━━━━━━━━━━\u001b[0m\u001b[37m\u001b[0m \u001b[1m0s\u001b[0m 355ms/step - loss: 0.3183\n",
            "Epoch 40/50\n",
            "\u001b[1m1/1\u001b[0m \u001b[32m━━━━━━━━━━━━━━━━━━━━\u001b[0m\u001b[37m\u001b[0m \u001b[1m0s\u001b[0m 183ms/step - loss: 0.3199\n",
            "Epoch 41/50\n",
            "\u001b[1m1/1\u001b[0m \u001b[32m━━━━━━━━━━━━━━━━━━━━\u001b[0m\u001b[37m\u001b[0m \u001b[1m0s\u001b[0m 196ms/step - loss: 0.3254\n",
            "Epoch 42/50\n",
            "\u001b[1m1/1\u001b[0m \u001b[32m━━━━━━━━━━━━━━━━━━━━\u001b[0m\u001b[37m\u001b[0m \u001b[1m0s\u001b[0m 211ms/step - loss: 0.3071\n",
            "Epoch 43/50\n",
            "\u001b[1m1/1\u001b[0m \u001b[32m━━━━━━━━━━━━━━━━━━━━\u001b[0m\u001b[37m\u001b[0m \u001b[1m0s\u001b[0m 50ms/step - loss: 0.3027\n",
            "Epoch 44/50\n",
            "\u001b[1m1/1\u001b[0m \u001b[32m━━━━━━━━━━━━━━━━━━━━\u001b[0m\u001b[37m\u001b[0m \u001b[1m0s\u001b[0m 55ms/step - loss: 0.3084\n",
            "Epoch 45/50\n",
            "\u001b[1m1/1\u001b[0m \u001b[32m━━━━━━━━━━━━━━━━━━━━\u001b[0m\u001b[37m\u001b[0m \u001b[1m0s\u001b[0m 55ms/step - loss: 0.3083\n",
            "Epoch 46/50\n",
            "\u001b[1m1/1\u001b[0m \u001b[32m━━━━━━━━━━━━━━━━━━━━\u001b[0m\u001b[37m\u001b[0m \u001b[1m0s\u001b[0m 61ms/step - loss: 0.2984\n",
            "Epoch 47/50\n",
            "\u001b[1m1/1\u001b[0m \u001b[32m━━━━━━━━━━━━━━━━━━━━\u001b[0m\u001b[37m\u001b[0m \u001b[1m0s\u001b[0m 59ms/step - loss: 0.2929\n",
            "Epoch 48/50\n",
            "\u001b[1m1/1\u001b[0m \u001b[32m━━━━━━━━━━━━━━━━━━━━\u001b[0m\u001b[37m\u001b[0m \u001b[1m0s\u001b[0m 68ms/step - loss: 0.2903\n",
            "Epoch 49/50\n",
            "\u001b[1m1/1\u001b[0m \u001b[32m━━━━━━━━━━━━━━━━━━━━\u001b[0m\u001b[37m\u001b[0m \u001b[1m0s\u001b[0m 56ms/step - loss: 0.2969\n",
            "Epoch 50/50\n",
            "\u001b[1m1/1\u001b[0m \u001b[32m━━━━━━━━━━━━━━━━━━━━\u001b[0m\u001b[37m\u001b[0m \u001b[1m0s\u001b[0m 52ms/step - loss: 0.2782\n"
          ]
        },
        {
          "output_type": "stream",
          "name": "stderr",
          "text": [
            "WARNING:tensorflow:5 out of the last 5 calls to <function TensorFlowTrainer.make_predict_function.<locals>.one_step_on_data_distributed at 0x7a1a49e15080> triggered tf.function retracing. Tracing is expensive and the excessive number of tracings could be due to (1) creating @tf.function repeatedly in a loop, (2) passing tensors with different shapes, (3) passing Python objects instead of tensors. For (1), please define your @tf.function outside of the loop. For (2), @tf.function has reduce_retracing=True option that can avoid unnecessary retracing. For (3), please refer to https://www.tensorflow.org/guide/function#controlling_retracing and https://www.tensorflow.org/api_docs/python/tf/function for  more details.\n"
          ]
        },
        {
          "output_type": "stream",
          "name": "stdout",
          "text": [
            "\u001b[1m1/1\u001b[0m \u001b[32m━━━━━━━━━━━━━━━━━━━━\u001b[0m\u001b[37m\u001b[0m \u001b[1m1s\u001b[0m 571ms/step\n",
            "Model Number: 8 with model ETS in generation 0 of 25\n",
            "Model Number: 9 with model ETS in generation 0 of 25\n",
            "Model Number: 10 with model GLM in generation 0 of 25\n",
            "Model Number: 11 with model GLM in generation 0 of 25\n",
            "Model Number: 12 with model GLS in generation 0 of 25\n",
            "Model Number: 13 with model GLS in generation 0 of 25\n",
            "Model Number: 14 with model LastValueNaive in generation 0 of 25\n",
            "Model Number: 15 with model LastValueNaive in generation 0 of 25\n"
          ]
        },
        {
          "output_type": "stream",
          "name": "stderr",
          "text": [
            "/usr/local/lib/python3.11/dist-packages/statsmodels/genmod/generalized_linear_model.py:1342: PerfectSeparationWarning: Perfect separation or prediction detected, parameter may not be identified\n",
            "  warnings.warn(msg, category=PerfectSeparationWarning)\n",
            "/usr/local/lib/python3.11/dist-packages/statsmodels/genmod/generalized_linear_model.py:1342: PerfectSeparationWarning: Perfect separation or prediction detected, parameter may not be identified\n",
            "  warnings.warn(msg, category=PerfectSeparationWarning)\n",
            "/usr/local/lib/python3.11/dist-packages/statsmodels/genmod/generalized_linear_model.py:1342: PerfectSeparationWarning: Perfect separation or prediction detected, parameter may not be identified\n",
            "  warnings.warn(msg, category=PerfectSeparationWarning)\n"
          ]
        },
        {
          "output_type": "stream",
          "name": "stdout",
          "text": [
            "Model Number: 16 with model LastValueNaive in generation 0 of 25\n",
            "Model Number: 17 with model LastValueNaive in generation 0 of 25\n",
            "Model Number: 18 with model SeasonalNaive in generation 0 of 25\n",
            "Model Number: 19 with model SeasonalNaive in generation 0 of 25\n",
            "Model Number: 20 with model SeasonalNaive in generation 0 of 25\n",
            "Model Number: 21 with model VAR in generation 0 of 25\n",
            "Template Eval Error: ValueError('Only gave one variable to VAR') in model 21 in generation 0: VAR\n",
            "Model Number: 22 with model VAR in generation 0 of 25\n",
            "Template Eval Error: ValueError('Only gave one variable to VAR') in model 22 in generation 0: VAR\n",
            "Model Number: 23 with model WindowRegression in generation 0 of 25\n",
            "Template Eval Error: ValueError('Found array with 0 sample(s) (shape=(0, 0)) while a minimum of 1 is required by MLPRegressor.') in model 23 in generation 0: WindowRegression\n",
            "Model Number: 24 with model ConstantNaive in generation 0 of 25\n",
            "Model Number: 25 with model FBProphet in generation 0 of 25\n",
            "Model Number: 26 with model DatepartRegression in generation 0 of 25\n",
            "Template Eval Error: ValueError(\"regression_type='User' but no future_regressor passed\") in model 26 in generation 0: DatepartRegression\n",
            "Model Number: 27 with model SeasonalNaive in generation 0 of 25\n",
            "Model Number: 28 with model DatepartRegression in generation 0 of 25\n",
            "Model Number: 29 with model ETS in generation 0 of 25\n",
            "Model Number: 30 with model ARDL in generation 0 of 25\n",
            "Model Number: 31 with model UnivariateMotif in generation 0 of 25\n",
            "Template Eval Error: ValueError('window shape cannot be larger than input array shape') in model 31 in generation 0: UnivariateMotif\n",
            "Model Number: 32 with model UnivariateMotif in generation 0 of 25\n",
            "Template Eval Error: ValueError('window shape cannot be larger than input array shape') in model 32 in generation 0: UnivariateMotif\n",
            "Model Number: 33 with model SectionalMotif in generation 0 of 25\n",
            "Template Eval Error: ValueError('XA and XB must have the same number of columns (i.e. feature dimension.)') in model 33 in generation 0: SectionalMotif\n",
            "Model Number: 34 with model SectionalMotif in generation 0 of 25\n",
            "Template Eval Error: ValueError('kth(=10) out of bounds (3)') in model 34 in generation 0: SectionalMotif\n",
            "Model Number: 35 with model FBProphet in generation 0 of 25\n",
            "Model Number: 36 with model SeasonalNaive in generation 0 of 25\n",
            "Model Number: 37 with model DatepartRegression in generation 0 of 25\n",
            "Model Number: 38 with model ARCH in generation 0 of 25\n",
            "Template Eval Error: ImportError('`arch` package must be installed from pip') in model 38 in generation 0: ARCH\n",
            "Model Number: 39 with model Cassandra in generation 0 of 25\n",
            "Template Eval Error: ValueError('negative dimensions are not allowed') in model 39 in generation 0: Cassandra\n",
            "Model Number: 40 with model SeasonalityMotif in generation 0 of 25\n",
            "Template Eval Error: ValueError('kth(=9) out of bounds (3)') in model 40 in generation 0: SeasonalityMotif\n",
            "Model Number: 41 with model Cassandra in generation 0 of 25\n",
            "Template Eval Error: ValueError('transformed data is all zeroes') in model 41 in generation 0: Cassandra\n",
            "Model Number: 42 with model Cassandra in generation 0 of 25\n",
            "Template Eval Error: Exception(\"Transformer DatepartRegression failed on fit from params pad {'0': {'span': 7}, '1': {'window_size': 7, 'alpha': 2.0, 'grouping_forward_limit': 2, 'max_level_shifts': 5, 'alignment': 'average'}, '2': {}, '3': {'regression_model': {'model': 'ElasticNet', 'model_params': {}}, 'datepart_method': 'recurring', 'polynomial_degree': None, 'transform_dict': {'fillna': None, 'transformations': {'0': 'ScipyFilter'}, 'transformation_params': {'0': {'method': 'savgol_filter', 'method_args': {'window_length': 31, 'polyorder': 3, 'deriv': 0, 'mode': 'interp'}}}}, 'holiday_countries_used': False}} with error Exception('Transformer ScipyFilter failed on fit')\") in model 42 in generation 0: Cassandra\n",
            "Model Number: 43 with model Cassandra in generation 0 of 25\n"
          ]
        },
        {
          "output_type": "stream",
          "name": "stderr",
          "text": [
            "/usr/local/lib/python3.11/dist-packages/numpy/lib/function_base.py:2897: RuntimeWarning: invalid value encountered in divide\n",
            "  c /= stddev[:, None]\n",
            "/usr/local/lib/python3.11/dist-packages/numpy/lib/function_base.py:2898: RuntimeWarning: invalid value encountered in divide\n",
            "  c /= stddev[None, :]\n",
            "/usr/local/lib/python3.11/dist-packages/numpy/lib/function_base.py:2897: RuntimeWarning: invalid value encountered in divide\n",
            "  c /= stddev[:, None]\n",
            "/usr/local/lib/python3.11/dist-packages/numpy/lib/function_base.py:2898: RuntimeWarning: invalid value encountered in divide\n",
            "  c /= stddev[None, :]\n"
          ]
        },
        {
          "output_type": "stream",
          "name": "stdout",
          "text": [
            "Model Number: 44 with model SectionalMotif in generation 0 of 25\n",
            "Template Eval Error: Exception(\"Transformer SeasonalDifference failed on fit from params ffill {'0': {'lag_1': 7, 'method': 'Median'}, '1': {'rows': 1, 'lag': 2, 'method': 'additive', 'strength': 1.0, 'first_value_only': False}, '2': {'lag_1': 12, 'method': 5}, '3': {'window_size': 30, 'alpha': 2.0, 'grouping_forward_limit': 4, 'max_level_shifts': 10, 'alignment': 'average'}} with error ValueError('cannot reshape array of size 11 into shape (0,12,newaxis)')\") in model 44 in generation 0: SectionalMotif\n",
            "Model Number: 45 with model FBProphet in generation 0 of 25\n",
            "Template Eval Error: Exception(\"Transformer SeasonalDifference failed on fit from params rolling_mean {'0': {'lag_1': 7, 'method': 'Median'}, '1': {}, '2': {'lag_1': 12, 'method': 5}, '3': {'window_size': 90, 'alpha': 3.0, 'grouping_forward_limit': 4, 'max_level_shifts': 10, 'alignment': 'rolling_diff_3nn'}, '4': {'rows': None, 'displacement_rows': 1, 'quantile': 1.0, 'decay_span': None}} with error ValueError('cannot reshape array of size 11 into shape (0,12,newaxis)')\") in model 45 in generation 0: FBProphet\n",
            "Model Number: 46 with model ARDL in generation 0 of 25\n",
            "Template Eval Error: ValueError(\"ARDL series followers_gained failed with error ValueError('The number of regressors (26) including deterministics, lags of the endog, lags of the exogenous, and fixed regressors is larger than the sample available for estimation (8).') exog train             weekend  quarter      epoch  month_1  month_2  month_3  month_4  \\\\\\nperiod_end                                                                    \\n2020-05-31        1        2  2459000.5      0.0      0.0      0.0      0.0   \\n2020-06-30        0        2  2459030.5      0.0      0.0      0.0      0.0   \\n2020-07-31        0        3  2459061.5      0.0      0.0      0.0      0.0   \\n2020-08-31        0        3  2459092.5      0.0      0.0      0.0      0.0   \\n2020-09-30        0        3  2459122.5      0.0      0.0      0.0      0.0   \\n2020-10-31        1        4  2459153.5      0.0      0.0      0.0      0.0   \\n2020-11-30        0        4  2459183.5      0.0      0.0      0.0      0.0   \\n2020-12-31        0        4  2459214.5      0.0      0.0      0.0      0.0   \\n2021-01-31        1        1  2459245.5      1.0      0.0      0.0      0.0   \\n2021-02-28        1        1  2459273.5      0.0      1.0      0.0      0.0   \\n2021-03-31        0        1  2459304.5      0.0      0.0      1.0      0.0   \\n\\n            month_5  month_6  month_7  ...  month_10  month_11  month_12  \\\\\\nperiod_end                             ...                                 \\n2020-05-31      1.0      0.0      0.0  ...       0.0       0.0       0.0   \\n2020-06-30      0.0      1.0      0.0  ...       0.0       0.0       0.0   \\n2020-07-31      0.0      0.0      1.0  ...       0.0       0.0       0.0   \\n2020-08-31      0.0      0.0      0.0  ...       0.0       0.0       0.0   \\n2020-09-30      0.0      0.0      0.0  ...       0.0       0.0       0.0   \\n2020-10-31      0.0      0.0      0.0  ...       1.0       0.0       0.0   \\n2020-11-30      0.0      0.0      0.0  ...       0.0       1.0       0.0   \\n2020-12-31      0.0      0.0      0.0  ...       0.0       0.0       1.0   \\n2021-01-31      0.0      0.0      0.0  ...       0.0       0.0       0.0   \\n2021-02-28      0.0      0.0      0.0  ...       0.0       0.0       0.0   \\n2021-03-31      0.0      0.0      0.0  ...       0.0       0.0       0.0   \\n\\n            weekday_0  weekday_1  weekday_2  weekday_3  weekday_4  weekday_5  \\\\\\nperiod_end                                                                     \\n2020-05-31        0.0        0.0        0.0        0.0        0.0        0.0   \\n2020-06-30        0.0        1.0        0.0        0.0        0.0        0.0   \\n2020-07-31        0.0        0.0        0.0        0.0        1.0        0.0   \\n2020-08-31        1.0        0.0        0.0        0.0        0.0        0.0   \\n2020-09-30        0.0        0.0        1.0        0.0        0.0        0.0   \\n2020-10-31        0.0        0.0        0.0        0.0        0.0        1.0   \\n2020-11-30        1.0        0.0        0.0        0.0        0.0        0.0   \\n2020-12-31        0.0        0.0        0.0        1.0        0.0        0.0   \\n2021-01-31        0.0        0.0        0.0        0.0        0.0        0.0   \\n2021-02-28        0.0        0.0        0.0        0.0        0.0        0.0   \\n2021-03-31        0.0        0.0        1.0        0.0        0.0        0.0   \\n\\n            weekday_6  \\nperiod_end             \\n2020-05-31        1.0  \\n2020-06-30        0.0  \\n2020-07-31        0.0  \\n2020-08-31        0.0  \\n2020-09-30        0.0  \\n2020-10-31        0.0  \\n2020-11-30        0.0  \\n2020-12-31        0.0  \\n2021-01-31        1.0  \\n2021-02-28        1.0  \\n2021-03-31        0.0  \\n\\n[11 rows x 22 columns] and predict             weekend  quarter      epoch  month_1  month_2  month_3  month_4  \\\\\\n2021-04-30        0        2  2459334.5      0.0      0.0      0.0      1.0   \\n2021-05-31        0        2  2459365.5      0.0      0.0      0.0      0.0   \\n2021-06-30        0        2  2459395.5      0.0      0.0      0.0      0.0   \\n2021-07-31        1        3  2459426.5      0.0      0.0      0.0      0.0   \\n\\n            month_5  month_6  month_7  ...  month_10  month_11  month_12  \\\\\\n2021-04-30      0.0      0.0      0.0  ...       0.0       0.0       0.0   \\n2021-05-31      1.0      0.0      0.0  ...       0.0       0.0       0.0   \\n2021-06-30      0.0      1.0      0.0  ...       0.0       0.0       0.0   \\n2021-07-31      0.0      0.0      1.0  ...       0.0       0.0       0.0   \\n\\n            weekday_0  weekday_1  weekday_2  weekday_3  weekday_4  weekday_5  \\\\\\n2021-04-30        0.0        0.0        0.0        0.0        1.0        0.0   \\n2021-05-31        1.0        0.0        0.0        0.0        0.0        0.0   \\n2021-06-30        0.0        0.0        1.0        0.0        0.0        0.0   \\n2021-07-31        0.0        0.0        0.0        0.0        0.0        1.0   \\n\\n            weekday_6  \\n2021-04-30        0.0  \\n2021-05-31        0.0  \\n2021-06-30        0.0  \\n2021-07-31        0.0  \\n\\n[4 rows x 22 columns]\") in model 46 in generation 0: ARDL\n",
            "Model Number: 47 with model FFT in generation 0 of 25\n",
            "Model Number: 48 with model BasicLinearModel in generation 0 of 25\n",
            "Model Number: 49 with model BasicLinearModel in generation 0 of 25\n",
            "Model Number: 50 with model SeasonalityMotif in generation 0 of 25\n",
            "Model Number: 51 with model ETS in generation 0 of 25\n"
          ]
        },
        {
          "output_type": "stream",
          "name": "stderr",
          "text": [
            "/usr/local/lib/python3.11/dist-packages/autots/models/basics.py:3595: RuntimeWarning: invalid value encountered in sqrt\n",
            "  self.sigma = np.sqrt(sse / (n - p))\n",
            "/usr/local/lib/python3.11/dist-packages/autots/models/basics.py:3595: RuntimeWarning: invalid value encountered in sqrt\n",
            "  self.sigma = np.sqrt(sse / (n - p))\n"
          ]
        },
        {
          "output_type": "stream",
          "name": "stdout",
          "text": [
            "Model Number: 52 with model FBProphet in generation 0 of 25\n",
            "Template Eval Error: Exception(\"Transformer AlignLastValue failed on fit from params rolling_mean {'0': {'whiten': False, 'n_components': None}, '1': {'output_distribution': 'uniform', 'n_quantiles': 3}, '2': {'rows': 1, 'lag': 28, 'method': 'additive', 'strength': 1.0, 'first_value_only': False, 'threshold': 10, 'threshold_method': 'mean'}, '3': {}} with error IndexError('single positional indexer is out-of-bounds')\") in model 52 in generation 0: FBProphet\n",
            "Model Number: 53 with model GLM in generation 0 of 25\n",
            "Template Eval Error: Exception(\"Transformer ScipyFilter failed on fit from params median {'0': {'rows': 1, 'lag': 1, 'method': 'multiplicative', 'strength': 1.0, 'first_value_only': False, 'threshold': 10, 'threshold_method': 'mean'}, '1': {'decimals': -1, 'on_transform': False, 'on_inverse': True}, '2': {}, '3': {'rows': 7, 'lag': 84, 'method': 'additive', 'strength': 1.0, 'first_value_only': False, 'threshold': 10, 'threshold_method': 'mean'}, '4': {'method': 'butter', 'method_args': {'N': 4, 'btype': 'highpass', 'analog': False, 'output': 'sos', 'Wn': 0.14285714285714285}}, '5': {'low': 12, 'high': 32, 'K': 3, 'lanczos_factor': False, 'return_diff': True, 'on_transform': True, 'on_inverse': False}} with error ValueError('The length of the input vector x must be greater than padlen, which is 15.')\") in model 53 in generation 0: GLM\n",
            "Model Number: 54 with model UnivariateMotif in generation 0 of 25\n",
            "Template Eval Error: ValueError('window shape cannot be larger than input array shape') in model 54 in generation 0: UnivariateMotif\n",
            "Model Number: 55 with model ARDL in generation 0 of 25\n",
            "Template Eval Error: ValueError(\"regression_type='User' but future_regressor not supplied\") in model 55 in generation 0: ARDL\n",
            "Model Number: 56 with model ARCH in generation 0 of 25\n",
            "Template Eval Error: ImportError('`arch` package must be installed from pip') in model 56 in generation 0: ARCH\n",
            "Model Number: 57 with model ConstantNaive in generation 0 of 25\n",
            "Model Number: 58 with model LastValueNaive in generation 0 of 25\n",
            "Model Number: 59 with model AverageValueNaive in generation 0 of 25\n",
            "Model Number: 60 with model GLS in generation 0 of 25\n",
            "Model Number: 61 with model SeasonalNaive in generation 0 of 25\n",
            "Model Number: 62 with model VAR in generation 0 of 25\n",
            "Template Eval Error: ValueError('Only gave one variable to VAR') in model 62 in generation 0: VAR\n",
            "Model Number: 63 with model WindowRegression in generation 0 of 25\n",
            "Template Eval Error: Exception(\"Transformer ScipyFilter failed on fit from params rolling_mean {'0': {'method': 'clip', 'std_threshold': 4.5, 'fillna': None}, '1': {'model': 'Linear', 'phi': 1, 'window': None, 'transform_dict': {'fillna': None, 'transformations': {'0': 'EWMAFilter'}, 'transformation_params': {'0': {'span': 7}}}}, '2': {'method': 'butter', 'method_args': {'N': 5, 'btype': 'highpass', 'analog': False, 'output': 'sos', 'Wn': 0.0027472527472527475}}, '3': {'rows': 4, 'lag': 1, 'method': 'additive', 'strength': 1.0, 'first_value_only': False, 'threshold': None, 'threshold_method': 'mean'}} with error ValueError('The length of the input vector x must be greater than padlen, which is 18.')\") in model 63 in generation 0: WindowRegression\n",
            "Model Number: 64 with model DatepartRegression in generation 0 of 25\n",
            "Model Number: 65 with model SectionalMotif in generation 0 of 25\n",
            "Template Eval Error: ValueError('XA and XB must have the same number of columns (i.e. feature dimension.)') in model 65 in generation 0: SectionalMotif\n",
            "Model Number: 66 with model RRVAR in generation 0 of 25\n",
            "Model Number: 67 with model MetricMotif in generation 0 of 25\n",
            "Template Eval Error: ValueError('window shape cannot be larger than input array shape') in model 67 in generation 0: MetricMotif\n",
            "Model Number: 68 with model Cassandra in generation 0 of 25\n",
            "Template Eval Error: ValueError('transformed data is all zeroes') in model 68 in generation 0: Cassandra\n",
            "Model Number: 69 with model SeasonalityMotif in generation 0 of 25\n",
            "Model Number: 70 with model FFT in generation 0 of 25\n",
            "Model Number: 71 with model BasicLinearModel in generation 0 of 25\n",
            "Model Number: 72 with model SectionalMotif in generation 0 of 25\n",
            "Template Eval Error: Exception(\"Transformer SeasonalDifference failed on fit from params rolling_mean_24 {'0': {'model': 'Linear', 'phi': 1, 'window': 900, 'transform_dict': None}, '1': {'lag_1': 12, 'method': 2}, '2': {'method': 'clip', 'std_threshold': 3.5, 'fillna': None}, '3': {'output_distribution': 'uniform', 'n_quantiles': 'fifth'}, '4': {}} with error ValueError('cannot reshape array of size 11 into shape (0,12,newaxis)')\") in model 72 in generation 0: SectionalMotif\n",
            "Model Number: 73 with model ARDL in generation 0 of 25\n",
            "Template Eval Error: ValueError(\"regression_type='User' but future_regressor not supplied\") in model 73 in generation 0: ARDL\n",
            "Model Number: 74 with model SeasonalityMotif in generation 0 of 25\n",
            "Template Eval Error: Exception('Transformer ScipyFilter failed on fit from params mean {\\'0\\': {\\'method\\': \\'savgol_filter\\', \\'method_args\\': {\\'window_length\\': 91, \\'polyorder\\': 2, \\'deriv\\': 0, \\'mode\\': \\'interp\\'}}, \\'1\\': {\\'part\\': \\'trend\\', \\'lamb\\': 1600}, \\'2\\': {\\'lag_1\\': 7, \\'method\\': 2}} with error ValueError(\"If mode is \\'interp\\', window_length must be less than or equal to the size of x.\")') in model 74 in generation 0: SeasonalityMotif\n",
            "Model Number: 75 with model MetricMotif in generation 0 of 25\n",
            "Template Eval Error: ValueError('kth(=4) out of bounds (3)') in model 75 in generation 0: MetricMotif\n",
            "Model Number: 76 with model ConstantNaive in generation 0 of 25\n",
            "Model Number: 77 with model UnivariateMotif in generation 0 of 25\n",
            "Template Eval Error: Exception(\"Transformer RobustScaler failed on fit from params pchip {'0': {'low': 6, 'high': 90, 'K': 1, 'lanczos_factor': False, 'return_diff': False, 'on_transform': True, 'on_inverse': False}, '1': {}, '2': {'rows': 1, 'lag': 1, 'method': 'additive', 'strength': 1.0, 'first_value_only': False, 'threshold': 10, 'threshold_method': 'max'}, '3': {'method': 100}, '4': {'window': None}, '5': {'decimals': 0, 'on_transform': True, 'on_inverse': False}} with error ValueError('Shape of passed values is (9, 1), indices imply (11, 1)')\") in model 77 in generation 0: UnivariateMotif\n",
            "Model Number: 78 with model SeasonalityMotif in generation 0 of 25\n",
            "Template Eval Error: ValueError('window shape cannot be larger than input array shape') in model 78 in generation 0: SeasonalityMotif\n",
            "Model Number: 79 with model MetricMotif in generation 0 of 25\n",
            "Template Eval Error: ValueError('window shape cannot be larger than input array shape') in model 79 in generation 0: MetricMotif\n",
            "Model Number: 80 with model ARDL in generation 0 of 25\n",
            "Template Eval Error: ValueError(\"regression_type='User' but future_regressor not supplied\") in model 80 in generation 0: ARDL\n",
            "Model Number: 81 with model ARDL in generation 0 of 25\n",
            "Template Eval Error: ValueError(\"regression_type='User' but future_regressor not supplied\") in model 81 in generation 0: ARDL\n",
            "Model Number: 82 with model SeasonalNaive in generation 0 of 25\n"
          ]
        },
        {
          "output_type": "stream",
          "name": "stderr",
          "text": [
            "/usr/local/lib/python3.11/dist-packages/autots/models/basics.py:3595: RuntimeWarning: invalid value encountered in sqrt\n",
            "  self.sigma = np.sqrt(sse / (n - p))\n"
          ]
        },
        {
          "output_type": "stream",
          "name": "stdout",
          "text": [
            "Model Number: 83 with model Cassandra in generation 0 of 25\n",
            "Template Eval Error: UnboundLocalError(\"cannot access local variable 'slope' where it is not associated with a value\") in model 83 in generation 0: Cassandra\n",
            "Model Number: 84 with model VAR in generation 0 of 25\n",
            "Template Eval Error: IndexError('tuple index out of range') in model 84 in generation 0: VAR\n",
            "Model Number: 85 with model SeasonalityMotif in generation 0 of 25\n",
            "Template Eval Error: ValueError('window shape cannot be larger than input array shape') in model 85 in generation 0: SeasonalityMotif\n",
            "Model Number: 86 with model DatepartRegression in generation 0 of 25\n",
            "Model Number: 87 with model SectionalMotif in generation 0 of 25\n",
            "Template Eval Error: ValueError('kth(=3) out of bounds (3)') in model 87 in generation 0: SectionalMotif\n",
            "Model Number: 88 with model RRVAR in generation 0 of 25\n",
            "Model Number: 89 with model VAR in generation 0 of 25\n",
            "Template Eval Error: Exception(\"Transformer AlignLastValue failed on fit from params ffill {'0': {'method': 0.5}, '1': {'theta_values': [0.5, 1.5]}, '2': {'rows': 1, 'lag': 28, 'method': 'additive', 'strength': 1.0, 'first_value_only': False, 'threshold': 10, 'threshold_method': 'max'}, '3': {}} with error IndexError('single positional indexer is out-of-bounds')\") in model 89 in generation 0: VAR\n",
            "Model Number: 90 with model VAR in generation 0 of 25\n",
            "Template Eval Error: ValueError('Only gave one variable to VAR') in model 90 in generation 0: VAR\n",
            "Model Number: 91 with model FBProphet in generation 0 of 25\n",
            "Template Eval Error: Exception(\"Transformer AlignLastValue failed on fit from params zero {'0': {'method': 'clip', 'std_threshold': 4, 'fillna': None}, '1': {'model': 'Linear', 'phi': 1, 'window': None, 'transform_dict': None}, '2': {'rows': 1, 'lag': 7, 'method': 'additive', 'strength': 1.0, 'first_value_only': True, 'threshold': 1, 'threshold_method': 'max'}, '3': {'rows': 1, 'lag': 84, 'method': 'multiplicative', 'strength': 0.7, 'first_value_only': False, 'threshold': None, 'threshold_method': 'max'}} with error IndexError('single positional indexer is out-of-bounds')\") in model 91 in generation 0: FBProphet\n",
            "Model Number: 92 with model SeasonalityMotif in generation 0 of 25\n",
            "Template Eval Error: IndexError('index -13 is out of bounds for axis 0 with size 11') in model 92 in generation 0: SeasonalityMotif\n",
            "Model Number: 93 with model GLS in generation 0 of 25\n"
          ]
        },
        {
          "output_type": "stream",
          "name": "stderr",
          "text": [
            "/usr/local/lib/python3.11/dist-packages/numpy/lib/function_base.py:2897: RuntimeWarning: invalid value encountered in divide\n",
            "  c /= stddev[:, None]\n",
            "/usr/local/lib/python3.11/dist-packages/numpy/lib/function_base.py:2898: RuntimeWarning: invalid value encountered in divide\n",
            "  c /= stddev[None, :]\n"
          ]
        },
        {
          "output_type": "stream",
          "name": "stdout",
          "text": [
            "Model Number: 94 with model GLM in generation 0 of 25\n",
            "Template Eval Error: ValueError('regression_type=user and no future_regressor passed') in model 94 in generation 0: GLM\n",
            "Model Number: 95 with model GLM in generation 0 of 25\n",
            "Model Number: 96 with model LastValueNaive in generation 0 of 25\n",
            "Model Number: 97 with model VAR in generation 0 of 25\n",
            "Template Eval Error: ValueError('Only gave one variable to VAR') in model 97 in generation 0: VAR\n",
            "Model Number: 98 with model ETS in generation 0 of 25\n",
            "Model Number: 99 with model Cassandra in generation 0 of 25\n"
          ]
        },
        {
          "output_type": "stream",
          "name": "stderr",
          "text": [
            "/usr/local/lib/python3.11/dist-packages/statsmodels/genmod/families/family.py:1367: ValueWarning: Negative binomial dispersion parameter alpha not set. Using default value alpha=1.0.\n",
            "  warnings.warn(\"Negative binomial dispersion parameter alpha not \"\n",
            "/usr/local/lib/python3.11/dist-packages/numpy/lib/function_base.py:2897: RuntimeWarning: invalid value encountered in divide\n",
            "  c /= stddev[:, None]\n",
            "/usr/local/lib/python3.11/dist-packages/numpy/lib/function_base.py:2898: RuntimeWarning: invalid value encountered in divide\n",
            "  c /= stddev[None, :]\n"
          ]
        },
        {
          "output_type": "stream",
          "name": "stdout",
          "text": [
            "Template Eval Error: TypeError('Cannot infer number of levels from empty list') in model 99 in generation 0: Cassandra\n",
            "Model Number: 100 with model SeasonalityMotif in generation 0 of 25\n",
            "Template Eval Error: IndexError('index -29 is out of bounds for axis 0 with size 11') in model 100 in generation 0: SeasonalityMotif\n",
            "Model Number: 101 with model SectionalMotif in generation 0 of 25\n",
            "Template Eval Error: ValueError('XA and XB must have the same number of columns (i.e. feature dimension.)') in model 101 in generation 0: SectionalMotif\n",
            "Model Number: 102 with model GLS in generation 0 of 25\n",
            "Model Number: 103 with model GLS in generation 0 of 25\n",
            "Template Eval Error: Exception('Transformer PCA failed on fit from params zero {\\'0\\': {\\'method\\': \\'clip\\', \\'std_threshold\\': 3, \\'fillna\\': None}, \\'1\\': {\\'model\\': \\'GLS\\', \\'phi\\': 1, \\'window\\': None, \\'transform_dict\\': None}, \\'2\\': {\\'whiten\\': True, \\'n_components\\': 10}, \\'3\\': {\\'rows\\': 1, \\'lag\\': 1, \\'method\\': \\'additive\\', \\'strength\\': 1.0, \\'first_value_only\\': False, \\'threshold\\': None, \\'threshold_method\\': \\'mean\\'}} with error ValueError(\"n_components=10 must be between 0 and min(n_samples, n_features)=1 with svd_solver=\\'covariance_eigh\\'\")') in model 103 in generation 0: GLS\n",
            "Model Number: 104 with model ARCH in generation 0 of 25\n",
            "Template Eval Error: ImportError('`arch` package must be installed from pip') in model 104 in generation 0: ARCH\n",
            "Model Number: 105 with model SeasonalityMotif in generation 0 of 25\n",
            "Template Eval Error: Exception(\"Transformer HolidayTransformer failed on fit from params cubic {'0': {}, '1': {'threshold': 0.9, 'splash_threshold': 0.65, 'use_dayofmonth_holidays': True, 'use_wkdom_holidays': False, 'use_wkdeom_holidays': False, 'use_lunar_holidays': False, 'use_lunar_weekday': False, 'use_islamic_holidays': False, 'use_hebrew_holidays': False, 'use_hindu_holidays': False, 'anomaly_detector_params': {'method': 'zscore', 'method_params': {'distribution': 'chi2', 'alpha': 0.05}, 'fillna': 'ffill', 'transform_dict': None, 'isolated_only': False, 'on_inverse': False}, 'remove_excess_anomalies': True, 'impact': 'datepart_regression', 'regression_params': {'regression_model': {'model': 'ElasticNet', 'model_params': {'l1_ratio': 0.5, 'fit_intercept': True, 'selection': 'cyclic', 'max_iter': 1000}}, 'datepart_method': 'common_fourier', 'polynomial_degree': None, 'transform_dict': {'fillna': None, 'transformations': {'0': 'ScipyFilter'}, 'transformation_params': {'0': {'method': 'savgol_filter', 'method_args': {'window_length': 31, 'polyorder': 3, 'deriv': 0, 'mode': 'interp'}}}}, 'holiday_countries_used': False, 'lags': None, 'forward_lags': None}}, '2': {}, '3': {'window_size': 364, 'alpha': 2.2, 'grouping_forward_limit': 4, 'max_level_shifts': 10, 'alignment': 'rolling_diff_5nn'}, '4': {'lag': 7, 'fill': 'bfill'}, '5': {}} with error Exception('Transformer ScipyFilter failed on fit')\") in model 105 in generation 0: SeasonalityMotif\n",
            "Model Number: 106 with model LastValueNaive in generation 0 of 25\n",
            "Model Number: 107 with model BasicLinearModel in generation 0 of 25\n",
            "Model Number: 108 with model LastValueNaive in generation 0 of 25\n"
          ]
        },
        {
          "output_type": "stream",
          "name": "stderr",
          "text": [
            "/usr/local/lib/python3.11/dist-packages/autots/models/basics.py:3595: RuntimeWarning: invalid value encountered in sqrt\n",
            "  self.sigma = np.sqrt(sse / (n - p))\n",
            "/usr/local/lib/python3.11/dist-packages/sklearn/linear_model/_coordinate_descent.py:695: ConvergenceWarning: Objective did not converge. You might want to increase the number of iterations, check the scale of the features or consider increasing regularisation. Duality gap: 2.265e-01, tolerance: 1.060e-03\n",
            "  model = cd_fast.enet_coordinate_descent(\n"
          ]
        },
        {
          "output_type": "stream",
          "name": "stdout",
          "text": [
            "Model Number: 109 with model AverageValueNaive in generation 0 of 25\n",
            "Template Eval Error: Exception(\"Transformer FFTDecomposition failed on fit from params fake_date {'0': {'theta_values': [0.6, 1.4]}, '1': {'method': 0.2}, '2': {}, '3': {'rows': None, 'displacement_rows': 1, 'quantile': 1.0, 'decay_span': None}, '4': {'n_harmonics': 10, 'detrend': 'quadratic'}, '5': {}} with error ValueError('Need at least 3 dates to infer frequency')\") in model 109 in generation 0: AverageValueNaive\n",
            "Model Number: 110 with model DatepartRegression in generation 0 of 25\n",
            "Model Number: 111 with model ETS in generation 0 of 25\n",
            "Template Eval Error: Exception(\"Transformer AlignLastValue failed on fit from params mean {'0': {'method': 'clip', 'std_threshold': 1, 'fillna': None}, '1': {'model': 'GLS', 'phi': 1, 'window': None, 'transform_dict': None}, '2': {'rows': 1, 'lag': 84, 'method': 'additive', 'strength': 1.0, 'first_value_only': False, 'threshold': 10, 'threshold_method': 'mean'}, '3': {'rows': 1, 'lag': 1, 'method': 'additive', 'strength': 1.0, 'first_value_only': False, 'threshold': 1, 'threshold_method': 'max'}} with error IndexError('single positional indexer is out-of-bounds')\") in model 111 in generation 0: ETS\n",
            "Model Number: 112 with model ARCH in generation 0 of 25\n",
            "Template Eval Error: ImportError('`arch` package must be installed from pip') in model 112 in generation 0: ARCH\n",
            "Model Number: 113 with model FFT in generation 0 of 25\n",
            "Model Number: 114 with model FBProphet in generation 0 of 25\n",
            "Model Number: 115 with model MetricMotif in generation 0 of 25\n",
            "Template Eval Error: ValueError('kth(=9) out of bounds (6)') in model 115 in generation 0: MetricMotif\n",
            "Model Number: 116 with model UnivariateMotif in generation 0 of 25\n",
            "Template Eval Error: ValueError('window shape cannot be larger than input array shape') in model 116 in generation 0: UnivariateMotif\n",
            "Model Number: 117 with model WindowRegression in generation 0 of 25\n",
            "Template Eval Error: ValueError(\"regression_type='User' but no future_regressor passed\") in model 117 in generation 0: WindowRegression\n",
            "Model Number: 118 with model UnivariateMotif in generation 0 of 25\n",
            "Template Eval Error: Exception(\"Transformer BKBandpassFilter failed on fit from params rolling_mean_24 {'0': {'rows': 1, 'lag': 2, 'method': 'multiplicative', 'strength': 0.5, 'first_value_only': False, 'threshold': 10, 'threshold_method': 'max'}, '1': {'span': 7}, '2': {'low': 12, 'high': 32, 'K': 12, 'lanczos_factor': False, 'return_diff': True, 'on_transform': True, 'on_inverse': False}, '3': {'decimals': 0, 'on_transform': True, 'on_inverse': True}, '4': {'sigma': 2, 'rolling_window': 90, 'run_order': 'trend_first', 'regression_params': {'regression_model': {'model': 'DecisionTree', 'model_params': {'max_depth': 3, 'min_samples_split': 0.05}}, 'datepart_method': 'common_fourier', 'polynomial_degree': None, 'transform_dict': {'fillna': None, 'transformations': {'0': 'bkfilter'}, 'transformation_params': {'0': {}}}, 'holiday_countries_used': False, 'lags': 3, 'forward_lags': None}, 'holiday_params': None, 'trend_method': 'rolling_mean'}, '5': {'method': None, 'method_params': None, 'transform_dict': None, 'reverse_alignment': True, 'isolated_only': False, 'fillna': 2.0}} with error ValueError('Shape of passed values is (15, 1), indices imply (2, 1)')\") in model 118 in generation 0: UnivariateMotif\n",
            "Model Number: 119 with model ETS in generation 0 of 25\n",
            "Model Number: 120 with model LastValueNaive in generation 0 of 25\n",
            "Template Eval Error: Exception(\"Transformer BKBandpassFilter failed on inverse from params fake_date {'0': {'low': 12, 'high': 32, 'K': 6, 'lanczos_factor': True, 'return_diff': True, 'on_transform': False, 'on_inverse': True}, '1': {'rows': 7, 'lag': 7, 'method': 'additive', 'strength': 1.0, 'first_value_only': True, 'threshold': 1, 'threshold_method': 'max'}} with ValueError('Shape of passed values is (10, 1), indices imply (3, 1)')\") in model 120 in generation 0: LastValueNaive\n",
            "Model Number: 121 with model Cassandra in generation 0 of 25\n",
            "Template Eval Error: ValueError('negative dimensions are not allowed') in model 121 in generation 0: Cassandra\n",
            "Model Number: 122 with model SectionalMotif in generation 0 of 25\n",
            "Template Eval Error: ValueError('kth(=15) out of bounds (3)') in model 122 in generation 0: SectionalMotif\n",
            "Model Number: 123 with model DatepartRegression in generation 0 of 25\n",
            "Template Eval Error: ValueError(\"regression_type='User' but no future_regressor passed\") in model 123 in generation 0: DatepartRegression\n",
            "Model Number: 124 with model GLM in generation 0 of 25\n",
            "Model Number: 125 with model LastValueNaive in generation 0 of 25\n",
            "Template Eval Error: Exception(\"Transformer AlignLastValue failed on fit from params quadratic {'0': {'window': None}, '1': {'rows': 1, 'lag': 84, 'method': 'additive', 'strength': 1.0, 'first_value_only': False, 'threshold': 1, 'threshold_method': 'max'}, '2': {'window': 28}, '3': {'window': None}} with error IndexError('single positional indexer is out-of-bounds')\") in model 125 in generation 0: LastValueNaive\n",
            "Model Number: 126 with model MetricMotif in generation 0 of 25\n",
            "Template Eval Error: ValueError('window shape cannot be larger than input array shape') in model 126 in generation 0: MetricMotif\n",
            "Model Number: 127 with model FFT in generation 0 of 25\n",
            "Model Number: 128 with model MetricMotif in generation 0 of 25\n",
            "Template Eval Error: ValueError('kth(=14) out of bounds (3)') in model 128 in generation 0: MetricMotif\n",
            "Model Number: 129 with model ETS in generation 0 of 25\n",
            "Model Number: 130 with model SeasonalityMotif in generation 0 of 25\n",
            "Template Eval Error: ValueError('kth(=14) out of bounds (11)') in model 130 in generation 0: SeasonalityMotif\n",
            "Model Number: 131 with model LastValueNaive in generation 0 of 25\n",
            "Model Number: 132 with model SectionalMotif in generation 0 of 25\n",
            "Template Eval Error: ValueError('XA and XB must have the same number of columns (i.e. feature dimension.)') in model 132 in generation 0: SectionalMotif\n",
            "Model Number: 133 with model ARDL in generation 0 of 25\n",
            "Template Eval Error: ValueError(\"regression_type='User' but future_regressor not supplied\") in model 133 in generation 0: ARDL\n",
            "Model Number: 134 with model FFT in generation 0 of 25\n",
            "Model Number: 135 with model SectionalMotif in generation 0 of 25\n",
            "Template Eval Error: Exception(\"Transformer Detrend failed on fit from params time {'0': {'method': 'clip', 'std_threshold': 4, 'fillna': None}, '1': {'model': 'Linear', 'phi': 1, 'window': None, 'transform_dict': {'fillna': None, 'transformations': {'0': 'AnomalyRemoval'}, 'transformation_params': {'0': {'method': 'zscore', 'transform_dict': {'transformations': {'0': 'DatepartRegression'}, 'transformation_params': {'0': {'datepart_method': 'simple_3', 'regression_model': {'model': 'ElasticNet', 'model_params': {}}}}}, 'method_params': {'distribution': 'uniform', 'alpha': 0.05}}}}}, '2': {'lag': 7, 'fill': 'bfill'}} with error ValueError('Input y contains NaN.')\") in model 135 in generation 0: SectionalMotif\n",
            "Model Number: 136 with model WindowRegression in generation 0 of 25\n",
            "Template Eval Error: Exception(\"Transformer AlignLastValue failed on fit from params zero {'0': {'rows': 28}, '1': {'rows': 1, 'lag': 84, 'method': 'additive', 'strength': 1.0, 'first_value_only': False, 'threshold': 3, 'threshold_method': 'mean'}} with error IndexError('single positional indexer is out-of-bounds')\") in model 136 in generation 0: WindowRegression\n",
            "Model Number: 137 with model ARDL in generation 0 of 25\n",
            "Model Number: 138 with model GLS in generation 0 of 25\n",
            "Model Number: 139 with model ARDL in generation 0 of 25\n",
            "Model Number: 140 with model RRVAR in generation 0 of 25\n",
            "Model Number: 141 with model SeasonalityMotif in generation 0 of 25\n",
            "Template Eval Error: ValueError('kth(=9) out of bounds (3)') in model 141 in generation 0: SeasonalityMotif\n",
            "Model Number: 142 with model MetricMotif in generation 0 of 25\n",
            "Template Eval Error: ValueError('kth(=9) out of bounds (1)') in model 142 in generation 0: MetricMotif\n",
            "Model Number: 143 with model ETS in generation 0 of 25\n",
            "Model Number: 144 with model ConstantNaive in generation 0 of 25\n",
            "Model Number: 145 with model UnivariateMotif in generation 0 of 25\n",
            "Template Eval Error: ValueError('window shape cannot be larger than input array shape') in model 145 in generation 0: UnivariateMotif\n",
            "Model Number: 146 with model ETS in generation 0 of 25\n",
            "Model Number: 147 with model FFT in generation 0 of 25\n",
            "Model Number: 148 with model ARCH in generation 0 of 25\n",
            "Template Eval Error: ImportError('`arch` package must be installed from pip') in model 148 in generation 0: ARCH\n",
            "Model Number: 149 with model GLM in generation 0 of 25\n",
            "Template Eval Error: ValueError('The first guess on the deviance function returned a nan.  This could be a boundary  problem and should be reported.') in model 149 in generation 0: GLM\n",
            "Model Number: 150 with model ARCH in generation 0 of 25\n",
            "Template Eval Error: ImportError('`arch` package must be installed from pip') in model 150 in generation 0: ARCH\n",
            "Model Number: 151 with model ConstantNaive in generation 0 of 25\n",
            "Model Number: 152 with model FFT in generation 0 of 25\n",
            "Model Number: 153 with model LastValueNaive in generation 0 of 25\n"
          ]
        },
        {
          "output_type": "stream",
          "name": "stderr",
          "text": [
            "/usr/local/lib/python3.11/dist-packages/statsmodels/genmod/families/family.py:1650: RuntimeWarning: invalid value encountered in log\n",
            "  endog * np.log(endog / mu) + (mu - endog))\n"
          ]
        },
        {
          "output_type": "stream",
          "name": "stdout",
          "text": [
            "Model Number: 154 with model ConstantNaive in generation 0 of 25\n",
            "Template Eval Error: Exception(\"Transformer AlignLastValue failed on fit from params rolling_mean_24 {'0': {'rows': 1, 'lag': 84, 'method': 'additive', 'strength': 1.0, 'first_value_only': False, 'threshold': 1, 'threshold_method': 'mean'}, '1': {}} with error IndexError('single positional indexer is out-of-bounds')\") in model 154 in generation 0: ConstantNaive\n",
            "Model Number: 155 with model MetricMotif in generation 0 of 25\n",
            "Template Eval Error: ValueError('kth(=14) out of bounds (1)') in model 155 in generation 0: MetricMotif\n",
            "New Generation: 1 of 25\n",
            "Model Number: 156 with model ETS in generation 1 of 25\n",
            "Model Number: 157 with model FFT in generation 1 of 25\n",
            "Model Number: 158 with model LastValueNaive in generation 1 of 25\n",
            "Template Eval Error: ValueError(\"Model returned NaN due to a preprocessing transformer {'fillna': 'median', 'transformations': {'0': 'AlignLastValue', '1': 'RobustScaler', '2': 'MaxAbsScaler', '3': 'AlignLastValue'}, 'transformation_params': {'0': {'rows': 84, 'lag': 28, 'method': 'additive', 'strength': 1.0, 'first_value_only': False, 'threshold': None, 'threshold_method': 'mean'}, '1': {}, '2': {}, '3': {'rows': 1, 'lag': 1, 'method': 'multiplicative', 'strength': 1.0, 'first_value_only': False, 'threshold': None, 'threshold_method': 'mean'}}}. fail_on_forecast_nan=True\") in model 158 in generation 1: LastValueNaive\n",
            "Model Number: 159 with model ConstantNaive in generation 1 of 25\n",
            "Model Number: 160 with model LastValueNaive in generation 1 of 25\n",
            "Model Number: 161 with model BasicLinearModel in generation 1 of 25\n",
            "Model Number: 162 with model DatepartRegression in generation 1 of 25\n"
          ]
        },
        {
          "output_type": "stream",
          "name": "stderr",
          "text": [
            "/usr/local/lib/python3.11/dist-packages/autots/models/basics.py:3595: RuntimeWarning: invalid value encountered in sqrt\n",
            "  self.sigma = np.sqrt(sse / (n - p))\n"
          ]
        },
        {
          "output_type": "stream",
          "name": "stdout",
          "text": [
            "Model Number: 163 with model DatepartRegression in generation 1 of 25\n",
            "Template Eval Error: Exception(\"Transformer SeasonalDifference failed on fit from params ffill {'0': {'lag_1': 60, 'method': 5}, '1': {'lag': 1, 'fill': 'zero'}, '2': {'method': 'IQR', 'method_params': {'iqr_threshold': 2.0, 'iqr_quantiles': [0.4, 0.6]}, 'fillna': 'ffill', 'transform_dict': None, 'isolated_only': False, 'on_inverse': False}, '3': {'rows': 1, 'lag': 7, 'method': 'additive', 'strength': 0.5, 'first_value_only': False, 'threshold': 1, 'threshold_method': 'mean'}} with error ValueError('cannot reshape array of size 11 into shape (0,60,newaxis)')\") in model 163 in generation 1: DatepartRegression\n",
            "Model Number: 164 with model ARDL in generation 1 of 25\n",
            "Template Eval Error: ValueError(\"ARDL series followers_gained failed with error ValueError('The number of regressors (55) including deterministics, lags of the endog, lags of the exogenous, and fixed regressors is larger than the sample available for estimation (10).') exog train             seasonalitycommonfourier_0  seasonalitycommonfourier_1  \\\\\\nperiod_end                                                           \\n2020-05-31                   -0.851148                    0.448906   \\n2020-06-30                   -0.999332                    0.997329   \\n2020-07-31                   -0.879150                    0.545811   \\n2020-08-31                   -0.514823                   -0.469915   \\n2020-09-30                   -0.024726                   -0.998777   \\n2020-10-31                    0.486908                   -0.525841   \\n2020-11-30                    0.854517                    0.460397   \\n2020-12-31                    0.999917                    0.999667   \\n2021-01-31                    0.867634                    0.505576   \\n2021-02-28                    0.538584                   -0.419855   \\n2021-03-31                    0.035473                   -0.997483   \\n\\n            seasonalitycommonfourier_2  seasonalitycommonfourier_3  \\\\\\nperiod_end                                                           \\n2020-05-31                    0.086977                    0.524926   \\n2020-06-30                   -0.993993                    0.036547   \\n2020-07-31                   -0.080549                   -0.476544   \\n2020-08-31                    0.998669                   -0.857296   \\n2020-09-30                    0.074117                   -0.999694   \\n2020-10-31                   -0.998981                   -0.873453   \\n2020-11-30                   -0.067683                   -0.519424   \\n2020-12-31                    0.999251                   -0.012901   \\n2021-01-31                    0.009676                    0.497204   \\n2021-02-28                   -0.990838                    0.842572   \\n2021-03-31                   -0.106239                    0.999371   \\n\\n            seasonalitycommonfourier_4  seasonalitycommonfourier_5  \\\\\\nperiod_end                                                           \\n2020-05-31                   -0.893579                    0.996210   \\n2020-06-30                   -0.073045                    0.109446   \\n2020-07-31                    0.837909                   -0.996751   \\n2020-08-31                    0.882712                   -0.051584   \\n2020-09-30                    0.049437                    0.997250   \\n2020-10-31                   -0.850583                    0.045141   \\n2020-11-30                   -0.887713                   -0.997707   \\n2020-12-31                   -0.025801                   -0.038696   \\n2021-01-31                    0.862782                    0.999953   \\n2021-02-28                    0.907591                    0.135055   \\n2021-03-31                    0.070900                   -0.994341   \\n\\n            seasonalitycommonfourier_6  seasonalitycommonfourier_7  \\\\\\nperiod_end                                                           \\n2020-05-31                   -0.797750                    0.272811   \\n2020-06-30                   -0.713539                    0.018277   \\n2020-07-31                   -0.614079                   -0.245815   \\n2020-08-31                   -0.503720                   -0.492533   \\n2020-09-30                   -0.388388                   -0.698310   \\n2020-10-31                   -0.262452                   -0.862238   \\n2020-11-30                   -0.136120                   -0.962943   \\n2020-12-31                   -0.003225                   -0.999979   \\n2021-01-31                    0.129727                   -0.966342   \\n2021-02-28                    0.247898                   -0.877093   \\n2021-03-31                    0.374474                   -0.719539   \\n\\n            seasonalitycommonfourier_8  seasonalitycommonfourier_9  ...  \\\\\\nperiod_end                                                          ...   \\n2020-05-31                    0.362480                   -0.851148  ...   \\n2020-06-30                    0.687457                   -0.999332  ...   \\n2020-07-31                    0.915978                   -0.879150  ...   \\n2020-08-31                    0.999917                   -0.514823  ...   \\n2020-09-30                    0.930818                   -0.024726  ...   \\n2020-10-31                    0.715044                    0.486908  ...   \\n2020-11-30                    0.398272                    0.854517  ...   \\n2020-12-31                    0.009676                    0.999917  ...   \\n2021-01-31                   -0.380447                    0.867634  ...   \\n2021-02-28                   -0.682758                    0.538584  ...   \\n2021-03-31                   -0.913370                    0.035473  ...   \\n\\n            seasonalitycommonfourier_16  seasonalitycommonfourier_17  \\\\\\nperiod_end                                                             \\n2020-05-31                    -0.602988                     0.962068   \\n2020-06-30                    -0.700615                     0.999833   \\n2020-07-31                    -0.789245                     0.969317   \\n2020-08-31                    -0.863867                     0.870294   \\n2020-09-30                    -0.921496                     0.715795   \\n2020-10-31                    -0.964945                     0.506504   \\n2020-11-30                    -0.990692                     0.269707   \\n2020-12-31                    -0.999995                     0.006451   \\n2021-01-31                    -0.991550                    -0.257261   \\n2021-02-28                    -0.968786                    -0.480321   \\n2021-03-31                    -0.927238                    -0.694452   \\n\\n            seasonalitycommonfourier_18  seasonalitycommonfourier_19  \\\\\\nperiod_end                                                             \\n2020-05-31                    -0.931992                     0.524926   \\n2020-06-30                    -0.726225                     0.036547   \\n2020-07-31                    -0.401229                    -0.476544   \\n2020-08-31                    -0.012901                    -0.857296   \\n2020-09-30                     0.365484                    -0.999694   \\n2020-10-31                     0.699079                    -0.873453   \\n2020-11-30                     0.917267                    -0.519424   \\n2020-12-31                     0.999953                    -0.012901   \\n2021-01-31                     0.924803                     0.497204   \\n2021-02-28                     0.730644                     0.842572   \\n2021-03-31                     0.407129                     0.999371   \\n\\n            seasonalitycommonfourier_20  seasonalitycommonfourier_21  \\\\\\nperiod_end                                                             \\n2020-05-31                     0.094472                    -0.675656   \\n2020-06-30                     0.674069                    -0.998497   \\n2020-07-31                     0.986501                    -0.735034   \\n2020-08-31                     0.876576                    -0.025801   \\n2020-09-30                     0.411054                     0.680398   \\n2020-10-31                    -0.240600                     0.999745   \\n2020-11-30                    -0.775859                     0.730644   \\n2020-12-31                    -0.999870                     0.019352   \\n2021-01-31                    -0.795801                    -0.703677   \\n2021-02-28                    -0.312900                    -0.997707   \\n2021-03-31                     0.341347                    -0.743720   \\n\\n            seasonalitycommonfourier_22  seasonalitycommonfourier_23  \\\\\\nperiod_end                                                             \\n2020-05-31                     0.983538                    -0.893579   \\n2020-06-30                     0.750864                    -0.073045   \\n2020-07-31                    -0.083764                     0.837909   \\n2020-08-31                    -0.850583                     0.882712   \\n2020-09-30                    -0.939570                     0.049437   \\n2020-10-31                    -0.284170                    -0.850583   \\n2020-11-30                     0.576948                    -0.887713   \\n2020-12-31                     0.999745                    -0.025801   \\n2021-01-31                     0.613230                     0.862782   \\n2021-02-28                    -0.181760                     0.907591   \\n2021-03-31                    -0.898354                     0.070900   \\n\\n            seasonalitycommonfourier_24  seasonalitycommonfourier_25  \\nperiod_end                                                            \\n2020-05-31                     0.442168                     0.188099  \\n2020-06-30                    -0.646623                     0.995827  \\n2020-07-31                    -0.945320                     0.323093  \\n2020-08-31                    -0.038696                    -0.843728  \\n2020-09-30                     0.901169                    -0.749442  \\n2020-10-31                     0.730644                     0.467065  \\n2020-11-30                    -0.335276                     0.978989  \\n2020-12-31                    -0.999579                     0.032249  \\n2021-01-31                    -0.389378                    -0.963807  \\n2021-02-28                     0.631740                    -0.594376  \\n2021-03-31                     0.951454                     0.641689  \\n\\n[11 rows x 26 columns] and predict             seasonalitycommonfourier_0  seasonalitycommonfourier_1  \\\\\\n2021-04-30                   -0.462305                   -0.572548   \\n2021-05-31                   -0.848883                    0.441204   \\n2021-06-30                   -0.999166                    0.996663   \\n2021-07-31                   -0.881192                    0.552997   \\n\\n            seasonalitycommonfourier_2  seasonalitycommonfourier_3  \\\\\\n2021-04-30                    0.991689                    0.886721   \\n2021-05-31                    0.099823                    0.528581   \\n2021-06-30                   -0.992498                    0.040844   \\n2021-07-31                   -0.093402                   -0.472759   \\n\\n            seasonalitycommonfourier_4  seasonalitycommonfourier_5  \\\\\\n2021-04-30                   -0.819871                   -0.128661   \\n2021-05-31                   -0.897407                    0.995005   \\n2021-06-30                   -0.081621                    0.122261   \\n2021-07-31                    0.833183                   -0.995628   \\n\\n            seasonalitycommonfourier_6  seasonalitycommonfourier_7  \\\\\\n2021-04-30                    0.490660                   -0.518505   \\n2021-05-31                    0.602130                   -0.274879   \\n2021-06-30                    0.699848                   -0.020426   \\n2021-07-31                    0.788584                    0.243730   \\n\\n            seasonalitycommonfourier_8  seasonalitycommonfourier_9  ...  \\\\\\n2021-04-30                   -0.999480                   -0.462305  ...   \\n2021-05-31                   -0.933156                   -0.848883  ...   \\n2021-06-30                   -0.728438                   -0.999166  ...   \\n2021-07-31                   -0.404181                   -0.881192  ...   \\n\\n            seasonalitycommonfourier_16  seasonalitycommonfourier_17  \\\\\\n2021-04-30                    -0.871351                    -0.855075   \\n2021-05-31                    -0.798398                    -0.961479   \\n2021-06-30                    -0.714292                    -0.999791   \\n2021-07-31                    -0.614927                    -0.969843   \\n\\n            seasonalitycommonfourier_18  seasonalitycommonfourier_19  \\\\\\n2021-04-30                     0.032249                     0.886721   \\n2021-05-31                    -0.359472                     0.528581   \\n2021-06-30                    -0.685111                     0.040844   \\n2021-07-31                    -0.914679                    -0.472759   \\n\\n            seasonalitycommonfourier_20  seasonalitycommonfourier_21  \\\\\\n2021-04-30                     0.837909                    -0.064464   \\n2021-05-31                     0.996021                     0.670887   \\n2021-06-30                     0.742281                     0.998123   \\n2021-07-31                     0.169058                     0.739392   \\n\\n            seasonalitycommonfourier_22  seasonalitycommonfourier_23  \\\\\\n2021-04-30                    -0.901169                    -0.819871   \\n2021-05-31                    -0.188099                    -0.897407   \\n2021-06-30                     0.654787                    -0.081621   \\n2021-07-31                     0.997088                     0.833183   \\n\\n            seasonalitycommonfourier_24  seasonalitycommonfourier_25  \\n2021-04-30                     0.096613                     0.914679  \\n2021-05-31                    -0.892612                    -0.177529  \\n2021-06-30                    -0.769031                    -0.994788  \\n2021-07-31                     0.316982                    -0.333249  \\n\\n[4 rows x 26 columns]\") in model 164 in generation 1: ARDL\n",
            "Model Number: 165 with model SeasonalityMotif in generation 1 of 25\n",
            "Model Number: 166 with model DatepartRegression in generation 1 of 25\n",
            "Model Number: 167 with model SeasonalNaive in generation 1 of 25\n",
            "Model Number: 168 with model SeasonalNaive in generation 1 of 25\n",
            "Model Number: 169 with model RRVAR in generation 1 of 25\n",
            "Model Number: 170 with model AverageValueNaive in generation 1 of 25\n",
            "Model Number: 171 with model SeasonalityMotif in generation 1 of 25\n",
            "Template Eval Error: ValueError('window shape cannot be larger than input array shape') in model 171 in generation 1: SeasonalityMotif\n",
            "Model Number: 172 with model LastValueNaive in generation 1 of 25\n",
            "Model Number: 173 with model Cassandra in generation 1 of 25\n",
            "Template Eval Error: Exception(\"Transformer Detrend failed on fit from params zero {'0': {'method': 'remove', 'std_threshold': 2, 'fillna': 'ffill'}, '1': {'model': 'Tweedie', 'phi': 1, 'window': None, 'transform_dict': {'fillna': None, 'transformations': {'0': 'ScipyFilter'}, 'transformation_params': {'0': {'method': 'savgol_filter', 'method_args': {'window_length': 31, 'polyorder': 3, 'deriv': 0, 'mode': 'interp'}}}}}} with error Exception('Transformer ScipyFilter failed on fit')\") in model 173 in generation 1: Cassandra\n",
            "Model Number: 174 with model ARDL in generation 1 of 25\n",
            "Model Number: 175 with model ETS in generation 1 of 25\n",
            "Model Number: 176 with model ETS in generation 1 of 25\n",
            "Model Number: 177 with model ConstantNaive in generation 1 of 25\n",
            "Model Number: 178 with model AverageValueNaive in generation 1 of 25\n",
            "Model Number: 179 with model AverageValueNaive in generation 1 of 25\n",
            "Model Number: 180 with model BasicLinearModel in generation 1 of 25\n",
            "Model Number: 181 with model FBProphet in generation 1 of 25\n"
          ]
        },
        {
          "output_type": "stream",
          "name": "stderr",
          "text": [
            "/usr/local/lib/python3.11/dist-packages/autots/models/basics.py:3595: RuntimeWarning: invalid value encountered in sqrt\n",
            "  self.sigma = np.sqrt(sse / (n - p))\n"
          ]
        },
        {
          "output_type": "stream",
          "name": "stdout",
          "text": [
            "Model Number: 182 with model GLM in generation 1 of 25\n",
            "Model Number: 183 with model DatepartRegression in generation 1 of 25\n"
          ]
        },
        {
          "output_type": "stream",
          "name": "stderr",
          "text": [
            "/usr/local/lib/python3.11/dist-packages/statsmodels/genmod/families/links.py:198: RuntimeWarning: overflow encountered in exp\n",
            "  t = np.exp(-z)\n"
          ]
        },
        {
          "output_type": "stream",
          "name": "stdout",
          "text": [
            "Model Number: 184 with model GLM in generation 1 of 25\n",
            "Model Number: 185 with model ETS in generation 1 of 25\n",
            "Model Number: 186 with model ETS in generation 1 of 25\n",
            "Model Number: 187 with model LastValueNaive in generation 1 of 25\n",
            "Model Number: 188 with model LastValueNaive in generation 1 of 25\n",
            "Model Number: 189 with model GLM in generation 1 of 25\n"
          ]
        },
        {
          "output_type": "stream",
          "name": "stderr",
          "text": [
            "/usr/local/lib/python3.11/dist-packages/statsmodels/genmod/families/links.py:198: RuntimeWarning: overflow encountered in exp\n",
            "  t = np.exp(-z)\n"
          ]
        },
        {
          "output_type": "stream",
          "name": "stdout",
          "text": [
            "Model Number: 190 with model RRVAR in generation 1 of 25\n",
            "Template Eval Error: Exception(\"Transformer AlignLastValue failed on fit from params ffill {'0': {'method': 0.3}, '1': {'model': 'Linear', 'phi': 1, 'window': None, 'transform_dict': None}, '2': {'method': 'IQR', 'method_params': {'iqr_threshold': 2.0, 'iqr_quantiles': [0.4, 0.6]}, 'fillna': 'ffill', 'transform_dict': None, 'isolated_only': False, 'on_inverse': False}, '3': {'rows': 1, 'lag': 7, 'method': 'additive', 'strength': 0.5, 'first_value_only': False, 'threshold': 1, 'threshold_method': 'mean'}} with error IndexError('single positional indexer is out-of-bounds')\") in model 190 in generation 1: RRVAR\n",
            "Model Number: 191 with model SeasonalNaive in generation 1 of 25\n",
            "Model Number: 192 with model ETS in generation 1 of 25\n",
            "Model Number: 193 with model AverageValueNaive in generation 1 of 25\n",
            "Template Eval Error: Exception(\"Transformer LocalLinearTrend failed on fit from params ffill {'0': {'rolling_window': 0.05, 'n_tails': 0.1, 'n_future': 0.2, 'method': 'median', 'macro_micro': True}, '1': {'rows': 1, 'lag': 1, 'method': 'additive', 'strength': 1.0, 'first_value_only': False, 'threshold': 10, 'threshold_method': 'max'}, '2': {'rows': 1, 'lag': 1, 'method': 'multiplicative', 'strength': 0.5, 'first_value_only': True, 'threshold': None, 'threshold_method': 'mean'}, '3': {}, '4': {'rows': 1, 'lag': 1, 'method': 'multiplicative', 'strength': 1.0, 'first_value_only': False, 'threshold': 10, 'threshold_method': 'mean'}} with error ValueError('negative dimensions are not allowed')\") in model 193 in generation 1: AverageValueNaive\n",
            "Model Number: 194 with model FFT in generation 1 of 25\n"
          ]
        },
        {
          "output_type": "stream",
          "name": "stderr",
          "text": [
            "/usr/local/lib/python3.11/dist-packages/statsmodels/genmod/families/links.py:198: RuntimeWarning: overflow encountered in exp\n",
            "  t = np.exp(-z)\n"
          ]
        },
        {
          "output_type": "stream",
          "name": "stdout",
          "text": [
            "Model Number: 195 with model GLS in generation 1 of 25\n",
            "Model Number: 196 with model ETS in generation 1 of 25\n",
            "Model Number: 197 with model Cassandra in generation 1 of 25\n",
            "Model Number: 198 with model FFT in generation 1 of 25\n",
            "Model Number: 199 with model AverageValueNaive in generation 1 of 25\n"
          ]
        },
        {
          "output_type": "stream",
          "name": "stderr",
          "text": [
            "/usr/local/lib/python3.11/dist-packages/numpy/lib/function_base.py:2897: RuntimeWarning: invalid value encountered in divide\n",
            "  c /= stddev[:, None]\n",
            "/usr/local/lib/python3.11/dist-packages/numpy/lib/function_base.py:2898: RuntimeWarning: invalid value encountered in divide\n",
            "  c /= stddev[None, :]\n"
          ]
        },
        {
          "output_type": "stream",
          "name": "stdout",
          "text": [
            "Model Number: 200 with model SeasonalityMotif in generation 1 of 25\n",
            "Model Number: 201 with model ARDL in generation 1 of 25\n",
            "Model Number: 202 with model SeasonalNaive in generation 1 of 25\n",
            "Model Number: 203 with model BasicLinearModel in generation 1 of 25\n",
            "Template Eval Error: Exception(\"Transformer Cointegration failed on fit from params rolling_mean_24 {'0': {'method': 'clip', 'std_threshold': 4.5, 'fillna': None}, '1': {'model': 'Linear', 'phi': 1, 'window': None, 'transform_dict': None}, '2': {'rows': 1, 'lag': 1, 'method': 'additive', 'strength': 1.0, 'first_value_only': False, 'threshold': None, 'threshold_method': 'mean'}, '3': {'rows': 1, 'lag': 1, 'method': 'additive', 'strength': 1.0, 'first_value_only': False, 'threshold': 10, 'threshold_method': 'mean'}, '4': {'det_order': 0, 'k_ar_diff': 0}} with error ValueError('Coint only works on multivarate series')\") in model 203 in generation 1: BasicLinearModel\n",
            "Model Number: 204 with model BasicLinearModel in generation 1 of 25\n",
            "Model Number: 205 with model DatepartRegression in generation 1 of 25\n",
            "Template Eval Error: Exception(\"Transformer BKBandpassFilter failed on fit from params mean {'0': {'decimals': 0, 'on_transform': True, 'on_inverse': True}, '1': {'low': 6, 'high': 32, 'K': 25, 'lanczos_factor': False, 'return_diff': True, 'on_transform': True, 'on_inverse': False}, '2': {}} with error ValueError('Shape of passed values is (41, 1), indices imply (11, 1)')\") in model 205 in generation 1: DatepartRegression\n",
            "Model Number: 206 with model FFT in generation 1 of 25\n",
            "Model Number: 207 with model GLM in generation 1 of 25\n",
            "Template Eval Error: ValueError('The first guess on the deviance function returned a nan.  This could be a boundary  problem and should be reported.') in model 207 in generation 1: GLM\n",
            "Model Number: 208 with model ARDL in generation 1 of 25\n"
          ]
        },
        {
          "output_type": "stream",
          "name": "stderr",
          "text": [
            "/usr/local/lib/python3.11/dist-packages/autots/models/basics.py:3595: RuntimeWarning: invalid value encountered in sqrt\n",
            "  self.sigma = np.sqrt(sse / (n - p))\n",
            "/usr/local/lib/python3.11/dist-packages/statsmodels/genmod/families/family.py:1367: ValueWarning: Negative binomial dispersion parameter alpha not set. Using default value alpha=1.0.\n",
            "  warnings.warn(\"Negative binomial dispersion parameter alpha not \"\n",
            "/usr/local/lib/python3.11/dist-packages/statsmodels/genmod/families/family.py:1406: RuntimeWarning: invalid value encountered in log\n",
            "  resid_dev -= endog_alpha * np.log(endog_alpha / mu_alpha)\n"
          ]
        },
        {
          "output_type": "stream",
          "name": "stdout",
          "text": [
            "Model Number: 209 with model FBProphet in generation 1 of 25\n",
            "Model Number: 210 with model FFT in generation 1 of 25\n",
            "Model Number: 211 with model SeasonalityMotif in generation 1 of 25\n",
            "Template Eval Error: ValueError('window shape cannot be larger than input array shape') in model 211 in generation 1: SeasonalityMotif\n",
            "Model Number: 212 with model GLS in generation 1 of 25\n",
            "Model Number: 213 with model FBProphet in generation 1 of 25\n",
            "No anomalies detected.\n",
            "Model Number: 214 with model FBProphet in generation 1 of 25\n",
            "Model Number: 215 with model FBProphet in generation 1 of 25\n",
            "Model Number: 216 with model FFT in generation 1 of 25\n",
            "Model Number: 217 with model DatepartRegression in generation 1 of 25\n",
            "Model Number: 218 with model AverageValueNaive in generation 1 of 25\n",
            "Model Number: 219 with model FFT in generation 1 of 25\n",
            "Template Eval Error: ValueError(\"Model returned NaN due to a preprocessing transformer {'fillna': 'time', 'transformations': {'0': 'Slice', '1': 'MaxAbsScaler', '2': 'PowerTransformer', '3': 'bkfilter'}, 'transformation_params': {'0': {'method': 100}, '1': {}, '2': {}, '3': {}}}. fail_on_forecast_nan=True\") in model 219 in generation 1: FFT\n",
            "Model Number: 220 with model ConstantNaive in generation 1 of 25\n",
            "Model Number: 221 with model FFT in generation 1 of 25\n",
            "Model Number: 222 with model LastValueNaive in generation 1 of 25\n"
          ]
        },
        {
          "output_type": "stream",
          "name": "stderr",
          "text": [
            "/usr/local/lib/python3.11/dist-packages/sklearn/linear_model/_coordinate_descent.py:695: ConvergenceWarning: Objective did not converge. You might want to increase the number of iterations, check the scale of the features or consider increasing regularisation. Duality gap: 4.978e+02, tolerance: 9.057e-01\n",
            "  model = cd_fast.enet_coordinate_descent(\n"
          ]
        },
        {
          "output_type": "stream",
          "name": "stdout",
          "text": [
            "Model Number: 223 with model ARDL in generation 1 of 25\n",
            "Model Number: 224 with model RRVAR in generation 1 of 25\n",
            "Model Number: 225 with model DatepartRegression in generation 1 of 25\n"
          ]
        },
        {
          "output_type": "stream",
          "name": "stderr",
          "text": [
            "/usr/local/lib/python3.11/dist-packages/sklearn/decomposition/_fastica.py:592: UserWarning: Ignoring n_components with whiten=False.\n",
            "  warnings.warn(\"Ignoring n_components with whiten=False.\")\n"
          ]
        },
        {
          "output_type": "stream",
          "name": "stdout",
          "text": [
            "Model Number: 226 with model AverageValueNaive in generation 1 of 25\n",
            "Model Number: 227 with model ARDL in generation 1 of 25\n",
            "Template Eval Error: Exception('Transformer PCA failed on fit from params mean {\\'0\\': {\\'whiten\\': False, \\'n_components\\': 100}, \\'1\\': {\\'model_name\\': \\'local linear hidden state with seasonal 7\\', \\'state_transition\\': [[1.0, 0.0, 0.0, 0.0, 0.0, 0.0, 0.0, 0.0], [0.0, -1.0, -1.0, -1.0, -1.0, -1.0, -1.0, 0.0], [0.0, 1.0, 0.0, 0.0, 0.0, 0.0, 0.0, 0.0], [0.0, 0.0, 1.0, 0.0, 0.0, 0.0, 0.0, 0.0], [0.0, 0.0, 0.0, 1.0, 0.0, 0.0, 0.0, 0.0], [0.0, 0.0, 0.0, 0.0, 1.0, 0.0, 0.0, 0.0], [0.0, 0.0, 0.0, 0.0, 0.0, 1.0, 0.0, 0.0], [0.0, 0.0, 0.0, 0.0, 0.0, 0.0, 1.0, 0.0]], \\'process_noise\\': [[0.0016, 0.0, 0.0, 0.0, 0.0, 0.0, 0.0, 0.0], [0.0, 1e-06, 0.0, 0.0, 0.0, 0.0, 0.0, 0.0], [0.0, 0.0, 0.0, 0.0, 0.0, 0.0, 0.0, 0.0], [0.0, 0.0, 0.0, 0.0, 0.0, 0.0, 0.0, 0.0], [0.0, 0.0, 0.0, 0.0, 0.0, 0.0, 0.0, 0.0], [0.0, 0.0, 0.0, 0.0, 0.0, 0.0, 0.0, 0.0], [0.0, 0.0, 0.0, 0.0, 0.0, 0.0, 0.0, 0.0], [0.0, 0.0, 0.0, 0.0, 0.0, 0.0, 0.0, 0.0]], \\'observation_model\\': [[1, 1, 0, 0, 0, 0, 0, 0]], \\'observation_noise\\': 0.02, \\'em_iter\\': 10, \\'on_transform\\': False, \\'on_inverse\\': True}, \\'2\\': {\\'rows\\': 1, \\'lag\\': 1, \\'method\\': \\'additive\\', \\'strength\\': 1.0, \\'first_value_only\\': False, \\'threshold\\': 10, \\'threshold_method\\': \\'max\\'}, \\'3\\': {\\'fixed\\': True, \\'window\\': 24, \\'macro_micro\\': False, \\'center\\': True}} with error ValueError(\"n_components=100 must be between 0 and min(n_samples, n_features)=1 with svd_solver=\\'covariance_eigh\\'\")') in model 227 in generation 1: ARDL\n",
            "Model Number: 228 with model BasicLinearModel in generation 1 of 25\n",
            "Model Number: 229 with model SeasonalNaive in generation 1 of 25\n",
            "Model Number: 230 with model ETS in generation 1 of 25\n",
            "Model Number: 231 with model ETS in generation 1 of 25\n",
            "Model Number: 232 with model GLS in generation 1 of 25\n"
          ]
        },
        {
          "output_type": "stream",
          "name": "stderr",
          "text": [
            "/usr/local/lib/python3.11/dist-packages/autots/models/basics.py:3595: RuntimeWarning: invalid value encountered in sqrt\n",
            "  self.sigma = np.sqrt(sse / (n - p))\n"
          ]
        },
        {
          "output_type": "stream",
          "name": "stdout",
          "text": [
            "Model Number: 233 with model FFT in generation 1 of 25\n",
            "Model Number: 234 with model FBProphet in generation 1 of 25\n",
            "Template Eval Error: Exception('Transformer PCA failed on fit from params ffill {\\'0\\': {\\'output_distribution\\': \\'normal\\', \\'n_quantiles\\': 3}, \\'1\\': {\\'method\\': 0.5}, \\'2\\': {\\'whiten\\': False, \\'n_components\\': 10}, \\'3\\': {\\'decimals\\': -1, \\'on_transform\\': False, \\'on_inverse\\': True}} with error ValueError(\"n_components=10 must be between 0 and min(n_samples, n_features)=1 with svd_solver=\\'full\\'\")') in model 234 in generation 1: FBProphet\n",
            "Model Number: 235 with model RRVAR in generation 1 of 25\n",
            "Model Number: 236 with model SeasonalityMotif in generation 1 of 25\n",
            "Model Number: 237 with model LastValueNaive in generation 1 of 25\n",
            "Model Number: 238 with model BasicLinearModel in generation 1 of 25\n",
            "Model Number: 239 with model FFT in generation 1 of 25\n",
            "Model Number: 240 with model SeasonalNaive in generation 1 of 25\n",
            "Model Number: 241 with model ARDL in generation 1 of 25\n"
          ]
        },
        {
          "output_type": "stream",
          "name": "stderr",
          "text": [
            "/usr/local/lib/python3.11/dist-packages/autots/models/basics.py:3595: RuntimeWarning: invalid value encountered in sqrt\n",
            "  self.sigma = np.sqrt(sse / (n - p))\n"
          ]
        },
        {
          "output_type": "stream",
          "name": "stdout",
          "text": [
            "Model Number: 242 with model FBProphet in generation 1 of 25\n",
            "Model Number: 243 with model LastValueNaive in generation 1 of 25\n",
            "Model Number: 244 with model AverageValueNaive in generation 1 of 25\n",
            "Model Number: 245 with model DatepartRegression in generation 1 of 25\n",
            "Template Eval Error: ValueError(\"regression_type='User' but no future_regressor passed\") in model 245 in generation 1: DatepartRegression\n",
            "Model Number: 246 with model ARDL in generation 1 of 25\n",
            "Template Eval Error: ValueError(\"ARDL series followers_gained failed with error ValueError('The number of regressors (58) including deterministics, lags of the endog, lags of the exogenous, and fixed regressors is larger than the sample available for estimation (7).') exog train             seasonalitycommonfourier_0  seasonalitycommonfourier_1  \\\\\\nperiod_end                                                           \\n2020-05-31                   -0.851148                    0.448906   \\n2020-06-30                   -0.999332                    0.997329   \\n2020-07-31                   -0.879150                    0.545811   \\n2020-08-31                   -0.514823                   -0.469915   \\n2020-09-30                   -0.024726                   -0.998777   \\n2020-10-31                    0.486908                   -0.525841   \\n2020-11-30                    0.854517                    0.460397   \\n2020-12-31                    0.999917                    0.999667   \\n2021-01-31                    0.867634                    0.505576   \\n2021-02-28                    0.538584                   -0.419855   \\n2021-03-31                    0.035473                   -0.997483   \\n\\n            seasonalitycommonfourier_2  seasonalitycommonfourier_3  \\\\\\nperiod_end                                                           \\n2020-05-31                    0.086977                    0.524926   \\n2020-06-30                   -0.993993                    0.036547   \\n2020-07-31                   -0.080549                   -0.476544   \\n2020-08-31                    0.998669                   -0.857296   \\n2020-09-30                    0.074117                   -0.999694   \\n2020-10-31                   -0.998981                   -0.873453   \\n2020-11-30                   -0.067683                   -0.519424   \\n2020-12-31                    0.999251                   -0.012901   \\n2021-01-31                    0.009676                    0.497204   \\n2021-02-28                   -0.990838                    0.842572   \\n2021-03-31                   -0.106239                    0.999371   \\n\\n            seasonalitycommonfourier_4  seasonalitycommonfourier_5  \\\\\\nperiod_end                                                           \\n2020-05-31                   -0.893579                    0.996210   \\n2020-06-30                   -0.073045                    0.109446   \\n2020-07-31                    0.837909                   -0.996751   \\n2020-08-31                    0.882712                   -0.051584   \\n2020-09-30                    0.049437                    0.997250   \\n2020-10-31                   -0.850583                    0.045141   \\n2020-11-30                   -0.887713                   -0.997707   \\n2020-12-31                   -0.025801                   -0.038696   \\n2021-01-31                    0.862782                    0.999953   \\n2021-02-28                    0.907591                    0.135055   \\n2021-03-31                    0.070900                   -0.994341   \\n\\n            seasonalitycommonfourier_6  seasonalitycommonfourier_7  \\\\\\nperiod_end                                                           \\n2020-05-31                   -0.797750                    0.272811   \\n2020-06-30                   -0.713539                    0.018277   \\n2020-07-31                   -0.614079                   -0.245815   \\n2020-08-31                   -0.503720                   -0.492533   \\n2020-09-30                   -0.388388                   -0.698310   \\n2020-10-31                   -0.262452                   -0.862238   \\n2020-11-30                   -0.136120                   -0.962943   \\n2020-12-31                   -0.003225                   -0.999979   \\n2021-01-31                    0.129727                   -0.966342   \\n2021-02-28                    0.247898                   -0.877093   \\n2021-03-31                    0.374474                   -0.719539   \\n\\n            seasonalitycommonfourier_8  seasonalitycommonfourier_9  ...  \\\\\\nperiod_end                                                          ...   \\n2020-05-31                    0.362480                   -0.851148  ...   \\n2020-06-30                    0.687457                   -0.999332  ...   \\n2020-07-31                    0.915978                   -0.879150  ...   \\n2020-08-31                    0.999917                   -0.514823  ...   \\n2020-09-30                    0.930818                   -0.024726  ...   \\n2020-10-31                    0.715044                    0.486908  ...   \\n2020-11-30                    0.398272                    0.854517  ...   \\n2020-12-31                    0.009676                    0.999917  ...   \\n2021-01-31                   -0.380447                    0.867634  ...   \\n2021-02-28                   -0.682758                    0.538584  ...   \\n2021-03-31                   -0.913370                    0.035473  ...   \\n\\n            seasonalitycommonfourier_16  seasonalitycommonfourier_17  \\\\\\nperiod_end                                                             \\n2020-05-31                    -0.602988                     0.962068   \\n2020-06-30                    -0.700615                     0.999833   \\n2020-07-31                    -0.789245                     0.969317   \\n2020-08-31                    -0.863867                     0.870294   \\n2020-09-30                    -0.921496                     0.715795   \\n2020-10-31                    -0.964945                     0.506504   \\n2020-11-30                    -0.990692                     0.269707   \\n2020-12-31                    -0.999995                     0.006451   \\n2021-01-31                    -0.991550                    -0.257261   \\n2021-02-28                    -0.968786                    -0.480321   \\n2021-03-31                    -0.927238                    -0.694452   \\n\\n            seasonalitycommonfourier_18  seasonalitycommonfourier_19  \\\\\\nperiod_end                                                             \\n2020-05-31                    -0.931992                     0.524926   \\n2020-06-30                    -0.726225                     0.036547   \\n2020-07-31                    -0.401229                    -0.476544   \\n2020-08-31                    -0.012901                    -0.857296   \\n2020-09-30                     0.365484                    -0.999694   \\n2020-10-31                     0.699079                    -0.873453   \\n2020-11-30                     0.917267                    -0.519424   \\n2020-12-31                     0.999953                    -0.012901   \\n2021-01-31                     0.924803                     0.497204   \\n2021-02-28                     0.730644                     0.842572   \\n2021-03-31                     0.407129                     0.999371   \\n\\n            seasonalitycommonfourier_20  seasonalitycommonfourier_21  \\\\\\nperiod_end                                                             \\n2020-05-31                     0.094472                    -0.675656   \\n2020-06-30                     0.674069                    -0.998497   \\n2020-07-31                     0.986501                    -0.735034   \\n2020-08-31                     0.876576                    -0.025801   \\n2020-09-30                     0.411054                     0.680398   \\n2020-10-31                    -0.240600                     0.999745   \\n2020-11-30                    -0.775859                     0.730644   \\n2020-12-31                    -0.999870                     0.019352   \\n2021-01-31                    -0.795801                    -0.703677   \\n2021-02-28                    -0.312900                    -0.997707   \\n2021-03-31                     0.341347                    -0.743720   \\n\\n            seasonalitycommonfourier_22  seasonalitycommonfourier_23  \\\\\\nperiod_end                                                             \\n2020-05-31                     0.983538                    -0.893579   \\n2020-06-30                     0.750864                    -0.073045   \\n2020-07-31                    -0.083764                     0.837909   \\n2020-08-31                    -0.850583                     0.882712   \\n2020-09-30                    -0.939570                     0.049437   \\n2020-10-31                    -0.284170                    -0.850583   \\n2020-11-30                     0.576948                    -0.887713   \\n2020-12-31                     0.999745                    -0.025801   \\n2021-01-31                     0.613230                     0.862782   \\n2021-02-28                    -0.181760                     0.907591   \\n2021-03-31                    -0.898354                     0.070900   \\n\\n            seasonalitycommonfourier_24  seasonalitycommonfourier_25  \\nperiod_end                                                            \\n2020-05-31                     0.442168                     0.188099  \\n2020-06-30                    -0.646623                     0.995827  \\n2020-07-31                    -0.945320                     0.323093  \\n2020-08-31                    -0.038696                    -0.843728  \\n2020-09-30                     0.901169                    -0.749442  \\n2020-10-31                     0.730644                     0.467065  \\n2020-11-30                    -0.335276                     0.978989  \\n2020-12-31                    -0.999579                     0.032249  \\n2021-01-31                    -0.389378                    -0.963807  \\n2021-02-28                     0.631740                    -0.594376  \\n2021-03-31                     0.951454                     0.641689  \\n\\n[11 rows x 26 columns] and predict             seasonalitycommonfourier_0  seasonalitycommonfourier_1  \\\\\\n2021-04-30                   -0.462305                   -0.572548   \\n2021-05-31                   -0.848883                    0.441204   \\n2021-06-30                   -0.999166                    0.996663   \\n2021-07-31                   -0.881192                    0.552997   \\n\\n            seasonalitycommonfourier_2  seasonalitycommonfourier_3  \\\\\\n2021-04-30                    0.991689                    0.886721   \\n2021-05-31                    0.099823                    0.528581   \\n2021-06-30                   -0.992498                    0.040844   \\n2021-07-31                   -0.093402                   -0.472759   \\n\\n            seasonalitycommonfourier_4  seasonalitycommonfourier_5  \\\\\\n2021-04-30                   -0.819871                   -0.128661   \\n2021-05-31                   -0.897407                    0.995005   \\n2021-06-30                   -0.081621                    0.122261   \\n2021-07-31                    0.833183                   -0.995628   \\n\\n            seasonalitycommonfourier_6  seasonalitycommonfourier_7  \\\\\\n2021-04-30                    0.490660                   -0.518505   \\n2021-05-31                    0.602130                   -0.274879   \\n2021-06-30                    0.699848                   -0.020426   \\n2021-07-31                    0.788584                    0.243730   \\n\\n            seasonalitycommonfourier_8  seasonalitycommonfourier_9  ...  \\\\\\n2021-04-30                   -0.999480                   -0.462305  ...   \\n2021-05-31                   -0.933156                   -0.848883  ...   \\n2021-06-30                   -0.728438                   -0.999166  ...   \\n2021-07-31                   -0.404181                   -0.881192  ...   \\n\\n            seasonalitycommonfourier_16  seasonalitycommonfourier_17  \\\\\\n2021-04-30                    -0.871351                    -0.855075   \\n2021-05-31                    -0.798398                    -0.961479   \\n2021-06-30                    -0.714292                    -0.999791   \\n2021-07-31                    -0.614927                    -0.969843   \\n\\n            seasonalitycommonfourier_18  seasonalitycommonfourier_19  \\\\\\n2021-04-30                     0.032249                     0.886721   \\n2021-05-31                    -0.359472                     0.528581   \\n2021-06-30                    -0.685111                     0.040844   \\n2021-07-31                    -0.914679                    -0.472759   \\n\\n            seasonalitycommonfourier_20  seasonalitycommonfourier_21  \\\\\\n2021-04-30                     0.837909                    -0.064464   \\n2021-05-31                     0.996021                     0.670887   \\n2021-06-30                     0.742281                     0.998123   \\n2021-07-31                     0.169058                     0.739392   \\n\\n            seasonalitycommonfourier_22  seasonalitycommonfourier_23  \\\\\\n2021-04-30                    -0.901169                    -0.819871   \\n2021-05-31                    -0.188099                    -0.897407   \\n2021-06-30                     0.654787                    -0.081621   \\n2021-07-31                     0.997088                     0.833183   \\n\\n            seasonalitycommonfourier_24  seasonalitycommonfourier_25  \\n2021-04-30                     0.096613                     0.914679  \\n2021-05-31                    -0.892612                    -0.177529  \\n2021-06-30                    -0.769031                    -0.994788  \\n2021-07-31                     0.316982                    -0.333249  \\n\\n[4 rows x 26 columns]\") in model 246 in generation 1: ARDL\n",
            "Model Number: 247 with model GLS in generation 1 of 25\n",
            "Model Number: 248 with model SeasonalNaive in generation 1 of 25\n",
            "Model Number: 249 with model LastValueNaive in generation 1 of 25\n",
            "Model Number: 250 with model BasicLinearModel in generation 1 of 25\n",
            "Template Eval Error: Exception(\"Transformer LocalLinearTrend failed on fit from params piecewise_polynomial {'0': {'rows': 1}, '1': {'center': 'mean'}, '2': {'rolling_window': 0.05, 'n_tails': 30, 'n_future': 90, 'method': 'median', 'macro_micro': True}, '3': {}} with error ValueError('negative dimensions are not allowed')\") in model 250 in generation 1: BasicLinearModel\n",
            "Model Number: 251 with model GLS in generation 1 of 25\n",
            "Model Number: 252 with model ETS in generation 1 of 25\n",
            "Template Eval Error: Exception(\"Transformer Cointegration failed on fit from params akima {'0': {'method': 0.9}, '1': {'det_order': 1, 'k_ar_diff': 0}, '2': {}} with error ValueError('Coint only works on multivarate series')\") in model 252 in generation 1: ETS\n",
            "Model Number: 253 with model ConstantNaive in generation 1 of 25\n",
            "Model Number: 254 with model GLM in generation 1 of 25\n",
            "Model Number: 255 with model FFT in generation 1 of 25\n",
            "Model Number: 256 with model LastValueNaive in generation 1 of 25\n",
            "Model Number: 257 with model LastValueNaive in generation 1 of 25\n",
            "Model Number: 258 with model FFT in generation 1 of 25\n",
            "Model Number: 259 with model AverageValueNaive in generation 1 of 25\n",
            "Template Eval Error: Exception(\"Transformer LocalLinearTrend failed on fit from params ffill {'0': {'rolling_window': 0.05, 'n_tails': 0.1, 'n_future': 0.2, 'method': 'median', 'macro_micro': True}, '1': {'rows': 1, 'lag': 1, 'method': 'additive', 'strength': 1.0, 'first_value_only': False, 'threshold': 10, 'threshold_method': 'max'}, '2': {'model': 'GLS'}, '3': {'rows': 1, 'lag': 1, 'method': 'multiplicative', 'strength': 1.0, 'first_value_only': False, 'threshold': 10, 'threshold_method': 'mean'}, '4': {'span': 28}} with error ValueError('negative dimensions are not allowed')\") in model 259 in generation 1: AverageValueNaive\n",
            "Model Number: 260 with model LastValueNaive in generation 1 of 25\n"
          ]
        },
        {
          "output_type": "stream",
          "name": "stderr",
          "text": [
            "/usr/local/lib/python3.11/dist-packages/statsmodels/genmod/families/family.py:1367: ValueWarning: Negative binomial dispersion parameter alpha not set. Using default value alpha=1.0.\n",
            "  warnings.warn(\"Negative binomial dispersion parameter alpha not \"\n"
          ]
        },
        {
          "output_type": "stream",
          "name": "stdout",
          "text": [
            "New Generation: 2 of 25\n",
            "Model Number: 261 with model ETS in generation 2 of 25\n",
            "Model Number: 262 with model ARDL in generation 2 of 25\n",
            "Template Eval Error: ValueError(\"regression_type='User' but future_regressor not supplied\") in model 262 in generation 2: ARDL\n",
            "Model Number: 263 with model Cassandra in generation 2 of 25\n",
            "Template Eval Error: UnboundLocalError(\"cannot access local variable 'slope' where it is not associated with a value\") in model 263 in generation 2: Cassandra\n",
            "Model Number: 264 with model LastValueNaive in generation 2 of 25\n",
            "Template Eval Error: Exception(\"Transformer RegressionFilter failed on fit from params rolling_mean {'0': {'window_size': 30, 'alpha': 2.0, 'grouping_forward_limit': 6, 'max_level_shifts': 5, 'alignment': 'rolling_diff'}, '1': {'model': 'Linear', 'phi': 1, 'window': None, 'transform_dict': None}, '2': {'sigma': 2, 'rolling_window': 90, 'run_order': 'trend_first', 'regression_params': {'regression_model': {'model': 'ElasticNet', 'model_params': {'l1_ratio': 0.1, 'fit_intercept': True, 'selection': 'random', 'max_iter': 1000}}, 'datepart_method': 'common_fourier_rw', 'polynomial_degree': None, 'transform_dict': None, 'holiday_countries_used': False, 'lags': None, 'forward_lags': None}, 'holiday_params': None, 'trend_method': 'local_linear'}, '3': {}, '4': {'rows': 1, 'lag': 1, 'method': 'multiplicative', 'strength': 1.0, 'first_value_only': False, 'threshold': 10, 'threshold_method': 'max'}} with error ValueError('negative dimensions are not allowed')\") in model 264 in generation 2: LastValueNaive\n",
            "Model Number: 265 with model DatepartRegression in generation 2 of 25\n",
            "Model Number: 266 with model SeasonalNaive in generation 2 of 25\n",
            "Model Number: 267 with model BasicLinearModel in generation 2 of 25\n",
            "Model Number: 268 with model SeasonalNaive in generation 2 of 25\n"
          ]
        },
        {
          "output_type": "stream",
          "name": "stderr",
          "text": [
            "/usr/local/lib/python3.11/dist-packages/numpy/lib/function_base.py:2897: RuntimeWarning: invalid value encountered in divide\n",
            "  c /= stddev[:, None]\n",
            "/usr/local/lib/python3.11/dist-packages/numpy/lib/function_base.py:2898: RuntimeWarning: invalid value encountered in divide\n",
            "  c /= stddev[None, :]\n",
            "/usr/local/lib/python3.11/dist-packages/autots/models/basics.py:3595: RuntimeWarning: invalid value encountered in sqrt\n",
            "  self.sigma = np.sqrt(sse / (n - p))\n"
          ]
        },
        {
          "output_type": "stream",
          "name": "stdout",
          "text": [
            "Model Number: 269 with model FFT in generation 2 of 25\n",
            "Model Number: 270 with model SeasonalityMotif in generation 2 of 25\n",
            "Model Number: 271 with model ARDL in generation 2 of 25\n",
            "Model Number: 272 with model LastValueNaive in generation 2 of 25\n",
            "Model Number: 273 with model BasicLinearModel in generation 2 of 25\n",
            "Model Number: 274 with model ETS in generation 2 of 25\n",
            "Model Number: 275 with model RRVAR in generation 2 of 25\n",
            "Model Number: 276 with model ETS in generation 2 of 25\n",
            "Template Eval Error: Exception(\"Transformer BTCD failed on fit from params mean {'0': {'method': 'clip', 'std_threshold': 4, 'fillna': None}, '1': {'regression_model': {'model': 'FastRidge', 'model_params': {}}, 'max_lags': 2}, '2': {'method': 'IQR', 'method_params': {'iqr_threshold': 2.0, 'iqr_quantiles': [0.4, 0.6]}, 'fillna': 'ffill', 'transform_dict': None, 'isolated_only': False, 'on_inverse': False}} with error ValueError('BTCD only works on multivarate series')\") in model 276 in generation 2: ETS\n",
            "Model Number: 277 with model SeasonalNaive in generation 2 of 25\n",
            "Model Number: 278 with model ARDL in generation 2 of 25\n"
          ]
        },
        {
          "output_type": "stream",
          "name": "stderr",
          "text": [
            "/usr/local/lib/python3.11/dist-packages/autots/models/basics.py:3595: RuntimeWarning: invalid value encountered in sqrt\n",
            "  self.sigma = np.sqrt(sse / (n - p))\n"
          ]
        },
        {
          "output_type": "stream",
          "name": "stdout",
          "text": [
            "Model Number: 279 with model FBProphet in generation 2 of 25\n",
            "Model Number: 280 with model ETS in generation 2 of 25\n",
            "Model Number: 281 with model ETS in generation 2 of 25\n",
            "Model Number: 282 with model GLM in generation 2 of 25\n",
            "Model Number: 283 with model SeasonalityMotif in generation 2 of 25\n",
            "Model Number: 284 with model ETS in generation 2 of 25\n",
            "Template Eval Error: Exception(\"Transformer BTCD failed on fit from params mean {'0': {'method': 'clip', 'std_threshold': 4, 'fillna': None}, '1': {'regression_model': {'model': 'FastRidge', 'model_params': {}}, 'max_lags': 2}} with error ValueError('BTCD only works on multivarate series')\") in model 284 in generation 2: ETS\n",
            "Model Number: 285 with model FFT in generation 2 of 25\n",
            "Model Number: 286 with model ARDL in generation 2 of 25\n"
          ]
        },
        {
          "output_type": "stream",
          "name": "stderr",
          "text": [
            "/usr/local/lib/python3.11/dist-packages/statsmodels/genmod/families/links.py:198: RuntimeWarning: overflow encountered in exp\n",
            "  t = np.exp(-z)\n"
          ]
        },
        {
          "output_type": "stream",
          "name": "stdout",
          "text": [
            "Model Number: 287 with model GLS in generation 2 of 25\n",
            "Model Number: 288 with model AverageValueNaive in generation 2 of 25\n",
            "Model Number: 289 with model GLS in generation 2 of 25\n",
            "Model Number: 290 with model ETS in generation 2 of 25\n",
            "Template Eval Error: ValueError('Model ETS returned NaN for one or more series. fail_on_forecast_nan=True') in model 290 in generation 2: ETS\n",
            "Model Number: 291 with model ETS in generation 2 of 25\n",
            "Model Number: 292 with model SeasonalNaive in generation 2 of 25\n",
            "Model Number: 293 with model AverageValueNaive in generation 2 of 25\n",
            "Model Number: 294 with model FBProphet in generation 2 of 25\n"
          ]
        },
        {
          "output_type": "stream",
          "name": "stderr",
          "text": [
            "/usr/local/lib/python3.11/dist-packages/autots/tools/window_functions.py:605: RuntimeWarning: invalid value encountered in divide\n",
            "  slope = (sxy - sx * sy) / (sx2 - sx**2)\n",
            "/usr/local/lib/python3.11/dist-packages/sklearn/neighbors/_classification.py:239: DataConversionWarning: A column-vector y was passed when a 1d array was expected. Please change the shape of y to (n_samples,), for example using ravel().\n",
            "  return self._fit(X, y)\n"
          ]
        },
        {
          "output_type": "stream",
          "name": "stdout",
          "text": [
            "Model Number: 295 with model FBProphet in generation 2 of 25\n",
            "Model Number: 296 with model LastValueNaive in generation 2 of 25\n",
            "Model Number: 297 with model DatepartRegression in generation 2 of 25\n",
            "Model Number: 298 with model AverageValueNaive in generation 2 of 25\n",
            "Model Number: 299 with model GLM in generation 2 of 25\n",
            "Model Number: 300 with model BasicLinearModel in generation 2 of 25\n",
            "Model Number: 301 with model FFT in generation 2 of 25\n",
            "Template Eval Error: Exception(\"Transformer BTCD failed on fit from params ffill {'0': {'method': 'clip', 'std_threshold': 4, 'fillna': None}, '1': {'regression_model': {'model': 'FastRidge', 'model_params': {}}, 'max_lags': 1}, '2': {'method': 'IQR', 'method_params': {'iqr_threshold': 2.0, 'iqr_quantiles': [0.4, 0.6]}, 'fillna': 'ffill', 'transform_dict': None, 'isolated_only': False, 'on_inverse': False}, '3': {'rows': 1, 'lag': 7, 'method': 'additive', 'strength': 0.5, 'first_value_only': False, 'threshold': 1, 'threshold_method': 'mean'}} with error ValueError('BTCD only works on multivarate series')\") in model 301 in generation 2: FFT\n",
            "Model Number: 302 with model GLS in generation 2 of 25\n",
            "Template Eval Error: Exception(\"Transformer Cointegration failed on fit from params ffill {'0': {'method': 'remove', 'std_threshold': 1, 'fillna': 'mean'}, '1': {}, '2': {'constraint_method': 'stdev', 'constraint_direction': 'upper', 'constraint_regularization': 1.0, 'constraint_value': 4.0, 'bounds_only': False, 'fillna': None}, '3': {'output_distribution': 'uniform', 'n_quantiles': 3}, '4': {}, '5': {'det_order': -1, 'k_ar_diff': 0}} with error ValueError('Coint only works on multivarate series')\") in model 302 in generation 2: GLS\n",
            "Model Number: 303 with model FBProphet in generation 2 of 25\n"
          ]
        },
        {
          "output_type": "stream",
          "name": "stderr",
          "text": [
            "/usr/local/lib/python3.11/dist-packages/statsmodels/genmod/families/family.py:1367: ValueWarning: Negative binomial dispersion parameter alpha not set. Using default value alpha=1.0.\n",
            "  warnings.warn(\"Negative binomial dispersion parameter alpha not \"\n",
            "/usr/local/lib/python3.11/dist-packages/statsmodels/genmod/generalized_linear_model.py:1342: PerfectSeparationWarning: Perfect separation or prediction detected, parameter may not be identified\n",
            "  warnings.warn(msg, category=PerfectSeparationWarning)\n",
            "/usr/local/lib/python3.11/dist-packages/autots/models/basics.py:3595: RuntimeWarning: invalid value encountered in sqrt\n",
            "  self.sigma = np.sqrt(sse / (n - p))\n"
          ]
        },
        {
          "output_type": "stream",
          "name": "stdout",
          "text": [
            "Model Number: 304 with model LastValueNaive in generation 2 of 25\n",
            "Model Number: 305 with model BasicLinearModel in generation 2 of 25\n",
            "Template Eval Error: Exception(\"Transformer AlignLastValue failed on fit from params quadratic {'0': {'method': 'clip', 'std_threshold': 3, 'fillna': None}, '1': {'constraint_method': 'slope', 'constraint_direction': 'lower', 'constraint_regularization': 1.0, 'constraint_value': {'slope': -0.02, 'window': 7, 'window_agg': 'min', 'threshold': -0.01}, 'bounds_only': True, 'fillna': None}, '2': {'output_distribution': 'normal', 'n_quantiles': 3}, '3': {'rows': 1, 'lag': 1, 'method': 'additive', 'strength': 1.0, 'first_value_only': False, 'threshold': 10, 'threshold_method': 'mean'}, '4': {'rows': 1, 'lag': 84, 'method': 'additive', 'strength': 1.0, 'first_value_only': False, 'threshold': 1, 'threshold_method': 'mean'}} with error IndexError('single positional indexer is out-of-bounds')\") in model 305 in generation 2: BasicLinearModel\n",
            "Model Number: 306 with model RRVAR in generation 2 of 25\n",
            "Model Number: 307 with model ETS in generation 2 of 25\n",
            "Model Number: 308 with model FFT in generation 2 of 25\n",
            "Model Number: 309 with model FBProphet in generation 2 of 25\n",
            "Model Number: 310 with model DatepartRegression in generation 2 of 25\n",
            "interpolating\n",
            "Template Eval Error: ValueError('Model DatepartRegression returned NaN for one or more series. fail_on_forecast_nan=True') in model 310 in generation 2: DatepartRegression\n",
            "Model Number: 311 with model FFT in generation 2 of 25\n",
            "Template Eval Error: Exception(\"Transformer FIRFilter failed on fit from params ffill {'0': {'rows': 1, 'lag': 1, 'method': 'additive', 'strength': 0.9, 'first_value_only': False}, '1': {'theta_values': [0.4, 1.6]}, '2': {'window_size': 90, 'alpha': 2.5, 'grouping_forward_limit': 3, 'max_level_shifts': 5, 'alignment': 'rolling_diff_3nn'}, '3': {'numtaps': 256, 'cutoff_hz': 100, 'window': 'hann', 'sampling_frequency': 2, 'on_transform': True, 'on_inverse': False}} with error ValueError('Invalid cutoff frequency: frequencies must be greater than 0 and less than fs/2.')\") in model 311 in generation 2: FFT\n",
            "Model Number: 312 with model ConstantNaive in generation 2 of 25\n",
            "Model Number: 313 with model GLM in generation 2 of 25\n",
            "Template Eval Error: Exception(\"Transformer Cointegration failed on fit from params akima {'0': {'lag': 1, 'fill': 'bfill'}, '1': {'window_size': 30, 'alpha': 3.0, 'grouping_forward_limit': 5, 'max_level_shifts': 30, 'alignment': 'average'}, '2': {}, '3': {'decimals': -1, 'on_transform': True, 'on_inverse': True}, '4': {'det_order': 0, 'k_ar_diff': 2}} with error ValueError('Coint only works on multivarate series')\") in model 313 in generation 2: GLM\n",
            "Model Number: 314 with model ETS in generation 2 of 25\n",
            "Model Number: 315 with model ConstantNaive in generation 2 of 25\n",
            "Model Number: 316 with model LastValueNaive in generation 2 of 25\n"
          ]
        },
        {
          "output_type": "stream",
          "name": "stderr",
          "text": [
            "/usr/local/lib/python3.11/dist-packages/sklearn/neighbors/_regression.py:508: UserWarning: One or more samples have no neighbors within specified radius; predicting NaN.\n",
            "  warnings.warn(empty_warning_msg)\n"
          ]
        },
        {
          "output_type": "stream",
          "name": "stdout",
          "text": [
            "Model Number: 317 with model GLM in generation 2 of 25\n",
            "Model Number: 318 with model SeasonalityMotif in generation 2 of 25\n",
            "Model Number: 319 with model RRVAR in generation 2 of 25\n",
            "Model Number: 320 with model ConstantNaive in generation 2 of 25\n",
            "Model Number: 321 with model ConstantNaive in generation 2 of 25\n",
            "Template Eval Error: Exception(\"Transformer LocalLinearTrend failed on fit from params mean {'0': {'method': 'remove', 'std_threshold': 4, 'fillna': 'rolling_mean_24'}, '1': {'rows': 1, 'lag': 1, 'method': 'additive', 'strength': 1.0, 'first_value_only': False, 'threshold': None, 'threshold_method': 'max'}, '2': {'rolling_window': 0.05, 'n_tails': 30, 'n_future': 90, 'method': 'median', 'macro_micro': True}, '3': {'rows': 1, 'lag': 1, 'method': 'additive', 'strength': 1.0, 'first_value_only': True, 'threshold': None, 'threshold_method': 'mean'}, '4': {'window_size': 30, 'alpha': 3.0, 'grouping_forward_limit': 6, 'max_level_shifts': 5, 'alignment': 'average'}, '5': {'rows': 168, 'lag': 1, 'method': 'additive', 'strength': 1.0, 'first_value_only': False, 'threshold': None, 'threshold_method': 'max'}} with error ValueError('negative dimensions are not allowed')\") in model 321 in generation 2: ConstantNaive\n",
            "Model Number: 322 with model FBProphet in generation 2 of 25\n"
          ]
        },
        {
          "output_type": "stream",
          "name": "stderr",
          "text": [
            "/usr/local/lib/python3.11/dist-packages/sklearn/neighbors/_classification.py:239: DataConversionWarning: A column-vector y was passed when a 1d array was expected. Please change the shape of y to (n_samples,), for example using ravel().\n",
            "  return self._fit(X, y)\n"
          ]
        },
        {
          "output_type": "stream",
          "name": "stdout",
          "text": [
            "Model Number: 323 with model ConstantNaive in generation 2 of 25\n",
            "Model Number: 324 with model SeasonalityMotif in generation 2 of 25\n",
            "Model Number: 325 with model ConstantNaive in generation 2 of 25\n",
            "Model Number: 326 with model DatepartRegression in generation 2 of 25\n",
            "Template Eval Error: Exception(\"Transformer AlignLastValue failed on fit from params ffill {'0': {'rows': 1, 'lag': 168, 'method': 'additive', 'strength': 1.0, 'first_value_only': False, 'threshold': 1, 'threshold_method': 'max'}, '1': {'fixed': False, 'window': 12, 'macro_micro': False, 'center': False}, '2': {}, '3': {'rows': 1, 'lag': 1, 'method': 'additive', 'strength': 1.0, 'first_value_only': False, 'threshold': None, 'threshold_method': 'mean'}, '4': {}} with error IndexError('single positional indexer is out-of-bounds')\") in model 326 in generation 2: DatepartRegression\n",
            "Model Number: 327 with model SeasonalNaive in generation 2 of 25\n",
            "Model Number: 328 with model SeasonalityMotif in generation 2 of 25\n",
            "Model Number: 329 with model LastValueNaive in generation 2 of 25\n",
            "Model Number: 330 with model FFT in generation 2 of 25\n",
            "Model Number: 331 with model FBProphet in generation 2 of 25\n",
            "Model Number: 332 with model DatepartRegression in generation 2 of 25\n",
            "Model Number: 333 with model ARDL in generation 2 of 25\n",
            "Model Number: 334 with model FBProphet in generation 2 of 25\n",
            "Model Number: 335 with model LastValueNaive in generation 2 of 25\n",
            "Model Number: 336 with model GLM in generation 2 of 25\n",
            "Model Number: 337 with model FFT in generation 2 of 25\n",
            "Template Eval Error: Exception(\"Transformer BTCD failed on fit from params ffill {'0': {'center': 'mean'}, '1': {'regression_model': {'model': 'FastRidge', 'model_params': {}}, 'max_lags': 1}, '2': {'method': 'IQR', 'method_params': {'iqr_threshold': 2.0, 'iqr_quantiles': [0.4, 0.6]}, 'fillna': 'ffill', 'transform_dict': None, 'isolated_only': False, 'on_inverse': False}, '3': {'rows': 1, 'lag': 7, 'method': 'additive', 'strength': 0.5, 'first_value_only': False, 'threshold': 1, 'threshold_method': 'mean'}} with error ValueError('BTCD only works on multivarate series')\") in model 337 in generation 2: FFT\n",
            "Model Number: 338 with model AverageValueNaive in generation 2 of 25\n",
            "Model Number: 339 with model ETS in generation 2 of 25\n",
            "Model Number: 340 with model AverageValueNaive in generation 2 of 25\n",
            "Template Eval Error: Exception(\"Transformer AlignLastValue failed on fit from params ffill {'0': {'output_distribution': 'uniform', 'n_quantiles': 3}, '1': {'rows': 1, 'lag': 84, 'method': 'additive', 'strength': 1.0, 'first_value_only': False, 'threshold': 10, 'threshold_method': 'mean'}, '2': {'sigma': 3, 'rolling_window': 90, 'run_order': 'season_first', 'regression_params': {'regression_model': {'model': 'ElasticNet', 'model_params': {'l1_ratio': 0.5, 'fit_intercept': True, 'selection': 'cyclic', 'max_iter': 2000}}, 'datepart_method': 'simple_binarized', 'polynomial_degree': None, 'transform_dict': {'fillna': None, 'transformations': {'0': 'AnomalyRemoval'}, 'transformation_params': {'0': {'method': 'zscore', 'transform_dict': {'transformations': {'0': 'DatepartRegression'}, 'transformation_params': {'0': {'datepart_method': 'simple_3', 'regression_model': {'model': 'ElasticNet', 'model_params': {}}}}}, 'method_params': {'distribution': 'uniform', 'alpha': 0.05}}}}, 'holiday_countries_used': True, 'lags': None, 'forward_lags': None}, 'holiday_params': None, 'trend_method': 'local_linear'}, '3': {'rows': 1, 'lag': 7, 'method': 'additive', 'strength': 0.5, 'first_value_only': False, 'threshold': 1, 'threshold_method': 'mean'}} with error IndexError('single positional indexer is out-of-bounds')\") in model 340 in generation 2: AverageValueNaive\n",
            "Model Number: 341 with model SeasonalityMotif in generation 2 of 25\n",
            "Template Eval Error: Exception(\"Transformer ScipyFilter failed on fit from params zero {'0': {'window_size': 90, 'alpha': 2.5, 'grouping_forward_limit': 5, 'max_level_shifts': 30, 'alignment': 'rolling_diff_3nn'}, '1': {'model': 'GLS', 'phi': 1, 'window': None, 'transform_dict': None}, '2': {'method': 'butter', 'method_args': {'N': 4, 'btype': 'highpass', 'analog': False, 'output': 'sos', 'Wn': 0.010416666666666666}}, '3': {}} with error ValueError('The length of the input vector x must be greater than padlen, which is 15.')\") in model 341 in generation 2: SeasonalityMotif\n",
            "Model Number: 342 with model AverageValueNaive in generation 2 of 25\n",
            "Model Number: 343 with model SeasonalNaive in generation 2 of 25\n",
            "Model Number: 344 with model FBProphet in generation 2 of 25\n",
            "Template Eval Error: Exception(\"Transformer BTCD failed on fit from params zero {'0': {}, '1': {'regression_model': {'model': 'FastRidge', 'model_params': {}}, 'max_lags': 1}, '2': {}} with error ValueError('BTCD only works on multivarate series')\") in model 344 in generation 2: FBProphet\n",
            "Model Number: 345 with model FFT in generation 2 of 25\n",
            "Model Number: 346 with model ARDL in generation 2 of 25\n",
            "Template Eval Error: ValueError(\"ARDL series followers_gained failed with error ValueError('The number of regressors (57) including deterministics, lags of the endog, lags of the exogenous, and fixed regressors is larger than the sample available for estimation (10).') exog train             seasonalitycommonfourier_0  seasonalitycommonfourier_1  \\\\\\nperiod_end                                                           \\n2020-05-31                   -0.851148                    0.448906   \\n2020-06-30                   -0.999332                    0.997329   \\n2020-07-31                   -0.879150                    0.545811   \\n2020-08-31                   -0.514823                   -0.469915   \\n2020-09-30                   -0.024726                   -0.998777   \\n2020-10-31                    0.486908                   -0.525841   \\n2020-11-30                    0.854517                    0.460397   \\n2020-12-31                    0.999917                    0.999667   \\n2021-01-31                    0.867634                    0.505576   \\n2021-02-28                    0.538584                   -0.419855   \\n2021-03-31                    0.035473                   -0.997483   \\n\\n            seasonalitycommonfourier_2  seasonalitycommonfourier_3  \\\\\\nperiod_end                                                           \\n2020-05-31                    0.086977                    0.524926   \\n2020-06-30                   -0.993993                    0.036547   \\n2020-07-31                   -0.080549                   -0.476544   \\n2020-08-31                    0.998669                   -0.857296   \\n2020-09-30                    0.074117                   -0.999694   \\n2020-10-31                   -0.998981                   -0.873453   \\n2020-11-30                   -0.067683                   -0.519424   \\n2020-12-31                    0.999251                   -0.012901   \\n2021-01-31                    0.009676                    0.497204   \\n2021-02-28                   -0.990838                    0.842572   \\n2021-03-31                   -0.106239                    0.999371   \\n\\n            seasonalitycommonfourier_4  seasonalitycommonfourier_5  \\\\\\nperiod_end                                                           \\n2020-05-31                   -0.893579                    0.996210   \\n2020-06-30                   -0.073045                    0.109446   \\n2020-07-31                    0.837909                   -0.996751   \\n2020-08-31                    0.882712                   -0.051584   \\n2020-09-30                    0.049437                    0.997250   \\n2020-10-31                   -0.850583                    0.045141   \\n2020-11-30                   -0.887713                   -0.997707   \\n2020-12-31                   -0.025801                   -0.038696   \\n2021-01-31                    0.862782                    0.999953   \\n2021-02-28                    0.907591                    0.135055   \\n2021-03-31                    0.070900                   -0.994341   \\n\\n            seasonalitycommonfourier_6  seasonalitycommonfourier_7  \\\\\\nperiod_end                                                           \\n2020-05-31                   -0.797750                    0.272811   \\n2020-06-30                   -0.713539                    0.018277   \\n2020-07-31                   -0.614079                   -0.245815   \\n2020-08-31                   -0.503720                   -0.492533   \\n2020-09-30                   -0.388388                   -0.698310   \\n2020-10-31                   -0.262452                   -0.862238   \\n2020-11-30                   -0.136120                   -0.962943   \\n2020-12-31                   -0.003225                   -0.999979   \\n2021-01-31                    0.129727                   -0.966342   \\n2021-02-28                    0.247898                   -0.877093   \\n2021-03-31                    0.374474                   -0.719539   \\n\\n            seasonalitycommonfourier_8  seasonalitycommonfourier_9  ...  \\\\\\nperiod_end                                                          ...   \\n2020-05-31                    0.362480                   -0.851148  ...   \\n2020-06-30                    0.687457                   -0.999332  ...   \\n2020-07-31                    0.915978                   -0.879150  ...   \\n2020-08-31                    0.999917                   -0.514823  ...   \\n2020-09-30                    0.930818                   -0.024726  ...   \\n2020-10-31                    0.715044                    0.486908  ...   \\n2020-11-30                    0.398272                    0.854517  ...   \\n2020-12-31                    0.009676                    0.999917  ...   \\n2021-01-31                   -0.380447                    0.867634  ...   \\n2021-02-28                   -0.682758                    0.538584  ...   \\n2021-03-31                   -0.913370                    0.035473  ...   \\n\\n            seasonalitycommonfourier_17  seasonalitycommonfourier_18  \\\\\\nperiod_end                                                             \\n2020-05-31                     0.962068                    -0.931992   \\n2020-06-30                     0.999833                    -0.726225   \\n2020-07-31                     0.969317                    -0.401229   \\n2020-08-31                     0.870294                    -0.012901   \\n2020-09-30                     0.715795                     0.365484   \\n2020-10-31                     0.506504                     0.699079   \\n2020-11-30                     0.269707                     0.917267   \\n2020-12-31                     0.006451                     0.999953   \\n2021-01-31                    -0.257261                     0.924803   \\n2021-02-28                    -0.480321                     0.730644   \\n2021-03-31                    -0.694452                     0.407129   \\n\\n            seasonalitycommonfourier_19  seasonalitycommonfourier_20  \\\\\\nperiod_end                                                             \\n2020-05-31                     0.524926                     0.094472   \\n2020-06-30                     0.036547                     0.674069   \\n2020-07-31                    -0.476544                     0.986501   \\n2020-08-31                    -0.857296                     0.876576   \\n2020-09-30                    -0.999694                     0.411054   \\n2020-10-31                    -0.873453                    -0.240600   \\n2020-11-30                    -0.519424                    -0.775859   \\n2020-12-31                    -0.012901                    -0.999870   \\n2021-01-31                     0.497204                    -0.795801   \\n2021-02-28                     0.842572                    -0.312900   \\n2021-03-31                     0.999371                     0.341347   \\n\\n            seasonalitycommonfourier_21  seasonalitycommonfourier_22  \\\\\\nperiod_end                                                             \\n2020-05-31                    -0.675656                     0.983538   \\n2020-06-30                    -0.998497                     0.750864   \\n2020-07-31                    -0.735034                    -0.083764   \\n2020-08-31                    -0.025801                    -0.850583   \\n2020-09-30                     0.680398                    -0.939570   \\n2020-10-31                     0.999745                    -0.284170   \\n2020-11-30                     0.730644                     0.576948   \\n2020-12-31                     0.019352                     0.999745   \\n2021-01-31                    -0.703677                     0.613230   \\n2021-02-28                    -0.997707                    -0.181760   \\n2021-03-31                    -0.743720                    -0.898354   \\n\\n            seasonalitycommonfourier_23  seasonalitycommonfourier_24  \\\\\\nperiod_end                                                             \\n2020-05-31                    -0.893579                     0.442168   \\n2020-06-30                    -0.073045                    -0.646623   \\n2020-07-31                     0.837909                    -0.945320   \\n2020-08-31                     0.882712                    -0.038696   \\n2020-09-30                     0.049437                     0.901169   \\n2020-10-31                    -0.850583                     0.730644   \\n2020-11-30                    -0.887713                    -0.335276   \\n2020-12-31                    -0.025801                    -0.999579   \\n2021-01-31                     0.862782                    -0.389378   \\n2021-02-28                     0.907591                     0.631740   \\n2021-03-31                     0.070900                     0.951454   \\n\\n            seasonalitycommonfourier_25  epoch  \\nperiod_end                                      \\n2020-05-31                     0.188099  14255  \\n2020-06-30                     0.995827  14255  \\n2020-07-31                     0.323093  14256  \\n2020-08-31                    -0.843728  14256  \\n2020-09-30                    -0.749442  14256  \\n2020-10-31                     0.467065  14256  \\n2020-11-30                     0.978989  14256  \\n2020-12-31                     0.032249  14256  \\n2021-01-31                    -0.963807  14256  \\n2021-02-28                    -0.594376  14256  \\n2021-03-31                     0.641689  14256  \\n\\n[11 rows x 27 columns] and predict             seasonalitycommonfourier_0  seasonalitycommonfourier_1  \\\\\\n2021-04-30                   -0.462305                   -0.572548   \\n2021-05-31                   -0.848883                    0.441204   \\n2021-06-30                   -0.999166                    0.996663   \\n2021-07-31                   -0.881192                    0.552997   \\n\\n            seasonalitycommonfourier_2  seasonalitycommonfourier_3  \\\\\\n2021-04-30                    0.991689                    0.886721   \\n2021-05-31                    0.099823                    0.528581   \\n2021-06-30                   -0.992498                    0.040844   \\n2021-07-31                   -0.093402                   -0.472759   \\n\\n            seasonalitycommonfourier_4  seasonalitycommonfourier_5  \\\\\\n2021-04-30                   -0.819871                   -0.128661   \\n2021-05-31                   -0.897407                    0.995005   \\n2021-06-30                   -0.081621                    0.122261   \\n2021-07-31                    0.833183                   -0.995628   \\n\\n            seasonalitycommonfourier_6  seasonalitycommonfourier_7  \\\\\\n2021-04-30                    0.490660                   -0.518505   \\n2021-05-31                    0.602130                   -0.274879   \\n2021-06-30                    0.699848                   -0.020426   \\n2021-07-31                    0.788584                    0.243730   \\n\\n            seasonalitycommonfourier_8  seasonalitycommonfourier_9  ...  \\\\\\n2021-04-30                   -0.999480                   -0.462305  ...   \\n2021-05-31                   -0.933156                   -0.848883  ...   \\n2021-06-30                   -0.728438                   -0.999166  ...   \\n2021-07-31                   -0.404181                   -0.881192  ...   \\n\\n            seasonalitycommonfourier_17  seasonalitycommonfourier_18  \\\\\\n2021-04-30                    -0.855075                     0.032249   \\n2021-05-31                    -0.961479                    -0.359472   \\n2021-06-30                    -0.999791                    -0.685111   \\n2021-07-31                    -0.969843                    -0.914679   \\n\\n            seasonalitycommonfourier_19  seasonalitycommonfourier_20  \\\\\\n2021-04-30                     0.886721                     0.837909   \\n2021-05-31                     0.528581                     0.996021   \\n2021-06-30                     0.040844                     0.742281   \\n2021-07-31                    -0.472759                     0.169058   \\n\\n            seasonalitycommonfourier_21  seasonalitycommonfourier_22  \\\\\\n2021-04-30                    -0.064464                    -0.901169   \\n2021-05-31                     0.670887                    -0.188099   \\n2021-06-30                     0.998123                     0.654787   \\n2021-07-31                     0.739392                     0.997088   \\n\\n            seasonalitycommonfourier_23  seasonalitycommonfourier_24  \\\\\\n2021-04-30                    -0.819871                     0.096613   \\n2021-05-31                    -0.897407                    -0.892612   \\n2021-06-30                    -0.081621                    -0.769031   \\n2021-07-31                     0.833183                     0.316982   \\n\\n            seasonalitycommonfourier_25  epoch  \\n2021-04-30                     0.914679  14257  \\n2021-05-31                    -0.177529  14257  \\n2021-06-30                    -0.994788  14257  \\n2021-07-31                    -0.333249  14257  \\n\\n[4 rows x 27 columns]\") in model 346 in generation 2: ARDL\n",
            "Model Number: 347 with model FBProphet in generation 2 of 25\n",
            "Model Number: 348 with model RRVAR in generation 2 of 25\n",
            "Model Number: 349 with model DatepartRegression in generation 2 of 25\n",
            "Model Number: 350 with model Cassandra in generation 2 of 25\n",
            "Template Eval Error: ValueError(\"ARDL series followers_gained failed with error ValueError('The number of regressors (12) including deterministics, lags of the endog, lags of the exogenous, and fixed regressors is larger than the sample available for estimation (9).') exog train             month  day  weekday  weekend       epoch\\nperiod_end                                          \\n2020-05-31      5   31        6        1  15908832.0\\n2020-06-30      6   30        1        0  15934752.0\\n2020-07-31      7   31        4        0  15961536.0\\n2020-08-31      8   31        0        0  15988320.0\\n2020-09-30      9   30        2        0  16014240.0\\n2020-10-31     10   31        5        1  16041024.0\\n2020-11-30     11   30        0        0  16066944.0\\n2020-12-31     12   31        3        0  16093728.0\\n2021-01-31      1   31        6        1  16120512.0\\n2021-02-28      2   28        6        1  16144704.0\\n2021-03-31      3   31        2        0  16171488.0 and predict             month  day  weekday  weekend       epoch\\n2021-04-30      4   30        4        0  16197408.0\\n2021-05-31      5   31        0        0  16224192.0\\n2021-06-30      6   30        2        0  16250112.0\\n2021-07-31      7   31        5        1  16276896.0\") in model 350 in generation 2: Cassandra\n",
            "Model Number: 351 with model SeasonalNaive in generation 2 of 25\n",
            "Model Number: 352 with model LastValueNaive in generation 2 of 25\n",
            "Model Number: 353 with model RRVAR in generation 2 of 25\n",
            "Model Number: 354 with model ARDL in generation 2 of 25\n"
          ]
        },
        {
          "output_type": "stream",
          "name": "stderr",
          "text": [
            "/usr/local/lib/python3.11/dist-packages/numpy/lib/function_base.py:2897: RuntimeWarning: invalid value encountered in divide\n",
            "  c /= stddev[:, None]\n",
            "/usr/local/lib/python3.11/dist-packages/numpy/lib/function_base.py:2898: RuntimeWarning: invalid value encountered in divide\n",
            "  c /= stddev[None, :]\n",
            "/usr/local/lib/python3.11/dist-packages/sklearn/decomposition/_fastica.py:592: UserWarning: Ignoring n_components with whiten=False.\n",
            "  warnings.warn(\"Ignoring n_components with whiten=False.\")\n"
          ]
        },
        {
          "output_type": "stream",
          "name": "stdout",
          "text": [
            "Model Number: 355 with model SeasonalNaive in generation 2 of 25\n",
            "Model Number: 356 with model FFT in generation 2 of 25\n",
            "Model Number: 357 with model ARDL in generation 2 of 25\n",
            "Template Eval Error: Exception(\"Transformer SeasonalDifference failed on fit from params ffill_mean_biased {'0': {'lag_1': 420, 'method': 2}} with error ValueError('cannot reshape array of size 11 into shape (0,420,newaxis)')\") in model 357 in generation 2: ARDL\n",
            "Model Number: 358 with model AverageValueNaive in generation 2 of 25\n",
            "Model Number: 359 with model LastValueNaive in generation 2 of 25\n",
            "Model Number: 360 with model AverageValueNaive in generation 2 of 25\n",
            "Template Eval Error: Exception(\"Transformer BTCD failed on fit from params fake_date {'0': {'regression_model': {'model': 'LinearRegression', 'model_params': {}}, 'max_lags': 1}, '1': {'model': 'Linear', 'phi': 1, 'window': None, 'transform_dict': None}, '2': {'rows': 1, 'lag': 7, 'method': 'additive', 'strength': 0.5, 'first_value_only': False, 'threshold': 1, 'threshold_method': 'mean'}} with error ValueError('BTCD only works on multivarate series')\") in model 360 in generation 2: AverageValueNaive\n",
            "Model Number: 361 with model FFT in generation 2 of 25\n",
            "Model Number: 362 with model SeasonalNaive in generation 2 of 25\n",
            "Model Number: 363 with model ARDL in generation 2 of 25\n",
            "Template Eval Error: ValueError(\"regression_type='User' but future_regressor not supplied\") in model 363 in generation 2: ARDL\n",
            "Model Number: 364 with model GLM in generation 2 of 25\n",
            "Model Number: 365 with model SeasonalityMotif in generation 2 of 25\n",
            "Template Eval Error: ValueError('Model SeasonalityMotif returned NaN for one or more series. fail_on_forecast_nan=True') in model 365 in generation 2: SeasonalityMotif\n",
            "New Generation: 3 of 25\n"
          ]
        },
        {
          "output_type": "stream",
          "name": "stderr",
          "text": [
            "/usr/local/lib/python3.11/dist-packages/sklearn/decomposition/_fastica.py:592: UserWarning: Ignoring n_components with whiten=False.\n",
            "  warnings.warn(\"Ignoring n_components with whiten=False.\")\n",
            "/usr/local/lib/python3.11/dist-packages/numpy/core/fromnumeric.py:3504: RuntimeWarning: Mean of empty slice.\n",
            "  return _methods._mean(a, axis=axis, dtype=dtype,\n",
            "/usr/local/lib/python3.11/dist-packages/numpy/core/_methods.py:121: RuntimeWarning: invalid value encountered in divide\n",
            "  ret = um.true_divide(\n"
          ]
        },
        {
          "output_type": "stream",
          "name": "stdout",
          "text": [
            "Model Number: 366 with model ETS in generation 3 of 25\n",
            "Model Number: 367 with model SeasonalNaive in generation 3 of 25\n",
            "Model Number: 368 with model ETS in generation 3 of 25\n",
            "Model Number: 369 with model DatepartRegression in generation 3 of 25\n",
            "Template Eval Error: IndexError('tuple index out of range') in model 369 in generation 3: DatepartRegression\n",
            "Model Number: 370 with model LastValueNaive in generation 3 of 25\n",
            "Model Number: 371 with model RRVAR in generation 3 of 25\n",
            "Model Number: 372 with model Cassandra in generation 3 of 25\n",
            "Model Number: 373 with model AverageValueNaive in generation 3 of 25\n",
            "Model Number: 374 with model DatepartRegression in generation 3 of 25\n",
            "Model Number: 375 with model LastValueNaive in generation 3 of 25\n",
            "Model Number: 376 with model DatepartRegression in generation 3 of 25\n"
          ]
        },
        {
          "output_type": "stream",
          "name": "stderr",
          "text": [
            "/usr/local/lib/python3.11/dist-packages/numpy/lib/function_base.py:2897: RuntimeWarning: invalid value encountered in divide\n",
            "  c /= stddev[:, None]\n",
            "/usr/local/lib/python3.11/dist-packages/numpy/lib/function_base.py:2898: RuntimeWarning: invalid value encountered in divide\n",
            "  c /= stddev[None, :]\n"
          ]
        },
        {
          "output_type": "stream",
          "name": "stdout",
          "text": [
            "Model Number: 377 with model LastValueNaive in generation 3 of 25\n",
            "Model Number: 378 with model LastValueNaive in generation 3 of 25\n",
            "Template Eval Error: Exception(\"Transformer ScipyFilter failed on fit from params ffill {'0': {'method': 'IQR', 'method_params': {'iqr_threshold': 4.3, 'iqr_quantiles': [0.25, 0.75]}, 'fillna': 'rolling_mean_24', 'transform_dict': {'fillna': 'fake_date', 'transformations': {'0': 'bkfilter'}, 'transformation_params': {'0': {}}}, 'isolated_only': False, 'on_inverse': False}, '1': {'rows': 1, 'lag': 1, 'method': 'additive', 'strength': 1.0, 'first_value_only': True, 'threshold': 10, 'threshold_method': 'mean'}, '2': {}, '3': {'method': 'butter', 'method_args': {'N': 4, 'btype': 'lowpass', 'analog': False, 'output': 'sos', 'Wn': 0.14285714285714285}}} with error ValueError('The length of the input vector x must be greater than padlen, which is 15.')\") in model 378 in generation 3: LastValueNaive\n",
            "Model Number: 379 with model SeasonalNaive in generation 3 of 25\n",
            "Model Number: 380 with model ARDL in generation 3 of 25\n",
            "Template Eval Error: ValueError(\"regression_type='User' but future_regressor not supplied\") in model 380 in generation 3: ARDL\n",
            "Model Number: 381 with model ARDL in generation 3 of 25\n",
            "Template Eval Error: ValueError(\"regression_type='User' but future_regressor not supplied\") in model 381 in generation 3: ARDL\n",
            "Model Number: 382 with model GLS in generation 3 of 25\n",
            "Model Number: 383 with model FBProphet in generation 3 of 25\n",
            "Model Number: 384 with model AverageValueNaive in generation 3 of 25\n",
            "Model Number: 385 with model FFT in generation 3 of 25\n",
            "Model Number: 386 with model BasicLinearModel in generation 3 of 25\n",
            "Model Number: 387 with model DatepartRegression in generation 3 of 25\n"
          ]
        },
        {
          "output_type": "stream",
          "name": "stderr",
          "text": [
            "/usr/local/lib/python3.11/dist-packages/autots/models/basics.py:3595: RuntimeWarning: invalid value encountered in sqrt\n",
            "  self.sigma = np.sqrt(sse / (n - p))\n"
          ]
        },
        {
          "output_type": "stream",
          "name": "stdout",
          "text": [
            "interpolating\n",
            "Template Eval Error: ValueError('Model DatepartRegression returned NaN for one or more series. fail_on_forecast_nan=True') in model 387 in generation 3: DatepartRegression\n",
            "Model Number: 388 with model SeasonalNaive in generation 3 of 25\n"
          ]
        },
        {
          "output_type": "stream",
          "name": "stderr",
          "text": [
            "/usr/local/lib/python3.11/dist-packages/sklearn/neighbors/_regression.py:508: UserWarning: One or more samples have no neighbors within specified radius; predicting NaN.\n",
            "  warnings.warn(empty_warning_msg)\n"
          ]
        },
        {
          "output_type": "stream",
          "name": "stdout",
          "text": [
            "Model Number: 389 with model SeasonalNaive in generation 3 of 25\n",
            "Model Number: 390 with model Cassandra in generation 3 of 25\n",
            "Template Eval Error: ValueError(\"regression_type='User' but future_regressor not supplied\") in model 390 in generation 3: Cassandra\n",
            "Model Number: 391 with model FFT in generation 3 of 25\n",
            "Model Number: 392 with model SeasonalityMotif in generation 3 of 25\n",
            "Template Eval Error: IndexError('index -13 is out of bounds for axis 0 with size 11') in model 392 in generation 3: SeasonalityMotif\n",
            "Model Number: 393 with model ARDL in generation 3 of 25\n"
          ]
        },
        {
          "output_type": "stream",
          "name": "stderr",
          "text": [
            "/usr/local/lib/python3.11/dist-packages/numpy/lib/function_base.py:2897: RuntimeWarning: invalid value encountered in divide\n",
            "  c /= stddev[:, None]\n",
            "/usr/local/lib/python3.11/dist-packages/numpy/lib/function_base.py:2898: RuntimeWarning: invalid value encountered in divide\n",
            "  c /= stddev[None, :]\n",
            "/usr/local/lib/python3.11/dist-packages/sklearn/decomposition/_fastica.py:592: UserWarning: Ignoring n_components with whiten=False.\n",
            "  warnings.warn(\"Ignoring n_components with whiten=False.\")\n"
          ]
        },
        {
          "output_type": "stream",
          "name": "stdout",
          "text": [
            "Model Number: 394 with model FBProphet in generation 3 of 25\n",
            "Template Eval Error: ValueError(\"regression_type='User' but no future_regressor passed\") in model 394 in generation 3: FBProphet\n",
            "Model Number: 395 with model RRVAR in generation 3 of 25\n",
            "Model Number: 396 with model ConstantNaive in generation 3 of 25\n",
            "Model Number: 397 with model AverageValueNaive in generation 3 of 25\n"
          ]
        },
        {
          "output_type": "stream",
          "name": "stderr",
          "text": [
            "/usr/local/lib/python3.11/dist-packages/sklearn/neighbors/_classification.py:239: DataConversionWarning: A column-vector y was passed when a 1d array was expected. Please change the shape of y to (n_samples,), for example using ravel().\n",
            "  return self._fit(X, y)\n"
          ]
        },
        {
          "output_type": "stream",
          "name": "stdout",
          "text": [
            "Model Number: 398 with model ARDL in generation 3 of 25\n",
            "Model Number: 399 with model FBProphet in generation 3 of 25\n",
            "Model Number: 400 with model LastValueNaive in generation 3 of 25\n",
            "Model Number: 401 with model DatepartRegression in generation 3 of 25\n",
            "Model Number: 402 with model SeasonalNaive in generation 3 of 25\n",
            "Model Number: 403 with model SeasonalityMotif in generation 3 of 25\n",
            "Model Number: 404 with model FBProphet in generation 3 of 25\n",
            "Model Number: 405 with model FFT in generation 3 of 25\n",
            "Model Number: 406 with model ETS in generation 3 of 25\n",
            "Template Eval Error: Exception(\"Transformer LocalLinearTrend failed on fit from params ffill {'0': {'rolling_window': 0.05, 'n_tails': 360, 'n_future': 0.2, 'method': 'median', 'macro_micro': False}, '1': {'model': 'Linear', 'phi': 1, 'window': None, 'transform_dict': None}, '2': {}, '3': {'method': 'IQR', 'method_params': {'iqr_threshold': 2.0, 'iqr_quantiles': [0.25, 0.75]}, 'fillna': 'linear', 'transform_dict': {'transformations': {'0': 'DatepartRegression'}, 'transformation_params': {'0': {'datepart_method': 'simple_3', 'regression_model': {'model': 'ElasticNet', 'model_params': {}}}}}, 'isolated_only': False, 'on_inverse': False}} with error ValueError('negative dimensions are not allowed')\") in model 406 in generation 3: ETS\n",
            "Model Number: 407 with model SeasonalityMotif in generation 3 of 25\n",
            "Model Number: 408 with model SeasonalityMotif in generation 3 of 25\n",
            "Model Number: 409 with model GLM in generation 3 of 25\n",
            "Model Number: 410 with model SeasonalityMotif in generation 3 of 25\n",
            "Model Number: 411 with model DatepartRegression in generation 3 of 25\n"
          ]
        },
        {
          "output_type": "stream",
          "name": "stderr",
          "text": [
            "/usr/local/lib/python3.11/dist-packages/statsmodels/genmod/families/links.py:198: RuntimeWarning: overflow encountered in exp\n",
            "  t = np.exp(-z)\n"
          ]
        },
        {
          "output_type": "stream",
          "name": "stdout",
          "text": [
            "Model Number: 412 with model AverageValueNaive in generation 3 of 25\n",
            "Model Number: 413 with model FFT in generation 3 of 25\n",
            "Model Number: 414 with model ETS in generation 3 of 25\n",
            "Model Number: 415 with model GLS in generation 3 of 25\n",
            "Model Number: 416 with model FFT in generation 3 of 25\n",
            "Model Number: 417 with model GLM in generation 3 of 25\n",
            "Model Number: 418 with model ARDL in generation 3 of 25\n",
            "Model Number: 419 with model ConstantNaive in generation 3 of 25\n"
          ]
        },
        {
          "output_type": "stream",
          "name": "stderr",
          "text": [
            "/usr/local/lib/python3.11/dist-packages/statsmodels/genmod/families/links.py:198: RuntimeWarning: overflow encountered in exp\n",
            "  t = np.exp(-z)\n"
          ]
        },
        {
          "output_type": "stream",
          "name": "stdout",
          "text": [
            "Model Number: 420 with model FBProphet in generation 3 of 25\n",
            "Model Number: 421 with model GLM in generation 3 of 25\n",
            "Model Number: 422 with model ETS in generation 3 of 25\n",
            "Model Number: 423 with model ETS in generation 3 of 25\n",
            "Model Number: 424 with model AverageValueNaive in generation 3 of 25\n",
            "Model Number: 425 with model BasicLinearModel in generation 3 of 25\n",
            "Template Eval Error: ValueError(\"regression_type=='User' but no future_regressor supplied\") in model 425 in generation 3: BasicLinearModel\n",
            "Model Number: 426 with model AverageValueNaive in generation 3 of 25\n",
            "Model Number: 427 with model FFT in generation 3 of 25\n",
            "Model Number: 428 with model RRVAR in generation 3 of 25\n",
            "Model Number: 429 with model LastValueNaive in generation 3 of 25\n",
            "Model Number: 430 with model RRVAR in generation 3 of 25\n",
            "Model Number: 431 with model LastValueNaive in generation 3 of 25\n",
            "Model Number: 432 with model AverageValueNaive in generation 3 of 25\n",
            "Model Number: 433 with model AverageValueNaive in generation 3 of 25\n",
            "Model Number: 434 with model RRVAR in generation 3 of 25\n",
            "Model Number: 435 with model FBProphet in generation 3 of 25\n"
          ]
        },
        {
          "output_type": "stream",
          "name": "stderr",
          "text": [
            "/usr/local/lib/python3.11/dist-packages/sklearn/neighbors/_classification.py:239: DataConversionWarning: A column-vector y was passed when a 1d array was expected. Please change the shape of y to (n_samples,), for example using ravel().\n",
            "  return self._fit(X, y)\n"
          ]
        },
        {
          "output_type": "stream",
          "name": "stdout",
          "text": [
            "Model Number: 436 with model AverageValueNaive in generation 3 of 25\n",
            "Model Number: 437 with model SeasonalityMotif in generation 3 of 25\n",
            "Template Eval Error: ValueError('kth(=19) out of bounds (11)') in model 437 in generation 3: SeasonalityMotif\n",
            "Model Number: 438 with model ARDL in generation 3 of 25\n",
            "Model Number: 439 with model ARDL in generation 3 of 25\n",
            "Model Number: 440 with model FBProphet in generation 3 of 25\n",
            "Model Number: 441 with model GLS in generation 3 of 25\n",
            "Model Number: 442 with model RRVAR in generation 3 of 25\n",
            "Model Number: 443 with model GLM in generation 3 of 25\n",
            "Model Number: 444 with model FFT in generation 3 of 25\n",
            "Model Number: 445 with model FBProphet in generation 3 of 25\n",
            "Model Number: 446 with model SeasonalNaive in generation 3 of 25\n"
          ]
        },
        {
          "output_type": "stream",
          "name": "stderr",
          "text": [
            "/usr/local/lib/python3.11/dist-packages/statsmodels/genmod/families/links.py:198: RuntimeWarning: overflow encountered in exp\n",
            "  t = np.exp(-z)\n"
          ]
        },
        {
          "output_type": "stream",
          "name": "stdout",
          "text": [
            "Model Number: 447 with model ETS in generation 3 of 25\n",
            "Model Number: 448 with model LastValueNaive in generation 3 of 25\n",
            "Template Eval Error: Exception('Transformer PCA failed on fit from params ffill {\\'0\\': {\\'rows\\': 1, \\'lag\\': 1, \\'method\\': \\'additive\\', \\'strength\\': 1.0, \\'first_value_only\\': False, \\'threshold\\': 1, \\'threshold_method\\': \\'max\\'}, \\'1\\': {\\'model\\': \\'Linear\\', \\'phi\\': 1, \\'window\\': None, \\'transform_dict\\': None}, \\'2\\': {\\'whiten\\': False, \\'n_components\\': 4}, \\'3\\': {}} with error ValueError(\"n_components=4 must be between 0 and min(n_samples, n_features)=1 with svd_solver=\\'covariance_eigh\\'\")') in model 448 in generation 3: LastValueNaive\n",
            "Model Number: 449 with model FFT in generation 3 of 25\n",
            "Model Number: 450 with model ARDL in generation 3 of 25\n",
            "Template Eval Error: ValueError(\"regression_type='User' but future_regressor not supplied\") in model 450 in generation 3: ARDL\n",
            "Model Number: 451 with model SeasonalNaive in generation 3 of 25\n",
            "Model Number: 452 with model GLS in generation 3 of 25\n",
            "Model Number: 453 with model DatepartRegression in generation 3 of 25\n",
            "Epoch 1/50\n"
          ]
        },
        {
          "output_type": "stream",
          "name": "stderr",
          "text": [
            "/usr/local/lib/python3.11/dist-packages/keras/src/layers/rnn/rnn.py:200: UserWarning: Do not pass an `input_shape`/`input_dim` argument to a layer. When using Sequential models, prefer using an `Input(shape)` object as the first layer in the model instead.\n",
            "  super().__init__(**kwargs)\n"
          ]
        },
        {
          "output_type": "stream",
          "name": "stdout",
          "text": [
            "Template Eval Error: InvalidArgumentError() in model 453 in generation 3: DatepartRegression\n",
            "Model Number: 454 with model ETS in generation 3 of 25\n",
            "Model Number: 455 with model FFT in generation 3 of 25\n",
            "Model Number: 456 with model GLM in generation 3 of 25\n",
            "Model Number: 457 with model SeasonalityMotif in generation 3 of 25\n",
            "Template Eval Error: ValueError('kth(=9) out of bounds (3)') in model 457 in generation 3: SeasonalityMotif\n",
            "Model Number: 458 with model GLS in generation 3 of 25\n",
            "Template Eval Error: Exception(\"Transformer RegressionFilter failed on fit from params ffill {'0': {'sigma': 0.5, 'rolling_window': 90, 'run_order': 'season_first', 'regression_params': {'regression_model': {'model': 'ElasticNet', 'model_params': {'l1_ratio': 0.5, 'fit_intercept': True, 'selection': 'cyclic', 'max_iter': 1000}}, 'datepart_method': 'simple_2', 'polynomial_degree': 2, 'transform_dict': None, 'holiday_countries_used': False, 'lags': None, 'forward_lags': None}, 'holiday_params': None, 'trend_method': 'local_linear'}, '1': {'model': 'Linear', 'phi': 1, 'window': None, 'transform_dict': None}, '2': {}, '3': {'rows': 1, 'lag': 7, 'method': 'additive', 'strength': 0.5, 'first_value_only': False, 'threshold': 1, 'threshold_method': 'mean'}} with error ValueError('negative dimensions are not allowed')\") in model 458 in generation 3: GLS\n",
            "Model Number: 459 with model LastValueNaive in generation 3 of 25\n",
            "Template Eval Error: ValueError(\"Model returned NaN due to a preprocessing transformer {'fillna': 'ffill', 'transformations': {'0': 'ClipOutliers', '1': 'Detrend', '2': 'DatepartRegression', '3': 'AlignLastValue', '4': 'SeasonalDifference'}, 'transformation_params': {'0': {'method': 'clip', 'std_threshold': 4, 'fillna': None}, '1': {'model': 'Linear', 'phi': 1, 'window': None, 'transform_dict': None}, '2': {'regression_model': {'model': 'RadiusRegressor', 'model_params': {}}, 'datepart_method': [52, 'quarter'], 'polynomial_degree': None, 'transform_dict': {'fillna': None, 'transformations': {'0': 'Discretize'}, 'transformation_params': {'0': {'discretization': 'center', 'n_bins': 20}}}, 'holiday_countries_used': False, 'lags': None, 'forward_lags': None}, '3': {'rows': 1, 'lag': 7, 'method': 'additive', 'strength': 0.5, 'first_value_only': False, 'threshold': 1, 'threshold_method': 'mean'}, '4': {'lag_1': 7, 'method': 'LastValue'}}}. fail_on_forecast_nan=True\") in model 459 in generation 3: LastValueNaive\n",
            "Model Number: 460 with model SeasonalNaive in generation 3 of 25\n",
            "Model Number: 461 with model DatepartRegression in generation 3 of 25\n"
          ]
        },
        {
          "output_type": "stream",
          "name": "stderr",
          "text": [
            "/usr/local/lib/python3.11/dist-packages/statsmodels/genmod/generalized_linear_model.py:308: DomainWarning: The InversePower link function does not respect the domain of the Gamma family.\n",
            "  warnings.warn((f\"The {type(family.link).__name__} link function \"\n",
            "/usr/local/lib/python3.11/dist-packages/sklearn/linear_model/_coordinate_descent.py:695: ConvergenceWarning: Objective did not converge. You might want to increase the number of iterations, check the scale of the features or consider increasing regularisation. Duality gap: 9.519e+03, tolerance: 6.416e+01\n",
            "  model = cd_fast.enet_coordinate_descent(\n",
            "/usr/local/lib/python3.11/dist-packages/sklearn/neighbors/_regression.py:508: UserWarning: One or more samples have no neighbors within specified radius; predicting NaN.\n",
            "  warnings.warn(empty_warning_msg)\n",
            "/usr/local/lib/python3.11/dist-packages/sklearn/neighbors/_regression.py:508: UserWarning: One or more samples have no neighbors within specified radius; predicting NaN.\n",
            "  warnings.warn(empty_warning_msg)\n",
            "/usr/local/lib/python3.11/dist-packages/sklearn/neighbors/_regression.py:508: UserWarning: One or more samples have no neighbors within specified radius; predicting NaN.\n",
            "  warnings.warn(empty_warning_msg)\n"
          ]
        },
        {
          "output_type": "stream",
          "name": "stdout",
          "text": [
            "Model Number: 462 with model ARDL in generation 3 of 25\n",
            "Template Eval Error: ValueError(\"ARDL series followers_gained failed with error ValueError('The number of regressors (55) including deterministics, lags of the endog, lags of the exogenous, and fixed regressors is larger than the sample available for estimation (9).') exog train             seasonalitycommonfourier_0  seasonalitycommonfourier_1  \\\\\\nperiod_end                                                           \\n2020-05-31                   -0.851148                    0.448906   \\n2020-06-30                   -0.999332                    0.997329   \\n2020-07-31                   -0.879150                    0.545811   \\n2020-08-31                   -0.514823                   -0.469915   \\n2020-09-30                   -0.024726                   -0.998777   \\n2020-10-31                    0.486908                   -0.525841   \\n2020-11-30                    0.854517                    0.460397   \\n2020-12-31                    0.999917                    0.999667   \\n2021-01-31                    0.867634                    0.505576   \\n2021-02-28                    0.538584                   -0.419855   \\n2021-03-31                    0.035473                   -0.997483   \\n\\n            seasonalitycommonfourier_2  seasonalitycommonfourier_3  \\\\\\nperiod_end                                                           \\n2020-05-31                    0.086977                    0.524926   \\n2020-06-30                   -0.993993                    0.036547   \\n2020-07-31                   -0.080549                   -0.476544   \\n2020-08-31                    0.998669                   -0.857296   \\n2020-09-30                    0.074117                   -0.999694   \\n2020-10-31                   -0.998981                   -0.873453   \\n2020-11-30                   -0.067683                   -0.519424   \\n2020-12-31                    0.999251                   -0.012901   \\n2021-01-31                    0.009676                    0.497204   \\n2021-02-28                   -0.990838                    0.842572   \\n2021-03-31                   -0.106239                    0.999371   \\n\\n            seasonalitycommonfourier_4  seasonalitycommonfourier_5  \\\\\\nperiod_end                                                           \\n2020-05-31                   -0.893579                    0.996210   \\n2020-06-30                   -0.073045                    0.109446   \\n2020-07-31                    0.837909                   -0.996751   \\n2020-08-31                    0.882712                   -0.051584   \\n2020-09-30                    0.049437                    0.997250   \\n2020-10-31                   -0.850583                    0.045141   \\n2020-11-30                   -0.887713                   -0.997707   \\n2020-12-31                   -0.025801                   -0.038696   \\n2021-01-31                    0.862782                    0.999953   \\n2021-02-28                    0.907591                    0.135055   \\n2021-03-31                    0.070900                   -0.994341   \\n\\n            seasonalitycommonfourier_6  seasonalitycommonfourier_7  \\\\\\nperiod_end                                                           \\n2020-05-31                   -0.797750                    0.272811   \\n2020-06-30                   -0.713539                    0.018277   \\n2020-07-31                   -0.614079                   -0.245815   \\n2020-08-31                   -0.503720                   -0.492533   \\n2020-09-30                   -0.388388                   -0.698310   \\n2020-10-31                   -0.262452                   -0.862238   \\n2020-11-30                   -0.136120                   -0.962943   \\n2020-12-31                   -0.003225                   -0.999979   \\n2021-01-31                    0.129727                   -0.966342   \\n2021-02-28                    0.247898                   -0.877093   \\n2021-03-31                    0.374474                   -0.719539   \\n\\n            seasonalitycommonfourier_8  seasonalitycommonfourier_9  ...  \\\\\\nperiod_end                                                          ...   \\n2020-05-31                    0.362480                   -0.851148  ...   \\n2020-06-30                    0.687457                   -0.999332  ...   \\n2020-07-31                    0.915978                   -0.879150  ...   \\n2020-08-31                    0.999917                   -0.514823  ...   \\n2020-09-30                    0.930818                   -0.024726  ...   \\n2020-10-31                    0.715044                    0.486908  ...   \\n2020-11-30                    0.398272                    0.854517  ...   \\n2020-12-31                    0.009676                    0.999917  ...   \\n2021-01-31                   -0.380447                    0.867634  ...   \\n2021-02-28                   -0.682758                    0.538584  ...   \\n2021-03-31                   -0.913370                    0.035473  ...   \\n\\n            seasonalitycommonfourier_16  seasonalitycommonfourier_17  \\\\\\nperiod_end                                                             \\n2020-05-31                    -0.602988                     0.962068   \\n2020-06-30                    -0.700615                     0.999833   \\n2020-07-31                    -0.789245                     0.969317   \\n2020-08-31                    -0.863867                     0.870294   \\n2020-09-30                    -0.921496                     0.715795   \\n2020-10-31                    -0.964945                     0.506504   \\n2020-11-30                    -0.990692                     0.269707   \\n2020-12-31                    -0.999995                     0.006451   \\n2021-01-31                    -0.991550                    -0.257261   \\n2021-02-28                    -0.968786                    -0.480321   \\n2021-03-31                    -0.927238                    -0.694452   \\n\\n            seasonalitycommonfourier_18  seasonalitycommonfourier_19  \\\\\\nperiod_end                                                             \\n2020-05-31                    -0.931992                     0.524926   \\n2020-06-30                    -0.726225                     0.036547   \\n2020-07-31                    -0.401229                    -0.476544   \\n2020-08-31                    -0.012901                    -0.857296   \\n2020-09-30                     0.365484                    -0.999694   \\n2020-10-31                     0.699079                    -0.873453   \\n2020-11-30                     0.917267                    -0.519424   \\n2020-12-31                     0.999953                    -0.012901   \\n2021-01-31                     0.924803                     0.497204   \\n2021-02-28                     0.730644                     0.842572   \\n2021-03-31                     0.407129                     0.999371   \\n\\n            seasonalitycommonfourier_20  seasonalitycommonfourier_21  \\\\\\nperiod_end                                                             \\n2020-05-31                     0.094472                    -0.675656   \\n2020-06-30                     0.674069                    -0.998497   \\n2020-07-31                     0.986501                    -0.735034   \\n2020-08-31                     0.876576                    -0.025801   \\n2020-09-30                     0.411054                     0.680398   \\n2020-10-31                    -0.240600                     0.999745   \\n2020-11-30                    -0.775859                     0.730644   \\n2020-12-31                    -0.999870                     0.019352   \\n2021-01-31                    -0.795801                    -0.703677   \\n2021-02-28                    -0.312900                    -0.997707   \\n2021-03-31                     0.341347                    -0.743720   \\n\\n            seasonalitycommonfourier_22  seasonalitycommonfourier_23  \\\\\\nperiod_end                                                             \\n2020-05-31                     0.983538                    -0.893579   \\n2020-06-30                     0.750864                    -0.073045   \\n2020-07-31                    -0.083764                     0.837909   \\n2020-08-31                    -0.850583                     0.882712   \\n2020-09-30                    -0.939570                     0.049437   \\n2020-10-31                    -0.284170                    -0.850583   \\n2020-11-30                     0.576948                    -0.887713   \\n2020-12-31                     0.999745                    -0.025801   \\n2021-01-31                     0.613230                     0.862782   \\n2021-02-28                    -0.181760                     0.907591   \\n2021-03-31                    -0.898354                     0.070900   \\n\\n            seasonalitycommonfourier_24  seasonalitycommonfourier_25  \\nperiod_end                                                            \\n2020-05-31                     0.442168                     0.188099  \\n2020-06-30                    -0.646623                     0.995827  \\n2020-07-31                    -0.945320                     0.323093  \\n2020-08-31                    -0.038696                    -0.843728  \\n2020-09-30                     0.901169                    -0.749442  \\n2020-10-31                     0.730644                     0.467065  \\n2020-11-30                    -0.335276                     0.978989  \\n2020-12-31                    -0.999579                     0.032249  \\n2021-01-31                    -0.389378                    -0.963807  \\n2021-02-28                     0.631740                    -0.594376  \\n2021-03-31                     0.951454                     0.641689  \\n\\n[11 rows x 26 columns] and predict             seasonalitycommonfourier_0  seasonalitycommonfourier_1  \\\\\\n2021-04-30                   -0.462305                   -0.572548   \\n2021-05-31                   -0.848883                    0.441204   \\n2021-06-30                   -0.999166                    0.996663   \\n2021-07-31                   -0.881192                    0.552997   \\n\\n            seasonalitycommonfourier_2  seasonalitycommonfourier_3  \\\\\\n2021-04-30                    0.991689                    0.886721   \\n2021-05-31                    0.099823                    0.528581   \\n2021-06-30                   -0.992498                    0.040844   \\n2021-07-31                   -0.093402                   -0.472759   \\n\\n            seasonalitycommonfourier_4  seasonalitycommonfourier_5  \\\\\\n2021-04-30                   -0.819871                   -0.128661   \\n2021-05-31                   -0.897407                    0.995005   \\n2021-06-30                   -0.081621                    0.122261   \\n2021-07-31                    0.833183                   -0.995628   \\n\\n            seasonalitycommonfourier_6  seasonalitycommonfourier_7  \\\\\\n2021-04-30                    0.490660                   -0.518505   \\n2021-05-31                    0.602130                   -0.274879   \\n2021-06-30                    0.699848                   -0.020426   \\n2021-07-31                    0.788584                    0.243730   \\n\\n            seasonalitycommonfourier_8  seasonalitycommonfourier_9  ...  \\\\\\n2021-04-30                   -0.999480                   -0.462305  ...   \\n2021-05-31                   -0.933156                   -0.848883  ...   \\n2021-06-30                   -0.728438                   -0.999166  ...   \\n2021-07-31                   -0.404181                   -0.881192  ...   \\n\\n            seasonalitycommonfourier_16  seasonalitycommonfourier_17  \\\\\\n2021-04-30                    -0.871351                    -0.855075   \\n2021-05-31                    -0.798398                    -0.961479   \\n2021-06-30                    -0.714292                    -0.999791   \\n2021-07-31                    -0.614927                    -0.969843   \\n\\n            seasonalitycommonfourier_18  seasonalitycommonfourier_19  \\\\\\n2021-04-30                     0.032249                     0.886721   \\n2021-05-31                    -0.359472                     0.528581   \\n2021-06-30                    -0.685111                     0.040844   \\n2021-07-31                    -0.914679                    -0.472759   \\n\\n            seasonalitycommonfourier_20  seasonalitycommonfourier_21  \\\\\\n2021-04-30                     0.837909                    -0.064464   \\n2021-05-31                     0.996021                     0.670887   \\n2021-06-30                     0.742281                     0.998123   \\n2021-07-31                     0.169058                     0.739392   \\n\\n            seasonalitycommonfourier_22  seasonalitycommonfourier_23  \\\\\\n2021-04-30                    -0.901169                    -0.819871   \\n2021-05-31                    -0.188099                    -0.897407   \\n2021-06-30                     0.654787                    -0.081621   \\n2021-07-31                     0.997088                     0.833183   \\n\\n            seasonalitycommonfourier_24  seasonalitycommonfourier_25  \\n2021-04-30                     0.096613                     0.914679  \\n2021-05-31                    -0.892612                    -0.177529  \\n2021-06-30                    -0.769031                    -0.994788  \\n2021-07-31                     0.316982                    -0.333249  \\n\\n[4 rows x 26 columns]\") in model 462 in generation 3: ARDL\n",
            "Model Number: 463 with model GLM in generation 3 of 25\n",
            "Template Eval Error: ValueError('NaN, inf or invalid value detected in weights, estimation infeasible.') in model 463 in generation 3: GLM\n",
            "Model Number: 464 with model ETS in generation 3 of 25\n",
            "Model Number: 465 with model LastValueNaive in generation 3 of 25\n",
            "Model Number: 466 with model GLS in generation 3 of 25\n",
            "Model Number: 467 with model SeasonalityMotif in generation 3 of 25\n",
            "Model Number: 468 with model BasicLinearModel in generation 3 of 25\n"
          ]
        },
        {
          "output_type": "stream",
          "name": "stderr",
          "text": [
            "/usr/local/lib/python3.11/dist-packages/statsmodels/genmod/families/family.py:1367: ValueWarning: Negative binomial dispersion parameter alpha not set. Using default value alpha=1.0.\n",
            "  warnings.warn(\"Negative binomial dispersion parameter alpha not \"\n",
            "/usr/local/lib/python3.11/dist-packages/statsmodels/genmod/families/links.py:527: RuntimeWarning: overflow encountered in exp\n",
            "  return np.exp(z)\n",
            "/usr/local/lib/python3.11/dist-packages/statsmodels/genmod/families/family.py:1402: RuntimeWarning: divide by zero encountered in divide\n",
            "  endog_mu = self._clean(endog / mu)\n",
            "/usr/local/lib/python3.11/dist-packages/statsmodels/genmod/families/family.py:1406: RuntimeWarning: divide by zero encountered in log\n",
            "  resid_dev -= endog_alpha * np.log(endog_alpha / mu_alpha)\n",
            "/usr/local/lib/python3.11/dist-packages/statsmodels/genmod/families/family.py:143: RuntimeWarning: invalid value encountered in multiply\n",
            "  return 1. / (self.link.deriv(mu)**2 * self.variance(mu))\n",
            "/usr/local/lib/python3.11/dist-packages/statsmodels/genmod/generalized_linear_model.py:1328: RuntimeWarning: invalid value encountered in multiply\n",
            "  wlsendog = (lin_pred + self.family.link.deriv(mu) * (self.endog-mu)\n",
            "/usr/local/lib/python3.11/dist-packages/autots/models/basics.py:3595: RuntimeWarning: invalid value encountered in sqrt\n",
            "  self.sigma = np.sqrt(sse / (n - p))\n"
          ]
        },
        {
          "output_type": "stream",
          "name": "stdout",
          "text": [
            "Model Number: 469 with model ETS in generation 3 of 25\n",
            "Model Number: 470 with model SeasonalNaive in generation 3 of 25\n",
            "New Generation: 4 of 25\n",
            "Model Number: 471 with model AverageValueNaive in generation 4 of 25\n",
            "Model Number: 472 with model FFT in generation 4 of 25\n",
            "Model Number: 473 with model FFT in generation 4 of 25\n",
            "Template Eval Error: Exception(\"Transformer Detrend failed on fit from params fake_date {'0': {'model': 'Gamma', 'phi': 1, 'window': 10, 'transform_dict': None}, '1': {}, '2': {}, '3': {'threshold': 0.9, 'splash_threshold': None, 'use_dayofmonth_holidays': True, 'use_wkdom_holidays': True, 'use_wkdeom_holidays': False, 'use_lunar_holidays': True, 'use_lunar_weekday': False, 'use_islamic_holidays': False, 'use_hebrew_holidays': False, 'use_hindu_holidays': True, 'anomaly_detector_params': {'method': 'zscore', 'method_params': {'distribution': 'laplace', 'alpha': 0.05}, 'fillna': 'ffill', 'transform_dict': None, 'isolated_only': True, 'on_inverse': False}, 'remove_excess_anomalies': True, 'impact': 'anomaly_score', 'regression_params': {}}, '4': {'model': 'Linear', 'phi': 1, 'window': None, 'transform_dict': {'fillna': None, 'transformations': {'0': 'ClipOutliers'}, 'transformation_params': {'0': {'method': 'clip', 'std_threshold': 4}}}}, '5': {'lag': 1, 'fill': 'bfill'}} with error ValueError('Found input variables with inconsistent numbers of samples: [10, 11]')\") in model 473 in generation 4: FFT\n",
            "Model Number: 474 with model SeasonalityMotif in generation 4 of 25\n",
            "Template Eval Error: ValueError('window shape cannot be larger than input array shape') in model 474 in generation 4: SeasonalityMotif\n",
            "Model Number: 475 with model GLM in generation 4 of 25\n",
            "Model Number: 476 with model ARDL in generation 4 of 25\n",
            "Model Number: 477 with model LastValueNaive in generation 4 of 25\n"
          ]
        },
        {
          "output_type": "stream",
          "name": "stderr",
          "text": [
            "/usr/local/lib/python3.11/dist-packages/statsmodels/genmod/families/links.py:198: RuntimeWarning: overflow encountered in exp\n",
            "  t = np.exp(-z)\n"
          ]
        },
        {
          "output_type": "stream",
          "name": "stdout",
          "text": [
            "Model Number: 478 with model DatepartRegression in generation 4 of 25\n",
            "Template Eval Error: IndexError('tuple index out of range') in model 478 in generation 4: DatepartRegression\n",
            "Model Number: 479 with model ARDL in generation 4 of 25\n",
            "Template Eval Error: Exception(\"Transformer SeasonalDifference failed on fit from params ffill {'0': {'method': 'clip', 'std_threshold': 4, 'fillna': None}, '1': {}, '2': {'center': 'mean'}, '3': {'lag_1': 12, 'method': 20}, '4': {}} with error ValueError('cannot reshape array of size 11 into shape (0,12,newaxis)')\") in model 479 in generation 4: ARDL\n",
            "Model Number: 480 with model GLS in generation 4 of 25\n",
            "Model Number: 481 with model GLM in generation 4 of 25\n",
            "Model Number: 482 with model ARDL in generation 4 of 25\n",
            "Template Eval Error: ValueError(\"ARDL series followers_gained failed with error ValueError('The number of regressors (19) including deterministics, lags of the endog, lags of the exogenous, and fixed regressors is larger than the sample available for estimation (8).') exog train             month  day  weekday  weekend  hour  quarter  midyear\\nperiod_end                                                      \\n2020-05-31      5   31        6        1     0        2        1\\n2020-06-30      6   30        1        0     0        2        1\\n2020-07-31      7   31        4        0     0        3        1\\n2020-08-31      8   31        0        0     0        3        1\\n2020-09-30      9   30        2        0     0        3        0\\n2020-10-31     10   31        5        1     0        4        0\\n2020-11-30     11   30        0        0     0        4        0\\n2020-12-31     12   31        3        0     0        4        0\\n2021-01-31      1   31        6        1     0        1        0\\n2021-02-28      2   28        6        1     0        1        0\\n2021-03-31      3   31        2        0     0        1        1 and predict             month  day  weekday  weekend  hour  quarter  midyear\\n2021-04-30      4   30        4        0     0        2        1\\n2021-05-31      5   31        0        0     0        2        1\\n2021-06-30      6   30        2        0     0        2        1\\n2021-07-31      7   31        5        1     0        3        1\") in model 482 in generation 4: ARDL\n",
            "Model Number: 483 with model ConstantNaive in generation 4 of 25\n",
            "Model Number: 484 with model AverageValueNaive in generation 4 of 25\n",
            "Model Number: 485 with model LastValueNaive in generation 4 of 25\n",
            "Model Number: 486 with model GLM in generation 4 of 25\n",
            "Template Eval Error: Exception(\"Transformer BTCD failed on fit from params ffill_mean_biased {'0': {'regression_model': {'model': 'LinearRegression', 'model_params': {}}, 'max_lags': 1}, '1': {'rows': 1, 'lag': 2, 'method': 'additive', 'strength': 1.0, 'first_value_only': False, 'threshold': None, 'threshold_method': 'max'}} with error ValueError('BTCD only works on multivarate series')\") in model 486 in generation 4: GLM\n",
            "Model Number: 487 with model GLS in generation 4 of 25\n",
            "Model Number: 488 with model GLM in generation 4 of 25\n",
            "Model Number: 489 with model LastValueNaive in generation 4 of 25\n",
            "Model Number: 490 with model FBProphet in generation 4 of 25\n"
          ]
        },
        {
          "output_type": "stream",
          "name": "stderr",
          "text": [
            "/usr/local/lib/python3.11/dist-packages/statsmodels/genmod/families/links.py:198: RuntimeWarning: overflow encountered in exp\n",
            "  t = np.exp(-z)\n"
          ]
        },
        {
          "output_type": "stream",
          "name": "stdout",
          "text": [
            "Model Number: 491 with model Cassandra in generation 4 of 25\n",
            "Model Number: 492 with model SeasonalityMotif in generation 4 of 25\n",
            "Model Number: 493 with model ETS in generation 4 of 25\n"
          ]
        },
        {
          "output_type": "stream",
          "name": "stderr",
          "text": [
            "/usr/local/lib/python3.11/dist-packages/numpy/lib/function_base.py:2897: RuntimeWarning: invalid value encountered in divide\n",
            "  c /= stddev[:, None]\n",
            "/usr/local/lib/python3.11/dist-packages/numpy/lib/function_base.py:2898: RuntimeWarning: invalid value encountered in divide\n",
            "  c /= stddev[None, :]\n"
          ]
        },
        {
          "output_type": "stream",
          "name": "stdout",
          "text": [
            "Model Number: 494 with model AverageValueNaive in generation 4 of 25\n",
            "Model Number: 495 with model ARDL in generation 4 of 25\n",
            "Template Eval Error: ValueError(\"ARDL series followers_gained failed with error ValueError('The number of regressors (118) including deterministics, lags of the endog, lags of the exogenous, and fixed regressors is larger than the sample available for estimation (10).') exog train             weekend  quarter      epoch  month_1  month_2  month_3  month_4  \\\\\\nperiod_end                                                                    \\n2020-05-31        1        2  2459000.5      0.0      0.0      0.0      0.0   \\n2020-06-30        0        2  2459030.5      0.0      0.0      0.0      0.0   \\n2020-07-31        0        3  2459061.5      0.0      0.0      0.0      0.0   \\n2020-08-31        0        3  2459092.5      0.0      0.0      0.0      0.0   \\n2020-09-30        0        3  2459122.5      0.0      0.0      0.0      0.0   \\n2020-10-31        1        4  2459153.5      0.0      0.0      0.0      0.0   \\n2020-11-30        0        4  2459183.5      0.0      0.0      0.0      0.0   \\n2020-12-31        0        4  2459214.5      0.0      0.0      0.0      0.0   \\n2021-01-31        1        1  2459245.5      1.0      0.0      0.0      0.0   \\n2021-02-28        1        1  2459273.5      0.0      1.0      0.0      0.0   \\n2021-03-31        0        1  2459304.5      0.0      0.0      1.0      0.0   \\n\\n            month_5  month_6  month_7  ...  day_27  day_28  day_29  day_30  \\\\\\nperiod_end                             ...                                   \\n2020-05-31      1.0      0.0      0.0  ...     0.0     0.0     0.0     0.0   \\n2020-06-30      0.0      1.0      0.0  ...     0.0     0.0     0.0     1.0   \\n2020-07-31      0.0      0.0      1.0  ...     0.0     0.0     0.0     0.0   \\n2020-08-31      0.0      0.0      0.0  ...     0.0     0.0     0.0     0.0   \\n2020-09-30      0.0      0.0      0.0  ...     0.0     0.0     0.0     1.0   \\n2020-10-31      0.0      0.0      0.0  ...     0.0     0.0     0.0     0.0   \\n2020-11-30      0.0      0.0      0.0  ...     0.0     0.0     0.0     1.0   \\n2020-12-31      0.0      0.0      0.0  ...     0.0     0.0     0.0     0.0   \\n2021-01-31      0.0      0.0      0.0  ...     0.0     0.0     0.0     0.0   \\n2021-02-28      0.0      0.0      0.0  ...     0.0     1.0     0.0     0.0   \\n2021-03-31      0.0      0.0      0.0  ...     0.0     0.0     0.0     0.0   \\n\\n            day_31  weekdayofmonth_1  weekdayofmonth_2  weekdayofmonth_3  \\\\\\nperiod_end                                                                 \\n2020-05-31     1.0               0.0               0.0               0.0   \\n2020-06-30     0.0               0.0               0.0               0.0   \\n2020-07-31     1.0               0.0               0.0               0.0   \\n2020-08-31     1.0               0.0               0.0               0.0   \\n2020-09-30     0.0               0.0               0.0               0.0   \\n2020-10-31     1.0               0.0               0.0               0.0   \\n2020-11-30     0.0               0.0               0.0               0.0   \\n2020-12-31     1.0               0.0               0.0               0.0   \\n2021-01-31     1.0               0.0               0.0               0.0   \\n2021-02-28     0.0               0.0               0.0               0.0   \\n2021-03-31     1.0               0.0               0.0               0.0   \\n\\n            weekdayofmonth_4  weekdayofmonth_5  \\nperiod_end                                      \\n2020-05-31               0.0               1.0  \\n2020-06-30               0.0               1.0  \\n2020-07-31               0.0               1.0  \\n2020-08-31               0.0               1.0  \\n2020-09-30               0.0               1.0  \\n2020-10-31               0.0               1.0  \\n2020-11-30               0.0               1.0  \\n2020-12-31               0.0               1.0  \\n2021-01-31               0.0               1.0  \\n2021-02-28               1.0               0.0  \\n2021-03-31               0.0               1.0  \\n\\n[11 rows x 58 columns] and predict             weekend  quarter      epoch  month_1  month_2  month_3  month_4  \\\\\\n2021-04-30        0        2  2459334.5      0.0      0.0      0.0      1.0   \\n2021-05-31        0        2  2459365.5      0.0      0.0      0.0      0.0   \\n2021-06-30        0        2  2459395.5      0.0      0.0      0.0      0.0   \\n2021-07-31        1        3  2459426.5      0.0      0.0      0.0      0.0   \\n\\n            month_5  month_6  month_7  ...  day_27  day_28  day_29  day_30  \\\\\\n2021-04-30      0.0      0.0      0.0  ...     0.0     0.0     0.0     1.0   \\n2021-05-31      1.0      0.0      0.0  ...     0.0     0.0     0.0     0.0   \\n2021-06-30      0.0      1.0      0.0  ...     0.0     0.0     0.0     1.0   \\n2021-07-31      0.0      0.0      1.0  ...     0.0     0.0     0.0     0.0   \\n\\n            day_31  weekdayofmonth_1  weekdayofmonth_2  weekdayofmonth_3  \\\\\\n2021-04-30     0.0               0.0               0.0               0.0   \\n2021-05-31     1.0               0.0               0.0               0.0   \\n2021-06-30     0.0               0.0               0.0               0.0   \\n2021-07-31     1.0               0.0               0.0               0.0   \\n\\n            weekdayofmonth_4  weekdayofmonth_5  \\n2021-04-30               0.0               1.0  \\n2021-05-31               0.0               1.0  \\n2021-06-30               0.0               1.0  \\n2021-07-31               0.0               1.0  \\n\\n[4 rows x 58 columns]\") in model 495 in generation 4: ARDL\n",
            "Model Number: 496 with model GLM in generation 4 of 25\n",
            "Template Eval Error: ValueError('NaN, inf or invalid value detected in weights, estimation infeasible.') in model 496 in generation 4: GLM\n",
            "Model Number: 497 with model RRVAR in generation 4 of 25\n"
          ]
        },
        {
          "output_type": "stream",
          "name": "stderr",
          "text": [
            "/usr/local/lib/python3.11/dist-packages/sklearn/decomposition/_fastica.py:592: UserWarning: Ignoring n_components with whiten=False.\n",
            "  warnings.warn(\"Ignoring n_components with whiten=False.\")\n",
            "/usr/local/lib/python3.11/dist-packages/statsmodels/genmod/families/family.py:445: RuntimeWarning: divide by zero encountered in divide\n",
            "  endog_mu = self._clean(endog / mu)\n",
            "/usr/local/lib/python3.11/dist-packages/statsmodels/genmod/families/family.py:143: RuntimeWarning: divide by zero encountered in divide\n",
            "  return 1. / (self.link.deriv(mu)**2 * self.variance(mu))\n",
            "/usr/local/lib/python3.11/dist-packages/sklearn/neighbors/_classification.py:239: DataConversionWarning: A column-vector y was passed when a 1d array was expected. Please change the shape of y to (n_samples,), for example using ravel().\n",
            "  return self._fit(X, y)\n"
          ]
        },
        {
          "output_type": "stream",
          "name": "stdout",
          "text": [
            "Model Number: 498 with model GLM in generation 4 of 25\n",
            "Template Eval Error: ValueError('NaN, inf or invalid value detected in weights, estimation infeasible.') in model 498 in generation 4: GLM\n",
            "Model Number: 499 with model FFT in generation 4 of 25\n",
            "Template Eval Error: Exception(\"Transformer Detrend failed on fit from params ffill {'0': {'model': 'Gamma', 'phi': 1, 'window': 10, 'transform_dict': None}, '1': {}} with error ValueError('Found input variables with inconsistent numbers of samples: [10, 11]')\") in model 499 in generation 4: FFT\n",
            "Model Number: 500 with model RRVAR in generation 4 of 25\n",
            "Model Number: 501 with model ARDL in generation 4 of 25\n",
            "Model Number: 502 with model BasicLinearModel in generation 4 of 25\n"
          ]
        },
        {
          "output_type": "stream",
          "name": "stderr",
          "text": [
            "/usr/local/lib/python3.11/dist-packages/statsmodels/genmod/families/family.py:445: RuntimeWarning: divide by zero encountered in divide\n",
            "  endog_mu = self._clean(endog / mu)\n",
            "/usr/local/lib/python3.11/dist-packages/statsmodels/genmod/families/family.py:143: RuntimeWarning: divide by zero encountered in divide\n",
            "  return 1. / (self.link.deriv(mu)**2 * self.variance(mu))\n",
            "/usr/local/lib/python3.11/dist-packages/autots/models/basics.py:3595: RuntimeWarning: invalid value encountered in sqrt\n",
            "  self.sigma = np.sqrt(sse / (n - p))\n"
          ]
        },
        {
          "output_type": "stream",
          "name": "stdout",
          "text": [
            "Model Number: 503 with model SeasonalNaive in generation 4 of 25\n",
            "Model Number: 504 with model ETS in generation 4 of 25\n",
            "Template Eval Error: ValueError(\"Model returned NaN due to a preprocessing transformer {'fillna': 'fake_date', 'transformations': {'0': 'ClipOutliers', '1': 'AlignLastValue', '2': 'AlignLastValue', '3': 'PowerTransformer'}, 'transformation_params': {'0': {'method': 'clip', 'std_threshold': 4, 'fillna': None}, '1': {'rows': 7, 'lag': 168, 'method': 'additive', 'strength': 0.9, 'first_value_only': False, 'threshold': None, 'threshold_method': 'mean'}, '2': {'rows': 1, 'lag': 7, 'method': 'additive', 'strength': 1.0, 'first_value_only': False, 'threshold': 10, 'threshold_method': 'max'}, '3': {}}}. fail_on_forecast_nan=True\") in model 504 in generation 4: ETS\n",
            "Model Number: 505 with model FBProphet in generation 4 of 25\n",
            "Model Number: 506 with model LastValueNaive in generation 4 of 25\n",
            "Model Number: 507 with model GLS in generation 4 of 25\n",
            "Model Number: 508 with model LastValueNaive in generation 4 of 25\n",
            "Model Number: 509 with model LastValueNaive in generation 4 of 25\n",
            "Model Number: 510 with model ETS in generation 4 of 25\n",
            "Model Number: 511 with model GLS in generation 4 of 25\n",
            "Model Number: 512 with model AverageValueNaive in generation 4 of 25\n",
            "Model Number: 513 with model LastValueNaive in generation 4 of 25\n",
            "Template Eval Error: Exception(\"Transformer Cointegration failed on fit from params quadratic {'0': {'lag': 1, 'fill': 'zero'}, '1': {'det_order': 0, 'k_ar_diff': 1}, '2': {}, '3': {'lag_1': 28, 'method': 'LastValue'}, '4': {}} with error ValueError('Coint only works on multivarate series')\") in model 513 in generation 4: LastValueNaive\n",
            "Model Number: 514 with model GLS in generation 4 of 25\n",
            "Model Number: 515 with model FFT in generation 4 of 25\n",
            "Model Number: 516 with model ConstantNaive in generation 4 of 25\n",
            "Model Number: 517 with model RRVAR in generation 4 of 25\n",
            "Model Number: 518 with model FFT in generation 4 of 25\n",
            "Template Eval Error: Exception(\"Transformer ScipyFilter failed on fit from params median {'0': {'regression_model': {'model': 'ElasticNet', 'model_params': {'l1_ratio': 0.5, 'fit_intercept': True, 'selection': 'cyclic', 'max_iter': 1000}}, 'datepart_method': ['morlet_365.25_12_12', 'ricker_7_7_1'], 'polynomial_degree': None, 'transform_dict': {'fillna': None, 'transformations': {'0': 'bkfilter'}, 'transformation_params': {'0': {}}}, 'holiday_countries_used': False, 'lags': None, 'forward_lags': None}, '1': {}, '2': {'lag': 1, 'fill': 'zero'}, '3': {'method': 'butter', 'method_args': {'N': 4, 'btype': 'lowpass', 'analog': False, 'output': 'sos', 'Wn': 0.03571428571428571}}, '4': {'rows': 1, 'lag': 1, 'method': 'additive', 'strength': 0.9, 'first_value_only': False, 'threshold': 10, 'threshold_method': 'max'}} with error ValueError('The length of the input vector x must be greater than padlen, which is 15.')\") in model 518 in generation 4: FFT\n",
            "Model Number: 519 with model SeasonalityMotif in generation 4 of 25\n",
            "Model Number: 520 with model FBProphet in generation 4 of 25\n"
          ]
        },
        {
          "output_type": "stream",
          "name": "stderr",
          "text": [
            "/usr/local/lib/python3.11/dist-packages/sklearn/neighbors/_classification.py:239: DataConversionWarning: A column-vector y was passed when a 1d array was expected. Please change the shape of y to (n_samples,), for example using ravel().\n",
            "  return self._fit(X, y)\n"
          ]
        },
        {
          "output_type": "stream",
          "name": "stdout",
          "text": [
            "Model Number: 521 with model FBProphet in generation 4 of 25\n",
            "Model Number: 522 with model ConstantNaive in generation 4 of 25\n",
            "Model Number: 523 with model AverageValueNaive in generation 4 of 25\n",
            "Model Number: 524 with model FFT in generation 4 of 25\n",
            "Model Number: 525 with model ARDL in generation 4 of 25\n",
            "Template Eval Error: Exception(\"Transformer LocalLinearTrend failed on fit from params zero {'0': {'method': 'clip', 'std_threshold': 3.5, 'fillna': None}, '1': {'rolling_window': 30, 'n_tails': 0.1, 'n_future': 0.2, 'method': 'median', 'macro_micro': False}, '2': {'model_name': 'AR(2)', 'state_transition': [[1, 1], [0.1, 0]], 'process_noise': [[1, 0], [0, 0]], 'observation_model': [[1, 0]], 'observation_noise': 1.0, 'em_iter': 10, 'on_transform': True, 'on_inverse': False}} with error ValueError('negative dimensions are not allowed')\") in model 525 in generation 4: ARDL\n",
            "Model Number: 526 with model FBProphet in generation 4 of 25\n",
            "Model Number: 527 with model LastValueNaive in generation 4 of 25\n",
            "Model Number: 528 with model ConstantNaive in generation 4 of 25\n",
            "Model Number: 529 with model ETS in generation 4 of 25\n",
            "Template Eval Error: Exception(\"Transformer BTCD failed on fit from params ffill {'0': {'method': 'clip', 'std_threshold': 4, 'fillna': None}, '1': {'model': 'Linear', 'phi': 1, 'window': None, 'transform_dict': None}, '2': {'method': 'IQR', 'method_params': {'iqr_threshold': 2.0, 'iqr_quantiles': [0.4, 0.6]}, 'fillna': 'ffill', 'transform_dict': None, 'isolated_only': False, 'on_inverse': False}, '3': {'rows': 1, 'lag': 7, 'method': 'additive', 'strength': 0.5, 'first_value_only': False, 'threshold': 1, 'threshold_method': 'mean'}, '4': {'regression_model': {'model': 'LinearRegression', 'model_params': {}}, 'max_lags': 1}} with error ValueError('BTCD only works on multivarate series')\") in model 529 in generation 4: ETS\n",
            "Model Number: 530 with model ARDL in generation 4 of 25\n",
            "Template Eval Error: ValueError(\"ARDL series followers_gained failed with error ValueError('The number of regressors (16) including deterministics, lags of the endog, lags of the exogenous, and fixed regressors is larger than the sample available for estimation (10).') exog train             month  day  weekday  weekend  hour  quarter  midyear\\nperiod_end                                                      \\n2020-05-31      5   31        6        1     0        2        1\\n2020-06-30      6   30        1        0     0        2        1\\n2020-07-31      7   31        4        0     0        3        1\\n2020-08-31      8   31        0        0     0        3        1\\n2020-09-30      9   30        2        0     0        3        0\\n2020-10-31     10   31        5        1     0        4        0\\n2020-11-30     11   30        0        0     0        4        0\\n2020-12-31     12   31        3        0     0        4        0\\n2021-01-31      1   31        6        1     0        1        0\\n2021-02-28      2   28        6        1     0        1        0\\n2021-03-31      3   31        2        0     0        1        1 and predict             month  day  weekday  weekend  hour  quarter  midyear\\n2021-04-30      4   30        4        0     0        2        1\\n2021-05-31      5   31        0        0     0        2        1\\n2021-06-30      6   30        2        0     0        2        1\\n2021-07-31      7   31        5        1     0        3        1\") in model 530 in generation 4: ARDL\n",
            "Model Number: 531 with model SeasonalityMotif in generation 4 of 25\n",
            "Model Number: 532 with model FBProphet in generation 4 of 25\n",
            "Template Eval Error: ValueError(\"regression_type='User' but no future_regressor passed\") in model 532 in generation 4: FBProphet\n",
            "Model Number: 533 with model DatepartRegression in generation 4 of 25\n",
            "Model Number: 534 with model FBProphet in generation 4 of 25\n",
            "Model Number: 535 with model LastValueNaive in generation 4 of 25\n"
          ]
        },
        {
          "output_type": "stream",
          "name": "stderr",
          "text": [
            "/usr/local/lib/python3.11/dist-packages/sklearn/linear_model/_coordinate_descent.py:695: ConvergenceWarning: Objective did not converge. You might want to increase the number of iterations, check the scale of the features or consider increasing regularisation. Duality gap: 3.288e-01, tolerance: 4.014e-04\n",
            "  model = cd_fast.enet_coordinate_descent(\n",
            "/usr/local/lib/python3.11/dist-packages/autots/models/basics.py:3595: RuntimeWarning: invalid value encountered in sqrt\n",
            "  self.sigma = np.sqrt(sse / (n - p))\n"
          ]
        },
        {
          "output_type": "stream",
          "name": "stdout",
          "text": [
            "Model Number: 536 with model BasicLinearModel in generation 4 of 25\n",
            "Model Number: 537 with model AverageValueNaive in generation 4 of 25\n",
            "Model Number: 538 with model ARDL in generation 4 of 25\n",
            "Model Number: 539 with model GLS in generation 4 of 25\n",
            "Template Eval Error: Exception(\"Transformer SeasonalDifference failed on fit from params zero {'0': {}, '1': {}, '2': {'rows': 1, 'lag': 1, 'method': 'additive', 'strength': 1.0, 'first_value_only': False, 'threshold': 1, 'threshold_method': 'mean'}, '3': {'lag_1': 60, 'method': 2}} with error ValueError('cannot reshape array of size 11 into shape (0,60,newaxis)')\") in model 539 in generation 4: GLS\n",
            "Model Number: 540 with model SeasonalNaive in generation 4 of 25\n",
            "Model Number: 541 with model FBProphet in generation 4 of 25\n",
            "Model Number: 542 with model RRVAR in generation 4 of 25\n",
            "Template Eval Error: Exception(\"Transformer BTCD failed on fit from params ffill {'0': {'cutoff': 0.6, 'reverse': False, 'on_transform': True, 'on_inverse': False}, '1': {'regression_model': {'model': 'FastRidge', 'model_params': {}}, 'max_lags': 2}, '2': {'method': 'IQR', 'method_params': {'iqr_threshold': 2.0, 'iqr_quantiles': [0.4, 0.6]}, 'fillna': 'ffill', 'transform_dict': None, 'isolated_only': False, 'on_inverse': False}, '3': {'rows': 1, 'lag': 7, 'method': 'additive', 'strength': 0.5, 'first_value_only': False, 'threshold': 1, 'threshold_method': 'mean'}, '4': {}} with error ValueError('BTCD only works on multivarate series')\") in model 542 in generation 4: RRVAR\n",
            "Model Number: 543 with model RRVAR in generation 4 of 25\n",
            "Template Eval Error: Exception(\"Transformer SeasonalDifference failed on fit from params ffill {'0': {'model': 'GLS', 'phi': 1, 'window': None, 'transform_dict': {'fillna': None, 'transformations': {'0': 'bkfilter'}, 'transformation_params': {'0': {}}}}, '1': {'regression_model': {'model': 'RadiusRegressor', 'model_params': {}}, 'datepart_method': 'common_fourier', 'polynomial_degree': None, 'transform_dict': None, 'holiday_countries_used': True, 'lags': None, 'forward_lags': None}, '2': {'lag_1': 12, 'method': 2}} with error ValueError('cannot reshape array of size 11 into shape (0,12,newaxis)')\") in model 543 in generation 4: RRVAR\n",
            "Model Number: 544 with model GLS in generation 4 of 25\n",
            "Model Number: 545 with model ETS in generation 4 of 25\n",
            "Model Number: 546 with model LastValueNaive in generation 4 of 25\n",
            "Model Number: 547 with model SeasonalNaive in generation 4 of 25\n",
            "Model Number: 548 with model GLM in generation 4 of 25\n",
            "Model Number: 549 with model AverageValueNaive in generation 4 of 25\n",
            "Model Number: 550 with model FBProphet in generation 4 of 25\n",
            "Model Number: 551 with model RRVAR in generation 4 of 25\n",
            "Model Number: 552 with model FBProphet in generation 4 of 25\n"
          ]
        },
        {
          "output_type": "stream",
          "name": "stderr",
          "text": [
            "/usr/local/lib/python3.11/dist-packages/sklearn/neighbors/_classification.py:239: DataConversionWarning: A column-vector y was passed when a 1d array was expected. Please change the shape of y to (n_samples,), for example using ravel().\n",
            "  return self._fit(X, y)\n"
          ]
        },
        {
          "output_type": "stream",
          "name": "stdout",
          "text": [
            "Model Number: 553 with model ETS in generation 4 of 25\n",
            "Model Number: 554 with model FBProphet in generation 4 of 25\n",
            "Template Eval Error: Exception(\"Transformer SeasonalDifference failed on fit from params ffill {'0': {'output_distribution': 'uniform', 'n_quantiles': 3}, '1': {'window_size': 30, 'alpha': 2.0, 'grouping_forward_limit': 6, 'max_level_shifts': 30, 'alignment': 'rolling_diff'}, '2': {'lag_1': 24, 'method': 20}, '3': {'theta_values': [0.2, 1.8]}, '4': {}, '5': {}} with error ValueError('cannot reshape array of size 11 into shape (0,24,newaxis)')\") in model 554 in generation 4: FBProphet\n",
            "Model Number: 555 with model SeasonalNaive in generation 4 of 25\n",
            "Model Number: 556 with model Cassandra in generation 4 of 25\n",
            "Model Number: 557 with model AverageValueNaive in generation 4 of 25\n",
            "Model Number: 558 with model DatepartRegression in generation 4 of 25\n",
            "Model Number: 559 with model GLM in generation 4 of 25\n",
            "Template Eval Error: ValueError('NaN, inf or invalid value detected in weights, estimation infeasible.') in model 559 in generation 4: GLM\n",
            "Model Number: 560 with model SeasonalNaive in generation 4 of 25\n",
            "Model Number: 561 with model ETS in generation 4 of 25\n",
            "Model Number: 562 with model FFT in generation 4 of 25\n",
            "Model Number: 563 with model BasicLinearModel in generation 4 of 25\n"
          ]
        },
        {
          "output_type": "stream",
          "name": "stderr",
          "text": [
            "/usr/local/lib/python3.11/dist-packages/statsmodels/genmod/families/family.py:445: RuntimeWarning: divide by zero encountered in divide\n",
            "  endog_mu = self._clean(endog / mu)\n",
            "/usr/local/lib/python3.11/dist-packages/statsmodels/genmod/families/family.py:143: RuntimeWarning: divide by zero encountered in divide\n",
            "  return 1. / (self.link.deriv(mu)**2 * self.variance(mu))\n",
            "/usr/local/lib/python3.11/dist-packages/autots/models/basics.py:3595: RuntimeWarning: invalid value encountered in sqrt\n",
            "  self.sigma = np.sqrt(sse / (n - p))\n"
          ]
        },
        {
          "output_type": "stream",
          "name": "stdout",
          "text": [
            "Model Number: 564 with model GLM in generation 4 of 25\n",
            "Model Number: 565 with model GLS in generation 4 of 25\n",
            "Model Number: 566 with model ConstantNaive in generation 4 of 25\n",
            "Model Number: 567 with model BasicLinearModel in generation 4 of 25\n"
          ]
        },
        {
          "output_type": "stream",
          "name": "stderr",
          "text": [
            "/usr/local/lib/python3.11/dist-packages/statsmodels/genmod/families/links.py:198: RuntimeWarning: overflow encountered in exp\n",
            "  t = np.exp(-z)\n",
            "/usr/local/lib/python3.11/dist-packages/autots/models/basics.py:3595: RuntimeWarning: invalid value encountered in sqrt\n",
            "  self.sigma = np.sqrt(sse / (n - p))\n"
          ]
        },
        {
          "output_type": "stream",
          "name": "stdout",
          "text": [
            "Model Number: 568 with model LastValueNaive in generation 4 of 25\n",
            "Model Number: 569 with model AverageValueNaive in generation 4 of 25\n",
            "Model Number: 570 with model RRVAR in generation 4 of 25\n",
            "Template Eval Error: Exception(\"Transformer SeasonalDifference failed on fit from params pchip {'0': {'rows': 1, 'lag': 1, 'method': 'additive', 'strength': 0.5, 'first_value_only': False, 'threshold': 10, 'threshold_method': 'max'}, '1': {'regression_model': {'model': 'RadiusRegressor', 'model_params': {}}, 'datepart_method': 'common_fourier', 'polynomial_degree': None, 'transform_dict': None, 'holiday_countries_used': True, 'lags': None, 'forward_lags': None}, '2': {'method': 'IQR', 'method_params': {'iqr_threshold': 2.0, 'iqr_quantiles': [0.4, 0.6]}, 'fillna': 'ffill', 'transform_dict': None, 'isolated_only': False, 'on_inverse': False}, '3': {'lag': 1, 'fill': 'bfill'}, '4': {'lag_1': 12, 'method': 2}} with error ValueError('cannot reshape array of size 11 into shape (0,12,newaxis)')\") in model 570 in generation 4: RRVAR\n",
            "Model Number: 571 with model LastValueNaive in generation 4 of 25\n",
            "Template Eval Error: Exception(\"Transformer LocalLinearTrend failed on fit from params ffill_mean_biased {'0': {'rolling_window': 360, 'n_tails': 0.1, 'n_future': 0.2, 'method': 'median', 'macro_micro': False}, '1': {'model': 'Linear', 'phi': 1, 'window': None, 'transform_dict': None}} with error ValueError('negative dimensions are not allowed')\") in model 571 in generation 4: LastValueNaive\n",
            "Model Number: 572 with model ARDL in generation 4 of 25\n",
            "Template Eval Error: ValueError(\"ARDL series followers_gained failed with error ValueError('The number of regressors (29) including deterministics, lags of the endog, lags of the exogenous, and fixed regressors is larger than the sample available for estimation (10).') exog train             seasonalitycommonfourier_0  seasonalitycommonfourier_1  \\\\\\nperiod_end                                                           \\n2020-05-31                   -0.851148                    0.448906   \\n2020-06-30                   -0.999332                    0.997329   \\n2020-07-31                   -0.879150                    0.545811   \\n2020-08-31                   -0.514823                   -0.469915   \\n2020-09-30                   -0.024726                   -0.998777   \\n2020-10-31                    0.486908                   -0.525841   \\n2020-11-30                    0.854517                    0.460397   \\n2020-12-31                    0.999917                    0.999667   \\n2021-01-31                    0.867634                    0.505576   \\n2021-02-28                    0.538584                   -0.419855   \\n2021-03-31                    0.035473                   -0.997483   \\n\\n            seasonalitycommonfourier_2  seasonalitycommonfourier_3  \\\\\\nperiod_end                                                           \\n2020-05-31                    0.086977                    0.524926   \\n2020-06-30                   -0.993993                    0.036547   \\n2020-07-31                   -0.080549                   -0.476544   \\n2020-08-31                    0.998669                   -0.857296   \\n2020-09-30                    0.074117                   -0.999694   \\n2020-10-31                   -0.998981                   -0.873453   \\n2020-11-30                   -0.067683                   -0.519424   \\n2020-12-31                    0.999251                   -0.012901   \\n2021-01-31                    0.009676                    0.497204   \\n2021-02-28                   -0.990838                    0.842572   \\n2021-03-31                   -0.106239                    0.999371   \\n\\n            seasonalitycommonfourier_4  seasonalitycommonfourier_5  \\\\\\nperiod_end                                                           \\n2020-05-31                   -0.893579                    0.996210   \\n2020-06-30                   -0.073045                    0.109446   \\n2020-07-31                    0.837909                   -0.996751   \\n2020-08-31                    0.882712                   -0.051584   \\n2020-09-30                    0.049437                    0.997250   \\n2020-10-31                   -0.850583                    0.045141   \\n2020-11-30                   -0.887713                   -0.997707   \\n2020-12-31                   -0.025801                   -0.038696   \\n2021-01-31                    0.862782                    0.999953   \\n2021-02-28                    0.907591                    0.135055   \\n2021-03-31                    0.070900                   -0.994341   \\n\\n            seasonalitycommonfourier_6  seasonalitycommonfourier_7  \\\\\\nperiod_end                                                           \\n2020-05-31                   -0.797750                    0.272811   \\n2020-06-30                   -0.713539                    0.018277   \\n2020-07-31                   -0.614079                   -0.245815   \\n2020-08-31                   -0.503720                   -0.492533   \\n2020-09-30                   -0.388388                   -0.698310   \\n2020-10-31                   -0.262452                   -0.862238   \\n2020-11-30                   -0.136120                   -0.962943   \\n2020-12-31                   -0.003225                   -0.999979   \\n2021-01-31                    0.129727                   -0.966342   \\n2021-02-28                    0.247898                   -0.877093   \\n2021-03-31                    0.374474                   -0.719539   \\n\\n            seasonalitycommonfourier_8  seasonalitycommonfourier_9  ...  \\\\\\nperiod_end                                                          ...   \\n2020-05-31                    0.362480                   -0.851148  ...   \\n2020-06-30                    0.687457                   -0.999332  ...   \\n2020-07-31                    0.915978                   -0.879150  ...   \\n2020-08-31                    0.999917                   -0.514823  ...   \\n2020-09-30                    0.930818                   -0.024726  ...   \\n2020-10-31                    0.715044                    0.486908  ...   \\n2020-11-30                    0.398272                    0.854517  ...   \\n2020-12-31                    0.009676                    0.999917  ...   \\n2021-01-31                   -0.380447                    0.867634  ...   \\n2021-02-28                   -0.682758                    0.538584  ...   \\n2021-03-31                   -0.913370                    0.035473  ...   \\n\\n            seasonalitycommonfourier_17  seasonalitycommonfourier_18  \\\\\\nperiod_end                                                             \\n2020-05-31                     0.962068                    -0.931992   \\n2020-06-30                     0.999833                    -0.726225   \\n2020-07-31                     0.969317                    -0.401229   \\n2020-08-31                     0.870294                    -0.012901   \\n2020-09-30                     0.715795                     0.365484   \\n2020-10-31                     0.506504                     0.699079   \\n2020-11-30                     0.269707                     0.917267   \\n2020-12-31                     0.006451                     0.999953   \\n2021-01-31                    -0.257261                     0.924803   \\n2021-02-28                    -0.480321                     0.730644   \\n2021-03-31                    -0.694452                     0.407129   \\n\\n            seasonalitycommonfourier_19  seasonalitycommonfourier_20  \\\\\\nperiod_end                                                             \\n2020-05-31                     0.524926                     0.094472   \\n2020-06-30                     0.036547                     0.674069   \\n2020-07-31                    -0.476544                     0.986501   \\n2020-08-31                    -0.857296                     0.876576   \\n2020-09-30                    -0.999694                     0.411054   \\n2020-10-31                    -0.873453                    -0.240600   \\n2020-11-30                    -0.519424                    -0.775859   \\n2020-12-31                    -0.012901                    -0.999870   \\n2021-01-31                     0.497204                    -0.795801   \\n2021-02-28                     0.842572                    -0.312900   \\n2021-03-31                     0.999371                     0.341347   \\n\\n            seasonalitycommonfourier_21  seasonalitycommonfourier_22  \\\\\\nperiod_end                                                             \\n2020-05-31                    -0.675656                     0.983538   \\n2020-06-30                    -0.998497                     0.750864   \\n2020-07-31                    -0.735034                    -0.083764   \\n2020-08-31                    -0.025801                    -0.850583   \\n2020-09-30                     0.680398                    -0.939570   \\n2020-10-31                     0.999745                    -0.284170   \\n2020-11-30                     0.730644                     0.576948   \\n2020-12-31                     0.019352                     0.999745   \\n2021-01-31                    -0.703677                     0.613230   \\n2021-02-28                    -0.997707                    -0.181760   \\n2021-03-31                    -0.743720                    -0.898354   \\n\\n            seasonalitycommonfourier_23  seasonalitycommonfourier_24  \\\\\\nperiod_end                                                             \\n2020-05-31                    -0.893579                     0.442168   \\n2020-06-30                    -0.073045                    -0.646623   \\n2020-07-31                     0.837909                    -0.945320   \\n2020-08-31                     0.882712                    -0.038696   \\n2020-09-30                     0.049437                     0.901169   \\n2020-10-31                    -0.850583                     0.730644   \\n2020-11-30                    -0.887713                    -0.335276   \\n2020-12-31                    -0.025801                    -0.999579   \\n2021-01-31                     0.862782                    -0.389378   \\n2021-02-28                     0.907591                     0.631740   \\n2021-03-31                     0.070900                     0.951454   \\n\\n            seasonalitycommonfourier_25  epoch  \\nperiod_end                                      \\n2020-05-31                     0.188099  14255  \\n2020-06-30                     0.995827  14255  \\n2020-07-31                     0.323093  14256  \\n2020-08-31                    -0.843728  14256  \\n2020-09-30                    -0.749442  14256  \\n2020-10-31                     0.467065  14256  \\n2020-11-30                     0.978989  14256  \\n2020-12-31                     0.032249  14256  \\n2021-01-31                    -0.963807  14256  \\n2021-02-28                    -0.594376  14256  \\n2021-03-31                     0.641689  14256  \\n\\n[11 rows x 27 columns] and predict             seasonalitycommonfourier_0  seasonalitycommonfourier_1  \\\\\\n2021-04-30                   -0.462305                   -0.572548   \\n2021-05-31                   -0.848883                    0.441204   \\n2021-06-30                   -0.999166                    0.996663   \\n2021-07-31                   -0.881192                    0.552997   \\n\\n            seasonalitycommonfourier_2  seasonalitycommonfourier_3  \\\\\\n2021-04-30                    0.991689                    0.886721   \\n2021-05-31                    0.099823                    0.528581   \\n2021-06-30                   -0.992498                    0.040844   \\n2021-07-31                   -0.093402                   -0.472759   \\n\\n            seasonalitycommonfourier_4  seasonalitycommonfourier_5  \\\\\\n2021-04-30                   -0.819871                   -0.128661   \\n2021-05-31                   -0.897407                    0.995005   \\n2021-06-30                   -0.081621                    0.122261   \\n2021-07-31                    0.833183                   -0.995628   \\n\\n            seasonalitycommonfourier_6  seasonalitycommonfourier_7  \\\\\\n2021-04-30                    0.490660                   -0.518505   \\n2021-05-31                    0.602130                   -0.274879   \\n2021-06-30                    0.699848                   -0.020426   \\n2021-07-31                    0.788584                    0.243730   \\n\\n            seasonalitycommonfourier_8  seasonalitycommonfourier_9  ...  \\\\\\n2021-04-30                   -0.999480                   -0.462305  ...   \\n2021-05-31                   -0.933156                   -0.848883  ...   \\n2021-06-30                   -0.728438                   -0.999166  ...   \\n2021-07-31                   -0.404181                   -0.881192  ...   \\n\\n            seasonalitycommonfourier_17  seasonalitycommonfourier_18  \\\\\\n2021-04-30                    -0.855075                     0.032249   \\n2021-05-31                    -0.961479                    -0.359472   \\n2021-06-30                    -0.999791                    -0.685111   \\n2021-07-31                    -0.969843                    -0.914679   \\n\\n            seasonalitycommonfourier_19  seasonalitycommonfourier_20  \\\\\\n2021-04-30                     0.886721                     0.837909   \\n2021-05-31                     0.528581                     0.996021   \\n2021-06-30                     0.040844                     0.742281   \\n2021-07-31                    -0.472759                     0.169058   \\n\\n            seasonalitycommonfourier_21  seasonalitycommonfourier_22  \\\\\\n2021-04-30                    -0.064464                    -0.901169   \\n2021-05-31                     0.670887                    -0.188099   \\n2021-06-30                     0.998123                     0.654787   \\n2021-07-31                     0.739392                     0.997088   \\n\\n            seasonalitycommonfourier_23  seasonalitycommonfourier_24  \\\\\\n2021-04-30                    -0.819871                     0.096613   \\n2021-05-31                    -0.897407                    -0.892612   \\n2021-06-30                    -0.081621                    -0.769031   \\n2021-07-31                     0.833183                     0.316982   \\n\\n            seasonalitycommonfourier_25  epoch  \\n2021-04-30                     0.914679  14257  \\n2021-05-31                    -0.177529  14257  \\n2021-06-30                    -0.994788  14257  \\n2021-07-31                    -0.333249  14257  \\n\\n[4 rows x 27 columns]\") in model 572 in generation 4: ARDL\n",
            "Model Number: 573 with model DatepartRegression in generation 4 of 25\n",
            "Model Number: 574 with model DatepartRegression in generation 4 of 25\n",
            "Template Eval Error: ValueError(\"regression_type='User' but no future_regressor passed\") in model 574 in generation 4: DatepartRegression\n",
            "Model Number: 575 with model SeasonalNaive in generation 4 of 25\n",
            "New Generation: 5 of 25\n",
            "Model Number: 576 with model FFT in generation 5 of 25\n",
            "Template Eval Error: Exception(\"Transformer SeasonalDifference failed on fit from params barycentric {'0': {'lag_1': 12, 'method': 20}} with error ValueError('cannot reshape array of size 11 into shape (0,12,newaxis)')\") in model 576 in generation 5: FFT\n",
            "Model Number: 577 with model AverageValueNaive in generation 5 of 25\n",
            "Model Number: 578 with model FBProphet in generation 5 of 25\n",
            "Model Number: 579 with model AverageValueNaive in generation 5 of 25\n",
            "Model Number: 580 with model SeasonalityMotif in generation 5 of 25\n",
            "Template Eval Error: ValueError('window shape cannot be larger than input array shape') in model 580 in generation 5: SeasonalityMotif\n",
            "Model Number: 581 with model ETS in generation 5 of 25\n",
            "Template Eval Error: Exception(\"Transformer Cointegration failed on fit from params fake_date {'0': {'rows': 1, 'lag': 1, 'method': 'additive', 'strength': 0.7, 'first_value_only': False, 'threshold': None, 'threshold_method': 'max'}, '1': {'model': 'Linear', 'phi': 1, 'window': None, 'transform_dict': None}, '2': {'det_order': -1, 'k_ar_diff': 1}, '3': {'output_distribution': 'uniform', 'n_quantiles': 'tenth'}} with error ValueError('Coint only works on multivarate series')\") in model 581 in generation 5: ETS\n",
            "Model Number: 582 with model SeasonalityMotif in generation 5 of 25\n",
            "Template Eval Error: IndexError('index -15 is out of bounds for axis 0 with size 11') in model 582 in generation 5: SeasonalityMotif\n",
            "Model Number: 583 with model AverageValueNaive in generation 5 of 25\n",
            "Model Number: 584 with model SeasonalityMotif in generation 5 of 25\n",
            "Model Number: 585 with model SeasonalNaive in generation 5 of 25\n",
            "Template Eval Error: Exception(\"Transformer Cointegration failed on fit from params ffill {'0': {'det_order': -1, 'k_ar_diff': 0}, '1': {'lag_1': 24, 'method': 'Median'}, '2': {'lag_1': 84, 'method': 'Mean'}, '3': {}} with error ValueError('Coint only works on multivarate series')\") in model 585 in generation 5: SeasonalNaive\n",
            "Model Number: 586 with model LastValueNaive in generation 5 of 25\n",
            "Model Number: 587 with model AverageValueNaive in generation 5 of 25\n",
            "Model Number: 588 with model FBProphet in generation 5 of 25\n",
            "Model Number: 589 with model FFT in generation 5 of 25\n",
            "Template Eval Error: Exception(\"Transformer BTCD failed on fit from params ffill {'0': {'rows': 1, 'lag': 1, 'method': 'additive', 'strength': 0.9, 'first_value_only': False}, '1': {'regression_model': {'model': 'FastRidge', 'model_params': {}}, 'max_lags': 2}} with error ValueError('BTCD only works on multivarate series')\") in model 589 in generation 5: FFT\n",
            "Model Number: 590 with model ConstantNaive in generation 5 of 25\n",
            "Model Number: 591 with model ConstantNaive in generation 5 of 25\n",
            "Model Number: 592 with model FFT in generation 5 of 25\n",
            "Model Number: 593 with model LastValueNaive in generation 5 of 25\n",
            "Model Number: 594 with model Cassandra in generation 5 of 25\n",
            "Template Eval Error: Exception(\"Transformer SeasonalDifference failed on fit from params zero {'0': {}, '1': {}, '2': {'model': 'Linear', 'changepoint_spacing': 60, 'changepoint_distance_end': 520, 'datepart_method': None}, '3': {'method': 'clip', 'std_threshold': 4, 'fillna': None}, '4': {'window': 3}, '5': {'lag_1': 96, 'method': 20}} with error ValueError('cannot reshape array of size 11 into shape (0,96,newaxis)')\") in model 594 in generation 5: Cassandra\n",
            "Model Number: 595 with model AverageValueNaive in generation 5 of 25\n",
            "Model Number: 596 with model GLM in generation 5 of 25\n",
            "Model Number: 597 with model SeasonalNaive in generation 5 of 25\n",
            "Model Number: 598 with model GLS in generation 5 of 25\n"
          ]
        },
        {
          "output_type": "stream",
          "name": "stderr",
          "text": [
            "/usr/local/lib/python3.11/dist-packages/statsmodels/genmod/generalized_linear_model.py:1342: PerfectSeparationWarning: Perfect separation or prediction detected, parameter may not be identified\n",
            "  warnings.warn(msg, category=PerfectSeparationWarning)\n"
          ]
        },
        {
          "output_type": "stream",
          "name": "stdout",
          "text": [
            "Model Number: 599 with model FBProphet in generation 5 of 25\n",
            "Template Eval Error: ValueError(\"regression_type='User' but no future_regressor passed\") in model 599 in generation 5: FBProphet\n",
            "Model Number: 600 with model SeasonalityMotif in generation 5 of 25\n",
            "prediction too long for indepedent=False, falling back on indepedent=True\n",
            "Template Eval Error: ValueError('kth(=9) out of bounds (3)') in model 600 in generation 5: SeasonalityMotif\n",
            "Model Number: 601 with model LastValueNaive in generation 5 of 25\n",
            "Template Eval Error: Exception(\"Transformer BTCD failed on fit from params ffill_mean_biased {'0': {'regression_model': {'model': 'LinearRegression', 'model_params': {}}, 'max_lags': 1}, '1': {'model': 'Linear', 'phi': 1, 'window': None, 'transform_dict': None}} with error ValueError('BTCD only works on multivarate series')\") in model 601 in generation 5: LastValueNaive\n",
            "Model Number: 602 with model LastValueNaive in generation 5 of 25\n",
            "Model Number: 603 with model GLS in generation 5 of 25\n",
            "Model Number: 604 with model DatepartRegression in generation 5 of 25\n",
            "Model Number: 605 with model FBProphet in generation 5 of 25\n",
            "Template Eval Error: Exception('Transformer DatepartRegression failed on fit from params ffill {\\'0\\': {\\'regression_model\\': {\\'model\\': \\'MLP\\', \\'model_params\\': {\\'hidden_layer_sizes\\': [2560], \\'max_iter\\': 250, \\'activation\\': \\'tanh\\', \\'solver\\': \\'lbfgs\\', \\'early_stopping\\': False, \\'learning_rate_init\\': 0.001, \\'alpha\\': None}}, \\'datepart_method\\': \\'common_fourier\\', \\'polynomial_degree\\': None, \\'transform_dict\\': None, \\'holiday_countries_used\\': False, \\'lags\\': None, \\'forward_lags\\': None}, \\'1\\': {\\'method\\': \\'remove\\', \\'std_threshold\\': 3.5, \\'fillna\\': \\'mean\\'}, \\'2\\': {\\'lag_1\\': 420, \\'method\\': \\'Mean\\'}, \\'3\\': {\\'rows\\': 1, \\'lag\\': 7, \\'method\\': \\'additive\\', \\'strength\\': 0.5, \\'first_value_only\\': False, \\'threshold\\': 1, \\'threshold_method\\': \\'mean\\'}} with error InvalidParameterError(\"The \\'alpha\\' parameter of MLPRegressor must be a float in the range [0.0, inf). Got None instead.\")') in model 605 in generation 5: FBProphet\n",
            "Model Number: 606 with model ETS in generation 5 of 25\n",
            "Model Number: 607 with model ETS in generation 5 of 25\n",
            "Model Number: 608 with model BasicLinearModel in generation 5 of 25\n",
            "Template Eval Error: Exception(\"Transformer FastICA failed on inverse from params zero {'0': {'algorithm': 'deflation', 'fun': 'exp', 'max_iter': 250, 'whiten': 'unit-variance'}, '1': {'rows': 1, 'lag': 1, 'method': 'additive', 'strength': 1.0, 'first_value_only': False, 'threshold': 3, 'threshold_method': 'mean'}, '2': {'window': 3}} with ValueError('Input contains NaN.')\") in model 608 in generation 5: BasicLinearModel\n",
            "Model Number: 609 with model AverageValueNaive in generation 5 of 25\n",
            "Model Number: 610 with model FFT in generation 5 of 25\n"
          ]
        },
        {
          "output_type": "stream",
          "name": "stderr",
          "text": [
            "/usr/local/lib/python3.11/dist-packages/autots/models/basics.py:3595: RuntimeWarning: invalid value encountered in sqrt\n",
            "  self.sigma = np.sqrt(sse / (n - p))\n"
          ]
        },
        {
          "output_type": "stream",
          "name": "stdout",
          "text": [
            "Model Number: 611 with model ARDL in generation 5 of 25\n",
            "Model Number: 612 with model FFT in generation 5 of 25\n",
            "Model Number: 613 with model FBProphet in generation 5 of 25\n",
            "Model Number: 614 with model LastValueNaive in generation 5 of 25\n",
            "Model Number: 615 with model ARDL in generation 5 of 25\n",
            "Model Number: 616 with model AverageValueNaive in generation 5 of 25\n",
            "Model Number: 617 with model ARDL in generation 5 of 25\n",
            "Model Number: 618 with model ConstantNaive in generation 5 of 25\n",
            "Model Number: 619 with model GLS in generation 5 of 25\n",
            "Model Number: 620 with model ARDL in generation 5 of 25\n",
            "Template Eval Error: ValueError(\"ARDL series followers_gained_theta0.5 failed with error ValueError('The number of regressors (14) including deterministics, lags of the endog, lags of the exogenous, and fixed regressors is larger than the sample available for estimation (6).') exog train             month  day  weekday  weekend       epoch\\nperiod_end                                          \\n2020-07-31      7   31        4        0  15961536.0\\n2020-08-31      8   31        0        0  15988320.0\\n2020-09-30      9   30        2        0  16014240.0\\n2020-10-31     10   31        5        1  16041024.0\\n2020-11-30     11   30        0        0  16066944.0\\n2020-12-31     12   31        3        0  16093728.0\\n2021-01-31      1   31        6        1  16120512.0\\n2021-02-28      2   28        6        1  16144704.0\\n2021-03-31      3   31        2        0  16171488.0 and predict             month  day  weekday  weekend       epoch\\n2021-04-30      4   30        4        0  16197408.0\\n2021-05-31      5   31        0        0  16224192.0\\n2021-06-30      6   30        2        0  16250112.0\\n2021-07-31      7   31        5        1  16276896.0\") in model 620 in generation 5: ARDL\n",
            "Model Number: 621 with model ETS in generation 5 of 25\n",
            "Model Number: 622 with model ARDL in generation 5 of 25\n",
            "Model Number: 623 with model FBProphet in generation 5 of 25\n",
            "Template Eval Error: Exception(\"Transformer AlignLastValue failed on fit from params ffill_mean_biased {'0': {'rows': 1, 'lag': 28, 'method': 'additive', 'strength': 1.0, 'first_value_only': False, 'threshold': 10, 'threshold_method': 'mean'}, '1': {'method': 'clip', 'std_threshold': 4, 'fillna': None}, '2': {}} with error IndexError('single positional indexer is out-of-bounds')\") in model 623 in generation 5: FBProphet\n",
            "Model Number: 624 with model SeasonalityMotif in generation 5 of 25\n",
            "Model Number: 625 with model SeasonalityMotif in generation 5 of 25\n",
            "Template Eval Error: Exception(\"Transformer STLFilter failed on fit from params zero {'0': {'decomp_type': 'seasonal_decompose', 'part': 'trend'}, '1': {'method': 0.3}, '2': {}, '3': {'rows': 84, 'lag': 1, 'method': 'additive', 'strength': 1.0, 'first_value_only': False, 'threshold': None, 'threshold_method': 'mean'}} with error ValueError('x must have 2 complete cycles requires 24 observations. x only has 11 observation(s)')\") in model 625 in generation 5: SeasonalityMotif\n",
            "Model Number: 626 with model FBProphet in generation 5 of 25\n",
            "Template Eval Error: Exception(\"Transformer AlignLastValue failed on fit from params ffill {'0': {'rows': 1, 'lag': 28, 'method': 'additive', 'strength': 1.0, 'first_value_only': False, 'threshold': 10, 'threshold_method': 'mean'}, '1': {'constant': 0, 'reintroduction_model': {'model': 'xgboost', 'model_params': {'booster': 'gbtree', 'colsample_bylevel': 0.54, 'learning_rate': 0.0125, 'max_depth': 11, 'min_child_weight': 0.0127203, 'n_estimators': 319}, 'datepart_method': 'recurring'}, 'fillna': 'akima'}, '2': {'lag_1': 7, 'method': 20}, '3': {}} with error IndexError('single positional indexer is out-of-bounds')\") in model 626 in generation 5: FBProphet\n",
            "Model Number: 627 with model RRVAR in generation 5 of 25\n",
            "Template Eval Error: Exception(\"Transformer AlignLastValue failed on fit from params ffill {'0': {'method': 'clip', 'std_threshold': 4, 'fillna': None}, '1': {'rows': 1, 'lag': 1, 'method': 'additive', 'strength': 1.0, 'first_value_only': False, 'threshold': 10, 'threshold_method': 'max'}, '2': {'method': 0.5}, '3': {'rows': 1, 'lag': 7, 'method': 'additive', 'strength': 0.5, 'first_value_only': False, 'threshold': 1, 'threshold_method': 'mean'}, '4': {'method': 'rolling_zscore', 'method_params': {'distribution': 'uniform', 'alpha': 0.05, 'rolling_periods': 200, 'center': True}, 'fillna': 'ffill', 'transform_dict': None, 'isolated_only': False, 'on_inverse': False}} with error IndexError('single positional indexer is out-of-bounds')\") in model 627 in generation 5: RRVAR\n",
            "Model Number: 628 with model SeasonalityMotif in generation 5 of 25\n",
            "Template Eval Error: Exception(\"Transformer FastICA failed on fit from params zero {'0': {'window_size': 90, 'alpha': 2.0, 'grouping_forward_limit': 3, 'max_level_shifts': 40, 'alignment': 'average'}, '1': {'lag_1': 24, 'method': 'Median'}, '2': {'method': 'IQR', 'method_params': {'iqr_threshold': 2.0, 'iqr_quantiles': [0.4, 0.6]}, 'fillna': 'ffill', 'transform_dict': None, 'isolated_only': False, 'on_inverse': False}, '3': {'algorithm': 'parallel', 'fun': 'exp', 'max_iter': 100, 'whiten': 'unit-variance'}} with error ValueError('array must not contain infs or NaNs')\") in model 628 in generation 5: SeasonalityMotif\n",
            "Model Number: 629 with model FBProphet in generation 5 of 25\n",
            "Template Eval Error: Exception(\"Transformer RegressionFilter failed on fit from params ffill_mean_biased {'0': {'regression_model': {'model': 'ElasticNet', 'model_params': {'l1_ratio': 0.5, 'fit_intercept': True, 'selection': 'cyclic', 'max_iter': 1000}}, 'datepart_method': 'common_fourier', 'polynomial_degree': None, 'transform_dict': {'fillna': None, 'transformations': {'0': 'ClipOutliers'}, 'transformation_params': {'0': {'method': 'clip', 'std_threshold': 4}}}, 'holiday_countries_used': True, 'lags': None, 'forward_lags': None}, '1': {'model': 'Linear', 'phi': 1, 'window': None, 'transform_dict': None}, '2': {'sigma': 1, 'rolling_window': 90, 'run_order': 'season_first', 'regression_params': {'regression_model': {'model': 'DecisionTree', 'model_params': {'max_depth': 3, 'min_samples_split': 1.0}}, 'datepart_method': 'simple_poly', 'polynomial_degree': None, 'transform_dict': None, 'holiday_countries_used': False, 'lags': None, 'forward_lags': None}, 'holiday_params': None, 'trend_method': 'local_linear'}, '3': {'rows': 168, 'lag': 1, 'method': 'additive', 'strength': 1.0, 'first_value_only': True, 'threshold': 10, 'threshold_method': 'max'}} with error ValueError('negative dimensions are not allowed')\") in model 629 in generation 5: FBProphet\n",
            "Model Number: 630 with model SeasonalNaive in generation 5 of 25\n",
            "Model Number: 631 with model ETS in generation 5 of 25\n"
          ]
        },
        {
          "output_type": "stream",
          "name": "stderr",
          "text": [
            "/usr/local/lib/python3.11/dist-packages/sklearn/decomposition/_fastica.py:629: RuntimeWarning: divide by zero encountered in divide\n",
            "  K = (u / d).T[:n_components]  # see (6.33) p.140\n"
          ]
        },
        {
          "output_type": "stream",
          "name": "stdout",
          "text": [
            "Model Number: 632 with model GLM in generation 5 of 25\n",
            "Template Eval Error: ValueError(\"Model returned NaN due to a preprocessing transformer {'fillna': 'ffill', 'transformations': {'0': 'LevelShiftTransformer', '1': 'SeasonalDifference', '2': 'AlignLastValue'}, 'transformation_params': {'0': {'window_size': 90, 'alpha': 2.0, 'grouping_forward_limit': 3, 'max_level_shifts': 40, 'alignment': 'average'}, '1': {'lag_1': 24, 'method': 'Median'}, '2': {'rows': 24, 'lag': 28, 'method': 'additive', 'strength': 1.0, 'first_value_only': True, 'threshold': None, 'threshold_method': 'max'}}}. fail_on_forecast_nan=True\") in model 632 in generation 5: GLM\n",
            "Model Number: 633 with model GLS in generation 5 of 25\n",
            "Model Number: 634 with model DatepartRegression in generation 5 of 25\n",
            "Model Number: 635 with model DatepartRegression in generation 5 of 25\n",
            "Model Number: 636 with model SeasonalNaive in generation 5 of 25\n",
            "Template Eval Error: Exception(\"Transformer RegressionFilter failed on fit from params ffill {'0': {}, '1': {'sigma': 0.5, 'rolling_window': 90, 'run_order': 'trend_first', 'regression_params': {'regression_model': {'model': 'ElasticNet', 'model_params': {'l1_ratio': 0.1, 'fit_intercept': True, 'selection': 'cyclic', 'max_iter': 1000}}, 'datepart_method': [24, 'dayofweek', 'is_quarter_start'], 'polynomial_degree': None, 'transform_dict': {'fillna': None, 'transformations': {'0': 'ScipyFilter'}, 'transformation_params': {'0': {'method': 'savgol_filter', 'method_args': {'window_length': 31, 'polyorder': 3, 'deriv': 0, 'mode': 'interp'}}}}, 'holiday_countries_used': False, 'lags': None, 'forward_lags': None}, 'holiday_params': None, 'trend_method': 'rolling_mean'}} with error Exception('Transformer ScipyFilter failed on fit')\") in model 636 in generation 5: SeasonalNaive\n",
            "Model Number: 637 with model SeasonalNaive in generation 5 of 25\n",
            "Model Number: 638 with model ETS in generation 5 of 25\n",
            "Model Number: 639 with model ConstantNaive in generation 5 of 25\n",
            "Model Number: 640 with model LastValueNaive in generation 5 of 25\n",
            "Template Eval Error: Exception(\"Transformer RegressionFilter failed on fit from params zero {'0': {'sigma': 1, 'rolling_window': 90, 'run_order': 'season_first', 'regression_params': {'regression_model': {'model': 'DecisionTree', 'model_params': {'max_depth': None, 'min_samples_split': 1.0}}, 'datepart_method': [52, 'quarter'], 'polynomial_degree': None, 'transform_dict': None, 'holiday_countries_used': True, 'lags': None, 'forward_lags': None}, 'holiday_params': None, 'trend_method': 'local_linear'}, '1': {'output_distribution': 'uniform', 'n_quantiles': 1000}} with error ValueError('negative dimensions are not allowed')\") in model 640 in generation 5: LastValueNaive\n",
            "Model Number: 641 with model FBProphet in generation 5 of 25\n",
            "Model Number: 642 with model GLM in generation 5 of 25\n",
            "Model Number: 643 with model ARDL in generation 5 of 25\n",
            "Template Eval Error: Exception(\"Transformer AlignLastValue failed on fit from params ffill {'0': {'center': 'mean'}, '1': {'rows': 1, 'lag': 168, 'method': 'additive', 'strength': 0.5, 'first_value_only': False, 'threshold': 1, 'threshold_method': 'max'}} with error IndexError('single positional indexer is out-of-bounds')\") in model 643 in generation 5: ARDL\n",
            "Model Number: 644 with model ARDL in generation 5 of 25\n",
            "Model Number: 645 with model GLS in generation 5 of 25\n"
          ]
        },
        {
          "output_type": "stream",
          "name": "stderr",
          "text": [
            "/usr/local/lib/python3.11/dist-packages/statsmodels/genmod/families/links.py:198: RuntimeWarning: overflow encountered in exp\n",
            "  t = np.exp(-z)\n",
            "/usr/local/lib/python3.11/dist-packages/sklearn/decomposition/_fastica.py:592: UserWarning: Ignoring n_components with whiten=False.\n",
            "  warnings.warn(\"Ignoring n_components with whiten=False.\")\n"
          ]
        },
        {
          "output_type": "stream",
          "name": "stdout",
          "text": [
            "Model Number: 646 with model DatepartRegression in generation 5 of 25\n",
            "Model Number: 647 with model FFT in generation 5 of 25\n",
            "Model Number: 648 with model Cassandra in generation 5 of 25\n",
            "Template Eval Error: ValueError('negative dimensions are not allowed') in model 648 in generation 5: Cassandra\n",
            "Model Number: 649 with model AverageValueNaive in generation 5 of 25\n",
            "Template Eval Error: Exception(\"Transformer ScipyFilter failed on fit from params ffill {'0': {'method': 'butter', 'method_args': {'N': 3, 'btype': 'highpass', 'analog': False, 'output': 'sos', 'Wn': 0.03571428571428571}}, '1': {'model': 'Linear', 'phi': 1, 'window': None, 'transform_dict': None}} with error ValueError('The length of the input vector x must be greater than padlen, which is 12.')\") in model 649 in generation 5: AverageValueNaive\n",
            "Model Number: 650 with model LastValueNaive in generation 5 of 25\n",
            "Model Number: 651 with model FFT in generation 5 of 25\n",
            "Model Number: 652 with model RRVAR in generation 5 of 25\n",
            "Model Number: 653 with model BasicLinearModel in generation 5 of 25\n",
            "Model Number: 654 with model FBProphet in generation 5 of 25\n"
          ]
        },
        {
          "output_type": "stream",
          "name": "stderr",
          "text": [
            "/usr/local/lib/python3.11/dist-packages/autots/models/basics.py:3595: RuntimeWarning: invalid value encountered in sqrt\n",
            "  self.sigma = np.sqrt(sse / (n - p))\n"
          ]
        },
        {
          "output_type": "stream",
          "name": "stdout",
          "text": [
            "Model Number: 655 with model GLS in generation 5 of 25\n",
            "Model Number: 656 with model FBProphet in generation 5 of 25\n",
            "Model Number: 657 with model FBProphet in generation 5 of 25\n",
            "Template Eval Error: ValueError(\"regression_type='User' but no future_regressor passed\") in model 657 in generation 5: FBProphet\n",
            "Model Number: 658 with model SeasonalityMotif in generation 5 of 25\n",
            "Model Number: 659 with model RRVAR in generation 5 of 25\n",
            "New Generation: 6 of 25\n"
          ]
        },
        {
          "output_type": "stream",
          "name": "stderr",
          "text": [
            "/usr/local/lib/python3.11/dist-packages/sklearn/neighbors/_classification.py:239: DataConversionWarning: A column-vector y was passed when a 1d array was expected. Please change the shape of y to (n_samples,), for example using ravel().\n",
            "  return self._fit(X, y)\n"
          ]
        },
        {
          "output_type": "stream",
          "name": "stdout",
          "text": [
            "Model Number: 660 with model AverageValueNaive in generation 6 of 25\n",
            "Model Number: 661 with model ETS in generation 6 of 25\n",
            "Model Number: 662 with model AverageValueNaive in generation 6 of 25\n",
            "Model Number: 663 with model ETS in generation 6 of 25\n",
            "Model Number: 664 with model FBProphet in generation 6 of 25\n",
            "Model Number: 665 with model SeasonalNaive in generation 6 of 25\n",
            "Model Number: 666 with model SeasonalityMotif in generation 6 of 25\n",
            "Model Number: 667 with model LastValueNaive in generation 6 of 25\n",
            "Model Number: 668 with model AverageValueNaive in generation 6 of 25\n",
            "Model Number: 669 with model SeasonalityMotif in generation 6 of 25\n",
            "Model Number: 670 with model FFT in generation 6 of 25\n",
            "Model Number: 671 with model SeasonalityMotif in generation 6 of 25\n",
            "Model Number: 672 with model LastValueNaive in generation 6 of 25\n",
            "Model Number: 673 with model ConstantNaive in generation 6 of 25\n",
            "Model Number: 674 with model ARDL in generation 6 of 25\n",
            "Model Number: 675 with model SeasonalNaive in generation 6 of 25\n",
            "Model Number: 676 with model AverageValueNaive in generation 6 of 25\n",
            "Model Number: 677 with model FBProphet in generation 6 of 25\n"
          ]
        },
        {
          "output_type": "stream",
          "name": "stderr",
          "text": [
            "/usr/local/lib/python3.11/dist-packages/sklearn/decomposition/_fastica.py:592: UserWarning: Ignoring n_components with whiten=False.\n",
            "  warnings.warn(\"Ignoring n_components with whiten=False.\")\n",
            "/usr/local/lib/python3.11/dist-packages/sklearn/decomposition/_fastica.py:127: ConvergenceWarning: FastICA did not converge. Consider increasing tolerance or the maximum number of iterations.\n",
            "  warnings.warn(\n"
          ]
        },
        {
          "output_type": "stream",
          "name": "stdout",
          "text": [
            "Model Number: 678 with model FBProphet in generation 6 of 25\n",
            "Model Number: 679 with model GLS in generation 6 of 25\n",
            "Template Eval Error: Exception(\"Transformer BTCD failed on fit from params rolling_mean {'0': {'regression_model': {'model': 'LinearRegression', 'model_params': {}}, 'max_lags': 1}, '1': {'model': 'Linear', 'phi': 1, 'window': None, 'transform_dict': None}, '2': {'rows': 1, 'lag': 1, 'method': 'additive', 'strength': 1.0, 'first_value_only': False, 'threshold': 1, 'threshold_method': 'max'}, '3': {'method': 0.3}, '4': {'decimals': -1, 'on_transform': False, 'on_inverse': True}} with error ValueError('BTCD only works on multivarate series')\") in model 679 in generation 6: GLS\n",
            "Model Number: 680 with model RRVAR in generation 6 of 25\n",
            "Model Number: 681 with model GLM in generation 6 of 25\n",
            "Model Number: 682 with model GLS in generation 6 of 25\n",
            "Model Number: 683 with model ARDL in generation 6 of 25\n",
            "Model Number: 684 with model LastValueNaive in generation 6 of 25\n"
          ]
        },
        {
          "output_type": "stream",
          "name": "stderr",
          "text": [
            "/usr/local/lib/python3.11/dist-packages/sklearn/neighbors/_classification.py:239: DataConversionWarning: A column-vector y was passed when a 1d array was expected. Please change the shape of y to (n_samples,), for example using ravel().\n",
            "  return self._fit(X, y)\n",
            "/usr/local/lib/python3.11/dist-packages/statsmodels/genmod/families/family.py:1367: ValueWarning: Negative binomial dispersion parameter alpha not set. Using default value alpha=1.0.\n",
            "  warnings.warn(\"Negative binomial dispersion parameter alpha not \"\n"
          ]
        },
        {
          "output_type": "stream",
          "name": "stdout",
          "text": [
            "Model Number: 685 with model FBProphet in generation 6 of 25\n",
            "Template Eval Error: ValueError(\"regression_type='User' but no future_regressor passed\") in model 685 in generation 6: FBProphet\n",
            "Model Number: 686 with model FBProphet in generation 6 of 25\n",
            "No anomalies detected.\n",
            "Model Number: 687 with model ARDL in generation 6 of 25\n",
            "Model Number: 688 with model GLS in generation 6 of 25\n",
            "Template Eval Error: Exception(\"Transformer AlignLastValue failed on fit from params quadratic {'0': {'whiten': True, 'n_components': None}, '1': {'lag_1': 24, 'method': 'Median'}, '2': {'rows': 1, 'lag': 168, 'method': 'additive', 'strength': 1.0, 'first_value_only': False, 'threshold': None, 'threshold_method': 'mean'}, '3': {'rolling_window': 0.1, 'n_tails': 0.1, 'n_future': 0.2, 'method': 'median', 'macro_micro': True}, '4': {'decimals': -1, 'on_transform': False, 'on_inverse': True}} with error IndexError('single positional indexer is out-of-bounds')\") in model 688 in generation 6: GLS\n",
            "Model Number: 689 with model SeasonalNaive in generation 6 of 25\n",
            "Model Number: 690 with model GLM in generation 6 of 25\n",
            "Model Number: 691 with model FBProphet in generation 6 of 25\n",
            "Model Number: 692 with model FFT in generation 6 of 25\n",
            "Model Number: 693 with model ARDL in generation 6 of 25\n"
          ]
        },
        {
          "output_type": "stream",
          "name": "stderr",
          "text": [
            "/usr/local/lib/python3.11/dist-packages/statsmodels/genmod/families/links.py:198: RuntimeWarning: overflow encountered in exp\n",
            "  t = np.exp(-z)\n"
          ]
        },
        {
          "output_type": "stream",
          "name": "stdout",
          "text": [
            "Model Number: 694 with model ARDL in generation 6 of 25\n",
            "Model Number: 695 with model FFT in generation 6 of 25\n",
            "Model Number: 696 with model RRVAR in generation 6 of 25\n",
            "Template Eval Error: LinAlgError('Array must not contain infs or NaNs') in model 696 in generation 6: RRVAR\n",
            "Model Number: 697 with model ConstantNaive in generation 6 of 25\n",
            "Template Eval Error: Exception('Transformer ChangepointDetrend failed on fit from params ffill {\\'0\\': {\\'low\\': 6, \\'high\\': 32, \\'K\\': 1, \\'lanczos_factor\\': False, \\'return_diff\\': True, \\'on_transform\\': True, \\'on_inverse\\': False}, \\'1\\': {\\'model\\': \\'Linear\\', \\'phi\\': 1, \\'window\\': None, \\'transform_dict\\': None}, \\'2\\': {\\'span\\': 7}, \\'3\\': {\\'method\\': \\'IsolationForest\\', \\'method_params\\': {\\'contamination\\': \\'auto\\', \\'n_estimators\\': 20, \\'max_features\\': 1.0, \\'bootstrap\\': False}, \\'transform_dict\\': None, \\'reverse_alignment\\': False, \\'isolated_only\\': False, \\'fillna\\': \\'linear\\'}, \\'4\\': {\\'model\\': \\'Gamma\\', \\'changepoint_spacing\\': 5040, \\'changepoint_distance_end\\': 5040, \\'datepart_method\\': \\'expanded\\'}, \\'5\\': {\\'decomp_type\\': \\'STL\\', \\'part\\': \\'trend\\', \\'seasonal\\': 363}} with error ValueError(\"Some value(s) of y are out of the valid range of the loss \\'HalfGammaLoss\\'.\")') in model 697 in generation 6: ConstantNaive\n",
            "Model Number: 698 with model SeasonalNaive in generation 6 of 25\n",
            "Model Number: 699 with model SeasonalNaive in generation 6 of 25\n",
            "Model Number: 700 with model ARDL in generation 6 of 25\n",
            "Template Eval Error: ValueError(\"regression_type='User' but future_regressor not supplied\") in model 700 in generation 6: ARDL\n",
            "Model Number: 701 with model GLM in generation 6 of 25\n"
          ]
        },
        {
          "output_type": "stream",
          "name": "stderr",
          "text": [
            "/usr/local/lib/python3.11/dist-packages/autots/models/matrix_var.py:62: RuntimeWarning: divide by zero encountered in reciprocal\n",
            "  A_tilde = u[:, :r].conj().T @ X2 @ v[:r, :].conj().T * np.reciprocal(s[:r])\n",
            "/usr/local/lib/python3.11/dist-packages/autots/models/matrix_var.py:62: RuntimeWarning: invalid value encountered in multiply\n",
            "  A_tilde = u[:, :r].conj().T @ X2 @ v[:r, :].conj().T * np.reciprocal(s[:r])\n"
          ]
        },
        {
          "output_type": "stream",
          "name": "stdout",
          "text": [
            "Model Number: 702 with model FFT in generation 6 of 25\n",
            "Model Number: 703 with model GLM in generation 6 of 25\n",
            "Template Eval Error: ValueError('regression_type=user and no future_regressor passed') in model 703 in generation 6: GLM\n",
            "Model Number: 704 with model FFT in generation 6 of 25\n",
            "Model Number: 705 with model AverageValueNaive in generation 6 of 25\n"
          ]
        },
        {
          "output_type": "stream",
          "name": "stderr",
          "text": [
            "/usr/local/lib/python3.11/dist-packages/statsmodels/genmod/families/links.py:198: RuntimeWarning: overflow encountered in exp\n",
            "  t = np.exp(-z)\n"
          ]
        },
        {
          "output_type": "stream",
          "name": "stdout",
          "text": [
            "Model Number: 706 with model BasicLinearModel in generation 6 of 25\n",
            "Model Number: 707 with model GLS in generation 6 of 25\n",
            "Model Number: 708 with model GLS in generation 6 of 25\n",
            "Model Number: 709 with model FBProphet in generation 6 of 25\n"
          ]
        },
        {
          "output_type": "stream",
          "name": "stderr",
          "text": [
            "/usr/local/lib/python3.11/dist-packages/autots/models/basics.py:3595: RuntimeWarning: invalid value encountered in sqrt\n",
            "  self.sigma = np.sqrt(sse / (n - p))\n"
          ]
        },
        {
          "output_type": "stream",
          "name": "stdout",
          "text": [
            "Model Number: 710 with model SeasonalNaive in generation 6 of 25\n",
            "Model Number: 711 with model ConstantNaive in generation 6 of 25\n",
            "Template Eval Error: Exception(\"Transformer AlignLastValue failed on fit from params ffill {'0': {}, '1': {'model': 'Linear', 'phi': 1, 'window': None, 'transform_dict': None}, '2': {'output_distribution': 'uniform', 'n_quantiles': 1}, '3': {'rows': 1, 'lag': 84, 'method': 'additive', 'strength': 0.5, 'first_value_only': False, 'threshold': 10, 'threshold_method': 'mean'}, '4': {'rows': 84, 'lag': 1, 'method': 'additive', 'strength': 1.0, 'first_value_only': False, 'threshold': 10, 'threshold_method': 'mean'}} with error IndexError('single positional indexer is out-of-bounds')\") in model 711 in generation 6: ConstantNaive\n",
            "Model Number: 712 with model LastValueNaive in generation 6 of 25\n",
            "Model Number: 713 with model AverageValueNaive in generation 6 of 25\n",
            "Model Number: 714 with model ETS in generation 6 of 25\n",
            "Model Number: 715 with model FBProphet in generation 6 of 25\n",
            "Model Number: 716 with model LastValueNaive in generation 6 of 25\n",
            "Model Number: 717 with model GLM in generation 6 of 25\n",
            "Template Eval Error: ValueError('NaN, inf or invalid value detected in weights, estimation infeasible.') in model 717 in generation 6: GLM\n",
            "Model Number: 718 with model SeasonalityMotif in generation 6 of 25\n",
            "Template Eval Error: Exception(\"Transformer ScipyFilter failed on fit from params ffill {'0': {'method': 'clip', 'std_threshold': 4, 'fillna': None}, '1': {'model': 'Linear', 'phi': 1, 'window': None, 'transform_dict': None}, '2': {}, '3': {'method': 'butter', 'method_args': {'N': 3, 'btype': 'lowpass', 'analog': False, 'output': 'sos', 'Wn': 0.0027472527472527475}}} with error ValueError('The length of the input vector x must be greater than padlen, which is 12.')\") in model 718 in generation 6: SeasonalityMotif\n",
            "Model Number: 719 with model ETS in generation 6 of 25\n",
            "Model Number: 720 with model SeasonalityMotif in generation 6 of 25\n",
            "Model Number: 721 with model DatepartRegression in generation 6 of 25\n",
            "Template Eval Error: IndexError('tuple index out of range') in model 721 in generation 6: DatepartRegression\n",
            "Model Number: 722 with model ETS in generation 6 of 25\n"
          ]
        },
        {
          "output_type": "stream",
          "name": "stderr",
          "text": [
            "/usr/local/lib/python3.11/dist-packages/statsmodels/genmod/families/family.py:1367: ValueWarning: Negative binomial dispersion parameter alpha not set. Using default value alpha=1.0.\n",
            "  warnings.warn(\"Negative binomial dispersion parameter alpha not \"\n",
            "/usr/local/lib/python3.11/dist-packages/statsmodels/genmod/families/links.py:527: RuntimeWarning: overflow encountered in exp\n",
            "  return np.exp(z)\n",
            "/usr/local/lib/python3.11/dist-packages/statsmodels/genmod/families/family.py:1402: RuntimeWarning: divide by zero encountered in divide\n",
            "  endog_mu = self._clean(endog / mu)\n",
            "/usr/local/lib/python3.11/dist-packages/statsmodels/genmod/families/family.py:1406: RuntimeWarning: divide by zero encountered in log\n",
            "  resid_dev -= endog_alpha * np.log(endog_alpha / mu_alpha)\n",
            "/usr/local/lib/python3.11/dist-packages/statsmodels/genmod/families/family.py:1406: RuntimeWarning: invalid value encountered in log\n",
            "  resid_dev -= endog_alpha * np.log(endog_alpha / mu_alpha)\n",
            "/usr/local/lib/python3.11/dist-packages/statsmodels/genmod/families/family.py:143: RuntimeWarning: invalid value encountered in multiply\n",
            "  return 1. / (self.link.deriv(mu)**2 * self.variance(mu))\n",
            "/usr/local/lib/python3.11/dist-packages/statsmodels/genmod/generalized_linear_model.py:1328: RuntimeWarning: invalid value encountered in multiply\n",
            "  wlsendog = (lin_pred + self.family.link.deriv(mu) * (self.endog-mu)\n"
          ]
        },
        {
          "output_type": "stream",
          "name": "stdout",
          "text": [
            "Model Number: 723 with model SeasonalNaive in generation 6 of 25\n",
            "Template Eval Error: Exception(\"Transformer STLFilter failed on fit from params ffill_mean_biased {'0': {'threshold': 0.9, 'splash_threshold': None, 'use_dayofmonth_holidays': True, 'use_wkdom_holidays': False, 'use_wkdeom_holidays': False, 'use_lunar_holidays': False, 'use_lunar_weekday': False, 'use_islamic_holidays': False, 'use_hebrew_holidays': False, 'use_hindu_holidays': False, 'anomaly_detector_params': {'method': 'rolling_zscore', 'method_params': {'distribution': 'norm', 'alpha': 0.01, 'rolling_periods': 300, 'center': False}, 'fillna': 'ffill', 'transform_dict': {'fillna': 'nearest', 'transformations': {'0': 'RegressionFilter'}, 'transformation_params': {'0': {'sigma': 1, 'rolling_window': 90, 'run_order': 'trend_first', 'regression_params': {'regression_model': {'model': 'ElasticNet', 'model_params': {'l1_ratio': 0.1, 'fit_intercept': True, 'selection': 'cyclic', 'max_iter': 1000}}, 'datepart_method': 'simple_binarized', 'polynomial_degree': None, 'transform_dict': {'fillna': None, 'transformations': {'0': 'ClipOutliers'}, 'transformation_params': {'0': {'method': 'clip', 'std_threshold': 4}}}, 'holiday_countries_used': True, 'lags': None, 'forward_lags': None}, 'holiday_params': None, 'trend_method': 'rolling_mean'}}}, 'isolated_only': False, 'on_inverse': False}, 'remove_excess_anomalies': True, 'impact': 'regression', 'regression_params': {}}, '1': {'decimals': 1, 'on_transform': True, 'on_inverse': False}, '2': {'decomp_type': 'seasonal_decompose', 'part': 'trend'}, '3': {}} with error ValueError('x must have 2 complete cycles requires 24 observations. x only has 11 observation(s)')\") in model 723 in generation 6: SeasonalNaive\n",
            "Model Number: 724 with model LastValueNaive in generation 6 of 25\n",
            "Model Number: 725 with model LastValueNaive in generation 6 of 25\n",
            "Model Number: 726 with model FBProphet in generation 6 of 25\n",
            "Model Number: 727 with model ETS in generation 6 of 25\n",
            "Model Number: 728 with model ARDL in generation 6 of 25\n",
            "Model Number: 729 with model FFT in generation 6 of 25\n",
            "Model Number: 730 with model FBProphet in generation 6 of 25\n",
            "Model Number: 731 with model AverageValueNaive in generation 6 of 25\n",
            "Model Number: 732 with model FFT in generation 6 of 25\n",
            "Model Number: 733 with model RRVAR in generation 6 of 25\n",
            "Template Eval Error: Exception(\"Transformer AlignLastValue failed on fit from params ffill {'0': {'window_size': 90, 'alpha': 2.0, 'grouping_forward_limit': 3, 'max_level_shifts': 40, 'alignment': 'average'}, '1': {'rows': 1, 'lag': 28, 'method': 'multiplicative', 'strength': 1.0, 'first_value_only': False, 'threshold': 1, 'threshold_method': 'max'}, '2': {'method': 'IQR', 'method_params': {'iqr_threshold': 2.0, 'iqr_quantiles': [0.4, 0.6]}, 'fillna': 'ffill', 'transform_dict': None, 'isolated_only': False, 'on_inverse': False}, '3': {'lag': 1, 'fill': 'bfill'}} with error IndexError('single positional indexer is out-of-bounds')\") in model 733 in generation 6: RRVAR\n",
            "Model Number: 734 with model RRVAR in generation 6 of 25\n",
            "Model Number: 735 with model GLM in generation 6 of 25\n",
            "Model Number: 736 with model LastValueNaive in generation 6 of 25\n",
            "Model Number: 737 with model LastValueNaive in generation 6 of 25\n",
            "Model Number: 738 with model FBProphet in generation 6 of 25\n",
            "Template Eval Error: Exception(\"Transformer BTCD failed on fit from params linear {'0': {'regression_model': {'model': 'FastRidge', 'model_params': {}}, 'max_lags': 2}, '1': {'lag_1': 24, 'method': 'Median'}, '2': {'method': 'IQR', 'method_params': {'iqr_threshold': 2.0, 'iqr_quantiles': [0.4, 0.6]}, 'fillna': 'ffill', 'transform_dict': None, 'isolated_only': False, 'on_inverse': False}, '3': {'discretization': 'upper', 'n_bins': 20}} with error ValueError('BTCD only works on multivarate series')\") in model 738 in generation 6: FBProphet\n",
            "Model Number: 739 with model ARDL in generation 6 of 25\n"
          ]
        },
        {
          "output_type": "stream",
          "name": "stderr",
          "text": [
            "/usr/local/lib/python3.11/dist-packages/sklearn/neighbors/_classification.py:239: DataConversionWarning: A column-vector y was passed when a 1d array was expected. Please change the shape of y to (n_samples,), for example using ravel().\n",
            "  return self._fit(X, y)\n",
            "/usr/local/lib/python3.11/dist-packages/sklearn/decomposition/_fastica.py:592: UserWarning: Ignoring n_components with whiten=False.\n",
            "  warnings.warn(\"Ignoring n_components with whiten=False.\")\n"
          ]
        },
        {
          "output_type": "stream",
          "name": "stdout",
          "text": [
            "Model Number: 740 with model SeasonalityMotif in generation 6 of 25\n",
            "Template Eval Error: IndexError('index -44 is out of bounds for axis 0 with size 11') in model 740 in generation 6: SeasonalityMotif\n",
            "Model Number: 741 with model RRVAR in generation 6 of 25\n",
            "Model Number: 742 with model DatepartRegression in generation 6 of 25\n",
            "Template Eval Error: ValueError(\"regression_type='User' but no future_regressor passed\") in model 742 in generation 6: DatepartRegression\n",
            "Model Number: 743 with model RRVAR in generation 6 of 25\n",
            "New Generation: 7 of 25\n",
            "Model Number: 744 with model SeasonalityMotif in generation 7 of 25\n",
            "Template Eval Error: Exception('Transformer ScipyFilter failed on fit from params zero {\\'0\\': {\\'threshold\\': 0.9, \\'splash_threshold\\': None, \\'use_dayofmonth_holidays\\': True, \\'use_wkdom_holidays\\': True, \\'use_wkdeom_holidays\\': False, \\'use_lunar_holidays\\': False, \\'use_lunar_weekday\\': False, \\'use_islamic_holidays\\': False, \\'use_hebrew_holidays\\': False, \\'use_hindu_holidays\\': True, \\'anomaly_detector_params\\': {\\'method\\': \\'zscore\\', \\'method_params\\': {\\'distribution\\': \\'uniform\\', \\'alpha\\': 0.05}, \\'fillna\\': \\'mean\\', \\'transform_dict\\': {\\'transformations\\': {\\'0\\': \\'DatepartRegression\\'}, \\'transformation_params\\': {\\'0\\': {\\'datepart_method\\': \\'simple_3\\', \\'regression_model\\': {\\'model\\': \\'FastRidge\\', \\'model_params\\': {}}}}}, \\'isolated_only\\': True, \\'on_inverse\\': False}, \\'remove_excess_anomalies\\': False, \\'impact\\': \\'regression\\', \\'regression_params\\': {}}, \\'1\\': {\\'lag_1\\': 99, \\'method\\': \\'LastValue\\'}, \\'2\\': {\\'center\\': \\'midhinge\\'}, \\'3\\': {\\'method\\': \\'savgol_filter\\', \\'method_args\\': {\\'window_length\\': 91, \\'polyorder\\': 3, \\'deriv\\': 0, \\'mode\\': \\'interp\\'}}, \\'4\\': {\\'fillna\\': \\'ffill\\', \\'center\\': \\'zero\\'}, \\'5\\': {\\'whiten\\': True, \\'n_components\\': 24}} with error ValueError(\"If mode is \\'interp\\', window_length must be less than or equal to the size of x.\")') in model 744 in generation 7: SeasonalityMotif\n",
            "Model Number: 745 with model FBProphet in generation 7 of 25\n",
            "Model Number: 746 with model LastValueNaive in generation 7 of 25\n",
            "Model Number: 747 with model AverageValueNaive in generation 7 of 25\n",
            "Model Number: 748 with model FFT in generation 7 of 25\n",
            "Model Number: 749 with model FFT in generation 7 of 25\n",
            "Model Number: 750 with model GLS in generation 7 of 25\n",
            "Model Number: 751 with model FFT in generation 7 of 25\n",
            "Model Number: 752 with model FFT in generation 7 of 25\n",
            "Model Number: 753 with model LastValueNaive in generation 7 of 25\n",
            "Model Number: 754 with model ETS in generation 7 of 25\n",
            "Model Number: 755 with model ConstantNaive in generation 7 of 25\n",
            "Model Number: 756 with model LastValueNaive in generation 7 of 25\n",
            "Model Number: 757 with model FBProphet in generation 7 of 25\n",
            "Model Number: 758 with model DatepartRegression in generation 7 of 25\n",
            "Template Eval Error: ValueError(\"regression_type='User' but no future_regressor passed\") in model 758 in generation 7: DatepartRegression\n",
            "Model Number: 759 with model SeasonalityMotif in generation 7 of 25\n",
            "Model Number: 760 with model RRVAR in generation 7 of 25\n",
            "Model Number: 761 with model SeasonalityMotif in generation 7 of 25\n",
            "Model Number: 762 with model ETS in generation 7 of 25\n",
            "Model Number: 763 with model ConstantNaive in generation 7 of 25\n",
            "Model Number: 764 with model GLS in generation 7 of 25\n",
            "Model Number: 765 with model SeasonalityMotif in generation 7 of 25\n",
            "Model Number: 766 with model SeasonalNaive in generation 7 of 25\n",
            "Model Number: 767 with model FBProphet in generation 7 of 25\n",
            "Model Number: 768 with model ARDL in generation 7 of 25\n",
            "Model Number: 769 with model GLS in generation 7 of 25\n",
            "Template Eval Error: Exception(\"Transformer AlignLastValue failed on fit from params ffill {'0': {}, '1': {'rows': 168, 'lag': 1, 'method': 'additive', 'strength': 1.0, 'first_value_only': False, 'threshold': None, 'threshold_method': 'mean'}, '2': {'method': 'IQR', 'method_params': {'iqr_threshold': 2.0, 'iqr_quantiles': [0.4, 0.6]}, 'fillna': 'ffill', 'transform_dict': None, 'isolated_only': False, 'on_inverse': False}, '3': {'decimals': 2, 'on_transform': False, 'on_inverse': True}, '4': {'rows': 1, 'lag': 28, 'method': 'additive', 'strength': 0.5, 'first_value_only': False, 'threshold': None, 'threshold_method': 'max'}} with error IndexError('single positional indexer is out-of-bounds')\") in model 769 in generation 7: GLS\n",
            "Model Number: 770 with model AverageValueNaive in generation 7 of 25\n",
            "Model Number: 771 with model GLM in generation 7 of 25\n",
            "Model Number: 772 with model FFT in generation 7 of 25\n",
            "Template Eval Error: Exception(\"Transformer STLFilter failed on fit from params ffill {'0': {'regression_model': {'model': 'ElasticNet', 'model_params': {'l1_ratio': 0.5, 'fit_intercept': True, 'selection': 'cyclic', 'max_iter': 1000}}, 'datepart_method': ['morlet_365.25_12_12', 'ricker_7_7_1'], 'polynomial_degree': None, 'transform_dict': {'fillna': None, 'transformations': {'0': 'bkfilter'}, 'transformation_params': {'0': {}}}, 'holiday_countries_used': False, 'lags': None, 'forward_lags': None}, '1': {'model': 'Linear', 'phi': 1, 'window': None, 'transform_dict': None}, '2': {'decomp_type': 'seasonal_decompose', 'part': 'trend'}} with error ValueError('x must have 2 complete cycles requires 24 observations. x only has 11 observation(s)')\") in model 772 in generation 7: FFT\n",
            "Model Number: 773 with model ARDL in generation 7 of 25\n",
            "Model Number: 774 with model GLS in generation 7 of 25\n",
            "Model Number: 775 with model ETS in generation 7 of 25\n"
          ]
        },
        {
          "output_type": "stream",
          "name": "stderr",
          "text": [
            "/usr/local/lib/python3.11/dist-packages/statsmodels/genmod/families/links.py:198: RuntimeWarning: overflow encountered in exp\n",
            "  t = np.exp(-z)\n"
          ]
        },
        {
          "output_type": "stream",
          "name": "stdout",
          "text": [
            "Model Number: 776 with model FBProphet in generation 7 of 25\n",
            "Model Number: 777 with model ARDL in generation 7 of 25\n",
            "Model Number: 778 with model AverageValueNaive in generation 7 of 25\n",
            "Model Number: 779 with model ARDL in generation 7 of 25\n",
            "Template Eval Error: ValueError(\"regression_type='User' but future_regressor not supplied\") in model 779 in generation 7: ARDL\n",
            "Model Number: 780 with model BasicLinearModel in generation 7 of 25\n",
            "Model Number: 781 with model SeasonalityMotif in generation 7 of 25\n",
            "Model Number: 782 with model ARDL in generation 7 of 25\n",
            "Model Number: 783 with model FBProphet in generation 7 of 25\n",
            "Template Eval Error: ValueError(\"regression_type='User' but no future_regressor passed\") in model 783 in generation 7: FBProphet\n",
            "Model Number: 784 with model ETS in generation 7 of 25\n"
          ]
        },
        {
          "output_type": "stream",
          "name": "stderr",
          "text": [
            "/usr/local/lib/python3.11/dist-packages/autots/models/basics.py:3595: RuntimeWarning: invalid value encountered in sqrt\n",
            "  self.sigma = np.sqrt(sse / (n - p))\n"
          ]
        },
        {
          "output_type": "stream",
          "name": "stdout",
          "text": [
            "Model Number: 785 with model SeasonalNaive in generation 7 of 25\n",
            "Model Number: 786 with model AverageValueNaive in generation 7 of 25\n",
            "Model Number: 787 with model ARDL in generation 7 of 25\n",
            "Model Number: 788 with model SeasonalNaive in generation 7 of 25\n",
            "Model Number: 789 with model AverageValueNaive in generation 7 of 25\n",
            "Model Number: 790 with model LastValueNaive in generation 7 of 25\n",
            "Template Eval Error: Exception(\"Transformer SeasonalDifference failed on fit from params rolling_mean {'0': {}, '1': {'rows': 1, 'lag': 1, 'method': 'multiplicative', 'strength': 1.0, 'first_value_only': False, 'threshold': 1, 'threshold_method': 'max'}, '2': {'lag_1': 96, 'method': 5}, '3': {'method': 'zscore', 'method_params': {'distribution': 'chi2', 'alpha': 0.03}, 'fillna': 'linear', 'transform_dict': None, 'isolated_only': False, 'on_inverse': False}} with error ValueError('cannot reshape array of size 11 into shape (0,96,newaxis)')\") in model 790 in generation 7: LastValueNaive\n",
            "Model Number: 791 with model ARDL in generation 7 of 25\n",
            "Model Number: 792 with model Cassandra in generation 7 of 25\n",
            "Template Eval Error: ValueError('negative dimensions are not allowed') in model 792 in generation 7: Cassandra\n",
            "Model Number: 793 with model ConstantNaive in generation 7 of 25\n",
            "Template Eval Error: Exception(\"Transformer ScipyFilter failed on fit from params zero {'0': {'method': 'clip', 'std_threshold': 4, 'fillna': None}, '1': {'method': 'butter', 'method_args': {'N': 7, 'btype': 'lowpass', 'analog': False, 'output': 'sos', 'Wn': 0.08333333333333333}}, '2': {'model_name': 'factor', 'state_transition': [[1, 1, 0, 0, 0, 0], [0, 1, 0, 0, 0, 0], [0, 0, 1, 0, 0, 0], [0, 0, 0, 1, 1, 0], [0, 0, 0, 0, 1, 0], [0, 0, 0, 0, 0, 1]], 'process_noise': [[1, 0, 0, 0, 0, 0], [0, 1, 0, 0, 0, 0], [0, 0, 0, 0, 0, 0], [0, 0, 1, 0, 0, 0], [0, 0, 0, 1, 0, 0], [0, 0, 0, 0, 0, 0]], 'observation_model': [[1, 0, 0, 0, 0, 0]], 'observation_noise': 0.04, 'em_iter': None, 'on_transform': True, 'on_inverse': False}} with error ValueError('The length of the input vector x must be greater than padlen, which is 24.')\") in model 793 in generation 7: ConstantNaive\n",
            "Model Number: 794 with model GLM in generation 7 of 25\n",
            "Model Number: 795 with model LastValueNaive in generation 7 of 25\n",
            "Model Number: 796 with model SeasonalityMotif in generation 7 of 25\n",
            "Model Number: 797 with model ARDL in generation 7 of 25\n"
          ]
        },
        {
          "output_type": "stream",
          "name": "stderr",
          "text": [
            "/usr/local/lib/python3.11/dist-packages/statsmodels/genmod/generalized_linear_model.py:1342: PerfectSeparationWarning: Perfect separation or prediction detected, parameter may not be identified\n",
            "  warnings.warn(msg, category=PerfectSeparationWarning)\n"
          ]
        },
        {
          "output_type": "stream",
          "name": "stdout",
          "text": [
            "Model Number: 798 with model FBProphet in generation 7 of 25\n",
            "Model Number: 799 with model SeasonalNaive in generation 7 of 25\n",
            "Model Number: 800 with model FFT in generation 7 of 25\n",
            "Model Number: 801 with model AverageValueNaive in generation 7 of 25\n"
          ]
        },
        {
          "output_type": "stream",
          "name": "stderr",
          "text": [
            "/usr/local/lib/python3.11/dist-packages/sklearn/neighbors/_classification.py:239: DataConversionWarning: A column-vector y was passed when a 1d array was expected. Please change the shape of y to (n_samples,), for example using ravel().\n",
            "  return self._fit(X, y)\n"
          ]
        },
        {
          "output_type": "stream",
          "name": "stdout",
          "text": [
            "Model Number: 802 with model LastValueNaive in generation 7 of 25\n",
            "Model Number: 803 with model ETS in generation 7 of 25\n",
            "Model Number: 804 with model ETS in generation 7 of 25\n",
            "Model Number: 805 with model ETS in generation 7 of 25\n",
            "Model Number: 806 with model BasicLinearModel in generation 7 of 25\n",
            "Model Number: 807 with model FFT in generation 7 of 25\n",
            "Model Number: 808 with model ETS in generation 7 of 25\n",
            "Model Number: 809 with model AverageValueNaive in generation 7 of 25\n",
            "Template Eval Error: Exception(\"Transformer SeasonalDifference failed on fit from params rolling_mean {'0': {'method': 'clip', 'std_threshold': 4, 'fillna': None}, '1': {}, '2': {'method': 'savgol_filter', 'method_args': {'window_length': 7, 'polyorder': 3, 'deriv': 0, 'mode': 'nearest'}}, '3': {'lag_1': 12, 'method': 2}, '4': {}, '5': {}} with error ValueError('cannot reshape array of size 11 into shape (0,12,newaxis)')\") in model 809 in generation 7: AverageValueNaive\n",
            "Model Number: 810 with model DatepartRegression in generation 7 of 25\n"
          ]
        },
        {
          "output_type": "stream",
          "name": "stderr",
          "text": [
            "/usr/local/lib/python3.11/dist-packages/autots/models/basics.py:3595: RuntimeWarning: invalid value encountered in sqrt\n",
            "  self.sigma = np.sqrt(sse / (n - p))\n"
          ]
        },
        {
          "output_type": "stream",
          "name": "stdout",
          "text": [
            "Model Number: 811 with model GLS in generation 7 of 25\n",
            "Model Number: 812 with model ConstantNaive in generation 7 of 25\n",
            "Model Number: 813 with model FFT in generation 7 of 25\n",
            "Model Number: 814 with model FFT in generation 7 of 25\n",
            "Model Number: 815 with model ARDL in generation 7 of 25\n",
            "Template Eval Error: ValueError(\"ARDL series followers_gained failed with error IndexError('tuple index out of range') exog train None and predict None\") in model 815 in generation 7: ARDL\n",
            "Model Number: 816 with model Cassandra in generation 7 of 25\n",
            "Template Eval Error: ValueError('Found array with 0 sample(s) (shape=(0, 0)) while a minimum of 1 is required by ExtraTreesRegressor.') in model 816 in generation 7: Cassandra\n",
            "Model Number: 817 with model FBProphet in generation 7 of 25\n"
          ]
        },
        {
          "output_type": "stream",
          "name": "stderr",
          "text": [
            "/usr/local/lib/python3.11/dist-packages/numpy/lib/function_base.py:2897: RuntimeWarning: invalid value encountered in divide\n",
            "  c /= stddev[:, None]\n",
            "/usr/local/lib/python3.11/dist-packages/numpy/lib/function_base.py:2898: RuntimeWarning: invalid value encountered in divide\n",
            "  c /= stddev[None, :]\n",
            "/usr/local/lib/python3.11/dist-packages/sklearn/neighbors/_classification.py:239: DataConversionWarning: A column-vector y was passed when a 1d array was expected. Please change the shape of y to (n_samples,), for example using ravel().\n",
            "  return self._fit(X, y)\n"
          ]
        },
        {
          "output_type": "stream",
          "name": "stdout",
          "text": [
            "Model Number: 818 with model FBProphet in generation 7 of 25\n",
            "Model Number: 819 with model ConstantNaive in generation 7 of 25\n",
            "Model Number: 820 with model ETS in generation 7 of 25\n",
            "Model Number: 821 with model ETS in generation 7 of 25\n",
            "Template Eval Error: Exception(\"Transformer Cointegration failed on fit from params rolling_mean {'0': {'det_order': -1, 'k_ar_diff': 2}, '1': {}, '2': {'method': 'IQR', 'method_params': {'iqr_threshold': 2.0, 'iqr_quantiles': [0.4, 0.6]}, 'fillna': 'ffill', 'transform_dict': None, 'isolated_only': False, 'on_inverse': False}} with error ValueError('Coint only works on multivarate series')\") in model 821 in generation 7: ETS\n",
            "Model Number: 822 with model LastValueNaive in generation 7 of 25\n"
          ]
        },
        {
          "output_type": "stream",
          "name": "stderr",
          "text": [
            "/usr/local/lib/python3.11/dist-packages/sklearn/neural_network/_multilayer_perceptron.py:546: ConvergenceWarning: lbfgs failed to converge (status=1):\n",
            "STOP: TOTAL NO. of ITERATIONS REACHED LIMIT.\n",
            "\n",
            "Increase the number of iterations (max_iter) or scale the data as shown in:\n",
            "    https://scikit-learn.org/stable/modules/preprocessing.html\n",
            "  self.n_iter_ = _check_optimize_result(\"lbfgs\", opt_res, self.max_iter)\n"
          ]
        },
        {
          "output_type": "stream",
          "name": "stdout",
          "text": [
            "Model Number: 823 with model FBProphet in generation 7 of 25\n",
            "Model Number: 824 with model ETS in generation 7 of 25\n",
            "Model Number: 825 with model GLS in generation 7 of 25\n",
            "Model Number: 826 with model GLS in generation 7 of 25\n",
            "Model Number: 827 with model FFT in generation 7 of 25\n",
            "New Generation: 8 of 25\n",
            "Model Number: 828 with model ARDL in generation 8 of 25\n",
            "Template Eval Error: Exception(\"Transformer Cointegration failed on fit from params linear {'0': {'span': 3}, '1': {'det_order': 1, 'k_ar_diff': 1}} with error ValueError('Coint only works on multivarate series')\") in model 828 in generation 8: ARDL\n",
            "Model Number: 829 with model GLS in generation 8 of 25\n",
            "Model Number: 830 with model SeasonalNaive in generation 8 of 25\n",
            "Model Number: 831 with model FBProphet in generation 8 of 25\n",
            "Model Number: 832 with model ConstantNaive in generation 8 of 25\n",
            "Model Number: 833 with model SeasonalityMotif in generation 8 of 25\n",
            "Model Number: 834 with model ETS in generation 8 of 25\n",
            "Model Number: 835 with model GLS in generation 8 of 25\n",
            "Model Number: 836 with model FBProphet in generation 8 of 25\n",
            "Model Number: 837 with model LastValueNaive in generation 8 of 25\n",
            "Template Eval Error: ValueError('Model LastValueNaive returned NaN for one or more series. fail_on_forecast_nan=True') in model 837 in generation 8: LastValueNaive\n",
            "Model Number: 838 with model AverageValueNaive in generation 8 of 25\n",
            "Model Number: 839 with model FBProphet in generation 8 of 25\n"
          ]
        },
        {
          "output_type": "stream",
          "name": "stderr",
          "text": [
            "/usr/local/lib/python3.11/dist-packages/autots/tools/window_functions.py:605: RuntimeWarning: invalid value encountered in divide\n",
            "  slope = (sxy - sx * sy) / (sx2 - sx**2)\n",
            "/usr/local/lib/python3.11/dist-packages/autots/tools/percentile.py:47: RuntimeWarning: All-NaN slice encountered\n",
            "  max_val = np.nanmax(arr)\n"
          ]
        },
        {
          "output_type": "stream",
          "name": "stdout",
          "text": [
            "Model Number: 840 with model SeasonalNaive in generation 8 of 25\n",
            "Model Number: 841 with model ARDL in generation 8 of 25\n",
            "Model Number: 842 with model ConstantNaive in generation 8 of 25\n",
            "Model Number: 843 with model GLM in generation 8 of 25\n",
            "Template Eval Error: ValueError('regression_type=user and no future_regressor passed') in model 843 in generation 8: GLM\n",
            "Model Number: 844 with model SeasonalityMotif in generation 8 of 25\n",
            "Model Number: 845 with model SeasonalityMotif in generation 8 of 25\n",
            "Model Number: 846 with model AverageValueNaive in generation 8 of 25\n",
            "Model Number: 847 with model SeasonalNaive in generation 8 of 25\n",
            "Model Number: 848 with model FBProphet in generation 8 of 25\n",
            "Template Eval Error: Exception(\"Transformer BTCD failed on fit from params ffill {'0': {'rows': 2}, '1': {'model': 'Linear', 'phi': 1, 'window': None, 'transform_dict': None}, '2': {'method': 'IQR', 'method_params': {'iqr_threshold': 2.0, 'iqr_quantiles': [0.4, 0.6]}, 'fillna': 'ffill', 'transform_dict': None, 'isolated_only': False, 'on_inverse': False}, '3': {'low': 28, 'high': 28, 'K': 6, 'lanczos_factor': False, 'return_diff': True, 'on_transform': False, 'on_inverse': True}, '4': {'decimals': 0, 'on_transform': True, 'on_inverse': True}, '5': {'regression_model': {'model': 'FastRidge', 'model_params': {}}, 'max_lags': 1}} with error ValueError('BTCD only works on multivarate series')\") in model 848 in generation 8: FBProphet\n",
            "Model Number: 849 with model LastValueNaive in generation 8 of 25\n",
            "Model Number: 850 with model LastValueNaive in generation 8 of 25\n",
            "Model Number: 851 with model GLS in generation 8 of 25\n"
          ]
        },
        {
          "output_type": "stream",
          "name": "stderr",
          "text": [
            "/usr/local/lib/python3.11/dist-packages/sklearn/neighbors/_classification.py:239: DataConversionWarning: A column-vector y was passed when a 1d array was expected. Please change the shape of y to (n_samples,), for example using ravel().\n",
            "  return self._fit(X, y)\n"
          ]
        },
        {
          "output_type": "stream",
          "name": "stdout",
          "text": [
            "Model Number: 852 with model LastValueNaive in generation 8 of 25\n",
            "Model Number: 853 with model SeasonalNaive in generation 8 of 25\n",
            "Model Number: 854 with model ETS in generation 8 of 25\n",
            "Model Number: 855 with model LastValueNaive in generation 8 of 25\n",
            "Model Number: 856 with model DatepartRegression in generation 8 of 25\n",
            "Model Number: 857 with model AverageValueNaive in generation 8 of 25\n",
            "Model Number: 858 with model LastValueNaive in generation 8 of 25\n",
            "Model Number: 859 with model RRVAR in generation 8 of 25\n",
            "Model Number: 860 with model FBProphet in generation 8 of 25\n",
            "Model Number: 861 with model FFT in generation 8 of 25\n",
            "Model Number: 862 with model LastValueNaive in generation 8 of 25\n",
            "Model Number: 863 with model FFT in generation 8 of 25\n",
            "Model Number: 864 with model Cassandra in generation 8 of 25\n",
            "Template Eval Error: ValueError('transformed data is all zeroes') in model 864 in generation 8: Cassandra\n",
            "Model Number: 865 with model SeasonalityMotif in generation 8 of 25\n",
            "Model Number: 866 with model LastValueNaive in generation 8 of 25\n",
            "Model Number: 867 with model ARDL in generation 8 of 25\n",
            "Model Number: 868 with model ARDL in generation 8 of 25\n",
            "Model Number: 869 with model GLS in generation 8 of 25\n"
          ]
        },
        {
          "output_type": "stream",
          "name": "stderr",
          "text": [
            "/usr/local/lib/python3.11/dist-packages/sklearn/neighbors/_classification.py:239: DataConversionWarning: A column-vector y was passed when a 1d array was expected. Please change the shape of y to (n_samples,), for example using ravel().\n",
            "  return self._fit(X, y)\n"
          ]
        },
        {
          "output_type": "stream",
          "name": "stdout",
          "text": [
            "Model Number: 870 with model ETS in generation 8 of 25\n",
            "Model Number: 871 with model FFT in generation 8 of 25\n",
            "Model Number: 872 with model ETS in generation 8 of 25\n",
            "Model Number: 873 with model FBProphet in generation 8 of 25\n",
            "Model Number: 874 with model LastValueNaive in generation 8 of 25\n",
            "Template Eval Error: ValueError('Model LastValueNaive returned NaN for one or more series. fail_on_forecast_nan=True') in model 874 in generation 8: LastValueNaive\n",
            "Model Number: 875 with model ARDL in generation 8 of 25\n",
            "Model Number: 876 with model FFT in generation 8 of 25\n",
            "Model Number: 877 with model GLM in generation 8 of 25\n"
          ]
        },
        {
          "output_type": "stream",
          "name": "stderr",
          "text": [
            "/usr/local/lib/python3.11/dist-packages/autots/tools/window_functions.py:605: RuntimeWarning: invalid value encountered in divide\n",
            "  slope = (sxy - sx * sy) / (sx2 - sx**2)\n",
            "/usr/local/lib/python3.11/dist-packages/autots/tools/percentile.py:47: RuntimeWarning: All-NaN slice encountered\n",
            "  max_val = np.nanmax(arr)\n",
            "/usr/local/lib/python3.11/dist-packages/statsmodels/genmod/generalized_linear_model.py:1342: PerfectSeparationWarning: Perfect separation or prediction detected, parameter may not be identified\n",
            "  warnings.warn(msg, category=PerfectSeparationWarning)\n"
          ]
        },
        {
          "output_type": "stream",
          "name": "stdout",
          "text": [
            "Model Number: 878 with model ETS in generation 8 of 25\n",
            "Model Number: 879 with model AverageValueNaive in generation 8 of 25\n",
            "Model Number: 880 with model SeasonalNaive in generation 8 of 25\n",
            "Model Number: 881 with model GLS in generation 8 of 25\n",
            "Model Number: 882 with model FBProphet in generation 8 of 25\n",
            "Model Number: 883 with model ETS in generation 8 of 25\n",
            "Model Number: 884 with model FBProphet in generation 8 of 25\n",
            "Model Number: 885 with model SeasonalNaive in generation 8 of 25\n",
            "Template Eval Error: Exception(\"Transformer BTCD failed on fit from params median {'0': {'regression_model': {'model': 'FastRidge', 'model_params': {}}, 'max_lags': 2}, '1': {}, '2': {'method': 'IQR', 'method_params': {'iqr_threshold': 2.0, 'iqr_quantiles': [0.25, 0.75]}, 'fillna': 'linear', 'transform_dict': {'fillna': None, 'transformations': {'0': 'EWMAFilter'}, 'transformation_params': {'0': {'span': 7}}}, 'isolated_only': True, 'on_inverse': True}} with error ValueError('BTCD only works on multivarate series')\") in model 885 in generation 8: SeasonalNaive\n",
            "Model Number: 886 with model GLS in generation 8 of 25\n",
            "Model Number: 887 with model AverageValueNaive in generation 8 of 25\n",
            "Model Number: 888 with model BasicLinearModel in generation 8 of 25\n",
            "Template Eval Error: Exception(\"Transformer BTCD failed on fit from params ffill_mean_biased {'0': {}, '1': {'method': 'IQR', 'method_params': {'iqr_threshold': 2.5, 'iqr_quantiles': [0.25, 0.75]}, 'fillna': 'linear', 'transform_dict': {'fillna': 'ffill', 'transformations': {'0': 'FFTFilter', '1': 'HolidayTransformer'}, 'transformation_params': {'0': {'cutoff': 0.1, 'reverse': False, 'on_transform': True, 'on_inverse': False}, '1': {'threshold': 0.9, 'splash_threshold': None, 'use_dayofmonth_holidays': True, 'use_wkdom_holidays': False, 'use_wkdeom_holidays': False, 'use_lunar_holidays': False, 'use_lunar_weekday': False, 'use_islamic_holidays': False, 'use_hebrew_holidays': False, 'use_hindu_holidays': False, 'anomaly_detector_params': {'method': 'zscore', 'method_params': {'distribution': 'chi2', 'alpha': 0.1}, 'fillna': 'rolling_mean_24', 'transform_dict': {'transformations': {'0': 'DatepartRegression'}, 'transformation_params': {'0': {'datepart_method': 'simple_3', 'regression_model': {'model': 'DecisionTree', 'model_params': {'max_depth': None, 'min_samples_split': 0.1}}}}}, 'isolated_only': False, 'on_inverse': False}, 'remove_excess_anomalies': True, 'impact': 'datepart_regression', 'regression_params': {'regression_model': {'model': 'ElasticNet', 'model_params': {'l1_ratio': 0.5, 'fit_intercept': True, 'selection': 'cyclic', 'max_iter': 1000}}, 'datepart_method': 'simple_binarized', 'polynomial_degree': None, 'transform_dict': None, 'holiday_countries_used': False, 'lags': None, 'forward_lags': None}}}}, 'isolated_only': False, 'on_inverse': False}, '2': {'regression_model': {'model': 'LinearRegression', 'model_params': {}}, 'max_lags': 1}, '3': {'rows': 1, 'lag': 1, 'method': 'additive', 'strength': 1.0, 'first_value_only': False, 'threshold': None, 'threshold_method': 'mean'}, '4': {}, '5': {'regression_model': {'model': 'FastRidge', 'model_params': {}}, 'max_lags': 2}} with error ValueError('BTCD only works on multivarate series')\") in model 888 in generation 8: BasicLinearModel\n",
            "Model Number: 889 with model DatepartRegression in generation 8 of 25\n",
            "Template Eval Error: IndexError('tuple index out of range') in model 889 in generation 8: DatepartRegression\n",
            "Model Number: 890 with model FFT in generation 8 of 25\n",
            "Model Number: 891 with model ARDL in generation 8 of 25\n",
            "Model Number: 892 with model ARDL in generation 8 of 25\n",
            "Model Number: 893 with model ETS in generation 8 of 25\n",
            "Model Number: 894 with model SeasonalityMotif in generation 8 of 25\n",
            "Template Eval Error: Exception(\"Transformer STLFilter failed on fit from params fake_date {'0': {'model': 'Tweedie', 'changepoint_spacing': 180, 'changepoint_distance_end': 6, 'datepart_method': None}, '1': {'decomp_type': 'seasonal_decompose', 'part': 'trend'}, '2': {'low': 6, 'high': 32, 'K': 3, 'lanczos_factor': False, 'return_diff': False, 'on_transform': True, 'on_inverse': False}, '3': {'window': 3}, '4': {'rows': 1}} with error ValueError('x must have 2 complete cycles requires 24 observations. x only has 11 observation(s)')\") in model 894 in generation 8: SeasonalityMotif\n",
            "Model Number: 895 with model RRVAR in generation 8 of 25\n",
            "Model Number: 896 with model DatepartRegression in generation 8 of 25\n",
            "Model Number: 897 with model ARDL in generation 8 of 25\n",
            "Template Eval Error: Exception(\"Transformer SeasonalDifference failed on fit from params ffill {'0': {'method': 'clip', 'std_threshold': 3.5, 'fillna': None}, '1': {'lag_1': 420, 'method': 20}, '2': {'method': 'IQR', 'method_params': {'iqr_threshold': 2.0, 'iqr_quantiles': [0.4, 0.6]}, 'fillna': 'ffill', 'transform_dict': None, 'isolated_only': False, 'on_inverse': False}} with error ValueError('cannot reshape array of size 11 into shape (0,420,newaxis)')\") in model 897 in generation 8: ARDL\n",
            "Model Number: 898 with model GLM in generation 8 of 25\n",
            "Template Eval Error: ValueError('regression_type=user and no future_regressor passed') in model 898 in generation 8: GLM\n",
            "Model Number: 899 with model AverageValueNaive in generation 8 of 25\n",
            "Model Number: 900 with model ETS in generation 8 of 25\n",
            "Model Number: 901 with model AverageValueNaive in generation 8 of 25\n",
            "Model Number: 902 with model FBProphet in generation 8 of 25\n",
            "Model Number: 903 with model FBProphet in generation 8 of 25\n",
            "Model Number: 904 with model SeasonalNaive in generation 8 of 25\n",
            "Model Number: 905 with model SeasonalNaive in generation 8 of 25\n",
            "Model Number: 906 with model FFT in generation 8 of 25\n",
            "Template Eval Error: Exception(\"Transformer DatepartRegression failed on fit from params akima {'0': {'regression_model': {'model': 'DecisionTree', 'model_params': {'max_depth': None, 'min_samples_split': 2}}, 'datepart_method': 'simple_binarized', 'polynomial_degree': None, 'transform_dict': {'fillna': None, 'transformations': {'0': 'ScipyFilter'}, 'transformation_params': {'0': {'method': 'savgol_filter', 'method_args': {'window_length': 31, 'polyorder': 3, 'deriv': 0, 'mode': 'interp'}}}}, 'holiday_countries_used': True, 'lags': None, 'forward_lags': None}, '1': {'model': 'Linear', 'phi': 1, 'window': None, 'transform_dict': None}, '2': {'model': 'GLS', 'phi': 1, 'window': None, 'transform_dict': None}, '3': {'span': 28}} with error Exception('Transformer ScipyFilter failed on fit')\") in model 906 in generation 8: FFT\n",
            "Model Number: 907 with model ETS in generation 8 of 25\n",
            "Model Number: 908 with model GLM in generation 8 of 25\n",
            "Model Number: 909 with model SeasonalNaive in generation 8 of 25\n",
            "Model Number: 910 with model FFT in generation 8 of 25\n",
            "Model Number: 911 with model BasicLinearModel in generation 8 of 25\n",
            "Template Eval Error: ValueError(\"regression_type=='User' but no future_regressor supplied\") in model 911 in generation 8: BasicLinearModel\n",
            "New Generation: 9 of 25\n",
            "Model Number: 912 with model Cassandra in generation 9 of 25\n",
            "Template Eval Error: ValueError('negative dimensions are not allowed') in model 912 in generation 9: Cassandra\n",
            "Model Number: 913 with model FBProphet in generation 9 of 25\n",
            "Model Number: 914 with model SeasonalityMotif in generation 9 of 25\n",
            "Model Number: 915 with model FBProphet in generation 9 of 25\n",
            "Model Number: 916 with model DatepartRegression in generation 9 of 25\n",
            "Epoch 1/50\n"
          ]
        },
        {
          "output_type": "stream",
          "name": "stderr",
          "text": [
            "/usr/local/lib/python3.11/dist-packages/keras/src/layers/rnn/rnn.py:200: UserWarning: Do not pass an `input_shape`/`input_dim` argument to a layer. When using Sequential models, prefer using an `Input(shape)` object as the first layer in the model instead.\n",
            "  super().__init__(**kwargs)\n"
          ]
        },
        {
          "output_type": "stream",
          "name": "stdout",
          "text": [
            "\u001b[1m2/2\u001b[0m \u001b[32m━━━━━━━━━━━━━━━━━━━━\u001b[0m\u001b[37m\u001b[0m \u001b[1m5s\u001b[0m 166ms/step - loss: 51599064.0000\n",
            "Epoch 2/50\n",
            "\u001b[1m2/2\u001b[0m \u001b[32m━━━━━━━━━━━━━━━━━━━━\u001b[0m\u001b[37m\u001b[0m \u001b[1m1s\u001b[0m 158ms/step - loss: 33431022.0000\n",
            "Epoch 3/50\n",
            "\u001b[1m2/2\u001b[0m \u001b[32m━━━━━━━━━━━━━━━━━━━━\u001b[0m\u001b[37m\u001b[0m \u001b[1m1s\u001b[0m 172ms/step - loss: 31951780.0000\n",
            "Epoch 4/50\n",
            "\u001b[1m2/2\u001b[0m \u001b[32m━━━━━━━━━━━━━━━━━━━━\u001b[0m\u001b[37m\u001b[0m \u001b[1m1s\u001b[0m 279ms/step - loss: 34995292.0000\n",
            "Epoch 5/50\n",
            "\u001b[1m2/2\u001b[0m \u001b[32m━━━━━━━━━━━━━━━━━━━━\u001b[0m\u001b[37m\u001b[0m \u001b[1m1s\u001b[0m 260ms/step - loss: 15148870.0000\n",
            "Epoch 6/50\n",
            "\u001b[1m2/2\u001b[0m \u001b[32m━━━━━━━━━━━━━━━━━━━━\u001b[0m\u001b[37m\u001b[0m \u001b[1m1s\u001b[0m 270ms/step - loss: 11566310.0000\n",
            "Epoch 7/50\n",
            "\u001b[1m2/2\u001b[0m \u001b[32m━━━━━━━━━━━━━━━━━━━━\u001b[0m\u001b[37m\u001b[0m \u001b[1m1s\u001b[0m 287ms/step - loss: 33679616.0000\n",
            "Epoch 8/50\n",
            "\u001b[1m2/2\u001b[0m \u001b[32m━━━━━━━━━━━━━━━━━━━━\u001b[0m\u001b[37m\u001b[0m \u001b[1m1s\u001b[0m 306ms/step - loss: 37180904.0000\n",
            "Epoch 9/50\n",
            "\u001b[1m2/2\u001b[0m \u001b[32m━━━━━━━━━━━━━━━━━━━━\u001b[0m\u001b[37m\u001b[0m \u001b[1m1s\u001b[0m 297ms/step - loss: 15859744.0000\n",
            "Epoch 10/50\n",
            "\u001b[1m2/2\u001b[0m \u001b[32m━━━━━━━━━━━━━━━━━━━━\u001b[0m\u001b[37m\u001b[0m \u001b[1m0s\u001b[0m 175ms/step - loss: 21042714.0000\n",
            "Epoch 11/50\n",
            "\u001b[1m2/2\u001b[0m \u001b[32m━━━━━━━━━━━━━━━━━━━━\u001b[0m\u001b[37m\u001b[0m \u001b[1m1s\u001b[0m 158ms/step - loss: 17043214.0000\n",
            "Epoch 12/50\n",
            "\u001b[1m2/2\u001b[0m \u001b[32m━━━━━━━━━━━━━━━━━━━━\u001b[0m\u001b[37m\u001b[0m \u001b[1m1s\u001b[0m 163ms/step - loss: 21991490.0000\n",
            "Epoch 13/50\n",
            "\u001b[1m2/2\u001b[0m \u001b[32m━━━━━━━━━━━━━━━━━━━━\u001b[0m\u001b[37m\u001b[0m \u001b[1m0s\u001b[0m 165ms/step - loss: 33901284.0000\n",
            "Epoch 14/50\n",
            "\u001b[1m2/2\u001b[0m \u001b[32m━━━━━━━━━━━━━━━━━━━━\u001b[0m\u001b[37m\u001b[0m \u001b[1m0s\u001b[0m 158ms/step - loss: 13097253.0000\n",
            "Epoch 15/50\n",
            "\u001b[1m2/2\u001b[0m \u001b[32m━━━━━━━━━━━━━━━━━━━━\u001b[0m\u001b[37m\u001b[0m \u001b[1m0s\u001b[0m 166ms/step - loss: 10312457.0000\n",
            "Epoch 16/50\n",
            "\u001b[1m2/2\u001b[0m \u001b[32m━━━━━━━━━━━━━━━━━━━━\u001b[0m\u001b[37m\u001b[0m \u001b[1m0s\u001b[0m 161ms/step - loss: 36902944.0000\n",
            "Epoch 17/50\n",
            "\u001b[1m2/2\u001b[0m \u001b[32m━━━━━━━━━━━━━━━━━━━━\u001b[0m\u001b[37m\u001b[0m \u001b[1m0s\u001b[0m 160ms/step - loss: 24381906.0000\n",
            "Epoch 18/50\n",
            "\u001b[1m2/2\u001b[0m \u001b[32m━━━━━━━━━━━━━━━━━━━━\u001b[0m\u001b[37m\u001b[0m \u001b[1m0s\u001b[0m 159ms/step - loss: 13586783.0000\n",
            "Epoch 19/50\n",
            "\u001b[1m2/2\u001b[0m \u001b[32m━━━━━━━━━━━━━━━━━━━━\u001b[0m\u001b[37m\u001b[0m \u001b[1m1s\u001b[0m 159ms/step - loss: 14561903.0000\n",
            "Epoch 20/50\n",
            "\u001b[1m2/2\u001b[0m \u001b[32m━━━━━━━━━━━━━━━━━━━━\u001b[0m\u001b[37m\u001b[0m \u001b[1m1s\u001b[0m 166ms/step - loss: 25215848.0000\n",
            "Epoch 21/50\n",
            "\u001b[1m2/2\u001b[0m \u001b[32m━━━━━━━━━━━━━━━━━━━━\u001b[0m\u001b[37m\u001b[0m \u001b[1m1s\u001b[0m 177ms/step - loss: 14186950.0000\n",
            "Epoch 22/50\n",
            "\u001b[1m2/2\u001b[0m \u001b[32m━━━━━━━━━━━━━━━━━━━━\u001b[0m\u001b[37m\u001b[0m \u001b[1m0s\u001b[0m 166ms/step - loss: 9331278.0000\n",
            "Epoch 23/50\n",
            "\u001b[1m2/2\u001b[0m \u001b[32m━━━━━━━━━━━━━━━━━━━━\u001b[0m\u001b[37m\u001b[0m \u001b[1m0s\u001b[0m 158ms/step - loss: 7951639.5000\n",
            "Epoch 24/50\n",
            "\u001b[1m2/2\u001b[0m \u001b[32m━━━━━━━━━━━━━━━━━━━━\u001b[0m\u001b[37m\u001b[0m \u001b[1m0s\u001b[0m 173ms/step - loss: 5678206.5000\n",
            "Epoch 25/50\n",
            "\u001b[1m2/2\u001b[0m \u001b[32m━━━━━━━━━━━━━━━━━━━━\u001b[0m\u001b[37m\u001b[0m \u001b[1m0s\u001b[0m 165ms/step - loss: 11173671.0000\n",
            "Epoch 26/50\n",
            "\u001b[1m2/2\u001b[0m \u001b[32m━━━━━━━━━━━━━━━━━━━━\u001b[0m\u001b[37m\u001b[0m \u001b[1m0s\u001b[0m 164ms/step - loss: 8024617.0000\n",
            "Epoch 27/50\n",
            "\u001b[1m2/2\u001b[0m \u001b[32m━━━━━━━━━━━━━━━━━━━━\u001b[0m\u001b[37m\u001b[0m \u001b[1m0s\u001b[0m 172ms/step - loss: 8030106.5000\n",
            "Epoch 28/50\n",
            "\u001b[1m2/2\u001b[0m \u001b[32m━━━━━━━━━━━━━━━━━━━━\u001b[0m\u001b[37m\u001b[0m \u001b[1m1s\u001b[0m 165ms/step - loss: 11112541.0000\n",
            "Epoch 29/50\n",
            "\u001b[1m2/2\u001b[0m \u001b[32m━━━━━━━━━━━━━━━━━━━━\u001b[0m\u001b[37m\u001b[0m \u001b[1m1s\u001b[0m 166ms/step - loss: 6264982.0000\n",
            "Epoch 30/50\n",
            "\u001b[1m2/2\u001b[0m \u001b[32m━━━━━━━━━━━━━━━━━━━━\u001b[0m\u001b[37m\u001b[0m \u001b[1m0s\u001b[0m 163ms/step - loss: 10153331.0000\n",
            "Epoch 31/50\n",
            "\u001b[1m2/2\u001b[0m \u001b[32m━━━━━━━━━━━━━━━━━━━━\u001b[0m\u001b[37m\u001b[0m \u001b[1m0s\u001b[0m 165ms/step - loss: 12325549.0000\n",
            "Epoch 32/50\n",
            "\u001b[1m2/2\u001b[0m \u001b[32m━━━━━━━━━━━━━━━━━━━━\u001b[0m\u001b[37m\u001b[0m \u001b[1m0s\u001b[0m 163ms/step - loss: 8563206.0000\n",
            "Epoch 33/50\n",
            "\u001b[1m2/2\u001b[0m \u001b[32m━━━━━━━━━━━━━━━━━━━━\u001b[0m\u001b[37m\u001b[0m \u001b[1m0s\u001b[0m 158ms/step - loss: 7840926.0000\n",
            "Epoch 34/50\n",
            "\u001b[1m2/2\u001b[0m \u001b[32m━━━━━━━━━━━━━━━━━━━━\u001b[0m\u001b[37m\u001b[0m \u001b[1m0s\u001b[0m 264ms/step - loss: 3225081.0000\n",
            "Epoch 35/50\n",
            "\u001b[1m2/2\u001b[0m \u001b[32m━━━━━━━━━━━━━━━━━━━━\u001b[0m\u001b[37m\u001b[0m \u001b[1m1s\u001b[0m 259ms/step - loss: 5796424.5000\n",
            "Epoch 36/50\n",
            "\u001b[1m2/2\u001b[0m \u001b[32m━━━━━━━━━━━━━━━━━━━━\u001b[0m\u001b[37m\u001b[0m \u001b[1m1s\u001b[0m 257ms/step - loss: 6789490.5000\n",
            "Epoch 37/50\n",
            "\u001b[1m2/2\u001b[0m \u001b[32m━━━━━━━━━━━━━━━━━━━━\u001b[0m\u001b[37m\u001b[0m \u001b[1m1s\u001b[0m 262ms/step - loss: 6878999.5000\n",
            "Epoch 38/50\n",
            "\u001b[1m2/2\u001b[0m \u001b[32m━━━━━━━━━━━━━━━━━━━━\u001b[0m\u001b[37m\u001b[0m \u001b[1m1s\u001b[0m 280ms/step - loss: 6294395.5000\n",
            "Epoch 39/50\n",
            "\u001b[1m2/2\u001b[0m \u001b[32m━━━━━━━━━━━━━━━━━━━━\u001b[0m\u001b[37m\u001b[0m \u001b[1m1s\u001b[0m 315ms/step - loss: 8065867.0000\n",
            "Epoch 40/50\n",
            "\u001b[1m2/2\u001b[0m \u001b[32m━━━━━━━━━━━━━━━━━━━━\u001b[0m\u001b[37m\u001b[0m \u001b[1m1s\u001b[0m 257ms/step - loss: 8569848.0000\n",
            "Epoch 41/50\n",
            "\u001b[1m2/2\u001b[0m \u001b[32m━━━━━━━━━━━━━━━━━━━━\u001b[0m\u001b[37m\u001b[0m \u001b[1m0s\u001b[0m 159ms/step - loss: 5743204.0000\n",
            "Epoch 42/50\n",
            "\u001b[1m2/2\u001b[0m \u001b[32m━━━━━━━━━━━━━━━━━━━━\u001b[0m\u001b[37m\u001b[0m \u001b[1m0s\u001b[0m 166ms/step - loss: 18512956.0000\n",
            "Epoch 43/50\n",
            "\u001b[1m2/2\u001b[0m \u001b[32m━━━━━━━━━━━━━━━━━━━━\u001b[0m\u001b[37m\u001b[0m \u001b[1m1s\u001b[0m 165ms/step - loss: 13805383.0000\n",
            "Epoch 44/50\n",
            "\u001b[1m2/2\u001b[0m \u001b[32m━━━━━━━━━━━━━━━━━━━━\u001b[0m\u001b[37m\u001b[0m \u001b[1m0s\u001b[0m 165ms/step - loss: 5523582.0000\n",
            "Epoch 45/50\n",
            "\u001b[1m2/2\u001b[0m \u001b[32m━━━━━━━━━━━━━━━━━━━━\u001b[0m\u001b[37m\u001b[0m \u001b[1m0s\u001b[0m 158ms/step - loss: 11563643.0000\n",
            "Epoch 46/50\n",
            "\u001b[1m2/2\u001b[0m \u001b[32m━━━━━━━━━━━━━━━━━━━━\u001b[0m\u001b[37m\u001b[0m \u001b[1m0s\u001b[0m 167ms/step - loss: 14540285.0000\n",
            "Epoch 47/50\n",
            "\u001b[1m2/2\u001b[0m \u001b[32m━━━━━━━━━━━━━━━━━━━━\u001b[0m\u001b[37m\u001b[0m \u001b[1m1s\u001b[0m 177ms/step - loss: 6669124.0000\n",
            "Epoch 48/50\n",
            "\u001b[1m2/2\u001b[0m \u001b[32m━━━━━━━━━━━━━━━━━━━━\u001b[0m\u001b[37m\u001b[0m \u001b[1m0s\u001b[0m 166ms/step - loss: 8774331.0000\n",
            "Epoch 49/50\n",
            "\u001b[1m2/2\u001b[0m \u001b[32m━━━━━━━━━━━━━━━━━━━━\u001b[0m\u001b[37m\u001b[0m \u001b[1m1s\u001b[0m 176ms/step - loss: 9226280.0000\n",
            "Epoch 50/50\n",
            "\u001b[1m2/2\u001b[0m \u001b[32m━━━━━━━━━━━━━━━━━━━━\u001b[0m\u001b[37m\u001b[0m \u001b[1m0s\u001b[0m 167ms/step - loss: 6073606.0000\n"
          ]
        },
        {
          "output_type": "stream",
          "name": "stderr",
          "text": [
            "WARNING:tensorflow:6 out of the last 6 calls to <function TensorFlowTrainer.make_predict_function.<locals>.one_step_on_data_distributed at 0x7a1a590c60c0> triggered tf.function retracing. Tracing is expensive and the excessive number of tracings could be due to (1) creating @tf.function repeatedly in a loop, (2) passing tensors with different shapes, (3) passing Python objects instead of tensors. For (1), please define your @tf.function outside of the loop. For (2), @tf.function has reduce_retracing=True option that can avoid unnecessary retracing. For (3), please refer to https://www.tensorflow.org/guide/function#controlling_retracing and https://www.tensorflow.org/api_docs/python/tf/function for  more details.\n"
          ]
        },
        {
          "output_type": "stream",
          "name": "stdout",
          "text": [
            "\u001b[1m1/1\u001b[0m \u001b[32m━━━━━━━━━━━━━━━━━━━━\u001b[0m\u001b[37m\u001b[0m \u001b[1m0s\u001b[0m 499ms/step\n",
            "Model Number: 917 with model GLM in generation 9 of 25\n",
            "Model Number: 918 with model FFT in generation 9 of 25\n",
            "Model Number: 919 with model AverageValueNaive in generation 9 of 25\n",
            "Model Number: 920 with model GLM in generation 9 of 25\n",
            "Model Number: 921 with model LastValueNaive in generation 9 of 25\n"
          ]
        },
        {
          "output_type": "stream",
          "name": "stderr",
          "text": [
            "/usr/local/lib/python3.11/dist-packages/statsmodels/genmod/families/links.py:198: RuntimeWarning: overflow encountered in exp\n",
            "  t = np.exp(-z)\n"
          ]
        },
        {
          "output_type": "stream",
          "name": "stdout",
          "text": [
            "Model Number: 922 with model GLS in generation 9 of 25\n",
            "Model Number: 923 with model FBProphet in generation 9 of 25\n",
            "Model Number: 924 with model ETS in generation 9 of 25\n",
            "Model Number: 925 with model SeasonalNaive in generation 9 of 25\n",
            "Model Number: 926 with model FFT in generation 9 of 25\n",
            "Model Number: 927 with model Cassandra in generation 9 of 25\n",
            "Template Eval Error: Exception(\"Transformer ScipyFilter failed on fit from params ffill {'0': {'method': 'butter', 'method_args': {'N': 3, 'btype': 'lowpass', 'analog': False, 'output': 'sos', 'Wn': 0.08333333333333333}}} with error ValueError('The length of the input vector x must be greater than padlen, which is 12.')\") in model 927 in generation 9: Cassandra\n",
            "Model Number: 928 with model ConstantNaive in generation 9 of 25\n",
            "Model Number: 929 with model SeasonalNaive in generation 9 of 25\n",
            "Model Number: 930 with model FFT in generation 9 of 25\n",
            "Template Eval Error: Exception('Transformer RegressionFilter failed on fit from params time {\\'0\\': {\\'regression_model\\': {\\'model\\': \\'ElasticNet\\', \\'model_params\\': {\\'l1_ratio\\': 0.5, \\'fit_intercept\\': True, \\'selection\\': \\'cyclic\\', \\'max_iter\\': 1000}}, \\'datepart_method\\': [\\'morlet_365.25_12_12\\', \\'ricker_7_7_1\\'], \\'polynomial_degree\\': None, \\'transform_dict\\': {\\'fillna\\': None, \\'transformations\\': {\\'0\\': \\'bkfilter\\'}, \\'transformation_params\\': {\\'0\\': {}}}, \\'holiday_countries_used\\': False, \\'lags\\': None, \\'forward_lags\\': None}, \\'1\\': {}, \\'2\\': {\\'window_size\\': 30, \\'alpha\\': 2.0, \\'grouping_forward_limit\\': 3, \\'max_level_shifts\\': 10, \\'alignment\\': \\'average\\'}, \\'3\\': {\\'sigma\\': 3, \\'rolling_window\\': 90, \\'run_order\\': \\'trend_first\\', \\'regression_params\\': {\\'regression_model\\': {\\'model\\': \\'ElasticNet\\', \\'model_params\\': {\\'l1_ratio\\': 0.1, \\'fit_intercept\\': True, \\'selection\\': \\'cyclic\\', \\'max_iter\\': 1000}}, \\'datepart_method\\': \\'simple_binarized\\', \\'polynomial_degree\\': None, \\'transform_dict\\': {\\'fillna\\': None, \\'transformations\\': {\\'0\\': \\'ClipOutliers\\'}, \\'transformation_params\\': {\\'0\\': {\\'method\\': \\'clip\\', \\'std_threshold\\': 4}}}, \\'holiday_countries_used\\': False, \\'lags\\': None, \\'forward_lags\\': None}, \\'holiday_params\\': {\\'threshold\\': 1.0, \\'splash_threshold\\': None, \\'use_dayofmonth_holidays\\': True, \\'use_wkdom_holidays\\': True, \\'use_wkdeom_holidays\\': False, \\'use_lunar_holidays\\': False, \\'use_lunar_weekday\\': False, \\'use_islamic_holidays\\': False, \\'use_hebrew_holidays\\': False, \\'use_hindu_holidays\\': False, \\'anomaly_detector_params\\': {\\'method\\': \\'zscore\\', \\'method_params\\': {\\'distribution\\': \\'gamma\\', \\'alpha\\': 0.1}, \\'fillna\\': \\'linear\\', \\'transform_dict\\': {\\'fillna\\': \\'fake_date\\', \\'transformations\\': {\\'0\\': \\'RollingMeanTransformer\\'}, \\'transformation_params\\': {\\'0\\': {\\'fixed\\': True, \\'window\\': 360, \\'macro_micro\\': True, \\'center\\': True}}}, \\'isolated_only\\': False, \\'on_inverse\\': False}, \\'remove_excess_anomalies\\': True, \\'impact\\': \\'datepart_regression\\', \\'regression_params\\': {\\'regression_model\\': {\\'model\\': \\'ElasticNet\\', \\'model_params\\': {\\'l1_ratio\\': 0.1, \\'fit_intercept\\': True, \\'selection\\': \\'cyclic\\', \\'max_iter\\': 1000}}, \\'datepart_method\\': \\'simple_binarized\\', \\'polynomial_degree\\': None, \\'transform_dict\\': {\\'fillna\\': None, \\'transformations\\': {\\'0\\': \\'ClipOutliers\\'}, \\'transformation_params\\': {\\'0\\': {\\'method\\': \\'clip\\', \\'std_threshold\\': 4}}}, \\'holiday_countries_used\\': False, \\'lags\\': None, \\'forward_lags\\': None}}, \\'trend_method\\': \\'rolling_mean\\'}} with error TypeError(\"ufunc \\'invert\\' not supported for the input types, and the inputs could not be safely coerced to any supported types according to the casting rule \\'\\'safe\\'\\'\")') in model 930 in generation 9: FFT\n",
            "Model Number: 931 with model GLM in generation 9 of 25\n",
            "Model Number: 932 with model ETS in generation 9 of 25\n",
            "Template Eval Error: Exception('Transformer ChangepointDetrend failed on fit from params pchip {\\'0\\': {}, \\'1\\': {\\'fillna\\': \\'akima\\', \\'center\\': \\'zero\\'}, \\'2\\': {\\'method\\': \\'IQR\\', \\'method_params\\': {\\'iqr_threshold\\': 2.0, \\'iqr_quantiles\\': [0.4, 0.6]}, \\'fillna\\': \\'ffill\\', \\'transform_dict\\': None, \\'isolated_only\\': False, \\'on_inverse\\': False}, \\'3\\': {}, \\'4\\': {\\'model\\': \\'Poisson\\', \\'changepoint_spacing\\': 180, \\'changepoint_distance_end\\': 520, \\'datepart_method\\': \\'simple_binarized\\'}} with error ValueError(\"Some value(s) of y are out of the valid range of the loss \\'HalfPoissonLoss\\'.\")') in model 932 in generation 9: ETS\n",
            "Model Number: 933 with model SeasonalNaive in generation 9 of 25\n",
            "Model Number: 934 with model AverageValueNaive in generation 9 of 25\n",
            "Model Number: 935 with model DatepartRegression in generation 9 of 25\n",
            "Model Number: 936 with model ConstantNaive in generation 9 of 25\n"
          ]
        },
        {
          "output_type": "stream",
          "name": "stderr",
          "text": [
            "/usr/local/lib/python3.11/dist-packages/statsmodels/genmod/generalized_linear_model.py:1342: PerfectSeparationWarning: Perfect separation or prediction detected, parameter may not be identified\n",
            "  warnings.warn(msg, category=PerfectSeparationWarning)\n"
          ]
        },
        {
          "output_type": "stream",
          "name": "stdout",
          "text": [
            "Template Eval Error: Exception(\"Transformer SeasonalDifference failed on fit from params ffill {'0': {'low': 6, 'high': 32, 'K': 1, 'lanczos_factor': False, 'return_diff': True, 'on_transform': True, 'on_inverse': False}, '1': {'method': 'minmax', 'method_params': {'alpha': 0.03}, 'fillna': 'rolling_mean_24', 'transform_dict': {'transformations': {'0': 'DifferencedTransformer'}, 'transformation_params': {'0': {}}}, 'isolated_only': True, 'on_inverse': False}, '2': {'lag_1': 364, 'method': 20}, '3': {'theta_values': [0.2, 1.8]}, '4': {}, '5': {'lag_1': 96, 'method': 5}} with error ValueError('cannot reshape array of size 11 into shape (0,364,newaxis)')\") in model 936 in generation 9: ConstantNaive\n",
            "Model Number: 937 with model FFT in generation 9 of 25\n",
            "Model Number: 938 with model GLM in generation 9 of 25\n",
            "Model Number: 939 with model ConstantNaive in generation 9 of 25\n",
            "Model Number: 940 with model AverageValueNaive in generation 9 of 25\n",
            "Model Number: 941 with model BasicLinearModel in generation 9 of 25\n",
            "Model Number: 942 with model GLS in generation 9 of 25\n"
          ]
        },
        {
          "output_type": "stream",
          "name": "stderr",
          "text": [
            "/usr/local/lib/python3.11/dist-packages/sklearn/neighbors/_classification.py:239: DataConversionWarning: A column-vector y was passed when a 1d array was expected. Please change the shape of y to (n_samples,), for example using ravel().\n",
            "  return self._fit(X, y)\n",
            "/usr/local/lib/python3.11/dist-packages/statsmodels/genmod/generalized_linear_model.py:1342: PerfectSeparationWarning: Perfect separation or prediction detected, parameter may not be identified\n",
            "  warnings.warn(msg, category=PerfectSeparationWarning)\n",
            "/usr/local/lib/python3.11/dist-packages/autots/models/basics.py:3595: RuntimeWarning: invalid value encountered in sqrt\n",
            "  self.sigma = np.sqrt(sse / (n - p))\n",
            "/usr/local/lib/python3.11/dist-packages/sklearn/neighbors/_classification.py:239: DataConversionWarning: A column-vector y was passed when a 1d array was expected. Please change the shape of y to (n_samples,), for example using ravel().\n",
            "  return self._fit(X, y)\n"
          ]
        },
        {
          "output_type": "stream",
          "name": "stdout",
          "text": [
            "Model Number: 943 with model LastValueNaive in generation 9 of 25\n",
            "Model Number: 944 with model ARDL in generation 9 of 25\n",
            "Model Number: 945 with model FFT in generation 9 of 25\n",
            "Model Number: 946 with model ETS in generation 9 of 25\n",
            "Model Number: 947 with model LastValueNaive in generation 9 of 25\n",
            "Model Number: 948 with model AverageValueNaive in generation 9 of 25\n",
            "Model Number: 949 with model SeasonalNaive in generation 9 of 25\n",
            "Model Number: 950 with model ARDL in generation 9 of 25\n",
            "Template Eval Error: ValueError(\"regression_type='User' but future_regressor not supplied\") in model 950 in generation 9: ARDL\n",
            "Model Number: 951 with model SeasonalNaive in generation 9 of 25\n",
            "Model Number: 952 with model GLM in generation 9 of 25\n",
            "Model Number: 953 with model RRVAR in generation 9 of 25\n",
            "Model Number: 954 with model LastValueNaive in generation 9 of 25\n"
          ]
        },
        {
          "output_type": "stream",
          "name": "stderr",
          "text": [
            "/usr/local/lib/python3.11/dist-packages/sklearn/decomposition/_fastica.py:592: UserWarning: Ignoring n_components with whiten=False.\n",
            "  warnings.warn(\"Ignoring n_components with whiten=False.\")\n",
            "/usr/local/lib/python3.11/dist-packages/sklearn/decomposition/_fastica.py:127: ConvergenceWarning: FastICA did not converge. Consider increasing tolerance or the maximum number of iterations.\n",
            "  warnings.warn(\n",
            "/usr/local/lib/python3.11/dist-packages/statsmodels/genmod/families/links.py:198: RuntimeWarning: overflow encountered in exp\n",
            "  t = np.exp(-z)\n"
          ]
        },
        {
          "output_type": "stream",
          "name": "stdout",
          "text": [
            "Model Number: 955 with model GLS in generation 9 of 25\n",
            "Template Eval Error: Exception('Transformer ScipyFilter failed on fit from params fake_date {\\'0\\': {\\'window_size\\': 90, \\'alpha\\': 2.0, \\'grouping_forward_limit\\': 3, \\'max_level_shifts\\': 40, \\'alignment\\': \\'average\\'}, \\'1\\': {\\'method\\': \\'savgol_filter\\', \\'method_args\\': {\\'window_length\\': 91, \\'polyorder\\': 3, \\'deriv\\': 0, \\'mode\\': \\'interp\\'}}, \\'2\\': {\\'rows\\': 1, \\'lag\\': 7, \\'method\\': \\'additive\\', \\'strength\\': 0.5, \\'first_value_only\\': False, \\'threshold\\': None, \\'threshold_method\\': \\'max\\'}, \\'3\\': {\\'span\\': 7}, \\'4\\': {\\'lag\\': 1, \\'fill\\': \\'bfill\\'}} with error ValueError(\"If mode is \\'interp\\', window_length must be less than or equal to the size of x.\")') in model 955 in generation 9: GLS\n",
            "Model Number: 956 with model SeasonalityMotif in generation 9 of 25\n",
            "Template Eval Error: Exception(\"Transformer SeasonalDifference failed on fit from params ffill {'0': {'lag_1': 28, 'method': 5}, '1': {'span': 40}, '2': {'rows': 1, 'lag': 28, 'method': 'multiplicative', 'strength': 1.0, 'first_value_only': False, 'threshold': 3, 'threshold_method': 'mean'}, '3': {'discretization': 'upper', 'n_bins': 20}, '4': {'lag': 1, 'fill': 'bfill'}} with error ValueError('cannot reshape array of size 11 into shape (0,28,newaxis)')\") in model 956 in generation 9: SeasonalityMotif\n",
            "Model Number: 957 with model LastValueNaive in generation 9 of 25\n",
            "Template Eval Error: Exception(\"Transformer AlignLastValue failed on fit from params pchip {'0': {'rows': 1, 'lag': 28, 'method': 'additive', 'strength': 1.0, 'first_value_only': False, 'threshold': None, 'threshold_method': 'max'}, '1': {'lag_1': 28, 'method': 2}, '2': {}, '3': {}} with error IndexError('single positional indexer is out-of-bounds')\") in model 957 in generation 9: LastValueNaive\n",
            "Model Number: 958 with model ARDL in generation 9 of 25\n",
            "Template Eval Error: ValueError(\"regression_type='User' but future_regressor not supplied\") in model 958 in generation 9: ARDL\n",
            "Model Number: 959 with model SeasonalNaive in generation 9 of 25\n",
            "Template Eval Error: Exception(\"Transformer BTCD failed on fit from params rolling_mean {'0': {'lag_1': 79, 'method': 'LastValue'}, '1': {'regression_model': {'model': 'FastRidge', 'model_params': {}}, 'max_lags': 1}, '2': {'method': 0.5}, '3': {'span': 72}} with error ValueError('BTCD only works on multivarate series')\") in model 959 in generation 9: SeasonalNaive\n",
            "Model Number: 960 with model SeasonalityMotif in generation 9 of 25\n",
            "Template Eval Error: ValueError('kth(=9) out of bounds (3)') in model 960 in generation 9: SeasonalityMotif\n",
            "Model Number: 961 with model AverageValueNaive in generation 9 of 25\n",
            "Model Number: 962 with model FBProphet in generation 9 of 25\n",
            "Model Number: 963 with model FBProphet in generation 9 of 25\n",
            "Model Number: 964 with model SeasonalNaive in generation 9 of 25\n",
            "Model Number: 965 with model GLS in generation 9 of 25\n",
            "Template Eval Error: Exception(\"Transformer LocalLinearTrend failed on fit from params nearest {'0': {}, '1': {'rolling_window': 30, 'n_tails': 0.1, 'n_future': 0.05, 'method': 'median', 'macro_micro': False}, '2': {'lag_1': 7, 'method': 20}, '3': {}, '4': {'model_name': 'dynamic linear', 'state_transition': [[1, 1, 0, 0], [0, 1, 0, 0], [0, 0, 0.9, 1], [0, 0, 0.9, 0]], 'process_noise': [[1.1, 0, 0, 0], [0, 0.4, 0, 0], [0, 0, 0.1, 0], [0, 0, 0, 0]], 'observation_model': [[1, 0, 1, 0]], 'observation_noise': 0.25, 'em_iter': None, 'on_transform': True, 'on_inverse': False}} with error ValueError('negative dimensions are not allowed')\") in model 965 in generation 9: GLS\n",
            "Model Number: 966 with model FFT in generation 9 of 25\n",
            "Template Eval Error: Exception(\"Transformer STLFilter failed on fit from params fake_date {'0': {'decomp_type': 'seasonal_decompose', 'part': 'trend'}, '1': {'rows': 1}, '2': {'fillna': 'one', 'center': 'median'}, '3': {'sigma': 3, 'rolling_window': 90, 'run_order': 'trend_first', 'regression_params': {'regression_model': {'model': 'ElasticNet', 'model_params': {'l1_ratio': 0.1, 'fit_intercept': True, 'selection': 'cyclic', 'max_iter': 1000}}, 'datepart_method': 'simple_binarized', 'polynomial_degree': None, 'transform_dict': {'fillna': None, 'transformations': {'0': 'ClipOutliers'}, 'transformation_params': {'0': {'method': 'clip', 'std_threshold': 4}}}, 'holiday_countries_used': False, 'lags': None, 'forward_lags': None}, 'holiday_params': {'threshold': 1.0, 'splash_threshold': None, 'use_dayofmonth_holidays': True, 'use_wkdom_holidays': True, 'use_wkdeom_holidays': False, 'use_lunar_holidays': False, 'use_lunar_weekday': False, 'use_islamic_holidays': False, 'use_hebrew_holidays': False, 'use_hindu_holidays': False, 'anomaly_detector_params': {'method': 'zscore', 'method_params': {'distribution': 'gamma', 'alpha': 0.1}, 'fillna': 'linear', 'transform_dict': {'fillna': 'fake_date', 'transformations': {'0': 'RollingMeanTransformer'}, 'transformation_params': {'0': {'fixed': True, 'window': 360, 'macro_micro': True, 'center': True}}}, 'isolated_only': False, 'on_inverse': False}, 'remove_excess_anomalies': True, 'impact': 'datepart_regression', 'regression_params': {'regression_model': {'model': 'ElasticNet', 'model_params': {'l1_ratio': 0.1, 'fit_intercept': True, 'selection': 'cyclic', 'max_iter': 1000}}, 'datepart_method': 'simple_binarized', 'polynomial_degree': None, 'transform_dict': {'fillna': None, 'transformations': {'0': 'ClipOutliers'}, 'transformation_params': {'0': {'method': 'clip', 'std_threshold': 4}}}, 'holiday_countries_used': False, 'lags': None, 'forward_lags': None}}, 'trend_method': 'rolling_mean'}, '4': {}, '5': {'rows': 1, 'lag': 1, 'method': 'additive', 'strength': 1.0, 'first_value_only': False, 'threshold': 10, 'threshold_method': 'mean'}} with error ValueError('x must have 2 complete cycles requires 24 observations. x only has 11 observation(s)')\") in model 966 in generation 9: FFT\n",
            "Model Number: 967 with model FBProphet in generation 9 of 25\n",
            "Model Number: 968 with model LastValueNaive in generation 9 of 25\n",
            "Model Number: 969 with model ETS in generation 9 of 25\n",
            "Model Number: 970 with model RRVAR in generation 9 of 25\n",
            "Model Number: 971 with model LastValueNaive in generation 9 of 25\n",
            "Model Number: 972 with model GLM in generation 9 of 25\n",
            "Model Number: 973 with model SeasonalNaive in generation 9 of 25\n",
            "Model Number: 974 with model SeasonalityMotif in generation 9 of 25\n",
            "Template Eval Error: Exception(\"Transformer SeasonalDifference failed on fit from params ffill {'0': {'lag_1': 28, 'method': 5}, '1': {'span': 40}} with error ValueError('cannot reshape array of size 11 into shape (0,28,newaxis)')\") in model 974 in generation 9: SeasonalityMotif\n",
            "Model Number: 975 with model GLS in generation 9 of 25\n",
            "Model Number: 976 with model ETS in generation 9 of 25\n",
            "Template Eval Error: Exception(\"Transformer Cointegration failed on fit from params zero {'0': {'det_order': 1, 'k_ar_diff': 2}} with error ValueError('Coint only works on multivarate series')\") in model 976 in generation 9: ETS\n",
            "Model Number: 977 with model SeasonalityMotif in generation 9 of 25\n"
          ]
        },
        {
          "output_type": "stream",
          "name": "stderr",
          "text": [
            "/usr/local/lib/python3.11/dist-packages/sklearn/neighbors/_classification.py:239: DataConversionWarning: A column-vector y was passed when a 1d array was expected. Please change the shape of y to (n_samples,), for example using ravel().\n",
            "  return self._fit(X, y)\n"
          ]
        },
        {
          "output_type": "stream",
          "name": "stdout",
          "text": [
            "Model Number: 978 with model DatepartRegression in generation 9 of 25\n",
            "Model Number: 979 with model AverageValueNaive in generation 9 of 25\n",
            "Model Number: 980 with model SeasonalityMotif in generation 9 of 25\n",
            "Template Eval Error: ValueError('window shape cannot be larger than input array shape') in model 980 in generation 9: SeasonalityMotif\n",
            "Model Number: 981 with model LastValueNaive in generation 9 of 25\n",
            "Model Number: 982 with model SeasonalNaive in generation 9 of 25\n",
            "Model Number: 983 with model FFT in generation 9 of 25\n",
            "Model Number: 984 with model LastValueNaive in generation 9 of 25\n",
            "Model Number: 985 with model AverageValueNaive in generation 9 of 25\n",
            "Model Number: 986 with model SeasonalNaive in generation 9 of 25\n",
            "Model Number: 987 with model ARDL in generation 9 of 25\n",
            "Model Number: 988 with model GLS in generation 9 of 25\n",
            "Model Number: 989 with model ARDL in generation 9 of 25\n"
          ]
        },
        {
          "output_type": "stream",
          "name": "stderr",
          "text": [
            "/usr/local/lib/python3.11/dist-packages/sklearn/decomposition/_fastica.py:592: UserWarning: Ignoring n_components with whiten=False.\n",
            "  warnings.warn(\"Ignoring n_components with whiten=False.\")\n",
            "/usr/local/lib/python3.11/dist-packages/sklearn/decomposition/_fastica.py:127: ConvergenceWarning: FastICA did not converge. Consider increasing tolerance or the maximum number of iterations.\n",
            "  warnings.warn(\n",
            "/usr/local/lib/python3.11/dist-packages/sklearn/decomposition/_fastica.py:592: UserWarning: Ignoring n_components with whiten=False.\n",
            "  warnings.warn(\"Ignoring n_components with whiten=False.\")\n",
            "/usr/local/lib/python3.11/dist-packages/sklearn/decomposition/_fastica.py:127: ConvergenceWarning: FastICA did not converge. Consider increasing tolerance or the maximum number of iterations.\n",
            "  warnings.warn(\n"
          ]
        },
        {
          "output_type": "stream",
          "name": "stdout",
          "text": [
            "Model Number: 990 with model LastValueNaive in generation 9 of 25\n",
            "Model Number: 991 with model DatepartRegression in generation 9 of 25\n",
            "Model Number: 992 with model FFT in generation 9 of 25\n",
            "Model Number: 993 with model FFT in generation 9 of 25\n",
            "Model Number: 994 with model GLM in generation 9 of 25\n",
            "Model Number: 995 with model FBProphet in generation 9 of 25\n",
            "New Generation: 10 of 25\n",
            "Model Number: 996 with model LastValueNaive in generation 10 of 25\n",
            "Model Number: 997 with model GLM in generation 10 of 25\n",
            "Model Number: 998 with model SeasonalityMotif in generation 10 of 25\n",
            "Template Eval Error: Exception(\"Transformer Cointegration failed on fit from params rolling_mean_24 {'0': {'det_order': 1, 'k_ar_diff': 0}, '1': {'output_distribution': 'normal', 'n_quantiles': 100}} with error ValueError('Coint only works on multivarate series')\") in model 998 in generation 10: SeasonalityMotif\n",
            "Model Number: 999 with model LastValueNaive in generation 10 of 25\n",
            "Model Number: 1000 with model FFT in generation 10 of 25\n",
            "Model Number: 1001 with model SeasonalityMotif in generation 10 of 25\n",
            "Model Number: 1002 with model FBProphet in generation 10 of 25\n"
          ]
        },
        {
          "output_type": "stream",
          "name": "stderr",
          "text": [
            "/usr/local/lib/python3.11/dist-packages/statsmodels/genmod/families/links.py:198: RuntimeWarning: overflow encountered in exp\n",
            "  t = np.exp(-z)\n",
            "/usr/local/lib/python3.11/dist-packages/sklearn/neighbors/_classification.py:239: DataConversionWarning: A column-vector y was passed when a 1d array was expected. Please change the shape of y to (n_samples,), for example using ravel().\n",
            "  return self._fit(X, y)\n"
          ]
        },
        {
          "output_type": "stream",
          "name": "stdout",
          "text": [
            "Model Number: 1003 with model GLM in generation 10 of 25\n",
            "Model Number: 1004 with model ETS in generation 10 of 25\n",
            "Model Number: 1005 with model DatepartRegression in generation 10 of 25\n"
          ]
        },
        {
          "output_type": "stream",
          "name": "stderr",
          "text": [
            "/usr/local/lib/python3.11/dist-packages/statsmodels/genmod/families/family.py:445: RuntimeWarning: overflow encountered in divide\n",
            "  endog_mu = self._clean(endog / mu)\n",
            "/usr/local/lib/python3.11/dist-packages/statsmodels/genmod/families/family.py:445: RuntimeWarning: divide by zero encountered in divide\n",
            "  endog_mu = self._clean(endog / mu)\n"
          ]
        },
        {
          "output_type": "stream",
          "name": "stdout",
          "text": [
            "Model Number: 1006 with model LastValueNaive in generation 10 of 25\n",
            "Model Number: 1007 with model LastValueNaive in generation 10 of 25\n",
            "Model Number: 1008 with model LastValueNaive in generation 10 of 25\n",
            "Model Number: 1009 with model FBProphet in generation 10 of 25\n",
            "Model Number: 1010 with model LastValueNaive in generation 10 of 25\n",
            "Model Number: 1011 with model ETS in generation 10 of 25\n",
            "Model Number: 1012 with model FBProphet in generation 10 of 25\n",
            "Model Number: 1013 with model SeasonalityMotif in generation 10 of 25\n",
            "Template Eval Error: Exception('Transformer PCA failed on fit from params ffill {\\'0\\': {}, \\'1\\': {}, \\'2\\': {\\'lag\\': 1, \\'fill\\': \\'zero\\'}, \\'3\\': {\\'low\\': 6, \\'high\\': 32, \\'K\\': 1, \\'lanczos_factor\\': False, \\'return_diff\\': False, \\'on_transform\\': True, \\'on_inverse\\': False}, \\'4\\': {\\'whiten\\': True, \\'n_components\\': 100}} with error ValueError(\"n_components=100 must be between 0 and min(n_samples, n_features)=1 with svd_solver=\\'full\\'\")') in model 1013 in generation 10: SeasonalityMotif\n",
            "Model Number: 1014 with model ETS in generation 10 of 25\n",
            "Model Number: 1015 with model ARDL in generation 10 of 25\n"
          ]
        },
        {
          "output_type": "stream",
          "name": "stderr",
          "text": [
            "/usr/local/lib/python3.11/dist-packages/sklearn/decomposition/_pca.py:648: RuntimeWarning: invalid value encountered in divide\n",
            "  explained_variance_ratio_ = explained_variance_ / total_var\n"
          ]
        },
        {
          "output_type": "stream",
          "name": "stdout",
          "text": [
            "Model Number: 1016 with model AverageValueNaive in generation 10 of 25\n",
            "Model Number: 1017 with model FBProphet in generation 10 of 25\n",
            "Model Number: 1018 with model AverageValueNaive in generation 10 of 25\n",
            "Model Number: 1019 with model GLS in generation 10 of 25\n",
            "Model Number: 1020 with model AverageValueNaive in generation 10 of 25\n",
            "Template Eval Error: Exception(\"Transformer AlignLastValue failed on fit from params rolling_mean_24 {'0': {'rows': 1, 'lag': 84, 'method': 'additive', 'strength': 1.0, 'first_value_only': False, 'threshold': 10, 'threshold_method': 'max'}, '1': {'model': 'Linear', 'phi': 1, 'window': None, 'transform_dict': None}, '2': {'rows': 1, 'lag': 1, 'method': 'multiplicative', 'strength': 0.7, 'first_value_only': False, 'threshold': None, 'threshold_method': 'max'}, '3': {'rows': 1, 'lag': 7, 'method': 'additive', 'strength': 0.5, 'first_value_only': False, 'threshold': 1, 'threshold_method': 'mean'}, '4': {'rows': 1, 'lag': 2, 'method': 'additive', 'strength': 1.0, 'first_value_only': False, 'threshold': 10, 'threshold_method': 'mean'}, '5': {'rows': 1, 'lag': 1, 'method': 'additive', 'strength': 0.2, 'first_value_only': False, 'threshold': None, 'threshold_method': 'max'}} with error IndexError('single positional indexer is out-of-bounds')\") in model 1020 in generation 10: AverageValueNaive\n",
            "Model Number: 1021 with model SeasonalityMotif in generation 10 of 25\n",
            "Model Number: 1022 with model AverageValueNaive in generation 10 of 25\n",
            "Model Number: 1023 with model FFT in generation 10 of 25\n",
            "Model Number: 1024 with model LastValueNaive in generation 10 of 25\n",
            "Model Number: 1025 with model LastValueNaive in generation 10 of 25\n",
            "Model Number: 1026 with model FFT in generation 10 of 25\n",
            "Model Number: 1027 with model ETS in generation 10 of 25\n",
            "Model Number: 1028 with model FFT in generation 10 of 25\n",
            "Model Number: 1029 with model DatepartRegression in generation 10 of 25\n",
            "Model Number: 1030 with model ARDL in generation 10 of 25\n",
            "Template Eval Error: Exception(\"Transformer Cointegration failed on fit from params ffill {'0': {'window_size': 90, 'alpha': 2.0, 'grouping_forward_limit': 3, 'max_level_shifts': 40, 'alignment': 'average'}, '1': {'lag_1': 24, 'method': 'Median'}, '2': {'det_order': 1, 'k_ar_diff': 0}, '3': {'lag': 1, 'fill': 'bfill'}, '4': {'method': 'remove', 'std_threshold': 4, 'fillna': 'rolling_mean_24'}, '5': {'window_size': 30, 'alpha': 1.0, 'grouping_forward_limit': 5, 'max_level_shifts': 5, 'alignment': 'average'}} with error ValueError('Coint only works on multivarate series')\") in model 1030 in generation 10: ARDL\n",
            "Model Number: 1031 with model AverageValueNaive in generation 10 of 25\n",
            "Template Eval Error: Exception('Transformer DatepartRegression failed on inverse from params akima {\\'0\\': {}, \\'1\\': {}, \\'2\\': {\\'regression_model\\': {\\'model\\': \\'RandomForest\\', \\'model_params\\': {\\'n_estimators\\': 1000, \\'min_samples_leaf\\': 1, \\'bootstrap\\': True}}, \\'datepart_method\\': [\\'isoday\\', \\'days_from_epoch\\', \\'isoday\\'], \\'polynomial_degree\\': None, \\'transform_dict\\': {\\'fillna\\': None, \\'transformations\\': {\\'0\\': \\'EWMAFilter\\'}, \\'transformation_params\\': {\\'0\\': {\\'span\\': 2}}}, \\'holiday_countries_used\\': False, \\'lags\\': None, \\'forward_lags\\': None}} with TypeError(\"Feature names are only supported if all input features have string names, but your input has [\\'int\\', \\'str\\'] as feature name / column name types. If you want feature names to be stored and validated, you must convert them all to strings, by using X.columns = X.columns.astype(str) for example. Otherwise you can remove feature / column names from your input data, or convert them all to a non-string data type.\")') in model 1031 in generation 10: AverageValueNaive\n",
            "Model Number: 1032 with model LastValueNaive in generation 10 of 25\n",
            "Model Number: 1033 with model SeasonalNaive in generation 10 of 25\n",
            "Model Number: 1034 with model AverageValueNaive in generation 10 of 25\n",
            "Model Number: 1035 with model DatepartRegression in generation 10 of 25\n",
            "Template Eval Error: ValueError(\"regression_type='User' but no future_regressor passed\") in model 1035 in generation 10: DatepartRegression\n",
            "Model Number: 1036 with model SeasonalNaive in generation 10 of 25\n",
            "Model Number: 1037 with model FFT in generation 10 of 25\n",
            "Model Number: 1038 with model ARDL in generation 10 of 25\n",
            "Template Eval Error: Exception(\"Transformer Cointegration failed on fit from params ffill {'0': {'lag': 1, 'fill': 'bfill'}, '1': {}, '2': {'det_order': 1, 'k_ar_diff': 0}, '3': {'cutoff': 0.4, 'reverse': False, 'on_transform': True, 'on_inverse': False}, '4': {'window_size': 30, 'alpha': 1.0, 'grouping_forward_limit': 5, 'max_level_shifts': 5, 'alignment': 'average'}} with error ValueError('Coint only works on multivarate series')\") in model 1038 in generation 10: ARDL\n",
            "Model Number: 1039 with model FBProphet in generation 10 of 25\n",
            "Model Number: 1040 with model ConstantNaive in generation 10 of 25\n",
            "Model Number: 1041 with model FFT in generation 10 of 25\n",
            "Model Number: 1042 with model SeasonalityMotif in generation 10 of 25\n",
            "Model Number: 1043 with model FBProphet in generation 10 of 25\n",
            "Model Number: 1044 with model ETS in generation 10 of 25\n",
            "Model Number: 1045 with model GLM in generation 10 of 25\n",
            "Model Number: 1046 with model FBProphet in generation 10 of 25\n",
            "Model Number: 1047 with model FBProphet in generation 10 of 25\n"
          ]
        },
        {
          "output_type": "stream",
          "name": "stderr",
          "text": [
            "/usr/local/lib/python3.11/dist-packages/statsmodels/genmod/families/links.py:198: RuntimeWarning: overflow encountered in exp\n",
            "  t = np.exp(-z)\n"
          ]
        },
        {
          "output_type": "stream",
          "name": "stdout",
          "text": [
            "Model Number: 1048 with model LastValueNaive in generation 10 of 25\n",
            "Model Number: 1049 with model DatepartRegression in generation 10 of 25\n",
            "Template Eval Error: Exception(\"Transformer Cointegration failed on fit from params pchip {'0': {'det_order': 0, 'k_ar_diff': 0}, '1': {'fixed': False, 'window': 24, 'macro_micro': False, 'center': True}, '2': {'method': 'IQR', 'method_params': {'iqr_threshold': 2.0, 'iqr_quantiles': [0.4, 0.6]}, 'fillna': 'ffill', 'transform_dict': None, 'isolated_only': False, 'on_inverse': False}, '3': {}, '4': {'method': 0.5}, '5': {}} with error ValueError('Coint only works on multivarate series')\") in model 1049 in generation 10: DatepartRegression\n",
            "Model Number: 1050 with model ARDL in generation 10 of 25\n",
            "Model Number: 1051 with model ETS in generation 10 of 25\n",
            "Template Eval Error: Exception(\"Transformer FastICA failed on fit from params ffill {'0': {'window_size': 90, 'alpha': 2.0, 'grouping_forward_limit': 3, 'max_level_shifts': 40, 'alignment': 'average'}, '1': {'lag_1': 24, 'method': 'Median'}, '2': {'discretization': 'upper', 'n_bins': 20}, '3': {'algorithm': 'parallel', 'fun': 'exp', 'max_iter': 100, 'whiten': 'unit-variance'}, '4': {'lag': 1, 'fill': 'bfill'}} with error ValueError('array must not contain infs or NaNs')\") in model 1051 in generation 10: ETS\n",
            "Model Number: 1052 with model SeasonalNaive in generation 10 of 25\n",
            "Model Number: 1053 with model ETS in generation 10 of 25\n",
            "Model Number: 1054 with model ARDL in generation 10 of 25\n"
          ]
        },
        {
          "output_type": "stream",
          "name": "stderr",
          "text": [
            "/usr/local/lib/python3.11/dist-packages/sklearn/decomposition/_fastica.py:592: UserWarning: Ignoring n_components with whiten=False.\n",
            "  warnings.warn(\"Ignoring n_components with whiten=False.\")\n",
            "/usr/local/lib/python3.11/dist-packages/sklearn/decomposition/_fastica.py:629: RuntimeWarning: divide by zero encountered in divide\n",
            "  K = (u / d).T[:n_components]  # see (6.33) p.140\n"
          ]
        },
        {
          "output_type": "stream",
          "name": "stdout",
          "text": [
            "Model Number: 1055 with model FFT in generation 10 of 25\n",
            "Model Number: 1056 with model GLM in generation 10 of 25\n",
            "Model Number: 1057 with model AverageValueNaive in generation 10 of 25\n",
            "Model Number: 1058 with model GLS in generation 10 of 25\n"
          ]
        },
        {
          "output_type": "stream",
          "name": "stderr",
          "text": [
            "/usr/local/lib/python3.11/dist-packages/sklearn/decomposition/_fastica.py:592: UserWarning: Ignoring n_components with whiten=False.\n",
            "  warnings.warn(\"Ignoring n_components with whiten=False.\")\n"
          ]
        },
        {
          "output_type": "stream",
          "name": "stdout",
          "text": [
            "New Generation: 11 of 25\n",
            "Model Number: 1059 with model ARDL in generation 11 of 25\n",
            "Model Number: 1060 with model ARDL in generation 11 of 25\n",
            "Model Number: 1061 with model FBProphet in generation 11 of 25\n"
          ]
        },
        {
          "output_type": "stream",
          "name": "stderr",
          "text": [
            "/usr/local/lib/python3.11/dist-packages/sklearn/decomposition/_fastica.py:592: UserWarning: Ignoring n_components with whiten=False.\n",
            "  warnings.warn(\"Ignoring n_components with whiten=False.\")\n"
          ]
        },
        {
          "output_type": "stream",
          "name": "stdout",
          "text": [
            "Model Number: 1062 with model SeasonalityMotif in generation 11 of 25\n",
            "Model Number: 1063 with model SeasonalNaive in generation 11 of 25\n",
            "Model Number: 1064 with model SeasonalityMotif in generation 11 of 25\n",
            "Model Number: 1065 with model FBProphet in generation 11 of 25\n",
            "No anomalies detected.\n",
            "Model Number: 1066 with model FBProphet in generation 11 of 25\n",
            "Model Number: 1067 with model GLM in generation 11 of 25\n",
            "Template Eval Error: ValueError('The first guess on the deviance function returned a nan.  This could be a boundary  problem and should be reported.') in model 1067 in generation 11: GLM\n",
            "Model Number: 1068 with model ARDL in generation 11 of 25\n",
            "Template Eval Error: ValueError(\"regression_type='User' but future_regressor not supplied\") in model 1068 in generation 11: ARDL\n",
            "Model Number: 1069 with model SeasonalNaive in generation 11 of 25\n",
            "Model Number: 1070 with model ARDL in generation 11 of 25\n"
          ]
        },
        {
          "output_type": "stream",
          "name": "stderr",
          "text": [
            "/usr/local/lib/python3.11/dist-packages/sklearn/neighbors/_classification.py:239: DataConversionWarning: A column-vector y was passed when a 1d array was expected. Please change the shape of y to (n_samples,), for example using ravel().\n",
            "  return self._fit(X, y)\n",
            "/usr/local/lib/python3.11/dist-packages/statsmodels/genmod/families/family.py:188: RuntimeWarning: invalid value encountered in divide\n",
            "  return np.sum(resid_dev * freq_weights * var_weights / scale)\n"
          ]
        },
        {
          "output_type": "stream",
          "name": "stdout",
          "text": [
            "Model Number: 1071 with model ConstantNaive in generation 11 of 25\n",
            "Model Number: 1072 with model SeasonalityMotif in generation 11 of 25\n",
            "Template Eval Error: ValueError('kth(=14) out of bounds (11)') in model 1072 in generation 11: SeasonalityMotif\n",
            "Model Number: 1073 with model GLS in generation 11 of 25\n",
            "Model Number: 1074 with model SeasonalNaive in generation 11 of 25\n",
            "Model Number: 1075 with model ETS in generation 11 of 25\n",
            "Model Number: 1076 with model LastValueNaive in generation 11 of 25\n",
            "Template Eval Error: Exception(\"Transformer AlignLastValue failed on fit from params fake_date {'0': {'rows': 1, 'lag': 84, 'method': 'additive', 'strength': 0.9, 'first_value_only': False, 'threshold': 1, 'threshold_method': 'max'}, '1': {'rows': 1, 'lag': 1, 'method': 'additive', 'strength': 1.0, 'first_value_only': False, 'threshold': None, 'threshold_method': 'max'}, '2': {'whiten': False, 'n_components': None}} with error IndexError('single positional indexer is out-of-bounds')\") in model 1076 in generation 11: LastValueNaive\n",
            "Model Number: 1077 with model ETS in generation 11 of 25\n",
            "Template Eval Error: Exception(\"Transformer LocalLinearTrend failed on fit from params ffill_mean_biased {'0': {'rolling_window': 360, 'n_tails': 0.1, 'n_future': 0.2, 'method': 'mean', 'macro_micro': False}, '1': {'lag': 1, 'fill': 'bfill'}} with error ValueError('negative dimensions are not allowed')\") in model 1077 in generation 11: ETS\n",
            "Model Number: 1078 with model FBProphet in generation 11 of 25\n",
            "Model Number: 1079 with model FBProphet in generation 11 of 25\n",
            "Model Number: 1080 with model FFT in generation 11 of 25\n",
            "Model Number: 1081 with model FBProphet in generation 11 of 25\n",
            "Model Number: 1082 with model AverageValueNaive in generation 11 of 25\n",
            "Model Number: 1083 with model FBProphet in generation 11 of 25\n",
            "Model Number: 1084 with model ConstantNaive in generation 11 of 25\n",
            "Model Number: 1085 with model FFT in generation 11 of 25\n",
            "Model Number: 1086 with model DatepartRegression in generation 11 of 25\n",
            "Template Eval Error: IndexError('tuple index out of range') in model 1086 in generation 11: DatepartRegression\n",
            "Model Number: 1087 with model LastValueNaive in generation 11 of 25\n",
            "Template Eval Error: Exception(\"Transformer BTCD failed on fit from params rolling_mean_24 {'0': {'regression_model': {'model': 'LinearRegression', 'model_params': {}}, 'max_lags': 2}, '1': {'window': 7}, '2': {'span': 96}} with error ValueError('BTCD only works on multivarate series')\") in model 1087 in generation 11: LastValueNaive\n",
            "Model Number: 1088 with model RRVAR in generation 11 of 25\n",
            "Model Number: 1089 with model GLS in generation 11 of 25\n",
            "Model Number: 1090 with model FBProphet in generation 11 of 25\n",
            "Model Number: 1091 with model FFT in generation 11 of 25\n",
            "Model Number: 1092 with model LastValueNaive in generation 11 of 25\n",
            "Model Number: 1093 with model GLS in generation 11 of 25\n",
            "Model Number: 1094 with model DatepartRegression in generation 11 of 25\n",
            "Model Number: 1095 with model ETS in generation 11 of 25\n",
            "Model Number: 1096 with model ETS in generation 11 of 25\n",
            "Model Number: 1097 with model SeasonalityMotif in generation 11 of 25\n",
            "Model Number: 1098 with model FFT in generation 11 of 25\n",
            "Model Number: 1099 with model ConstantNaive in generation 11 of 25\n",
            "Model Number: 1100 with model RRVAR in generation 11 of 25\n",
            "Model Number: 1101 with model FBProphet in generation 11 of 25\n",
            "No anomalies detected.\n",
            "Model Number: 1102 with model RRVAR in generation 11 of 25\n",
            "Model Number: 1103 with model ETS in generation 11 of 25\n",
            "Model Number: 1104 with model ConstantNaive in generation 11 of 25\n",
            "Model Number: 1105 with model SeasonalityMotif in generation 11 of 25\n",
            "Model Number: 1106 with model LastValueNaive in generation 11 of 25\n",
            "Template Eval Error: Exception(\"Transformer AlignLastValue failed on fit from params linear {'0': {'rows': 1, 'lag': 28, 'method': 'additive', 'strength': 1.0, 'first_value_only': False, 'threshold': None, 'threshold_method': 'max'}, '1': {'model': 'Linear', 'phi': 1, 'window': 900, 'transform_dict': {'fillna': None, 'transformations': {'0': 'EWMAFilter'}, 'transformation_params': {'0': {'span': 7}}}}, '2': {}} with error IndexError('single positional indexer is out-of-bounds')\") in model 1106 in generation 11: LastValueNaive\n",
            "Model Number: 1107 with model ETS in generation 11 of 25\n",
            "Model Number: 1108 with model DatepartRegression in generation 11 of 25\n",
            "Model Number: 1109 with model AverageValueNaive in generation 11 of 25\n",
            "Model Number: 1110 with model FBProphet in generation 11 of 25\n",
            "Template Eval Error: Exception(\"Transformer STLFilter failed on fit from params linear {'0': {'window_size': 90, 'alpha': 2.0, 'grouping_forward_limit': 3, 'max_level_shifts': 40, 'alignment': 'average'}, '1': {'lag_1': 24, 'method': 'Median'}, '2': {'decomp_type': 'seasonal_decompose', 'part': 'trend'}, '3': {'lag': 2, 'fill': 'bfill'}} with error ValueError('x must have 2 complete cycles requires 24 observations. x only has 11 observation(s)')\") in model 1110 in generation 11: FBProphet\n",
            "Model Number: 1111 with model LastValueNaive in generation 11 of 25\n",
            "Model Number: 1112 with model ETS in generation 11 of 25\n"
          ]
        },
        {
          "output_type": "stream",
          "name": "stderr",
          "text": [
            "/usr/local/lib/python3.11/dist-packages/sklearn/linear_model/_coordinate_descent.py:695: ConvergenceWarning: Objective did not converge. You might want to increase the number of iterations, check the scale of the features or consider increasing regularisation. Duality gap: 0.000e+00, tolerance: 0.000e+00\n",
            "  model = cd_fast.enet_coordinate_descent(\n",
            "/usr/local/lib/python3.11/dist-packages/autots/tools/impute.py:60: RuntimeWarning: Mean of empty slice\n",
            "  arr = np.nan_to_num(arr) + np.isnan(arr) * np.nan_to_num(np.nanmean(arr, axis=0))\n"
          ]
        },
        {
          "output_type": "stream",
          "name": "stdout",
          "text": [
            "Model Number: 1113 with model FBProphet in generation 11 of 25\n",
            "Model Number: 1114 with model DatepartRegression in generation 11 of 25\n",
            "Model Number: 1115 with model ARDL in generation 11 of 25\n",
            "Model Number: 1116 with model GLS in generation 11 of 25\n",
            "Template Eval Error: Exception(\"Transformer HolidayTransformer failed on fit from params ffill {'0': {'decimals': 0, 'on_transform': False, 'on_inverse': True}, '1': {'lag_1': 24, 'method': 'Median'}, '2': {}, '3': {'threshold': 0.9, 'splash_threshold': None, 'use_dayofmonth_holidays': True, 'use_wkdom_holidays': True, 'use_wkdeom_holidays': False, 'use_lunar_holidays': False, 'use_lunar_weekday': False, 'use_islamic_holidays': False, 'use_hebrew_holidays': False, 'use_hindu_holidays': False, 'anomaly_detector_params': {'method': 'IQR', 'method_params': {'iqr_threshold': 1.5, 'iqr_quantiles': [0.4, 0.6]}, 'fillna': 'linear', 'transform_dict': {'fillna': 'ffill', 'transformations': {'0': 'AlignLastValue', '1': 'ScipyFilter'}, 'transformation_params': {'0': {'rows': 1, 'lag': 1, 'method': 'additive', 'strength': 1.0, 'first_value_only': False, 'threshold': None, 'threshold_method': 'mean'}, '1': {'method': 'butter', 'method_args': {'N': 4, 'btype': 'lowpass', 'analog': False, 'output': 'sos', 'Wn': 0.041666666666666664}}}}, 'isolated_only': False, 'on_inverse': False}, 'remove_excess_anomalies': True, 'impact': 'median_value', 'regression_params': {}}, '4': {'rows': 1, 'lag': 84, 'method': 'additive', 'strength': 1.0, 'first_value_only': False, 'threshold': 1, 'threshold_method': 'mean'}} with error Exception('Transformer ScipyFilter failed on fit')\") in model 1116 in generation 11: GLS\n",
            "Model Number: 1117 with model SeasonalityMotif in generation 11 of 25\n",
            "Model Number: 1118 with model GLS in generation 11 of 25\n",
            "Model Number: 1119 with model DatepartRegression in generation 11 of 25\n",
            "Model Number: 1120 with model LastValueNaive in generation 11 of 25\n",
            "Model Number: 1121 with model AverageValueNaive in generation 11 of 25\n"
          ]
        },
        {
          "output_type": "stream",
          "name": "stderr",
          "text": [
            "/usr/local/lib/python3.11/dist-packages/sklearn/linear_model/_coordinate_descent.py:695: ConvergenceWarning: Objective did not converge. You might want to increase the number of iterations, check the scale of the features or consider increasing regularisation. Duality gap: 0.000e+00, tolerance: 0.000e+00\n",
            "  model = cd_fast.enet_coordinate_descent(\n"
          ]
        },
        {
          "output_type": "stream",
          "name": "stdout",
          "text": [
            "New Generation: 12 of 25\n",
            "Model Number: 1122 with model LastValueNaive in generation 12 of 25\n",
            "Model Number: 1123 with model ETS in generation 12 of 25\n",
            "Template Eval Error: Exception('Transformer CenterSplit failed on fit from params ffill {\\'0\\': {}, \\'1\\': {\\'fillna\\': \\'linear\\', \\'center\\': \\'median\\'}, \\'2\\': {\\'fillna\\': \\'mean\\', \\'center\\': \\'zero\\'}, \\'3\\': {}, \\'4\\': {\\'lag\\': 1, \\'fill\\': \\'zero\\'}, \\'5\\': {}} with error ValueError(\"columns overlap but no suffix specified: Index([\\'followers_gained_lltmicro\\'], dtype=\\'object\\')\")') in model 1123 in generation 12: ETS\n",
            "Model Number: 1124 with model FFT in generation 12 of 25\n",
            "Model Number: 1125 with model SeasonalNaive in generation 12 of 25\n",
            "Model Number: 1126 with model SeasonalNaive in generation 12 of 25\n",
            "Model Number: 1127 with model GLM in generation 12 of 25\n",
            "Model Number: 1128 with model FBProphet in generation 12 of 25\n",
            "Template Eval Error: Exception(\"Transformer AlignLastValue failed on fit from params mean {'0': {'lag': 1, 'fill': 'bfill'}, '1': {'rows': 1, 'lag': 28, 'method': 'additive', 'strength': 1.0, 'first_value_only': False, 'threshold': 1, 'threshold_method': 'max'}, '2': {'rolling_window': 180, 'n_tails': 360, 'n_future': 0.05, 'method': 'median', 'macro_micro': True}, '3': {'rows': 1, 'lag': 1, 'method': 'additive', 'strength': 1.0, 'first_value_only': False, 'threshold': None, 'threshold_method': 'max'}} with error IndexError('single positional indexer is out-of-bounds')\") in model 1128 in generation 12: FBProphet\n",
            "Model Number: 1129 with model LastValueNaive in generation 12 of 25\n",
            "Model Number: 1130 with model SeasonalNaive in generation 12 of 25\n",
            "Model Number: 1131 with model SeasonalityMotif in generation 12 of 25\n",
            "Model Number: 1132 with model DatepartRegression in generation 12 of 25\n",
            "Template Eval Error: ValueError(\"regression_type='User' but no future_regressor passed\") in model 1132 in generation 12: DatepartRegression\n",
            "Model Number: 1133 with model GLS in generation 12 of 25\n",
            "Template Eval Error: ValueError('zero-size array to reduction operation maximum which has no identity') in model 1133 in generation 12: GLS\n",
            "Model Number: 1134 with model ConstantNaive in generation 12 of 25\n",
            "Model Number: 1135 with model FFT in generation 12 of 25\n",
            "Model Number: 1136 with model ConstantNaive in generation 12 of 25\n",
            "Template Eval Error: Exception(\"Transformer AlignLastValue failed on fit from params ffill {'0': {}, '1': {'rows': 1, 'lag': 1, 'method': 'additive', 'strength': 1.0, 'first_value_only': True, 'threshold': None, 'threshold_method': 'mean'}, '2': {'window': None}, '3': {'lag': 1, 'fill': 'bfill'}, '4': {'rows': 1, 'lag': 84, 'method': 'additive', 'strength': 1.0, 'first_value_only': False, 'threshold': 1, 'threshold_method': 'mean'}} with error IndexError('single positional indexer is out-of-bounds')\") in model 1136 in generation 12: ConstantNaive\n",
            "Model Number: 1137 with model GLM in generation 12 of 25\n"
          ]
        },
        {
          "output_type": "stream",
          "name": "stderr",
          "text": [
            "/usr/local/lib/python3.11/dist-packages/autots/tools/window_functions.py:605: RuntimeWarning: invalid value encountered in divide\n",
            "  slope = (sxy - sx * sy) / (sx2 - sx**2)\n"
          ]
        },
        {
          "output_type": "stream",
          "name": "stdout",
          "text": [
            "Model Number: 1138 with model FFT in generation 12 of 25\n",
            "Model Number: 1139 with model LastValueNaive in generation 12 of 25\n",
            "Model Number: 1140 with model AverageValueNaive in generation 12 of 25\n"
          ]
        },
        {
          "output_type": "stream",
          "name": "stderr",
          "text": [
            "/usr/local/lib/python3.11/dist-packages/statsmodels/genmod/families/links.py:198: RuntimeWarning: overflow encountered in exp\n",
            "  t = np.exp(-z)\n"
          ]
        },
        {
          "output_type": "stream",
          "name": "stdout",
          "text": [
            "Model Number: 1141 with model FBProphet in generation 12 of 25\n",
            "Model Number: 1142 with model FFT in generation 12 of 25\n",
            "Template Eval Error: Exception(\"Transformer AlignLastValue failed on fit from params ffill {'0': {'method': 'clip', 'std_threshold': 4, 'fillna': None}, '1': {'model': 'Linear', 'phi': 1, 'window': None, 'transform_dict': None}, '2': {}, '3': {'method': 'IQR', 'method_params': {'iqr_threshold': 2.5, 'iqr_quantiles': [0.25, 0.75]}, 'fillna': 'rolling_mean_24', 'transform_dict': None, 'isolated_only': False, 'on_inverse': False}, '4': {'rows': 1, 'lag': 28, 'method': 'additive', 'strength': 1.0, 'first_value_only': False, 'threshold': 1, 'threshold_method': 'max'}} with error IndexError('single positional indexer is out-of-bounds')\") in model 1142 in generation 12: FFT\n",
            "Model Number: 1143 with model FBProphet in generation 12 of 25\n",
            "Template Eval Error: Exception(\"Transformer BTCD failed on fit from params mean {'0': {'window_size': 90, 'alpha': 2.0, 'grouping_forward_limit': 3, 'max_level_shifts': 40, 'alignment': 'average'}, '1': {}, '2': {'regression_model': {'model': 'LinearRegression', 'model_params': {}}, 'max_lags': 1}, '3': {'discretization': 'upper', 'n_bins': 20}, '4': {'lag': 1, 'fill': 'bfill'}} with error ValueError('BTCD only works on multivarate series')\") in model 1143 in generation 12: FBProphet\n",
            "Model Number: 1144 with model ARDL in generation 12 of 25\n",
            "Template Eval Error: ValueError(\"regression_type='User' but future_regressor not supplied\") in model 1144 in generation 12: ARDL\n",
            "Model Number: 1145 with model SeasonalityMotif in generation 12 of 25\n",
            "Model Number: 1146 with model SeasonalNaive in generation 12 of 25\n",
            "Model Number: 1147 with model DatepartRegression in generation 12 of 25\n",
            "Model Number: 1148 with model DatepartRegression in generation 12 of 25\n",
            "Template Eval Error: ValueError(\"regression_type='User' but no future_regressor passed\") in model 1148 in generation 12: DatepartRegression\n",
            "Model Number: 1149 with model FBProphet in generation 12 of 25\n",
            "Template Eval Error: Exception(\"Transformer AlignLastValue failed on fit from params ffill {'0': {'output_distribution': 'uniform', 'n_quantiles': 3}, '1': {'rows': 1, 'lag': 28, 'method': 'additive', 'strength': 1.0, 'first_value_only': False, 'threshold': 1, 'threshold_method': 'max'}, '2': {'discretization': 'upper', 'n_bins': 20}, '3': {'lag': 1, 'fill': 'bfill'}, '4': {'lag': 1, 'fill': 'bfill'}} with error IndexError('single positional indexer is out-of-bounds')\") in model 1149 in generation 12: FBProphet\n",
            "Model Number: 1150 with model SeasonalityMotif in generation 12 of 25\n",
            "Model Number: 1151 with model SeasonalNaive in generation 12 of 25\n",
            "Model Number: 1152 with model DatepartRegression in generation 12 of 25\n",
            "Epoch 1/50\n"
          ]
        },
        {
          "output_type": "stream",
          "name": "stderr",
          "text": [
            "/usr/local/lib/python3.11/dist-packages/keras/src/layers/rnn/rnn.py:200: UserWarning: Do not pass an `input_shape`/`input_dim` argument to a layer. When using Sequential models, prefer using an `Input(shape)` object as the first layer in the model instead.\n",
            "  super().__init__(**kwargs)\n"
          ]
        },
        {
          "output_type": "stream",
          "name": "stdout",
          "text": [
            "\u001b[1m2/2\u001b[0m \u001b[32m━━━━━━━━━━━━━━━━━━━━\u001b[0m\u001b[37m\u001b[0m \u001b[1m6s\u001b[0m 165ms/step - loss: 290606240.0000\n",
            "Epoch 2/50\n",
            "\u001b[1m2/2\u001b[0m \u001b[32m━━━━━━━━━━━━━━━━━━━━\u001b[0m\u001b[37m\u001b[0m \u001b[1m0s\u001b[0m 161ms/step - loss: 74051520.0000\n",
            "Epoch 3/50\n",
            "\u001b[1m2/2\u001b[0m \u001b[32m━━━━━━━━━━━━━━━━━━━━\u001b[0m\u001b[37m\u001b[0m \u001b[1m0s\u001b[0m 177ms/step - loss: 104872280.0000\n",
            "Epoch 4/50\n",
            "\u001b[1m2/2\u001b[0m \u001b[32m━━━━━━━━━━━━━━━━━━━━\u001b[0m\u001b[37m\u001b[0m \u001b[1m1s\u001b[0m 173ms/step - loss: 133374040.0000\n",
            "Epoch 5/50\n",
            "\u001b[1m2/2\u001b[0m \u001b[32m━━━━━━━━━━━━━━━━━━━━\u001b[0m\u001b[37m\u001b[0m \u001b[1m0s\u001b[0m 177ms/step - loss: 80991536.0000\n",
            "Epoch 6/50\n",
            "\u001b[1m2/2\u001b[0m \u001b[32m━━━━━━━━━━━━━━━━━━━━\u001b[0m\u001b[37m\u001b[0m \u001b[1m0s\u001b[0m 163ms/step - loss: 21057390.0000\n",
            "Epoch 7/50\n",
            "\u001b[1m2/2\u001b[0m \u001b[32m━━━━━━━━━━━━━━━━━━━━\u001b[0m\u001b[37m\u001b[0m \u001b[1m0s\u001b[0m 165ms/step - loss: 35807832.0000\n",
            "Epoch 8/50\n",
            "\u001b[1m2/2\u001b[0m \u001b[32m━━━━━━━━━━━━━━━━━━━━\u001b[0m\u001b[37m\u001b[0m \u001b[1m0s\u001b[0m 170ms/step - loss: 60611652.0000\n",
            "Epoch 9/50\n",
            "\u001b[1m2/2\u001b[0m \u001b[32m━━━━━━━━━━━━━━━━━━━━\u001b[0m\u001b[37m\u001b[0m \u001b[1m0s\u001b[0m 163ms/step - loss: 41922012.0000\n",
            "Epoch 10/50\n",
            "\u001b[1m2/2\u001b[0m \u001b[32m━━━━━━━━━━━━━━━━━━━━\u001b[0m\u001b[37m\u001b[0m \u001b[1m0s\u001b[0m 163ms/step - loss: 28010020.0000\n",
            "Epoch 11/50\n",
            "\u001b[1m2/2\u001b[0m \u001b[32m━━━━━━━━━━━━━━━━━━━━\u001b[0m\u001b[37m\u001b[0m \u001b[1m1s\u001b[0m 160ms/step - loss: 34478824.0000\n",
            "Epoch 12/50\n",
            "\u001b[1m2/2\u001b[0m \u001b[32m━━━━━━━━━━━━━━━━━━━━\u001b[0m\u001b[37m\u001b[0m \u001b[1m0s\u001b[0m 163ms/step - loss: 28768066.0000\n",
            "Epoch 13/50\n",
            "\u001b[1m2/2\u001b[0m \u001b[32m━━━━━━━━━━━━━━━━━━━━\u001b[0m\u001b[37m\u001b[0m \u001b[1m1s\u001b[0m 160ms/step - loss: 27166124.0000\n",
            "Epoch 14/50\n",
            "\u001b[1m2/2\u001b[0m \u001b[32m━━━━━━━━━━━━━━━━━━━━\u001b[0m\u001b[37m\u001b[0m \u001b[1m1s\u001b[0m 159ms/step - loss: 23108184.0000\n",
            "Epoch 15/50\n",
            "\u001b[1m2/2\u001b[0m \u001b[32m━━━━━━━━━━━━━━━━━━━━\u001b[0m\u001b[37m\u001b[0m \u001b[1m1s\u001b[0m 161ms/step - loss: 26505198.0000\n",
            "Epoch 16/50\n",
            "\u001b[1m2/2\u001b[0m \u001b[32m━━━━━━━━━━━━━━━━━━━━\u001b[0m\u001b[37m\u001b[0m \u001b[1m1s\u001b[0m 179ms/step - loss: 24357308.0000\n",
            "Epoch 17/50\n",
            "\u001b[1m2/2\u001b[0m \u001b[32m━━━━━━━━━━━━━━━━━━━━\u001b[0m\u001b[37m\u001b[0m \u001b[1m1s\u001b[0m 166ms/step - loss: 18730284.0000\n",
            "Epoch 18/50\n",
            "\u001b[1m2/2\u001b[0m \u001b[32m━━━━━━━━━━━━━━━━━━━━\u001b[0m\u001b[37m\u001b[0m \u001b[1m0s\u001b[0m 161ms/step - loss: 12543532.0000\n",
            "Epoch 19/50\n",
            "\u001b[1m2/2\u001b[0m \u001b[32m━━━━━━━━━━━━━━━━━━━━\u001b[0m\u001b[37m\u001b[0m \u001b[1m0s\u001b[0m 169ms/step - loss: 9732885.0000\n",
            "Epoch 20/50\n",
            "\u001b[1m2/2\u001b[0m \u001b[32m━━━━━━━━━━━━━━━━━━━━\u001b[0m\u001b[37m\u001b[0m \u001b[1m1s\u001b[0m 160ms/step - loss: 12183747.0000\n",
            "Epoch 21/50\n",
            "\u001b[1m2/2\u001b[0m \u001b[32m━━━━━━━━━━━━━━━━━━━━\u001b[0m\u001b[37m\u001b[0m \u001b[1m1s\u001b[0m 221ms/step - loss: 17216400.0000\n",
            "Epoch 22/50\n",
            "\u001b[1m2/2\u001b[0m \u001b[32m━━━━━━━━━━━━━━━━━━━━\u001b[0m\u001b[37m\u001b[0m \u001b[1m1s\u001b[0m 272ms/step - loss: 9185994.0000\n",
            "Epoch 23/50\n",
            "\u001b[1m2/2\u001b[0m \u001b[32m━━━━━━━━━━━━━━━━━━━━\u001b[0m\u001b[37m\u001b[0m \u001b[1m1s\u001b[0m 290ms/step - loss: 18448590.0000\n",
            "Epoch 24/50\n",
            "\u001b[1m2/2\u001b[0m \u001b[32m━━━━━━━━━━━━━━━━━━━━\u001b[0m\u001b[37m\u001b[0m \u001b[1m1s\u001b[0m 266ms/step - loss: 11844993.0000\n",
            "Epoch 25/50\n",
            "\u001b[1m2/2\u001b[0m \u001b[32m━━━━━━━━━━━━━━━━━━━━\u001b[0m\u001b[37m\u001b[0m \u001b[1m1s\u001b[0m 285ms/step - loss: 20429824.0000\n",
            "Epoch 26/50\n",
            "\u001b[1m2/2\u001b[0m \u001b[32m━━━━━━━━━━━━━━━━━━━━\u001b[0m\u001b[37m\u001b[0m \u001b[1m1s\u001b[0m 282ms/step - loss: 14731966.0000\n",
            "Epoch 27/50\n",
            "\u001b[1m2/2\u001b[0m \u001b[32m━━━━━━━━━━━━━━━━━━━━\u001b[0m\u001b[37m\u001b[0m \u001b[1m0s\u001b[0m 180ms/step - loss: 17322452.0000\n",
            "Epoch 28/50\n",
            "\u001b[1m2/2\u001b[0m \u001b[32m━━━━━━━━━━━━━━━━━━━━\u001b[0m\u001b[37m\u001b[0m \u001b[1m0s\u001b[0m 168ms/step - loss: 8405038.0000\n",
            "Epoch 29/50\n",
            "\u001b[1m2/2\u001b[0m \u001b[32m━━━━━━━━━━━━━━━━━━━━\u001b[0m\u001b[37m\u001b[0m \u001b[1m1s\u001b[0m 185ms/step - loss: 13775523.0000\n",
            "Epoch 30/50\n",
            "\u001b[1m2/2\u001b[0m \u001b[32m━━━━━━━━━━━━━━━━━━━━\u001b[0m\u001b[37m\u001b[0m \u001b[1m0s\u001b[0m 162ms/step - loss: 12454155.0000\n",
            "Epoch 31/50\n",
            "\u001b[1m2/2\u001b[0m \u001b[32m━━━━━━━━━━━━━━━━━━━━\u001b[0m\u001b[37m\u001b[0m \u001b[1m0s\u001b[0m 160ms/step - loss: 11497487.0000\n",
            "Epoch 32/50\n",
            "\u001b[1m2/2\u001b[0m \u001b[32m━━━━━━━━━━━━━━━━━━━━\u001b[0m\u001b[37m\u001b[0m \u001b[1m1s\u001b[0m 161ms/step - loss: 10498255.0000\n",
            "Epoch 33/50\n",
            "\u001b[1m2/2\u001b[0m \u001b[32m━━━━━━━━━━━━━━━━━━━━\u001b[0m\u001b[37m\u001b[0m \u001b[1m1s\u001b[0m 162ms/step - loss: 19057642.0000\n",
            "Epoch 34/50\n",
            "\u001b[1m2/2\u001b[0m \u001b[32m━━━━━━━━━━━━━━━━━━━━\u001b[0m\u001b[37m\u001b[0m \u001b[1m0s\u001b[0m 159ms/step - loss: 12096705.0000\n",
            "Epoch 35/50\n",
            "\u001b[1m2/2\u001b[0m \u001b[32m━━━━━━━━━━━━━━━━━━━━\u001b[0m\u001b[37m\u001b[0m \u001b[1m0s\u001b[0m 162ms/step - loss: 9903393.0000\n",
            "Epoch 36/50\n",
            "\u001b[1m2/2\u001b[0m \u001b[32m━━━━━━━━━━━━━━━━━━━━\u001b[0m\u001b[37m\u001b[0m \u001b[1m0s\u001b[0m 172ms/step - loss: 10508148.0000\n",
            "Epoch 37/50\n",
            "\u001b[1m2/2\u001b[0m \u001b[32m━━━━━━━━━━━━━━━━━━━━\u001b[0m\u001b[37m\u001b[0m \u001b[1m0s\u001b[0m 166ms/step - loss: 12293009.0000\n",
            "Epoch 38/50\n",
            "\u001b[1m2/2\u001b[0m \u001b[32m━━━━━━━━━━━━━━━━━━━━\u001b[0m\u001b[37m\u001b[0m \u001b[1m0s\u001b[0m 159ms/step - loss: 11711399.0000\n",
            "Epoch 39/50\n",
            "\u001b[1m2/2\u001b[0m \u001b[32m━━━━━━━━━━━━━━━━━━━━\u001b[0m\u001b[37m\u001b[0m \u001b[1m1s\u001b[0m 164ms/step - loss: 13172602.0000\n",
            "Epoch 40/50\n",
            "\u001b[1m2/2\u001b[0m \u001b[32m━━━━━━━━━━━━━━━━━━━━\u001b[0m\u001b[37m\u001b[0m \u001b[1m0s\u001b[0m 163ms/step - loss: 10703097.0000\n",
            "Epoch 41/50\n",
            "\u001b[1m2/2\u001b[0m \u001b[32m━━━━━━━━━━━━━━━━━━━━\u001b[0m\u001b[37m\u001b[0m \u001b[1m0s\u001b[0m 177ms/step - loss: 15768364.0000\n",
            "Epoch 42/50\n",
            "\u001b[1m2/2\u001b[0m \u001b[32m━━━━━━━━━━━━━━━━━━━━\u001b[0m\u001b[37m\u001b[0m \u001b[1m1s\u001b[0m 163ms/step - loss: 8700899.0000\n",
            "Epoch 43/50\n",
            "\u001b[1m2/2\u001b[0m \u001b[32m━━━━━━━━━━━━━━━━━━━━\u001b[0m\u001b[37m\u001b[0m \u001b[1m0s\u001b[0m 160ms/step - loss: 13170293.0000\n",
            "Epoch 44/50\n",
            "\u001b[1m2/2\u001b[0m \u001b[32m━━━━━━━━━━━━━━━━━━━━\u001b[0m\u001b[37m\u001b[0m \u001b[1m1s\u001b[0m 161ms/step - loss: 13198892.0000\n",
            "Epoch 45/50\n",
            "\u001b[1m2/2\u001b[0m \u001b[32m━━━━━━━━━━━━━━━━━━━━\u001b[0m\u001b[37m\u001b[0m \u001b[1m1s\u001b[0m 169ms/step - loss: 11466601.0000\n",
            "Epoch 46/50\n",
            "\u001b[1m2/2\u001b[0m \u001b[32m━━━━━━━━━━━━━━━━━━━━\u001b[0m\u001b[37m\u001b[0m \u001b[1m0s\u001b[0m 161ms/step - loss: 9041613.0000\n",
            "Epoch 47/50\n",
            "\u001b[1m2/2\u001b[0m \u001b[32m━━━━━━━━━━━━━━━━━━━━\u001b[0m\u001b[37m\u001b[0m \u001b[1m0s\u001b[0m 159ms/step - loss: 7447480.5000\n",
            "Epoch 48/50\n",
            "\u001b[1m2/2\u001b[0m \u001b[32m━━━━━━━━━━━━━━━━━━━━\u001b[0m\u001b[37m\u001b[0m \u001b[1m0s\u001b[0m 159ms/step - loss: 8117513.5000\n",
            "Epoch 49/50\n",
            "\u001b[1m2/2\u001b[0m \u001b[32m━━━━━━━━━━━━━━━━━━━━\u001b[0m\u001b[37m\u001b[0m \u001b[1m0s\u001b[0m 164ms/step - loss: 6371219.0000\n",
            "Epoch 50/50\n",
            "\u001b[1m2/2\u001b[0m \u001b[32m━━━━━━━━━━━━━━━━━━━━\u001b[0m\u001b[37m\u001b[0m \u001b[1m1s\u001b[0m 270ms/step - loss: 8484839.0000\n",
            "\u001b[1m1/1\u001b[0m \u001b[32m━━━━━━━━━━━━━━━━━━━━\u001b[0m\u001b[37m\u001b[0m \u001b[1m1s\u001b[0m 670ms/step\n",
            "Model Number: 1153 with model ARDL in generation 12 of 25\n",
            "Model Number: 1154 with model LastValueNaive in generation 12 of 25\n",
            "Model Number: 1155 with model SeasonalityMotif in generation 12 of 25\n",
            "Model Number: 1156 with model ConstantNaive in generation 12 of 25\n",
            "Model Number: 1157 with model SeasonalityMotif in generation 12 of 25\n",
            "Model Number: 1158 with model LastValueNaive in generation 12 of 25\n",
            "Model Number: 1159 with model FBProphet in generation 12 of 25\n",
            "Model Number: 1160 with model SeasonalNaive in generation 12 of 25\n",
            "Model Number: 1161 with model FFT in generation 12 of 25\n",
            "Model Number: 1162 with model ConstantNaive in generation 12 of 25\n",
            "Model Number: 1163 with model ETS in generation 12 of 25\n",
            "Model Number: 1164 with model LastValueNaive in generation 12 of 25\n",
            "Model Number: 1165 with model ETS in generation 12 of 25\n",
            "Model Number: 1166 with model GLM in generation 12 of 25\n",
            "Model Number: 1167 with model ETS in generation 12 of 25\n",
            "Template Eval Error: ValueError('Model ETS returned NaN for one or more series. fail_on_forecast_nan=True') in model 1167 in generation 12: ETS\n",
            "Model Number: 1168 with model ETS in generation 12 of 25\n",
            "Template Eval Error: ValueError('Model ETS returned NaN for one or more series. fail_on_forecast_nan=True') in model 1168 in generation 12: ETS\n",
            "Model Number: 1169 with model AverageValueNaive in generation 12 of 25\n",
            "Model Number: 1170 with model ETS in generation 12 of 25\n"
          ]
        },
        {
          "output_type": "stream",
          "name": "stderr",
          "text": [
            "/usr/local/lib/python3.11/dist-packages/autots/tools/window_functions.py:605: RuntimeWarning: invalid value encountered in divide\n",
            "  slope = (sxy - sx * sy) / (sx2 - sx**2)\n",
            "/usr/local/lib/python3.11/dist-packages/autots/tools/window_functions.py:605: RuntimeWarning: invalid value encountered in divide\n",
            "  slope = (sxy - sx * sy) / (sx2 - sx**2)\n"
          ]
        },
        {
          "output_type": "stream",
          "name": "stdout",
          "text": [
            "Model Number: 1171 with model ETS in generation 12 of 25\n",
            "Template Eval Error: Exception(\"Transformer ScipyFilter failed on fit from params linear {'0': {}, '1': {'rows': 90, 'displacement_rows': 1, 'quantile': 0.5, 'decay_span': None}, '2': {'rows': 1, 'lag': 1, 'method': 'additive', 'strength': 0.9, 'first_value_only': False, 'threshold': 10, 'threshold_method': 'max'}, '3': {'method': 100}, '4': {'method': 'butter', 'method_args': {'N': 3, 'btype': 'highpass', 'analog': False, 'output': 'sos', 'Wn': 0.5}}} with error ValueError('The length of the input vector x must be greater than padlen, which is 12.')\") in model 1171 in generation 12: ETS\n",
            "Model Number: 1172 with model AverageValueNaive in generation 12 of 25\n",
            "Template Eval Error: Exception(\"Transformer STLFilter failed on fit from params ffill {'0': {'fillna': 'mean', 'center': 'median'}, '1': {}, '2': {'rows': 1, 'lag': 1, 'method': 'multiplicative', 'strength': 1.0, 'first_value_only': True, 'threshold': 10, 'threshold_method': 'mean'}, '3': {'decimals': -1, 'on_transform': False, 'on_inverse': True}, '4': {'constant': 0, 'reintroduction_model': None, 'fillna': 'linear'}, '5': {'decomp_type': 'seasonal_decompose', 'part': 'trend'}} with error ValueError('x must have 2 complete cycles requires 24 observations. x only has 11 observation(s)')\") in model 1172 in generation 12: AverageValueNaive\n",
            "Model Number: 1173 with model ETS in generation 12 of 25\n",
            "Model Number: 1174 with model DatepartRegression in generation 12 of 25\n",
            "Template Eval Error: ValueError(\"regression_type='User' but no future_regressor passed\") in model 1174 in generation 12: DatepartRegression\n",
            "Model Number: 1175 with model SeasonalNaive in generation 12 of 25\n",
            "Model Number: 1176 with model SeasonalNaive in generation 12 of 25\n",
            "Model Number: 1177 with model FFT in generation 12 of 25\n",
            "Template Eval Error: Exception(\"Transformer AlignLastValue failed on fit from params akima {'0': {'window_size': 30, 'alpha': 2.0, 'grouping_forward_limit': 5, 'max_level_shifts': 10, 'alignment': 'average'}, '1': {'method': 'savgol_filter', 'method_args': {'window_length': 7, 'polyorder': 4, 'deriv': 0, 'mode': 'nearest'}}, '2': {}, '3': {}, '4': {'method': 'IQR', 'method_params': {'iqr_threshold': 2.0, 'iqr_quantiles': [0.4, 0.6]}, 'fillna': 'rolling_mean_24', 'transform_dict': {'fillna': None, 'transformations': {'0': 'ClipOutliers'}, 'transformation_params': {'0': {'method': 'clip', 'std_threshold': 6}}}, 'isolated_only': True, 'on_inverse': False}, '5': {'rows': 1, 'lag': 28, 'method': 'additive', 'strength': 1.0, 'first_value_only': False, 'threshold': 1, 'threshold_method': 'max'}} with error IndexError('single positional indexer is out-of-bounds')\") in model 1177 in generation 12: FFT\n",
            "Model Number: 1178 with model ARDL in generation 12 of 25\n",
            "Model Number: 1179 with model GLM in generation 12 of 25\n",
            "Model Number: 1180 with model LastValueNaive in generation 12 of 25\n",
            "Model Number: 1181 with model LastValueNaive in generation 12 of 25\n",
            "Model Number: 1182 with model LastValueNaive in generation 12 of 25\n"
          ]
        },
        {
          "output_type": "stream",
          "name": "stderr",
          "text": [
            "/usr/local/lib/python3.11/dist-packages/statsmodels/genmod/families/links.py:198: RuntimeWarning: overflow encountered in exp\n",
            "  t = np.exp(-z)\n"
          ]
        },
        {
          "output_type": "stream",
          "name": "stdout",
          "text": [
            "Model Number: 1183 with model LastValueNaive in generation 12 of 25\n",
            "Model Number: 1184 with model LastValueNaive in generation 12 of 25\n",
            "New Generation: 13 of 25\n",
            "Model Number: 1185 with model SeasonalNaive in generation 13 of 25\n",
            "Template Eval Error: Exception(\"Transformer AlignLastValue failed on fit from params ffill_mean_biased {'0': {'discretization': 'sklearn-quantile', 'n_bins': 50}, '1': {}, '2': {'rows': 1, 'lag': 84, 'method': 'additive', 'strength': 0.5, 'first_value_only': False, 'threshold': None, 'threshold_method': 'max'}, '3': {'discretization': 'upper', 'n_bins': 20}} with error IndexError('single positional indexer is out-of-bounds')\") in model 1185 in generation 13: SeasonalNaive\n",
            "Model Number: 1186 with model SeasonalNaive in generation 13 of 25\n",
            "Model Number: 1187 with model SeasonalNaive in generation 13 of 25\n",
            "Model Number: 1188 with model FFT in generation 13 of 25\n",
            "Model Number: 1189 with model GLS in generation 13 of 25\n",
            "Model Number: 1190 with model AverageValueNaive in generation 13 of 25\n",
            "Model Number: 1191 with model LastValueNaive in generation 13 of 25\n",
            "Model Number: 1192 with model DatepartRegression in generation 13 of 25\n",
            "Template Eval Error: ValueError(\"regression_type='User' but no future_regressor passed\") in model 1192 in generation 13: DatepartRegression\n",
            "Model Number: 1193 with model ARDL in generation 13 of 25\n",
            "Model Number: 1194 with model DatepartRegression in generation 13 of 25\n",
            "Template Eval Error: IndexError('tuple index out of range') in model 1194 in generation 13: DatepartRegression\n",
            "Model Number: 1195 with model GLM in generation 13 of 25\n",
            "Template Eval Error: ValueError('regression_type=user and no future_regressor passed') in model 1195 in generation 13: GLM\n",
            "Model Number: 1196 with model SeasonalNaive in generation 13 of 25\n",
            "Model Number: 1197 with model AverageValueNaive in generation 13 of 25\n",
            "Model Number: 1198 with model FBProphet in generation 13 of 25\n",
            "No anomalies detected.\n"
          ]
        },
        {
          "output_type": "stream",
          "name": "stderr",
          "text": [
            "/usr/local/lib/python3.11/dist-packages/sklearn/neighbors/_classification.py:239: DataConversionWarning: A column-vector y was passed when a 1d array was expected. Please change the shape of y to (n_samples,), for example using ravel().\n",
            "  return self._fit(X, y)\n"
          ]
        },
        {
          "output_type": "stream",
          "name": "stdout",
          "text": [
            "Template Eval Error: Exception(\"Transformer ReplaceConstant failed on inverse from params ffill {'0': {'window_size': 90, 'alpha': 2.0, 'grouping_forward_limit': 3, 'max_level_shifts': 40, 'alignment': 'average'}, '1': {'constant': 0, 'reintroduction_model': {'model': 'KNN', 'model_params': {'n_neighbors': 14, 'weights': 'uniform', 'p': 2, 'leaf_size': 30}, 'datepart_method': ['weekdayofmonth', 'common_fourier']}, 'fillna': 'pchip'}, '2': {'lag': 1, 'fill': 'bfill'}} with ValueError('Expected n_neighbors <= n_samples_fit, but n_neighbors = 14, n_samples_fit = 11, n_samples = 4')\") in model 1198 in generation 13: FBProphet\n",
            "Model Number: 1199 with model ARDL in generation 13 of 25\n",
            "Model Number: 1200 with model GLM in generation 13 of 25\n",
            "Template Eval Error: ValueError('regression_type=user and no future_regressor passed') in model 1200 in generation 13: GLM\n",
            "Model Number: 1201 with model GLM in generation 13 of 25\n",
            "Model Number: 1202 with model ConstantNaive in generation 13 of 25\n"
          ]
        },
        {
          "output_type": "stream",
          "name": "stderr",
          "text": [
            "/usr/local/lib/python3.11/dist-packages/statsmodels/genmod/families/links.py:198: RuntimeWarning: overflow encountered in exp\n",
            "  t = np.exp(-z)\n"
          ]
        },
        {
          "output_type": "stream",
          "name": "stdout",
          "text": [
            "Model Number: 1203 with model DatepartRegression in generation 13 of 25\n",
            "Template Eval Error: ValueError(\"regression_type='User' but no future_regressor passed\") in model 1203 in generation 13: DatepartRegression\n",
            "Model Number: 1204 with model FBProphet in generation 13 of 25\n",
            "Template Eval Error: Exception(\"Transformer STLFilter failed on fit from params mean {'0': {'window': 364}, '1': {'fillna': 'one', 'center': 'median'}, '2': {'method': 'IQR', 'method_params': {'iqr_threshold': 2.0, 'iqr_quantiles': [0.4, 0.6]}, 'fillna': 'ffill', 'transform_dict': None, 'isolated_only': False, 'on_inverse': False}, '3': {'decomp_type': 'seasonal_decompose', 'part': 'trend'}, '4': {'lag': 1, 'fill': 'bfill'}} with error ValueError('x must have 2 complete cycles requires 24 observations. x only has 11 observation(s)')\") in model 1204 in generation 13: FBProphet\n",
            "Model Number: 1205 with model LastValueNaive in generation 13 of 25\n",
            "Template Eval Error: Exception(\"Transformer AlignLastValue failed on fit from params fake_date {'0': {'rows': 1, 'lag': 28, 'method': 'additive', 'strength': 1.0, 'first_value_only': False, 'threshold': 1, 'threshold_method': 'max'}, '1': {'lag_1': 7, 'method': 5}, '2': {'n_harmonics': 10, 'detrend': 'quadratic'}, '3': {'method': 'nonparametric', 'method_params': {'p': None, 'z_init': 2.0, 'z_limit': 12, 'z_step': 0.5, 'inverse': False, 'max_contamination': 0.1, 'mean_weight': 25, 'sd_weight': 25, 'anomaly_count_weight': 1.0}, 'fillna': 'mean', 'transform_dict': {'fillna': None, 'transformations': {'0': 'EWMAFilter'}, 'transformation_params': {'0': {'span': 7}}}, 'isolated_only': False, 'on_inverse': False}} with error IndexError('single positional indexer is out-of-bounds')\") in model 1205 in generation 13: LastValueNaive\n",
            "Model Number: 1206 with model GLM in generation 13 of 25\n",
            "Model Number: 1207 with model AverageValueNaive in generation 13 of 25\n",
            "Model Number: 1208 with model GLM in generation 13 of 25\n",
            "Model Number: 1209 with model LastValueNaive in generation 13 of 25\n",
            "Model Number: 1210 with model GLM in generation 13 of 25\n",
            "Template Eval Error: Exception(\"Transformer SeasonalDifference failed on fit from params rolling_mean_24 {'0': {'lag_1': 24, 'method': 20}, '1': {'method': 'IQR', 'method_params': {'iqr_threshold': 2.0, 'iqr_quantiles': [0.4, 0.6]}, 'fillna': 'ffill', 'transform_dict': None, 'isolated_only': False, 'on_inverse': False}} with error ValueError('cannot reshape array of size 11 into shape (0,24,newaxis)')\") in model 1210 in generation 13: GLM\n",
            "Model Number: 1211 with model FFT in generation 13 of 25\n",
            "Model Number: 1212 with model ConstantNaive in generation 13 of 25\n"
          ]
        },
        {
          "output_type": "stream",
          "name": "stderr",
          "text": [
            "/usr/local/lib/python3.11/dist-packages/statsmodels/genmod/families/links.py:198: RuntimeWarning: overflow encountered in exp\n",
            "  t = np.exp(-z)\n"
          ]
        },
        {
          "output_type": "stream",
          "name": "stdout",
          "text": [
            "Model Number: 1213 with model GLS in generation 13 of 25\n",
            "Model Number: 1214 with model AverageValueNaive in generation 13 of 25\n",
            "Template Eval Error: Exception(\"Transformer SeasonalDifference failed on fit from params ffill_mean_biased {'0': {'rows': 84, 'lag': 1, 'method': 'additive', 'strength': 0.9, 'first_value_only': False, 'threshold': 10, 'threshold_method': 'max'}, '1': {'fixed': True, 'window': 28, 'macro_micro': False, 'center': False}, '2': {'lag_1': 28, 'method': 20}, '3': {'rows': 4, 'lag': 1, 'method': 'additive', 'strength': 0.7, 'first_value_only': False, 'threshold': 10, 'threshold_method': 'max'}} with error ValueError('cannot reshape array of size 11 into shape (0,28,newaxis)')\") in model 1214 in generation 13: AverageValueNaive\n",
            "Model Number: 1215 with model ConstantNaive in generation 13 of 25\n",
            "Model Number: 1216 with model FFT in generation 13 of 25\n",
            "Model Number: 1217 with model FBProphet in generation 13 of 25\n",
            "Model Number: 1218 with model FFT in generation 13 of 25\n",
            "Model Number: 1219 with model ARDL in generation 13 of 25\n",
            "Model Number: 1220 with model FFT in generation 13 of 25\n",
            "Template Eval Error: Exception(\"Transformer AlignLastValue failed on fit from params ffill {'0': {'rows': 1, 'lag': 28, 'method': 'additive', 'strength': 1.0, 'first_value_only': False, 'threshold': 10, 'threshold_method': 'mean'}, '1': {'rows': 1, 'lag': 1, 'method': 'additive', 'strength': 1.0, 'first_value_only': False, 'threshold': 1, 'threshold_method': 'max'}, '2': {'method': 0.3}, '3': {'lag_1': 60, 'method': 'Median'}} with error IndexError('single positional indexer is out-of-bounds')\") in model 1220 in generation 13: FFT\n",
            "Model Number: 1221 with model FBProphet in generation 13 of 25\n",
            "Template Eval Error: Exception(\"Transformer SeasonalDifference failed on fit from params cubic {'0': {'lag_1': 50, 'method': 2}, '1': {}, '2': {'part': 'trend', 'lamb': 6.25}, '3': {'rows': 1, 'lag': 7, 'method': 'additive', 'strength': 0.9, 'first_value_only': False, 'threshold': None, 'threshold_method': 'mean'}} with error ValueError('cannot reshape array of size 11 into shape (0,50,newaxis)')\") in model 1221 in generation 13: FBProphet\n",
            "Model Number: 1222 with model FFT in generation 13 of 25\n",
            "Template Eval Error: Exception(\"Transformer Cointegration failed on fit from params quadratic {'0': {'method': 'clip', 'std_threshold': 4, 'fillna': None}, '1': {'model': 'Linear', 'phi': 1, 'window': None, 'transform_dict': None}, '2': {'det_order': 0, 'k_ar_diff': 0}} with error ValueError('Coint only works on multivarate series')\") in model 1222 in generation 13: FFT\n",
            "Model Number: 1223 with model ARDL in generation 13 of 25\n",
            "Model Number: 1224 with model FFT in generation 13 of 25\n",
            "Model Number: 1225 with model FBProphet in generation 13 of 25\n",
            "Template Eval Error: ValueError(\"regression_type='User' but no future_regressor passed\") in model 1225 in generation 13: FBProphet\n",
            "Model Number: 1226 with model DatepartRegression in generation 13 of 25\n",
            "Template Eval Error: InvalidParameterError(\"The 'alpha' parameter of MLPRegressor must be a float in the range [0.0, inf). Got None instead.\") in model 1226 in generation 13: DatepartRegression\n",
            "Model Number: 1227 with model ETS in generation 13 of 25\n",
            "Model Number: 1228 with model SeasonalityMotif in generation 13 of 25\n",
            "Template Eval Error: IndexError('index -40 is out of bounds for axis 0 with size 11') in model 1228 in generation 13: SeasonalityMotif\n",
            "Model Number: 1229 with model FBProphet in generation 13 of 25\n",
            "Model Number: 1230 with model AverageValueNaive in generation 13 of 25\n",
            "Model Number: 1231 with model FBProphet in generation 13 of 25\n",
            "Model Number: 1232 with model FBProphet in generation 13 of 25\n",
            "Model Number: 1233 with model GLS in generation 13 of 25\n",
            "Model Number: 1234 with model LastValueNaive in generation 13 of 25\n",
            "Model Number: 1235 with model FBProphet in generation 13 of 25\n",
            "Template Eval Error: ValueError(\"regression_type='User' but no future_regressor passed\") in model 1235 in generation 13: FBProphet\n",
            "Model Number: 1236 with model ConstantNaive in generation 13 of 25\n",
            "Model Number: 1237 with model SeasonalityMotif in generation 13 of 25\n",
            "Template Eval Error: Exception(\"Transformer ScipyFilter failed on fit from params ffill {'0': {'window_size': 90, 'alpha': 2.0, 'grouping_forward_limit': 3, 'max_level_shifts': 40, 'alignment': 'average'}, '1': {'method': 'butter', 'method_args': {'N': 6, 'btype': 'lowpass', 'analog': False, 'output': 'sos', 'Wn': 0.5}}, '2': {'lag': 1, 'fill': 'zero'}, '3': {'model': 'Gamma', 'changepoint_spacing': 180, 'changepoint_distance_end': 90, 'datepart_method': None}} with error ValueError('The length of the input vector x must be greater than padlen, which is 21.')\") in model 1237 in generation 13: SeasonalityMotif\n",
            "Model Number: 1238 with model GLM in generation 13 of 25\n",
            "Model Number: 1239 with model ARDL in generation 13 of 25\n",
            "Model Number: 1240 with model DatepartRegression in generation 13 of 25\n",
            "Model Number: 1241 with model ETS in generation 13 of 25\n",
            "Model Number: 1242 with model LastValueNaive in generation 13 of 25\n"
          ]
        },
        {
          "output_type": "stream",
          "name": "stderr",
          "text": [
            "/usr/local/lib/python3.11/dist-packages/statsmodels/genmod/families/links.py:198: RuntimeWarning: overflow encountered in exp\n",
            "  t = np.exp(-z)\n",
            "/usr/local/lib/python3.11/dist-packages/sklearn/decomposition/_fastica.py:592: UserWarning: Ignoring n_components with whiten=False.\n",
            "  warnings.warn(\"Ignoring n_components with whiten=False.\")\n"
          ]
        },
        {
          "output_type": "stream",
          "name": "stdout",
          "text": [
            "Model Number: 1243 with model FFT in generation 13 of 25\n",
            "Model Number: 1244 with model SeasonalNaive in generation 13 of 25\n",
            "Model Number: 1245 with model FFT in generation 13 of 25\n",
            "Model Number: 1246 with model SeasonalNaive in generation 13 of 25\n",
            "Template Eval Error: Exception(\"Transformer AlignLastValue failed on fit from params ffill_mean_biased {'0': {'window_size': 90, 'alpha': 2.0, 'grouping_forward_limit': 3, 'max_level_shifts': 40, 'alignment': 'average'}, '1': {'method': 'IQR', 'method_params': {'iqr_threshold': 2.0, 'iqr_quantiles': [0.4, 0.6]}, 'fillna': 'ffill', 'transform_dict': None, 'isolated_only': False, 'on_inverse': False}, '2': {'rows': 1, 'lag': 84, 'method': 'additive', 'strength': 0.5, 'first_value_only': False, 'threshold': None, 'threshold_method': 'max'}, '3': {'lag': 1, 'fill': 'bfill'}} with error IndexError('single positional indexer is out-of-bounds')\") in model 1246 in generation 13: SeasonalNaive\n",
            "Model Number: 1247 with model LastValueNaive in generation 13 of 25\n",
            "New Generation: 14 of 25\n",
            "Model Number: 1248 with model GLM in generation 14 of 25\n",
            "Template Eval Error: ValueError('regression_type=user and no future_regressor passed') in model 1248 in generation 14: GLM\n",
            "Model Number: 1249 with model GLM in generation 14 of 25\n",
            "Model Number: 1250 with model ConstantNaive in generation 14 of 25\n",
            "Model Number: 1251 with model SeasonalNaive in generation 14 of 25\n",
            "Model Number: 1252 with model RRVAR in generation 14 of 25\n",
            "Model Number: 1253 with model FFT in generation 14 of 25\n",
            "Template Eval Error: Exception(\"Transformer RegressionFilter failed on fit from params akima {'0': {'sigma': 1, 'rolling_window': 90, 'run_order': 'season_first', 'regression_params': {'regression_model': {'model': 'DecisionTree', 'model_params': {'max_depth': None, 'min_samples_split': 1.0}}, 'datepart_method': 'simple', 'polynomial_degree': None, 'transform_dict': {'fillna': 'akima', 'transformations': {'0': None}, 'transformation_params': {'0': {}}}, 'holiday_countries_used': False, 'lags': None, 'forward_lags': 2}, 'holiday_params': None, 'trend_method': 'local_linear'}, '1': {'model': 'Linear', 'phi': 1, 'window': None, 'transform_dict': None}, '2': {'constant': 0, 'reintroduction_model': {'model': 'SGD', 'model_params': {}, 'datepart_method': 'common_fourier_rw'}, 'fillna': 'mean'}} with error ValueError('negative dimensions are not allowed')\") in model 1253 in generation 14: FFT\n",
            "Model Number: 1254 with model AverageValueNaive in generation 14 of 25\n",
            "Model Number: 1255 with model DatepartRegression in generation 14 of 25\n",
            "Model Number: 1256 with model ConstantNaive in generation 14 of 25\n",
            "Model Number: 1257 with model GLM in generation 14 of 25\n",
            "Model Number: 1258 with model ConstantNaive in generation 14 of 25\n",
            "Model Number: 1259 with model FFT in generation 14 of 25\n",
            "Template Eval Error: Exception(\"Transformer RegressionFilter failed on fit from params ffill {'0': {'sigma': 1, 'rolling_window': 90, 'run_order': 'season_first', 'regression_params': {'regression_model': {'model': 'DecisionTree', 'model_params': {'max_depth': None, 'min_samples_split': 1.0}}, 'datepart_method': 'simple', 'polynomial_degree': None, 'transform_dict': {'fillna': 'akima', 'transformations': {'0': None}, 'transformation_params': {'0': {}}}, 'holiday_countries_used': False, 'lags': None, 'forward_lags': 2}, 'holiday_params': None, 'trend_method': 'local_linear'}, '1': {'lag_1': 24, 'method': 'Median'}, '2': {'constant': 0, 'reintroduction_model': {'model': 'SGD', 'model_params': {}, 'datepart_method': 'common_fourier_rw'}, 'fillna': 'mean'}, '3': {'discretization': 'upper', 'n_bins': 20}, '4': {'lag': 1, 'fill': 'bfill'}} with error ValueError('negative dimensions are not allowed')\") in model 1259 in generation 14: FFT\n",
            "Model Number: 1260 with model SeasonalityMotif in generation 14 of 25\n",
            "Model Number: 1261 with model AverageValueNaive in generation 14 of 25\n",
            "Template Eval Error: Exception(\"Transformer BKBandpassFilter failed on fit from params ffill {'0': {'method': 0.9}, '1': {}, '2': {'lag': 1, 'fill': 'bfill'}, '3': {'low': 6, 'high': 32, 'K': 25, 'lanczos_factor': True, 'return_diff': False, 'on_transform': True, 'on_inverse': False}} with error ValueError('Shape of passed values is (43, 1), indices imply (9, 1)')\") in model 1261 in generation 14: AverageValueNaive\n",
            "Model Number: 1262 with model LastValueNaive in generation 14 of 25\n",
            "Template Eval Error: Exception(\"Transformer ScipyFilter failed on fit from params ffill {'0': {'method': 'butter', 'method_args': {'N': 7, 'btype': 'lowpass', 'analog': False, 'output': 'sos', 'Wn': 0.14285714285714285}}, '1': {'part': 'trend', 'lamb': 6.25}, '2': {}, '3': {'method': 'savgol_filter', 'method_args': {'window_length': 7, 'polyorder': 3, 'deriv': 0, 'mode': 'nearest'}}, '4': {'lag': 1, 'fill': 'zero'}} with error ValueError('The length of the input vector x must be greater than padlen, which is 24.')\") in model 1262 in generation 14: LastValueNaive\n",
            "Model Number: 1263 with model GLS in generation 14 of 25\n"
          ]
        },
        {
          "output_type": "stream",
          "name": "stderr",
          "text": [
            "/usr/local/lib/python3.11/dist-packages/statsmodels/genmod/generalized_linear_model.py:1342: PerfectSeparationWarning: Perfect separation or prediction detected, parameter may not be identified\n",
            "  warnings.warn(msg, category=PerfectSeparationWarning)\n"
          ]
        },
        {
          "output_type": "stream",
          "name": "stdout",
          "text": [
            "Model Number: 1264 with model DatepartRegression in generation 14 of 25\n",
            "Model Number: 1265 with model ConstantNaive in generation 14 of 25\n",
            "Model Number: 1266 with model FFT in generation 14 of 25\n",
            "Model Number: 1267 with model FFT in generation 14 of 25\n",
            "Model Number: 1268 with model ConstantNaive in generation 14 of 25\n",
            "Template Eval Error: Exception(\"Transformer ReplaceConstant failed on fit from params ffill {'0': {'constant': 0, 'reintroduction_model': {'model': 'xgboost', 'model_params': {'booster': 'gbtree', 'max_depth': 6, 'eta': 0.3, 'min_child_weight': 1, 'subsample': 1, 'colsample_bylevel': 1, 'reg_alpha': 0, 'reg_lambda': 1, 'n_estimators': 100, 'grow_policy': 'lossguide'}, 'datepart_method': 'recurring'}, 'fillna': 'mean'}, '1': {}, '2': {'method': 'clip', 'std_threshold': 3, 'fillna': None}, '3': {}, '4': {}} with error ValueError('Invalid classes inferred from unique values of `y`.  Expected: [0], got [1]')\") in model 1268 in generation 14: ConstantNaive\n",
            "Model Number: 1269 with model DatepartRegression in generation 14 of 25\n",
            "Epoch 1/50\n"
          ]
        },
        {
          "output_type": "stream",
          "name": "stderr",
          "text": [
            "/usr/local/lib/python3.11/dist-packages/keras/src/layers/rnn/rnn.py:200: UserWarning: Do not pass an `input_shape`/`input_dim` argument to a layer. When using Sequential models, prefer using an `Input(shape)` object as the first layer in the model instead.\n",
            "  super().__init__(**kwargs)\n"
          ]
        },
        {
          "output_type": "stream",
          "name": "stdout",
          "text": [
            "\u001b[1m1/1\u001b[0m \u001b[32m━━━━━━━━━━━━━━━━━━━━\u001b[0m\u001b[37m\u001b[0m \u001b[1m4s\u001b[0m 4s/step - loss: 52758024.0000\n",
            "Epoch 2/50\n",
            "\u001b[1m1/1\u001b[0m \u001b[32m━━━━━━━━━━━━━━━━━━━━\u001b[0m\u001b[37m\u001b[0m \u001b[1m0s\u001b[0m 151ms/step - loss: 183826224.0000\n",
            "Epoch 3/50\n",
            "\u001b[1m1/1\u001b[0m \u001b[32m━━━━━━━━━━━━━━━━━━━━\u001b[0m\u001b[37m\u001b[0m \u001b[1m0s\u001b[0m 312ms/step - loss: 69431856.0000\n",
            "Epoch 4/50\n",
            "\u001b[1m1/1\u001b[0m \u001b[32m━━━━━━━━━━━━━━━━━━━━\u001b[0m\u001b[37m\u001b[0m \u001b[1m0s\u001b[0m 308ms/step - loss: 45823792.0000\n",
            "Epoch 5/50\n",
            "\u001b[1m1/1\u001b[0m \u001b[32m━━━━━━━━━━━━━━━━━━━━\u001b[0m\u001b[37m\u001b[0m \u001b[1m0s\u001b[0m 154ms/step - loss: 44643144.0000\n",
            "Epoch 6/50\n",
            "\u001b[1m1/1\u001b[0m \u001b[32m━━━━━━━━━━━━━━━━━━━━\u001b[0m\u001b[37m\u001b[0m \u001b[1m0s\u001b[0m 302ms/step - loss: 56092464.0000\n",
            "Epoch 7/50\n",
            "\u001b[1m1/1\u001b[0m \u001b[32m━━━━━━━━━━━━━━━━━━━━\u001b[0m\u001b[37m\u001b[0m \u001b[1m0s\u001b[0m 179ms/step - loss: 25406980.0000\n",
            "Epoch 8/50\n",
            "\u001b[1m1/1\u001b[0m \u001b[32m━━━━━━━━━━━━━━━━━━━━\u001b[0m\u001b[37m\u001b[0m \u001b[1m0s\u001b[0m 291ms/step - loss: 26328028.0000\n",
            "Epoch 9/50\n",
            "\u001b[1m1/1\u001b[0m \u001b[32m━━━━━━━━━━━━━━━━━━━━\u001b[0m\u001b[37m\u001b[0m \u001b[1m0s\u001b[0m 332ms/step - loss: 40209392.0000\n",
            "Epoch 10/50\n",
            "\u001b[1m1/1\u001b[0m \u001b[32m━━━━━━━━━━━━━━━━━━━━\u001b[0m\u001b[37m\u001b[0m \u001b[1m0s\u001b[0m 278ms/step - loss: 57980872.0000\n",
            "Epoch 11/50\n",
            "\u001b[1m1/1\u001b[0m \u001b[32m━━━━━━━━━━━━━━━━━━━━\u001b[0m\u001b[37m\u001b[0m \u001b[1m0s\u001b[0m 295ms/step - loss: 62980624.0000\n",
            "Epoch 12/50\n",
            "\u001b[1m1/1\u001b[0m \u001b[32m━━━━━━━━━━━━━━━━━━━━\u001b[0m\u001b[37m\u001b[0m \u001b[1m0s\u001b[0m 313ms/step - loss: 40101312.0000\n",
            "Epoch 13/50\n",
            "\u001b[1m1/1\u001b[0m \u001b[32m━━━━━━━━━━━━━━━━━━━━\u001b[0m\u001b[37m\u001b[0m \u001b[1m0s\u001b[0m 276ms/step - loss: 38335160.0000\n",
            "Epoch 14/50\n",
            "\u001b[1m1/1\u001b[0m \u001b[32m━━━━━━━━━━━━━━━━━━━━\u001b[0m\u001b[37m\u001b[0m \u001b[1m0s\u001b[0m 276ms/step - loss: 40469012.0000\n",
            "Epoch 15/50\n",
            "\u001b[1m1/1\u001b[0m \u001b[32m━━━━━━━━━━━━━━━━━━━━\u001b[0m\u001b[37m\u001b[0m \u001b[1m0s\u001b[0m 295ms/step - loss: 33702820.0000\n",
            "Epoch 16/50\n",
            "\u001b[1m1/1\u001b[0m \u001b[32m━━━━━━━━━━━━━━━━━━━━\u001b[0m\u001b[37m\u001b[0m \u001b[1m0s\u001b[0m 312ms/step - loss: 44648504.0000\n",
            "Epoch 17/50\n",
            "\u001b[1m1/1\u001b[0m \u001b[32m━━━━━━━━━━━━━━━━━━━━\u001b[0m\u001b[37m\u001b[0m \u001b[1m0s\u001b[0m 324ms/step - loss: 22681906.0000\n",
            "Epoch 18/50\n",
            "\u001b[1m1/1\u001b[0m \u001b[32m━━━━━━━━━━━━━━━━━━━━\u001b[0m\u001b[37m\u001b[0m \u001b[1m0s\u001b[0m 329ms/step - loss: 32735744.0000\n",
            "Epoch 19/50\n",
            "\u001b[1m1/1\u001b[0m \u001b[32m━━━━━━━━━━━━━━━━━━━━\u001b[0m\u001b[37m\u001b[0m \u001b[1m0s\u001b[0m 317ms/step - loss: 32171068.0000\n",
            "Epoch 20/50\n",
            "\u001b[1m1/1\u001b[0m \u001b[32m━━━━━━━━━━━━━━━━━━━━\u001b[0m\u001b[37m\u001b[0m \u001b[1m0s\u001b[0m 283ms/step - loss: 45913696.0000\n",
            "Epoch 21/50\n",
            "\u001b[1m1/1\u001b[0m \u001b[32m━━━━━━━━━━━━━━━━━━━━\u001b[0m\u001b[37m\u001b[0m \u001b[1m0s\u001b[0m 200ms/step - loss: 52361104.0000\n",
            "Epoch 22/50\n",
            "\u001b[1m1/1\u001b[0m \u001b[32m━━━━━━━━━━━━━━━━━━━━\u001b[0m\u001b[37m\u001b[0m \u001b[1m0s\u001b[0m 150ms/step - loss: 31583852.0000\n",
            "Epoch 23/50\n",
            "\u001b[1m1/1\u001b[0m \u001b[32m━━━━━━━━━━━━━━━━━━━━\u001b[0m\u001b[37m\u001b[0m \u001b[1m0s\u001b[0m 305ms/step - loss: 41822812.0000\n",
            "Epoch 24/50\n",
            "\u001b[1m1/1\u001b[0m \u001b[32m━━━━━━━━━━━━━━━━━━━━\u001b[0m\u001b[37m\u001b[0m \u001b[1m0s\u001b[0m 152ms/step - loss: 31214344.0000\n",
            "Epoch 25/50\n",
            "\u001b[1m1/1\u001b[0m \u001b[32m━━━━━━━━━━━━━━━━━━━━\u001b[0m\u001b[37m\u001b[0m \u001b[1m0s\u001b[0m 165ms/step - loss: 32089608.0000\n",
            "Epoch 26/50\n",
            "\u001b[1m1/1\u001b[0m \u001b[32m━━━━━━━━━━━━━━━━━━━━\u001b[0m\u001b[37m\u001b[0m \u001b[1m0s\u001b[0m 287ms/step - loss: 10117286.0000\n",
            "Epoch 27/50\n",
            "\u001b[1m1/1\u001b[0m \u001b[32m━━━━━━━━━━━━━━━━━━━━\u001b[0m\u001b[37m\u001b[0m \u001b[1m0s\u001b[0m 161ms/step - loss: 27468060.0000\n",
            "Epoch 28/50\n",
            "\u001b[1m1/1\u001b[0m \u001b[32m━━━━━━━━━━━━━━━━━━━━\u001b[0m\u001b[37m\u001b[0m \u001b[1m0s\u001b[0m 294ms/step - loss: 21114852.0000\n",
            "Epoch 29/50\n",
            "\u001b[1m1/1\u001b[0m \u001b[32m━━━━━━━━━━━━━━━━━━━━\u001b[0m\u001b[37m\u001b[0m \u001b[1m0s\u001b[0m 153ms/step - loss: 23358470.0000\n",
            "Epoch 30/50\n",
            "\u001b[1m1/1\u001b[0m \u001b[32m━━━━━━━━━━━━━━━━━━━━\u001b[0m\u001b[37m\u001b[0m \u001b[1m0s\u001b[0m 164ms/step - loss: 12990263.0000\n",
            "Epoch 31/50\n",
            "\u001b[1m1/1\u001b[0m \u001b[32m━━━━━━━━━━━━━━━━━━━━\u001b[0m\u001b[37m\u001b[0m \u001b[1m0s\u001b[0m 172ms/step - loss: 24790232.0000\n",
            "Epoch 32/50\n",
            "\u001b[1m1/1\u001b[0m \u001b[32m━━━━━━━━━━━━━━━━━━━━\u001b[0m\u001b[37m\u001b[0m \u001b[1m0s\u001b[0m 158ms/step - loss: 30218238.0000\n",
            "Epoch 33/50\n",
            "\u001b[1m1/1\u001b[0m \u001b[32m━━━━━━━━━━━━━━━━━━━━\u001b[0m\u001b[37m\u001b[0m \u001b[1m0s\u001b[0m 296ms/step - loss: 14409049.0000\n",
            "Epoch 34/50\n",
            "\u001b[1m1/1\u001b[0m \u001b[32m━━━━━━━━━━━━━━━━━━━━\u001b[0m\u001b[37m\u001b[0m \u001b[1m0s\u001b[0m 312ms/step - loss: 19791742.0000\n",
            "Epoch 35/50\n",
            "\u001b[1m1/1\u001b[0m \u001b[32m━━━━━━━━━━━━━━━━━━━━\u001b[0m\u001b[37m\u001b[0m \u001b[1m0s\u001b[0m 296ms/step - loss: 21456816.0000\n",
            "Epoch 36/50\n",
            "\u001b[1m1/1\u001b[0m \u001b[32m━━━━━━━━━━━━━━━━━━━━\u001b[0m\u001b[37m\u001b[0m \u001b[1m0s\u001b[0m 157ms/step - loss: 18404904.0000\n",
            "Epoch 37/50\n",
            "\u001b[1m1/1\u001b[0m \u001b[32m━━━━━━━━━━━━━━━━━━━━\u001b[0m\u001b[37m\u001b[0m \u001b[1m0s\u001b[0m 305ms/step - loss: 13970688.0000\n",
            "Epoch 38/50\n",
            "\u001b[1m1/1\u001b[0m \u001b[32m━━━━━━━━━━━━━━━━━━━━\u001b[0m\u001b[37m\u001b[0m \u001b[1m0s\u001b[0m 295ms/step - loss: 13252925.0000\n",
            "Epoch 39/50\n",
            "\u001b[1m1/1\u001b[0m \u001b[32m━━━━━━━━━━━━━━━━━━━━\u001b[0m\u001b[37m\u001b[0m \u001b[1m0s\u001b[0m 300ms/step - loss: 18725932.0000\n",
            "Epoch 40/50\n",
            "\u001b[1m1/1\u001b[0m \u001b[32m━━━━━━━━━━━━━━━━━━━━\u001b[0m\u001b[37m\u001b[0m \u001b[1m0s\u001b[0m 303ms/step - loss: 23012596.0000\n",
            "Epoch 41/50\n",
            "\u001b[1m1/1\u001b[0m \u001b[32m━━━━━━━━━━━━━━━━━━━━\u001b[0m\u001b[37m\u001b[0m \u001b[1m0s\u001b[0m 304ms/step - loss: 19464112.0000\n",
            "Epoch 42/50\n",
            "\u001b[1m1/1\u001b[0m \u001b[32m━━━━━━━━━━━━━━━━━━━━\u001b[0m\u001b[37m\u001b[0m \u001b[1m0s\u001b[0m 321ms/step - loss: 19189808.0000\n",
            "Epoch 43/50\n",
            "\u001b[1m1/1\u001b[0m \u001b[32m━━━━━━━━━━━━━━━━━━━━\u001b[0m\u001b[37m\u001b[0m \u001b[1m0s\u001b[0m 277ms/step - loss: 20396722.0000\n",
            "Epoch 44/50\n",
            "\u001b[1m1/1\u001b[0m \u001b[32m━━━━━━━━━━━━━━━━━━━━\u001b[0m\u001b[37m\u001b[0m \u001b[1m0s\u001b[0m 156ms/step - loss: 14595127.0000\n",
            "Epoch 45/50\n",
            "\u001b[1m1/1\u001b[0m \u001b[32m━━━━━━━━━━━━━━━━━━━━\u001b[0m\u001b[37m\u001b[0m \u001b[1m0s\u001b[0m 158ms/step - loss: 25974702.0000\n",
            "Epoch 46/50\n",
            "\u001b[1m1/1\u001b[0m \u001b[32m━━━━━━━━━━━━━━━━━━━━\u001b[0m\u001b[37m\u001b[0m \u001b[1m0s\u001b[0m 160ms/step - loss: 20858394.0000\n",
            "Epoch 47/50\n",
            "\u001b[1m1/1\u001b[0m \u001b[32m━━━━━━━━━━━━━━━━━━━━\u001b[0m\u001b[37m\u001b[0m \u001b[1m0s\u001b[0m 301ms/step - loss: 20851016.0000\n",
            "Epoch 48/50\n",
            "\u001b[1m1/1\u001b[0m \u001b[32m━━━━━━━━━━━━━━━━━━━━\u001b[0m\u001b[37m\u001b[0m \u001b[1m0s\u001b[0m 155ms/step - loss: 19277804.0000\n",
            "Epoch 49/50\n",
            "\u001b[1m1/1\u001b[0m \u001b[32m━━━━━━━━━━━━━━━━━━━━\u001b[0m\u001b[37m\u001b[0m \u001b[1m0s\u001b[0m 153ms/step - loss: 29028194.0000\n",
            "Epoch 50/50\n",
            "\u001b[1m1/1\u001b[0m \u001b[32m━━━━━━━━━━━━━━━━━━━━\u001b[0m\u001b[37m\u001b[0m \u001b[1m0s\u001b[0m 310ms/step - loss: 19626852.0000\n",
            "\u001b[1m1/1\u001b[0m \u001b[32m━━━━━━━━━━━━━━━━━━━━\u001b[0m\u001b[37m\u001b[0m \u001b[1m0s\u001b[0m 479ms/step\n",
            "Model Number: 1270 with model ARDL in generation 14 of 25\n",
            "Model Number: 1271 with model FBProphet in generation 14 of 25\n",
            "Model Number: 1272 with model LastValueNaive in generation 14 of 25\n",
            "Model Number: 1273 with model FFT in generation 14 of 25\n",
            "Model Number: 1274 with model ETS in generation 14 of 25\n",
            "Model Number: 1275 with model FBProphet in generation 14 of 25\n",
            "No anomalies detected.\n",
            "Model Number: 1276 with model SeasonalNaive in generation 14 of 25\n",
            "Template Eval Error: Exception(\"Transformer SeasonalDifference failed on fit from params rolling_mean {'0': {'lag_1': 27, 'method': 5}, '1': {}, '2': {}, '3': {'rows': 1, 'lag': 1, 'method': 'additive', 'strength': 1.0, 'first_value_only': False, 'threshold': 3, 'threshold_method': 'max'}} with error ValueError('cannot reshape array of size 11 into shape (0,27,newaxis)')\") in model 1276 in generation 14: SeasonalNaive\n",
            "Model Number: 1277 with model RRVAR in generation 14 of 25\n",
            "Model Number: 1278 with model FBProphet in generation 14 of 25\n",
            "Model Number: 1279 with model GLM in generation 14 of 25\n",
            "Model Number: 1280 with model FFT in generation 14 of 25\n",
            "Template Eval Error: Exception(\"Transformer STLFilter failed on fit from params ffill {'0': {'decomp_type': 'seasonal_decompose', 'part': 'trend'}, '1': {'discretization': 'upper', 'n_bins': 20}} with error ValueError('x must have 2 complete cycles requires 24 observations. x only has 11 observation(s)')\") in model 1280 in generation 14: FFT\n",
            "Model Number: 1281 with model GLM in generation 14 of 25\n",
            "Model Number: 1282 with model ETS in generation 14 of 25\n",
            "Model Number: 1283 with model FBProphet in generation 14 of 25\n"
          ]
        },
        {
          "output_type": "stream",
          "name": "stderr",
          "text": [
            "/usr/local/lib/python3.11/dist-packages/statsmodels/genmod/generalized_linear_model.py:1342: PerfectSeparationWarning: Perfect separation or prediction detected, parameter may not be identified\n",
            "  warnings.warn(msg, category=PerfectSeparationWarning)\n",
            "/usr/local/lib/python3.11/dist-packages/sklearn/neighbors/_classification.py:239: DataConversionWarning: A column-vector y was passed when a 1d array was expected. Please change the shape of y to (n_samples,), for example using ravel().\n",
            "  return self._fit(X, y)\n"
          ]
        },
        {
          "output_type": "stream",
          "name": "stdout",
          "text": [
            "Model Number: 1284 with model DatepartRegression in generation 14 of 25\n",
            "Template Eval Error: Exception(\"Transformer STLFilter failed on fit from params ffill {'0': {'window_size': 90, 'alpha': 2.0, 'grouping_forward_limit': 3, 'max_level_shifts': 40, 'alignment': 'average'}, '1': {'lag_1': 24, 'method': 'Median'}, '2': {'window': 3}, '3': {'part': 'trend', 'lamb': 1600}, '4': {'lag': 1, 'fill': 'bfill'}, '5': {'decomp_type': 'seasonal_decompose', 'part': 'trend'}} with error ValueError('x must have 2 complete cycles requires 24 observations. x only has 11 observation(s)')\") in model 1284 in generation 14: DatepartRegression\n",
            "Model Number: 1285 with model FBProphet in generation 14 of 25\n",
            "Template Eval Error: Exception(\"Transformer AlignLastValue failed on fit from params fake_date {'0': {'window_size': 90, 'alpha': 2.0, 'grouping_forward_limit': 3, 'max_level_shifts': 40, 'alignment': 'average'}, '1': {}, '2': {}, '3': {'discretization': 'upper', 'n_bins': 20}, '4': {'rows': 1, 'lag': 28, 'method': 'additive', 'strength': 1.0, 'first_value_only': False, 'threshold': None, 'threshold_method': 'mean'}} with error IndexError('single positional indexer is out-of-bounds')\") in model 1285 in generation 14: FBProphet\n",
            "Model Number: 1286 with model GLS in generation 14 of 25\n",
            "Template Eval Error: Exception(\"Transformer BKBandpassFilter failed on fit from params ffill {'0': {'low': 6, 'high': 364, 'K': 25, 'lanczos_factor': False, 'return_diff': True, 'on_transform': True, 'on_inverse': False}, '1': {'method': 'savgol_filter', 'method_args': {'window_length': 7, 'polyorder': 3, 'deriv': 0, 'mode': 'interp'}}, '2': {'rows': 1, 'lag': 7, 'method': 'additive', 'strength': 1.0, 'first_value_only': False, 'threshold': None, 'threshold_method': 'max'}, '3': {}, '4': {'window_size': 14, 'alpha': 2.5, 'grouping_forward_limit': 2, 'max_level_shifts': 5, 'alignment': 'rolling_diff_3nn'}, '5': {'model_name': 'dynamic linear', 'state_transition': [[1, 1, 0, 0], [0, 1, 0, 0], [0, 0, 0.9, 1], [0, 0, 0.9, 0]], 'process_noise': [[1.1, 0, 0, 0], [0, 0.4, 0, 0], [0, 0, 0.1, 0], [0, 0, 0, 0]], 'observation_model': [[1, 0, 1, 0]], 'observation_noise': 0.25, 'em_iter': None, 'on_transform': True, 'on_inverse': False}} with error ValueError('Shape of passed values is (41, 1), indices imply (11, 1)')\") in model 1286 in generation 14: GLS\n",
            "Model Number: 1287 with model ARDL in generation 14 of 25\n",
            "Model Number: 1288 with model AverageValueNaive in generation 14 of 25\n",
            "Model Number: 1289 with model GLM in generation 14 of 25\n",
            "Model Number: 1290 with model ConstantNaive in generation 14 of 25\n",
            "Model Number: 1291 with model GLM in generation 14 of 25\n",
            "Model Number: 1292 with model FFT in generation 14 of 25\n"
          ]
        },
        {
          "output_type": "stream",
          "name": "stderr",
          "text": [
            "/usr/local/lib/python3.11/dist-packages/statsmodels/genmod/generalized_linear_model.py:1342: PerfectSeparationWarning: Perfect separation or prediction detected, parameter may not be identified\n",
            "  warnings.warn(msg, category=PerfectSeparationWarning)\n",
            "/usr/local/lib/python3.11/dist-packages/statsmodels/genmod/families/links.py:198: RuntimeWarning: overflow encountered in exp\n",
            "  t = np.exp(-z)\n"
          ]
        },
        {
          "output_type": "stream",
          "name": "stdout",
          "text": [
            "Model Number: 1293 with model ConstantNaive in generation 14 of 25\n",
            "Model Number: 1294 with model ARDL in generation 14 of 25\n",
            "Model Number: 1295 with model FFT in generation 14 of 25\n",
            "Model Number: 1296 with model FBProphet in generation 14 of 25\n",
            "Model Number: 1297 with model GLM in generation 14 of 25\n",
            "Model Number: 1298 with model FBProphet in generation 14 of 25\n",
            "Template Eval Error: Exception(\"Transformer SeasonalDifference failed on fit from params ffill {'0': {'method': 'mad', 'method_params': {'distribution': 'norm', 'alpha': 0.05}, 'fillna': 'rolling_mean_24', 'transform_dict': None, 'isolated_only': True, 'on_inverse': False}, '1': {'lag_1': 69, 'method': 5}, '2': {'theta_values': [0.6, 1.4]}, '3': {'rows': 1, 'lag': 1, 'method': 'additive', 'strength': 1.0, 'first_value_only': False, 'threshold': None, 'threshold_method': 'mean'}, '4': {'lag': 2, 'fill': 'bfill'}} with error ValueError('cannot reshape array of size 11 into shape (0,69,newaxis)')\") in model 1298 in generation 14: FBProphet\n",
            "Model Number: 1299 with model FFT in generation 14 of 25\n",
            "Model Number: 1300 with model ETS in generation 14 of 25\n",
            "Model Number: 1301 with model ConstantNaive in generation 14 of 25\n",
            "Model Number: 1302 with model FBProphet in generation 14 of 25\n"
          ]
        },
        {
          "output_type": "stream",
          "name": "stderr",
          "text": [
            "/usr/local/lib/python3.11/dist-packages/statsmodels/genmod/generalized_linear_model.py:1342: PerfectSeparationWarning: Perfect separation or prediction detected, parameter may not be identified\n",
            "  warnings.warn(msg, category=PerfectSeparationWarning)\n"
          ]
        },
        {
          "output_type": "stream",
          "name": "stdout",
          "text": [
            "Model Number: 1303 with model ETS in generation 14 of 25\n",
            "Model Number: 1304 with model LastValueNaive in generation 14 of 25\n",
            "Model Number: 1305 with model SeasonalNaive in generation 14 of 25\n",
            "Model Number: 1306 with model GLS in generation 14 of 25\n",
            "Model Number: 1307 with model SeasonalityMotif in generation 14 of 25\n",
            "Template Eval Error: IndexError('index -42 is out of bounds for axis 0 with size 11') in model 1307 in generation 14: SeasonalityMotif\n",
            "Model Number: 1308 with model DatepartRegression in generation 14 of 25\n",
            "Model Number: 1309 with model SeasonalNaive in generation 14 of 25\n",
            "Model Number: 1310 with model LastValueNaive in generation 14 of 25\n",
            "New Generation: 15 of 25\n",
            "Model Number: 1311 with model FBProphet in generation 15 of 25\n",
            "No anomalies detected.\n",
            "Model Number: 1312 with model SeasonalityMotif in generation 15 of 25\n",
            "Template Eval Error: ValueError('kth(=99) out of bounds (3)') in model 1312 in generation 15: SeasonalityMotif\n",
            "Model Number: 1313 with model ETS in generation 15 of 25\n",
            "Model Number: 1314 with model ConstantNaive in generation 15 of 25\n",
            "Model Number: 1315 with model GLS in generation 15 of 25\n",
            "Model Number: 1316 with model LastValueNaive in generation 15 of 25\n",
            "Model Number: 1317 with model AverageValueNaive in generation 15 of 25\n",
            "Model Number: 1318 with model ConstantNaive in generation 15 of 25\n",
            "Model Number: 1319 with model SeasonalNaive in generation 15 of 25\n",
            "Model Number: 1320 with model DatepartRegression in generation 15 of 25\n"
          ]
        },
        {
          "output_type": "stream",
          "name": "stderr",
          "text": [
            "/usr/local/lib/python3.11/dist-packages/keras/src/layers/rnn/rnn.py:200: UserWarning: Do not pass an `input_shape`/`input_dim` argument to a layer. When using Sequential models, prefer using an `Input(shape)` object as the first layer in the model instead.\n",
            "  super().__init__(**kwargs)\n"
          ]
        },
        {
          "output_type": "stream",
          "name": "stdout",
          "text": [
            "Epoch 1/50\n",
            "\u001b[1m2/2\u001b[0m \u001b[32m━━━━━━━━━━━━━━━━━━━━\u001b[0m\u001b[37m\u001b[0m \u001b[1m6s\u001b[0m 165ms/step - loss: 87044592.0000\n",
            "Epoch 2/50\n",
            "\u001b[1m2/2\u001b[0m \u001b[32m━━━━━━━━━━━━━━━━━━━━\u001b[0m\u001b[37m\u001b[0m \u001b[1m0s\u001b[0m 162ms/step - loss: 65676060.0000\n",
            "Epoch 3/50\n",
            "\u001b[1m2/2\u001b[0m \u001b[32m━━━━━━━━━━━━━━━━━━━━\u001b[0m\u001b[37m\u001b[0m \u001b[1m0s\u001b[0m 167ms/step - loss: 20440834.0000\n",
            "Epoch 4/50\n",
            "\u001b[1m2/2\u001b[0m \u001b[32m━━━━━━━━━━━━━━━━━━━━\u001b[0m\u001b[37m\u001b[0m \u001b[1m0s\u001b[0m 164ms/step - loss: 15998843.0000\n",
            "Epoch 5/50\n",
            "\u001b[1m2/2\u001b[0m \u001b[32m━━━━━━━━━━━━━━━━━━━━\u001b[0m\u001b[37m\u001b[0m \u001b[1m0s\u001b[0m 165ms/step - loss: 37931260.0000\n",
            "Epoch 6/50\n",
            "\u001b[1m2/2\u001b[0m \u001b[32m━━━━━━━━━━━━━━━━━━━━\u001b[0m\u001b[37m\u001b[0m \u001b[1m1s\u001b[0m 164ms/step - loss: 10937590.0000\n",
            "Epoch 7/50\n",
            "\u001b[1m2/2\u001b[0m \u001b[32m━━━━━━━━━━━━━━━━━━━━\u001b[0m\u001b[37m\u001b[0m \u001b[1m0s\u001b[0m 163ms/step - loss: 15375157.0000\n",
            "Epoch 8/50\n",
            "\u001b[1m2/2\u001b[0m \u001b[32m━━━━━━━━━━━━━━━━━━━━\u001b[0m\u001b[37m\u001b[0m \u001b[1m1s\u001b[0m 162ms/step - loss: 16384628.0000\n",
            "Epoch 9/50\n",
            "\u001b[1m2/2\u001b[0m \u001b[32m━━━━━━━━━━━━━━━━━━━━\u001b[0m\u001b[37m\u001b[0m \u001b[1m1s\u001b[0m 175ms/step - loss: 17763640.0000\n",
            "Epoch 10/50\n",
            "\u001b[1m2/2\u001b[0m \u001b[32m━━━━━━━━━━━━━━━━━━━━\u001b[0m\u001b[37m\u001b[0m \u001b[1m1s\u001b[0m 162ms/step - loss: 19798776.0000\n",
            "Epoch 11/50\n",
            "\u001b[1m2/2\u001b[0m \u001b[32m━━━━━━━━━━━━━━━━━━━━\u001b[0m\u001b[37m\u001b[0m \u001b[1m1s\u001b[0m 162ms/step - loss: 19674000.0000\n",
            "Epoch 12/50\n",
            "\u001b[1m2/2\u001b[0m \u001b[32m━━━━━━━━━━━━━━━━━━━━\u001b[0m\u001b[37m\u001b[0m \u001b[1m0s\u001b[0m 160ms/step - loss: 30462612.0000\n",
            "Epoch 13/50\n",
            "\u001b[1m2/2\u001b[0m \u001b[32m━━━━━━━━━━━━━━━━━━━━\u001b[0m\u001b[37m\u001b[0m \u001b[1m0s\u001b[0m 160ms/step - loss: 13850271.0000\n",
            "Epoch 14/50\n",
            "\u001b[1m2/2\u001b[0m \u001b[32m━━━━━━━━━━━━━━━━━━━━\u001b[0m\u001b[37m\u001b[0m \u001b[1m0s\u001b[0m 161ms/step - loss: 20992602.0000\n",
            "Epoch 15/50\n",
            "\u001b[1m2/2\u001b[0m \u001b[32m━━━━━━━━━━━━━━━━━━━━\u001b[0m\u001b[37m\u001b[0m \u001b[1m1s\u001b[0m 163ms/step - loss: 12452643.0000\n",
            "Epoch 16/50\n",
            "\u001b[1m2/2\u001b[0m \u001b[32m━━━━━━━━━━━━━━━━━━━━\u001b[0m\u001b[37m\u001b[0m \u001b[1m1s\u001b[0m 274ms/step - loss: 15088702.0000\n",
            "Epoch 17/50\n",
            "\u001b[1m2/2\u001b[0m \u001b[32m━━━━━━━━━━━━━━━━━━━━\u001b[0m\u001b[37m\u001b[0m \u001b[1m1s\u001b[0m 269ms/step - loss: 13193139.0000\n",
            "Epoch 18/50\n",
            "\u001b[1m2/2\u001b[0m \u001b[32m━━━━━━━━━━━━━━━━━━━━\u001b[0m\u001b[37m\u001b[0m \u001b[1m1s\u001b[0m 262ms/step - loss: 24309196.0000\n",
            "Epoch 19/50\n",
            "\u001b[1m2/2\u001b[0m \u001b[32m━━━━━━━━━━━━━━━━━━━━\u001b[0m\u001b[37m\u001b[0m \u001b[1m1s\u001b[0m 281ms/step - loss: 12092716.0000\n",
            "Epoch 20/50\n",
            "\u001b[1m2/2\u001b[0m \u001b[32m━━━━━━━━━━━━━━━━━━━━\u001b[0m\u001b[37m\u001b[0m \u001b[1m1s\u001b[0m 302ms/step - loss: 17862974.0000\n",
            "Epoch 21/50\n",
            "\u001b[1m2/2\u001b[0m \u001b[32m━━━━━━━━━━━━━━━━━━━━\u001b[0m\u001b[37m\u001b[0m \u001b[1m1s\u001b[0m 242ms/step - loss: 18212396.0000\n",
            "Epoch 22/50\n",
            "\u001b[1m2/2\u001b[0m \u001b[32m━━━━━━━━━━━━━━━━━━━━\u001b[0m\u001b[37m\u001b[0m \u001b[1m0s\u001b[0m 174ms/step - loss: 13477598.0000\n",
            "Epoch 23/50\n",
            "\u001b[1m2/2\u001b[0m \u001b[32m━━━━━━━━━━━━━━━━━━━━\u001b[0m\u001b[37m\u001b[0m \u001b[1m1s\u001b[0m 161ms/step - loss: 28511710.0000\n",
            "Epoch 24/50\n",
            "\u001b[1m2/2\u001b[0m \u001b[32m━━━━━━━━━━━━━━━━━━━━\u001b[0m\u001b[37m\u001b[0m \u001b[1m0s\u001b[0m 190ms/step - loss: 22608470.0000\n",
            "Epoch 25/50\n",
            "\u001b[1m2/2\u001b[0m \u001b[32m━━━━━━━━━━━━━━━━━━━━\u001b[0m\u001b[37m\u001b[0m \u001b[1m1s\u001b[0m 163ms/step - loss: 11931885.0000\n",
            "Epoch 26/50\n",
            "\u001b[1m2/2\u001b[0m \u001b[32m━━━━━━━━━━━━━━━━━━━━\u001b[0m\u001b[37m\u001b[0m \u001b[1m1s\u001b[0m 160ms/step - loss: 19726172.0000\n",
            "Epoch 27/50\n",
            "\u001b[1m2/2\u001b[0m \u001b[32m━━━━━━━━━━━━━━━━━━━━\u001b[0m\u001b[37m\u001b[0m \u001b[1m0s\u001b[0m 164ms/step - loss: 12083794.0000\n",
            "Epoch 28/50\n",
            "\u001b[1m2/2\u001b[0m \u001b[32m━━━━━━━━━━━━━━━━━━━━\u001b[0m\u001b[37m\u001b[0m \u001b[1m0s\u001b[0m 171ms/step - loss: 12751792.0000\n",
            "Epoch 29/50\n",
            "\u001b[1m2/2\u001b[0m \u001b[32m━━━━━━━━━━━━━━━━━━━━\u001b[0m\u001b[37m\u001b[0m \u001b[1m1s\u001b[0m 162ms/step - loss: 19480724.0000\n",
            "Epoch 30/50\n",
            "\u001b[1m2/2\u001b[0m \u001b[32m━━━━━━━━━━━━━━━━━━━━\u001b[0m\u001b[37m\u001b[0m \u001b[1m0s\u001b[0m 167ms/step - loss: 11863588.0000\n",
            "Epoch 31/50\n",
            "\u001b[1m2/2\u001b[0m \u001b[32m━━━━━━━━━━━━━━━━━━━━\u001b[0m\u001b[37m\u001b[0m \u001b[1m1s\u001b[0m 164ms/step - loss: 13564377.0000\n",
            "Epoch 32/50\n",
            "\u001b[1m2/2\u001b[0m \u001b[32m━━━━━━━━━━━━━━━━━━━━\u001b[0m\u001b[37m\u001b[0m \u001b[1m0s\u001b[0m 174ms/step - loss: 29424534.0000\n",
            "Epoch 33/50\n",
            "\u001b[1m2/2\u001b[0m \u001b[32m━━━━━━━━━━━━━━━━━━━━\u001b[0m\u001b[37m\u001b[0m \u001b[1m1s\u001b[0m 158ms/step - loss: 13408821.0000\n",
            "Epoch 34/50\n",
            "\u001b[1m2/2\u001b[0m \u001b[32m━━━━━━━━━━━━━━━━━━━━\u001b[0m\u001b[37m\u001b[0m \u001b[1m0s\u001b[0m 167ms/step - loss: 12158546.0000\n",
            "Epoch 35/50\n",
            "\u001b[1m2/2\u001b[0m \u001b[32m━━━━━━━━━━━━━━━━━━━━\u001b[0m\u001b[37m\u001b[0m \u001b[1m0s\u001b[0m 185ms/step - loss: 14400970.0000\n",
            "Epoch 36/50\n",
            "\u001b[1m2/2\u001b[0m \u001b[32m━━━━━━━━━━━━━━━━━━━━\u001b[0m\u001b[37m\u001b[0m \u001b[1m0s\u001b[0m 162ms/step - loss: 11319057.0000\n",
            "Epoch 37/50\n",
            "\u001b[1m2/2\u001b[0m \u001b[32m━━━━━━━━━━━━━━━━━━━━\u001b[0m\u001b[37m\u001b[0m \u001b[1m0s\u001b[0m 166ms/step - loss: 7078047.0000\n",
            "Epoch 38/50\n",
            "\u001b[1m2/2\u001b[0m \u001b[32m━━━━━━━━━━━━━━━━━━━━\u001b[0m\u001b[37m\u001b[0m \u001b[1m1s\u001b[0m 163ms/step - loss: 13277538.0000\n",
            "Epoch 39/50\n",
            "\u001b[1m2/2\u001b[0m \u001b[32m━━━━━━━━━━━━━━━━━━━━\u001b[0m\u001b[37m\u001b[0m \u001b[1m1s\u001b[0m 161ms/step - loss: 10010858.0000\n",
            "Epoch 40/50\n",
            "\u001b[1m2/2\u001b[0m \u001b[32m━━━━━━━━━━━━━━━━━━━━\u001b[0m\u001b[37m\u001b[0m \u001b[1m1s\u001b[0m 159ms/step - loss: 9958561.0000 \n",
            "Epoch 41/50\n",
            "\u001b[1m2/2\u001b[0m \u001b[32m━━━━━━━━━━━━━━━━━━━━\u001b[0m\u001b[37m\u001b[0m \u001b[1m1s\u001b[0m 160ms/step - loss: 11350316.0000\n",
            "Epoch 42/50\n",
            "\u001b[1m2/2\u001b[0m \u001b[32m━━━━━━━━━━━━━━━━━━━━\u001b[0m\u001b[37m\u001b[0m \u001b[1m1s\u001b[0m 285ms/step - loss: 6605583.0000\n",
            "Epoch 43/50\n",
            "\u001b[1m2/2\u001b[0m \u001b[32m━━━━━━━━━━━━━━━━━━━━\u001b[0m\u001b[37m\u001b[0m \u001b[1m1s\u001b[0m 259ms/step - loss: 6869897.5000\n",
            "Epoch 44/50\n",
            "\u001b[1m2/2\u001b[0m \u001b[32m━━━━━━━━━━━━━━━━━━━━\u001b[0m\u001b[37m\u001b[0m \u001b[1m1s\u001b[0m 286ms/step - loss: 8593103.0000\n",
            "Epoch 45/50\n",
            "\u001b[1m2/2\u001b[0m \u001b[32m━━━━━━━━━━━━━━━━━━━━\u001b[0m\u001b[37m\u001b[0m \u001b[1m1s\u001b[0m 286ms/step - loss: 9131090.0000\n",
            "Epoch 46/50\n",
            "\u001b[1m2/2\u001b[0m \u001b[32m━━━━━━━━━━━━━━━━━━━━\u001b[0m\u001b[37m\u001b[0m \u001b[1m1s\u001b[0m 287ms/step - loss: 10605825.0000\n",
            "Epoch 47/50\n",
            "\u001b[1m2/2\u001b[0m \u001b[32m━━━━━━━━━━━━━━━━━━━━\u001b[0m\u001b[37m\u001b[0m \u001b[1m1s\u001b[0m 292ms/step - loss: 9670104.0000\n",
            "Epoch 48/50\n",
            "\u001b[1m2/2\u001b[0m \u001b[32m━━━━━━━━━━━━━━━━━━━━\u001b[0m\u001b[37m\u001b[0m \u001b[1m0s\u001b[0m 160ms/step - loss: 7191754.0000\n",
            "Epoch 49/50\n",
            "\u001b[1m2/2\u001b[0m \u001b[32m━━━━━━━━━━━━━━━━━━━━\u001b[0m\u001b[37m\u001b[0m \u001b[1m1s\u001b[0m 166ms/step - loss: 11019433.0000\n",
            "Epoch 50/50\n",
            "\u001b[1m2/2\u001b[0m \u001b[32m━━━━━━━━━━━━━━━━━━━━\u001b[0m\u001b[37m\u001b[0m \u001b[1m1s\u001b[0m 165ms/step - loss: 15916444.0000\n",
            "\u001b[1m1/1\u001b[0m \u001b[32m━━━━━━━━━━━━━━━━━━━━\u001b[0m\u001b[37m\u001b[0m \u001b[1m0s\u001b[0m 466ms/step\n",
            "Model Number: 1321 with model ETS in generation 15 of 25\n",
            "Model Number: 1322 with model FFT in generation 15 of 25\n",
            "Model Number: 1323 with model ARDL in generation 15 of 25\n",
            "Model Number: 1324 with model SeasonalNaive in generation 15 of 25\n",
            "Model Number: 1325 with model ETS in generation 15 of 25\n",
            "Model Number: 1326 with model FFT in generation 15 of 25\n",
            "Model Number: 1327 with model SeasonalNaive in generation 15 of 25\n",
            "Model Number: 1328 with model SeasonalNaive in generation 15 of 25\n",
            "Model Number: 1329 with model GLM in generation 15 of 25\n",
            "Template Eval Error: ValueError(\"Model returned NaN due to a preprocessing transformer {'fillna': 'ffill', 'transformations': {'0': 'AlignLastDiff', '1': 'SeasonalDifference', '2': 'SeasonalDifference', '3': 'bkfilter', '4': 'LocalLinearTrend', '5': 'DifferencedTransformer'}, 'transformation_params': {'0': {'rows': 7, 'displacement_rows': 1, 'quantile': 1.0, 'decay_span': None}, '1': {'lag_1': 24, 'method': 'Median'}, '2': {'lag_1': 364, 'method': 'LastValue'}, '3': {}, '4': {'rolling_window': 0.1, 'n_tails': 180, 'n_future': 0.1, 'method': 'mean', 'macro_micro': False}, '5': {'lag': 1, 'fill': 'bfill'}}}. fail_on_forecast_nan=True\") in model 1329 in generation 15: GLM\n",
            "Model Number: 1330 with model FFT in generation 15 of 25\n",
            "Model Number: 1331 with model DatepartRegression in generation 15 of 25\n",
            "Model Number: 1332 with model GLM in generation 15 of 25\n",
            "Template Eval Error: ValueError('NaN, inf or invalid value detected in weights, estimation infeasible.') in model 1332 in generation 15: GLM\n",
            "Model Number: 1333 with model FBProphet in generation 15 of 25\n"
          ]
        },
        {
          "output_type": "stream",
          "name": "stderr",
          "text": [
            "/usr/local/lib/python3.11/dist-packages/autots/tools/window_functions.py:605: RuntimeWarning: invalid value encountered in divide\n",
            "  slope = (sxy - sx * sy) / (sx2 - sx**2)\n",
            "/usr/local/lib/python3.11/dist-packages/statsmodels/genmod/generalized_linear_model.py:1342: PerfectSeparationWarning: Perfect separation or prediction detected, parameter may not be identified\n",
            "  warnings.warn(msg, category=PerfectSeparationWarning)\n",
            "/usr/local/lib/python3.11/dist-packages/statsmodels/genmod/families/family.py:1367: ValueWarning: Negative binomial dispersion parameter alpha not set. Using default value alpha=1.0.\n",
            "  warnings.warn(\"Negative binomial dispersion parameter alpha not \"\n",
            "/usr/local/lib/python3.11/dist-packages/statsmodels/genmod/families/links.py:527: RuntimeWarning: overflow encountered in exp\n",
            "  return np.exp(z)\n",
            "/usr/local/lib/python3.11/dist-packages/statsmodels/genmod/families/family.py:1402: RuntimeWarning: divide by zero encountered in divide\n",
            "  endog_mu = self._clean(endog / mu)\n",
            "/usr/local/lib/python3.11/dist-packages/statsmodels/genmod/families/family.py:1406: RuntimeWarning: divide by zero encountered in log\n",
            "  resid_dev -= endog_alpha * np.log(endog_alpha / mu_alpha)\n",
            "/usr/local/lib/python3.11/dist-packages/statsmodels/genmod/families/family.py:1406: RuntimeWarning: invalid value encountered in log\n",
            "  resid_dev -= endog_alpha * np.log(endog_alpha / mu_alpha)\n",
            "/usr/local/lib/python3.11/dist-packages/statsmodels/genmod/families/family.py:143: RuntimeWarning: invalid value encountered in multiply\n",
            "  return 1. / (self.link.deriv(mu)**2 * self.variance(mu))\n",
            "/usr/local/lib/python3.11/dist-packages/statsmodels/genmod/generalized_linear_model.py:1328: RuntimeWarning: invalid value encountered in multiply\n",
            "  wlsendog = (lin_pred + self.family.link.deriv(mu) * (self.endog-mu)\n"
          ]
        },
        {
          "output_type": "stream",
          "name": "stdout",
          "text": [
            "Model Number: 1334 with model ETS in generation 15 of 25\n",
            "Model Number: 1335 with model DatepartRegression in generation 15 of 25\n",
            "Model Number: 1336 with model FBProphet in generation 15 of 25\n",
            "Model Number: 1337 with model GLM in generation 15 of 25\n",
            "Model Number: 1338 with model FBProphet in generation 15 of 25\n",
            "Model Number: 1339 with model DatepartRegression in generation 15 of 25\n",
            "Model Number: 1340 with model GLM in generation 15 of 25\n"
          ]
        },
        {
          "output_type": "stream",
          "name": "stderr",
          "text": [
            "/usr/local/lib/python3.11/dist-packages/statsmodels/genmod/generalized_linear_model.py:1342: PerfectSeparationWarning: Perfect separation or prediction detected, parameter may not be identified\n",
            "  warnings.warn(msg, category=PerfectSeparationWarning)\n",
            "/usr/local/lib/python3.11/dist-packages/statsmodels/genmod/generalized_linear_model.py:1342: PerfectSeparationWarning: Perfect separation or prediction detected, parameter may not be identified\n",
            "  warnings.warn(msg, category=PerfectSeparationWarning)\n"
          ]
        },
        {
          "output_type": "stream",
          "name": "stdout",
          "text": [
            "Model Number: 1341 with model ARDL in generation 15 of 25\n",
            "Model Number: 1342 with model DatepartRegression in generation 15 of 25\n",
            "Model Number: 1343 with model ETS in generation 15 of 25\n",
            "Model Number: 1344 with model FFT in generation 15 of 25\n",
            "Model Number: 1345 with model DatepartRegression in generation 15 of 25\n",
            "Epoch 1/50\n"
          ]
        },
        {
          "output_type": "stream",
          "name": "stderr",
          "text": [
            "/usr/local/lib/python3.11/dist-packages/keras/src/layers/rnn/rnn.py:200: UserWarning: Do not pass an `input_shape`/`input_dim` argument to a layer. When using Sequential models, prefer using an `Input(shape)` object as the first layer in the model instead.\n",
            "  super().__init__(**kwargs)\n"
          ]
        },
        {
          "output_type": "stream",
          "name": "stdout",
          "text": [
            "\u001b[1m2/2\u001b[0m \u001b[32m━━━━━━━━━━━━━━━━━━━━\u001b[0m\u001b[37m\u001b[0m \u001b[1m5s\u001b[0m 164ms/step - loss: 98.9005\n",
            "Epoch 2/50\n",
            "\u001b[1m2/2\u001b[0m \u001b[32m━━━━━━━━━━━━━━━━━━━━\u001b[0m\u001b[37m\u001b[0m \u001b[1m0s\u001b[0m 184ms/step - loss: 97.6109\n",
            "Epoch 3/50\n",
            "\u001b[1m2/2\u001b[0m \u001b[32m━━━━━━━━━━━━━━━━━━━━\u001b[0m\u001b[37m\u001b[0m \u001b[1m1s\u001b[0m 282ms/step - loss: 96.7003\n",
            "Epoch 4/50\n",
            "\u001b[1m2/2\u001b[0m \u001b[32m━━━━━━━━━━━━━━━━━━━━\u001b[0m\u001b[37m\u001b[0m \u001b[1m1s\u001b[0m 280ms/step - loss: 95.6328\n",
            "Epoch 5/50\n",
            "\u001b[1m2/2\u001b[0m \u001b[32m━━━━━━━━━━━━━━━━━━━━\u001b[0m\u001b[37m\u001b[0m \u001b[1m1s\u001b[0m 263ms/step - loss: 94.8510\n",
            "Epoch 6/50\n",
            "\u001b[1m2/2\u001b[0m \u001b[32m━━━━━━━━━━━━━━━━━━━━\u001b[0m\u001b[37m\u001b[0m \u001b[1m1s\u001b[0m 287ms/step - loss: 93.1919\n",
            "Epoch 7/50\n",
            "\u001b[1m2/2\u001b[0m \u001b[32m━━━━━━━━━━━━━━━━━━━━\u001b[0m\u001b[37m\u001b[0m \u001b[1m1s\u001b[0m 279ms/step - loss: 91.9808\n",
            "Epoch 8/50\n",
            "\u001b[1m2/2\u001b[0m \u001b[32m━━━━━━━━━━━━━━━━━━━━\u001b[0m\u001b[37m\u001b[0m \u001b[1m1s\u001b[0m 247ms/step - loss: 90.5339\n",
            "Epoch 9/50\n",
            "\u001b[1m2/2\u001b[0m \u001b[32m━━━━━━━━━━━━━━━━━━━━\u001b[0m\u001b[37m\u001b[0m \u001b[1m0s\u001b[0m 204ms/step - loss: 88.9084\n",
            "Epoch 10/50\n",
            "\u001b[1m2/2\u001b[0m \u001b[32m━━━━━━━━━━━━━━━━━━━━\u001b[0m\u001b[37m\u001b[0m \u001b[1m1s\u001b[0m 162ms/step - loss: 87.1449\n",
            "Epoch 11/50\n",
            "\u001b[1m2/2\u001b[0m \u001b[32m━━━━━━━━━━━━━━━━━━━━\u001b[0m\u001b[37m\u001b[0m \u001b[1m1s\u001b[0m 163ms/step - loss: 85.3936\n",
            "Epoch 12/50\n",
            "\u001b[1m2/2\u001b[0m \u001b[32m━━━━━━━━━━━━━━━━━━━━\u001b[0m\u001b[37m\u001b[0m \u001b[1m1s\u001b[0m 161ms/step - loss: 85.6733\n",
            "Epoch 13/50\n",
            "\u001b[1m2/2\u001b[0m \u001b[32m━━━━━━━━━━━━━━━━━━━━\u001b[0m\u001b[37m\u001b[0m \u001b[1m1s\u001b[0m 160ms/step - loss: 85.7085\n",
            "Epoch 14/50\n",
            "\u001b[1m2/2\u001b[0m \u001b[32m━━━━━━━━━━━━━━━━━━━━\u001b[0m\u001b[37m\u001b[0m \u001b[1m1s\u001b[0m 166ms/step - loss: 85.5999\n",
            "Epoch 15/50\n",
            "\u001b[1m2/2\u001b[0m \u001b[32m━━━━━━━━━━━━━━━━━━━━\u001b[0m\u001b[37m\u001b[0m \u001b[1m0s\u001b[0m 181ms/step - loss: 84.6245\n",
            "Epoch 16/50\n",
            "\u001b[1m2/2\u001b[0m \u001b[32m━━━━━━━━━━━━━━━━━━━━\u001b[0m\u001b[37m\u001b[0m \u001b[1m0s\u001b[0m 163ms/step - loss: 84.3117\n",
            "Epoch 17/50\n",
            "\u001b[1m2/2\u001b[0m \u001b[32m━━━━━━━━━━━━━━━━━━━━\u001b[0m\u001b[37m\u001b[0m \u001b[1m0s\u001b[0m 161ms/step - loss: 84.9366\n",
            "Epoch 18/50\n",
            "\u001b[1m2/2\u001b[0m \u001b[32m━━━━━━━━━━━━━━━━━━━━\u001b[0m\u001b[37m\u001b[0m \u001b[1m1s\u001b[0m 168ms/step - loss: 84.7647\n",
            "Epoch 19/50\n",
            "\u001b[1m2/2\u001b[0m \u001b[32m━━━━━━━━━━━━━━━━━━━━\u001b[0m\u001b[37m\u001b[0m \u001b[1m1s\u001b[0m 177ms/step - loss: 84.5225\n",
            "Epoch 20/50\n",
            "\u001b[1m2/2\u001b[0m \u001b[32m━━━━━━━━━━━━━━━━━━━━\u001b[0m\u001b[37m\u001b[0m \u001b[1m0s\u001b[0m 164ms/step - loss: 84.4824\n",
            "Epoch 21/50\n",
            "\u001b[1m2/2\u001b[0m \u001b[32m━━━━━━━━━━━━━━━━━━━━\u001b[0m\u001b[37m\u001b[0m \u001b[1m1s\u001b[0m 159ms/step - loss: 83.8357\n",
            "Epoch 22/50\n",
            "\u001b[1m2/2\u001b[0m \u001b[32m━━━━━━━━━━━━━━━━━━━━\u001b[0m\u001b[37m\u001b[0m \u001b[1m1s\u001b[0m 172ms/step - loss: 84.5115\n",
            "Epoch 23/50\n",
            "\u001b[1m2/2\u001b[0m \u001b[32m━━━━━━━━━━━━━━━━━━━━\u001b[0m\u001b[37m\u001b[0m \u001b[1m0s\u001b[0m 159ms/step - loss: 84.4249\n",
            "Epoch 24/50\n",
            "\u001b[1m2/2\u001b[0m \u001b[32m━━━━━━━━━━━━━━━━━━━━\u001b[0m\u001b[37m\u001b[0m \u001b[1m1s\u001b[0m 162ms/step - loss: 84.7689\n",
            "Epoch 25/50\n",
            "\u001b[1m2/2\u001b[0m \u001b[32m━━━━━━━━━━━━━━━━━━━━\u001b[0m\u001b[37m\u001b[0m \u001b[1m0s\u001b[0m 164ms/step - loss: 84.6149\n",
            "Epoch 26/50\n",
            "\u001b[1m2/2\u001b[0m \u001b[32m━━━━━━━━━━━━━━━━━━━━\u001b[0m\u001b[37m\u001b[0m \u001b[1m1s\u001b[0m 162ms/step - loss: 83.9452\n",
            "Epoch 27/50\n",
            "\u001b[1m2/2\u001b[0m \u001b[32m━━━━━━━━━━━━━━━━━━━━\u001b[0m\u001b[37m\u001b[0m \u001b[1m1s\u001b[0m 182ms/step - loss: 83.5875\n",
            "Epoch 28/50\n",
            "\u001b[1m2/2\u001b[0m \u001b[32m━━━━━━━━━━━━━━━━━━━━\u001b[0m\u001b[37m\u001b[0m \u001b[1m1s\u001b[0m 283ms/step - loss: 83.6089\n",
            "Epoch 29/50\n",
            "\u001b[1m2/2\u001b[0m \u001b[32m━━━━━━━━━━━━━━━━━━━━\u001b[0m\u001b[37m\u001b[0m \u001b[1m1s\u001b[0m 293ms/step - loss: 83.9803\n",
            "Epoch 30/50\n",
            "\u001b[1m2/2\u001b[0m \u001b[32m━━━━━━━━━━━━━━━━━━━━\u001b[0m\u001b[37m\u001b[0m \u001b[1m1s\u001b[0m 275ms/step - loss: 84.1078\n",
            "Epoch 31/50\n",
            "\u001b[1m2/2\u001b[0m \u001b[32m━━━━━━━━━━━━━━━━━━━━\u001b[0m\u001b[37m\u001b[0m \u001b[1m1s\u001b[0m 283ms/step - loss: 83.8015\n",
            "Epoch 32/50\n",
            "\u001b[1m2/2\u001b[0m \u001b[32m━━━━━━━━━━━━━━━━━━━━\u001b[0m\u001b[37m\u001b[0m \u001b[1m1s\u001b[0m 301ms/step - loss: 83.5546\n",
            "Epoch 33/50\n",
            "\u001b[1m2/2\u001b[0m \u001b[32m━━━━━━━━━━━━━━━━━━━━\u001b[0m\u001b[37m\u001b[0m \u001b[1m1s\u001b[0m 229ms/step - loss: 83.9567\n",
            "Epoch 34/50\n",
            "\u001b[1m2/2\u001b[0m \u001b[32m━━━━━━━━━━━━━━━━━━━━\u001b[0m\u001b[37m\u001b[0m \u001b[1m0s\u001b[0m 171ms/step - loss: 83.4007\n",
            "Epoch 35/50\n",
            "\u001b[1m2/2\u001b[0m \u001b[32m━━━━━━━━━━━━━━━━━━━━\u001b[0m\u001b[37m\u001b[0m \u001b[1m1s\u001b[0m 160ms/step - loss: 82.8164\n",
            "Epoch 36/50\n",
            "\u001b[1m2/2\u001b[0m \u001b[32m━━━━━━━━━━━━━━━━━━━━\u001b[0m\u001b[37m\u001b[0m \u001b[1m0s\u001b[0m 188ms/step - loss: 83.1552\n",
            "Epoch 37/50\n",
            "\u001b[1m2/2\u001b[0m \u001b[32m━━━━━━━━━━━━━━━━━━━━\u001b[0m\u001b[37m\u001b[0m \u001b[1m1s\u001b[0m 176ms/step - loss: 83.5690\n",
            "Epoch 38/50\n",
            "\u001b[1m2/2\u001b[0m \u001b[32m━━━━━━━━━━━━━━━━━━━━\u001b[0m\u001b[37m\u001b[0m \u001b[1m0s\u001b[0m 204ms/step - loss: 84.5360\n",
            "Epoch 39/50\n",
            "\u001b[1m2/2\u001b[0m \u001b[32m━━━━━━━━━━━━━━━━━━━━\u001b[0m\u001b[37m\u001b[0m \u001b[1m0s\u001b[0m 171ms/step - loss: 85.2795\n",
            "Epoch 40/50\n",
            "\u001b[1m2/2\u001b[0m \u001b[32m━━━━━━━━━━━━━━━━━━━━\u001b[0m\u001b[37m\u001b[0m \u001b[1m1s\u001b[0m 181ms/step - loss: 81.8834\n",
            "Epoch 41/50\n",
            "\u001b[1m2/2\u001b[0m \u001b[32m━━━━━━━━━━━━━━━━━━━━\u001b[0m\u001b[37m\u001b[0m \u001b[1m1s\u001b[0m 161ms/step - loss: 82.2320\n",
            "Epoch 42/50\n",
            "\u001b[1m2/2\u001b[0m \u001b[32m━━━━━━━━━━━━━━━━━━━━\u001b[0m\u001b[37m\u001b[0m \u001b[1m0s\u001b[0m 163ms/step - loss: 83.1337\n",
            "Epoch 43/50\n",
            "\u001b[1m2/2\u001b[0m \u001b[32m━━━━━━━━━━━━━━━━━━━━\u001b[0m\u001b[37m\u001b[0m \u001b[1m0s\u001b[0m 166ms/step - loss: 81.9274\n",
            "Epoch 44/50\n",
            "\u001b[1m2/2\u001b[0m \u001b[32m━━━━━━━━━━━━━━━━━━━━\u001b[0m\u001b[37m\u001b[0m \u001b[1m1s\u001b[0m 163ms/step - loss: 82.0622\n",
            "Epoch 45/50\n",
            "\u001b[1m2/2\u001b[0m \u001b[32m━━━━━━━━━━━━━━━━━━━━\u001b[0m\u001b[37m\u001b[0m \u001b[1m0s\u001b[0m 170ms/step - loss: 80.5899\n",
            "Epoch 46/50\n",
            "\u001b[1m2/2\u001b[0m \u001b[32m━━━━━━━━━━━━━━━━━━━━\u001b[0m\u001b[37m\u001b[0m \u001b[1m1s\u001b[0m 164ms/step - loss: 83.4630\n",
            "Epoch 47/50\n",
            "\u001b[1m2/2\u001b[0m \u001b[32m━━━━━━━━━━━━━━━━━━━━\u001b[0m\u001b[37m\u001b[0m \u001b[1m1s\u001b[0m 165ms/step - loss: 84.2323\n",
            "Epoch 48/50\n",
            "\u001b[1m2/2\u001b[0m \u001b[32m━━━━━━━━━━━━━━━━━━━━\u001b[0m\u001b[37m\u001b[0m \u001b[1m1s\u001b[0m 175ms/step - loss: 83.5983\n",
            "Epoch 49/50\n",
            "\u001b[1m2/2\u001b[0m \u001b[32m━━━━━━━━━━━━━━━━━━━━\u001b[0m\u001b[37m\u001b[0m \u001b[1m1s\u001b[0m 164ms/step - loss: 82.5799\n",
            "Epoch 50/50\n",
            "\u001b[1m2/2\u001b[0m \u001b[32m━━━━━━━━━━━━━━━━━━━━\u001b[0m\u001b[37m\u001b[0m \u001b[1m1s\u001b[0m 163ms/step - loss: 78.4936\n",
            "\u001b[1m1/1\u001b[0m \u001b[32m━━━━━━━━━━━━━━━━━━━━\u001b[0m\u001b[37m\u001b[0m \u001b[1m0s\u001b[0m 482ms/step\n",
            "Model Number: 1346 with model ConstantNaive in generation 15 of 25\n",
            "Model Number: 1347 with model ARDL in generation 15 of 25\n",
            "Model Number: 1348 with model ETS in generation 15 of 25\n",
            "Model Number: 1349 with model SeasonalNaive in generation 15 of 25\n",
            "Template Eval Error: Exception(\"Transformer AlignLastValue failed on fit from params fake_date {'0': {'window_size': 90, 'alpha': 2.0, 'grouping_forward_limit': 3, 'max_level_shifts': 40, 'alignment': 'average'}, '1': {'decimals': 2, 'on_transform': True, 'on_inverse': True}, '2': {'method': 0.5}, '3': {'rows': 1, 'lag': 7, 'method': 'additive', 'strength': 1.0, 'first_value_only': False, 'threshold': None, 'threshold_method': 'mean'}, '4': {}} with error IndexError('single positional indexer is out-of-bounds')\") in model 1349 in generation 15: SeasonalNaive\n",
            "Model Number: 1350 with model GLS in generation 15 of 25\n",
            "Model Number: 1351 with model AverageValueNaive in generation 15 of 25\n",
            "Model Number: 1352 with model ETS in generation 15 of 25\n",
            "Model Number: 1353 with model FBProphet in generation 15 of 25\n",
            "Model Number: 1354 with model ConstantNaive in generation 15 of 25\n",
            "Model Number: 1355 with model FFT in generation 15 of 25\n",
            "Model Number: 1356 with model ARDL in generation 15 of 25\n",
            "Model Number: 1357 with model AverageValueNaive in generation 15 of 25\n",
            "Model Number: 1358 with model FBProphet in generation 15 of 25\n",
            "Model Number: 1359 with model AverageValueNaive in generation 15 of 25\n",
            "Model Number: 1360 with model RRVAR in generation 15 of 25\n",
            "Model Number: 1361 with model ARDL in generation 15 of 25\n",
            "Model Number: 1362 with model SeasonalityMotif in generation 15 of 25\n",
            "Template Eval Error: ValueError('kth(=9) out of bounds (3)') in model 1362 in generation 15: SeasonalityMotif\n",
            "Model Number: 1363 with model DatepartRegression in generation 15 of 25\n",
            "Epoch 1/50\n"
          ]
        },
        {
          "output_type": "stream",
          "name": "stderr",
          "text": [
            "/usr/local/lib/python3.11/dist-packages/keras/src/layers/rnn/rnn.py:200: UserWarning: Do not pass an `input_shape`/`input_dim` argument to a layer. When using Sequential models, prefer using an `Input(shape)` object as the first layer in the model instead.\n",
            "  super().__init__(**kwargs)\n"
          ]
        },
        {
          "output_type": "stream",
          "name": "stdout",
          "text": [
            "\u001b[1m2/2\u001b[0m \u001b[32m━━━━━━━━━━━━━━━━━━━━\u001b[0m\u001b[37m\u001b[0m \u001b[1m6s\u001b[0m 169ms/step - loss: 58584160.0000\n",
            "Epoch 2/50\n",
            "\u001b[1m2/2\u001b[0m \u001b[32m━━━━━━━━━━━━━━━━━━━━\u001b[0m\u001b[37m\u001b[0m \u001b[1m1s\u001b[0m 179ms/step - loss: 76533752.0000\n",
            "Epoch 3/50\n",
            "\u001b[1m2/2\u001b[0m \u001b[32m━━━━━━━━━━━━━━━━━━━━\u001b[0m\u001b[37m\u001b[0m \u001b[1m1s\u001b[0m 164ms/step - loss: 40731668.0000\n",
            "Epoch 4/50\n",
            "\u001b[1m2/2\u001b[0m \u001b[32m━━━━━━━━━━━━━━━━━━━━\u001b[0m\u001b[37m\u001b[0m \u001b[1m1s\u001b[0m 167ms/step - loss: 52670904.0000\n",
            "Epoch 5/50\n",
            "\u001b[1m2/2\u001b[0m \u001b[32m━━━━━━━━━━━━━━━━━━━━\u001b[0m\u001b[37m\u001b[0m \u001b[1m0s\u001b[0m 160ms/step - loss: 19626188.0000\n",
            "Epoch 6/50\n",
            "\u001b[1m2/2\u001b[0m \u001b[32m━━━━━━━━━━━━━━━━━━━━\u001b[0m\u001b[37m\u001b[0m \u001b[1m1s\u001b[0m 162ms/step - loss: 39116156.0000\n",
            "Epoch 7/50\n",
            "\u001b[1m2/2\u001b[0m \u001b[32m━━━━━━━━━━━━━━━━━━━━\u001b[0m\u001b[37m\u001b[0m \u001b[1m1s\u001b[0m 168ms/step - loss: 55651160.0000\n",
            "Epoch 8/50\n",
            "\u001b[1m2/2\u001b[0m \u001b[32m━━━━━━━━━━━━━━━━━━━━\u001b[0m\u001b[37m\u001b[0m \u001b[1m1s\u001b[0m 166ms/step - loss: 30095918.0000\n",
            "Epoch 9/50\n",
            "\u001b[1m2/2\u001b[0m \u001b[32m━━━━━━━━━━━━━━━━━━━━\u001b[0m\u001b[37m\u001b[0m \u001b[1m0s\u001b[0m 163ms/step - loss: 15713385.0000\n",
            "Epoch 10/50\n",
            "\u001b[1m2/2\u001b[0m \u001b[32m━━━━━━━━━━━━━━━━━━━━\u001b[0m\u001b[37m\u001b[0m \u001b[1m0s\u001b[0m 176ms/step - loss: 23809562.0000\n",
            "Epoch 11/50\n",
            "\u001b[1m2/2\u001b[0m \u001b[32m━━━━━━━━━━━━━━━━━━━━\u001b[0m\u001b[37m\u001b[0m \u001b[1m0s\u001b[0m 159ms/step - loss: 26633184.0000\n",
            "Epoch 12/50\n",
            "\u001b[1m2/2\u001b[0m \u001b[32m━━━━━━━━━━━━━━━━━━━━\u001b[0m\u001b[37m\u001b[0m \u001b[1m1s\u001b[0m 176ms/step - loss: 21550264.0000\n",
            "Epoch 13/50\n",
            "\u001b[1m2/2\u001b[0m \u001b[32m━━━━━━━━━━━━━━━━━━━━\u001b[0m\u001b[37m\u001b[0m \u001b[1m1s\u001b[0m 163ms/step - loss: 36942396.0000\n",
            "Epoch 14/50\n",
            "\u001b[1m2/2\u001b[0m \u001b[32m━━━━━━━━━━━━━━━━━━━━\u001b[0m\u001b[37m\u001b[0m \u001b[1m1s\u001b[0m 288ms/step - loss: 23991948.0000\n",
            "Epoch 15/50\n",
            "\u001b[1m2/2\u001b[0m \u001b[32m━━━━━━━━━━━━━━━━━━━━\u001b[0m\u001b[37m\u001b[0m \u001b[1m1s\u001b[0m 278ms/step - loss: 13193699.0000\n",
            "Epoch 16/50\n",
            "\u001b[1m2/2\u001b[0m \u001b[32m━━━━━━━━━━━━━━━━━━━━\u001b[0m\u001b[37m\u001b[0m \u001b[1m1s\u001b[0m 268ms/step - loss: 18793858.0000\n",
            "Epoch 17/50\n",
            "\u001b[1m2/2\u001b[0m \u001b[32m━━━━━━━━━━━━━━━━━━━━\u001b[0m\u001b[37m\u001b[0m \u001b[1m1s\u001b[0m 280ms/step - loss: 19818198.0000\n",
            "Epoch 18/50\n",
            "\u001b[1m2/2\u001b[0m \u001b[32m━━━━━━━━━━━━━━━━━━━━\u001b[0m\u001b[37m\u001b[0m \u001b[1m1s\u001b[0m 288ms/step - loss: 26105844.0000\n",
            "Epoch 19/50\n",
            "\u001b[1m2/2\u001b[0m \u001b[32m━━━━━━━━━━━━━━━━━━━━\u001b[0m\u001b[37m\u001b[0m \u001b[1m1s\u001b[0m 303ms/step - loss: 19829380.0000\n",
            "Epoch 20/50\n",
            "\u001b[1m2/2\u001b[0m \u001b[32m━━━━━━━━━━━━━━━━━━━━\u001b[0m\u001b[37m\u001b[0m \u001b[1m0s\u001b[0m 163ms/step - loss: 10561922.0000\n",
            "Epoch 21/50\n",
            "\u001b[1m2/2\u001b[0m \u001b[32m━━━━━━━━━━━━━━━━━━━━\u001b[0m\u001b[37m\u001b[0m \u001b[1m0s\u001b[0m 163ms/step - loss: 26023144.0000\n",
            "Epoch 22/50\n",
            "\u001b[1m2/2\u001b[0m \u001b[32m━━━━━━━━━━━━━━━━━━━━\u001b[0m\u001b[37m\u001b[0m \u001b[1m1s\u001b[0m 165ms/step - loss: 24733828.0000\n",
            "Epoch 23/50\n",
            "\u001b[1m2/2\u001b[0m \u001b[32m━━━━━━━━━━━━━━━━━━━━\u001b[0m\u001b[37m\u001b[0m \u001b[1m0s\u001b[0m 161ms/step - loss: 20359754.0000\n",
            "Epoch 24/50\n",
            "\u001b[1m2/2\u001b[0m \u001b[32m━━━━━━━━━━━━━━━━━━━━\u001b[0m\u001b[37m\u001b[0m \u001b[1m1s\u001b[0m 166ms/step - loss: 12684285.0000\n",
            "Epoch 25/50\n",
            "\u001b[1m2/2\u001b[0m \u001b[32m━━━━━━━━━━━━━━━━━━━━\u001b[0m\u001b[37m\u001b[0m \u001b[1m0s\u001b[0m 167ms/step - loss: 12100848.0000\n",
            "Epoch 26/50\n",
            "\u001b[1m2/2\u001b[0m \u001b[32m━━━━━━━━━━━━━━━━━━━━\u001b[0m\u001b[37m\u001b[0m \u001b[1m1s\u001b[0m 163ms/step - loss: 12536437.0000\n",
            "Epoch 27/50\n",
            "\u001b[1m2/2\u001b[0m \u001b[32m━━━━━━━━━━━━━━━━━━━━\u001b[0m\u001b[37m\u001b[0m \u001b[1m1s\u001b[0m 177ms/step - loss: 14744311.0000\n",
            "Epoch 28/50\n",
            "\u001b[1m2/2\u001b[0m \u001b[32m━━━━━━━━━━━━━━━━━━━━\u001b[0m\u001b[37m\u001b[0m \u001b[1m1s\u001b[0m 161ms/step - loss: 13066840.0000\n",
            "Epoch 29/50\n",
            "\u001b[1m2/2\u001b[0m \u001b[32m━━━━━━━━━━━━━━━━━━━━\u001b[0m\u001b[37m\u001b[0m \u001b[1m0s\u001b[0m 177ms/step - loss: 5998259.5000\n",
            "Epoch 30/50\n",
            "\u001b[1m2/2\u001b[0m \u001b[32m━━━━━━━━━━━━━━━━━━━━\u001b[0m\u001b[37m\u001b[0m \u001b[1m0s\u001b[0m 162ms/step - loss: 9998605.0000\n",
            "Epoch 31/50\n",
            "\u001b[1m2/2\u001b[0m \u001b[32m━━━━━━━━━━━━━━━━━━━━\u001b[0m\u001b[37m\u001b[0m \u001b[1m0s\u001b[0m 178ms/step - loss: 14662711.0000\n",
            "Epoch 32/50\n",
            "\u001b[1m2/2\u001b[0m \u001b[32m━━━━━━━━━━━━━━━━━━━━\u001b[0m\u001b[37m\u001b[0m \u001b[1m1s\u001b[0m 165ms/step - loss: 17646798.0000\n",
            "Epoch 33/50\n",
            "\u001b[1m2/2\u001b[0m \u001b[32m━━━━━━━━━━━━━━━━━━━━\u001b[0m\u001b[37m\u001b[0m \u001b[1m0s\u001b[0m 164ms/step - loss: 13669030.0000\n",
            "Epoch 34/50\n",
            "\u001b[1m2/2\u001b[0m \u001b[32m━━━━━━━━━━━━━━━━━━━━\u001b[0m\u001b[37m\u001b[0m \u001b[1m1s\u001b[0m 157ms/step - loss: 14344836.0000\n",
            "Epoch 35/50\n",
            "\u001b[1m2/2\u001b[0m \u001b[32m━━━━━━━━━━━━━━━━━━━━\u001b[0m\u001b[37m\u001b[0m \u001b[1m0s\u001b[0m 159ms/step - loss: 11796108.0000\n",
            "Epoch 36/50\n",
            "\u001b[1m2/2\u001b[0m \u001b[32m━━━━━━━━━━━━━━━━━━━━\u001b[0m\u001b[37m\u001b[0m \u001b[1m0s\u001b[0m 162ms/step - loss: 8418248.0000\n",
            "Epoch 37/50\n",
            "\u001b[1m2/2\u001b[0m \u001b[32m━━━━━━━━━━━━━━━━━━━━\u001b[0m\u001b[37m\u001b[0m \u001b[1m1s\u001b[0m 161ms/step - loss: 17211632.0000\n",
            "Epoch 38/50\n",
            "\u001b[1m2/2\u001b[0m \u001b[32m━━━━━━━━━━━━━━━━━━━━\u001b[0m\u001b[37m\u001b[0m \u001b[1m1s\u001b[0m 180ms/step - loss: 28899254.0000\n",
            "Epoch 39/50\n",
            "\u001b[1m2/2\u001b[0m \u001b[32m━━━━━━━━━━━━━━━━━━━━\u001b[0m\u001b[37m\u001b[0m \u001b[1m1s\u001b[0m 166ms/step - loss: 16260501.0000\n",
            "Epoch 40/50\n",
            "\u001b[1m2/2\u001b[0m \u001b[32m━━━━━━━━━━━━━━━━━━━━\u001b[0m\u001b[37m\u001b[0m \u001b[1m1s\u001b[0m 268ms/step - loss: 10646807.0000\n",
            "Epoch 41/50\n",
            "\u001b[1m2/2\u001b[0m \u001b[32m━━━━━━━━━━━━━━━━━━━━\u001b[0m\u001b[37m\u001b[0m \u001b[1m1s\u001b[0m 296ms/step - loss: 11476091.0000\n",
            "Epoch 42/50\n",
            "\u001b[1m2/2\u001b[0m \u001b[32m━━━━━━━━━━━━━━━━━━━━\u001b[0m\u001b[37m\u001b[0m \u001b[1m1s\u001b[0m 276ms/step - loss: 12708506.0000\n",
            "Epoch 43/50\n",
            "\u001b[1m2/2\u001b[0m \u001b[32m━━━━━━━━━━━━━━━━━━━━\u001b[0m\u001b[37m\u001b[0m \u001b[1m1s\u001b[0m 281ms/step - loss: 11340962.0000\n",
            "Epoch 44/50\n",
            "\u001b[1m2/2\u001b[0m \u001b[32m━━━━━━━━━━━━━━━━━━━━\u001b[0m\u001b[37m\u001b[0m \u001b[1m1s\u001b[0m 280ms/step - loss: 7132124.5000\n",
            "Epoch 45/50\n",
            "\u001b[1m2/2\u001b[0m \u001b[32m━━━━━━━━━━━━━━━━━━━━\u001b[0m\u001b[37m\u001b[0m \u001b[1m1s\u001b[0m 316ms/step - loss: 8959899.0000\n",
            "Epoch 46/50\n",
            "\u001b[1m2/2\u001b[0m \u001b[32m━━━━━━━━━━━━━━━━━━━━\u001b[0m\u001b[37m\u001b[0m \u001b[1m1s\u001b[0m 296ms/step - loss: 14534716.0000\n",
            "Epoch 47/50\n",
            "\u001b[1m2/2\u001b[0m \u001b[32m━━━━━━━━━━━━━━━━━━━━\u001b[0m\u001b[37m\u001b[0m \u001b[1m0s\u001b[0m 166ms/step - loss: 9101233.0000\n",
            "Epoch 48/50\n",
            "\u001b[1m2/2\u001b[0m \u001b[32m━━━━━━━━━━━━━━━━━━━━\u001b[0m\u001b[37m\u001b[0m \u001b[1m0s\u001b[0m 162ms/step - loss: 11363768.0000\n",
            "Epoch 49/50\n",
            "\u001b[1m2/2\u001b[0m \u001b[32m━━━━━━━━━━━━━━━━━━━━\u001b[0m\u001b[37m\u001b[0m \u001b[1m0s\u001b[0m 166ms/step - loss: 9113746.0000\n",
            "Epoch 50/50\n",
            "\u001b[1m2/2\u001b[0m \u001b[32m━━━━━━━━━━━━━━━━━━━━\u001b[0m\u001b[37m\u001b[0m \u001b[1m1s\u001b[0m 161ms/step - loss: 9260544.0000\n",
            "\u001b[1m1/1\u001b[0m \u001b[32m━━━━━━━━━━━━━━━━━━━━\u001b[0m\u001b[37m\u001b[0m \u001b[1m0s\u001b[0m 477ms/step\n",
            "Model Number: 1364 with model AverageValueNaive in generation 15 of 25\n",
            "Model Number: 1365 with model ConstantNaive in generation 15 of 25\n",
            "Model Number: 1366 with model GLM in generation 15 of 25\n",
            "Model Number: 1367 with model LastValueNaive in generation 15 of 25\n",
            "Model Number: 1368 with model DatepartRegression in generation 15 of 25\n",
            "Model Number: 1369 with model SeasonalNaive in generation 15 of 25\n",
            "Model Number: 1370 with model GLM in generation 15 of 25\n"
          ]
        },
        {
          "output_type": "stream",
          "name": "stderr",
          "text": [
            "/usr/local/lib/python3.11/dist-packages/statsmodels/genmod/generalized_linear_model.py:1342: PerfectSeparationWarning: Perfect separation or prediction detected, parameter may not be identified\n",
            "  warnings.warn(msg, category=PerfectSeparationWarning)\n",
            "/usr/local/lib/python3.11/dist-packages/statsmodels/genmod/generalized_linear_model.py:1342: PerfectSeparationWarning: Perfect separation or prediction detected, parameter may not be identified\n",
            "  warnings.warn(msg, category=PerfectSeparationWarning)\n",
            "/usr/local/lib/python3.11/dist-packages/autots/tools/window_functions.py:605: RuntimeWarning: invalid value encountered in divide\n",
            "  slope = (sxy - sx * sy) / (sx2 - sx**2)\n"
          ]
        },
        {
          "output_type": "stream",
          "name": "stdout",
          "text": [
            "Model Number: 1371 with model GLS in generation 15 of 25\n",
            "Template Eval Error: ValueError('zero-size array to reduction operation maximum which has no identity') in model 1371 in generation 15: GLS\n",
            "Model Number: 1372 with model AverageValueNaive in generation 15 of 25\n",
            "Model Number: 1373 with model GLM in generation 15 of 25\n",
            "New Generation: 16 of 25\n",
            "Model Number: 1374 with model ConstantNaive in generation 16 of 25\n",
            "Model Number: 1375 with model ConstantNaive in generation 16 of 25\n",
            "Model Number: 1376 with model LastValueNaive in generation 16 of 25\n",
            "Model Number: 1377 with model FBProphet in generation 16 of 25\n",
            "Model Number: 1378 with model AverageValueNaive in generation 16 of 25\n",
            "Model Number: 1379 with model DatepartRegression in generation 16 of 25\n",
            "Model Number: 1380 with model DatepartRegression in generation 16 of 25\n",
            "Epoch 1/50\n"
          ]
        },
        {
          "output_type": "stream",
          "name": "stderr",
          "text": [
            "/usr/local/lib/python3.11/dist-packages/keras/src/layers/rnn/rnn.py:200: UserWarning: Do not pass an `input_shape`/`input_dim` argument to a layer. When using Sequential models, prefer using an `Input(shape)` object as the first layer in the model instead.\n",
            "  super().__init__(**kwargs)\n"
          ]
        },
        {
          "output_type": "stream",
          "name": "stdout",
          "text": [
            "\u001b[1m1/1\u001b[0m \u001b[32m━━━━━━━━━━━━━━━━━━━━\u001b[0m\u001b[37m\u001b[0m \u001b[1m5s\u001b[0m 5s/step - loss: 5.9554e-04\n",
            "Epoch 2/50\n",
            "\u001b[1m1/1\u001b[0m \u001b[32m━━━━━━━━━━━━━━━━━━━━\u001b[0m\u001b[37m\u001b[0m \u001b[1m0s\u001b[0m 135ms/step - loss: 6.7953e-04\n",
            "Epoch 3/50\n",
            "\u001b[1m1/1\u001b[0m \u001b[32m━━━━━━━━━━━━━━━━━━━━\u001b[0m\u001b[37m\u001b[0m \u001b[1m0s\u001b[0m 60ms/step - loss: 4.4048e-04\n",
            "Epoch 4/50\n",
            "\u001b[1m1/1\u001b[0m \u001b[32m━━━━━━━━━━━━━━━━━━━━\u001b[0m\u001b[37m\u001b[0m \u001b[1m0s\u001b[0m 138ms/step - loss: 2.2084e-04\n",
            "Epoch 5/50\n",
            "\u001b[1m1/1\u001b[0m \u001b[32m━━━━━━━━━━━━━━━━━━━━\u001b[0m\u001b[37m\u001b[0m \u001b[1m0s\u001b[0m 149ms/step - loss: 9.8378e-05\n",
            "Epoch 6/50\n",
            "\u001b[1m1/1\u001b[0m \u001b[32m━━━━━━━━━━━━━━━━━━━━\u001b[0m\u001b[37m\u001b[0m \u001b[1m0s\u001b[0m 130ms/step - loss: 5.1160e-04\n",
            "Epoch 7/50\n",
            "\u001b[1m1/1\u001b[0m \u001b[32m━━━━━━━━━━━━━━━━━━━━\u001b[0m\u001b[37m\u001b[0m \u001b[1m0s\u001b[0m 143ms/step - loss: 5.0417e-04\n",
            "Epoch 8/50\n",
            "\u001b[1m1/1\u001b[0m \u001b[32m━━━━━━━━━━━━━━━━━━━━\u001b[0m\u001b[37m\u001b[0m \u001b[1m0s\u001b[0m 66ms/step - loss: 1.9164e-04\n",
            "Epoch 9/50\n",
            "\u001b[1m1/1\u001b[0m \u001b[32m━━━━━━━━━━━━━━━━━━━━\u001b[0m\u001b[37m\u001b[0m \u001b[1m0s\u001b[0m 60ms/step - loss: 2.5180e-04\n",
            "Epoch 10/50\n",
            "\u001b[1m1/1\u001b[0m \u001b[32m━━━━━━━━━━━━━━━━━━━━\u001b[0m\u001b[37m\u001b[0m \u001b[1m0s\u001b[0m 62ms/step - loss: 1.7733e-04\n",
            "Epoch 11/50\n",
            "\u001b[1m1/1\u001b[0m \u001b[32m━━━━━━━━━━━━━━━━━━━━\u001b[0m\u001b[37m\u001b[0m \u001b[1m0s\u001b[0m 64ms/step - loss: 2.2359e-04\n",
            "Epoch 12/50\n",
            "\u001b[1m1/1\u001b[0m \u001b[32m━━━━━━━━━━━━━━━━━━━━\u001b[0m\u001b[37m\u001b[0m \u001b[1m0s\u001b[0m 60ms/step - loss: 2.6972e-04\n",
            "Epoch 13/50\n",
            "\u001b[1m1/1\u001b[0m \u001b[32m━━━━━━━━━━━━━━━━━━━━\u001b[0m\u001b[37m\u001b[0m \u001b[1m0s\u001b[0m 166ms/step - loss: 1.1626e-04\n",
            "Epoch 14/50\n",
            "\u001b[1m1/1\u001b[0m \u001b[32m━━━━━━━━━━━━━━━━━━━━\u001b[0m\u001b[37m\u001b[0m \u001b[1m0s\u001b[0m 130ms/step - loss: 1.3626e-04\n",
            "Epoch 15/50\n",
            "\u001b[1m1/1\u001b[0m \u001b[32m━━━━━━━━━━━━━━━━━━━━\u001b[0m\u001b[37m\u001b[0m \u001b[1m0s\u001b[0m 151ms/step - loss: 1.0161e-04\n",
            "Epoch 16/50\n",
            "\u001b[1m1/1\u001b[0m \u001b[32m━━━━━━━━━━━━━━━━━━━━\u001b[0m\u001b[37m\u001b[0m \u001b[1m0s\u001b[0m 127ms/step - loss: 2.9071e-04\n",
            "Epoch 17/50\n",
            "\u001b[1m1/1\u001b[0m \u001b[32m━━━━━━━━━━━━━━━━━━━━\u001b[0m\u001b[37m\u001b[0m \u001b[1m0s\u001b[0m 83ms/step - loss: 2.3056e-04\n",
            "Epoch 18/50\n",
            "\u001b[1m1/1\u001b[0m \u001b[32m━━━━━━━━━━━━━━━━━━━━\u001b[0m\u001b[37m\u001b[0m \u001b[1m0s\u001b[0m 95ms/step - loss: 2.1288e-04\n",
            "Epoch 19/50\n",
            "\u001b[1m1/1\u001b[0m \u001b[32m━━━━━━━━━━━━━━━━━━━━\u001b[0m\u001b[37m\u001b[0m \u001b[1m0s\u001b[0m 102ms/step - loss: 1.8523e-04\n",
            "Epoch 20/50\n",
            "\u001b[1m1/1\u001b[0m \u001b[32m━━━━━━━━━━━━━━━━━━━━\u001b[0m\u001b[37m\u001b[0m \u001b[1m0s\u001b[0m 141ms/step - loss: 7.5991e-05\n",
            "Epoch 21/50\n",
            "\u001b[1m1/1\u001b[0m \u001b[32m━━━━━━━━━━━━━━━━━━━━\u001b[0m\u001b[37m\u001b[0m \u001b[1m0s\u001b[0m 143ms/step - loss: 9.9135e-05\n",
            "Epoch 22/50\n",
            "\u001b[1m1/1\u001b[0m \u001b[32m━━━━━━━━━━━━━━━━━━━━\u001b[0m\u001b[37m\u001b[0m \u001b[1m0s\u001b[0m 137ms/step - loss: 8.4318e-05\n",
            "Epoch 23/50\n",
            "\u001b[1m1/1\u001b[0m \u001b[32m━━━━━━━━━━━━━━━━━━━━\u001b[0m\u001b[37m\u001b[0m \u001b[1m0s\u001b[0m 89ms/step - loss: 1.4460e-04\n",
            "Epoch 24/50\n",
            "\u001b[1m1/1\u001b[0m \u001b[32m━━━━━━━━━━━━━━━━━━━━\u001b[0m\u001b[37m\u001b[0m \u001b[1m0s\u001b[0m 140ms/step - loss: 6.9912e-05\n",
            "Epoch 25/50\n",
            "\u001b[1m1/1\u001b[0m \u001b[32m━━━━━━━━━━━━━━━━━━━━\u001b[0m\u001b[37m\u001b[0m \u001b[1m0s\u001b[0m 78ms/step - loss: 1.6924e-04\n",
            "Epoch 26/50\n",
            "\u001b[1m1/1\u001b[0m \u001b[32m━━━━━━━━━━━━━━━━━━━━\u001b[0m\u001b[37m\u001b[0m \u001b[1m0s\u001b[0m 139ms/step - loss: 1.8057e-04\n",
            "Epoch 27/50\n",
            "\u001b[1m1/1\u001b[0m \u001b[32m━━━━━━━━━━━━━━━━━━━━\u001b[0m\u001b[37m\u001b[0m \u001b[1m0s\u001b[0m 151ms/step - loss: 9.8952e-05\n",
            "Epoch 28/50\n",
            "\u001b[1m1/1\u001b[0m \u001b[32m━━━━━━━━━━━━━━━━━━━━\u001b[0m\u001b[37m\u001b[0m \u001b[1m0s\u001b[0m 132ms/step - loss: 1.2066e-04\n",
            "Epoch 29/50\n",
            "\u001b[1m1/1\u001b[0m \u001b[32m━━━━━━━━━━━━━━━━━━━━\u001b[0m\u001b[37m\u001b[0m \u001b[1m0s\u001b[0m 87ms/step - loss: 9.2216e-05\n",
            "Epoch 30/50\n",
            "\u001b[1m1/1\u001b[0m \u001b[32m━━━━━━━━━━━━━━━━━━━━\u001b[0m\u001b[37m\u001b[0m \u001b[1m0s\u001b[0m 84ms/step - loss: 1.9075e-04\n",
            "Epoch 31/50\n",
            "\u001b[1m1/1\u001b[0m \u001b[32m━━━━━━━━━━━━━━━━━━━━\u001b[0m\u001b[37m\u001b[0m \u001b[1m0s\u001b[0m 86ms/step - loss: 1.7686e-04\n",
            "Epoch 32/50\n",
            "\u001b[1m1/1\u001b[0m \u001b[32m━━━━━━━━━━━━━━━━━━━━\u001b[0m\u001b[37m\u001b[0m \u001b[1m0s\u001b[0m 95ms/step - loss: 8.3347e-05\n",
            "Epoch 33/50\n",
            "\u001b[1m1/1\u001b[0m \u001b[32m━━━━━━━━━━━━━━━━━━━━\u001b[0m\u001b[37m\u001b[0m \u001b[1m0s\u001b[0m 95ms/step - loss: 7.7588e-05\n",
            "Epoch 34/50\n",
            "\u001b[1m1/1\u001b[0m \u001b[32m━━━━━━━━━━━━━━━━━━━━\u001b[0m\u001b[37m\u001b[0m \u001b[1m0s\u001b[0m 83ms/step - loss: 9.9914e-05\n",
            "Epoch 35/50\n",
            "\u001b[1m1/1\u001b[0m \u001b[32m━━━━━━━━━━━━━━━━━━━━\u001b[0m\u001b[37m\u001b[0m \u001b[1m0s\u001b[0m 140ms/step - loss: 1.4221e-04\n",
            "Epoch 36/50\n",
            "\u001b[1m1/1\u001b[0m \u001b[32m━━━━━━━━━━━━━━━━━━━━\u001b[0m\u001b[37m\u001b[0m \u001b[1m0s\u001b[0m 97ms/step - loss: 1.3102e-04\n",
            "Epoch 37/50\n",
            "\u001b[1m1/1\u001b[0m \u001b[32m━━━━━━━━━━━━━━━━━━━━\u001b[0m\u001b[37m\u001b[0m \u001b[1m0s\u001b[0m 89ms/step - loss: 3.0161e-04\n",
            "Epoch 38/50\n",
            "\u001b[1m1/1\u001b[0m \u001b[32m━━━━━━━━━━━━━━━━━━━━\u001b[0m\u001b[37m\u001b[0m \u001b[1m0s\u001b[0m 152ms/step - loss: 2.5682e-04\n",
            "Epoch 39/50\n",
            "\u001b[1m1/1\u001b[0m \u001b[32m━━━━━━━━━━━━━━━━━━━━\u001b[0m\u001b[37m\u001b[0m \u001b[1m0s\u001b[0m 115ms/step - loss: 1.7590e-04\n",
            "Epoch 40/50\n",
            "\u001b[1m1/1\u001b[0m \u001b[32m━━━━━━━━━━━━━━━━━━━━\u001b[0m\u001b[37m\u001b[0m \u001b[1m0s\u001b[0m 144ms/step - loss: 1.2096e-04\n",
            "Epoch 41/50\n",
            "\u001b[1m1/1\u001b[0m \u001b[32m━━━━━━━━━━━━━━━━━━━━\u001b[0m\u001b[37m\u001b[0m \u001b[1m0s\u001b[0m 148ms/step - loss: 9.6656e-05\n",
            "Epoch 42/50\n",
            "\u001b[1m1/1\u001b[0m \u001b[32m━━━━━━━━━━━━━━━━━━━━\u001b[0m\u001b[37m\u001b[0m \u001b[1m0s\u001b[0m 120ms/step - loss: 6.6163e-05\n",
            "Epoch 43/50\n",
            "\u001b[1m1/1\u001b[0m \u001b[32m━━━━━━━━━━━━━━━━━━━━\u001b[0m\u001b[37m\u001b[0m \u001b[1m0s\u001b[0m 60ms/step - loss: 9.5751e-05\n",
            "Epoch 44/50\n",
            "\u001b[1m1/1\u001b[0m \u001b[32m━━━━━━━━━━━━━━━━━━━━\u001b[0m\u001b[37m\u001b[0m \u001b[1m0s\u001b[0m 144ms/step - loss: 1.4212e-04\n",
            "Epoch 45/50\n",
            "\u001b[1m1/1\u001b[0m \u001b[32m━━━━━━━━━━━━━━━━━━━━\u001b[0m\u001b[37m\u001b[0m \u001b[1m0s\u001b[0m 64ms/step - loss: 4.0826e-05\n",
            "Epoch 46/50\n",
            "\u001b[1m1/1\u001b[0m \u001b[32m━━━━━━━━━━━━━━━━━━━━\u001b[0m\u001b[37m\u001b[0m \u001b[1m0s\u001b[0m 67ms/step - loss: 9.1007e-05\n",
            "Epoch 47/50\n",
            "\u001b[1m1/1\u001b[0m \u001b[32m━━━━━━━━━━━━━━━━━━━━\u001b[0m\u001b[37m\u001b[0m \u001b[1m0s\u001b[0m 63ms/step - loss: 9.6871e-05\n",
            "Epoch 48/50\n",
            "\u001b[1m1/1\u001b[0m \u001b[32m━━━━━━━━━━━━━━━━━━━━\u001b[0m\u001b[37m\u001b[0m \u001b[1m0s\u001b[0m 78ms/step - loss: 1.2867e-04\n",
            "Epoch 49/50\n",
            "\u001b[1m1/1\u001b[0m \u001b[32m━━━━━━━━━━━━━━━━━━━━\u001b[0m\u001b[37m\u001b[0m \u001b[1m0s\u001b[0m 63ms/step - loss: 4.9916e-05\n",
            "Epoch 50/50\n",
            "\u001b[1m1/1\u001b[0m \u001b[32m━━━━━━━━━━━━━━━━━━━━\u001b[0m\u001b[37m\u001b[0m \u001b[1m0s\u001b[0m 65ms/step - loss: 1.6086e-04\n",
            "\u001b[1m1/1\u001b[0m \u001b[32m━━━━━━━━━━━━━━━━━━━━\u001b[0m\u001b[37m\u001b[0m \u001b[1m1s\u001b[0m 555ms/step\n",
            "Model Number: 1381 with model AverageValueNaive in generation 16 of 25\n",
            "Model Number: 1382 with model DatepartRegression in generation 16 of 25\n",
            "Epoch 1/50\n"
          ]
        },
        {
          "output_type": "stream",
          "name": "stderr",
          "text": [
            "/usr/local/lib/python3.11/dist-packages/keras/src/layers/rnn/rnn.py:200: UserWarning: Do not pass an `input_shape`/`input_dim` argument to a layer. When using Sequential models, prefer using an `Input(shape)` object as the first layer in the model instead.\n",
            "  super().__init__(**kwargs)\n"
          ]
        },
        {
          "output_type": "stream",
          "name": "stdout",
          "text": [
            "\u001b[1m2/2\u001b[0m \u001b[32m━━━━━━━━━━━━━━━━━━━━\u001b[0m\u001b[37m\u001b[0m \u001b[1m5s\u001b[0m 184ms/step - loss: 23436080.0000\n",
            "Epoch 2/50\n",
            "\u001b[1m2/2\u001b[0m \u001b[32m━━━━━━━━━━━━━━━━━━━━\u001b[0m\u001b[37m\u001b[0m \u001b[1m0s\u001b[0m 185ms/step - loss: 60982024.0000\n",
            "Epoch 3/50\n",
            "\u001b[1m2/2\u001b[0m \u001b[32m━━━━━━━━━━━━━━━━━━━━\u001b[0m\u001b[37m\u001b[0m \u001b[1m1s\u001b[0m 164ms/step - loss: 30708354.0000\n",
            "Epoch 4/50\n",
            "\u001b[1m2/2\u001b[0m \u001b[32m━━━━━━━━━━━━━━━━━━━━\u001b[0m\u001b[37m\u001b[0m \u001b[1m1s\u001b[0m 161ms/step - loss: 30920264.0000\n",
            "Epoch 5/50\n",
            "\u001b[1m2/2\u001b[0m \u001b[32m━━━━━━━━━━━━━━━━━━━━\u001b[0m\u001b[37m\u001b[0m \u001b[1m0s\u001b[0m 164ms/step - loss: 21833356.0000\n",
            "Epoch 6/50\n",
            "\u001b[1m2/2\u001b[0m \u001b[32m━━━━━━━━━━━━━━━━━━━━\u001b[0m\u001b[37m\u001b[0m \u001b[1m0s\u001b[0m 163ms/step - loss: 16055951.0000\n",
            "Epoch 7/50\n",
            "\u001b[1m2/2\u001b[0m \u001b[32m━━━━━━━━━━━━━━━━━━━━\u001b[0m\u001b[37m\u001b[0m \u001b[1m1s\u001b[0m 290ms/step - loss: 11527334.0000\n",
            "Epoch 8/50\n",
            "\u001b[1m2/2\u001b[0m \u001b[32m━━━━━━━━━━━━━━━━━━━━\u001b[0m\u001b[37m\u001b[0m \u001b[1m1s\u001b[0m 263ms/step - loss: 21528930.0000\n",
            "Epoch 9/50\n",
            "\u001b[1m2/2\u001b[0m \u001b[32m━━━━━━━━━━━━━━━━━━━━\u001b[0m\u001b[37m\u001b[0m \u001b[1m1s\u001b[0m 250ms/step - loss: 14321853.0000\n",
            "Epoch 10/50\n",
            "\u001b[1m2/2\u001b[0m \u001b[32m━━━━━━━━━━━━━━━━━━━━\u001b[0m\u001b[37m\u001b[0m \u001b[1m1s\u001b[0m 289ms/step - loss: 15619803.0000\n",
            "Epoch 11/50\n",
            "\u001b[1m2/2\u001b[0m \u001b[32m━━━━━━━━━━━━━━━━━━━━\u001b[0m\u001b[37m\u001b[0m \u001b[1m1s\u001b[0m 293ms/step - loss: 11372734.0000\n",
            "Epoch 12/50\n",
            "\u001b[1m2/2\u001b[0m \u001b[32m━━━━━━━━━━━━━━━━━━━━\u001b[0m\u001b[37m\u001b[0m \u001b[1m1s\u001b[0m 284ms/step - loss: 14788564.0000\n",
            "Epoch 13/50\n",
            "\u001b[1m2/2\u001b[0m \u001b[32m━━━━━━━━━━━━━━━━━━━━\u001b[0m\u001b[37m\u001b[0m \u001b[1m0s\u001b[0m 161ms/step - loss: 9822896.0000\n",
            "Epoch 14/50\n",
            "\u001b[1m2/2\u001b[0m \u001b[32m━━━━━━━━━━━━━━━━━━━━\u001b[0m\u001b[37m\u001b[0m \u001b[1m1s\u001b[0m 159ms/step - loss: 12613629.0000\n",
            "Epoch 15/50\n",
            "\u001b[1m2/2\u001b[0m \u001b[32m━━━━━━━━━━━━━━━━━━━━\u001b[0m\u001b[37m\u001b[0m \u001b[1m0s\u001b[0m 163ms/step - loss: 14090127.0000\n",
            "Epoch 16/50\n",
            "\u001b[1m2/2\u001b[0m \u001b[32m━━━━━━━━━━━━━━━━━━━━\u001b[0m\u001b[37m\u001b[0m \u001b[1m0s\u001b[0m 160ms/step - loss: 12215388.0000\n",
            "Epoch 17/50\n",
            "\u001b[1m2/2\u001b[0m \u001b[32m━━━━━━━━━━━━━━━━━━━━\u001b[0m\u001b[37m\u001b[0m \u001b[1m1s\u001b[0m 160ms/step - loss: 11494860.0000\n",
            "Epoch 18/50\n",
            "\u001b[1m2/2\u001b[0m \u001b[32m━━━━━━━━━━━━━━━━━━━━\u001b[0m\u001b[37m\u001b[0m \u001b[1m0s\u001b[0m 164ms/step - loss: 12422116.0000\n",
            "Epoch 19/50\n",
            "\u001b[1m2/2\u001b[0m \u001b[32m━━━━━━━━━━━━━━━━━━━━\u001b[0m\u001b[37m\u001b[0m \u001b[1m0s\u001b[0m 163ms/step - loss: 11432319.0000\n",
            "Epoch 20/50\n",
            "\u001b[1m2/2\u001b[0m \u001b[32m━━━━━━━━━━━━━━━━━━━━\u001b[0m\u001b[37m\u001b[0m \u001b[1m0s\u001b[0m 162ms/step - loss: 9378762.0000\n",
            "Epoch 21/50\n",
            "\u001b[1m2/2\u001b[0m \u001b[32m━━━━━━━━━━━━━━━━━━━━\u001b[0m\u001b[37m\u001b[0m \u001b[1m1s\u001b[0m 185ms/step - loss: 10118870.0000\n",
            "Epoch 22/50\n",
            "\u001b[1m2/2\u001b[0m \u001b[32m━━━━━━━━━━━━━━━━━━━━\u001b[0m\u001b[37m\u001b[0m \u001b[1m1s\u001b[0m 157ms/step - loss: 12180538.0000\n",
            "Epoch 23/50\n",
            "\u001b[1m2/2\u001b[0m \u001b[32m━━━━━━━━━━━━━━━━━━━━\u001b[0m\u001b[37m\u001b[0m \u001b[1m1s\u001b[0m 167ms/step - loss: 11297846.0000\n",
            "Epoch 24/50\n",
            "\u001b[1m2/2\u001b[0m \u001b[32m━━━━━━━━━━━━━━━━━━━━\u001b[0m\u001b[37m\u001b[0m \u001b[1m0s\u001b[0m 158ms/step - loss: 13294261.0000\n",
            "Epoch 25/50\n",
            "\u001b[1m2/2\u001b[0m \u001b[32m━━━━━━━━━━━━━━━━━━━━\u001b[0m\u001b[37m\u001b[0m \u001b[1m0s\u001b[0m 168ms/step - loss: 10607816.0000\n",
            "Epoch 26/50\n",
            "\u001b[1m2/2\u001b[0m \u001b[32m━━━━━━━━━━━━━━━━━━━━\u001b[0m\u001b[37m\u001b[0m \u001b[1m0s\u001b[0m 161ms/step - loss: 17162480.0000\n",
            "Epoch 27/50\n",
            "\u001b[1m2/2\u001b[0m \u001b[32m━━━━━━━━━━━━━━━━━━━━\u001b[0m\u001b[37m\u001b[0m \u001b[1m1s\u001b[0m 168ms/step - loss: 14047488.0000\n",
            "Epoch 28/50\n",
            "\u001b[1m2/2\u001b[0m \u001b[32m━━━━━━━━━━━━━━━━━━━━\u001b[0m\u001b[37m\u001b[0m \u001b[1m0s\u001b[0m 163ms/step - loss: 9630283.0000\n",
            "Epoch 29/50\n",
            "\u001b[1m2/2\u001b[0m \u001b[32m━━━━━━━━━━━━━━━━━━━━\u001b[0m\u001b[37m\u001b[0m \u001b[1m0s\u001b[0m 160ms/step - loss: 14798679.0000\n",
            "Epoch 30/50\n",
            "\u001b[1m2/2\u001b[0m \u001b[32m━━━━━━━━━━━━━━━━━━━━\u001b[0m\u001b[37m\u001b[0m \u001b[1m0s\u001b[0m 171ms/step - loss: 16248488.0000\n",
            "Epoch 31/50\n",
            "\u001b[1m2/2\u001b[0m \u001b[32m━━━━━━━━━━━━━━━━━━━━\u001b[0m\u001b[37m\u001b[0m \u001b[1m0s\u001b[0m 166ms/step - loss: 14286737.0000\n",
            "Epoch 32/50\n",
            "\u001b[1m2/2\u001b[0m \u001b[32m━━━━━━━━━━━━━━━━━━━━\u001b[0m\u001b[37m\u001b[0m \u001b[1m0s\u001b[0m 161ms/step - loss: 10504505.0000\n",
            "Epoch 33/50\n",
            "\u001b[1m2/2\u001b[0m \u001b[32m━━━━━━━━━━━━━━━━━━━━\u001b[0m\u001b[37m\u001b[0m \u001b[1m0s\u001b[0m 208ms/step - loss: 11457959.0000\n",
            "Epoch 34/50\n",
            "\u001b[1m2/2\u001b[0m \u001b[32m━━━━━━━━━━━━━━━━━━━━\u001b[0m\u001b[37m\u001b[0m \u001b[1m0s\u001b[0m 163ms/step - loss: 7974388.5000\n",
            "Epoch 35/50\n",
            "\u001b[1m2/2\u001b[0m \u001b[32m━━━━━━━━━━━━━━━━━━━━\u001b[0m\u001b[37m\u001b[0m \u001b[1m0s\u001b[0m 160ms/step - loss: 11449625.0000\n",
            "Epoch 36/50\n",
            "\u001b[1m2/2\u001b[0m \u001b[32m━━━━━━━━━━━━━━━━━━━━\u001b[0m\u001b[37m\u001b[0m \u001b[1m1s\u001b[0m 175ms/step - loss: 10716467.0000\n",
            "Epoch 37/50\n",
            "\u001b[1m2/2\u001b[0m \u001b[32m━━━━━━━━━━━━━━━━━━━━\u001b[0m\u001b[37m\u001b[0m \u001b[1m1s\u001b[0m 271ms/step - loss: 9795561.0000\n",
            "Epoch 38/50\n",
            "\u001b[1m2/2\u001b[0m \u001b[32m━━━━━━━━━━━━━━━━━━━━\u001b[0m\u001b[37m\u001b[0m \u001b[1m1s\u001b[0m 272ms/step - loss: 12240894.0000\n",
            "Epoch 39/50\n",
            "\u001b[1m2/2\u001b[0m \u001b[32m━━━━━━━━━━━━━━━━━━━━\u001b[0m\u001b[37m\u001b[0m \u001b[1m1s\u001b[0m 248ms/step - loss: 13499852.0000\n",
            "Epoch 40/50\n",
            "\u001b[1m2/2\u001b[0m \u001b[32m━━━━━━━━━━━━━━━━━━━━\u001b[0m\u001b[37m\u001b[0m \u001b[1m1s\u001b[0m 284ms/step - loss: 9091008.0000\n",
            "Epoch 41/50\n",
            "\u001b[1m2/2\u001b[0m \u001b[32m━━━━━━━━━━━━━━━━━━━━\u001b[0m\u001b[37m\u001b[0m \u001b[1m1s\u001b[0m 305ms/step - loss: 10351099.0000\n",
            "Epoch 42/50\n",
            "\u001b[1m2/2\u001b[0m \u001b[32m━━━━━━━━━━━━━━━━━━━━\u001b[0m\u001b[37m\u001b[0m \u001b[1m1s\u001b[0m 294ms/step - loss: 10502833.0000\n",
            "Epoch 43/50\n",
            "\u001b[1m2/2\u001b[0m \u001b[32m━━━━━━━━━━━━━━━━━━━━\u001b[0m\u001b[37m\u001b[0m \u001b[1m0s\u001b[0m 152ms/step - loss: 8162940.0000"
          ]
        }
      ]
    },
    {
      "cell_type": "code",
      "source": [],
      "metadata": {
        "id": "3yM-UaML1aki"
      },
      "execution_count": null,
      "outputs": []
    }
  ]
}