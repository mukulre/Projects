{
  "nbformat": 4,
  "nbformat_minor": 0,
  "metadata": {
    "colab": {
      "provenance": [],
      "authorship_tag": "ABX9TyPlECnmB+1+gRXvyd/8KUO5",
      "include_colab_link": true
    },
    "kernelspec": {
      "name": "python3",
      "display_name": "Python 3"
    },
    "language_info": {
      "name": "python"
    }
  },
  "cells": [
    {
      "cell_type": "markdown",
      "metadata": {
        "id": "view-in-github",
        "colab_type": "text"
      },
      "source": [
        "<a href=\"https://colab.research.google.com/github/mukulre/Projects/blob/main/Highest_paid_Athletes_Analysis_.ipynb\" target=\"_parent\"><img src=\"https://colab.research.google.com/assets/colab-badge.svg\" alt=\"Open In Colab\"/></a>"
      ]
    },
    {
      "cell_type": "code",
      "execution_count": 2,
      "metadata": {
        "colab": {
          "base_uri": "https://localhost:8080/",
          "height": 206
        },
        "id": "qGqcAc_vj3Kr",
        "outputId": "1d69290f-bce6-4fb4-e651-6e27d2907ff7"
      },
      "outputs": [
        {
          "output_type": "execute_result",
          "data": {
            "text/plain": [
              "  Rank               Name      Pay Salary/Winnings Endorsements   Sport  Year\n",
              "0   #1       Lionel Messi   $127 M           $92 M        $35 M  Soccer  2019\n",
              "1   #2  Cristiano Ronaldo   $109 M           $65 M        $44 M  Soccer  2019\n",
              "2   #3             Neymar   $105 M           $75 M        $30 M  Soccer  2019\n",
              "3   #4     Canelo Alvarez    $94 M           $92 M         $2 M  Boxing  2019\n",
              "4   #5      Roger Federer  $93.4 M          $7.4 M        $86 M  Tennis  2019"
            ],
            "text/html": [
              "\n",
              "  <div id=\"df-1014053c-8d69-404a-b1fe-73768c3014de\" class=\"colab-df-container\">\n",
              "    <div>\n",
              "<style scoped>\n",
              "    .dataframe tbody tr th:only-of-type {\n",
              "        vertical-align: middle;\n",
              "    }\n",
              "\n",
              "    .dataframe tbody tr th {\n",
              "        vertical-align: top;\n",
              "    }\n",
              "\n",
              "    .dataframe thead th {\n",
              "        text-align: right;\n",
              "    }\n",
              "</style>\n",
              "<table border=\"1\" class=\"dataframe\">\n",
              "  <thead>\n",
              "    <tr style=\"text-align: right;\">\n",
              "      <th></th>\n",
              "      <th>Rank</th>\n",
              "      <th>Name</th>\n",
              "      <th>Pay</th>\n",
              "      <th>Salary/Winnings</th>\n",
              "      <th>Endorsements</th>\n",
              "      <th>Sport</th>\n",
              "      <th>Year</th>\n",
              "    </tr>\n",
              "  </thead>\n",
              "  <tbody>\n",
              "    <tr>\n",
              "      <th>0</th>\n",
              "      <td>#1</td>\n",
              "      <td>Lionel Messi</td>\n",
              "      <td>$127 M</td>\n",
              "      <td>$92 M</td>\n",
              "      <td>$35 M</td>\n",
              "      <td>Soccer</td>\n",
              "      <td>2019</td>\n",
              "    </tr>\n",
              "    <tr>\n",
              "      <th>1</th>\n",
              "      <td>#2</td>\n",
              "      <td>Cristiano Ronaldo</td>\n",
              "      <td>$109 M</td>\n",
              "      <td>$65 M</td>\n",
              "      <td>$44 M</td>\n",
              "      <td>Soccer</td>\n",
              "      <td>2019</td>\n",
              "    </tr>\n",
              "    <tr>\n",
              "      <th>2</th>\n",
              "      <td>#3</td>\n",
              "      <td>Neymar</td>\n",
              "      <td>$105 M</td>\n",
              "      <td>$75 M</td>\n",
              "      <td>$30 M</td>\n",
              "      <td>Soccer</td>\n",
              "      <td>2019</td>\n",
              "    </tr>\n",
              "    <tr>\n",
              "      <th>3</th>\n",
              "      <td>#4</td>\n",
              "      <td>Canelo Alvarez</td>\n",
              "      <td>$94 M</td>\n",
              "      <td>$92 M</td>\n",
              "      <td>$2 M</td>\n",
              "      <td>Boxing</td>\n",
              "      <td>2019</td>\n",
              "    </tr>\n",
              "    <tr>\n",
              "      <th>4</th>\n",
              "      <td>#5</td>\n",
              "      <td>Roger Federer</td>\n",
              "      <td>$93.4 M</td>\n",
              "      <td>$7.4 M</td>\n",
              "      <td>$86 M</td>\n",
              "      <td>Tennis</td>\n",
              "      <td>2019</td>\n",
              "    </tr>\n",
              "  </tbody>\n",
              "</table>\n",
              "</div>\n",
              "    <div class=\"colab-df-buttons\">\n",
              "\n",
              "  <div class=\"colab-df-container\">\n",
              "    <button class=\"colab-df-convert\" onclick=\"convertToInteractive('df-1014053c-8d69-404a-b1fe-73768c3014de')\"\n",
              "            title=\"Convert this dataframe to an interactive table.\"\n",
              "            style=\"display:none;\">\n",
              "\n",
              "  <svg xmlns=\"http://www.w3.org/2000/svg\" height=\"24px\" viewBox=\"0 -960 960 960\">\n",
              "    <path d=\"M120-120v-720h720v720H120Zm60-500h600v-160H180v160Zm220 220h160v-160H400v160Zm0 220h160v-160H400v160ZM180-400h160v-160H180v160Zm440 0h160v-160H620v160ZM180-180h160v-160H180v160Zm440 0h160v-160H620v160Z\"/>\n",
              "  </svg>\n",
              "    </button>\n",
              "\n",
              "  <style>\n",
              "    .colab-df-container {\n",
              "      display:flex;\n",
              "      gap: 12px;\n",
              "    }\n",
              "\n",
              "    .colab-df-convert {\n",
              "      background-color: #E8F0FE;\n",
              "      border: none;\n",
              "      border-radius: 50%;\n",
              "      cursor: pointer;\n",
              "      display: none;\n",
              "      fill: #1967D2;\n",
              "      height: 32px;\n",
              "      padding: 0 0 0 0;\n",
              "      width: 32px;\n",
              "    }\n",
              "\n",
              "    .colab-df-convert:hover {\n",
              "      background-color: #E2EBFA;\n",
              "      box-shadow: 0px 1px 2px rgba(60, 64, 67, 0.3), 0px 1px 3px 1px rgba(60, 64, 67, 0.15);\n",
              "      fill: #174EA6;\n",
              "    }\n",
              "\n",
              "    .colab-df-buttons div {\n",
              "      margin-bottom: 4px;\n",
              "    }\n",
              "\n",
              "    [theme=dark] .colab-df-convert {\n",
              "      background-color: #3B4455;\n",
              "      fill: #D2E3FC;\n",
              "    }\n",
              "\n",
              "    [theme=dark] .colab-df-convert:hover {\n",
              "      background-color: #434B5C;\n",
              "      box-shadow: 0px 1px 3px 1px rgba(0, 0, 0, 0.15);\n",
              "      filter: drop-shadow(0px 1px 2px rgba(0, 0, 0, 0.3));\n",
              "      fill: #FFFFFF;\n",
              "    }\n",
              "  </style>\n",
              "\n",
              "    <script>\n",
              "      const buttonEl =\n",
              "        document.querySelector('#df-1014053c-8d69-404a-b1fe-73768c3014de button.colab-df-convert');\n",
              "      buttonEl.style.display =\n",
              "        google.colab.kernel.accessAllowed ? 'block' : 'none';\n",
              "\n",
              "      async function convertToInteractive(key) {\n",
              "        const element = document.querySelector('#df-1014053c-8d69-404a-b1fe-73768c3014de');\n",
              "        const dataTable =\n",
              "          await google.colab.kernel.invokeFunction('convertToInteractive',\n",
              "                                                    [key], {});\n",
              "        if (!dataTable) return;\n",
              "\n",
              "        const docLinkHtml = 'Like what you see? Visit the ' +\n",
              "          '<a target=\"_blank\" href=https://colab.research.google.com/notebooks/data_table.ipynb>data table notebook</a>'\n",
              "          + ' to learn more about interactive tables.';\n",
              "        element.innerHTML = '';\n",
              "        dataTable['output_type'] = 'display_data';\n",
              "        await google.colab.output.renderOutput(dataTable, element);\n",
              "        const docLink = document.createElement('div');\n",
              "        docLink.innerHTML = docLinkHtml;\n",
              "        element.appendChild(docLink);\n",
              "      }\n",
              "    </script>\n",
              "  </div>\n",
              "\n",
              "\n",
              "<div id=\"df-c007415f-2c85-48df-bfea-9db7c15a94c1\">\n",
              "  <button class=\"colab-df-quickchart\" onclick=\"quickchart('df-c007415f-2c85-48df-bfea-9db7c15a94c1')\"\n",
              "            title=\"Suggest charts\"\n",
              "            style=\"display:none;\">\n",
              "\n",
              "<svg xmlns=\"http://www.w3.org/2000/svg\" height=\"24px\"viewBox=\"0 0 24 24\"\n",
              "     width=\"24px\">\n",
              "    <g>\n",
              "        <path d=\"M19 3H5c-1.1 0-2 .9-2 2v14c0 1.1.9 2 2 2h14c1.1 0 2-.9 2-2V5c0-1.1-.9-2-2-2zM9 17H7v-7h2v7zm4 0h-2V7h2v10zm4 0h-2v-4h2v4z\"/>\n",
              "    </g>\n",
              "</svg>\n",
              "  </button>\n",
              "\n",
              "<style>\n",
              "  .colab-df-quickchart {\n",
              "      --bg-color: #E8F0FE;\n",
              "      --fill-color: #1967D2;\n",
              "      --hover-bg-color: #E2EBFA;\n",
              "      --hover-fill-color: #174EA6;\n",
              "      --disabled-fill-color: #AAA;\n",
              "      --disabled-bg-color: #DDD;\n",
              "  }\n",
              "\n",
              "  [theme=dark] .colab-df-quickchart {\n",
              "      --bg-color: #3B4455;\n",
              "      --fill-color: #D2E3FC;\n",
              "      --hover-bg-color: #434B5C;\n",
              "      --hover-fill-color: #FFFFFF;\n",
              "      --disabled-bg-color: #3B4455;\n",
              "      --disabled-fill-color: #666;\n",
              "  }\n",
              "\n",
              "  .colab-df-quickchart {\n",
              "    background-color: var(--bg-color);\n",
              "    border: none;\n",
              "    border-radius: 50%;\n",
              "    cursor: pointer;\n",
              "    display: none;\n",
              "    fill: var(--fill-color);\n",
              "    height: 32px;\n",
              "    padding: 0;\n",
              "    width: 32px;\n",
              "  }\n",
              "\n",
              "  .colab-df-quickchart:hover {\n",
              "    background-color: var(--hover-bg-color);\n",
              "    box-shadow: 0 1px 2px rgba(60, 64, 67, 0.3), 0 1px 3px 1px rgba(60, 64, 67, 0.15);\n",
              "    fill: var(--button-hover-fill-color);\n",
              "  }\n",
              "\n",
              "  .colab-df-quickchart-complete:disabled,\n",
              "  .colab-df-quickchart-complete:disabled:hover {\n",
              "    background-color: var(--disabled-bg-color);\n",
              "    fill: var(--disabled-fill-color);\n",
              "    box-shadow: none;\n",
              "  }\n",
              "\n",
              "  .colab-df-spinner {\n",
              "    border: 2px solid var(--fill-color);\n",
              "    border-color: transparent;\n",
              "    border-bottom-color: var(--fill-color);\n",
              "    animation:\n",
              "      spin 1s steps(1) infinite;\n",
              "  }\n",
              "\n",
              "  @keyframes spin {\n",
              "    0% {\n",
              "      border-color: transparent;\n",
              "      border-bottom-color: var(--fill-color);\n",
              "      border-left-color: var(--fill-color);\n",
              "    }\n",
              "    20% {\n",
              "      border-color: transparent;\n",
              "      border-left-color: var(--fill-color);\n",
              "      border-top-color: var(--fill-color);\n",
              "    }\n",
              "    30% {\n",
              "      border-color: transparent;\n",
              "      border-left-color: var(--fill-color);\n",
              "      border-top-color: var(--fill-color);\n",
              "      border-right-color: var(--fill-color);\n",
              "    }\n",
              "    40% {\n",
              "      border-color: transparent;\n",
              "      border-right-color: var(--fill-color);\n",
              "      border-top-color: var(--fill-color);\n",
              "    }\n",
              "    60% {\n",
              "      border-color: transparent;\n",
              "      border-right-color: var(--fill-color);\n",
              "    }\n",
              "    80% {\n",
              "      border-color: transparent;\n",
              "      border-right-color: var(--fill-color);\n",
              "      border-bottom-color: var(--fill-color);\n",
              "    }\n",
              "    90% {\n",
              "      border-color: transparent;\n",
              "      border-bottom-color: var(--fill-color);\n",
              "    }\n",
              "  }\n",
              "</style>\n",
              "\n",
              "  <script>\n",
              "    async function quickchart(key) {\n",
              "      const quickchartButtonEl =\n",
              "        document.querySelector('#' + key + ' button');\n",
              "      quickchartButtonEl.disabled = true;  // To prevent multiple clicks.\n",
              "      quickchartButtonEl.classList.add('colab-df-spinner');\n",
              "      try {\n",
              "        const charts = await google.colab.kernel.invokeFunction(\n",
              "            'suggestCharts', [key], {});\n",
              "      } catch (error) {\n",
              "        console.error('Error during call to suggestCharts:', error);\n",
              "      }\n",
              "      quickchartButtonEl.classList.remove('colab-df-spinner');\n",
              "      quickchartButtonEl.classList.add('colab-df-quickchart-complete');\n",
              "    }\n",
              "    (() => {\n",
              "      let quickchartButtonEl =\n",
              "        document.querySelector('#df-c007415f-2c85-48df-bfea-9db7c15a94c1 button');\n",
              "      quickchartButtonEl.style.display =\n",
              "        google.colab.kernel.accessAllowed ? 'block' : 'none';\n",
              "    })();\n",
              "  </script>\n",
              "</div>\n",
              "\n",
              "    </div>\n",
              "  </div>\n"
            ],
            "application/vnd.google.colaboratory.intrinsic+json": {
              "type": "dataframe",
              "variable_name": "df",
              "summary": "{\n  \"name\": \"df\",\n  \"rows\": 795,\n  \"fields\": [\n    {\n      \"column\": \"Rank\",\n      \"properties\": {\n        \"dtype\": \"category\",\n        \"num_unique_values\": 194,\n        \"samples\": [\n          43,\n          \"#20\",\n          64\n        ],\n        \"semantic_type\": \"\",\n        \"description\": \"\"\n      }\n    },\n    {\n      \"column\": \"Name\",\n      \"properties\": {\n        \"dtype\": \"category\",\n        \"num_unique_values\": 300,\n        \"samples\": [\n          \"Kimi Raikkonen\",\n          \"Brandon Roy\",\n          \"David DeCastro\"\n        ],\n        \"semantic_type\": \"\",\n        \"description\": \"\"\n      }\n    },\n    {\n      \"column\": \"Pay\",\n      \"properties\": {\n        \"dtype\": \"category\",\n        \"num_unique_values\": 294,\n        \"samples\": [\n          \"$35 M\",\n          \"$65.4 M\",\n          \"$46.6 M\"\n        ],\n        \"semantic_type\": \"\",\n        \"description\": \"\"\n      }\n    },\n    {\n      \"column\": \"Salary/Winnings\",\n      \"properties\": {\n        \"dtype\": \"category\",\n        \"num_unique_values\": 297,\n        \"samples\": [\n          \"$14.6 M\",\n          \"$21.7 M\",\n          \"$15 M\"\n        ],\n        \"semantic_type\": \"\",\n        \"description\": \"\"\n      }\n    },\n    {\n      \"column\": \"Endorsements\",\n      \"properties\": {\n        \"dtype\": \"category\",\n        \"num_unique_values\": 100,\n        \"samples\": [\n          \"$0.8 M\",\n          \"$52 M\",\n          \"$800 K\"\n        ],\n        \"semantic_type\": \"\",\n        \"description\": \"\"\n      }\n    },\n    {\n      \"column\": \"Sport\",\n      \"properties\": {\n        \"dtype\": \"category\",\n        \"num_unique_values\": 16,\n        \"samples\": [\n          \"Soccer\",\n          \"Boxing\",\n          \"Golf\"\n        ],\n        \"semantic_type\": \"\",\n        \"description\": \"\"\n      }\n    },\n    {\n      \"column\": \"Year\",\n      \"properties\": {\n        \"dtype\": \"number\",\n        \"std\": 2,\n        \"min\": 2012,\n        \"max\": 2019,\n        \"num_unique_values\": 8,\n        \"samples\": [\n          2018,\n          2014,\n          2019\n        ],\n        \"semantic_type\": \"\",\n        \"description\": \"\"\n      }\n    }\n  ]\n}"
            }
          },
          "metadata": {},
          "execution_count": 2
        }
      ],
      "source": [
        "import numpy as np # linear algebra\n",
        "import pandas as pd # data processing, CSV file I/O (e.g. pd.read_csv)\n",
        "import seaborn as sns\n",
        "import matplotlib.pyplot as plt\n",
        "sns.set(style=\"darkgrid\")\n",
        "plt.style.use(\"seaborn-v0_8-pastel\")\n",
        "\n",
        "df = pd.read_excel(\"Forbes Athlete List 2012-2019.xlsx\")\n",
        "df.head()"
      ]
    },
    {
      "cell_type": "code",
      "source": [
        "df.Rank = df.Rank.apply(lambda x: int(x.split(\"#\")[1]) if type(x) == str else x)\n",
        "df.Pay = df.Pay.apply(lambda x: float(x.split(\" \")[0].split(\"$\")[1]))\n",
        "df.Endorsements = df.Endorsements.apply(lambda x: float(x.split(\" \")[0].split(\"$\")[1]))\n",
        "df[\"Salary/Winnings\"].replace(\"-\",'$nan M',inplace=True)\n",
        "df[\"Salary/Winnings\"] = df[\"Salary/Winnings\"].apply(lambda x: float(x.split(\" \")[0].split(\"$\")[1]))\n",
        "df.Sport.replace({\"Soccer\":\"Football\",\n",
        "                  \"Football\":\"American Football\",\n",
        "                 \"Mixed Martial Arts\":\"MMA\",\n",
        "                 \"Auto racing\":\"Racing\",\n",
        "                  \"Auto Racing\":\"Racing\",\n",
        "                  \"Basketbal\":\"Basketball\",\n",
        "                 },inplace=True)\n",
        "\n",
        "df.columns = ['Rank', 'Name', 'Pay', 'Salary_Winnings', 'Endorsements', 'Sport', 'Year']"
      ],
      "metadata": {
        "colab": {
          "base_uri": "https://localhost:8080/"
        },
        "id": "kD1tlELEj61g",
        "outputId": "9c1002b9-8d54-4e88-a2d8-4c634f34c187"
      },
      "execution_count": 5,
      "outputs": [
        {
          "output_type": "stream",
          "name": "stderr",
          "text": [
            "<ipython-input-5-91ffd9fbfdef>:4: FutureWarning: A value is trying to be set on a copy of a DataFrame or Series through chained assignment using an inplace method.\n",
            "The behavior will change in pandas 3.0. This inplace method will never work because the intermediate object on which we are setting values always behaves as a copy.\n",
            "\n",
            "For example, when doing 'df[col].method(value, inplace=True)', try using 'df.method({col: value}, inplace=True)' or df[col] = df[col].method(value) instead, to perform the operation inplace on the original object.\n",
            "\n",
            "\n",
            "  df[\"Salary/Winnings\"].replace(\"-\",'$nan M',inplace=True)\n",
            "<ipython-input-5-91ffd9fbfdef>:6: FutureWarning: A value is trying to be set on a copy of a DataFrame or Series through chained assignment using an inplace method.\n",
            "The behavior will change in pandas 3.0. This inplace method will never work because the intermediate object on which we are setting values always behaves as a copy.\n",
            "\n",
            "For example, when doing 'df[col].method(value, inplace=True)', try using 'df.method({col: value}, inplace=True)' or df[col] = df[col].method(value) instead, to perform the operation inplace on the original object.\n",
            "\n",
            "\n",
            "  df.Sport.replace({\"Soccer\":\"Football\",\n"
          ]
        }
      ]
    },
    {
      "cell_type": "code",
      "source": [
        "df.groupby(\"Name\").first()[\"Sport\"].value_counts().plot(kind=\"pie\",autopct=\"%.0f%%\",figsize=(8,8),wedgeprops=dict(width=0.4),pctdistance=0.8)\n",
        "plt.ylabel(None)\n",
        "plt.title(\"Breakdown of Athletes by Sport\",fontweight=\"bold\")\n",
        "plt.show()"
      ],
      "metadata": {
        "colab": {
          "base_uri": "https://localhost:8080/",
          "height": 675
        },
        "id": "WayxFf8Ij63w",
        "outputId": "d644770c-e625-41dd-a564-2b173aeef240"
      },
      "execution_count": 4,
      "outputs": [
        {
          "output_type": "display_data",
          "data": {
            "text/plain": [
              "<Figure size 800x800 with 1 Axes>"
            ],
            "image/png": "[encoded data removed]"
          },
          "metadata": {}
        }
      ]
    },
    {
      "cell_type": "code",
      "source": [
        "df.Year = pd.to_datetime(df.Year,format=\"%Y\")"
      ],
      "metadata": {
        "id": "SQhIEVJWj66K"
      },
      "execution_count": 6,
      "outputs": []
    },
    {
      "cell_type": "code",
      "source": [
        "racing_bar_data = df.pivot_table(values=\"Pay\",index=\"Year\",columns=\"Name\")"
      ],
      "metadata": {
        "id": "T1W8oHmKj68d"
      },
      "execution_count": 7,
      "outputs": []
    },
    {
      "cell_type": "code",
      "source": [
        "racing_bar_data.columns[racing_bar_data.isnull().sum() == 0]"
      ],
      "metadata": {
        "colab": {
          "base_uri": "https://localhost:8080/"
        },
        "id": "dn-PtK-oj6-0",
        "outputId": "c72ec48a-e464-4875-9c08-be23569af59d"
      },
      "execution_count": 8,
      "outputs": [
        {
          "output_type": "execute_result",
          "data": {
            "text/plain": [
              "Index(['Carmelo Anthony', 'Cristiano Ronaldo', 'Dwight Howard',\n",
              "       'Justin Verlander', 'LeBron James', 'Lionel Messi', 'Phil Mickelson',\n",
              "       'Rafael Nadal', 'Roger Federer', 'Tiger Woods'],\n",
              "      dtype='object', name='Name')"
            ]
          },
          "metadata": {},
          "execution_count": 8
        }
      ]
    },
    {
      "cell_type": "code",
      "source": [
        "racing_bar_filled = racing_bar_data.interpolate(method=\"linear\").fillna(method=\"bfill\")\n",
        "racing_bar_filled = racing_bar_filled.cumsum()"
      ],
      "metadata": {
        "colab": {
          "base_uri": "https://localhost:8080/"
        },
        "id": "z2CBJP-Xj7BZ",
        "outputId": "c1aaf597-6ae6-4ef9-885d-05961a65080d"
      },
      "execution_count": 9,
      "outputs": [
        {
          "output_type": "stream",
          "name": "stderr",
          "text": [
            "<ipython-input-9-4eb3a44d8cad>:1: FutureWarning: DataFrame.fillna with 'method' is deprecated and will raise in a future version. Use obj.ffill() or obj.bfill() instead.\n",
            "  racing_bar_filled = racing_bar_data.interpolate(method=\"linear\").fillna(method=\"bfill\")\n"
          ]
        }
      ]
    },
    {
      "cell_type": "code",
      "source": [
        "racing_bar_filled = racing_bar_filled.resample(\"1D\").interpolate(method=\"linear\")[::7]"
      ],
      "metadata": {
        "id": "fLdZaEKvj7Do"
      },
      "execution_count": 10,
      "outputs": []
    },
    {
      "cell_type": "code",
      "source": [
        "from matplotlib.animation import FuncAnimation, FFMpegWriter\n",
        "\n",
        "selected  = racing_bar_filled.iloc[-1,:].sort_values(ascending=False)[:20].index\n",
        "data = racing_bar_filled[selected].round()\n",
        "\n",
        "fig,ax = plt.subplots(figsize=(9.3,7))\n",
        "fig.subplots_adjust(left=0.18)\n",
        "no_of_frames = data.shape[0] #Number of frames\n",
        "\n",
        "#initiate the barplot with the first rows of the dataframe\n",
        "bars = sns.barplot(y=data.columns,x=data.iloc[0,:],orient=\"h\",ax=ax)\n",
        "ax.set_xlim(0,1500)\n",
        "txts = [ax.text(0,i,0,va=\"center\") for i in range(data.shape[1])]\n",
        "title_txt = ax.text(650,-1,\"Date: \",fontsize=12)\n",
        "ax.set_xlabel(\"Pay (Millions USD)\")\n",
        "ax.set_ylabel(None)\n",
        "\n",
        "def animate(i):\n",
        "#     print(f\"i={i}/{no_of_frames}\")\n",
        "    #get i'th row of data\n",
        "    y = data.iloc[i,:]\n",
        "\n",
        "    #update title of the barplot axis\n",
        "    title_txt.set_text(f\"Date: {str(data.index[i].date())}\")\n",
        "\n",
        "    #update elements in both plots\n",
        "    for j, b, in enumerate(bars.patches):\n",
        "        #update each bar's height\n",
        "        b.set_width(y[j])\n",
        "\n",
        "        #update text for each bar (optional)\n",
        "        txts[j].set_text(f\"${y[j].astype(int)}M\")\n",
        "        txts[j].set_x(y[j])\n",
        "\n",
        "anim=FuncAnimation(fig,animate,repeat=False,frames=no_of_frames,interval=1,blit=False)\n",
        "anim.save('athletes.gif', writer='imagemagick', fps=120)\n",
        "plt.close(fig)"
      ],
      "metadata": {
        "colab": {
          "base_uri": "https://localhost:8080/"
        },
        "id": "3yEGRTaUsTT_",
        "outputId": "c54692ec-c8f6-4f15-e155-f95d65be91fa"
      },
      "execution_count": null,
      "outputs": [
        {
          "output_type": "stream",
          "name": "stderr",
          "text": [
            "WARNING:matplotlib.animation:MovieWriter imagemagick unavailable; using Pillow instead.\n",
            "<ipython-input-11-3f3b0e90a18f>:29: FutureWarning: Series.__getitem__ treating keys as positions is deprecated. In a future version, integer keys will always be treated as labels (consistent with DataFrame behavior). To access a value by position, use `ser.iloc[pos]`\n",
            "  b.set_width(y[j])\n",
            "<ipython-input-11-3f3b0e90a18f>:32: FutureWarning: Series.__getitem__ treating keys as positions is deprecated. In a future version, integer keys will always be treated as labels (consistent with DataFrame behavior). To access a value by position, use `ser.iloc[pos]`\n",
            "  txts[j].set_text(f\"${y[j].astype(int)}M\")\n",
            "<ipython-input-11-3f3b0e90a18f>:33: FutureWarning: Series.__getitem__ treating keys as positions is deprecated. In a future version, integer keys will always be treated as labels (consistent with DataFrame behavior). To access a value by position, use `ser.iloc[pos]`\n",
            "  txts[j].set_x(y[j])\n"
          ]
        }
      ]
    },
    {
      "cell_type": "code",
      "source": [],
      "metadata": {
        "id": "Fam-K2f6sYaI"
      },
      "execution_count": 1,
      "outputs": []
    },
    {
      "cell_type": "code",
      "source": [],
      "metadata": {
        "id": "IrPu8aY9sTWN"
      },
      "execution_count": null,
      "outputs": []
    },
    {
      "cell_type": "code",
      "source": [],
      "metadata": {
        "id": "dpu6W7DisTYW"
      },
      "execution_count": null,
      "outputs": []
    },
    {
      "cell_type": "code",
      "source": [],
      "metadata": {
        "id": "GRYtWoZSsTax"
      },
      "execution_count": null,
      "outputs": []
    },
    {
      "cell_type": "code",
      "source": [],
      "metadata": {
        "id": "YwY3_0XjsTeM"
      },
      "execution_count": null,
      "outputs": []
    }
  ]
}